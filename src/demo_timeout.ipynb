{
 "cells": [
  {
   "cell_type": "code",
   "execution_count": 1,
   "metadata": {},
   "outputs": [],
   "source": [
    "import sys, os\n",
    "\n",
    "MARIPOSA_PATH = \"/home/yizhou7/mariposa/\"\n",
    "\n",
    "sys.path.append(MARIPOSA_PATH + \"src\")\n",
    "os.chdir(MARIPOSA_PATH)\n",
    "\n",
    "from debugger.debugger import DbgMode\n",
    "from debugger.bench_viewer import BenchViewer\n",
    "from debugger.strainer import StrainerStatus\n",
    "from benchmark_consts import *"
   ]
  },
  {
   "cell_type": "code",
   "execution_count": 2,
   "metadata": {},
   "outputs": [
    {
     "name": "stdout",
     "output_type": "stream",
     "text": [
      "\u001b[93m[WARN] query 126aba85 has no experiment results \u001b[0m\n",
      "\u001b[93m[WARN] query 43fc9ccb has no experiment results \u001b[0m\n",
      "\u001b[93m[WARN] query c2e54238 has no experiment results \u001b[0m\n",
      "\u001b[93m[WARN] query 0e9411c0 has no experiment results \u001b[0m\n"
     ]
    },
    {
     "name": "stderr",
     "output_type": "stream",
     "text": [
      "\u001b[91m[ERROR] there are 4 queries with files, but no experiments done in timeout_9af86b2cd6.filtered.base.z3 \u001b[0m\n"
     ]
    },
    {
     "name": "stdout",
     "output_type": "stream",
     "text": [
      "exception:  \n"
     ]
    }
   ],
   "source": [
    "mv = BenchViewer(TIMEOUT_TARGETS, DbgMode.TIMEOUT)"
   ]
  },
  {
   "cell_type": "code",
   "execution_count": 3,
   "metadata": {},
   "outputs": [
    {
     "name": "stdout",
     "output_type": "stream",
     "text": [
      "| category                   |   count | percentage   |\n",
      "|----------------------------|---------|--------------|\n",
      "| StrainerStatus.NOT_TESTED  |     423 | 95.27 %      |\n",
      "| StrainerStatus.FINISHED    |      16 | 3.6 %        |\n",
      "| StrainerStatus.NOT_CREATED |       4 | 0.9 %        |\n",
      "| StrainerStatus.ERROR       |       1 | 0.23 %       |\n",
      "| total                      |     444 | 100.00 %     |\n"
     ]
    }
   ],
   "source": [
    "mv.status.print_status()"
   ]
  },
  {
   "cell_type": "code",
   "execution_count": null,
   "metadata": {},
   "outputs": [
    {
     "name": "stdout",
     "output_type": "stream",
     "text": [
      "fixable ratio (finished): 10 / 16\n"
     ]
    }
   ],
   "source": [
    "mv.print_fixed()"
   ]
  },
  {
   "cell_type": "code",
   "execution_count": 19,
   "metadata": {},
   "outputs": [
    {
     "name": "stdout",
     "output_type": "stream",
     "text": [
      "./src/debugger3.py -m timeout -i 5741fd7355 --create-project\n",
      "./src/debugger3.py -m timeout -i f77473cf84 --create-project\n",
      "./src/debugger3.py -m timeout -i 557e72f7ae --create-project\n",
      "./src/debugger3.py -m timeout -i d6c59c638c --create-project\n",
      "./src/debugger3.py -m timeout -i 0b346d0f87 --create-project\n",
      "./src/debugger3.py -m timeout -i f6db5998ec --create-project\n",
      "./src/debugger3.py -m timeout -i a0a67d231a --create-project\n",
      "./src/debugger3.py -m timeout -i 8cd183cebe --create-project\n",
      "./src/debugger3.py -m timeout -i a9102fb49c --create-project\n",
      "./src/debugger3.py -m timeout -i 391e1b7ac0 --create-project\n",
      "./src/debugger3.py -m timeout -i b231954c65 --create-project\n",
      "./src/debugger3.py -m timeout -i 7798796cc9 --create-project\n",
      "./src/debugger3.py -m timeout -i 1fc9b21323 --create-project\n",
      "./src/debugger3.py -m timeout -i d29cd9f10a --create-project\n",
      "./src/debugger3.py -m timeout -i 158bcfb113 --create-project\n",
      "./src/debugger3.py -m timeout -i d27df8e3bb --create-project\n",
      "./src/debugger3.py -m timeout -i 93954d4dad --create-project\n",
      "./src/debugger3.py -m timeout -i 3e5ee53876 --create-project\n",
      "./src/debugger3.py -m timeout -i f1fdf3be38 --create-project\n",
      "./src/debugger3.py -m timeout -i 59dd7b549d --create-project\n",
      "./src/debugger3.py -m timeout -i 5d39862f72 --create-project\n",
      "./src/debugger3.py -m timeout -i 07554b6280 --create-project\n",
      "./src/debugger3.py -m timeout -i 02d1b2ad7e --create-project\n",
      "./src/debugger3.py -m timeout -i ab52dadac1 --create-project\n",
      "./src/debugger3.py -m timeout -i a027d8f301 --create-project\n",
      "./src/debugger3.py -m timeout -i 75a47c804d --create-project\n",
      "./src/debugger3.py -m timeout -i 563f5abfa4 --create-project\n",
      "./src/debugger3.py -m timeout -i 2072de2763 --create-project\n",
      "./src/debugger3.py -m timeout -i f986501402 --create-project\n",
      "./src/debugger3.py -m timeout -i d8fb40a98b --create-project\n",
      "./src/debugger3.py -m timeout -i 61fbd4977f --create-project\n",
      "./src/debugger3.py -m timeout -i c9d38b4125 --create-project\n",
      "./src/debugger3.py -m timeout -i d9b4a1a745 --create-project\n",
      "./src/debugger3.py -m timeout -i 068433d26a --create-project\n",
      "./src/debugger3.py -m timeout -i b182e2a043 --create-project\n",
      "./src/debugger3.py -m timeout -i 5fbc06f886 --create-project\n",
      "./src/debugger3.py -m timeout -i 2ca7beb862 --create-project\n",
      "./src/debugger3.py -m timeout -i d82f76226c --create-project\n",
      "./src/debugger3.py -m timeout -i 45d0bd930b --create-project\n",
      "./src/debugger3.py -m timeout -i b96ad66775 --create-project\n",
      "./src/debugger3.py -m timeout -i 5dc26045ea --create-project\n",
      "./src/debugger3.py -m timeout -i a650f4205b --create-project\n",
      "./src/debugger3.py -m timeout -i d619135268 --create-project\n",
      "./src/debugger3.py -m timeout -i 39dea8e27a --create-project\n",
      "./src/debugger3.py -m timeout -i c4b6442111 --create-project\n",
      "./src/debugger3.py -m timeout -i 73e0c43c61 --create-project\n",
      "./src/debugger3.py -m timeout -i 9b9277bc39 --create-project\n",
      "./src/debugger3.py -m timeout -i f5fa3eaaf7 --create-project\n",
      "./src/debugger3.py -m timeout -i 06de62b08b --create-project\n"
     ]
    }
   ],
   "source": [
    "for q in mv.status[StrainerStatus.NOT_CREATED]:\n",
    "    print(\"./src/debugger3.py -m timeout -i\", mv[q].name_hash, \"--create-project\")"
   ]
  },
  {
   "cell_type": "code",
   "execution_count": 6,
   "metadata": {},
   "outputs": [
    {
     "name": "stdout",
     "output_type": "stream",
     "text": [
      "./src/carve_and_rerun.py data/projs/timeout_9f41cf9dd5/base.z3\n",
      "./src/carve_and_rerun.py data/projs/timeout_70d34357b4/base.z3\n",
      "./src/carve_and_rerun.py data/projs/timeout_e5c19b8ea5/base.z3\n",
      "./src/carve_and_rerun.py data/projs/timeout_60095b1a59/base.z3\n",
      "./src/carve_and_rerun.py data/projs/timeout_7e3368fab1/base.z3\n",
      "./src/carve_and_rerun.py data/projs/timeout_1f1391e20c/base.z3\n",
      "./src/carve_and_rerun.py data/projs/timeout_cc1d9c148f/base.z3\n",
      "./src/carve_and_rerun.py data/projs/timeout_b9896cbaf6/base.z3\n",
      "./src/carve_and_rerun.py data/projs/timeout_297c8f2526/base.z3\n",
      "./src/carve_and_rerun.py data/projs/timeout_9967bcf803/base.z3\n",
      "./src/carve_and_rerun.py data/projs/timeout_e65b46b51f/base.z3\n",
      "./src/carve_and_rerun.py data/projs/timeout_50e9564b05/base.z3\n",
      "./src/carve_and_rerun.py data/projs/timeout_f5d478ae5f/base.z3\n",
      "./src/carve_and_rerun.py data/projs/timeout_b5b0f8c2f2/base.z3\n",
      "./src/carve_and_rerun.py data/projs/timeout_6884529c21/base.z3\n",
      "./src/carve_and_rerun.py data/projs/timeout_9af86b2cd6/base.z3\n",
      "./src/carve_and_rerun.py data/projs/timeout_8e8d83f571/base.z3\n",
      "./src/carve_and_rerun.py data/projs/timeout_243ec915e0/base.z3\n",
      "./src/carve_and_rerun.py data/projs/timeout_3ab530aac4/base.z3\n",
      "./src/carve_and_rerun.py data/projs/timeout_db5b85130e/base.z3\n",
      "./src/carve_and_rerun.py data/projs/timeout_22bc3230fa/base.z3\n",
      "./src/carve_and_rerun.py data/projs/timeout_f6fde2cf65/base.z3\n",
      "./src/carve_and_rerun.py data/projs/timeout_38d93c5774/base.z3\n",
      "./src/carve_and_rerun.py data/projs/timeout_7b0fbd9a55/base.z3\n",
      "./src/carve_and_rerun.py data/projs/timeout_2ba7cc6a6a/base.z3\n",
      "./src/carve_and_rerun.py data/projs/timeout_7fd5899ce2/base.z3\n",
      "./src/carve_and_rerun.py data/projs/timeout_3ed37733c3/base.z3\n",
      "./src/carve_and_rerun.py data/projs/timeout_19e7b4a644/base.z3\n",
      "./src/carve_and_rerun.py data/projs/timeout_8031fd6ec8/base.z3\n",
      "./src/carve_and_rerun.py data/projs/timeout_0ef92feb14/base.z3\n",
      "./src/carve_and_rerun.py data/projs/timeout_1d32c4d524/base.z3\n",
      "./src/carve_and_rerun.py data/projs/timeout_16e535bb0c/base.z3\n",
      "./src/carve_and_rerun.py data/projs/timeout_de06634d5d/base.z3\n",
      "./src/carve_and_rerun.py data/projs/timeout_e93855aadd/base.z3\n",
      "./src/carve_and_rerun.py data/projs/timeout_83c57f0bcb/base.z3\n",
      "./src/carve_and_rerun.py data/projs/timeout_81f604e545/base.z3\n",
      "./src/carve_and_rerun.py data/projs/timeout_1673ca97a5/base.z3\n",
      "./src/carve_and_rerun.py data/projs/timeout_738511822f/base.z3\n",
      "./src/carve_and_rerun.py data/projs/timeout_ff4c3e8cab/base.z3\n",
      "./src/carve_and_rerun.py data/projs/timeout_f81ecefbe1/base.z3\n",
      "./src/carve_and_rerun.py data/projs/timeout_00d9c7f438/base.z3\n",
      "./src/carve_and_rerun.py data/projs/timeout_3c3d86031e/base.z3\n",
      "./src/carve_and_rerun.py data/projs/timeout_ef1ebd5d7d/base.z3\n",
      "./src/carve_and_rerun.py data/projs/timeout_6bbd2c848c/base.z3\n",
      "./src/carve_and_rerun.py data/projs/timeout_1ab6690346/base.z3\n",
      "./src/carve_and_rerun.py data/projs/timeout_0c40f30097/base.z3\n",
      "./src/carve_and_rerun.py data/projs/timeout_613f2c355d/base.z3\n",
      "./src/carve_and_rerun.py data/projs/timeout_72139a143b/base.z3\n",
      "./src/carve_and_rerun.py data/projs/timeout_11e4bbf583/base.z3\n",
      "./src/carve_and_rerun.py data/projs/timeout_b6e82319b9/base.z3\n",
      "./src/carve_and_rerun.py data/projs/timeout_0897ef84da/base.z3\n",
      "./src/carve_and_rerun.py data/projs/timeout_bf6d57d525/base.z3\n",
      "./src/carve_and_rerun.py data/projs/timeout_9825043af6/base.z3\n",
      "./src/carve_and_rerun.py data/projs/timeout_0defc27a3b/base.z3\n",
      "./src/carve_and_rerun.py data/projs/timeout_02ce0894ca/base.z3\n",
      "./src/carve_and_rerun.py data/projs/timeout_34eda2f999/base.z3\n",
      "./src/carve_and_rerun.py data/projs/timeout_c066e22df7/base.z3\n",
      "./src/carve_and_rerun.py data/projs/timeout_4040d2a20b/base.z3\n",
      "./src/carve_and_rerun.py data/projs/timeout_b8ed14e0c5/base.z3\n",
      "./src/carve_and_rerun.py data/projs/timeout_cdfc45fd41/base.z3\n",
      "./src/carve_and_rerun.py data/projs/timeout_72d4708532/base.z3\n",
      "./src/carve_and_rerun.py data/projs/timeout_0c00bb9db6/base.z3\n",
      "./src/carve_and_rerun.py data/projs/timeout_adf9eda1ef/base.z3\n",
      "./src/carve_and_rerun.py data/projs/timeout_1996525606/base.z3\n",
      "./src/carve_and_rerun.py data/projs/timeout_1c02a6059f/base.z3\n",
      "./src/carve_and_rerun.py data/projs/timeout_e41d0ee45e/base.z3\n",
      "./src/carve_and_rerun.py data/projs/timeout_667b2b80fe/base.z3\n",
      "./src/carve_and_rerun.py data/projs/timeout_6f6c55d971/base.z3\n",
      "./src/carve_and_rerun.py data/projs/timeout_8a59d4481f/base.z3\n",
      "./src/carve_and_rerun.py data/projs/timeout_7eea650229/base.z3\n",
      "./src/carve_and_rerun.py data/projs/timeout_bfa5905941/base.z3\n",
      "./src/carve_and_rerun.py data/projs/timeout_3b1c756824/base.z3\n",
      "./src/carve_and_rerun.py data/projs/timeout_f335e72a88/base.z3\n",
      "./src/carve_and_rerun.py data/projs/timeout_6b83ccf507/base.z3\n",
      "./src/carve_and_rerun.py data/projs/timeout_5fbd6f43b7/base.z3\n",
      "./src/carve_and_rerun.py data/projs/timeout_a9ba4f3553/base.z3\n",
      "./src/carve_and_rerun.py data/projs/timeout_2cbf19182c/base.z3\n",
      "./src/carve_and_rerun.py data/projs/timeout_5af6d28737/base.z3\n",
      "./src/carve_and_rerun.py data/projs/timeout_740fdc77a1/base.z3\n",
      "./src/carve_and_rerun.py data/projs/timeout_0cfa69df01/base.z3\n",
      "./src/carve_and_rerun.py data/projs/timeout_68aa54b124/base.z3\n",
      "./src/carve_and_rerun.py data/projs/timeout_e9080f3e47/base.z3\n",
      "./src/carve_and_rerun.py data/projs/timeout_28b317196a/base.z3\n",
      "./src/carve_and_rerun.py data/projs/timeout_e1c4753770/base.z3\n",
      "./src/carve_and_rerun.py data/projs/timeout_630625681a/base.z3\n",
      "./src/carve_and_rerun.py data/projs/timeout_30af6a3633/base.z3\n",
      "./src/carve_and_rerun.py data/projs/timeout_c97090bb09/base.z3\n"
     ]
    }
   ],
   "source": [
    "for q in mv.status[StrainerStatus.NOT_TESTED]:\n",
    "    print(\"./src/carve_and_rerun.py\", mv[q].strainer.test_dir)"
   ]
  },
  {
   "cell_type": "code",
   "execution_count": 20,
   "metadata": {},
   "outputs": [
    {
     "data": {
      "text/plain": [
       "{'data/projs/bench_unstable/base.z3/d_fvbkv--Impl-BookkeepingImpl.i.dfy.Impl__BookkeepingImpl.__default.writeBookkeepingNoSuccsUpdate.smt2',\n",
       " 'data/projs/bench_unstable/base.z3/d_fvbkv--lib-Buckets-BucketWeights.i.dfy.Impl__BucketWeights.__default.WeightKeyListFlatten.smt2',\n",
       " 'data/projs/bench_unstable/base.z3/d_fvbkv--lib-DataStructures-BtreeModel.i.dfy.Impl__BtreeModel.__default.SplitChildOfIndexPreservesAllKeys.smt2',\n",
       " 'data/projs/bench_unstable/base.z3/d_lvbkv--BlockCacheSystem-BlockSystem.i.dfy.Impl__BlockSystem.__default.NewRequestReadNodeDoesntOverlap.smt2',\n",
       " 'data/projs/bench_unstable/base.z3/d_lvbkv--Impl-GrowModel.i.dfy.Impl__GrowModel.__default.growCorrect.smt2',\n",
       " 'data/projs/bench_unstable/base.z3/d_lvbkv--MapSpec-TSJMap_Refines_ThreeStateVersionedMap.i.dfy.Impl__TSJMap__Refines__ThreeStateVersionedMap.__default.RefinesMove3.smt2'}"
      ]
     },
     "execution_count": 20,
     "metadata": {},
     "output_type": "execute_result"
    }
   ],
   "source": [
    "mv.fixable"
   ]
  },
  {
   "cell_type": "code",
   "execution_count": null,
   "metadata": {},
   "outputs": [],
   "source": []
  }
 ],
 "metadata": {
  "kernelspec": {
   "display_name": "Python 3",
   "language": "python",
   "name": "python3"
  },
  "language_info": {
   "codemirror_mode": {
    "name": "ipython",
    "version": 3
   },
   "file_extension": ".py",
   "mimetype": "text/x-python",
   "name": "python",
   "nbconvert_exporter": "python",
   "pygments_lexer": "ipython3",
   "version": "3.8.10"
  }
 },
 "nbformat": 4,
 "nbformat_minor": 2
}
