{
 "cells": [
  {
   "cell_type": "code",
   "execution_count": 1,
   "metadata": {},
   "outputs": [],
   "source": [
    "import sys, os\n",
    "\n",
    "MARIPOSA_PATH = \"/home/yizhou7/mariposa/\"\n",
    "\n",
    "sys.path.append(MARIPOSA_PATH + \"src\")\n",
    "os.chdir(MARIPOSA_PATH)\n",
    "\n",
    "from debugger.debugger import DbgMode\n",
    "from debugger.bench_viewer import BenchViewer\n",
    "from debugger.strainer import StrainerStatus\n",
    "from benchmark_consts import *"
   ]
  },
  {
   "cell_type": "code",
   "execution_count": 2,
   "metadata": {},
   "outputs": [
    {
     "name": "stderr",
     "output_type": "stream",
     "text": [
      "\u001b[94m[DEBUG] [edit] proof path: dbg/7b0fbd9a55/proofs/rename.14632067263496892820.proof \u001b[0m\n",
      "\u001b[94m[DEBUG] [edit] trace path: dbg/7b0fbd9a55/traces/rename.18006175277736048809 \u001b[0m\n"
     ]
    },
    {
     "name": "stdout",
     "output_type": "stream",
     "text": [
      "5bfc22beec09a1b6b6c97b8bfc068ad0.pickle\n",
      "\u001b[93m[WARN] [differ] qid constructor_accessor_axiom not found in dbg/7b0fbd9a55/orig.smt2 \u001b[0m\n",
      "\u001b[93m[WARN] [differ] qid <null> not found in dbg/7b0fbd9a55/orig.smt2 \u001b[0m\n",
      "9521d497ab084b273c56a7df14c1ca50.pickle\n"
     ]
    },
    {
     "name": "stderr",
     "output_type": "stream",
     "text": [
      "\u001b[94m[DEBUG] saving cache at 7b0fbd9a55.to.report \u001b[0m\n",
      "\u001b[94m[DEBUG] [edit] proof path: dbg/8e8d83f571/proofs/shuffle.10283284073797848268.proof \u001b[0m\n",
      "\u001b[94m[DEBUG] [edit] trace path: dbg/8e8d83f571/traces/rename.7096668465266977673 \u001b[0m\n"
     ]
    },
    {
     "name": "stdout",
     "output_type": "stream",
     "text": [
      "\u001b[93m[WARN] [differ] qid constructor_accessor_axiom not found in dbg/8e8d83f571/orig.smt2 \u001b[0m\n",
      "\u001b[93m[WARN] [differ] qid unnamed not found in dbg/8e8d83f571/orig.smt2 \u001b[0m\n",
      "\u001b[93m[WARN] [differ] qid is-Prims.equals not found in dbg/8e8d83f571/orig.smt2 \u001b[0m\n",
      "\u001b[93m[WARN] [differ] qid is-Prims.h_equals not found in dbg/8e8d83f571/orig.smt2 \u001b[0m\n",
      "\u001b[93m[WARN] [differ] qid is-Prims.c_and not found in dbg/8e8d83f571/orig.smt2 \u001b[0m\n",
      "\u001b[93m[WARN] [differ] qid is-Prims.c_or not found in dbg/8e8d83f571/orig.smt2 \u001b[0m\n",
      "\u001b[93m[WARN] [differ] qid is-Prims.dtuple2 not found in dbg/8e8d83f571/orig.smt2 \u001b[0m\n",
      "\u001b[93m[WARN] [differ] qid is-Prims.list not found in dbg/8e8d83f571/orig.smt2 \u001b[0m\n",
      "\u001b[93m[WARN] [differ] qid is-FStar.Pervasives.Native.option not found in dbg/8e8d83f571/orig.smt2 \u001b[0m\n",
      "\u001b[93m[WARN] [differ] qid is-FStar.Pervasives.Native.tuple2 not found in dbg/8e8d83f571/orig.smt2 \u001b[0m\n",
      "\u001b[93m[WARN] [differ] qid is-FStar.Pervasives.Native.tuple3 not found in dbg/8e8d83f571/orig.smt2 \u001b[0m\n",
      "\u001b[93m[WARN] [differ] qid is-FStar.Pervasives.Native.tuple4 not found in dbg/8e8d83f571/orig.smt2 \u001b[0m\n",
      "\u001b[93m[WARN] [differ] qid is-FStar.Pervasives.Native.tuple5 not found in dbg/8e8d83f571/orig.smt2 \u001b[0m\n",
      "\u001b[93m[WARN] [differ] qid is-FStar.Pervasives.Native.tuple6 not found in dbg/8e8d83f571/orig.smt2 \u001b[0m\n",
      "\u001b[93m[WARN] [differ] qid is-FStar.Pervasives.Native.tuple7 not found in dbg/8e8d83f571/orig.smt2 \u001b[0m\n",
      "\u001b[93m[WARN] [differ] qid is-FStar.Pervasives.Native.tuple8 not found in dbg/8e8d83f571/orig.smt2 \u001b[0m\n",
      "\u001b[93m[WARN] [differ] qid is-FStar.Pervasives.Native.tuple9 not found in dbg/8e8d83f571/orig.smt2 \u001b[0m\n",
      "\u001b[93m[WARN] [differ] qid is-FStar.Pervasives.Native.tuple10 not found in dbg/8e8d83f571/orig.smt2 \u001b[0m\n",
      "\u001b[93m[WARN] [differ] qid is-FStar.Pervasives.Native.tuple11 not found in dbg/8e8d83f571/orig.smt2 \u001b[0m\n",
      "\u001b[93m[WARN] [differ] qid is-FStar.Pervasives.Native.tuple12 not found in dbg/8e8d83f571/orig.smt2 \u001b[0m\n",
      "\u001b[93m[WARN] [differ] qid is-FStar.Pervasives.Native.tuple13 not found in dbg/8e8d83f571/orig.smt2 \u001b[0m\n",
      "\u001b[93m[WARN] [differ] qid is-FStar.Pervasives.Native.tuple14 not found in dbg/8e8d83f571/orig.smt2 \u001b[0m\n",
      "\u001b[93m[WARN] [differ] qid is-FStar.Pervasives.result not found in dbg/8e8d83f571/orig.smt2 \u001b[0m\n",
      "\u001b[93m[WARN] [differ] qid is-FStar.Pervasives.either not found in dbg/8e8d83f571/orig.smt2 \u001b[0m\n",
      "\u001b[93m[WARN] [differ] qid is-FStar.Pervasives.dtuple3 not found in dbg/8e8d83f571/orig.smt2 \u001b[0m\n",
      "\u001b[93m[WARN] [differ] qid is-FStar.Pervasives.dtuple4 not found in dbg/8e8d83f571/orig.smt2 \u001b[0m\n",
      "\u001b[93m[WARN] [differ] qid is-FStar.Monotonic.HyperStack.mreference_ not found in dbg/8e8d83f571/orig.smt2 \u001b[0m\n",
      "\u001b[93m[WARN] [differ] qid is-FStar.Calc.calc_proof not found in dbg/8e8d83f571/orig.smt2 \u001b[0m\n",
      "\u001b[93m[WARN] [differ] qid is-FStar.Calc.calc_pack not found in dbg/8e8d83f571/orig.smt2 \u001b[0m\n",
      "\u001b[93m[WARN] [differ] qid is-FStar.ModifiesGen.cls not found in dbg/8e8d83f571/orig.smt2 \u001b[0m\n",
      "\u001b[93m[WARN] [differ] qid is-FStar.Tactics.Result.__result not found in dbg/8e8d83f571/orig.smt2 \u001b[0m\n",
      "\u001b[93m[WARN] [differ] qid is-LowParse.Slice.slice not found in dbg/8e8d83f571/orig.smt2 \u001b[0m\n",
      "\u001b[93m[WARN] [differ] qid is-LowParse.Low.Base.Spec.clens not found in dbg/8e8d83f571/orig.smt2 \u001b[0m\n",
      "\u001b[93m[WARN] [differ] qid is-LowParse.Low.Base.irepr not found in dbg/8e8d83f571/orig.smt2 \u001b[0m\n",
      "0c30b6b04bb6fb69546f2bc58ae52410.pickle\n"
     ]
    },
    {
     "name": "stderr",
     "output_type": "stream",
     "text": [
      "\u001b[94m[DEBUG] saving cache at 8e8d83f571.to.report \u001b[0m\n",
      "\u001b[94m[DEBUG] [edit] proof path: dbg/38d93c5774/proofs/reseed.14025595802272513717.proof \u001b[0m\n",
      "\u001b[94m[DEBUG] [edit] trace path: dbg/38d93c5774/traces/rename.12939028439328042157 \u001b[0m\n"
     ]
    },
    {
     "name": "stdout",
     "output_type": "stream",
     "text": [
      "\u001b[93m[WARN] [differ] qid constructor_accessor_axiom not found in dbg/38d93c5774/orig.smt2 \u001b[0m\n",
      "\u001b[93m[WARN] [differ] qid <null> not found in dbg/38d93c5774/orig.smt2 \u001b[0m\n",
      "a79c70e4683ba6cbc20c9f59ca42f563.pickle\n"
     ]
    },
    {
     "name": "stderr",
     "output_type": "stream",
     "text": [
      "\u001b[94m[DEBUG] saving cache at 38d93c5774.to.report \u001b[0m\n",
      "\u001b[94m[DEBUG] [edit] proof path: dbg/f6fde2cf65/proofs/reseed.4534775979751038962.proof \u001b[0m\n",
      "\u001b[94m[DEBUG] [edit] trace path: dbg/f6fde2cf65/traces/reseed.4162212593728463294 \u001b[0m\n"
     ]
    },
    {
     "name": "stdout",
     "output_type": "stream",
     "text": [
      "\u001b[93m[WARN] [differ] qid constructor_accessor_axiom not found in dbg/f6fde2cf65/orig.smt2 \u001b[0m\n",
      "\u001b[93m[WARN] [differ] qid <null> not found in dbg/f6fde2cf65/orig.smt2 \u001b[0m\n",
      "65b5f359d2f544b3e98c76c53d520a52.pickle\n"
     ]
    },
    {
     "name": "stderr",
     "output_type": "stream",
     "text": [
      "\u001b[94m[DEBUG] saving cache at f6fde2cf65.to.report \u001b[0m\n",
      "\u001b[94m[DEBUG] [edit] proof path: dbg/22bc3230fa/proofs/shuffle.15931267130854031163.proof \u001b[0m\n",
      "\u001b[94m[DEBUG] [edit] trace path: dbg/22bc3230fa/traces/reseed.11453502991186387410 \u001b[0m\n"
     ]
    },
    {
     "name": "stdout",
     "output_type": "stream",
     "text": [
      "\u001b[93m[WARN] [differ] qid constructor_accessor_axiom not found in dbg/22bc3230fa/orig.smt2 \u001b[0m\n",
      "190591d78eebd972c4296f2de7598861.pickle\n"
     ]
    },
    {
     "name": "stderr",
     "output_type": "stream",
     "text": [
      "\u001b[94m[DEBUG] saving cache at 22bc3230fa.to.report \u001b[0m\n",
      "\u001b[94m[DEBUG] [edit] proof path: dbg/243ec915e0/proofs/reseed.17443720775100887751.proof \u001b[0m\n",
      "\u001b[94m[DEBUG] [edit] trace path: dbg/243ec915e0/traces/reseed.7340832414754067377 \u001b[0m\n"
     ]
    },
    {
     "name": "stdout",
     "output_type": "stream",
     "text": [
      "\u001b[93m[WARN] [differ] qid constructor_accessor_axiom not found in dbg/243ec915e0/orig.smt2 \u001b[0m\n",
      "7be4c7c142ee4b6a0f1bbd42e3061e63.pickle\n"
     ]
    },
    {
     "name": "stderr",
     "output_type": "stream",
     "text": [
      "\u001b[94m[DEBUG] saving cache at 243ec915e0.to.report \u001b[0m\n",
      "\u001b[94m[DEBUG] [edit] proof path: dbg/3ab530aac4/proofs/reseed.3444949908348598371.proof \u001b[0m\n",
      "\u001b[94m[DEBUG] [edit] trace path: dbg/3ab530aac4/traces/rename.5394527791147747076 \u001b[0m\n"
     ]
    },
    {
     "name": "stdout",
     "output_type": "stream",
     "text": [
      "\u001b[93m[WARN] [differ] qid constructor_accessor_axiom not found in dbg/3ab530aac4/orig.smt2 \u001b[0m\n",
      "\u001b[93m[WARN] [differ] qid <null> not found in dbg/3ab530aac4/orig.smt2 \u001b[0m\n",
      "94e94f00cc348f64e015dcb8f2a57499.pickle\n"
     ]
    },
    {
     "name": "stderr",
     "output_type": "stream",
     "text": [
      "\u001b[94m[DEBUG] saving cache at 3ab530aac4.to.report \u001b[0m\n",
      "\u001b[94m[DEBUG] [edit] proof path: dbg/9af86b2cd6/proofs/shuffle.11647854808441920176.proof \u001b[0m\n",
      "\u001b[94m[DEBUG] [edit] trace path: dbg/9af86b2cd6/traces/reseed.17739796024657690122 \u001b[0m\n"
     ]
    },
    {
     "name": "stdout",
     "output_type": "stream",
     "text": [
      "\u001b[93m[WARN] [differ] qid constructor_accessor_axiom not found in dbg/9af86b2cd6/orig.smt2 \u001b[0m\n",
      "4a3168bf223166eb4af599dbed05558e.pickle\n"
     ]
    },
    {
     "name": "stderr",
     "output_type": "stream",
     "text": [
      "\u001b[94m[DEBUG] saving cache at 9af86b2cd6.to.report \u001b[0m\n",
      "\u001b[94m[DEBUG] [edit] proof path: dbg/db5b85130e/proofs/reseed.15804967991934376171.proof \u001b[0m\n",
      "\u001b[94m[DEBUG] [edit] trace path: dbg/db5b85130e/traces/reseed.10207241081034552056 \u001b[0m\n"
     ]
    },
    {
     "name": "stdout",
     "output_type": "stream",
     "text": [
      "\u001b[93m[WARN] [differ] qid constructor_accessor_axiom not found in dbg/db5b85130e/orig.smt2 \u001b[0m\n",
      "\u001b[93m[WARN] [differ] qid <null> not found in dbg/db5b85130e/orig.smt2 \u001b[0m\n"
     ]
    },
    {
     "name": "stderr",
     "output_type": "stream",
     "text": [
      "\u001b[94m[DEBUG] saving cache at db5b85130e.to.report \u001b[0m\n"
     ]
    }
   ],
   "source": [
    "mv = BenchViewer(TIMEOUT_TARGETS, DbgMode.TIMEOUT)"
   ]
  },
  {
   "cell_type": "code",
   "execution_count": 3,
   "metadata": {},
   "outputs": [
    {
     "name": "stdout",
     "output_type": "stream",
     "text": [
      "| category                  |   count | percentage   |\n",
      "|---------------------------|---------|--------------|\n",
      "| StrainerStatus.NOT_TESTED |     418 | 94.14 %      |\n",
      "| StrainerStatus.FINISHED   |      25 | 5.63 %       |\n",
      "| StrainerStatus.UNFILTERED |       1 | 0.23 %       |\n",
      "| total                     |     444 | 100.00 %     |\n"
     ]
    }
   ],
   "source": [
    "mv.status.print_status()"
   ]
  },
  {
   "cell_type": "code",
   "execution_count": 7,
   "metadata": {},
   "outputs": [
    {
     "name": "stdout",
     "output_type": "stream",
     "text": [
      "0.6\n"
     ]
    }
   ],
   "source": [
    "print(len(mv.fixable)/len(mv.status[StrainerStatus.FINISHED]))"
   ]
  },
  {
   "cell_type": "code",
   "execution_count": 8,
   "metadata": {},
   "outputs": [],
   "source": [
    "for q in mv.status[StrainerStatus.NOT_CREATED]:\n",
    "    print(\"./src/debugger3.py -m timeout -i\", mv[q].name_hash, \"--create-project\")"
   ]
  },
  {
   "cell_type": "code",
   "execution_count": 6,
   "metadata": {},
   "outputs": [
    {
     "name": "stdout",
     "output_type": "stream",
     "text": [
      "./src/carve_and_rerun.py data/projs/timeout_9f41cf9dd5/base.z3\n",
      "./src/carve_and_rerun.py data/projs/timeout_70d34357b4/base.z3\n",
      "./src/carve_and_rerun.py data/projs/timeout_e5c19b8ea5/base.z3\n",
      "./src/carve_and_rerun.py data/projs/timeout_60095b1a59/base.z3\n",
      "./src/carve_and_rerun.py data/projs/timeout_7e3368fab1/base.z3\n",
      "./src/carve_and_rerun.py data/projs/timeout_1f1391e20c/base.z3\n",
      "./src/carve_and_rerun.py data/projs/timeout_cc1d9c148f/base.z3\n",
      "./src/carve_and_rerun.py data/projs/timeout_b9896cbaf6/base.z3\n",
      "./src/carve_and_rerun.py data/projs/timeout_297c8f2526/base.z3\n",
      "./src/carve_and_rerun.py data/projs/timeout_9967bcf803/base.z3\n",
      "./src/carve_and_rerun.py data/projs/timeout_e65b46b51f/base.z3\n",
      "./src/carve_and_rerun.py data/projs/timeout_50e9564b05/base.z3\n",
      "./src/carve_and_rerun.py data/projs/timeout_f5d478ae5f/base.z3\n",
      "./src/carve_and_rerun.py data/projs/timeout_b5b0f8c2f2/base.z3\n",
      "./src/carve_and_rerun.py data/projs/timeout_6884529c21/base.z3\n",
      "./src/carve_and_rerun.py data/projs/timeout_9af86b2cd6/base.z3\n",
      "./src/carve_and_rerun.py data/projs/timeout_8e8d83f571/base.z3\n",
      "./src/carve_and_rerun.py data/projs/timeout_243ec915e0/base.z3\n",
      "./src/carve_and_rerun.py data/projs/timeout_3ab530aac4/base.z3\n",
      "./src/carve_and_rerun.py data/projs/timeout_db5b85130e/base.z3\n",
      "./src/carve_and_rerun.py data/projs/timeout_22bc3230fa/base.z3\n",
      "./src/carve_and_rerun.py data/projs/timeout_f6fde2cf65/base.z3\n",
      "./src/carve_and_rerun.py data/projs/timeout_38d93c5774/base.z3\n",
      "./src/carve_and_rerun.py data/projs/timeout_7b0fbd9a55/base.z3\n",
      "./src/carve_and_rerun.py data/projs/timeout_2ba7cc6a6a/base.z3\n",
      "./src/carve_and_rerun.py data/projs/timeout_7fd5899ce2/base.z3\n",
      "./src/carve_and_rerun.py data/projs/timeout_3ed37733c3/base.z3\n",
      "./src/carve_and_rerun.py data/projs/timeout_19e7b4a644/base.z3\n",
      "./src/carve_and_rerun.py data/projs/timeout_8031fd6ec8/base.z3\n",
      "./src/carve_and_rerun.py data/projs/timeout_0ef92feb14/base.z3\n",
      "./src/carve_and_rerun.py data/projs/timeout_1d32c4d524/base.z3\n",
      "./src/carve_and_rerun.py data/projs/timeout_16e535bb0c/base.z3\n",
      "./src/carve_and_rerun.py data/projs/timeout_de06634d5d/base.z3\n",
      "./src/carve_and_rerun.py data/projs/timeout_e93855aadd/base.z3\n",
      "./src/carve_and_rerun.py data/projs/timeout_83c57f0bcb/base.z3\n",
      "./src/carve_and_rerun.py data/projs/timeout_81f604e545/base.z3\n",
      "./src/carve_and_rerun.py data/projs/timeout_1673ca97a5/base.z3\n",
      "./src/carve_and_rerun.py data/projs/timeout_738511822f/base.z3\n",
      "./src/carve_and_rerun.py data/projs/timeout_ff4c3e8cab/base.z3\n",
      "./src/carve_and_rerun.py data/projs/timeout_f81ecefbe1/base.z3\n",
      "./src/carve_and_rerun.py data/projs/timeout_00d9c7f438/base.z3\n",
      "./src/carve_and_rerun.py data/projs/timeout_3c3d86031e/base.z3\n",
      "./src/carve_and_rerun.py data/projs/timeout_ef1ebd5d7d/base.z3\n",
      "./src/carve_and_rerun.py data/projs/timeout_6bbd2c848c/base.z3\n",
      "./src/carve_and_rerun.py data/projs/timeout_1ab6690346/base.z3\n",
      "./src/carve_and_rerun.py data/projs/timeout_0c40f30097/base.z3\n",
      "./src/carve_and_rerun.py data/projs/timeout_613f2c355d/base.z3\n",
      "./src/carve_and_rerun.py data/projs/timeout_72139a143b/base.z3\n",
      "./src/carve_and_rerun.py data/projs/timeout_11e4bbf583/base.z3\n",
      "./src/carve_and_rerun.py data/projs/timeout_b6e82319b9/base.z3\n",
      "./src/carve_and_rerun.py data/projs/timeout_0897ef84da/base.z3\n",
      "./src/carve_and_rerun.py data/projs/timeout_bf6d57d525/base.z3\n",
      "./src/carve_and_rerun.py data/projs/timeout_9825043af6/base.z3\n",
      "./src/carve_and_rerun.py data/projs/timeout_0defc27a3b/base.z3\n",
      "./src/carve_and_rerun.py data/projs/timeout_02ce0894ca/base.z3\n",
      "./src/carve_and_rerun.py data/projs/timeout_34eda2f999/base.z3\n",
      "./src/carve_and_rerun.py data/projs/timeout_c066e22df7/base.z3\n",
      "./src/carve_and_rerun.py data/projs/timeout_4040d2a20b/base.z3\n",
      "./src/carve_and_rerun.py data/projs/timeout_b8ed14e0c5/base.z3\n",
      "./src/carve_and_rerun.py data/projs/timeout_cdfc45fd41/base.z3\n",
      "./src/carve_and_rerun.py data/projs/timeout_72d4708532/base.z3\n",
      "./src/carve_and_rerun.py data/projs/timeout_0c00bb9db6/base.z3\n",
      "./src/carve_and_rerun.py data/projs/timeout_adf9eda1ef/base.z3\n",
      "./src/carve_and_rerun.py data/projs/timeout_1996525606/base.z3\n",
      "./src/carve_and_rerun.py data/projs/timeout_1c02a6059f/base.z3\n",
      "./src/carve_and_rerun.py data/projs/timeout_e41d0ee45e/base.z3\n",
      "./src/carve_and_rerun.py data/projs/timeout_667b2b80fe/base.z3\n",
      "./src/carve_and_rerun.py data/projs/timeout_6f6c55d971/base.z3\n",
      "./src/carve_and_rerun.py data/projs/timeout_8a59d4481f/base.z3\n",
      "./src/carve_and_rerun.py data/projs/timeout_7eea650229/base.z3\n",
      "./src/carve_and_rerun.py data/projs/timeout_bfa5905941/base.z3\n",
      "./src/carve_and_rerun.py data/projs/timeout_3b1c756824/base.z3\n",
      "./src/carve_and_rerun.py data/projs/timeout_f335e72a88/base.z3\n",
      "./src/carve_and_rerun.py data/projs/timeout_6b83ccf507/base.z3\n",
      "./src/carve_and_rerun.py data/projs/timeout_5fbd6f43b7/base.z3\n",
      "./src/carve_and_rerun.py data/projs/timeout_a9ba4f3553/base.z3\n",
      "./src/carve_and_rerun.py data/projs/timeout_2cbf19182c/base.z3\n",
      "./src/carve_and_rerun.py data/projs/timeout_5af6d28737/base.z3\n",
      "./src/carve_and_rerun.py data/projs/timeout_740fdc77a1/base.z3\n",
      "./src/carve_and_rerun.py data/projs/timeout_0cfa69df01/base.z3\n",
      "./src/carve_and_rerun.py data/projs/timeout_68aa54b124/base.z3\n",
      "./src/carve_and_rerun.py data/projs/timeout_e9080f3e47/base.z3\n",
      "./src/carve_and_rerun.py data/projs/timeout_28b317196a/base.z3\n",
      "./src/carve_and_rerun.py data/projs/timeout_e1c4753770/base.z3\n",
      "./src/carve_and_rerun.py data/projs/timeout_630625681a/base.z3\n",
      "./src/carve_and_rerun.py data/projs/timeout_30af6a3633/base.z3\n",
      "./src/carve_and_rerun.py data/projs/timeout_c97090bb09/base.z3\n"
     ]
    }
   ],
   "source": [
    "for q in mv.status[StrainerStatus.NOT_TESTED]:\n",
    "    print(\"./src/carve_and_rerun.py\", mv[q].strainer.test_dir)"
   ]
  },
  {
   "cell_type": "code",
   "execution_count": 20,
   "metadata": {},
   "outputs": [
    {
     "data": {
      "text/plain": [
       "{'data/projs/bench_unstable/base.z3/d_fvbkv--Impl-BookkeepingImpl.i.dfy.Impl__BookkeepingImpl.__default.writeBookkeepingNoSuccsUpdate.smt2',\n",
       " 'data/projs/bench_unstable/base.z3/d_fvbkv--lib-Buckets-BucketWeights.i.dfy.Impl__BucketWeights.__default.WeightKeyListFlatten.smt2',\n",
       " 'data/projs/bench_unstable/base.z3/d_fvbkv--lib-DataStructures-BtreeModel.i.dfy.Impl__BtreeModel.__default.SplitChildOfIndexPreservesAllKeys.smt2',\n",
       " 'data/projs/bench_unstable/base.z3/d_lvbkv--BlockCacheSystem-BlockSystem.i.dfy.Impl__BlockSystem.__default.NewRequestReadNodeDoesntOverlap.smt2',\n",
       " 'data/projs/bench_unstable/base.z3/d_lvbkv--Impl-GrowModel.i.dfy.Impl__GrowModel.__default.growCorrect.smt2',\n",
       " 'data/projs/bench_unstable/base.z3/d_lvbkv--MapSpec-TSJMap_Refines_ThreeStateVersionedMap.i.dfy.Impl__TSJMap__Refines__ThreeStateVersionedMap.__default.RefinesMove3.smt2'}"
      ]
     },
     "execution_count": 20,
     "metadata": {},
     "output_type": "execute_result"
    }
   ],
   "source": [
    "mv.fixable"
   ]
  },
  {
   "cell_type": "code",
   "execution_count": null,
   "metadata": {},
   "outputs": [],
   "source": []
  }
 ],
 "metadata": {
  "kernelspec": {
   "display_name": "Python 3",
   "language": "python",
   "name": "python3"
  },
  "language_info": {
   "codemirror_mode": {
    "name": "ipython",
    "version": 3
   },
   "file_extension": ".py",
   "mimetype": "text/x-python",
   "name": "python",
   "nbconvert_exporter": "python",
   "pygments_lexer": "ipython3",
   "version": "3.8.10"
  }
 },
 "nbformat": 4,
 "nbformat_minor": 2
}
