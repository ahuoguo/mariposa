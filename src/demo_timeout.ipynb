{
 "cells": [
  {
   "cell_type": "code",
   "execution_count": 1,
   "metadata": {},
   "outputs": [],
   "source": [
    "import sys, os\n",
    "\n",
    "MARIPOSA_PATH = \"/home/yizhou7/mariposa/\"\n",
    "\n",
    "sys.path.append(MARIPOSA_PATH + \"src\")\n",
    "os.chdir(MARIPOSA_PATH)\n",
    "\n",
    "from debugger.debugger import DbgMode\n",
    "from debugger.bench_viewer import BenchViewer\n",
    "from debugger.strainer import StrainerStatus\n",
    "from benchmark_consts import *"
   ]
  },
  {
   "cell_type": "code",
   "execution_count": 2,
   "metadata": {},
   "outputs": [
    {
     "name": "stderr",
     "output_type": "stream",
     "text": [
      "\u001b[94m[DEBUG] [edit] proof path: dbg/c7dd9386ea/proofs/rename.5997035091753828288.proof \u001b[0m\u001b[94m[DEBUG] [edit] proof path: dbg/1ce0be0d98/proofs/rename.13766260167742539139.proof \u001b[0m\n",
      "\n",
      "\u001b[94m[DEBUG] [edit] trace path: dbg/1ce0be0d98/traces/reseed.2307700153154034452 \u001b[0m\u001b[94m[DEBUG] [edit] trace path: dbg/c7dd9386ea/traces/reseed.2006818907980506151 \u001b[0m\n",
      "\n"
     ]
    },
    {
     "name": "stdout",
     "output_type": "stream",
     "text": [
      "1a014b24a4152a054db8f25a77bedaab.pickle145d19d27895d8e663eefd798f42f6a8.pickle\n",
      "\n"
     ]
    },
    {
     "name": "stderr",
     "output_type": "stream",
     "text": [
      "\u001b[94m[DEBUG] [edit] proof path: dbg/b6123843b3/proofs/shuffle.2971716062888843619.proof \u001b[0m\n",
      "\u001b[94m[DEBUG] [edit] trace path: dbg/b6123843b3/traces/reseed.2912415784395086845 \u001b[0m\u001b[94m[DEBUG] [edit] proof path: dbg/c4350a29e0/proofs/shuffle.15165401624226344195.proof \u001b[0m\u001b[94m[DEBUG] [edit] proof path: dbg/3b1c756824/proofs/shuffle.4934895526029041603.proof \u001b[0m\n",
      "\n"
     ]
    },
    {
     "name": "stdout",
     "output_type": "stream",
     "text": [
      "797e2854cac9f191e0c71d3d0bb15630.pickle"
     ]
    },
    {
     "name": "stderr",
     "output_type": "stream",
     "text": [
      "\u001b[94m[DEBUG] [edit] trace path: dbg/c4350a29e0/traces/shuffle.14033768021444631333 \u001b[0m\n",
      "\n"
     ]
    },
    {
     "name": "stdout",
     "output_type": "stream",
     "text": [
      "\n",
      "571cdddbffbf97b1787caafdc10255fd.pickle"
     ]
    },
    {
     "name": "stderr",
     "output_type": "stream",
     "text": [
      "\u001b[94m[DEBUG] [edit] trace path: dbg/3b1c756824/traces/reseed.423405074031245202 \u001b[0m"
     ]
    },
    {
     "name": "stdout",
     "output_type": "stream",
     "text": [
      "\n"
     ]
    },
    {
     "name": "stderr",
     "output_type": "stream",
     "text": [
      "\n"
     ]
    },
    {
     "name": "stdout",
     "output_type": "stream",
     "text": [
      "1f1e0629b52b6e25b0f3c950379ea02c.pickle\n"
     ]
    },
    {
     "name": "stderr",
     "output_type": "stream",
     "text": [
      "\u001b[94m[DEBUG] [edit] proof path: dbg/0b72dcef64/proofs/shuffle.2487110964962029816.proof \u001b[0m\n",
      "\u001b[94m[DEBUG] [edit] trace path: dbg/0b72dcef64/traces/rename.16208784918995133204 \u001b[0m\n"
     ]
    },
    {
     "name": "stdout",
     "output_type": "stream",
     "text": [
      "db0778b860dcfa9d07f00ac41795f18e.pickle\n"
     ]
    },
    {
     "name": "stderr",
     "output_type": "stream",
     "text": [
      "\u001b[94m[DEBUG] [edit] proof path: dbg/9415956048/proofs/reseed.347182553521784069.proof \u001b[0m\u001b[94m[DEBUG] [edit] proof path: dbg/1ecf533970/proofs/shuffle.1995897077724707104.proof \u001b[0m\n",
      "\u001b[94m[DEBUG] [edit] trace path: dbg/9415956048/traces/shuffle.651727414852085914 \u001b[0m\n",
      "\n",
      "\u001b[94m[DEBUG] [edit] trace path: dbg/1ecf533970/traces/reseed.3227455978992882587 \u001b[0m\n"
     ]
    },
    {
     "name": "stdout",
     "output_type": "stream",
     "text": [
      "7284a1327aacf46625a6b568de38b0ff.pickle\n",
      "0aa229bbba03a4763e99489d53b9bf44.pickle\n",
      "\u001b[93m[WARN] [differ] qid constructor_accessor_axiom not found in dbg/c7dd9386ea/orig.smt2 \u001b[0m\n",
      "\u001b[93m[WARN] [differ] qid <null> not found in dbg/c7dd9386ea/orig.smt2 \u001b[0m\n"
     ]
    },
    {
     "name": "stderr",
     "output_type": "stream",
     "text": [
      "\u001b[94m[DEBUG] saving cache at c7dd9386ea.to.report \u001b[0m\n",
      "\u001b[94m[DEBUG] [edit] proof path: dbg/eff0b44ea2/proofs/shuffle.650830172805084428.proof \u001b[0m\n",
      "\u001b[94m[DEBUG] [edit] trace path: dbg/eff0b44ea2/traces/shuffle.661977216366254548 \u001b[0m\n"
     ]
    },
    {
     "name": "stdout",
     "output_type": "stream",
     "text": [
      "eae59116021267718a09e9f56e7b232d.pickle\n",
      "\u001b[93m[WARN] [differ] qid constructor_accessor_axiom not found in dbg/1ce0be0d98/orig.smt2 \u001b[0m\n"
     ]
    },
    {
     "name": "stderr",
     "output_type": "stream",
     "text": [
      "\u001b[94m[DEBUG] saving cache at 1ce0be0d98.to.report \u001b[0m\n",
      "\u001b[94m[DEBUG] [edit] proof path: dbg/9adbe2e346/proofs/reseed.8779384904775619911.proof \u001b[0m\n",
      "\u001b[94m[DEBUG] [edit] trace path: dbg/9adbe2e346/traces/rename.1875309556558934021 \u001b[0m\n"
     ]
    },
    {
     "name": "stdout",
     "output_type": "stream",
     "text": [
      "12610c4192ea1e60acaca945170a0912.pickle\n",
      "\u001b[93m[WARN] [differ] qid constructor_accessor_axiom not found in dbg/3b1c756824/orig.smt2 \u001b[0m\n"
     ]
    },
    {
     "name": "stderr",
     "output_type": "stream",
     "text": [
      "\u001b[94m[DEBUG] saving cache at 3b1c756824.to.report \u001b[0m\n",
      "\u001b[94m[DEBUG] [edit] proof path: dbg/d6c59c638c/proofs/reseed.11140974501244197385.proof \u001b[0m\n",
      "\u001b[94m[DEBUG] [edit] trace path: dbg/d6c59c638c/traces/rename.12246667346583803173 \u001b[0m\n"
     ]
    },
    {
     "name": "stdout",
     "output_type": "stream",
     "text": [
      "739d17d1b3a19a73ebb832ef2225cf02.pickle\n",
      "\u001b[93m[WARN] [differ] qid constructor_accessor_axiom not found in dbg/9adbe2e346/orig.smt2 \u001b[0m\n"
     ]
    },
    {
     "name": "stderr",
     "output_type": "stream",
     "text": [
      "\u001b[94m[DEBUG] saving cache at 9adbe2e346.to.report \u001b[0m\n",
      "\u001b[94m[DEBUG] [edit] proof path: dbg/a95607b981/proofs/rename.6081746848176408339.proof \u001b[0m\n",
      "\u001b[94m[DEBUG] [edit] trace path: dbg/a95607b981/traces/shuffle.10846686413278762663 \u001b[0m\n"
     ]
    },
    {
     "name": "stdout",
     "output_type": "stream",
     "text": [
      "df88a0f71a151a3ebf9ce79160611294.pickle\n",
      "\u001b[93m[WARN] [differ] qid constructor_accessor_axiom not found in dbg/1ecf533970/orig.smt2 \u001b[0m\n",
      "\u001b[93m[WARN] [differ] qid <null> not found in dbg/1ecf533970/orig.smt2 \u001b[0m\n"
     ]
    },
    {
     "name": "stderr",
     "output_type": "stream",
     "text": [
      "\u001b[94m[DEBUG] saving cache at 1ecf533970.to.report \u001b[0m\n",
      "\u001b[94m[DEBUG] [edit] proof path: dbg/0711a2f033/proofs/reseed.13762826653989828521.proof \u001b[0m\n",
      "\u001b[94m[DEBUG] [edit] trace path: dbg/0711a2f033/traces/reseed.15688509835777253608 \u001b[0m\n"
     ]
    },
    {
     "name": "stdout",
     "output_type": "stream",
     "text": [
      "22bf960de458e1a25185d95efc8cc2cf.pickle\n",
      "\u001b[93m[WARN] [differ] qid constructor_accessor_axiom not found in dbg/b6123843b3/orig.smt2 \u001b[0m\n",
      "\u001b[93m[WARN] [differ] qid <null> not found in dbg/b6123843b3/orig.smt2 \u001b[0m\n"
     ]
    },
    {
     "name": "stderr",
     "output_type": "stream",
     "text": [
      "\u001b[94m[DEBUG] saving cache at b6123843b3.to.report \u001b[0m\n",
      "\u001b[94m[DEBUG] [edit] proof path: dbg/df44b4f111/proofs/shuffle.16082825136904132780.proof \u001b[0m\n",
      "\u001b[94m[DEBUG] [edit] trace path: dbg/df44b4f111/traces/reseed.2158888933591079616 \u001b[0m\n"
     ]
    },
    {
     "name": "stdout",
     "output_type": "stream",
     "text": [
      "f8ae1ec794ca38d281241fadb8e9debb.pickle\n",
      "\u001b[93m[WARN] [differ] qid constructor_accessor_axiom not found in dbg/a95607b981/orig.smt2 \u001b[0m\n"
     ]
    },
    {
     "name": "stderr",
     "output_type": "stream",
     "text": [
      "\u001b[94m[DEBUG] saving cache at a95607b981.to.report \u001b[0m\n",
      "\u001b[94m[DEBUG] [edit] proof path: dbg/2d00faf52c/proofs/rename.1798537068392486945.proof \u001b[0m\n",
      "\u001b[94m[DEBUG] [edit] trace path: dbg/2d00faf52c/traces/rename.8082690923169865294 \u001b[0m\n"
     ]
    },
    {
     "name": "stdout",
     "output_type": "stream",
     "text": [
      "2fd80ae238d6ebe35b98d4613c7aaede.pickle\n",
      "\u001b[93m[WARN] [differ] qid constructor_accessor_axiom not found in dbg/9415956048/orig.smt2 \u001b[0m\n",
      "\u001b[93m[WARN] [differ] qid constructor_accessor_axiom not found in dbg/0711a2f033/orig.smt2 \u001b[0m\n",
      "\u001b[93m[WARN] [differ] qid <null> not found in dbg/0711a2f033/orig.smt2 \u001b[0m"
     ]
    },
    {
     "name": "stderr",
     "output_type": "stream",
     "text": [
      "\u001b[94m[DEBUG] saving cache at 9415956048.to.report \u001b[0m"
     ]
    },
    {
     "name": "stdout",
     "output_type": "stream",
     "text": [
      "\n"
     ]
    },
    {
     "name": "stderr",
     "output_type": "stream",
     "text": [
      "\n",
      "\u001b[94m[DEBUG] saving cache at 0711a2f033.to.report \u001b[0m\n",
      "\u001b[94m[DEBUG] [edit] proof path: dbg/81d60427e7/proofs/reseed.4896564942829768780.proof \u001b[0m\n",
      "\u001b[94m[DEBUG] [edit] trace path: dbg/81d60427e7/traces/rename.5426123845634343722 \u001b[0m\n"
     ]
    },
    {
     "name": "stdout",
     "output_type": "stream",
     "text": [
      "ad75a419585e6826355b4394f14bdd38.pickle\n"
     ]
    },
    {
     "name": "stderr",
     "output_type": "stream",
     "text": [
      "\u001b[94m[DEBUG] [edit] proof path: dbg/50b414ceb9/proofs/reseed.6523881944955925482.proof \u001b[0m\n",
      "\u001b[94m[DEBUG] [edit] trace path: dbg/50b414ceb9/traces/shuffle.14621587911257160554 \u001b[0m\n"
     ]
    },
    {
     "name": "stdout",
     "output_type": "stream",
     "text": [
      "d0a7e796f19f2789b6b55f434777adc5.pickle\n",
      "\u001b[93m[WARN] [differ] qid constructor_accessor_axiom not found in dbg/d6c59c638c/orig.smt2 \u001b[0m\n",
      "\u001b[93m[WARN] [differ] qid <null> not found in dbg/d6c59c638c/orig.smt2 \u001b[0m\n"
     ]
    },
    {
     "name": "stderr",
     "output_type": "stream",
     "text": [
      "\u001b[94m[DEBUG] saving cache at d6c59c638c.to.report \u001b[0m\n",
      "\u001b[94m[DEBUG] [edit] proof path: dbg/bfa5905941/proofs/shuffle.11649725027601852775.proof \u001b[0m\n",
      "\u001b[94m[DEBUG] [edit] trace path: dbg/bfa5905941/traces/reseed.7193971313638034873 \u001b[0m\n"
     ]
    },
    {
     "name": "stdout",
     "output_type": "stream",
     "text": [
      "0d9bc6775598c1c605b6f8435525f81b.pickle\n",
      "\u001b[93m[WARN] [differ] qid constructor_accessor_axiom not found in dbg/81d60427e7/orig.smt2 \u001b[0m\n"
     ]
    },
    {
     "name": "stderr",
     "output_type": "stream",
     "text": [
      "\u001b[94m[DEBUG] saving cache at 81d60427e7.to.report \u001b[0m\n",
      "\u001b[94m[DEBUG] [edit] proof path: dbg/b231954c65/proofs/shuffle.6613443104521971902.proof \u001b[0m\n",
      "\u001b[94m[DEBUG] [edit] trace path: dbg/b231954c65/traces/shuffle.14977411828686540927 \u001b[0m\n"
     ]
    },
    {
     "name": "stdout",
     "output_type": "stream",
     "text": [
      "b59bfa07dc9f6a338d22dd74ca330162.pickle\n",
      "\u001b[93m[WARN] [differ] qid constructor_accessor_axiom not found in dbg/df44b4f111/orig.smt2 \u001b[0m\n",
      "\u001b[93m[WARN] [differ] qid <null> not found in dbg/df44b4f111/orig.smt2 \u001b[0m\n"
     ]
    },
    {
     "name": "stderr",
     "output_type": "stream",
     "text": [
      "\u001b[94m[DEBUG] saving cache at df44b4f111.to.report \u001b[0m\n",
      "\u001b[94m[DEBUG] [edit] proof path: dbg/be808dd0c3/proofs/shuffle.2986507493289902850.proof \u001b[0m\n",
      "\u001b[94m[DEBUG] [edit] trace path: dbg/be808dd0c3/traces/rename.9092044336694760293 \u001b[0m\n"
     ]
    },
    {
     "name": "stdout",
     "output_type": "stream",
     "text": [
      "2307ecd946a36985f03fb027944cfa13.pickle\n",
      "\u001b[93m[WARN] [differ] qid constructor_accessor_axiom not found in dbg/eff0b44ea2/orig.smt2 \u001b[0m\n"
     ]
    },
    {
     "name": "stderr",
     "output_type": "stream",
     "text": [
      "\u001b[94m[DEBUG] saving cache at eff0b44ea2.to.report \u001b[0m\n",
      "\u001b[94m[DEBUG] [edit] proof path: dbg/dc83338098/proofs/rename.10249651417711394047.proof \u001b[0m\n",
      "\u001b[94m[DEBUG] [edit] trace path: dbg/dc83338098/traces/rename.1325015204536421060 \u001b[0m\n"
     ]
    },
    {
     "name": "stdout",
     "output_type": "stream",
     "text": [
      "761ff2d40f0403c4bd0e4fe9869f3375.pickle\n",
      "\u001b[93m[WARN] [differ] qid constructor_accessor_axiom not found in dbg/bfa5905941/orig.smt2 \u001b[0m\n",
      "\u001b[93m[WARN] [differ] qid <null> not found in dbg/bfa5905941/orig.smt2 \u001b[0m\n"
     ]
    },
    {
     "name": "stderr",
     "output_type": "stream",
     "text": [
      "\u001b[94m[DEBUG] saving cache at bfa5905941.to.report \u001b[0m\n",
      "\u001b[94m[DEBUG] [edit] proof path: dbg/2d9d740dd9/proofs/rename.1019818818112142418.proof \u001b[0m\n",
      "\u001b[94m[DEBUG] [edit] trace path: dbg/2d9d740dd9/traces/rename.4293369832202817795 \u001b[0m\n"
     ]
    },
    {
     "name": "stdout",
     "output_type": "stream",
     "text": [
      "3f96175cd9ce9ea8503efdf6bbcdabe7.pickle\n",
      "\u001b[93m[WARN] [differ] qid constructor_accessor_axiom not found in dbg/50b414ceb9/orig.smt2 \u001b[0m\n"
     ]
    },
    {
     "name": "stderr",
     "output_type": "stream",
     "text": [
      "\u001b[94m[DEBUG] saving cache at 50b414ceb9.to.report \u001b[0m\n",
      "\u001b[94m[DEBUG] [edit] proof path: dbg/a027d8f301/proofs/rename.12775441445392405036.proof \u001b[0m\n",
      "\u001b[94m[DEBUG] [edit] trace path: dbg/a027d8f301/traces/rename.1384039043457886157 \u001b[0m\n"
     ]
    },
    {
     "name": "stdout",
     "output_type": "stream",
     "text": [
      "b47a83c0193f4b6791a59334f8b9a3b3.pickle\n",
      "\u001b[93m[WARN] [differ] qid constructor_accessor_axiom not found in dbg/2d00faf52c/orig.smt2 \u001b[0m\n",
      "\u001b[93m[WARN] [differ] qid constructor_accessor_axiom not found in dbg/c4350a29e0/orig.smt2 \u001b[0m\n",
      "\u001b[93m[WARN] [differ] qid <null> not found in dbg/c4350a29e0/orig.smt2 \u001b[0m\n"
     ]
    },
    {
     "name": "stderr",
     "output_type": "stream",
     "text": [
      "\u001b[94m[DEBUG] saving cache at 2d00faf52c.to.report \u001b[0m\n",
      "\u001b[94m[DEBUG] saving cache at c4350a29e0.to.report \u001b[0m\n",
      "\u001b[94m[DEBUG] [edit] proof path: dbg/1afa5361f7/proofs/reseed.15436115809607136773.proof \u001b[0m\n",
      "\n",
      "\u001b[94m[DEBUG] [edit] trace path: dbg/1afa5361f7/traces/rename.10888180838209474195 \u001b[0m"
     ]
    },
    {
     "name": "stdout",
     "output_type": "stream",
     "text": [
      "b4eeaaa9c9ef5b1fac535df275b56bd2.pickle\n"
     ]
    },
    {
     "name": "stderr",
     "output_type": "stream",
     "text": [
      "\u001b[94m[DEBUG] [edit] proof path: dbg/b8265691e7/proofs/shuffle.5368039748335902341.proof \u001b[0m\n",
      "\u001b[94m[DEBUG] [edit] trace path: dbg/b8265691e7/traces/shuffle.72469620711712989 \u001b[0m\n"
     ]
    },
    {
     "name": "stdout",
     "output_type": "stream",
     "text": [
      "4c3ace422913c9cc0d61622f08eb2056.pickle\n",
      "\u001b[93m[WARN] [differ] qid constructor_accessor_axiom not found in dbg/2d9d740dd9/orig.smt2 \u001b[0m\n"
     ]
    },
    {
     "name": "stderr",
     "output_type": "stream",
     "text": [
      "\u001b[94m[DEBUG] saving cache at 2d9d740dd9.to.report \u001b[0m\n",
      "\u001b[94m[DEBUG] [edit] proof path: dbg/cd6015582a/proofs/shuffle.11162362317910693702.proof \u001b[0m\n",
      "\u001b[94m[DEBUG] [edit] trace path: dbg/cd6015582a/traces/reseed.4325126350402063172 \u001b[0m\n"
     ]
    },
    {
     "name": "stdout",
     "output_type": "stream",
     "text": [
      "175ce36af9475423cfb4126dddad3811.pickle\n",
      "\u001b[93m[WARN] [differ] qid constructor_accessor_axiom not found in dbg/dc83338098/orig.smt2 \u001b[0m\n",
      "\u001b[93m[WARN] [differ] qid <null> not found in dbg/dc83338098/orig.smt2 \u001b[0m\n"
     ]
    },
    {
     "name": "stderr",
     "output_type": "stream",
     "text": [
      "\u001b[94m[DEBUG] saving cache at dc83338098.to.report \u001b[0m\n",
      "\u001b[94m[DEBUG] [edit] proof path: dbg/c7b10ef871/proofs/shuffle.1516775373652545594.proof \u001b[0m\n",
      "\u001b[94m[DEBUG] [edit] trace path: dbg/c7b10ef871/traces/rename.36451817514311942 \u001b[0m\n"
     ]
    },
    {
     "name": "stdout",
     "output_type": "stream",
     "text": [
      "5a65585897306c654cdbdf61dfae7cdf.pickle\n",
      "\u001b[93m[WARN] [differ] qid constructor_accessor_axiom not found in dbg/c7b10ef871/orig.smt2 \u001b[0m\n",
      "\u001b[93m[WARN] [differ] qid <null> not found in dbg/c7b10ef871/orig.smt2 \u001b[0m\n"
     ]
    },
    {
     "name": "stderr",
     "output_type": "stream",
     "text": [
      "\u001b[94m[DEBUG] saving cache at c7b10ef871.to.report \u001b[0m\n",
      "\u001b[94m[DEBUG] [edit] proof path: dbg/5dc26045ea/proofs/rename.10094265786302037396.proof \u001b[0m\n",
      "\u001b[94m[DEBUG] [edit] trace path: dbg/5dc26045ea/traces/rename.17806674944814758297 \u001b[0m\n"
     ]
    },
    {
     "name": "stdout",
     "output_type": "stream",
     "text": [
      "b1907b93eb3751779b19544f127270f5.pickle\n",
      "\u001b[93m[WARN] [differ] qid constructor_accessor_axiom not found in dbg/5dc26045ea/orig.smt2 \u001b[0m\n",
      "\u001b[93m[WARN] [differ] qid <null> not found in dbg/5dc26045ea/orig.smt2 \u001b[0m\n"
     ]
    },
    {
     "name": "stderr",
     "output_type": "stream",
     "text": [
      "\u001b[94m[DEBUG] saving cache at 5dc26045ea.to.report \u001b[0m\n"
     ]
    },
    {
     "name": "stdout",
     "output_type": "stream",
     "text": [
      "\u001b[93m[WARN] [differ] qid constructor_accessor_axiom not found in dbg/0b72dcef64/orig.smt2 \u001b[0m\n",
      "\u001b[93m[WARN] [differ] qid <null> not found in dbg/0b72dcef64/orig.smt2 \u001b[0m\n"
     ]
    },
    {
     "name": "stderr",
     "output_type": "stream",
     "text": [
      "\u001b[94m[DEBUG] [edit] proof path: dbg/1de7054a37/proofs/rename.14517005951198252340.proof \u001b[0m\n",
      "\u001b[94m[DEBUG] [edit] trace path: dbg/1de7054a37/traces/rename.209890947472909931 \u001b[0m\n"
     ]
    },
    {
     "name": "stdout",
     "output_type": "stream",
     "text": [
      "a0102df0457ec503ae739d68c652ec11.pickle\n"
     ]
    },
    {
     "name": "stderr",
     "output_type": "stream",
     "text": [
      "\u001b[94m[DEBUG] saving cache at 0b72dcef64.to.report \u001b[0m\n",
      "\u001b[94m[DEBUG] [edit] proof path: dbg/0c00bb9db6/proofs/shuffle.7562094983557013529.proof \u001b[0m\n",
      "\u001b[94m[DEBUG] [edit] trace path: dbg/0c00bb9db6/traces/shuffle.16045602345414475465 \u001b[0m\n"
     ]
    },
    {
     "name": "stdout",
     "output_type": "stream",
     "text": [
      "d7c223fe5d66affdc82812462946b3c4.pickle\n",
      "\u001b[93m[WARN] [differ] qid constructor_accessor_axiom not found in dbg/b231954c65/orig.smt2 \u001b[0m\n"
     ]
    },
    {
     "name": "stderr",
     "output_type": "stream",
     "text": [
      "\u001b[94m[DEBUG] saving cache at b231954c65.to.report \u001b[0m\n"
     ]
    },
    {
     "name": "stdout",
     "output_type": "stream",
     "text": [
      "\u001b[93m[WARN] [differ] qid constructor_accessor_axiom not found in dbg/cd6015582a/orig.smt2 \u001b[0m\n"
     ]
    },
    {
     "name": "stderr",
     "output_type": "stream",
     "text": [
      "\u001b[94m[DEBUG] saving cache at cd6015582a.to.report \u001b[0m\n",
      "\u001b[94m[DEBUG] [edit] proof path: dbg/74e1d044a1/proofs/reseed.11386760330292647224.proof \u001b[0m\n",
      "\u001b[94m[DEBUG] [edit] trace path: dbg/74e1d044a1/traces/shuffle.1097530923737444328 \u001b[0m\n"
     ]
    },
    {
     "name": "stdout",
     "output_type": "stream",
     "text": [
      "8ab458b7db283337b4a4128c628f2dac.pickle\n",
      "\u001b[93m[WARN] [differ] qid constructor_accessor_axiom not found in dbg/b8265691e7/orig.smt2 \u001b[0m\n"
     ]
    },
    {
     "name": "stderr",
     "output_type": "stream",
     "text": [
      "\u001b[94m[DEBUG] saving cache at b8265691e7.to.report \u001b[0m\n"
     ]
    },
    {
     "name": "stdout",
     "output_type": "stream",
     "text": [
      "\u001b[93m[WARN] [differ] qid constructor_accessor_axiom not found in dbg/1afa5361f7/orig.smt2 \u001b[0m\n"
     ]
    },
    {
     "name": "stderr",
     "output_type": "stream",
     "text": [
      "\u001b[94m[DEBUG] [edit] proof path: dbg/95fa9421b7/proofs/reseed.6390737031735969873.proof \u001b[0m\n",
      "\u001b[94m[DEBUG] [edit] trace path: dbg/95fa9421b7/traces/shuffle.17217809126304778478 \u001b[0m\n"
     ]
    },
    {
     "name": "stdout",
     "output_type": "stream",
     "text": [
      "66563a4001bba7a40636ea10f592504c.pickle\n"
     ]
    },
    {
     "name": "stderr",
     "output_type": "stream",
     "text": [
      "\u001b[94m[DEBUG] [edit] proof path: dbg/7dccaece2d/proofs/shuffle.9506315399743706268.proof \u001b[0m\n",
      "\u001b[94m[DEBUG] [edit] trace path: dbg/7dccaece2d/traces/rename.12579112894559906154 \u001b[0m\n",
      "\u001b[94m[DEBUG] saving cache at 1afa5361f7.to.report \u001b[0m"
     ]
    },
    {
     "name": "stdout",
     "output_type": "stream",
     "text": [
      "5b6240fabff3e4fe4b03c3a8a61f6f93.pickle"
     ]
    },
    {
     "name": "stderr",
     "output_type": "stream",
     "text": [
      "\n"
     ]
    },
    {
     "name": "stdout",
     "output_type": "stream",
     "text": [
      "\n"
     ]
    },
    {
     "name": "stderr",
     "output_type": "stream",
     "text": [
      "\u001b[94m[DEBUG] [edit] proof path: dbg/b2c059e298/proofs/rename.7927859049852072456.proof \u001b[0m\n",
      "\u001b[94m[DEBUG] [edit] trace path: dbg/b2c059e298/traces/rename.13358333878170522687 \u001b[0m\n"
     ]
    },
    {
     "name": "stdout",
     "output_type": "stream",
     "text": [
      "ea876533d392f993b7d09b8dc908bdd0.pickle\n",
      "\u001b[93m[WARN] [differ] qid constructor_accessor_axiom not found in dbg/7dccaece2d/orig.smt2 \u001b[0m\n"
     ]
    },
    {
     "name": "stderr",
     "output_type": "stream",
     "text": [
      "\u001b[94m[DEBUG] saving cache at 7dccaece2d.to.report \u001b[0m\n",
      "\u001b[94m[DEBUG] [edit] proof path: dbg/d71eeda4cd/proofs/reseed.2150673374071760496.proof \u001b[0m\n",
      "\u001b[94m[DEBUG] [edit] trace path: dbg/d71eeda4cd/traces/rename.14506509287210677024 \u001b[0m\n"
     ]
    },
    {
     "name": "stdout",
     "output_type": "stream",
     "text": [
      "0ca0e7c2095ae3a573cd187382c7a4b9.pickle\n",
      "\u001b[93m[WARN] [differ] qid constructor_accessor_axiom not found in dbg/95fa9421b7/orig.smt2 \u001b[0m\n"
     ]
    },
    {
     "name": "stderr",
     "output_type": "stream",
     "text": [
      "\u001b[94m[DEBUG] saving cache at 95fa9421b7.to.report \u001b[0m\n",
      "\u001b[94m[DEBUG] [edit] proof path: dbg/f5dc6f777b/proofs/rename.4780624975297093748.proof \u001b[0m\n",
      "\u001b[94m[DEBUG] [edit] trace path: dbg/f5dc6f777b/traces/rename.13353410971274252034 \u001b[0m\n"
     ]
    },
    {
     "name": "stdout",
     "output_type": "stream",
     "text": [
      "cf00331c346e43b97596177611e02a55.pickle\n",
      "\u001b[93m[WARN] [differ] qid constructor_accessor_axiom not found in dbg/b2c059e298/orig.smt2 \u001b[0m\n"
     ]
    },
    {
     "name": "stderr",
     "output_type": "stream",
     "text": [
      "\u001b[94m[DEBUG] saving cache at b2c059e298.to.report \u001b[0m\n",
      "\u001b[94m[DEBUG] [edit] proof path: dbg/443cdbaf14/proofs/rename.1790934751323220438.proof \u001b[0m\n",
      "\u001b[94m[DEBUG] [edit] trace path: dbg/443cdbaf14/traces/rename.3007333108735575371 \u001b[0m\n"
     ]
    },
    {
     "name": "stdout",
     "output_type": "stream",
     "text": [
      "32073521816fc8f5fbe9e32a19108311.pickle\n",
      "\u001b[93m[WARN] [differ] qid constructor_accessor_axiom not found in dbg/be808dd0c3/orig.smt2 \u001b[0m\n",
      "\u001b[93m[WARN] [differ] qid <null> not found in dbg/be808dd0c3/orig.smt2 \u001b[0m\n",
      "\u001b[93m[WARN] [differ] qid constructor_accessor_axiom not found in dbg/0c00bb9db6/orig.smt2 \u001b[0m"
     ]
    },
    {
     "name": "stderr",
     "output_type": "stream",
     "text": [
      "\u001b[94m[DEBUG] saving cache at be808dd0c3.to.report \u001b[0m"
     ]
    },
    {
     "name": "stdout",
     "output_type": "stream",
     "text": [
      "\n"
     ]
    },
    {
     "name": "stderr",
     "output_type": "stream",
     "text": [
      "\n",
      "\u001b[94m[DEBUG] saving cache at 0c00bb9db6.to.report \u001b[0m\n",
      "\u001b[94m[DEBUG] [edit] proof path: dbg/68aa54b124/proofs/rename.10476360234886696818.proof \u001b[0m\n",
      "\u001b[94m[DEBUG] [edit] trace path: dbg/68aa54b124/traces/reseed.11538502521493238652 \u001b[0m\n"
     ]
    },
    {
     "name": "stdout",
     "output_type": "stream",
     "text": [
      "b0efd153ecff350c22ba699cdcd2337f.pickle\n",
      "\u001b[93m[WARN] query 017c3eb3 has no experiment results \u001b[0m\n",
      "\u001b[93m[WARN] query 4e228f39 has no experiment results \u001b[0m\n",
      "\u001b[93m[WARN] query 6a107425 has no experiment results \u001b[0m\n",
      "\u001b[93m[WARN] query 9472914d has no experiment results \u001b[0m\n",
      "\u001b[93m[WARN] query 6bbf5cee has no experiment results \u001b[0m\n",
      "\u001b[93m[WARN] query f7964b8e has no experiment results \u001b[0m\n",
      "\u001b[93m[WARN] query 2dea4485 has no experiment results \u001b[0m\n",
      "\u001b[93m[WARN] query 08c7a995 has no experiment results \u001b[0m\n"
     ]
    },
    {
     "name": "stderr",
     "output_type": "stream",
     "text": [
      "\u001b[91m[ERROR] there are 8 queries with files, but no experiments done in timeout_6b83ccf507.filtered.base.z3 \u001b[0m\n"
     ]
    },
    {
     "name": "stdout",
     "output_type": "stream",
     "text": [
      "exception:  \n"
     ]
    },
    {
     "name": "stderr",
     "output_type": "stream",
     "text": [
      "\u001b[94m[DEBUG] [edit] proof path: dbg/1c986e634b/proofs/rename.9580518083060337335.proof \u001b[0m\n",
      "\u001b[94m[DEBUG] [edit] trace path: dbg/1c986e634b/traces/reseed.14557216502951889437 \u001b[0m\n"
     ]
    },
    {
     "name": "stdout",
     "output_type": "stream",
     "text": [
      "89e03d20bfe45fdab8a9bed77043f243.pickle\n",
      "\u001b[93m[WARN] [differ] qid constructor_accessor_axiom not found in dbg/f5dc6f777b/orig.smt2 \u001b[0m\n"
     ]
    },
    {
     "name": "stderr",
     "output_type": "stream",
     "text": [
      "\u001b[94m[DEBUG] saving cache at f5dc6f777b.to.report \u001b[0m\n",
      "\u001b[94m[DEBUG] [edit] proof path: dbg/ce3b53d3eb/proofs/reseed.2944036199812406110.proof \u001b[0m\n",
      "\u001b[94m[DEBUG] [edit] trace path: dbg/ce3b53d3eb/traces/rename.17573995253702082922 \u001b[0m\n"
     ]
    },
    {
     "name": "stdout",
     "output_type": "stream",
     "text": [
      "2aa51d94f26d44fbd986e80a6d905ccc.pickle\n",
      "\u001b[93m[WARN] [differ] qid constructor_accessor_axiom not found in dbg/1de7054a37/orig.smt2 \u001b[0m\n"
     ]
    },
    {
     "name": "stderr",
     "output_type": "stream",
     "text": [
      "\u001b[94m[DEBUG] saving cache at 1de7054a37.to.report \u001b[0m\n",
      "\u001b[94m[DEBUG] [edit] proof path: dbg/1996525606/proofs/reseed.7842501973535342676.proof \u001b[0m\n",
      "\u001b[94m[DEBUG] [edit] trace path: dbg/1996525606/traces/shuffle.1619674219649677737 \u001b[0m\n"
     ]
    },
    {
     "name": "stdout",
     "output_type": "stream",
     "text": [
      "c4ca4da4dfc01f0218ce655e9d854d14.pickle\n",
      "\u001b[93m[WARN] [differ] qid constructor_accessor_axiom not found in dbg/74e1d044a1/orig.smt2 \u001b[0m\n"
     ]
    },
    {
     "name": "stderr",
     "output_type": "stream",
     "text": [
      "\u001b[94m[DEBUG] saving cache at 74e1d044a1.to.report \u001b[0m\n",
      "\u001b[94m[DEBUG] [edit] proof path: dbg/a40c2ef0b3/proofs/rename.10162192838764642013.proof \u001b[0m\n",
      "\u001b[94m[DEBUG] [edit] trace path: dbg/a40c2ef0b3/traces/rename.2941562305298051460 \u001b[0m\n"
     ]
    },
    {
     "name": "stdout",
     "output_type": "stream",
     "text": [
      "8e65b23221693f89cbdafe88602caca0.pickle\n",
      "\u001b[93m[WARN] [differ] qid constructor_accessor_axiom not found in dbg/1c986e634b/orig.smt2 \u001b[0m\n"
     ]
    },
    {
     "name": "stderr",
     "output_type": "stream",
     "text": [
      "\u001b[94m[DEBUG] saving cache at 1c986e634b.to.report \u001b[0m\n",
      "\u001b[94m[DEBUG] [edit] proof path: dbg/2606c5a287/proofs/reseed.12928352140095315405.proof \u001b[0m\n",
      "\u001b[94m[DEBUG] [edit] trace path: dbg/2606c5a287/traces/reseed.7901887351598598028 \u001b[0m\n"
     ]
    },
    {
     "name": "stdout",
     "output_type": "stream",
     "text": [
      "392bcbef7e988fa52124ccbf194f3f24.pickle\n",
      "\u001b[93m[WARN] [differ] qid constructor_accessor_axiom not found in dbg/443cdbaf14/orig.smt2 \u001b[0m\n"
     ]
    },
    {
     "name": "stderr",
     "output_type": "stream",
     "text": [
      "\u001b[94m[DEBUG] saving cache at 443cdbaf14.to.report \u001b[0m\n",
      "\u001b[94m[DEBUG] [edit] proof path: dbg/d1535f1776/proofs/shuffle.922414120621251838.proof \u001b[0m\n",
      "\u001b[94m[DEBUG] [edit] trace path: dbg/d1535f1776/traces/rename.10545065482662634285 \u001b[0m\n"
     ]
    },
    {
     "name": "stdout",
     "output_type": "stream",
     "text": [
      "0e4422972ead67f3ddc503a9bbb18ab0.pickle\n",
      "\u001b[93m[WARN] [differ] qid constructor_accessor_axiom not found in dbg/2606c5a287/orig.smt2 \u001b[0m\n"
     ]
    },
    {
     "name": "stderr",
     "output_type": "stream",
     "text": [
      "\u001b[94m[DEBUG] saving cache at 2606c5a287.to.report \u001b[0m\n",
      "\u001b[94m[DEBUG] [edit] proof path: dbg/c5633470e3/proofs/rename.6157818212375696608.proof \u001b[0m\n",
      "\u001b[94m[DEBUG] [edit] trace path: dbg/c5633470e3/traces/reseed.3660517254339973465 \u001b[0m\n"
     ]
    },
    {
     "name": "stdout",
     "output_type": "stream",
     "text": [
      "bce50fe8b26fe36de7ce26ed4dcc3842.pickle\n",
      "\u001b[93m[WARN] [differ] qid constructor_accessor_axiom not found in dbg/a027d8f301/orig.smt2 \u001b[0m\n",
      "\u001b[93m[WARN] [differ] qid <null> not found in dbg/a027d8f301/orig.smt2 \u001b[0m\n"
     ]
    },
    {
     "name": "stderr",
     "output_type": "stream",
     "text": [
      "\u001b[94m[DEBUG] saving cache at a027d8f301.to.report \u001b[0m\n"
     ]
    },
    {
     "name": "stdout",
     "output_type": "stream",
     "text": [
      "\u001b[93m[WARN] [differ] qid constructor_accessor_axiom not found in dbg/68aa54b124/orig.smt2 \u001b[0m\n"
     ]
    },
    {
     "name": "stderr",
     "output_type": "stream",
     "text": [
      "\u001b[94m[DEBUG] saving cache at 68aa54b124.to.report \u001b[0m\n",
      "\u001b[94m[DEBUG] [edit] proof path: dbg/47775b0cf2/proofs/reseed.16654231791037010179.proof \u001b[0m\n",
      "\u001b[94m[DEBUG] [edit] trace path: dbg/47775b0cf2/traces/rename.248996141427157996 \u001b[0m\n"
     ]
    },
    {
     "name": "stdout",
     "output_type": "stream",
     "text": [
      "a945797f20978285c6bb6e3273fbd466.pickle\n"
     ]
    },
    {
     "name": "stderr",
     "output_type": "stream",
     "text": [
      "\u001b[94m[DEBUG] [edit] proof path: dbg/a854e6c8ad/proofs/shuffle.17643171112503024724.proof \u001b[0m\n",
      "\u001b[94m[DEBUG] [edit] trace path: dbg/a854e6c8ad/traces/reseed.13223772761810635505 \u001b[0m\n"
     ]
    },
    {
     "name": "stdout",
     "output_type": "stream",
     "text": [
      "1956c7e466f1a52e00fb50e825052f84.pickle\n",
      "\u001b[93m[WARN] [differ] qid constructor_accessor_axiom not found in dbg/1996525606/orig.smt2 \u001b[0m\n"
     ]
    },
    {
     "name": "stderr",
     "output_type": "stream",
     "text": [
      "\u001b[94m[DEBUG] saving cache at 1996525606.to.report \u001b[0m\n",
      "\u001b[94m[DEBUG] [edit] proof path: dbg/d8fb40a98b/proofs/shuffle.15958915383052058049.proof \u001b[0m\n",
      "\u001b[94m[DEBUG] [edit] trace path: dbg/d8fb40a98b/traces/reseed.4324026674913617289 \u001b[0m\n"
     ]
    },
    {
     "name": "stdout",
     "output_type": "stream",
     "text": [
      "9ef73b83c790d18539d30bfe061975df.pickle\n",
      "\u001b[93m[WARN] [differ] qid constructor_accessor_axiom not found in dbg/a854e6c8ad/orig.smt2 \u001b[0m\n"
     ]
    },
    {
     "name": "stderr",
     "output_type": "stream",
     "text": [
      "\u001b[94m[DEBUG] saving cache at a854e6c8ad.to.report \u001b[0m\n",
      "\u001b[94m[DEBUG] [edit] proof path: dbg/f2162eddbb/proofs/reseed.15090449005799915207.proof \u001b[0m\n",
      "\u001b[94m[DEBUG] [edit] trace path: dbg/f2162eddbb/traces/rename.17400467863704498039 \u001b[0m\n"
     ]
    },
    {
     "name": "stdout",
     "output_type": "stream",
     "text": [
      "b358701551806038754e98e73792c3df.pickle\n",
      "\u001b[93m[WARN] [differ] qid constructor_accessor_axiom not found in dbg/47775b0cf2/orig.smt2 \u001b[0m\n",
      "\u001b[93m[WARN] [differ] qid <null> not found in dbg/47775b0cf2/orig.smt2 \u001b[0m\n"
     ]
    },
    {
     "name": "stderr",
     "output_type": "stream",
     "text": [
      "\u001b[94m[DEBUG] saving cache at 47775b0cf2.to.report \u001b[0m\n",
      "\u001b[94m[DEBUG] [edit] proof path: dbg/3c8b9dae45/proofs/reseed.16503744286772018380.proof \u001b[0m\n",
      "\u001b[94m[DEBUG] [edit] trace path: dbg/3c8b9dae45/traces/rename.3289796417906284909 \u001b[0m\n"
     ]
    },
    {
     "name": "stdout",
     "output_type": "stream",
     "text": [
      "630a1f6d0b7f6b3efbc44723cbce2c74.pickle\n",
      "\u001b[93m[WARN] [differ] qid constructor_accessor_axiom not found in dbg/d8fb40a98b/orig.smt2 \u001b[0m\n",
      "\u001b[93m[WARN] [differ] qid <null> not found in dbg/d8fb40a98b/orig.smt2 \u001b[0m\n"
     ]
    },
    {
     "name": "stderr",
     "output_type": "stream",
     "text": [
      "\u001b[94m[DEBUG] saving cache at d8fb40a98b.to.report \u001b[0m\n",
      "\u001b[94m[DEBUG] [edit] proof path: dbg/d01bd917c5/proofs/shuffle.6604497531354865087.proof \u001b[0m\n",
      "\u001b[94m[DEBUG] [edit] trace path: dbg/d01bd917c5/traces/rename.5881498869101970162 \u001b[0m\n"
     ]
    },
    {
     "name": "stdout",
     "output_type": "stream",
     "text": [
      "d83b341839ef2a67c9a903357ee46ed7.pickle\n",
      "\u001b[93m[WARN] [differ] qid constructor_accessor_axiom not found in dbg/c5633470e3/orig.smt2 \u001b[0m\n"
     ]
    },
    {
     "name": "stderr",
     "output_type": "stream",
     "text": [
      "\u001b[94m[DEBUG] saving cache at c5633470e3.to.report \u001b[0m\n",
      "\u001b[94m[DEBUG] [edit] proof path: dbg/a0c42cc37e/proofs/reseed.15623820621113171063.proof \u001b[0m\n",
      "\u001b[94m[DEBUG] [edit] trace path: dbg/a0c42cc37e/traces/rename.964005123332437920 \u001b[0m\n"
     ]
    },
    {
     "name": "stdout",
     "output_type": "stream",
     "text": [
      "a6b982e469332bcff78a68cc0962bbab.pickle\n",
      "\u001b[93m[WARN] [differ] qid constructor_accessor_axiom not found in dbg/3c8b9dae45/orig.smt2 \u001b[0m\n",
      "\u001b[93m[WARN] [differ] qid <null> not found in dbg/3c8b9dae45/orig.smt2 \u001b[0m\n"
     ]
    },
    {
     "name": "stderr",
     "output_type": "stream",
     "text": [
      "\u001b[94m[DEBUG] saving cache at 3c8b9dae45.to.report \u001b[0m\n",
      "\u001b[94m[DEBUG] [edit] proof path: dbg/cca6928c4f/proofs/shuffle.5236617535059863525.proof \u001b[0m\n",
      "\u001b[94m[DEBUG] [edit] trace path: dbg/cca6928c4f/traces/rename.11806970305387881892 \u001b[0m\n"
     ]
    },
    {
     "name": "stdout",
     "output_type": "stream",
     "text": [
      "1594e61a848b4ada84b5757625d3e52c.pickle\n",
      "\u001b[93m[WARN] [differ] qid constructor_accessor_axiom not found in dbg/a40c2ef0b3/orig.smt2 \u001b[0m\n",
      "\u001b[93m[WARN] [differ] qid <null> not found in dbg/a40c2ef0b3/orig.smt2 \u001b[0m\n"
     ]
    },
    {
     "name": "stderr",
     "output_type": "stream",
     "text": [
      "\u001b[94m[DEBUG] saving cache at a40c2ef0b3.to.report \u001b[0m\n",
      "\u001b[94m[DEBUG] [edit] proof path: dbg/6d5603f1e4/proofs/reseed.6915076634190140820.proof \u001b[0m\n",
      "\u001b[94m[DEBUG] [edit] trace path: dbg/6d5603f1e4/traces/shuffle.16720097703422059566 \u001b[0m\n"
     ]
    },
    {
     "name": "stdout",
     "output_type": "stream",
     "text": [
      "308cd535bfd25b8624d9de4f0b2069a4.pickle\n",
      "\u001b[93m[WARN] [differ] qid constructor_accessor_axiom not found in dbg/f2162eddbb/orig.smt2 \u001b[0m\n",
      "\u001b[93m[WARN] [differ] qid <null> not found in dbg/f2162eddbb/orig.smt2 \u001b[0m\n"
     ]
    },
    {
     "name": "stderr",
     "output_type": "stream",
     "text": [
      "\u001b[94m[DEBUG] saving cache at f2162eddbb.to.report \u001b[0m\n",
      "\u001b[94m[DEBUG] [edit] proof path: dbg/0a1a6803c7/proofs/shuffle.14545533507565212264.proof \u001b[0m\n",
      "\u001b[94m[DEBUG] [edit] trace path: dbg/0a1a6803c7/traces/reseed.4873524052614474677 \u001b[0m\n"
     ]
    },
    {
     "name": "stdout",
     "output_type": "stream",
     "text": [
      "bc2802b0c1252af608c349dc6259a3eb.pickle\n",
      "\u001b[93m[WARN] [differ] qid constructor_accessor_axiom not found in dbg/a0c42cc37e/orig.smt2 \u001b[0m\n"
     ]
    },
    {
     "name": "stderr",
     "output_type": "stream",
     "text": [
      "\u001b[94m[DEBUG] saving cache at a0c42cc37e.to.report \u001b[0m\n"
     ]
    },
    {
     "name": "stdout",
     "output_type": "stream",
     "text": [
      "\u001b[93m[WARN] [differ] qid constructor_accessor_axiom not found in dbg/0a1a6803c7/orig.smt2 \u001b[0m\n",
      "\u001b[93m[WARN] [differ] qid <null> not found in dbg/0a1a6803c7/orig.smt2 \u001b[0m\n"
     ]
    },
    {
     "name": "stderr",
     "output_type": "stream",
     "text": [
      "\u001b[94m[DEBUG] saving cache at 0a1a6803c7.to.report \u001b[0m\n",
      "\u001b[94m[DEBUG] [edit] proof path: dbg/1ebe5e3244/proofs/rename.7891978070212383581.proof \u001b[0m\n",
      "\u001b[94m[DEBUG] [edit] trace path: dbg/1ebe5e3244/traces/rename.4663868564920567471 \u001b[0m\n"
     ]
    },
    {
     "name": "stdout",
     "output_type": "stream",
     "text": [
      "81974e30281a10c46424ac962d97ce4a.pickle\n"
     ]
    },
    {
     "name": "stderr",
     "output_type": "stream",
     "text": [
      "\u001b[94m[DEBUG] [edit] proof path: dbg/d82f76226c/proofs/reseed.863365456224102248.proof \u001b[0m\n",
      "\u001b[94m[DEBUG] [edit] trace path: dbg/d82f76226c/traces/reseed.4958599917576450101 \u001b[0m\n"
     ]
    },
    {
     "name": "stdout",
     "output_type": "stream",
     "text": [
      "14991a68e2527bc0539f0a294bc2f281.pickle\n",
      "\u001b[93m[WARN] [differ] qid constructor_accessor_axiom not found in dbg/6d5603f1e4/orig.smt2 \u001b[0m\n"
     ]
    },
    {
     "name": "stderr",
     "output_type": "stream",
     "text": [
      "\u001b[94m[DEBUG] saving cache at 6d5603f1e4.to.report \u001b[0m\n"
     ]
    },
    {
     "name": "stdout",
     "output_type": "stream",
     "text": [
      "\u001b[93m[WARN] [differ] qid constructor_accessor_axiom not found in dbg/d82f76226c/orig.smt2 \u001b[0m\n",
      "\u001b[93m[WARN] [differ] qid <null> not found in dbg/d82f76226c/orig.smt2 \u001b[0m\n"
     ]
    },
    {
     "name": "stderr",
     "output_type": "stream",
     "text": [
      "\u001b[94m[DEBUG] saving cache at d82f76226c.to.report \u001b[0m\n"
     ]
    },
    {
     "name": "stdout",
     "output_type": "stream",
     "text": [
      "\u001b[93m[WARN] [differ] qid constructor_accessor_axiom not found in dbg/d01bd917c5/orig.smt2 \u001b[0m\n"
     ]
    },
    {
     "name": "stderr",
     "output_type": "stream",
     "text": [
      "\u001b[94m[DEBUG] saving cache at d01bd917c5.to.report \u001b[0m\n",
      "\u001b[94m[DEBUG] [edit] proof path: dbg/95ece4e2c8/proofs/shuffle.6507208572592150382.proof \u001b[0m\n",
      "\u001b[94m[DEBUG] [edit] trace path: dbg/95ece4e2c8/traces/shuffle.11311085294350363441 \u001b[0m\n"
     ]
    },
    {
     "name": "stdout",
     "output_type": "stream",
     "text": [
      "0fd01710237478933ae5dc9fb99eb436.pickle\n",
      "\u001b[93m[WARN] [differ] qid constructor_accessor_axiom not found in dbg/1ebe5e3244/orig.smt2 \u001b[0m\n"
     ]
    },
    {
     "name": "stderr",
     "output_type": "stream",
     "text": [
      "\u001b[94m[DEBUG] saving cache at 1ebe5e3244.to.report \u001b[0m\n"
     ]
    },
    {
     "name": "stdout",
     "output_type": "stream",
     "text": [
      "\u001b[93m[WARN] [differ] qid constructor_accessor_axiom not found in dbg/95ece4e2c8/orig.smt2 \u001b[0m\n",
      "\u001b[93m[WARN] [differ] qid <null> not found in dbg/95ece4e2c8/orig.smt2 \u001b[0m\n"
     ]
    },
    {
     "name": "stderr",
     "output_type": "stream",
     "text": [
      "\u001b[94m[DEBUG] saving cache at 95ece4e2c8.to.report \u001b[0m\n"
     ]
    },
    {
     "name": "stdout",
     "output_type": "stream",
     "text": [
      "\u001b[93m[WARN] [differ] qid constructor_accessor_axiom not found in dbg/ce3b53d3eb/orig.smt2 \u001b[0m\n"
     ]
    },
    {
     "name": "stderr",
     "output_type": "stream",
     "text": [
      "\u001b[94m[DEBUG] saving cache at ce3b53d3eb.to.report \u001b[0m\n"
     ]
    },
    {
     "name": "stdout",
     "output_type": "stream",
     "text": [
      "\u001b[93m[WARN] [differ] qid constructor_accessor_axiom not found in dbg/d1535f1776/orig.smt2 \u001b[0m\n",
      "\u001b[93m[WARN] [differ] qid <null> not found in dbg/d1535f1776/orig.smt2 \u001b[0m\n"
     ]
    },
    {
     "name": "stderr",
     "output_type": "stream",
     "text": [
      "\u001b[94m[DEBUG] saving cache at d1535f1776.to.report \u001b[0m\n"
     ]
    },
    {
     "name": "stdout",
     "output_type": "stream",
     "text": [
      "\u001b[93m[WARN] [differ] qid constructor_accessor_axiom not found in dbg/d71eeda4cd/orig.smt2 \u001b[0m\n",
      "\u001b[93m[WARN] [differ] qid <null> not found in dbg/d71eeda4cd/orig.smt2 \u001b[0m\n"
     ]
    },
    {
     "name": "stderr",
     "output_type": "stream",
     "text": [
      "\u001b[94m[DEBUG] saving cache at d71eeda4cd.to.report \u001b[0m\n",
      "\u001b[94m[DEBUG] [edit] proof path: dbg/1d23e345a5/proofs/shuffle.1504448070806092319.proof \u001b[0m\n",
      "\u001b[94m[DEBUG] [edit] trace path: dbg/1d23e345a5/traces/reseed.2928642696417764497 \u001b[0m\n"
     ]
    },
    {
     "name": "stdout",
     "output_type": "stream",
     "text": [
      "0729a88529c8d9272575ed8d3cf1bf15.pickle\n",
      "\u001b[93m[WARN] [differ] qid constructor_accessor_axiom not found in dbg/cca6928c4f/orig.smt2 \u001b[0m\n",
      "\u001b[93m[WARN] [differ] qid unnamed not found in dbg/cca6928c4f/orig.smt2 \u001b[0m\n",
      "\u001b[93m[WARN] [differ] qid is-Prims.equals not found in dbg/cca6928c4f/orig.smt2 \u001b[0m\n",
      "\u001b[93m[WARN] [differ] qid is-Prims.h_equals not found in dbg/cca6928c4f/orig.smt2 \u001b[0m\n",
      "\u001b[93m[WARN] [differ] qid is-Prims.c_and not found in dbg/cca6928c4f/orig.smt2 \u001b[0m\n",
      "\u001b[93m[WARN] [differ] qid is-Prims.c_or not found in dbg/cca6928c4f/orig.smt2 \u001b[0m\n",
      "\u001b[93m[WARN] [differ] qid is-Prims.dtuple2 not found in dbg/cca6928c4f/orig.smt2 \u001b[0m\n",
      "\u001b[93m[WARN] [differ] qid is-Prims.list not found in dbg/cca6928c4f/orig.smt2 \u001b[0m\n",
      "\u001b[93m[WARN] [differ] qid is-FStar.Pervasives.Native.option not found in dbg/cca6928c4f/orig.smt2 \u001b[0m\n",
      "\u001b[93m[WARN] [differ] qid is-FStar.Pervasives.Native.tuple2 not found in dbg/cca6928c4f/orig.smt2 \u001b[0m\n",
      "\u001b[93m[WARN] [differ] qid is-FStar.Pervasives.Native.tuple3 not found in dbg/cca6928c4f/orig.smt2 \u001b[0m\n",
      "\u001b[93m[WARN] [differ] qid is-FStar.Pervasives.Native.tuple4 not found in dbg/cca6928c4f/orig.smt2 \u001b[0m\n",
      "\u001b[93m[WARN] [differ] qid is-FStar.Pervasives.Native.tuple5 not found in dbg/cca6928c4f/orig.smt2 \u001b[0m\n",
      "\u001b[93m[WARN] [differ] qid is-FStar.Pervasives.Native.tuple6 not found in dbg/cca6928c4f/orig.smt2 \u001b[0m\n",
      "\u001b[93m[WARN] [differ] qid is-FStar.Pervasives.Native.tuple7 not found in dbg/cca6928c4f/orig.smt2 \u001b[0m\n",
      "\u001b[93m[WARN] [differ] qid is-FStar.Pervasives.Native.tuple8 not found in dbg/cca6928c4f/orig.smt2 \u001b[0m\n",
      "\u001b[93m[WARN] [differ] qid is-FStar.Pervasives.Native.tuple9 not found in dbg/cca6928c4f/orig.smt2 \u001b[0m\n",
      "\u001b[93m[WARN] [differ] qid is-FStar.Pervasives.Native.tuple10 not found in dbg/cca6928c4f/orig.smt2 \u001b[0m\n",
      "\u001b[93m[WARN] [differ] qid is-FStar.Pervasives.Native.tuple11 not found in dbg/cca6928c4f/orig.smt2 \u001b[0m\n",
      "\u001b[93m[WARN] [differ] qid is-FStar.Pervasives.Native.tuple12 not found in dbg/cca6928c4f/orig.smt2 \u001b[0m\n",
      "\u001b[93m[WARN] [differ] qid is-FStar.Pervasives.Native.tuple13 not found in dbg/cca6928c4f/orig.smt2 \u001b[0m\n",
      "\u001b[93m[WARN] [differ] qid is-FStar.Pervasives.Native.tuple14 not found in dbg/cca6928c4f/orig.smt2 \u001b[0m\n",
      "\u001b[93m[WARN] [differ] qid is-FStar.Pervasives.result not found in dbg/cca6928c4f/orig.smt2 \u001b[0m\n",
      "\u001b[93m[WARN] [differ] qid is-FStar.Pervasives.either not found in dbg/cca6928c4f/orig.smt2 \u001b[0m\n",
      "\u001b[93m[WARN] [differ] qid is-FStar.Pervasives.dtuple3 not found in dbg/cca6928c4f/orig.smt2 \u001b[0m\n",
      "\u001b[93m[WARN] [differ] qid is-FStar.Pervasives.dtuple4 not found in dbg/cca6928c4f/orig.smt2 \u001b[0m\n",
      "\u001b[93m[WARN] [differ] qid is-FStar.Calc.calc_proof not found in dbg/cca6928c4f/orig.smt2 \u001b[0m\n",
      "\u001b[93m[WARN] [differ] qid is-FStar.Calc.calc_pack not found in dbg/cca6928c4f/orig.smt2 \u001b[0m\n",
      "\u001b[93m[WARN] [differ] qid is-FStar.Monotonic.HyperStack.mreference_ not found in dbg/cca6928c4f/orig.smt2 \u001b[0m\n",
      "\u001b[93m[WARN] [differ] qid is-FStar.ModifiesGen.cls not found in dbg/cca6928c4f/orig.smt2 \u001b[0m\n",
      "\u001b[93m[WARN] [differ] qid is-FStar.Tactics.Result.__result not found in dbg/cca6928c4f/orig.smt2 \u001b[0m\n",
      "\u001b[93m[WARN] [differ] qid is-LowParse.Slice.slice not found in dbg/cca6928c4f/orig.smt2 \u001b[0m\n",
      "\u001b[93m[WARN] [differ] qid is-LowParse.Low.Base.Spec.clens not found in dbg/cca6928c4f/orig.smt2 \u001b[0m\n",
      "\u001b[93m[WARN] [differ] qid is-LowParse.Low.Base.irepr not found in dbg/cca6928c4f/orig.smt2 \u001b[0m\n",
      "\u001b[93m[WARN] [differ] qid is-L0.X509.DeviceIDCSR.deviceIDCSR_payload_t not found in dbg/cca6928c4f/orig.smt2 \u001b[0m\n",
      "\u001b[93m[WARN] [differ] qid is-L0.X509.AliasKeyCRT.aliasKeyCRT_payload_t not found in dbg/cca6928c4f/orig.smt2 \u001b[0m\n",
      "\u001b[93m[WARN] [differ] qid is-LowStar.Printf.lift not found in dbg/cca6928c4f/orig.smt2 \u001b[0m\n"
     ]
    },
    {
     "name": "stderr",
     "output_type": "stream",
     "text": [
      "\u001b[94m[DEBUG] saving cache at cca6928c4f.to.report \u001b[0m\n"
     ]
    },
    {
     "name": "stdout",
     "output_type": "stream",
     "text": [
      "\u001b[93m[WARN] [differ] qid constructor_accessor_axiom not found in dbg/1d23e345a5/orig.smt2 \u001b[0m\n",
      "\u001b[93m[WARN] [differ] qid unnamed not found in dbg/1d23e345a5/orig.smt2 \u001b[0m\n",
      "\u001b[93m[WARN] [differ] qid is-Prims.equals not found in dbg/1d23e345a5/orig.smt2 \u001b[0m\n",
      "\u001b[93m[WARN] [differ] qid is-Prims.h_equals not found in dbg/1d23e345a5/orig.smt2 \u001b[0m\n",
      "\u001b[93m[WARN] [differ] qid is-Prims.c_and not found in dbg/1d23e345a5/orig.smt2 \u001b[0m\n",
      "\u001b[93m[WARN] [differ] qid is-Prims.c_or not found in dbg/1d23e345a5/orig.smt2 \u001b[0m\n",
      "\u001b[93m[WARN] [differ] qid is-Prims.dtuple2 not found in dbg/1d23e345a5/orig.smt2 \u001b[0m\n",
      "\u001b[93m[WARN] [differ] qid is-Prims.list not found in dbg/1d23e345a5/orig.smt2 \u001b[0m\n",
      "\u001b[93m[WARN] [differ] qid is-FStar.Pervasives.Native.option not found in dbg/1d23e345a5/orig.smt2 \u001b[0m\n",
      "\u001b[93m[WARN] [differ] qid is-FStar.Pervasives.Native.tuple2 not found in dbg/1d23e345a5/orig.smt2 \u001b[0m\n",
      "\u001b[93m[WARN] [differ] qid is-FStar.Pervasives.Native.tuple3 not found in dbg/1d23e345a5/orig.smt2 \u001b[0m\n",
      "\u001b[93m[WARN] [differ] qid is-FStar.Pervasives.Native.tuple4 not found in dbg/1d23e345a5/orig.smt2 \u001b[0m\n",
      "\u001b[93m[WARN] [differ] qid is-FStar.Pervasives.Native.tuple5 not found in dbg/1d23e345a5/orig.smt2 \u001b[0m\n",
      "\u001b[93m[WARN] [differ] qid is-FStar.Pervasives.Native.tuple6 not found in dbg/1d23e345a5/orig.smt2 \u001b[0m\n",
      "\u001b[93m[WARN] [differ] qid is-FStar.Pervasives.Native.tuple7 not found in dbg/1d23e345a5/orig.smt2 \u001b[0m\n",
      "\u001b[93m[WARN] [differ] qid is-FStar.Pervasives.Native.tuple8 not found in dbg/1d23e345a5/orig.smt2 \u001b[0m\n",
      "\u001b[93m[WARN] [differ] qid is-FStar.Pervasives.Native.tuple9 not found in dbg/1d23e345a5/orig.smt2 \u001b[0m\n",
      "\u001b[93m[WARN] [differ] qid is-FStar.Pervasives.Native.tuple10 not found in dbg/1d23e345a5/orig.smt2 \u001b[0m\n",
      "\u001b[93m[WARN] [differ] qid is-FStar.Pervasives.Native.tuple11 not found in dbg/1d23e345a5/orig.smt2 \u001b[0m\n",
      "\u001b[93m[WARN] [differ] qid is-FStar.Pervasives.Native.tuple12 not found in dbg/1d23e345a5/orig.smt2 \u001b[0m\n",
      "\u001b[93m[WARN] [differ] qid is-FStar.Pervasives.Native.tuple13 not found in dbg/1d23e345a5/orig.smt2 \u001b[0m\n",
      "\u001b[93m[WARN] [differ] qid is-FStar.Pervasives.Native.tuple14 not found in dbg/1d23e345a5/orig.smt2 \u001b[0m\n",
      "\u001b[93m[WARN] [differ] qid is-FStar.Pervasives.result not found in dbg/1d23e345a5/orig.smt2 \u001b[0m\n",
      "\u001b[93m[WARN] [differ] qid is-FStar.Pervasives.either not found in dbg/1d23e345a5/orig.smt2 \u001b[0m\n",
      "\u001b[93m[WARN] [differ] qid is-FStar.Pervasives.dtuple3 not found in dbg/1d23e345a5/orig.smt2 \u001b[0m\n",
      "\u001b[93m[WARN] [differ] qid is-FStar.Pervasives.dtuple4 not found in dbg/1d23e345a5/orig.smt2 \u001b[0m\n",
      "\u001b[93m[WARN] [differ] qid is-FStar.Monotonic.HyperStack.mreference_ not found in dbg/1d23e345a5/orig.smt2 \u001b[0m\n",
      "\u001b[93m[WARN] [differ] qid is-FStar.Calc.calc_proof not found in dbg/1d23e345a5/orig.smt2 \u001b[0m\n",
      "\u001b[93m[WARN] [differ] qid is-FStar.Calc.calc_pack not found in dbg/1d23e345a5/orig.smt2 \u001b[0m\n",
      "\u001b[93m[WARN] [differ] qid is-FStar.ModifiesGen.cls not found in dbg/1d23e345a5/orig.smt2 \u001b[0m\n",
      "\u001b[93m[WARN] [differ] qid is-FStar.Tactics.Result.__result not found in dbg/1d23e345a5/orig.smt2 \u001b[0m\n",
      "\u001b[93m[WARN] [differ] qid is-LowParse.Slice.slice not found in dbg/1d23e345a5/orig.smt2 \u001b[0m\n",
      "\u001b[93m[WARN] [differ] qid is-LowParse.Low.Base.Spec.clens not found in dbg/1d23e345a5/orig.smt2 \u001b[0m\n",
      "\u001b[93m[WARN] [differ] qid is-LowParse.Low.Base.irepr not found in dbg/1d23e345a5/orig.smt2 \u001b[0m\n"
     ]
    },
    {
     "name": "stderr",
     "output_type": "stream",
     "text": [
      "\u001b[94m[DEBUG] saving cache at 1d23e345a5.to.report \u001b[0m\n"
     ]
    }
   ],
   "source": [
    "mv = BenchViewer(TIMEOUT_TARGETS, DbgMode.TIMEOUT)"
   ]
  },
  {
   "cell_type": "code",
   "execution_count": 3,
   "metadata": {},
   "outputs": [
    {
     "name": "stdout",
     "output_type": "stream",
     "text": [
      "| category                  |   count | percentage   |\n",
      "|---------------------------|---------|--------------|\n",
      "| StrainerStatus.FINISHED   |     269 | 60.59 %      |\n",
      "| StrainerStatus.NOT_TESTED |     174 | 39.19 %      |\n",
      "| StrainerStatus.ERROR      |       1 | 0.23 %       |\n",
      "| total                     |     444 | 100.00 %     |\n"
     ]
    }
   ],
   "source": [
    "mv.status.print_status()"
   ]
  },
  {
   "cell_type": "code",
   "execution_count": 4,
   "metadata": {},
   "outputs": [
    {
     "name": "stdout",
     "output_type": "stream",
     "text": [
      "0.6096654275092936\n"
     ]
    }
   ],
   "source": [
    "print(len(mv.fixable)/len(mv.status[StrainerStatus.FINISHED]))"
   ]
  },
  {
   "cell_type": "code",
   "execution_count": 30,
   "metadata": {},
   "outputs": [],
   "source": [
    "for q in mv.status[StrainerStatus.NOT_CREATED]:\n",
    "    print(\"./src/debugger3.py -m timeout -i\", mv[q].name_hash, \"--create-project\")"
   ]
  },
  {
   "cell_type": "code",
   "execution_count": 9,
   "metadata": {},
   "outputs": [
    {
     "name": "stdout",
     "output_type": "stream",
     "text": [
      "./src/carve_and_rerun.py data/projs/timeout_9b9277bc39/base.z3\n",
      "./src/carve_and_rerun.py data/projs/timeout_a9ba4f3553/base.z3\n",
      "./src/carve_and_rerun.py data/projs/timeout_266488af24/base.z3\n",
      "./src/carve_and_rerun.py data/projs/timeout_5741fd7355/base.z3\n",
      "./src/carve_and_rerun.py data/projs/timeout_ec816f99a1/base.z3\n",
      "./src/carve_and_rerun.py data/projs/timeout_4eec50bfef/base.z3\n",
      "./src/carve_and_rerun.py data/projs/timeout_b6f117b674/base.z3\n",
      "./src/carve_and_rerun.py data/projs/timeout_b96ad66775/base.z3\n",
      "./src/carve_and_rerun.py data/projs/timeout_179f62e2d4/base.z3\n",
      "./src/carve_and_rerun.py data/projs/timeout_4ddbe507f4/base.z3\n",
      "./src/carve_and_rerun.py data/projs/timeout_e03d7dc55c/base.z3\n",
      "./src/carve_and_rerun.py data/projs/timeout_e2b0591692/base.z3\n",
      "./src/carve_and_rerun.py data/projs/timeout_8909f4c8e6/base.z3\n",
      "./src/carve_and_rerun.py data/projs/timeout_751af3ffba/base.z3\n",
      "./src/carve_and_rerun.py data/projs/timeout_75a47c804d/base.z3\n",
      "./src/carve_and_rerun.py data/projs/timeout_fac95e1ef6/base.z3\n",
      "./src/carve_and_rerun.py data/projs/timeout_ea5023bb77/base.z3\n",
      "./src/carve_and_rerun.py data/projs/timeout_6f6c55d971/base.z3\n",
      "./src/carve_and_rerun.py data/projs/timeout_543c83b4e6/base.z3\n",
      "./src/carve_and_rerun.py data/projs/timeout_8be7c5ec27/base.z3\n",
      "./src/carve_and_rerun.py data/projs/timeout_60095b1a59/base.z3\n",
      "./src/carve_and_rerun.py data/projs/timeout_d64b61f919/base.z3\n",
      "./src/carve_and_rerun.py data/projs/timeout_d9b4a1a745/base.z3\n",
      "./src/carve_and_rerun.py data/projs/timeout_57ff707219/base.z3\n",
      "./src/carve_and_rerun.py data/projs/timeout_0cce886818/base.z3\n",
      "./src/carve_and_rerun.py data/projs/timeout_2f6a6b82e9/base.z3\n",
      "./src/carve_and_rerun.py data/projs/timeout_4f68aa20b3/base.z3\n",
      "./src/carve_and_rerun.py data/projs/timeout_8cd183cebe/base.z3\n",
      "./src/carve_and_rerun.py data/projs/timeout_ef84a89ec9/base.z3\n",
      "./src/carve_and_rerun.py data/projs/timeout_61daeac2cb/base.z3\n",
      "./src/carve_and_rerun.py data/projs/timeout_68e476ab9f/base.z3\n",
      "./src/carve_and_rerun.py data/projs/timeout_4819fafc3f/base.z3\n",
      "./src/carve_and_rerun.py data/projs/timeout_91f1dee2f1/base.z3\n",
      "./src/carve_and_rerun.py data/projs/timeout_c8498ec17a/base.z3\n",
      "./src/carve_and_rerun.py data/projs/timeout_5c1612881d/base.z3\n",
      "./src/carve_and_rerun.py data/projs/timeout_1c167aafa9/base.z3\n",
      "./src/carve_and_rerun.py data/projs/timeout_203627efb4/base.z3\n",
      "./src/carve_and_rerun.py data/projs/timeout_ed36496079/base.z3\n",
      "./src/carve_and_rerun.py data/projs/timeout_175a618390/base.z3\n",
      "./src/carve_and_rerun.py data/projs/timeout_72d4708532/base.z3\n",
      "./src/carve_and_rerun.py data/projs/timeout_3366a80004/base.z3\n",
      "./src/carve_and_rerun.py data/projs/timeout_f77473cf84/base.z3\n",
      "./src/carve_and_rerun.py data/projs/timeout_0cedd72fe1/base.z3\n",
      "./src/carve_and_rerun.py data/projs/timeout_d619135268/base.z3\n",
      "./src/carve_and_rerun.py data/projs/timeout_3296ed07d9/base.z3\n",
      "./src/carve_and_rerun.py data/projs/timeout_a4cb7288c6/base.z3\n",
      "./src/carve_and_rerun.py data/projs/timeout_cb9ff97970/base.z3\n",
      "./src/carve_and_rerun.py data/projs/timeout_a05a8d0e07/base.z3\n",
      "./src/carve_and_rerun.py data/projs/timeout_068433d26a/base.z3\n",
      "./src/carve_and_rerun.py data/projs/timeout_81f91a69f2/base.z3\n",
      "./src/carve_and_rerun.py data/projs/timeout_65f41ba519/base.z3\n",
      "./src/carve_and_rerun.py data/projs/timeout_44ac0b7ce8/base.z3\n",
      "./src/carve_and_rerun.py data/projs/timeout_1752022f42/base.z3\n",
      "./src/carve_and_rerun.py data/projs/timeout_36a1859f27/base.z3\n",
      "./src/carve_and_rerun.py data/projs/timeout_2cbf19182c/base.z3\n",
      "./src/carve_and_rerun.py data/projs/timeout_6665cb0a02/base.z3\n",
      "./src/carve_and_rerun.py data/projs/timeout_93c0449639/base.z3\n",
      "./src/carve_and_rerun.py data/projs/timeout_802c68cc26/base.z3\n",
      "./src/carve_and_rerun.py data/projs/timeout_ee8d1ab295/base.z3\n",
      "./src/carve_and_rerun.py data/projs/timeout_09e4f9c085/base.z3\n",
      "./src/carve_and_rerun.py data/projs/timeout_e0ef4bae19/base.z3\n",
      "./src/carve_and_rerun.py data/projs/timeout_519d87022d/base.z3\n",
      "./src/carve_and_rerun.py data/projs/timeout_676f102c30/base.z3\n",
      "./src/carve_and_rerun.py data/projs/timeout_298f3245ca/base.z3\n",
      "./src/carve_and_rerun.py data/projs/timeout_fbd113c34b/base.z3\n",
      "./src/carve_and_rerun.py data/projs/timeout_695f604e3c/base.z3\n",
      "./src/carve_and_rerun.py data/projs/timeout_9c17013417/base.z3\n",
      "./src/carve_and_rerun.py data/projs/timeout_90270fc66a/base.z3\n",
      "./src/carve_and_rerun.py data/projs/timeout_a19f4272bf/base.z3\n",
      "./src/carve_and_rerun.py data/projs/timeout_1c02a6059f/base.z3\n",
      "./src/carve_and_rerun.py data/projs/timeout_ac4102a2e0/base.z3\n",
      "./src/carve_and_rerun.py data/projs/timeout_3d6f2d9f7a/base.z3\n",
      "./src/carve_and_rerun.py data/projs/timeout_30af6a3633/base.z3\n",
      "./src/carve_and_rerun.py data/projs/timeout_4c2945c620/base.z3\n",
      "./src/carve_and_rerun.py data/projs/timeout_630625681a/base.z3\n",
      "./src/carve_and_rerun.py data/projs/timeout_9e33f70e06/base.z3\n",
      "./src/carve_and_rerun.py data/projs/timeout_82f91d0d6f/base.z3\n",
      "./src/carve_and_rerun.py data/projs/timeout_61fbd4977f/base.z3\n",
      "./src/carve_and_rerun.py data/projs/timeout_66fdaa7389/base.z3\n",
      "./src/carve_and_rerun.py data/projs/timeout_13ee923b22/base.z3\n",
      "./src/carve_and_rerun.py data/projs/timeout_d75368331e/base.z3\n",
      "./src/carve_and_rerun.py data/projs/timeout_92bd652a7c/base.z3\n",
      "./src/carve_and_rerun.py data/projs/timeout_b100de24e1/base.z3\n",
      "./src/carve_and_rerun.py data/projs/timeout_54f8f5c8a6/base.z3\n",
      "./src/carve_and_rerun.py data/projs/timeout_a0a67d231a/base.z3\n",
      "./src/carve_and_rerun.py data/projs/timeout_b52f25923a/base.z3\n",
      "./src/carve_and_rerun.py data/projs/timeout_355b104f3e/base.z3\n",
      "./src/carve_and_rerun.py data/projs/timeout_9bfdf36ae8/base.z3\n",
      "./src/carve_and_rerun.py data/projs/timeout_93c526c629/base.z3\n",
      "./src/carve_and_rerun.py data/projs/timeout_0b346d0f87/base.z3\n",
      "./src/carve_and_rerun.py data/projs/timeout_7e492ef45f/base.z3\n",
      "./src/carve_and_rerun.py data/projs/timeout_caebe30494/base.z3\n",
      "./src/carve_and_rerun.py data/projs/timeout_09f0c73516/base.z3\n",
      "./src/carve_and_rerun.py data/projs/timeout_1b7f64e95b/base.z3\n",
      "./src/carve_and_rerun.py data/projs/timeout_47c0fbf175/base.z3\n",
      "./src/carve_and_rerun.py data/projs/timeout_77448147c2/base.z3\n",
      "./src/carve_and_rerun.py data/projs/timeout_65bb77f5f3/base.z3\n",
      "./src/carve_and_rerun.py data/projs/timeout_a2998ce7e3/base.z3\n",
      "./src/carve_and_rerun.py data/projs/timeout_158af610a6/base.z3\n",
      "./src/carve_and_rerun.py data/projs/timeout_cd0ec39156/base.z3\n",
      "./src/carve_and_rerun.py data/projs/timeout_fc23d57b68/base.z3\n",
      "./src/carve_and_rerun.py data/projs/timeout_01b00606af/base.z3\n",
      "./src/carve_and_rerun.py data/projs/timeout_0effbdcba4/base.z3\n",
      "./src/carve_and_rerun.py data/projs/timeout_f6db5998ec/base.z3\n",
      "./src/carve_and_rerun.py data/projs/timeout_947dcf5ca9/base.z3\n",
      "./src/carve_and_rerun.py data/projs/timeout_1dbfa93b6f/base.z3\n",
      "./src/carve_and_rerun.py data/projs/timeout_f335e72a88/base.z3\n",
      "./src/carve_and_rerun.py data/projs/timeout_37eddcb7ab/base.z3\n",
      "./src/carve_and_rerun.py data/projs/timeout_2211f3ba76/base.z3\n",
      "./src/carve_and_rerun.py data/projs/timeout_e695dc7eeb/base.z3\n",
      "./src/carve_and_rerun.py data/projs/timeout_1b1f6c70ba/base.z3\n",
      "./src/carve_and_rerun.py data/projs/timeout_b1b86518f3/base.z3\n",
      "./src/carve_and_rerun.py data/projs/timeout_6a7bc24676/base.z3\n",
      "./src/carve_and_rerun.py data/projs/timeout_af3454b9b7/base.z3\n",
      "./src/carve_and_rerun.py data/projs/timeout_53b94c898b/base.z3\n",
      "./src/carve_and_rerun.py data/projs/timeout_c9d38b4125/base.z3\n",
      "./src/carve_and_rerun.py data/projs/timeout_d1b83603db/base.z3\n",
      "./src/carve_and_rerun.py data/projs/timeout_3a37e843fb/base.z3\n",
      "./src/carve_and_rerun.py data/projs/timeout_b546a78766/base.z3\n",
      "./src/carve_and_rerun.py data/projs/timeout_70d34357b4/base.z3\n",
      "./src/carve_and_rerun.py data/projs/timeout_9fe662b14c/base.z3\n",
      "./src/carve_and_rerun.py data/projs/timeout_f8271123d9/base.z3\n",
      "./src/carve_and_rerun.py data/projs/timeout_11435d7e73/base.z3\n",
      "./src/carve_and_rerun.py data/projs/timeout_bacb951c70/base.z3\n",
      "./src/carve_and_rerun.py data/projs/timeout_868d0bf364/base.z3\n",
      "./src/carve_and_rerun.py data/projs/timeout_c3e7d9e76e/base.z3\n",
      "./src/carve_and_rerun.py data/projs/timeout_03df204fcd/base.z3\n",
      "./src/carve_and_rerun.py data/projs/timeout_5e2368e7d9/base.z3\n",
      "./src/carve_and_rerun.py data/projs/timeout_1a397d663b/base.z3\n",
      "./src/carve_and_rerun.py data/projs/timeout_b5d367aaf5/base.z3\n",
      "./src/carve_and_rerun.py data/projs/timeout_975f2fa60e/base.z3\n",
      "./src/carve_and_rerun.py data/projs/timeout_ba85c910da/base.z3\n",
      "./src/carve_and_rerun.py data/projs/timeout_667b2b80fe/base.z3\n",
      "./src/carve_and_rerun.py data/projs/timeout_1482b405bf/base.z3\n",
      "./src/carve_and_rerun.py data/projs/timeout_b6c73c6fb9/base.z3\n",
      "./src/carve_and_rerun.py data/projs/timeout_d90c817672/base.z3\n",
      "./src/carve_and_rerun.py data/projs/timeout_5af6d28737/base.z3\n",
      "./src/carve_and_rerun.py data/projs/timeout_391e1b7ac0/base.z3\n",
      "./src/carve_and_rerun.py data/projs/timeout_7bde492655/base.z3\n",
      "./src/carve_and_rerun.py data/projs/timeout_2ca7beb862/base.z3\n",
      "./src/carve_and_rerun.py data/projs/timeout_1870d1afa7/base.z3\n",
      "./src/carve_and_rerun.py data/projs/timeout_f5fa3eaaf7/base.z3\n",
      "./src/carve_and_rerun.py data/projs/timeout_6200b46f8f/base.z3\n",
      "./src/carve_and_rerun.py data/projs/timeout_085408afeb/base.z3\n",
      "./src/carve_and_rerun.py data/projs/timeout_786d3d1ed6/base.z3\n",
      "./src/carve_and_rerun.py data/projs/timeout_9b55212ceb/base.z3\n",
      "./src/carve_and_rerun.py data/projs/timeout_a5dd7919bb/base.z3\n",
      "./src/carve_and_rerun.py data/projs/timeout_c83a6af781/base.z3\n",
      "./src/carve_and_rerun.py data/projs/timeout_58a0fdb9fc/base.z3\n",
      "./src/carve_and_rerun.py data/projs/timeout_926dcc2129/base.z3\n",
      "./src/carve_and_rerun.py data/projs/timeout_39dea8e27a/base.z3\n",
      "./src/carve_and_rerun.py data/projs/timeout_bfa5905941/base.z3\n",
      "./src/carve_and_rerun.py data/projs/timeout_f5dc6f777b/base.z3\n",
      "./src/carve_and_rerun.py data/projs/timeout_7dccaece2d/base.z3\n",
      "./src/carve_and_rerun.py data/projs/timeout_d01bd917c5/base.z3\n",
      "./src/carve_and_rerun.py data/projs/timeout_0b72dcef64/base.z3\n",
      "./src/carve_and_rerun.py data/projs/timeout_a0c42cc37e/base.z3\n",
      "./src/carve_and_rerun.py data/projs/timeout_c7b10ef871/base.z3\n",
      "./src/carve_and_rerun.py data/projs/timeout_0a1a6803c7/base.z3\n",
      "./src/carve_and_rerun.py data/projs/timeout_a95607b981/base.z3\n",
      "./src/carve_and_rerun.py data/projs/timeout_c7dd9386ea/base.z3\n",
      "./src/carve_and_rerun.py data/projs/timeout_2d9d740dd9/base.z3\n",
      "./src/carve_and_rerun.py data/projs/timeout_0c00bb9db6/base.z3\n",
      "./src/carve_and_rerun.py data/projs/timeout_d82f76226c/base.z3\n",
      "./src/carve_and_rerun.py data/projs/timeout_c5633470e3/base.z3\n",
      "./src/carve_and_rerun.py data/projs/timeout_1ebe5e3244/base.z3\n",
      "./src/carve_and_rerun.py data/projs/timeout_50b414ceb9/base.z3\n",
      "./src/carve_and_rerun.py data/projs/timeout_f2162eddbb/base.z3\n",
      "./src/carve_and_rerun.py data/projs/timeout_ce3b53d3eb/base.z3\n",
      "./src/carve_and_rerun.py data/projs/timeout_68aa54b124/base.z3\n",
      "./src/carve_and_rerun.py data/projs/timeout_1de7054a37/base.z3\n",
      "./src/carve_and_rerun.py data/projs/timeout_443cdbaf14/base.z3\n",
      "./src/carve_and_rerun.py data/projs/timeout_2606c5a287/base.z3\n",
      "./src/carve_and_rerun.py data/projs/timeout_a40c2ef0b3/base.z3\n",
      "./src/carve_and_rerun.py data/projs/timeout_9adbe2e346/base.z3\n",
      "./src/carve_and_rerun.py data/projs/timeout_6d5603f1e4/base.z3\n",
      "./src/carve_and_rerun.py data/projs/timeout_cca6928c4f/base.z3\n",
      "./src/carve_and_rerun.py data/projs/timeout_d8fb40a98b/base.z3\n",
      "./src/carve_and_rerun.py data/projs/timeout_5dc26045ea/base.z3\n",
      "./src/carve_and_rerun.py data/projs/timeout_c4350a29e0/base.z3\n",
      "./src/carve_and_rerun.py data/projs/timeout_1ce0be0d98/base.z3\n",
      "./src/carve_and_rerun.py data/projs/timeout_1d23e345a5/base.z3\n",
      "./src/carve_and_rerun.py data/projs/timeout_74e1d044a1/base.z3\n",
      "./src/carve_and_rerun.py data/projs/timeout_d6c59c638c/base.z3\n",
      "./src/carve_and_rerun.py data/projs/timeout_81d60427e7/base.z3\n",
      "./src/carve_and_rerun.py data/projs/timeout_eff0b44ea2/base.z3\n",
      "./src/carve_and_rerun.py data/projs/timeout_be808dd0c3/base.z3\n",
      "./src/carve_and_rerun.py data/projs/timeout_95fa9421b7/base.z3\n",
      "./src/carve_and_rerun.py data/projs/timeout_95ece4e2c8/base.z3\n",
      "./src/carve_and_rerun.py data/projs/timeout_1ecf533970/base.z3\n",
      "./src/carve_and_rerun.py data/projs/timeout_47775b0cf2/base.z3\n",
      "./src/carve_and_rerun.py data/projs/timeout_d1535f1776/base.z3\n",
      "./src/carve_and_rerun.py data/projs/timeout_df44b4f111/base.z3\n",
      "./src/carve_and_rerun.py data/projs/timeout_1996525606/base.z3\n",
      "./src/carve_and_rerun.py data/projs/timeout_3c8b9dae45/base.z3\n",
      "./src/carve_and_rerun.py data/projs/timeout_a027d8f301/base.z3\n",
      "./src/carve_and_rerun.py data/projs/timeout_a854e6c8ad/base.z3\n",
      "./src/carve_and_rerun.py data/projs/timeout_b8265691e7/base.z3\n",
      "./src/carve_and_rerun.py data/projs/timeout_b231954c65/base.z3\n",
      "./src/carve_and_rerun.py data/projs/timeout_cd6015582a/base.z3\n",
      "./src/carve_and_rerun.py data/projs/timeout_1afa5361f7/base.z3\n",
      "./src/carve_and_rerun.py data/projs/timeout_d71eeda4cd/base.z3\n",
      "./src/carve_and_rerun.py data/projs/timeout_9415956048/base.z3\n",
      "./src/carve_and_rerun.py data/projs/timeout_2d00faf52c/base.z3\n",
      "./src/carve_and_rerun.py data/projs/timeout_0711a2f033/base.z3\n",
      "./src/carve_and_rerun.py data/projs/timeout_3b1c756824/base.z3\n",
      "./src/carve_and_rerun.py data/projs/timeout_b6123843b3/base.z3\n",
      "./src/carve_and_rerun.py data/projs/timeout_1c986e634b/base.z3\n",
      "./src/carve_and_rerun.py data/projs/timeout_dc83338098/base.z3\n",
      "./src/carve_and_rerun.py data/projs/timeout_b2c059e298/base.z3\n",
      "./src/carve_and_rerun.py data/projs/timeout_6b83ccf507/base.z3\n",
      "./src/carve_and_rerun.py data/projs/timeout_7eea650229/base.z3\n",
      "./src/carve_and_rerun.py data/projs/timeout_73e0c43c61/base.z3\n",
      "./src/carve_and_rerun.py data/projs/timeout_44a2764cf8/base.z3\n",
      "./src/carve_and_rerun.py data/projs/timeout_112938db3c/base.z3\n",
      "./src/carve_and_rerun.py data/projs/timeout_e1c4753770/base.z3\n",
      "./src/carve_and_rerun.py data/projs/timeout_411ef2f9db/base.z3\n",
      "./src/carve_and_rerun.py data/projs/timeout_2072de2763/base.z3\n",
      "./src/carve_and_rerun.py data/projs/timeout_ff70c76375/base.z3\n",
      "./src/carve_and_rerun.py data/projs/timeout_67d8d6de26/base.z3\n",
      "./src/carve_and_rerun.py data/projs/timeout_f4aec3e1dd/base.z3\n",
      "./src/carve_and_rerun.py data/projs/timeout_7f39d29669/base.z3\n",
      "./src/carve_and_rerun.py data/projs/timeout_4d7e86f7da/base.z3\n",
      "./src/carve_and_rerun.py data/projs/timeout_061f1d0514/base.z3\n",
      "./src/carve_and_rerun.py data/projs/timeout_3e5ee53876/base.z3\n",
      "./src/carve_and_rerun.py data/projs/timeout_422a6c0817/base.z3\n",
      "./src/carve_and_rerun.py data/projs/timeout_52bd8e7cb8/base.z3\n",
      "./src/carve_and_rerun.py data/projs/timeout_e41d0ee45e/base.z3\n",
      "./src/carve_and_rerun.py data/projs/timeout_ab13d91431/base.z3\n",
      "./src/carve_and_rerun.py data/projs/timeout_5fbc06f886/base.z3\n",
      "./src/carve_and_rerun.py data/projs/timeout_8f383c7db0/base.z3\n",
      "./src/carve_and_rerun.py data/projs/timeout_018a6d3a64/base.z3\n",
      "./src/carve_and_rerun.py data/projs/timeout_041773ee5b/base.z3\n",
      "./src/carve_and_rerun.py data/projs/timeout_58d0af9026/base.z3\n",
      "./src/carve_and_rerun.py data/projs/timeout_74193764bc/base.z3\n",
      "./src/carve_and_rerun.py data/projs/timeout_31258859ac/base.z3\n",
      "./src/carve_and_rerun.py data/projs/timeout_87c4d05add/base.z3\n",
      "./src/carve_and_rerun.py data/projs/timeout_a213073776/base.z3\n",
      "./src/carve_and_rerun.py data/projs/timeout_96f127e037/base.z3\n",
      "./src/carve_and_rerun.py data/projs/timeout_84faa1a2fa/base.z3\n",
      "./src/carve_and_rerun.py data/projs/timeout_afa9016fd6/base.z3\n",
      "./src/carve_and_rerun.py data/projs/timeout_6737d567f9/base.z3\n",
      "./src/carve_and_rerun.py data/projs/timeout_740fdc77a1/base.z3\n",
      "./src/carve_and_rerun.py data/projs/timeout_7c6738ef40/base.z3\n",
      "./src/carve_and_rerun.py data/projs/timeout_2ead327dad/base.z3\n",
      "./src/carve_and_rerun.py data/projs/timeout_31e9d7c601/base.z3\n",
      "./src/carve_and_rerun.py data/projs/timeout_3ac32afb30/base.z3\n",
      "./src/carve_and_rerun.py data/projs/timeout_06de62b08b/base.z3\n",
      "./src/carve_and_rerun.py data/projs/timeout_862cb1068a/base.z3\n",
      "./src/carve_and_rerun.py data/projs/timeout_915d51eada/base.z3\n",
      "./src/carve_and_rerun.py data/projs/timeout_cb725a5d7b/base.z3\n",
      "./src/carve_and_rerun.py data/projs/timeout_9f41cf9dd5/base.z3\n",
      "./src/carve_and_rerun.py data/projs/timeout_270b8c3ed1/base.z3\n",
      "./src/carve_and_rerun.py data/projs/timeout_7f97f9269e/base.z3\n",
      "./src/carve_and_rerun.py data/projs/timeout_7e4d6827ed/base.z3\n",
      "./src/carve_and_rerun.py data/projs/timeout_10b27f0984/base.z3\n",
      "./src/carve_and_rerun.py data/projs/timeout_a9102fb49c/base.z3\n",
      "./src/carve_and_rerun.py data/projs/timeout_f1fdf3be38/base.z3\n",
      "./src/carve_and_rerun.py data/projs/timeout_7798796cc9/base.z3\n",
      "./src/carve_and_rerun.py data/projs/timeout_5d39862f72/base.z3\n",
      "./src/carve_and_rerun.py data/projs/timeout_18defa0150/base.z3\n",
      "./src/carve_and_rerun.py data/projs/timeout_02d1b2ad7e/base.z3\n",
      "./src/carve_and_rerun.py data/projs/timeout_b6a7ecec0e/base.z3\n",
      "./src/carve_and_rerun.py data/projs/timeout_1f3cf5998c/base.z3\n",
      "./src/carve_and_rerun.py data/projs/timeout_3d19b7e2c9/base.z3\n",
      "./src/carve_and_rerun.py data/projs/timeout_7e3368fab1/base.z3\n",
      "./src/carve_and_rerun.py data/projs/timeout_47ef270c0c/base.z3\n",
      "./src/carve_and_rerun.py data/projs/timeout_0e3ac592f3/base.z3\n",
      "./src/carve_and_rerun.py data/projs/timeout_a650f4205b/base.z3\n",
      "./src/carve_and_rerun.py data/projs/timeout_c4b6442111/base.z3\n",
      "./src/carve_and_rerun.py data/projs/timeout_4399a84f2c/base.z3\n",
      "./src/carve_and_rerun.py data/projs/timeout_f986501402/base.z3\n",
      "./src/carve_and_rerun.py data/projs/timeout_790839853f/base.z3\n",
      "./src/carve_and_rerun.py data/projs/timeout_12c7d523b1/base.z3\n",
      "./src/carve_and_rerun.py data/projs/timeout_085a5fa6a3/base.z3\n",
      "./src/carve_and_rerun.py data/projs/timeout_44818bcb1f/base.z3\n",
      "./src/carve_and_rerun.py data/projs/timeout_de19cf9fa2/base.z3\n",
      "./src/carve_and_rerun.py data/projs/timeout_e5c19b8ea5/base.z3\n",
      "./src/carve_and_rerun.py data/projs/timeout_fb2ca1a594/base.z3\n",
      "./src/carve_and_rerun.py data/projs/timeout_93815c9e8c/base.z3\n",
      "./src/carve_and_rerun.py data/projs/timeout_72a2c42fee/base.z3\n",
      "./src/carve_and_rerun.py data/projs/timeout_3fdafd8cf5/base.z3\n",
      "./src/carve_and_rerun.py data/projs/timeout_d96ff98f2e/base.z3\n",
      "./src/carve_and_rerun.py data/projs/timeout_0556ae8c88/base.z3\n",
      "./src/carve_and_rerun.py data/projs/timeout_a972e908eb/base.z3\n",
      "./src/carve_and_rerun.py data/projs/timeout_cc5b8bed53/base.z3\n",
      "./src/carve_and_rerun.py data/projs/timeout_0416307c14/base.z3\n",
      "./src/carve_and_rerun.py data/projs/timeout_d874a82c3a/base.z3\n",
      "./src/carve_and_rerun.py data/projs/timeout_24a1fea1cb/base.z3\n",
      "./src/carve_and_rerun.py data/projs/timeout_557e72f7ae/base.z3\n",
      "./src/carve_and_rerun.py data/projs/timeout_a7a2dc0c2d/base.z3\n",
      "./src/carve_and_rerun.py data/projs/timeout_c97090bb09/base.z3\n",
      "./src/carve_and_rerun.py data/projs/timeout_b0d1db8445/base.z3\n",
      "./src/carve_and_rerun.py data/projs/timeout_05641d2609/base.z3\n",
      "./src/carve_and_rerun.py data/projs/timeout_58d93cd4ed/base.z3\n",
      "./src/carve_and_rerun.py data/projs/timeout_17904af761/base.z3\n",
      "./src/carve_and_rerun.py data/projs/timeout_0f400a3f00/base.z3\n",
      "./src/carve_and_rerun.py data/projs/timeout_2d513d1a0e/base.z3\n",
      "./src/carve_and_rerun.py data/projs/timeout_caf3ffb720/base.z3\n",
      "./src/carve_and_rerun.py data/projs/timeout_0cfa69df01/base.z3\n",
      "./src/carve_and_rerun.py data/projs/timeout_06a10772cf/base.z3\n",
      "./src/carve_and_rerun.py data/projs/timeout_9796f7a39f/base.z3\n",
      "./src/carve_and_rerun.py data/projs/timeout_0334fcf203/base.z3\n",
      "./src/carve_and_rerun.py data/projs/timeout_cd99d4eccb/base.z3\n",
      "./src/carve_and_rerun.py data/projs/timeout_2489279611/base.z3\n",
      "./src/carve_and_rerun.py data/projs/timeout_87abcdd247/base.z3\n",
      "./src/carve_and_rerun.py data/projs/timeout_488737f5fe/base.z3\n",
      "./src/carve_and_rerun.py data/projs/timeout_4d6ae633c8/base.z3\n",
      "./src/carve_and_rerun.py data/projs/timeout_28f9cbda22/base.z3\n",
      "./src/carve_and_rerun.py data/projs/timeout_fa733ab6d6/base.z3\n",
      "./src/carve_and_rerun.py data/projs/timeout_39c8cf4676/base.z3\n",
      "./src/carve_and_rerun.py data/projs/timeout_b725c343b6/base.z3\n",
      "./src/carve_and_rerun.py data/projs/timeout_c174525f75/base.z3\n",
      "./src/carve_and_rerun.py data/projs/timeout_ffa588ca99/base.z3\n",
      "./src/carve_and_rerun.py data/projs/timeout_b3ec86d7f1/base.z3\n",
      "./src/carve_and_rerun.py data/projs/timeout_ffb00a9e92/base.z3\n",
      "./src/carve_and_rerun.py data/projs/timeout_ab52dadac1/base.z3\n",
      "./src/carve_and_rerun.py data/projs/timeout_158bcfb113/base.z3\n",
      "./src/carve_and_rerun.py data/projs/timeout_4ce9083b0d/base.z3\n",
      "./src/carve_and_rerun.py data/projs/timeout_94bc3cfd5f/base.z3\n",
      "./src/carve_and_rerun.py data/projs/timeout_fae7756eb4/base.z3\n",
      "./src/carve_and_rerun.py data/projs/timeout_c5b6c95d49/base.z3\n",
      "./src/carve_and_rerun.py data/projs/timeout_1fc9b21323/base.z3\n",
      "./src/carve_and_rerun.py data/projs/timeout_28b317196a/base.z3\n",
      "./src/carve_and_rerun.py data/projs/timeout_7373c499e2/base.z3\n",
      "./src/carve_and_rerun.py data/projs/timeout_7af5ba0b16/base.z3\n",
      "./src/carve_and_rerun.py data/projs/timeout_d8cf640f87/base.z3\n",
      "./src/carve_and_rerun.py data/projs/timeout_22188d7780/base.z3\n",
      "./src/carve_and_rerun.py data/projs/timeout_d367d79e56/base.z3\n",
      "./src/carve_and_rerun.py data/projs/timeout_8a59d4481f/base.z3\n",
      "./src/carve_and_rerun.py data/projs/timeout_07554b6280/base.z3\n",
      "./src/carve_and_rerun.py data/projs/timeout_0e45874c62/base.z3\n",
      "./src/carve_and_rerun.py data/projs/timeout_b182e2a043/base.z3\n",
      "./src/carve_and_rerun.py data/projs/timeout_6b4aac4136/base.z3\n",
      "./src/carve_and_rerun.py data/projs/timeout_90880e63b7/base.z3\n",
      "./src/carve_and_rerun.py data/projs/timeout_2b22e90742/base.z3\n",
      "./src/carve_and_rerun.py data/projs/timeout_4cce058390/base.z3\n",
      "./src/carve_and_rerun.py data/projs/timeout_02378bfc2b/base.z3\n",
      "./src/carve_and_rerun.py data/projs/timeout_a6e96b148b/base.z3\n",
      "./src/carve_and_rerun.py data/projs/timeout_f92fbc3fec/base.z3\n",
      "./src/carve_and_rerun.py data/projs/timeout_5fbd6f43b7/base.z3\n",
      "./src/carve_and_rerun.py data/projs/timeout_20983514ab/base.z3\n",
      "./src/carve_and_rerun.py data/projs/timeout_e743734c96/base.z3\n",
      "./src/carve_and_rerun.py data/projs/timeout_031b71b1cf/base.z3\n",
      "./src/carve_and_rerun.py data/projs/timeout_93954d4dad/base.z3\n",
      "./src/carve_and_rerun.py data/projs/timeout_d347f45fa2/base.z3\n",
      "./src/carve_and_rerun.py data/projs/timeout_2298e56311/base.z3\n",
      "./src/carve_and_rerun.py data/projs/timeout_3ed30b3382/base.z3\n",
      "./src/carve_and_rerun.py data/projs/timeout_45d0bd930b/base.z3\n",
      "./src/carve_and_rerun.py data/projs/timeout_3b176b0694/base.z3\n",
      "./src/carve_and_rerun.py data/projs/timeout_49665b0459/base.z3\n",
      "./src/carve_and_rerun.py data/projs/timeout_e9080f3e47/base.z3\n",
      "./src/carve_and_rerun.py data/projs/timeout_eec60fd21e/base.z3\n",
      "./src/carve_and_rerun.py data/projs/timeout_70b04e001b/base.z3\n",
      "./src/carve_and_rerun.py data/projs/timeout_c8a3060122/base.z3\n",
      "./src/carve_and_rerun.py data/projs/timeout_b920f021f6/base.z3\n",
      "./src/carve_and_rerun.py data/projs/timeout_d27df8e3bb/base.z3\n",
      "./src/carve_and_rerun.py data/projs/timeout_f7f46a3a04/base.z3\n",
      "./src/carve_and_rerun.py data/projs/timeout_b837e52d8b/base.z3\n",
      "./src/carve_and_rerun.py data/projs/timeout_2d98098a21/base.z3\n",
      "./src/carve_and_rerun.py data/projs/timeout_563f5abfa4/base.z3\n",
      "./src/carve_and_rerun.py data/projs/timeout_d0c54edf56/base.z3\n",
      "./src/carve_and_rerun.py data/projs/timeout_555312085e/base.z3\n",
      "./src/carve_and_rerun.py data/projs/timeout_897da79a5c/base.z3\n",
      "./src/carve_and_rerun.py data/projs/timeout_c1a05b62ba/base.z3\n",
      "./src/carve_and_rerun.py data/projs/timeout_9b9e796545/base.z3\n",
      "./src/carve_and_rerun.py data/projs/timeout_d29cd9f10a/base.z3\n",
      "./src/carve_and_rerun.py data/projs/timeout_26cc7a44c8/base.z3\n",
      "./src/carve_and_rerun.py data/projs/timeout_1bcd3aa5cb/base.z3\n",
      "./src/carve_and_rerun.py data/projs/timeout_7492404d65/base.z3\n",
      "./src/carve_and_rerun.py data/projs/timeout_4dc3312a9a/base.z3\n",
      "./src/carve_and_rerun.py data/projs/timeout_7072b00e75/base.z3\n",
      "./src/carve_and_rerun.py data/projs/timeout_1a4c83bd83/base.z3\n",
      "./src/carve_and_rerun.py data/projs/timeout_90e97b47ee/base.z3\n",
      "./src/carve_and_rerun.py data/projs/timeout_59dd7b549d/base.z3\n",
      "./src/carve_and_rerun.py data/projs/timeout_05c075acd8/base.z3\n",
      "./src/carve_and_rerun.py data/projs/timeout_2f80d5bcaa/base.z3\n",
      "./src/carve_and_rerun.py data/projs/timeout_fdcfb278f8/base.z3\n",
      "./src/carve_and_rerun.py data/projs/timeout_62e586cacd/base.z3\n",
      "./src/carve_and_rerun.py data/projs/timeout_adf9eda1ef/base.z3\n",
      "./src/carve_and_rerun.py data/projs/timeout_5add81d45d/base.z3\n",
      "./src/carve_and_rerun.py data/projs/timeout_adb0c59b26/base.z3\n",
      "./src/carve_and_rerun.py data/projs/timeout_782b28a40e/base.z3\n",
      "./src/carve_and_rerun.py data/projs/timeout_059d8a76e6/base.z3\n",
      "./src/carve_and_rerun.py data/projs/timeout_0ad8073737/base.z3\n"
     ]
    }
   ],
   "source": [
    "for q in mv.status[StrainerStatus.NOT_TESTED]:\n",
    "    print(\"./src/carve_and_rerun.py\", mv[q].strainer.test_dir)"
   ]
  },
  {
   "cell_type": "code",
   "execution_count": null,
   "metadata": {},
   "outputs": [
    {
     "name": "stdout",
     "output_type": "stream",
     "text": [
      "\u001b[92m[INFO] removing data/projs/timeout_0cce886818/base.z3/0a6ae61a.smt2 \u001b[0m\n",
      "\u001b[92m[INFO] removing data/projs/timeout_0cce886818/base.z3/2f5be676.smt2 \u001b[0m\n",
      "\u001b[92m[INFO] removing data/projs/timeout_0cce886818/base.z3/43fc9ccb.smt2 \u001b[0m\n",
      "\u001b[92m[INFO] removing data/projs/timeout_0cce886818/base.z3/5d5eb85c.smt2 \u001b[0m\n",
      "\u001b[92m[INFO] removing data/projs/timeout_0cce886818/base.z3/5f853bf0.smt2 \u001b[0m\n",
      "\u001b[92m[INFO] removing data/projs/timeout_0cce886818/base.z3/a407fdaa.smt2 \u001b[0m\n",
      "\u001b[92m[INFO] removing data/projs/timeout_0cce886818/base.z3/c631d07c.smt2 \u001b[0m\n",
      "\u001b[92m[INFO] removing data/projs/timeout_0cce886818/base.z3/f8b8ac80.smt2 \u001b[0m\n",
      "\u001b[92m[INFO] removing data/projs/timeout_0cce886818/base.z3/f982e6f5.smt2 \u001b[0m\n",
      "\u001b[92m[INFO] removing data/projs/timeout_1ab6690346/base.z3/0f61a540.smt2 \u001b[0m\n",
      "\u001b[92m[INFO] removing data/projs/timeout_1ab6690346/base.z3/13390b4f.smt2 \u001b[0m\n",
      "\u001b[92m[INFO] removing data/projs/timeout_1ab6690346/base.z3/1c182dbe.smt2 \u001b[0m\n",
      "\u001b[92m[INFO] removing data/projs/timeout_1ab6690346/base.z3/47718985.smt2 \u001b[0m\n",
      "\u001b[92m[INFO] removing data/projs/timeout_1ab6690346/base.z3/76bd58a6.smt2 \u001b[0m\n",
      "\u001b[92m[INFO] removing data/projs/timeout_1ab6690346/base.z3/76be07b0.smt2 \u001b[0m\n",
      "\u001b[92m[INFO] removing data/projs/timeout_1ab6690346/base.z3/a7599190.smt2 \u001b[0m\n",
      "\u001b[92m[INFO] removing data/projs/timeout_1ab6690346/base.z3/c3e0ea80.smt2 \u001b[0m\n",
      "\u001b[92m[INFO] removing data/projs/timeout_02ce0894ca/base.z3/442f45ef.smt2 \u001b[0m\n",
      "\u001b[92m[INFO] removing data/projs/timeout_02ce0894ca/base.z3/79408a15.smt2 \u001b[0m\n",
      "\u001b[92m[INFO] removing data/projs/timeout_02ce0894ca/base.z3/7e706031.smt2 \u001b[0m\n",
      "\u001b[92m[INFO] removing data/projs/timeout_02ce0894ca/base.z3/84a72aa7.smt2 \u001b[0m\n",
      "\u001b[92m[INFO] removing data/projs/timeout_02ce0894ca/base.z3/b272be71.smt2 \u001b[0m\n",
      "\u001b[92m[INFO] removing data/projs/timeout_02ce0894ca/base.z3/ed8bd8c8.smt2 \u001b[0m\n",
      "\u001b[92m[INFO] removing data/projs/timeout_02ce0894ca/base.z3/f61a58dd.smt2 \u001b[0m\n",
      "\u001b[92m[INFO] removing data/projs/timeout_391e1b7ac0/base.z3/0ba67298.smt2 \u001b[0m\n",
      "\u001b[92m[INFO] removing data/projs/timeout_391e1b7ac0/base.z3/867b0e0d.smt2 \u001b[0m\n",
      "\u001b[92m[INFO] removing data/projs/timeout_391e1b7ac0/base.z3/a67f8294.smt2 \u001b[0m\n",
      "\u001b[92m[INFO] removing data/projs/timeout_391e1b7ac0/base.z3/adcd3cba.smt2 \u001b[0m\n",
      "\u001b[92m[INFO] removing data/projs/timeout_391e1b7ac0/base.z3/ae87c918.smt2 \u001b[0m\n",
      "\u001b[92m[INFO] removing data/projs/timeout_391e1b7ac0/base.z3/ca90766f.smt2 \u001b[0m\n",
      "\u001b[92m[INFO] removing data/projs/timeout_391e1b7ac0/base.z3/e615a016.smt2 \u001b[0m\n",
      "\u001b[92m[INFO] removing data/projs/timeout_391e1b7ac0/base.z3/e7f2feed.smt2 \u001b[0m\n",
      "\u001b[92m[INFO] removing data/projs/timeout_1a397d663b/base.z3/49d6c1f6.smt2 \u001b[0m\n",
      "\u001b[92m[INFO] removing data/projs/timeout_1a397d663b/base.z3/6bb46ec8.smt2 \u001b[0m\n",
      "\u001b[92m[INFO] removing data/projs/timeout_1a397d663b/base.z3/8b4db0ce.smt2 \u001b[0m\n",
      "\u001b[92m[INFO] removing data/projs/timeout_1a397d663b/base.z3/94371850.smt2 \u001b[0m\n",
      "\u001b[92m[INFO] removing data/projs/timeout_1a397d663b/base.z3/9d0cbeef.smt2 \u001b[0m\n",
      "\u001b[92m[INFO] removing data/projs/timeout_82035ba9e7/base.z3/09f86db5.smt2 \u001b[0m\n",
      "\u001b[92m[INFO] removing data/projs/timeout_82035ba9e7/base.z3/126aba85.smt2 \u001b[0m\n",
      "\u001b[92m[INFO] removing data/projs/timeout_82035ba9e7/base.z3/20840784.smt2 \u001b[0m\n",
      "\u001b[92m[INFO] removing data/projs/timeout_82035ba9e7/base.z3/28fd199d.smt2 \u001b[0m\n",
      "\u001b[92m[INFO] removing data/projs/timeout_82035ba9e7/base.z3/33ca668a.smt2 \u001b[0m\n",
      "\u001b[92m[INFO] removing data/projs/timeout_82035ba9e7/base.z3/8dd1fb81.smt2 \u001b[0m\n",
      "\u001b[92m[INFO] removing data/projs/timeout_82035ba9e7/base.z3/f4a79882.smt2 \u001b[0m\n",
      "\u001b[92m[INFO] removing data/projs/timeout_1c02a6059f/base.z3/0ecb09c9.smt2 \u001b[0m\n",
      "\u001b[92m[INFO] removing data/projs/timeout_1c02a6059f/base.z3/33d62e69.smt2 \u001b[0m\n",
      "\u001b[92m[INFO] removing data/projs/timeout_1c02a6059f/base.z3/403f0892.smt2 \u001b[0m\n",
      "\u001b[92m[INFO] removing data/projs/timeout_1c02a6059f/base.z3/43fc9ccb.smt2 \u001b[0m\n",
      "\u001b[92m[INFO] removing data/projs/timeout_1c02a6059f/base.z3/6a107425.smt2 \u001b[0m\n",
      "\u001b[92m[INFO] removing data/projs/timeout_1c02a6059f/base.z3/9f1796c4.smt2 \u001b[0m\n",
      "\u001b[92m[INFO] removing data/projs/timeout_543c83b4e6/base.z3/14e23ba2.smt2 \u001b[0m\n",
      "\u001b[92m[INFO] removing data/projs/timeout_543c83b4e6/base.z3/2c13446e.smt2 \u001b[0m\n",
      "\u001b[92m[INFO] removing data/projs/timeout_543c83b4e6/base.z3/3091f57c.smt2 \u001b[0m\n",
      "\u001b[92m[INFO] removing data/projs/timeout_543c83b4e6/base.z3/3df7e2dc.smt2 \u001b[0m\n",
      "\u001b[92m[INFO] removing data/projs/timeout_543c83b4e6/base.z3/c75fb270.smt2 \u001b[0m\n",
      "\u001b[92m[INFO] removing data/projs/timeout_543c83b4e6/base.z3/ca3be2a7.smt2 \u001b[0m\n",
      "\u001b[92m[INFO] removing data/projs/timeout_543c83b4e6/base.z3/dbf580f5.smt2 \u001b[0m\n",
      "\u001b[92m[INFO] removing data/projs/timeout_543c83b4e6/base.z3/e96180ce.smt2 \u001b[0m\n",
      "\u001b[92m[INFO] removing data/projs/timeout_543c83b4e6/base.z3/f9b5d030.smt2 \u001b[0m\n",
      "\u001b[92m[INFO] removing data/projs/timeout_4ddbe507f4/base.z3/0c6d6377.smt2 \u001b[0m\n",
      "\u001b[92m[INFO] removing data/projs/timeout_4ddbe507f4/base.z3/126aba85.smt2 \u001b[0m\n",
      "\u001b[92m[INFO] removing data/projs/timeout_4ddbe507f4/base.z3/34bcb316.smt2 \u001b[0m\n",
      "\u001b[92m[INFO] removing data/projs/timeout_4ddbe507f4/base.z3/5c65dffa.smt2 \u001b[0m\n",
      "\u001b[92m[INFO] removing data/projs/timeout_4ddbe507f4/base.z3/607dd8c8.smt2 \u001b[0m\n",
      "\u001b[92m[INFO] removing data/projs/timeout_4ddbe507f4/base.z3/6dfbffba.smt2 \u001b[0m\n",
      "\u001b[92m[INFO] removing data/projs/timeout_4ddbe507f4/base.z3/b92f1ac5.smt2 \u001b[0m\n",
      "\u001b[92m[INFO] removing data/projs/timeout_4ddbe507f4/base.z3/cdca5137.smt2 \u001b[0m\n",
      "\u001b[92m[INFO] removing data/projs/timeout_4ddbe507f4/base.z3/fd5edce2.smt2 \u001b[0m\n",
      "\u001b[92m[INFO] removing data/projs/timeout_caebe30494/base.z3/a0d697f2.smt2 \u001b[0m\n",
      "\u001b[92m[INFO] removing data/projs/timeout_caebe30494/base.z3/a48e8f1a.smt2 \u001b[0m\n",
      "\u001b[92m[INFO] removing data/projs/timeout_caebe30494/base.z3/adecdd66.smt2 \u001b[0m\n",
      "\u001b[92m[INFO] removing data/projs/timeout_caebe30494/base.z3/aead26b8.smt2 \u001b[0m\n",
      "\u001b[92m[INFO] removing data/projs/timeout_93c526c629/base.z3/18aa3c66.smt2 \u001b[0m\n",
      "\u001b[92m[INFO] removing data/projs/timeout_93c526c629/base.z3/43896ab3.smt2 \u001b[0m\n",
      "\u001b[92m[INFO] removing data/projs/timeout_93c526c629/base.z3/6254fa00.smt2 \u001b[0m\n",
      "\u001b[92m[INFO] removing data/projs/timeout_93c526c629/base.z3/6f59fdcf.smt2 \u001b[0m\n",
      "\u001b[92m[INFO] removing data/projs/timeout_93c526c629/base.z3/ac636c94.smt2 \u001b[0m\n",
      "\u001b[92m[INFO] removing data/projs/timeout_93c526c629/base.z3/c24ae7e4.smt2 \u001b[0m\n",
      "\u001b[92m[INFO] removing data/projs/timeout_93c526c629/base.z3/c84e64db.smt2 \u001b[0m\n",
      "\u001b[92m[INFO] removing data/projs/timeout_93c526c629/base.z3/ca667e22.smt2 \u001b[0m\n",
      "\u001b[92m[INFO] removing data/projs/timeout_b546a78766/base.z3/0cb285d8.smt2 \u001b[0m\n",
      "\u001b[92m[INFO] removing data/projs/timeout_b546a78766/base.z3/4d459aa5.smt2 \u001b[0m\n",
      "\u001b[92m[INFO] removing data/projs/timeout_b546a78766/base.z3/51de8265.smt2 \u001b[0m\n",
      "\u001b[92m[INFO] removing data/projs/timeout_b546a78766/base.z3/6fb113c7.smt2 \u001b[0m\n",
      "\u001b[92m[INFO] removing data/projs/timeout_b546a78766/base.z3/770e74b6.smt2 \u001b[0m\n",
      "\u001b[92m[INFO] removing data/projs/timeout_b546a78766/base.z3/7d2a8f67.smt2 \u001b[0m\n",
      "\u001b[92m[INFO] removing data/projs/timeout_b546a78766/base.z3/a7599190.smt2 \u001b[0m\n",
      "\u001b[92m[INFO] removing data/projs/timeout_b546a78766/base.z3/b17dccfa.smt2 \u001b[0m\n",
      "\u001b[92m[INFO] removing data/projs/timeout_b546a78766/base.z3/c870442d.smt2 \u001b[0m\n",
      "\u001b[92m[INFO] removing data/projs/timeout_1752022f42/base.z3/6d4c212c.smt2 \u001b[0m\n",
      "\u001b[92m[INFO] removing data/projs/timeout_1752022f42/base.z3/8181231d.smt2 \u001b[0m\n",
      "\u001b[92m[INFO] removing data/projs/timeout_1752022f42/base.z3/8a6e08ce.smt2 \u001b[0m\n",
      "\u001b[92m[INFO] removing data/projs/timeout_1752022f42/base.z3/b346070c.smt2 \u001b[0m\n",
      "\u001b[92m[INFO] removing data/projs/timeout_1752022f42/base.z3/c50e0151.smt2 \u001b[0m\n",
      "\u001b[92m[INFO] removing data/projs/timeout_1752022f42/base.z3/c7a27c72.smt2 \u001b[0m\n",
      "\u001b[92m[INFO] removing data/projs/timeout_1752022f42/base.z3/f9fc15cd.smt2 \u001b[0m\n",
      "\u001b[92m[INFO] removing data/projs/timeout_1752022f42/base.z3/fdfef90c.smt2 \u001b[0m\n",
      "\u001b[92m[INFO] removing data/projs/timeout_a4cb7288c6/base.z3/007ad213.smt2 \u001b[0m\n",
      "\u001b[92m[INFO] removing data/projs/timeout_a4cb7288c6/base.z3/16a22ee9.smt2 \u001b[0m\n",
      "\u001b[92m[INFO] removing data/projs/timeout_a4cb7288c6/base.z3/90e5953d.smt2 \u001b[0m\n",
      "\u001b[92m[INFO] removing data/projs/timeout_a4cb7288c6/base.z3/ae87c918.smt2 \u001b[0m\n",
      "\u001b[92m[INFO] removing data/projs/timeout_a4cb7288c6/base.z3/bc9a99ae.smt2 \u001b[0m\n",
      "\u001b[92m[INFO] removing data/projs/timeout_a4cb7288c6/base.z3/c56e4409.smt2 \u001b[0m\n",
      "\u001b[92m[INFO] removing data/projs/timeout_a4cb7288c6/base.z3/d4118553.smt2 \u001b[0m\n",
      "\u001b[92m[INFO] removing data/projs/timeout_de06634d5d/base.z3/09fc4738.smt2 \u001b[0m\n",
      "\u001b[92m[INFO] removing data/projs/timeout_de06634d5d/base.z3/47e4d60e.smt2 \u001b[0m\n",
      "\u001b[92m[INFO] removing data/projs/timeout_de06634d5d/base.z3/53acbd9f.smt2 \u001b[0m\n",
      "\u001b[92m[INFO] removing data/projs/timeout_de06634d5d/base.z3/892afc57.smt2 \u001b[0m\n",
      "\u001b[92m[INFO] removing data/projs/timeout_de06634d5d/base.z3/8cee8840.smt2 \u001b[0m\n",
      "\u001b[92m[INFO] removing data/projs/timeout_de06634d5d/base.z3/ae87c918.smt2 \u001b[0m\n",
      "\u001b[92m[INFO] removing data/projs/timeout_c066e22df7/base.z3/485bd56d.smt2 \u001b[0m\n",
      "\u001b[92m[INFO] removing data/projs/timeout_c066e22df7/base.z3/4dcaf53e.smt2 \u001b[0m\n",
      "\u001b[92m[INFO] removing data/projs/timeout_c066e22df7/base.z3/631dabbb.smt2 \u001b[0m\n",
      "\u001b[92m[INFO] removing data/projs/timeout_c066e22df7/base.z3/a7599190.smt2 \u001b[0m\n",
      "\u001b[92m[INFO] removing data/projs/timeout_c066e22df7/base.z3/c2ff179f.smt2 \u001b[0m\n",
      "\u001b[92m[INFO] removing data/projs/timeout_c066e22df7/base.z3/d313063d.smt2 \u001b[0m\n",
      "\u001b[92m[INFO] removing data/projs/timeout_c066e22df7/base.z3/f70d201d.smt2 \u001b[0m\n",
      "\u001b[92m[INFO] removing data/projs/timeout_cc1d9c148f/base.z3/61d0072a.smt2 \u001b[0m\n",
      "\u001b[92m[INFO] removing data/projs/timeout_cc1d9c148f/base.z3/ad1a95a6.smt2 \u001b[0m\n",
      "\u001b[92m[INFO] removing data/projs/timeout_cc1d9c148f/base.z3/d3ab6194.smt2 \u001b[0m\n",
      "\u001b[92m[INFO] removing data/projs/timeout_cc1d9c148f/base.z3/fc64116c.smt2 \u001b[0m\n",
      "\u001b[92m[INFO] removing data/projs/timeout_cc1d9c148f/base.z3/fed1cf88.smt2 \u001b[0m\n",
      "\u001b[92m[INFO] removing data/projs/timeout_2ca7beb862/base.z3/055bfcaa.smt2 \u001b[0m\n",
      "\u001b[92m[INFO] removing data/projs/timeout_2ca7beb862/base.z3/33ca668a.smt2 \u001b[0m\n",
      "\u001b[92m[INFO] removing data/projs/timeout_2ca7beb862/base.z3/5881c97a.smt2 \u001b[0m\n",
      "\u001b[92m[INFO] removing data/projs/timeout_2ca7beb862/base.z3/8c649b02.smt2 \u001b[0m\n",
      "\u001b[92m[INFO] removing data/projs/timeout_2ca7beb862/base.z3/b2a5ca75.smt2 \u001b[0m\n",
      "\u001b[92m[INFO] removing data/projs/timeout_2ca7beb862/base.z3/f6e77036.smt2 \u001b[0m\n",
      "\u001b[92m[INFO] removing data/projs/timeout_1b7f64e95b/base.z3/3091b873.smt2 \u001b[0m\n",
      "\u001b[92m[INFO] removing data/projs/timeout_1b7f64e95b/base.z3/4df6ff6e.smt2 \u001b[0m\n",
      "\u001b[92m[INFO] removing data/projs/timeout_1b7f64e95b/base.z3/59059e55.smt2 \u001b[0m\n",
      "\u001b[92m[INFO] removing data/projs/timeout_1b7f64e95b/base.z3/5abaa810.smt2 \u001b[0m\n",
      "\u001b[92m[INFO] removing data/projs/timeout_1b7f64e95b/base.z3/5b25e7e8.smt2 \u001b[0m\n",
      "\u001b[92m[INFO] removing data/projs/timeout_1b7f64e95b/base.z3/a7599190.smt2 \u001b[0m\n",
      "\u001b[92m[INFO] removing data/projs/timeout_1b7f64e95b/base.z3/bdb4db21.smt2 \u001b[0m\n",
      "\u001b[92m[INFO] removing data/projs/timeout_1b7f64e95b/base.z3/c40df7ec.smt2 \u001b[0m\n",
      "\u001b[92m[INFO] removing data/projs/timeout_1b7f64e95b/base.z3/ec78378e.smt2 \u001b[0m\n",
      "\u001b[92m[INFO] removing data/projs/timeout_00d9c7f438/base.z3/91d422a9.smt2 \u001b[0m\n",
      "\u001b[92m[INFO] removing data/projs/timeout_0effbdcba4/base.z3/0209eb8f.smt2 \u001b[0m\n",
      "\u001b[92m[INFO] removing data/projs/timeout_0effbdcba4/base.z3/5b90754b.smt2 \u001b[0m\n",
      "\u001b[92m[INFO] removing data/projs/timeout_0effbdcba4/base.z3/6058a159.smt2 \u001b[0m\n",
      "\u001b[92m[INFO] removing data/projs/timeout_0effbdcba4/base.z3/7c2e3b5e.smt2 \u001b[0m\n",
      "\u001b[92m[INFO] removing data/projs/timeout_0effbdcba4/base.z3/9806d733.smt2 \u001b[0m\n",
      "\u001b[92m[INFO] removing data/projs/timeout_0effbdcba4/base.z3/df1bed11.smt2 \u001b[0m\n",
      "\u001b[92m[INFO] removing data/projs/timeout_53b94c898b/base.z3/06736c6c.smt2 \u001b[0m\n",
      "\u001b[92m[INFO] removing data/projs/timeout_53b94c898b/base.z3/1cb6f1ea.smt2 \u001b[0m\n",
      "\u001b[92m[INFO] removing data/projs/timeout_53b94c898b/base.z3/2513dae4.smt2 \u001b[0m\n",
      "\u001b[92m[INFO] removing data/projs/timeout_53b94c898b/base.z3/5b143471.smt2 \u001b[0m\n",
      "\u001b[92m[INFO] removing data/projs/timeout_53b94c898b/base.z3/8aacc516.smt2 \u001b[0m\n",
      "\u001b[92m[INFO] removing data/projs/timeout_53b94c898b/base.z3/92ec311d.smt2 \u001b[0m\n",
      "\u001b[92m[INFO] removing data/projs/timeout_53b94c898b/base.z3/ad394553.smt2 \u001b[0m\n",
      "\u001b[92m[INFO] removing data/projs/timeout_53b94c898b/base.z3/ba46cd02.smt2 \u001b[0m\n",
      "\u001b[92m[INFO] removing data/projs/timeout_e65b46b51f/base.z3/2513dae4.smt2 \u001b[0m\n",
      "\u001b[92m[INFO] removing data/projs/timeout_e65b46b51f/base.z3/282ba105.smt2 \u001b[0m\n",
      "\u001b[92m[INFO] removing data/projs/timeout_e65b46b51f/base.z3/8456463a.smt2 \u001b[0m\n",
      "\u001b[92m[INFO] removing data/projs/timeout_e65b46b51f/base.z3/c3ac37bf.smt2 \u001b[0m\n",
      "\u001b[92m[INFO] removing data/projs/timeout_e65b46b51f/base.z3/d88ce6ec.smt2 \u001b[0m\n",
      "\u001b[92m[INFO] removing data/projs/timeout_e65b46b51f/base.z3/de32aaf3.smt2 \u001b[0m\n",
      "\u001b[92m[INFO] removing data/projs/timeout_e65b46b51f/base.z3/e3e905c7.smt2 \u001b[0m\n",
      "\u001b[92m[INFO] removing data/projs/timeout_e65b46b51f/base.z3/ef0b8048.smt2 \u001b[0m\n",
      "\u001b[92m[INFO] removing data/projs/timeout_6bbd2c848c/base.z3/69a2f551.smt2 \u001b[0m\n",
      "\u001b[92m[INFO] removing data/projs/timeout_6bbd2c848c/base.z3/92ec311d.smt2 \u001b[0m\n",
      "\u001b[92m[INFO] removing data/projs/timeout_6bbd2c848c/base.z3/ad394553.smt2 \u001b[0m\n",
      "\u001b[92m[INFO] removing data/projs/timeout_6bbd2c848c/base.z3/de32aaf3.smt2 \u001b[0m\n",
      "\u001b[92m[INFO] removing data/projs/timeout_6bbd2c848c/base.z3/fc669c84.smt2 \u001b[0m\n",
      "\u001b[92m[INFO] removing data/projs/timeout_1482b405bf/base.z3/4e228f39.smt2 \u001b[0m\n",
      "\u001b[92m[INFO] removing data/projs/timeout_9e33f70e06/base.z3/06736c6c.smt2 \u001b[0m\n",
      "\u001b[92m[INFO] removing data/projs/timeout_9e33f70e06/base.z3/11b42bc1.smt2 \u001b[0m\n",
      "\u001b[92m[INFO] removing data/projs/timeout_9e33f70e06/base.z3/2eccfc60.smt2 \u001b[0m\n",
      "\u001b[92m[INFO] removing data/projs/timeout_9e33f70e06/base.z3/74a20df9.smt2 \u001b[0m\n",
      "\u001b[92m[INFO] removing data/projs/timeout_9e33f70e06/base.z3/92ec311d.smt2 \u001b[0m\n",
      "\u001b[92m[INFO] removing data/projs/timeout_9e33f70e06/base.z3/a0a08ee4.smt2 \u001b[0m\n",
      "\u001b[92m[INFO] removing data/projs/timeout_9e33f70e06/base.z3/ad394553.smt2 \u001b[0m\n",
      "\u001b[92m[INFO] removing data/projs/timeout_9e33f70e06/base.z3/dab18ea7.smt2 \u001b[0m\n",
      "\u001b[92m[INFO] removing data/projs/timeout_3296ed07d9/base.z3/30e2b061.smt2 \u001b[0m\n",
      "\u001b[92m[INFO] removing data/projs/timeout_3296ed07d9/base.z3/3895c529.smt2 \u001b[0m\n",
      "\u001b[92m[INFO] removing data/projs/timeout_3296ed07d9/base.z3/4b26e786.smt2 \u001b[0m\n",
      "\u001b[92m[INFO] removing data/projs/timeout_3296ed07d9/base.z3/66bece26.smt2 \u001b[0m\n",
      "\u001b[92m[INFO] removing data/projs/timeout_3296ed07d9/base.z3/8b4db0ce.smt2 \u001b[0m\n",
      "\u001b[92m[INFO] removing data/projs/timeout_3296ed07d9/base.z3/d7bcaffb.smt2 \u001b[0m\n",
      "\u001b[92m[INFO] removing data/projs/timeout_cb9ff97970/base.z3/055bfcaa.smt2 \u001b[0m\n",
      "\u001b[92m[INFO] removing data/projs/timeout_cb9ff97970/base.z3/17baa61c.smt2 \u001b[0m\n",
      "\u001b[92m[INFO] removing data/projs/timeout_cb9ff97970/base.z3/1e8e9e5c.smt2 \u001b[0m\n",
      "\u001b[92m[INFO] removing data/projs/timeout_cb9ff97970/base.z3/288c7ab6.smt2 \u001b[0m\n",
      "\u001b[92m[INFO] removing data/projs/timeout_cb9ff97970/base.z3/43fc9ccb.smt2 \u001b[0m\n",
      "\u001b[92m[INFO] removing data/projs/timeout_cb9ff97970/base.z3/5881c97a.smt2 \u001b[0m\n",
      "\u001b[92m[INFO] removing data/projs/timeout_cb9ff97970/base.z3/8c649b02.smt2 \u001b[0m\n",
      "\u001b[92m[INFO] removing data/projs/timeout_cb9ff97970/base.z3/b2a5ca75.smt2 \u001b[0m\n",
      "\u001b[92m[INFO] removing data/projs/timeout_cb9ff97970/base.z3/f6e77036.smt2 \u001b[0m\n",
      "\u001b[92m[INFO] removing data/projs/timeout_34ae13040e/base.z3/08da890b.smt2 \u001b[0m\n",
      "\u001b[92m[INFO] removing data/projs/timeout_34ae13040e/base.z3/334bf11c.smt2 \u001b[0m\n",
      "\u001b[92m[INFO] removing data/projs/timeout_34ae13040e/base.z3/501fe6e9.smt2 \u001b[0m\n",
      "\u001b[92m[INFO] removing data/projs/timeout_34ae13040e/base.z3/605d9477.smt2 \u001b[0m\n",
      "\u001b[92m[INFO] removing data/projs/timeout_34ae13040e/base.z3/8adbafe9.smt2 \u001b[0m\n",
      "\u001b[92m[INFO] removing data/projs/timeout_34ae13040e/base.z3/c01c97ab.smt2 \u001b[0m\n",
      "\u001b[92m[INFO] removing data/projs/timeout_34ae13040e/base.z3/c9ab4835.smt2 \u001b[0m\n",
      "\u001b[92m[INFO] removing data/projs/timeout_34ae13040e/base.z3/e05b2c57.smt2 \u001b[0m\n",
      "\u001b[92m[INFO] removing data/projs/timeout_34ae13040e/base.z3/e3393314.smt2 \u001b[0m\n",
      "\u001b[92m[INFO] removing data/projs/timeout_7e492ef45f/base.z3/12411a28.smt2 \u001b[0m\n",
      "\u001b[92m[INFO] removing data/projs/timeout_7e492ef45f/base.z3/18698456.smt2 \u001b[0m\n",
      "\u001b[92m[INFO] removing data/projs/timeout_7e492ef45f/base.z3/24df5253.smt2 \u001b[0m\n",
      "\u001b[92m[INFO] removing data/projs/timeout_7e492ef45f/base.z3/52696fe4.smt2 \u001b[0m\n",
      "\u001b[92m[INFO] removing data/projs/timeout_7e492ef45f/base.z3/9552e5cd.smt2 \u001b[0m\n",
      "\u001b[92m[INFO] removing data/projs/timeout_7e492ef45f/base.z3/9a08175f.smt2 \u001b[0m\n",
      "\u001b[92m[INFO] removing data/projs/timeout_7e492ef45f/base.z3/b4e4e7b9.smt2 \u001b[0m\n",
      "\u001b[92m[INFO] removing data/projs/timeout_7e492ef45f/base.z3/cbfad459.smt2 \u001b[0m\n",
      "\u001b[92m[INFO] removing data/projs/timeout_175a618390/base.z3/0e38de0d.smt2 \u001b[0m\n",
      "\u001b[92m[INFO] removing data/projs/timeout_175a618390/base.z3/0ea95ab0.smt2 \u001b[0m\n",
      "\u001b[92m[INFO] removing data/projs/timeout_175a618390/base.z3/3895c529.smt2 \u001b[0m\n",
      "\u001b[92m[INFO] removing data/projs/timeout_175a618390/base.z3/9821e1d4.smt2 \u001b[0m\n",
      "\u001b[92m[INFO] removing data/projs/timeout_175a618390/base.z3/a52e1a89.smt2 \u001b[0m\n",
      "\u001b[92m[INFO] removing data/projs/timeout_175a618390/base.z3/c629ca9c.smt2 \u001b[0m\n",
      "\u001b[92m[INFO] removing data/projs/timeout_175a618390/base.z3/de75f091.smt2 \u001b[0m\n",
      "\u001b[92m[INFO] removing data/projs/timeout_175a618390/base.z3/dfa28b82.smt2 \u001b[0m\n",
      "\u001b[92m[INFO] removing data/projs/timeout_266488af24/base.z3/20e62098.smt2 \u001b[0m\n",
      "\u001b[92m[INFO] removing data/projs/timeout_266488af24/base.z3/58f6d793.smt2 \u001b[0m\n",
      "\u001b[92m[INFO] removing data/projs/timeout_266488af24/base.z3/7a351b10.smt2 \u001b[0m\n",
      "\u001b[92m[INFO] removing data/projs/timeout_266488af24/base.z3/8721424e.smt2 \u001b[0m\n",
      "\u001b[92m[INFO] removing data/projs/timeout_266488af24/base.z3/abf960ef.smt2 \u001b[0m\n",
      "\u001b[92m[INFO] removing data/projs/timeout_266488af24/base.z3/b63066f5.smt2 \u001b[0m\n",
      "\u001b[92m[INFO] removing data/projs/timeout_266488af24/base.z3/d3b5d199.smt2 \u001b[0m\n",
      "\u001b[92m[INFO] removing data/projs/timeout_266488af24/base.z3/e78a85f8.smt2 \u001b[0m\n",
      "\u001b[92m[INFO] removing data/projs/timeout_6884529c21/base.z3/47ef3ca7.smt2 \u001b[0m\n",
      "\u001b[92m[INFO] removing data/projs/timeout_6884529c21/base.z3/92ec311d.smt2 \u001b[0m\n",
      "\u001b[92m[INFO] removing data/projs/timeout_6884529c21/base.z3/c2329d66.smt2 \u001b[0m\n",
      "\u001b[92m[INFO] removing data/projs/timeout_6884529c21/base.z3/dab18ea7.smt2 \u001b[0m\n",
      "\u001b[92m[INFO] removing data/projs/timeout_6884529c21/base.z3/de32aaf3.smt2 \u001b[0m\n",
      "\u001b[92m[INFO] removing data/projs/timeout_83c57f0bcb/base.z3/0e38de0d.smt2 \u001b[0m\n",
      "\u001b[92m[INFO] removing data/projs/timeout_83c57f0bcb/base.z3/1b4ec7e3.smt2 \u001b[0m\n",
      "\u001b[92m[INFO] removing data/projs/timeout_83c57f0bcb/base.z3/3895c529.smt2 \u001b[0m\n",
      "\u001b[92m[INFO] removing data/projs/timeout_83c57f0bcb/base.z3/504b0102.smt2 \u001b[0m\n",
      "\u001b[92m[INFO] removing data/projs/timeout_83c57f0bcb/base.z3/7310705f.smt2 \u001b[0m\n",
      "\u001b[92m[INFO] removing data/projs/timeout_83c57f0bcb/base.z3/763ea3b6.smt2 \u001b[0m\n",
      "\u001b[92m[INFO] removing data/projs/timeout_83c57f0bcb/base.z3/b07f3928.smt2 \u001b[0m\n",
      "\u001b[92m[INFO] removing data/projs/timeout_83c57f0bcb/base.z3/c75fb270.smt2 \u001b[0m\n",
      "\u001b[92m[INFO] removing data/projs/timeout_61daeac2cb/base.z3/0c132d6f.smt2 \u001b[0m\n",
      "\u001b[92m[INFO] removing data/projs/timeout_61daeac2cb/base.z3/1b4ec7e3.smt2 \u001b[0m\n",
      "\u001b[92m[INFO] removing data/projs/timeout_61daeac2cb/base.z3/280baba7.smt2 \u001b[0m\n",
      "\u001b[92m[INFO] removing data/projs/timeout_61daeac2cb/base.z3/32c8a805.smt2 \u001b[0m\n",
      "\u001b[92m[INFO] removing data/projs/timeout_61daeac2cb/base.z3/7c505e17.smt2 \u001b[0m\n",
      "\u001b[92m[INFO] removing data/projs/timeout_61daeac2cb/base.z3/7c5ba393.smt2 \u001b[0m\n",
      "\u001b[92m[INFO] removing data/projs/timeout_61daeac2cb/base.z3/7ee4e518.smt2 \u001b[0m\n",
      "\u001b[92m[INFO] removing data/projs/timeout_61daeac2cb/base.z3/ae87c918.smt2 \u001b[0m\n",
      "\u001b[92m[INFO] removing data/projs/timeout_61daeac2cb/base.z3/b69298ae.smt2 \u001b[0m\n",
      "\u001b[92m[INFO] removing data/projs/timeout_37eddcb7ab/base.z3/442f45ef.smt2 \u001b[0m\n",
      "\u001b[92m[INFO] removing data/projs/timeout_37eddcb7ab/base.z3/4462c119.smt2 \u001b[0m\n",
      "\u001b[92m[INFO] removing data/projs/timeout_37eddcb7ab/base.z3/541d1025.smt2 \u001b[0m\n",
      "\u001b[92m[INFO] removing data/projs/timeout_37eddcb7ab/base.z3/5c224c2a.smt2 \u001b[0m\n",
      "\u001b[92m[INFO] removing data/projs/timeout_37eddcb7ab/base.z3/8141dd1c.smt2 \u001b[0m\n",
      "\u001b[92m[INFO] removing data/projs/timeout_37eddcb7ab/base.z3/816b5d46.smt2 \u001b[0m\n",
      "\u001b[92m[INFO] removing data/projs/timeout_37eddcb7ab/base.z3/882ab55a.smt2 \u001b[0m\n",
      "\u001b[92m[INFO] removing data/projs/timeout_37eddcb7ab/base.z3/ae3d601d.smt2 \u001b[0m\n",
      "\u001b[92m[INFO] removing data/projs/timeout_37eddcb7ab/base.z3/cdca5137.smt2 \u001b[0m\n",
      "\u001b[92m[INFO] removing data/projs/timeout_1f1391e20c/base.z3/148f2d2a.smt2 \u001b[0m\n",
      "\u001b[92m[INFO] removing data/projs/timeout_1f1391e20c/base.z3/3b7dab55.smt2 \u001b[0m\n",
      "\u001b[92m[INFO] removing data/projs/timeout_1f1391e20c/base.z3/5ce751bf.smt2 \u001b[0m\n",
      "\u001b[92m[INFO] removing data/projs/timeout_1f1391e20c/base.z3/8e334321.smt2 \u001b[0m\n",
      "\u001b[92m[INFO] removing data/projs/timeout_1f1391e20c/base.z3/9b424b4c.smt2 \u001b[0m\n",
      "\u001b[92m[INFO] removing data/projs/timeout_1f1391e20c/base.z3/a0a08ee4.smt2 \u001b[0m\n",
      "\u001b[92m[INFO] removing data/projs/timeout_1f1391e20c/base.z3/bf1b8c6c.smt2 \u001b[0m\n",
      "\u001b[92m[INFO] removing data/projs/timeout_1f1391e20c/base.z3/e26b835b.smt2 \u001b[0m\n",
      "\u001b[92m[INFO] removing data/projs/timeout_1f1391e20c/base.z3/e5560ffa.smt2 \u001b[0m\n",
      "\u001b[92m[INFO] removing data/projs/timeout_ec816f99a1/base.z3/2592115e.smt2 \u001b[0m\n",
      "\u001b[92m[INFO] removing data/projs/timeout_ec816f99a1/base.z3/3e663378.smt2 \u001b[0m\n",
      "\u001b[92m[INFO] removing data/projs/timeout_ec816f99a1/base.z3/9fb3a4a3.smt2 \u001b[0m\n",
      "\u001b[92m[INFO] removing data/projs/timeout_ec816f99a1/base.z3/def4c33c.smt2 \u001b[0m\n",
      "\u001b[92m[INFO] removing data/projs/timeout_0cedd72fe1/base.z3/10a13b7b.smt2 \u001b[0m\n",
      "\u001b[92m[INFO] removing data/projs/timeout_0cedd72fe1/base.z3/28af0773.smt2 \u001b[0m\n",
      "\u001b[92m[INFO] removing data/projs/timeout_0cedd72fe1/base.z3/463c8e50.smt2 \u001b[0m\n",
      "\u001b[92m[INFO] removing data/projs/timeout_0cedd72fe1/base.z3/8aacc516.smt2 \u001b[0m\n",
      "\u001b[92m[INFO] removing data/projs/timeout_0cedd72fe1/base.z3/a48e8f1a.smt2 \u001b[0m\n",
      "\u001b[92m[INFO] removing data/projs/timeout_0cedd72fe1/base.z3/ba2fa2d1.smt2 \u001b[0m\n",
      "\u001b[92m[INFO] removing data/projs/timeout_0cedd72fe1/base.z3/bbe02ace.smt2 \u001b[0m\n",
      "\u001b[92m[INFO] removing data/projs/timeout_0cedd72fe1/base.z3/cd2947b4.smt2 \u001b[0m\n",
      "\u001b[92m[INFO] removing data/projs/timeout_0cedd72fe1/base.z3/de32aaf3.smt2 \u001b[0m\n",
      "\u001b[92m[INFO] removing data/projs/timeout_af3454b9b7/base.z3/19476d1e.smt2 \u001b[0m\n",
      "\u001b[92m[INFO] removing data/projs/timeout_af3454b9b7/base.z3/22175009.smt2 \u001b[0m\n",
      "\u001b[92m[INFO] removing data/projs/timeout_af3454b9b7/base.z3/54ec9f7a.smt2 \u001b[0m\n",
      "\u001b[92m[INFO] removing data/projs/timeout_af3454b9b7/base.z3/633fd027.smt2 \u001b[0m\n",
      "\u001b[92m[INFO] removing data/projs/timeout_af3454b9b7/base.z3/635da571.smt2 \u001b[0m\n",
      "\u001b[92m[INFO] removing data/projs/timeout_af3454b9b7/base.z3/a65af663.smt2 \u001b[0m\n",
      "\u001b[92m[INFO] removing data/projs/timeout_af3454b9b7/base.z3/af162383.smt2 \u001b[0m\n",
      "\u001b[92m[INFO] removing data/projs/timeout_af3454b9b7/base.z3/d4a416d0.smt2 \u001b[0m\n",
      "\u001b[92m[INFO] removing data/projs/timeout_af3454b9b7/base.z3/d63e0872.smt2 \u001b[0m\n",
      "\u001b[92m[INFO] removing data/projs/timeout_09e4f9c085/base.z3/0cf2716b.smt2 \u001b[0m\n",
      "\u001b[92m[INFO] removing data/projs/timeout_09e4f9c085/base.z3/126aba85.smt2 \u001b[0m\n",
      "\u001b[92m[INFO] removing data/projs/timeout_09e4f9c085/base.z3/43d6e7c2.smt2 \u001b[0m\n",
      "\u001b[92m[INFO] removing data/projs/timeout_09e4f9c085/base.z3/79c7ca9e.smt2 \u001b[0m\n",
      "\u001b[92m[INFO] removing data/projs/timeout_09e4f9c085/base.z3/9d0cbeef.smt2 \u001b[0m\n",
      "\u001b[92m[INFO] removing data/projs/timeout_09e4f9c085/base.z3/bc9a99ae.smt2 \u001b[0m\n",
      "\u001b[92m[INFO] removing data/projs/timeout_09e4f9c085/base.z3/c56e4409.smt2 \u001b[0m\n",
      "\u001b[92m[INFO] removing data/projs/timeout_09e4f9c085/base.z3/ebe34cda.smt2 \u001b[0m\n",
      "\u001b[92m[INFO] removing data/projs/timeout_34eda2f999/base.z3/14806597.smt2 \u001b[0m\n",
      "\u001b[92m[INFO] removing data/projs/timeout_34eda2f999/base.z3/1ae2c29e.smt2 \u001b[0m\n",
      "\u001b[92m[INFO] removing data/projs/timeout_34eda2f999/base.z3/8c649b02.smt2 \u001b[0m\n",
      "\u001b[92m[INFO] removing data/projs/timeout_34eda2f999/base.z3/ae87c918.smt2 \u001b[0m\n",
      "\u001b[92m[INFO] removing data/projs/timeout_34eda2f999/base.z3/b92f1ac5.smt2 \u001b[0m\n",
      "\u001b[92m[INFO] removing data/projs/timeout_34eda2f999/base.z3/d5aeac67.smt2 \u001b[0m\n",
      "\u001b[92m[INFO] removing data/projs/timeout_34eda2f999/base.z3/f6e77036.smt2 \u001b[0m\n",
      "\u001b[92m[INFO] removing data/projs/timeout_9825043af6/base.z3/0e9411c0.smt2 \u001b[0m\n",
      "\u001b[92m[INFO] removing data/projs/timeout_9825043af6/base.z3/126aba85.smt2 \u001b[0m\n",
      "\u001b[92m[INFO] removing data/projs/timeout_9825043af6/base.z3/a0a08ee4.smt2 \u001b[0m\n",
      "\u001b[92m[INFO] removing data/projs/timeout_9825043af6/base.z3/adecdd66.smt2 \u001b[0m\n",
      "\u001b[92m[INFO] removing data/projs/timeout_9825043af6/base.z3/af59dc4d.smt2 \u001b[0m\n",
      "\u001b[92m[INFO] removing data/projs/timeout_9825043af6/base.z3/c74500bc.smt2 \u001b[0m\n",
      "\u001b[92m[INFO] removing data/projs/timeout_9825043af6/base.z3/dab18ea7.smt2 \u001b[0m\n",
      "\u001b[92m[INFO] removing data/projs/timeout_9825043af6/base.z3/f90be80f.smt2 \u001b[0m\n",
      "\u001b[92m[INFO] removing data/projs/timeout_9825043af6/base.z3/fafc9ae2.smt2 \u001b[0m\n",
      "\u001b[92m[INFO] removing data/projs/timeout_72d4708532/base.z3/1881ee72.smt2 \u001b[0m\n",
      "\u001b[92m[INFO] removing data/projs/timeout_72d4708532/base.z3/2aa8c7cf.smt2 \u001b[0m\n",
      "\u001b[92m[INFO] removing data/projs/timeout_72d4708532/base.z3/339c798e.smt2 \u001b[0m\n",
      "\u001b[92m[INFO] removing data/projs/timeout_72d4708532/base.z3/342fdad9.smt2 \u001b[0m\n",
      "\u001b[92m[INFO] removing data/projs/timeout_72d4708532/base.z3/5aa5eac6.smt2 \u001b[0m\n",
      "\u001b[92m[INFO] removing data/projs/timeout_72d4708532/base.z3/ae87c918.smt2 \u001b[0m\n",
      "\u001b[92m[INFO] removing data/projs/timeout_72d4708532/base.z3/c011b22b.smt2 \u001b[0m\n",
      "\u001b[92m[INFO] removing data/projs/timeout_72d4708532/base.z3/e6f29be4.smt2 \u001b[0m\n",
      "\u001b[92m[INFO] removing data/projs/timeout_72d4708532/base.z3/f96c3e19.smt2 \u001b[0m\n",
      "\u001b[92m[INFO] removing data/projs/timeout_9af86b2cd6/base.z3/0989759d.smt2 \u001b[0m\n",
      "\u001b[92m[INFO] removing data/projs/timeout_9af86b2cd6/base.z3/0e9411c0.smt2 \u001b[0m\n",
      "\u001b[92m[INFO] removing data/projs/timeout_9af86b2cd6/base.z3/20a953fb.smt2 \u001b[0m\n",
      "\u001b[92m[INFO] removing data/projs/timeout_9af86b2cd6/base.z3/52423da4.smt2 \u001b[0m\n",
      "\u001b[92m[INFO] removing data/projs/timeout_9af86b2cd6/base.z3/54beb440.smt2 \u001b[0m\n",
      "\u001b[92m[INFO] removing data/projs/timeout_9af86b2cd6/base.z3/f29bd3f8.smt2 \u001b[0m\n",
      "\u001b[92m[INFO] removing data/projs/timeout_9af86b2cd6/base.z3/fd103ccc.smt2 \u001b[0m\n",
      "\u001b[92m[INFO] removing data/projs/timeout_f335e72a88/base.z3/07a92aae.smt2 \u001b[0m\n",
      "\u001b[92m[INFO] removing data/projs/timeout_f335e72a88/base.z3/148f2d2a.smt2 \u001b[0m\n",
      "\u001b[92m[INFO] removing data/projs/timeout_f335e72a88/base.z3/67093642.smt2 \u001b[0m\n",
      "\u001b[92m[INFO] removing data/projs/timeout_f335e72a88/base.z3/7d988523.smt2 \u001b[0m\n",
      "\u001b[92m[INFO] removing data/projs/timeout_f335e72a88/base.z3/890cb9da.smt2 \u001b[0m\n",
      "\u001b[92m[INFO] removing data/projs/timeout_802c68cc26/base.z3/74868c6a.smt2 \u001b[0m\n",
      "\u001b[92m[INFO] removing data/projs/timeout_802c68cc26/base.z3/76ba738b.smt2 \u001b[0m\n",
      "\u001b[92m[INFO] removing data/projs/timeout_802c68cc26/base.z3/9fb3a4a3.smt2 \u001b[0m\n",
      "\u001b[92m[INFO] removing data/projs/timeout_802c68cc26/base.z3/de32aaf3.smt2 \u001b[0m\n",
      "\u001b[92m[INFO] removing data/projs/timeout_802c68cc26/base.z3/fed1cf88.smt2 \u001b[0m\n",
      "\u001b[92m[INFO] removing data/projs/timeout_8cd183cebe/base.z3/24df5253.smt2 \u001b[0m\n",
      "\u001b[92m[INFO] removing data/projs/timeout_8cd183cebe/base.z3/3ca2e1de.smt2 \u001b[0m\n",
      "\u001b[92m[INFO] removing data/projs/timeout_8cd183cebe/base.z3/65434b94.smt2 \u001b[0m\n",
      "\u001b[92m[INFO] removing data/projs/timeout_8cd183cebe/base.z3/9552e5cd.smt2 \u001b[0m\n",
      "\u001b[92m[INFO] removing data/projs/timeout_8cd183cebe/base.z3/a042c9f7.smt2 \u001b[0m\n",
      "\u001b[92m[INFO] removing data/projs/timeout_8cd183cebe/base.z3/b4e4e7b9.smt2 \u001b[0m\n",
      "\u001b[92m[INFO] removing data/projs/timeout_d64b61f919/base.z3/126aba85.smt2 \u001b[0m\n",
      "\u001b[92m[INFO] removing data/projs/timeout_d64b61f919/base.z3/288c7ab6.smt2 \u001b[0m\n",
      "\u001b[92m[INFO] removing data/projs/timeout_d64b61f919/base.z3/28fd199d.smt2 \u001b[0m\n",
      "\u001b[92m[INFO] removing data/projs/timeout_d64b61f919/base.z3/38b46e8b.smt2 \u001b[0m\n",
      "\u001b[92m[INFO] removing data/projs/timeout_d64b61f919/base.z3/8b0c3fbd.smt2 \u001b[0m\n",
      "\u001b[92m[INFO] removing data/projs/timeout_d64b61f919/base.z3/8c649b02.smt2 \u001b[0m\n",
      "\u001b[92m[INFO] removing data/projs/timeout_d64b61f919/base.z3/a8762234.smt2 \u001b[0m\n",
      "\u001b[92m[INFO] removing data/projs/timeout_d64b61f919/base.z3/cc80fdde.smt2 \u001b[0m\n",
      "\u001b[92m[INFO] removing data/projs/timeout_fac95e1ef6/base.z3/18d31153.smt2 \u001b[0m\n",
      "\u001b[92m[INFO] removing data/projs/timeout_fac95e1ef6/base.z3/195f2874.smt2 \u001b[0m\n",
      "\u001b[92m[INFO] removing data/projs/timeout_fac95e1ef6/base.z3/1e264477.smt2 \u001b[0m\n",
      "\u001b[92m[INFO] removing data/projs/timeout_fac95e1ef6/base.z3/22b91b96.smt2 \u001b[0m\n",
      "\u001b[92m[INFO] removing data/projs/timeout_fac95e1ef6/base.z3/4cd42466.smt2 \u001b[0m\n",
      "\u001b[92m[INFO] removing data/projs/timeout_fac95e1ef6/base.z3/51e55e05.smt2 \u001b[0m\n",
      "\u001b[92m[INFO] removing data/projs/timeout_fac95e1ef6/base.z3/9685148f.smt2 \u001b[0m\n",
      "\u001b[92m[INFO] removing data/projs/timeout_fac95e1ef6/base.z3/a4f255bb.smt2 \u001b[0m\n",
      "\u001b[92m[INFO] removing data/projs/timeout_e03d7dc55c/base.z3/357df260.smt2 \u001b[0m\n",
      "\u001b[92m[INFO] removing data/projs/timeout_e03d7dc55c/base.z3/3aa0619b.smt2 \u001b[0m\n",
      "\u001b[92m[INFO] removing data/projs/timeout_e03d7dc55c/base.z3/3b33668f.smt2 \u001b[0m\n",
      "\u001b[92m[INFO] removing data/projs/timeout_e03d7dc55c/base.z3/3c42f4b6.smt2 \u001b[0m\n",
      "\u001b[92m[INFO] removing data/projs/timeout_e03d7dc55c/base.z3/7c5ba393.smt2 \u001b[0m\n",
      "\u001b[92m[INFO] removing data/projs/timeout_e03d7dc55c/base.z3/9d61b55b.smt2 \u001b[0m\n",
      "\u001b[92m[INFO] removing data/projs/timeout_e03d7dc55c/base.z3/ae87c918.smt2 \u001b[0m\n",
      "\u001b[92m[INFO] removing data/projs/timeout_e03d7dc55c/base.z3/b2f74ac7.smt2 \u001b[0m\n",
      "\u001b[92m[INFO] removing data/projs/timeout_e03d7dc55c/base.z3/f4e6def2.smt2 \u001b[0m\n",
      "\u001b[92m[INFO] removing data/projs/timeout_54f8f5c8a6/base.z3/126aba85.smt2 \u001b[0m\n",
      "\u001b[92m[INFO] removing data/projs/timeout_54f8f5c8a6/base.z3/17f9e289.smt2 \u001b[0m\n",
      "\u001b[92m[INFO] removing data/projs/timeout_54f8f5c8a6/base.z3/226ab733.smt2 \u001b[0m\n",
      "\u001b[92m[INFO] removing data/projs/timeout_54f8f5c8a6/base.z3/3b33668f.smt2 \u001b[0m\n",
      "\u001b[92m[INFO] removing data/projs/timeout_54f8f5c8a6/base.z3/4f7be910.smt2 \u001b[0m\n",
      "\u001b[92m[INFO] removing data/projs/timeout_54f8f5c8a6/base.z3/52423da4.smt2 \u001b[0m\n",
      "\u001b[92m[INFO] removing data/projs/timeout_54f8f5c8a6/base.z3/8798aec7.smt2 \u001b[0m\n",
      "\u001b[92m[INFO] removing data/projs/timeout_54f8f5c8a6/base.z3/9e01375f.smt2 \u001b[0m\n",
      "\u001b[92m[INFO] removing data/projs/timeout_b100de24e1/base.z3/1326900a.smt2 \u001b[0m\n",
      "\u001b[92m[INFO] removing data/projs/timeout_b100de24e1/base.z3/1dc959fe.smt2 \u001b[0m\n",
      "\u001b[92m[INFO] removing data/projs/timeout_b100de24e1/base.z3/2770c36f.smt2 \u001b[0m\n",
      "\u001b[92m[INFO] removing data/projs/timeout_b100de24e1/base.z3/3d83597c.smt2 \u001b[0m\n",
      "\u001b[92m[INFO] removing data/projs/timeout_b100de24e1/base.z3/6b3df8c4.smt2 \u001b[0m\n",
      "\u001b[92m[INFO] removing data/projs/timeout_b100de24e1/base.z3/819ea34b.smt2 \u001b[0m\n",
      "\u001b[92m[INFO] removing data/projs/timeout_b100de24e1/base.z3/ea809714.smt2 \u001b[0m\n",
      "\u001b[92m[INFO] removing data/projs/timeout_b100de24e1/base.z3/f9301022.smt2 \u001b[0m\n",
      "\u001b[92m[INFO] removing data/projs/timeout_4819fafc3f/base.z3/38c0cbdf.smt2 \u001b[0m\n",
      "\u001b[92m[INFO] removing data/projs/timeout_4819fafc3f/base.z3/43627755.smt2 \u001b[0m\n",
      "\u001b[92m[INFO] removing data/projs/timeout_4819fafc3f/base.z3/485bd56d.smt2 \u001b[0m\n",
      "\u001b[92m[INFO] removing data/projs/timeout_4819fafc3f/base.z3/a7599190.smt2 \u001b[0m\n",
      "\u001b[92m[INFO] removing data/projs/timeout_4819fafc3f/base.z3/c9ab4835.smt2 \u001b[0m\n",
      "\u001b[92m[INFO] removing data/projs/timeout_4819fafc3f/base.z3/dfa28b82.smt2 \u001b[0m\n",
      "\u001b[92m[INFO] removing data/projs/timeout_4819fafc3f/base.z3/f70d201d.smt2 \u001b[0m\n",
      "\u001b[92m[INFO] removing data/projs/timeout_fbd113c34b/base.z3/99b78534.smt2 \u001b[0m\n",
      "\u001b[92m[INFO] removing data/projs/timeout_fbd113c34b/base.z3/a06742e4.smt2 \u001b[0m\n",
      "\u001b[92m[INFO] removing data/projs/timeout_fbd113c34b/base.z3/ad1a95a6.smt2 \u001b[0m\n",
      "\u001b[92m[INFO] removing data/projs/timeout_fbd113c34b/base.z3/d3ab6194.smt2 \u001b[0m\n",
      "\u001b[92m[INFO] removing data/projs/timeout_fbd113c34b/base.z3/f97e45a0.smt2 \u001b[0m\n",
      "\u001b[92m[INFO] removing data/projs/timeout_fbd113c34b/base.z3/fc64116c.smt2 \u001b[0m\n",
      "\u001b[92m[INFO] removing data/projs/timeout_a19f4272bf/base.z3/05428989.smt2 \u001b[0m\n",
      "\u001b[92m[INFO] removing data/projs/timeout_a19f4272bf/base.z3/2ca79ff7.smt2 \u001b[0m\n",
      "\u001b[92m[INFO] removing data/projs/timeout_a19f4272bf/base.z3/31982282.smt2 \u001b[0m\n",
      "\u001b[92m[INFO] removing data/projs/timeout_a19f4272bf/base.z3/87842146.smt2 \u001b[0m\n",
      "\u001b[92m[INFO] removing data/projs/timeout_a19f4272bf/base.z3/ea204fd0.smt2 \u001b[0m\n",
      "\u001b[92m[INFO] removing data/projs/timeout_e2b0591692/base.z3/03c0ec11.smt2 \u001b[0m\n",
      "\u001b[92m[INFO] removing data/projs/timeout_e2b0591692/base.z3/1225b3b8.smt2 \u001b[0m\n",
      "\u001b[92m[INFO] removing data/projs/timeout_e2b0591692/base.z3/2a5e4670.smt2 \u001b[0m\n",
      "\u001b[92m[INFO] removing data/projs/timeout_e2b0591692/base.z3/414bbb82.smt2 \u001b[0m\n",
      "\u001b[92m[INFO] removing data/projs/timeout_e2b0591692/base.z3/479beb96.smt2 \u001b[0m\n",
      "\u001b[92m[INFO] removing data/projs/timeout_e2b0591692/base.z3/660d5c9f.smt2 \u001b[0m\n",
      "\u001b[92m[INFO] removing data/projs/timeout_e2b0591692/base.z3/6e588653.smt2 \u001b[0m\n",
      "\u001b[92m[INFO] removing data/projs/timeout_e2b0591692/base.z3/783fdc7b.smt2 \u001b[0m\n",
      "\u001b[92m[INFO] removing data/projs/timeout_e2b0591692/base.z3/a7599190.smt2 \u001b[0m\n",
      "\u001b[92m[INFO] removing data/projs/timeout_f81ecefbe1/base.z3/12954347.smt2 \u001b[0m\n",
      "\u001b[92m[INFO] removing data/projs/timeout_f81ecefbe1/base.z3/2513dae4.smt2 \u001b[0m\n",
      "\u001b[92m[INFO] removing data/projs/timeout_f81ecefbe1/base.z3/2a1eef48.smt2 \u001b[0m\n",
      "\u001b[92m[INFO] removing data/projs/timeout_f81ecefbe1/base.z3/5b143471.smt2 \u001b[0m\n",
      "\u001b[92m[INFO] removing data/projs/timeout_f81ecefbe1/base.z3/6bddc31e.smt2 \u001b[0m\n",
      "\u001b[92m[INFO] removing data/projs/timeout_f81ecefbe1/base.z3/92ec311d.smt2 \u001b[0m\n",
      "\u001b[92m[INFO] removing data/projs/timeout_f81ecefbe1/base.z3/9fb3a4a3.smt2 \u001b[0m\n",
      "\u001b[92m[INFO] removing data/projs/timeout_738511822f/base.z3/07b00fd8.smt2 \u001b[0m\n",
      "\u001b[92m[INFO] removing data/projs/timeout_738511822f/base.z3/28496725.smt2 \u001b[0m\n",
      "\u001b[92m[INFO] removing data/projs/timeout_738511822f/base.z3/374edec5.smt2 \u001b[0m\n",
      "\u001b[92m[INFO] removing data/projs/timeout_738511822f/base.z3/47a7ce6b.smt2 \u001b[0m\n",
      "\u001b[92m[INFO] removing data/projs/timeout_738511822f/base.z3/7b0478ca.smt2 \u001b[0m\n",
      "\u001b[92m[INFO] removing data/projs/timeout_738511822f/base.z3/aa55def0.smt2 \u001b[0m\n",
      "\u001b[92m[INFO] removing data/projs/timeout_738511822f/base.z3/b2f74ac7.smt2 \u001b[0m\n",
      "\u001b[92m[INFO] removing data/projs/timeout_738511822f/base.z3/bfbb31af.smt2 \u001b[0m\n",
      "\u001b[92m[INFO] removing data/projs/timeout_738511822f/base.z3/e1901fc3.smt2 \u001b[0m\n",
      "\u001b[92m[INFO] removing data/projs/timeout_519d87022d/base.z3/126aba85.smt2 \u001b[0m\n",
      "\u001b[92m[INFO] removing data/projs/timeout_519d87022d/base.z3/43fc9ccb.smt2 \u001b[0m\n",
      "\u001b[92m[INFO] removing data/projs/timeout_519d87022d/base.z3/51fe1d7f.smt2 \u001b[0m\n",
      "\u001b[92m[INFO] removing data/projs/timeout_519d87022d/base.z3/6545d430.smt2 \u001b[0m\n",
      "\u001b[92m[INFO] removing data/projs/timeout_519d87022d/base.z3/bd4ee1bc.smt2 \u001b[0m\n",
      "\u001b[92m[INFO] removing data/projs/timeout_519d87022d/base.z3/c9878531.smt2 \u001b[0m\n",
      "\u001b[92m[INFO] removing data/projs/timeout_519d87022d/base.z3/dd82dcaf.smt2 \u001b[0m\n",
      "\u001b[92m[INFO] removing data/projs/timeout_519d87022d/base.z3/fc68744a.smt2 \u001b[0m\n",
      "\u001b[92m[INFO] removing data/projs/timeout_1c167aafa9/base.z3/38e7f8cb.smt2 \u001b[0m\n",
      "\u001b[92m[INFO] removing data/projs/timeout_1c167aafa9/base.z3/3d462289.smt2 \u001b[0m\n",
      "\u001b[92m[INFO] removing data/projs/timeout_1c167aafa9/base.z3/526bc746.smt2 \u001b[0m\n",
      "\u001b[92m[INFO] removing data/projs/timeout_1c167aafa9/base.z3/615792b8.smt2 \u001b[0m\n",
      "\u001b[92m[INFO] removing data/projs/timeout_1c167aafa9/base.z3/6e58269e.smt2 \u001b[0m\n",
      "\u001b[92m[INFO] removing data/projs/timeout_1c167aafa9/base.z3/7dfc9823.smt2 \u001b[0m\n",
      "\u001b[92m[INFO] removing data/projs/timeout_1c167aafa9/base.z3/99dafbe2.smt2 \u001b[0m\n",
      "\u001b[92m[INFO] removing data/projs/timeout_1c167aafa9/base.z3/de8e9134.smt2 \u001b[0m\n",
      "\u001b[92m[INFO] removing data/projs/timeout_7bde492655/base.z3/09f86db5.smt2 \u001b[0m\n",
      "\u001b[92m[INFO] removing data/projs/timeout_7bde492655/base.z3/634f88ac.smt2 \u001b[0m\n",
      "\u001b[92m[INFO] removing data/projs/timeout_7bde492655/base.z3/9ff8bd8e.smt2 \u001b[0m\n",
      "\u001b[92m[INFO] removing data/projs/timeout_7bde492655/base.z3/a6818a5e.smt2 \u001b[0m\n",
      "\u001b[92m[INFO] removing data/projs/timeout_7bde492655/base.z3/a74c8f38.smt2 \u001b[0m\n",
      "\u001b[92m[INFO] removing data/projs/timeout_7bde492655/base.z3/bcde79a1.smt2 \u001b[0m\n",
      "\u001b[92m[INFO] removing data/projs/timeout_7bde492655/base.z3/ccf63220.smt2 \u001b[0m\n",
      "\u001b[92m[INFO] removing data/projs/timeout_7bde492655/base.z3/d6cadda9.smt2 \u001b[0m\n",
      "\u001b[92m[INFO] removing data/projs/timeout_68e476ab9f/base.z3/126aba85.smt2 \u001b[0m\n",
      "\u001b[92m[INFO] removing data/projs/timeout_68e476ab9f/base.z3/30dc58b5.smt2 \u001b[0m\n",
      "\u001b[92m[INFO] removing data/projs/timeout_68e476ab9f/base.z3/53a070fd.smt2 \u001b[0m\n",
      "\u001b[92m[INFO] removing data/projs/timeout_68e476ab9f/base.z3/789f5cf5.smt2 \u001b[0m\n",
      "\u001b[92m[INFO] removing data/projs/timeout_68e476ab9f/base.z3/947499d7.smt2 \u001b[0m\n",
      "\u001b[92m[INFO] removing data/projs/timeout_68e476ab9f/base.z3/b0df68f6.smt2 \u001b[0m\n",
      "\u001b[92m[INFO] removing data/projs/timeout_68e476ab9f/base.z3/b860f58f.smt2 \u001b[0m\n",
      "\u001b[92m[INFO] removing data/projs/timeout_68e476ab9f/base.z3/db1b53e6.smt2 \u001b[0m\n",
      "\u001b[92m[INFO] removing data/projs/timeout_630625681a/base.z3/07d8917e.smt2 \u001b[0m\n",
      "\u001b[92m[INFO] removing data/projs/timeout_630625681a/base.z3/18c434f4.smt2 \u001b[0m\n",
      "\u001b[92m[INFO] removing data/projs/timeout_630625681a/base.z3/2eccfc60.smt2 \u001b[0m\n",
      "\u001b[92m[INFO] removing data/projs/timeout_630625681a/base.z3/47ef3ca7.smt2 \u001b[0m\n",
      "\u001b[92m[INFO] removing data/projs/timeout_630625681a/base.z3/8dbc076c.smt2 \u001b[0m\n",
      "\u001b[92m[INFO] removing data/projs/timeout_630625681a/base.z3/a0a08ee4.smt2 \u001b[0m\n",
      "\u001b[92m[INFO] removing data/projs/timeout_630625681a/base.z3/ba46cd02.smt2 \u001b[0m\n",
      "\u001b[92m[INFO] removing data/projs/timeout_630625681a/base.z3/c97585a0.smt2 \u001b[0m\n",
      "\u001b[92m[INFO] removing data/projs/timeout_630625681a/base.z3/de32aaf3.smt2 \u001b[0m\n",
      "\u001b[92m[INFO] removing data/projs/timeout_65bb77f5f3/base.z3/22585015.smt2 \u001b[0m\n",
      "\u001b[92m[INFO] removing data/projs/timeout_65bb77f5f3/base.z3/4d137d1d.smt2 \u001b[0m\n",
      "\u001b[92m[INFO] removing data/projs/timeout_65bb77f5f3/base.z3/5868e402.smt2 \u001b[0m\n",
      "\u001b[92m[INFO] removing data/projs/timeout_65bb77f5f3/base.z3/60576403.smt2 \u001b[0m\n",
      "\u001b[92m[INFO] removing data/projs/timeout_65bb77f5f3/base.z3/913b6c60.smt2 \u001b[0m\n",
      "\u001b[92m[INFO] removing data/projs/timeout_65bb77f5f3/base.z3/947499d7.smt2 \u001b[0m\n",
      "\u001b[92m[INFO] removing data/projs/timeout_65bb77f5f3/base.z3/f468f3b0.smt2 \u001b[0m\n",
      "\u001b[92m[INFO] removing data/projs/timeout_4f68aa20b3/base.z3/1d495ea3.smt2 \u001b[0m\n",
      "\u001b[92m[INFO] removing data/projs/timeout_4f68aa20b3/base.z3/1f792de2.smt2 \u001b[0m\n",
      "\u001b[92m[INFO] removing data/projs/timeout_4f68aa20b3/base.z3/3d227a65.smt2 \u001b[0m\n",
      "\u001b[92m[INFO] removing data/projs/timeout_4f68aa20b3/base.z3/4e969b94.smt2 \u001b[0m\n",
      "\u001b[92m[INFO] removing data/projs/timeout_4f68aa20b3/base.z3/6934edd9.smt2 \u001b[0m\n",
      "\u001b[92m[INFO] removing data/projs/timeout_4f68aa20b3/base.z3/734d4fd3.smt2 \u001b[0m\n",
      "\u001b[92m[INFO] removing data/projs/timeout_4f68aa20b3/base.z3/8e50a92f.smt2 \u001b[0m\n",
      "\u001b[92m[INFO] removing data/projs/timeout_4f68aa20b3/base.z3/b6623c67.smt2 \u001b[0m\n",
      "\u001b[92m[INFO] removing data/projs/timeout_4f68aa20b3/base.z3/fc64116c.smt2 \u001b[0m\n",
      "\u001b[92m[INFO] removing data/projs/timeout_d90c817672/base.z3/a0a08ee4.smt2 \u001b[0m\n",
      "\u001b[92m[INFO] removing data/projs/timeout_d90c817672/base.z3/cd2947b4.smt2 \u001b[0m\n",
      "\u001b[92m[INFO] removing data/projs/timeout_d90c817672/base.z3/dab18ea7.smt2 \u001b[0m\n",
      "\u001b[92m[INFO] removing data/projs/timeout_d90c817672/base.z3/f0b55f28.smt2 \u001b[0m\n",
      "\u001b[92m[INFO] removing data/projs/timeout_d90c817672/base.z3/f42bb1e2.smt2 \u001b[0m\n",
      "\u001b[92m[INFO] removing data/projs/timeout_3366a80004/base.z3/43557195.smt2 \u001b[0m\n",
      "\u001b[92m[INFO] removing data/projs/timeout_3366a80004/base.z3/6bb42370.smt2 \u001b[0m\n",
      "\u001b[92m[INFO] removing data/projs/timeout_3366a80004/base.z3/c97585a0.smt2 \u001b[0m\n",
      "\u001b[92m[INFO] removing data/projs/timeout_ac4102a2e0/base.z3/3d227a65.smt2 \u001b[0m\n",
      "\u001b[92m[INFO] removing data/projs/timeout_ac4102a2e0/base.z3/4544fe45.smt2 \u001b[0m\n",
      "\u001b[92m[INFO] removing data/projs/timeout_ac4102a2e0/base.z3/4632c297.smt2 \u001b[0m\n",
      "\u001b[92m[INFO] removing data/projs/timeout_ac4102a2e0/base.z3/5367fe02.smt2 \u001b[0m\n",
      "\u001b[92m[INFO] removing data/projs/timeout_ac4102a2e0/base.z3/76ca2c9e.smt2 \u001b[0m\n",
      "\u001b[92m[INFO] removing data/projs/timeout_ac4102a2e0/base.z3/8fb89864.smt2 \u001b[0m\n",
      "\u001b[92m[INFO] removing data/projs/timeout_ac4102a2e0/base.z3/af59dc4d.smt2 \u001b[0m\n",
      "\u001b[92m[INFO] removing data/projs/timeout_ac4102a2e0/base.z3/b6623c67.smt2 \u001b[0m\n",
      "\u001b[92m[INFO] removing data/projs/timeout_ac4102a2e0/base.z3/bfe7f4a1.smt2 \u001b[0m\n",
      "\u001b[92m[INFO] removing data/projs/timeout_613f2c355d/base.z3/17892585.smt2 \u001b[0m\n",
      "\u001b[92m[INFO] removing data/projs/timeout_613f2c355d/base.z3/1b0ce7a3.smt2 \u001b[0m\n",
      "\u001b[92m[INFO] removing data/projs/timeout_613f2c355d/base.z3/3d227a65.smt2 \u001b[0m\n",
      "\u001b[92m[INFO] removing data/projs/timeout_613f2c355d/base.z3/887bc2b4.smt2 \u001b[0m\n",
      "\u001b[92m[INFO] removing data/projs/timeout_613f2c355d/base.z3/b6623c67.smt2 \u001b[0m\n",
      "\u001b[92m[INFO] removing data/projs/timeout_613f2c355d/base.z3/bfe7f4a1.smt2 \u001b[0m\n",
      "\u001b[92m[INFO] removing data/projs/timeout_2ba7cc6a6a/base.z3/03dad230.smt2 \u001b[0m\n",
      "\u001b[92m[INFO] removing data/projs/timeout_2ba7cc6a6a/base.z3/1513eabd.smt2 \u001b[0m\n",
      "\u001b[92m[INFO] removing data/projs/timeout_2ba7cc6a6a/base.z3/2a61f0e0.smt2 \u001b[0m\n",
      "\u001b[92m[INFO] removing data/projs/timeout_2ba7cc6a6a/base.z3/32c84b0c.smt2 \u001b[0m\n",
      "\u001b[92m[INFO] removing data/projs/timeout_2ba7cc6a6a/base.z3/5ca30a90.smt2 \u001b[0m\n",
      "\u001b[92m[INFO] removing data/projs/timeout_2ba7cc6a6a/base.z3/afb4e628.smt2 \u001b[0m\n",
      "\u001b[92m[INFO] removing data/projs/timeout_2ba7cc6a6a/base.z3/be04a966.smt2 \u001b[0m\n",
      "\u001b[92m[INFO] removing data/projs/timeout_2ba7cc6a6a/base.z3/fb73d838.smt2 \u001b[0m\n",
      "\u001b[92m[INFO] removing data/projs/timeout_3c3d86031e/base.z3/0d2cb249.smt2 \u001b[0m\n",
      "\u001b[92m[INFO] removing data/projs/timeout_3c3d86031e/base.z3/18c434f4.smt2 \u001b[0m\n",
      "\u001b[92m[INFO] removing data/projs/timeout_3c3d86031e/base.z3/1d5f35bc.smt2 \u001b[0m\n",
      "\u001b[92m[INFO] removing data/projs/timeout_3c3d86031e/base.z3/2653d793.smt2 \u001b[0m\n",
      "\u001b[92m[INFO] removing data/projs/timeout_3c3d86031e/base.z3/52dcaf3a.smt2 \u001b[0m\n",
      "\u001b[92m[INFO] removing data/projs/timeout_3c3d86031e/base.z3/7e82e9eb.smt2 \u001b[0m\n",
      "\u001b[92m[INFO] removing data/projs/timeout_3c3d86031e/base.z3/bdb2450e.smt2 \u001b[0m\n",
      "\u001b[92m[INFO] removing data/projs/timeout_3c3d86031e/base.z3/f84ff56d.smt2 \u001b[0m\n",
      "\u001b[92m[INFO] removing data/projs/timeout_8909f4c8e6/base.z3/02b7e30e.smt2 \u001b[0m\n",
      "\u001b[92m[INFO] removing data/projs/timeout_8909f4c8e6/base.z3/048a738c.smt2 \u001b[0m\n",
      "\u001b[92m[INFO] removing data/projs/timeout_8909f4c8e6/base.z3/3e3e8232.smt2 \u001b[0m\n",
      "\u001b[92m[INFO] removing data/projs/timeout_8909f4c8e6/base.z3/510aa625.smt2 \u001b[0m\n",
      "\u001b[92m[INFO] removing data/projs/timeout_8909f4c8e6/base.z3/67d85204.smt2 \u001b[0m\n",
      "\u001b[92m[INFO] removing data/projs/timeout_8909f4c8e6/base.z3/d6d7f45b.smt2 \u001b[0m\n",
      "\u001b[92m[INFO] removing data/projs/timeout_8909f4c8e6/base.z3/e21388da.smt2 \u001b[0m\n",
      "\u001b[92m[INFO] removing data/projs/timeout_91f1dee2f1/base.z3/23fad8ed.smt2 \u001b[0m\n",
      "\u001b[92m[INFO] removing data/projs/timeout_91f1dee2f1/base.z3/343ab81b.smt2 \u001b[0m\n",
      "\u001b[92m[INFO] removing data/projs/timeout_91f1dee2f1/base.z3/5f862b4d.smt2 \u001b[0m\n",
      "\u001b[92m[INFO] removing data/projs/timeout_91f1dee2f1/base.z3/79c263a7.smt2 \u001b[0m\n",
      "\u001b[92m[INFO] removing data/projs/timeout_91f1dee2f1/base.z3/87cd513c.smt2 \u001b[0m\n",
      "\u001b[92m[INFO] removing data/projs/timeout_91f1dee2f1/base.z3/921bd0cb.smt2 \u001b[0m\n",
      "\u001b[92m[INFO] removing data/projs/timeout_91f1dee2f1/base.z3/ca44f92d.smt2 \u001b[0m\n",
      "\u001b[92m[INFO] removing data/projs/timeout_91f1dee2f1/base.z3/de0fadd7.smt2 \u001b[0m\n",
      "\u001b[92m[INFO] removing data/projs/timeout_158af610a6/base.z3/1b1622b3.smt2 \u001b[0m\n",
      "\u001b[92m[INFO] removing data/projs/timeout_158af610a6/base.z3/389d1672.smt2 \u001b[0m\n",
      "\u001b[92m[INFO] removing data/projs/timeout_158af610a6/base.z3/8ae53799.smt2 \u001b[0m\n",
      "\u001b[92m[INFO] removing data/projs/timeout_158af610a6/base.z3/bc4d1795.smt2 \u001b[0m\n",
      "\u001b[92m[INFO] removing data/projs/timeout_158af610a6/base.z3/f0c46ea6.smt2 \u001b[0m\n",
      "\u001b[92m[INFO] removing data/projs/timeout_158af610a6/base.z3/f0fde29e.smt2 \u001b[0m\n",
      "\u001b[92m[INFO] removing data/projs/timeout_1b1f6c70ba/base.z3/36abbe41.smt2 \u001b[0m\n",
      "\u001b[92m[INFO] removing data/projs/timeout_1b1f6c70ba/base.z3/3aa0619b.smt2 \u001b[0m\n",
      "\u001b[92m[INFO] removing data/projs/timeout_1b1f6c70ba/base.z3/52423da4.smt2 \u001b[0m\n",
      "\u001b[92m[INFO] removing data/projs/timeout_1b1f6c70ba/base.z3/5f853bf0.smt2 \u001b[0m\n",
      "\u001b[92m[INFO] removing data/projs/timeout_1b1f6c70ba/base.z3/743c6c53.smt2 \u001b[0m\n",
      "\u001b[92m[INFO] removing data/projs/timeout_1b1f6c70ba/base.z3/b2b3ec51.smt2 \u001b[0m\n",
      "\u001b[92m[INFO] removing data/projs/timeout_1b1f6c70ba/base.z3/dfa28b82.smt2 \u001b[0m\n",
      "\u001b[92m[INFO] removing data/projs/timeout_1b1f6c70ba/base.z3/fd103ccc.smt2 \u001b[0m\n",
      "\u001b[92m[INFO] removing data/projs/timeout_1b1f6c70ba/base.z3/ffd2d3a0.smt2 \u001b[0m\n",
      "\u001b[92m[INFO] removing data/projs/timeout_03df204fcd/base.z3/44c8cfe1.smt2 \u001b[0m\n",
      "\u001b[92m[INFO] removing data/projs/timeout_03df204fcd/base.z3/760fa729.smt2 \u001b[0m\n",
      "\u001b[92m[INFO] removing data/projs/timeout_03df204fcd/base.z3/921bd0cb.smt2 \u001b[0m\n",
      "\u001b[92m[INFO] removing data/projs/timeout_03df204fcd/base.z3/de0fadd7.smt2 \u001b[0m\n",
      "\u001b[92m[INFO] removing data/projs/timeout_4c2945c620/base.z3/18129155.smt2 \u001b[0m\n",
      "\u001b[92m[INFO] removing data/projs/timeout_4c2945c620/base.z3/64ce441d.smt2 \u001b[0m\n",
      "\u001b[92m[INFO] removing data/projs/timeout_4c2945c620/base.z3/72637d58.smt2 \u001b[0m\n",
      "\u001b[92m[INFO] removing data/projs/timeout_4c2945c620/base.z3/7f775bed.smt2 \u001b[0m\n",
      "\u001b[92m[INFO] removing data/projs/timeout_4c2945c620/base.z3/7fe0d328.smt2 \u001b[0m\n",
      "\u001b[92m[INFO] removing data/projs/timeout_4c2945c620/base.z3/99d45b99.smt2 \u001b[0m\n",
      "\u001b[92m[INFO] removing data/projs/timeout_4c2945c620/base.z3/a821fbb7.smt2 \u001b[0m\n",
      "\u001b[92m[INFO] removing data/projs/timeout_4c2945c620/base.z3/b6623c67.smt2 \u001b[0m\n",
      "\u001b[92m[INFO] removing data/projs/timeout_4c2945c620/base.z3/e718332d.smt2 \u001b[0m\n",
      "\u001b[92m[INFO] removing data/projs/timeout_f77473cf84/base.z3/09f86db5.smt2 \u001b[0m\n",
      "\u001b[92m[INFO] removing data/projs/timeout_f77473cf84/base.z3/0ecb09c9.smt2 \u001b[0m\n",
      "\u001b[92m[INFO] removing data/projs/timeout_f77473cf84/base.z3/760abd07.smt2 \u001b[0m\n",
      "\u001b[92m[INFO] removing data/projs/timeout_f77473cf84/base.z3/7f5c1d0a.smt2 \u001b[0m\n",
      "\u001b[92m[INFO] removing data/projs/timeout_f77473cf84/base.z3/838cd8e2.smt2 \u001b[0m\n",
      "\u001b[92m[INFO] removing data/projs/timeout_f77473cf84/base.z3/ae87c918.smt2 \u001b[0m\n",
      "\u001b[92m[INFO] removing data/projs/timeout_36a1859f27/base.z3/02d23a54.smt2 \u001b[0m\n",
      "\u001b[92m[INFO] removing data/projs/timeout_36a1859f27/base.z3/3aa0619b.smt2 \u001b[0m\n",
      "\u001b[92m[INFO] removing data/projs/timeout_36a1859f27/base.z3/568a9066.smt2 \u001b[0m\n",
      "\u001b[92m[INFO] removing data/projs/timeout_36a1859f27/base.z3/5f853bf0.smt2 \u001b[0m\n",
      "\u001b[92m[INFO] removing data/projs/timeout_36a1859f27/base.z3/945f19f6.smt2 \u001b[0m\n",
      "\u001b[92m[INFO] removing data/projs/timeout_36a1859f27/base.z3/9d0cbeef.smt2 \u001b[0m\n",
      "\u001b[92m[INFO] removing data/projs/timeout_36a1859f27/base.z3/b92f1ac5.smt2 \u001b[0m\n",
      "\u001b[92m[INFO] removing data/projs/timeout_36a1859f27/base.z3/cd475325.smt2 \u001b[0m\n",
      "\u001b[92m[INFO] removing data/projs/timeout_36a1859f27/base.z3/dfa28b82.smt2 \u001b[0m\n",
      "\u001b[92m[INFO] removing data/projs/timeout_6f6c55d971/base.z3/92ec311d.smt2 \u001b[0m\n",
      "\u001b[92m[INFO] removing data/projs/timeout_6f6c55d971/base.z3/9fb3a4a3.smt2 \u001b[0m\n",
      "\u001b[92m[INFO] removing data/projs/timeout_6f6c55d971/base.z3/ad394553.smt2 \u001b[0m\n",
      "\u001b[92m[INFO] removing data/projs/timeout_6f6c55d971/base.z3/b17895f2.smt2 \u001b[0m\n",
      "\u001b[92m[INFO] removing data/projs/timeout_6f6c55d971/base.z3/de32aaf3.smt2 \u001b[0m\n",
      "\u001b[92m[INFO] removing data/projs/timeout_f8271123d9/base.z3/09f86db5.smt2 \u001b[0m\n",
      "\u001b[92m[INFO] removing data/projs/timeout_f8271123d9/base.z3/0b9c1079.smt2 \u001b[0m\n",
      "\u001b[92m[INFO] removing data/projs/timeout_f8271123d9/base.z3/43fc9ccb.smt2 \u001b[0m\n",
      "\u001b[92m[INFO] removing data/projs/timeout_f8271123d9/base.z3/7d5cb7f8.smt2 \u001b[0m\n",
      "\u001b[92m[INFO] removing data/projs/timeout_f8271123d9/base.z3/838cd8e2.smt2 \u001b[0m\n",
      "\u001b[92m[INFO] removing data/projs/timeout_f8271123d9/base.z3/8f794521.smt2 \u001b[0m\n",
      "\u001b[92m[INFO] removing data/projs/timeout_f8271123d9/base.z3/b2b3ec51.smt2 \u001b[0m\n",
      "\u001b[92m[INFO] removing data/projs/timeout_f8271123d9/base.z3/cccdb658.smt2 \u001b[0m\n",
      "\u001b[92m[INFO] removing data/projs/timeout_f8271123d9/base.z3/ed1daa0f.smt2 \u001b[0m\n",
      "\u001b[92m[INFO] removing data/projs/timeout_868d0bf364/base.z3/0ddf0a57.smt2 \u001b[0m\n",
      "\u001b[92m[INFO] removing data/projs/timeout_868d0bf364/base.z3/20d73f96.smt2 \u001b[0m\n",
      "\u001b[92m[INFO] removing data/projs/timeout_868d0bf364/base.z3/28c38c0f.smt2 \u001b[0m\n",
      "\u001b[92m[INFO] removing data/projs/timeout_868d0bf364/base.z3/48cd4f3d.smt2 \u001b[0m\n",
      "\u001b[92m[INFO] removing data/projs/timeout_868d0bf364/base.z3/4a399f0d.smt2 \u001b[0m\n",
      "\u001b[92m[INFO] removing data/projs/timeout_868d0bf364/base.z3/951cf3bf.smt2 \u001b[0m\n",
      "\u001b[92m[INFO] removing data/projs/timeout_868d0bf364/base.z3/a47b1b7b.smt2 \u001b[0m\n",
      "\u001b[92m[INFO] removing data/projs/timeout_868d0bf364/base.z3/e31f2ca0.smt2 \u001b[0m\n",
      "\u001b[92m[INFO] removing data/projs/timeout_868d0bf364/base.z3/e4c1bd2a.smt2 \u001b[0m\n",
      "\u001b[92m[INFO] removing data/projs/timeout_81f91a69f2/base.z3/378e8df7.smt2 \u001b[0m\n",
      "\u001b[92m[INFO] removing data/projs/timeout_81f91a69f2/base.z3/3e3681b3.smt2 \u001b[0m\n",
      "\u001b[92m[INFO] removing data/projs/timeout_81f91a69f2/base.z3/59488972.smt2 \u001b[0m\n",
      "\u001b[92m[INFO] removing data/projs/timeout_81f91a69f2/base.z3/64ce441d.smt2 \u001b[0m\n",
      "\u001b[92m[INFO] removing data/projs/timeout_81f91a69f2/base.z3/9ca4b3e2.smt2 \u001b[0m\n",
      "\u001b[92m[INFO] removing data/projs/timeout_81f91a69f2/base.z3/a6d5a505.smt2 \u001b[0m\n",
      "\u001b[92m[INFO] removing data/projs/timeout_81f91a69f2/base.z3/af6973ab.smt2 \u001b[0m\n",
      "\u001b[92m[INFO] removing data/projs/timeout_81f91a69f2/base.z3/ed43dbe9.smt2 \u001b[0m\n",
      "\u001b[92m[INFO] removing data/projs/timeout_81f91a69f2/base.z3/fef8e73e.smt2 \u001b[0m\n",
      "\u001b[92m[INFO] removing data/projs/timeout_92bd652a7c/base.z3/100c90ea.smt2 \u001b[0m\n",
      "\u001b[92m[INFO] removing data/projs/timeout_92bd652a7c/base.z3/12ed83fb.smt2 \u001b[0m\n",
      "\u001b[92m[INFO] removing data/projs/timeout_92bd652a7c/base.z3/2f5be676.smt2 \u001b[0m\n",
      "\u001b[92m[INFO] removing data/projs/timeout_92bd652a7c/base.z3/3aa0619b.smt2 \u001b[0m\n",
      "\u001b[92m[INFO] removing data/projs/timeout_92bd652a7c/base.z3/55c3e5bd.smt2 \u001b[0m\n",
      "\u001b[92m[INFO] removing data/projs/timeout_92bd652a7c/base.z3/a3bcdb69.smt2 \u001b[0m\n",
      "\u001b[92m[INFO] removing data/projs/timeout_92bd652a7c/base.z3/ae87c918.smt2 \u001b[0m\n",
      "\u001b[92m[INFO] removing data/projs/timeout_92bd652a7c/base.z3/dc93770c.smt2 \u001b[0m\n",
      "\u001b[92m[INFO] removing data/projs/timeout_92bd652a7c/base.z3/e8570f64.smt2 \u001b[0m\n",
      "\u001b[92m[INFO] removing data/projs/timeout_9b9277bc39/base.z3/01b72083.smt2 \u001b[0m\n",
      "\u001b[92m[INFO] removing data/projs/timeout_9b9277bc39/base.z3/22830ef3.smt2 \u001b[0m\n",
      "\u001b[92m[INFO] removing data/projs/timeout_9b9277bc39/base.z3/233f4cb2.smt2 \u001b[0m\n",
      "\u001b[92m[INFO] removing data/projs/timeout_9b9277bc39/base.z3/3a800012.smt2 \u001b[0m\n",
      "\u001b[92m[INFO] removing data/projs/timeout_9b9277bc39/base.z3/60acfc87.smt2 \u001b[0m\n",
      "\u001b[92m[INFO] removing data/projs/timeout_9b9277bc39/base.z3/8917ee0b.smt2 \u001b[0m\n",
      "\u001b[92m[INFO] removing data/projs/timeout_9b9277bc39/base.z3/971698f4.smt2 \u001b[0m\n",
      "\u001b[92m[INFO] removing data/projs/timeout_9b9277bc39/base.z3/d057b469.smt2 \u001b[0m\n",
      "\u001b[92m[INFO] removing data/projs/timeout_2f6a6b82e9/base.z3/3aa0619b.smt2 \u001b[0m\n",
      "\u001b[92m[INFO] removing data/projs/timeout_2f6a6b82e9/base.z3/7d5cb7f8.smt2 \u001b[0m\n",
      "\u001b[92m[INFO] removing data/projs/timeout_2f6a6b82e9/base.z3/838cd8e2.smt2 \u001b[0m\n",
      "\u001b[92m[INFO] removing data/projs/timeout_2f6a6b82e9/base.z3/914dd088.smt2 \u001b[0m\n",
      "\u001b[92m[INFO] removing data/projs/timeout_2f6a6b82e9/base.z3/ae87c918.smt2 \u001b[0m\n",
      "\u001b[92m[INFO] removing data/projs/timeout_2f6a6b82e9/base.z3/ed1daa0f.smt2 \u001b[0m\n",
      "\u001b[92m[INFO] removing data/projs/timeout_d1b83603db/base.z3/071f32e6.smt2 \u001b[0m\n",
      "\u001b[92m[INFO] removing data/projs/timeout_d1b83603db/base.z3/416ef8a1.smt2 \u001b[0m\n",
      "\u001b[92m[INFO] removing data/projs/timeout_d1b83603db/base.z3/423defa3.smt2 \u001b[0m\n",
      "\u001b[92m[INFO] removing data/projs/timeout_d1b83603db/base.z3/42dab7e1.smt2 \u001b[0m\n",
      "\u001b[92m[INFO] removing data/projs/timeout_d1b83603db/base.z3/6a1b5bd6.smt2 \u001b[0m\n",
      "\u001b[92m[INFO] removing data/projs/timeout_d1b83603db/base.z3/a12750e1.smt2 \u001b[0m\n",
      "\u001b[92m[INFO] removing data/projs/timeout_d1b83603db/base.z3/e8c39c45.smt2 \u001b[0m\n",
      "\u001b[92m[INFO] removing data/projs/timeout_d1b83603db/base.z3/fb43a8d2.smt2 \u001b[0m\n",
      "\u001b[92m[INFO] removing data/projs/timeout_1d57b073cc/base.z3/60a03b3c.smt2 \u001b[0m\n",
      "\u001b[92m[INFO] removing data/projs/timeout_1d57b073cc/base.z3/7e68f028.smt2 \u001b[0m\n",
      "\u001b[92m[INFO] removing data/projs/timeout_1d57b073cc/base.z3/83f65b6e.smt2 \u001b[0m\n",
      "\u001b[92m[INFO] removing data/projs/timeout_1d57b073cc/base.z3/a7599190.smt2 \u001b[0m\n",
      "\u001b[92m[INFO] removing data/projs/timeout_1d57b073cc/base.z3/ac9b435e.smt2 \u001b[0m\n",
      "\u001b[92m[INFO] removing data/projs/timeout_b9896cbaf6/base.z3/03f16661.smt2 \u001b[0m\n",
      "\u001b[92m[INFO] removing data/projs/timeout_b9896cbaf6/base.z3/13ca0c7d.smt2 \u001b[0m\n",
      "\u001b[92m[INFO] removing data/projs/timeout_b9896cbaf6/base.z3/39f6a31e.smt2 \u001b[0m\n",
      "\u001b[92m[INFO] removing data/projs/timeout_b9896cbaf6/base.z3/43231d8b.smt2 \u001b[0m\n",
      "\u001b[92m[INFO] removing data/projs/timeout_b9896cbaf6/base.z3/87994bfe.smt2 \u001b[0m\n",
      "\u001b[92m[INFO] removing data/projs/timeout_b9896cbaf6/base.z3/9a4fe56c.smt2 \u001b[0m\n",
      "\u001b[92m[INFO] removing data/projs/timeout_b9896cbaf6/base.z3/9ee178a4.smt2 \u001b[0m\n",
      "\u001b[92m[INFO] removing data/projs/timeout_b9896cbaf6/base.z3/a82ddc55.smt2 \u001b[0m\n",
      "\u001b[92m[INFO] removing data/projs/timeout_b9896cbaf6/base.z3/f9370c25.smt2 \u001b[0m\n",
      "\u001b[92m[INFO] removing data/projs/timeout_11435d7e73/base.z3/3481ab9f.smt2 \u001b[0m\n",
      "\u001b[92m[INFO] removing data/projs/timeout_11435d7e73/base.z3/37b021a5.smt2 \u001b[0m\n",
      "\u001b[92m[INFO] removing data/projs/timeout_11435d7e73/base.z3/7c4e2e16.smt2 \u001b[0m\n",
      "\u001b[92m[INFO] removing data/projs/timeout_11435d7e73/base.z3/c42574da.smt2 \u001b[0m\n",
      "\u001b[92m[INFO] removing data/projs/timeout_11435d7e73/base.z3/d29fc6d6.smt2 \u001b[0m\n",
      "\u001b[92m[INFO] removing data/projs/timeout_11435d7e73/base.z3/ea2b9a6a.smt2 \u001b[0m\n",
      "\u001b[92m[INFO] removing data/projs/timeout_11435d7e73/base.z3/fd6647fe.smt2 \u001b[0m\n",
      "\u001b[92m[INFO] removing data/projs/timeout_57ff707219/base.z3/0a1ed46a.smt2 \u001b[0m\n",
      "\u001b[92m[INFO] removing data/projs/timeout_57ff707219/base.z3/20a953fb.smt2 \u001b[0m\n",
      "\u001b[92m[INFO] removing data/projs/timeout_57ff707219/base.z3/615792b8.smt2 \u001b[0m\n",
      "\u001b[92m[INFO] removing data/projs/timeout_57ff707219/base.z3/fd103ccc.smt2 \u001b[0m\n",
      "\u001b[92m[INFO] removing data/projs/timeout_57ff707219/base.z3/fdf24848.smt2 \u001b[0m\n",
      "\u001b[92m[INFO] removing data/projs/timeout_179f62e2d4/base.z3/5e0582b1.smt2 \u001b[0m\n",
      "\u001b[92m[INFO] removing data/projs/timeout_179f62e2d4/base.z3/92d0d687.smt2 \u001b[0m\n",
      "\u001b[92m[INFO] removing data/projs/timeout_179f62e2d4/base.z3/a19e1513.smt2 \u001b[0m\n",
      "\u001b[92m[INFO] removing data/projs/timeout_179f62e2d4/base.z3/bd67d369.smt2 \u001b[0m\n",
      "\u001b[92m[INFO] removing data/projs/timeout_13ee923b22/base.z3/00520922.smt2 \u001b[0m\n",
      "\u001b[92m[INFO] removing data/projs/timeout_13ee923b22/base.z3/2dd6ea1e.smt2 \u001b[0m\n",
      "\u001b[92m[INFO] removing data/projs/timeout_13ee923b22/base.z3/9813152e.smt2 \u001b[0m\n",
      "\u001b[92m[INFO] removing data/projs/timeout_13ee923b22/base.z3/b92f1ac5.smt2 \u001b[0m\n",
      "\u001b[92m[INFO] removing data/projs/timeout_13ee923b22/base.z3/d7f2e199.smt2 \u001b[0m\n",
      "\u001b[92m[INFO] removing data/projs/timeout_13ee923b22/base.z3/dfa28b82.smt2 \u001b[0m\n",
      "\u001b[92m[INFO] removing data/projs/timeout_13ee923b22/base.z3/e2897738.smt2 \u001b[0m\n",
      "\u001b[92m[INFO] removing data/projs/timeout_db5b85130e/base.z3/74868c6a.smt2 \u001b[0m\n",
      "\u001b[92m[INFO] removing data/projs/timeout_db5b85130e/base.z3/92ec311d.smt2 \u001b[0m\n",
      "\u001b[92m[INFO] removing data/projs/timeout_db5b85130e/base.z3/ad394553.smt2 \u001b[0m\n",
      "\u001b[92m[INFO] removing data/projs/timeout_db5b85130e/base.z3/c97585a0.smt2 \u001b[0m\n",
      "\u001b[92m[INFO] removing data/projs/timeout_db5b85130e/base.z3/de32aaf3.smt2 \u001b[0m\n",
      "\u001b[92m[INFO] removing data/projs/timeout_cd0ec39156/base.z3/126aba85.smt2 \u001b[0m\n",
      "\u001b[92m[INFO] removing data/projs/timeout_cd0ec39156/base.z3/178829a2.smt2 \u001b[0m\n",
      "\u001b[92m[INFO] removing data/projs/timeout_cd0ec39156/base.z3/40dd549b.smt2 \u001b[0m\n",
      "\u001b[92m[INFO] removing data/projs/timeout_cd0ec39156/base.z3/47018bd8.smt2 \u001b[0m\n",
      "\u001b[92m[INFO] removing data/projs/timeout_cd0ec39156/base.z3/5c65dffa.smt2 \u001b[0m\n",
      "\u001b[92m[INFO] removing data/projs/timeout_cd0ec39156/base.z3/5e8f883a.smt2 \u001b[0m\n",
      "\u001b[92m[INFO] removing data/projs/timeout_cd0ec39156/base.z3/a24accda.smt2 \u001b[0m\n",
      "\u001b[92m[INFO] removing data/projs/timeout_cd0ec39156/base.z3/d235bbdc.smt2 \u001b[0m\n",
      "\u001b[92m[INFO] removing data/projs/timeout_cd0ec39156/base.z3/dda62356.smt2 \u001b[0m\n",
      "\u001b[92m[INFO] removing data/projs/timeout_ff4c3e8cab/base.z3/3b909a33.smt2 \u001b[0m\n",
      "\u001b[92m[INFO] removing data/projs/timeout_ff4c3e8cab/base.z3/416ef8a1.smt2 \u001b[0m\n",
      "\u001b[92m[INFO] removing data/projs/timeout_ff4c3e8cab/base.z3/4185595e.smt2 \u001b[0m\n",
      "\u001b[92m[INFO] removing data/projs/timeout_ff4c3e8cab/base.z3/4ed52b78.smt2 \u001b[0m\n",
      "\u001b[92m[INFO] removing data/projs/timeout_ff4c3e8cab/base.z3/b79fe14a.smt2 \u001b[0m\n",
      "\u001b[92m[INFO] removing data/projs/timeout_ff4c3e8cab/base.z3/fdfef90c.smt2 \u001b[0m\n",
      "\u001b[92m[INFO] removing data/projs/timeout_9fe662b14c/base.z3/254a22c7.smt2 \u001b[0m\n",
      "\u001b[92m[INFO] removing data/projs/timeout_9fe662b14c/base.z3/66970dae.smt2 \u001b[0m\n",
      "\u001b[92m[INFO] removing data/projs/timeout_9fe662b14c/base.z3/7fdbc189.smt2 \u001b[0m\n",
      "\u001b[92m[INFO] removing data/projs/timeout_19e7b4a644/base.z3/0960d210.smt2 \u001b[0m\n",
      "\u001b[92m[INFO] removing data/projs/timeout_19e7b4a644/base.z3/37dd4f2c.smt2 \u001b[0m\n",
      "\u001b[92m[INFO] removing data/projs/timeout_19e7b4a644/base.z3/3f063bd7.smt2 \u001b[0m\n",
      "\u001b[92m[INFO] removing data/projs/timeout_19e7b4a644/base.z3/416ef8a1.smt2 \u001b[0m\n",
      "\u001b[92m[INFO] removing data/projs/timeout_19e7b4a644/base.z3/7cbc97d7.smt2 \u001b[0m\n",
      "\u001b[92m[INFO] removing data/projs/timeout_19e7b4a644/base.z3/933616a1.smt2 \u001b[0m\n",
      "\u001b[92m[INFO] removing data/projs/timeout_19e7b4a644/base.z3/b79fe14a.smt2 \u001b[0m\n",
      "\u001b[92m[INFO] removing data/projs/timeout_19e7b4a644/base.z3/c9ab4835.smt2 \u001b[0m\n",
      "\u001b[92m[INFO] removing data/projs/timeout_19e7b4a644/base.z3/f2efd824.smt2 \u001b[0m\n",
      "\u001b[92m[INFO] removing data/projs/timeout_77448147c2/base.z3/0ecb09c9.smt2 \u001b[0m\n",
      "\u001b[92m[INFO] removing data/projs/timeout_77448147c2/base.z3/403f0892.smt2 \u001b[0m\n",
      "\u001b[92m[INFO] removing data/projs/timeout_77448147c2/base.z3/6a107425.smt2 \u001b[0m\n",
      "\u001b[92m[INFO] removing data/projs/timeout_77448147c2/base.z3/7f5c1d0a.smt2 \u001b[0m\n",
      "\u001b[92m[INFO] removing data/projs/timeout_77448147c2/base.z3/930347ce.smt2 \u001b[0m\n",
      "\u001b[92m[INFO] removing data/projs/timeout_77448147c2/base.z3/9f1796c4.smt2 \u001b[0m\n",
      "\u001b[92m[INFO] removing data/projs/timeout_5c1612881d/base.z3/180532a5.smt2 \u001b[0m\n",
      "\u001b[92m[INFO] removing data/projs/timeout_5c1612881d/base.z3/19ed0e3a.smt2 \u001b[0m\n",
      "\u001b[92m[INFO] removing data/projs/timeout_5c1612881d/base.z3/2c624fdf.smt2 \u001b[0m\n",
      "\u001b[92m[INFO] removing data/projs/timeout_5c1612881d/base.z3/48220343.smt2 \u001b[0m\n",
      "\u001b[92m[INFO] removing data/projs/timeout_5c1612881d/base.z3/836f5a4a.smt2 \u001b[0m\n",
      "\u001b[92m[INFO] removing data/projs/timeout_5c1612881d/base.z3/b0503f8e.smt2 \u001b[0m\n",
      "\u001b[92m[INFO] removing data/projs/timeout_5c1612881d/base.z3/c033ce6d.smt2 \u001b[0m\n",
      "\u001b[92m[INFO] removing data/projs/timeout_5c1612881d/base.z3/c9ab4835.smt2 \u001b[0m\n",
      "\u001b[92m[INFO] removing data/projs/timeout_5c1612881d/base.z3/dac0ae5b.smt2 \u001b[0m\n",
      "\u001b[92m[INFO] removing data/projs/timeout_b96ad66775/base.z3/05428989.smt2 \u001b[0m\n",
      "\u001b[92m[INFO] removing data/projs/timeout_b96ad66775/base.z3/2ca79ff7.smt2 \u001b[0m\n",
      "\u001b[92m[INFO] removing data/projs/timeout_b96ad66775/base.z3/31982282.smt2 \u001b[0m\n",
      "\u001b[92m[INFO] removing data/projs/timeout_b96ad66775/base.z3/87842146.smt2 \u001b[0m\n",
      "\u001b[92m[INFO] removing data/projs/timeout_b96ad66775/base.z3/a439a450.smt2 \u001b[0m\n",
      "\u001b[92m[INFO] removing data/projs/timeout_b96ad66775/base.z3/ea204fd0.smt2 \u001b[0m\n",
      "\u001b[92m[INFO] removing data/projs/timeout_c9d38b4125/base.z3/0ecb09c9.smt2 \u001b[0m\n",
      "\u001b[92m[INFO] removing data/projs/timeout_c9d38b4125/base.z3/18834f69.smt2 \u001b[0m\n",
      "\u001b[92m[INFO] removing data/projs/timeout_c9d38b4125/base.z3/19cf1eee.smt2 \u001b[0m\n",
      "\u001b[92m[INFO] removing data/projs/timeout_c9d38b4125/base.z3/6a107425.smt2 \u001b[0m\n",
      "\u001b[92m[INFO] removing data/projs/timeout_c9d38b4125/base.z3/a8762234.smt2 \u001b[0m\n",
      "\u001b[92m[INFO] removing data/projs/timeout_0ef92feb14/base.z3/7310705f.smt2 \u001b[0m\n",
      "\u001b[92m[INFO] removing data/projs/timeout_0ef92feb14/base.z3/9540c694.smt2 \u001b[0m\n",
      "\u001b[92m[INFO] removing data/projs/timeout_0ef92feb14/base.z3/9d165ba3.smt2 \u001b[0m\n",
      "\u001b[92m[INFO] removing data/projs/timeout_0ef92feb14/base.z3/a48e8f1a.smt2 \u001b[0m\n",
      "\u001b[92m[INFO] removing data/projs/timeout_0ef92feb14/base.z3/ce617aba.smt2 \u001b[0m\n",
      "\u001b[92m[INFO] removing data/projs/timeout_0c40f30097/base.z3/09f86db5.smt2 \u001b[0m\n",
      "\u001b[92m[INFO] removing data/projs/timeout_0c40f30097/base.z3/0b9c1079.smt2 \u001b[0m\n",
      "\u001b[92m[INFO] removing data/projs/timeout_0c40f30097/base.z3/126aba85.smt2 \u001b[0m\n",
      "\u001b[92m[INFO] removing data/projs/timeout_0c40f30097/base.z3/38a2874d.smt2 \u001b[0m\n",
      "\u001b[92m[INFO] removing data/projs/timeout_0c40f30097/base.z3/3fb606ef.smt2 \u001b[0m\n",
      "\u001b[92m[INFO] removing data/projs/timeout_0c40f30097/base.z3/8decedba.smt2 \u001b[0m\n",
      "\u001b[92m[INFO] removing data/projs/timeout_0c40f30097/base.z3/cccdb658.smt2 \u001b[0m\n",
      "\u001b[92m[INFO] removing data/projs/timeout_0c40f30097/base.z3/f80b8efc.smt2 \u001b[0m\n",
      "\u001b[92m[INFO] removing data/projs/timeout_8e8d83f571/base.z3/01b72083.smt2 \u001b[0m\n",
      "\u001b[92m[INFO] removing data/projs/timeout_8e8d83f571/base.z3/021cc76f.smt2 \u001b[0m\n",
      "\u001b[92m[INFO] removing data/projs/timeout_8e8d83f571/base.z3/22830ef3.smt2 \u001b[0m\n",
      "\u001b[92m[INFO] removing data/projs/timeout_8e8d83f571/base.z3/233f4cb2.smt2 \u001b[0m\n",
      "\u001b[92m[INFO] removing data/projs/timeout_8e8d83f571/base.z3/3a800012.smt2 \u001b[0m\n",
      "\u001b[92m[INFO] removing data/projs/timeout_8e8d83f571/base.z3/971698f4.smt2 \u001b[0m\n",
      "\u001b[92m[INFO] removing data/projs/timeout_8e8d83f571/base.z3/e753a8ea.smt2 \u001b[0m\n",
      "\u001b[92m[INFO] removing data/projs/timeout_4eec50bfef/base.z3/336f2336.smt2 \u001b[0m\n",
      "\u001b[92m[INFO] removing data/projs/timeout_4eec50bfef/base.z3/69f27d7b.smt2 \u001b[0m\n",
      "\u001b[92m[INFO] removing data/projs/timeout_4eec50bfef/base.z3/6bbf5cee.smt2 \u001b[0m\n",
      "\u001b[92m[INFO] removing data/projs/timeout_4eec50bfef/base.z3/72c73eee.smt2 \u001b[0m\n",
      "\u001b[92m[INFO] removing data/projs/timeout_4eec50bfef/base.z3/7b1dc356.smt2 \u001b[0m\n",
      "\u001b[92m[INFO] removing data/projs/timeout_4eec50bfef/base.z3/c97585a0.smt2 \u001b[0m\n",
      "\u001b[92m[INFO] removing data/projs/timeout_4eec50bfef/base.z3/f449b818.smt2 \u001b[0m\n",
      "\u001b[92m[INFO] removing data/projs/timeout_4eec50bfef/base.z3/f7964b8e.smt2 \u001b[0m\n",
      "\u001b[92m[INFO] removing data/projs/timeout_068433d26a/base.z3/4695b8f6.smt2 \u001b[0m\n",
      "\u001b[92m[INFO] removing data/projs/timeout_068433d26a/base.z3/54beb440.smt2 \u001b[0m\n",
      "\u001b[92m[INFO] removing data/projs/timeout_068433d26a/base.z3/81c6da58.smt2 \u001b[0m\n",
      "\u001b[92m[INFO] removing data/projs/timeout_068433d26a/base.z3/8703a422.smt2 \u001b[0m\n",
      "\u001b[92m[INFO] removing data/projs/timeout_068433d26a/base.z3/9d590b46.smt2 \u001b[0m\n",
      "\u001b[92m[INFO] removing data/projs/timeout_068433d26a/base.z3/ae003e46.smt2 \u001b[0m\n",
      "\u001b[92m[INFO] removing data/projs/timeout_068433d26a/base.z3/af0749cd.smt2 \u001b[0m\n",
      "\u001b[92m[INFO] removing data/projs/timeout_068433d26a/base.z3/b92f1ac5.smt2 \u001b[0m\n",
      "\u001b[92m[INFO] removing data/projs/timeout_93c0449639/base.z3/04dc25dd.smt2 \u001b[0m\n",
      "\u001b[92m[INFO] removing data/projs/timeout_93c0449639/base.z3/2b8be195.smt2 \u001b[0m\n",
      "\u001b[92m[INFO] removing data/projs/timeout_93c0449639/base.z3/51553ced.smt2 \u001b[0m\n",
      "\u001b[92m[INFO] removing data/projs/timeout_93c0449639/base.z3/64716b4f.smt2 \u001b[0m\n",
      "\u001b[92m[INFO] removing data/projs/timeout_93c0449639/base.z3/d2b1d5ba.smt2 \u001b[0m\n",
      "\u001b[92m[INFO] removing data/projs/timeout_355b104f3e/base.z3/15f40534.smt2 \u001b[0m\n",
      "\u001b[92m[INFO] removing data/projs/timeout_355b104f3e/base.z3/1b28bb58.smt2 \u001b[0m\n",
      "\u001b[92m[INFO] removing data/projs/timeout_355b104f3e/base.z3/35831ff3.smt2 \u001b[0m\n",
      "\u001b[92m[INFO] removing data/projs/timeout_355b104f3e/base.z3/3b418ee1.smt2 \u001b[0m\n",
      "\u001b[92m[INFO] removing data/projs/timeout_355b104f3e/base.z3/5fd190ff.smt2 \u001b[0m\n",
      "\u001b[92m[INFO] removing data/projs/timeout_355b104f3e/base.z3/b6031854.smt2 \u001b[0m\n",
      "\u001b[92m[INFO] removing data/projs/timeout_355b104f3e/base.z3/c09cf19d.smt2 \u001b[0m\n",
      "\u001b[92m[INFO] removing data/projs/timeout_355b104f3e/base.z3/d8ee750a.smt2 \u001b[0m\n",
      "\u001b[92m[INFO] removing data/projs/timeout_297c8f2526/base.z3/3d227a65.smt2 \u001b[0m\n",
      "\u001b[92m[INFO] removing data/projs/timeout_297c8f2526/base.z3/6e1ce530.smt2 \u001b[0m\n",
      "\u001b[92m[INFO] removing data/projs/timeout_297c8f2526/base.z3/70951a53.smt2 \u001b[0m\n",
      "\u001b[92m[INFO] removing data/projs/timeout_297c8f2526/base.z3/bda51ee0.smt2 \u001b[0m\n",
      "\u001b[92m[INFO] removing data/projs/timeout_297c8f2526/base.z3/c01c97ab.smt2 \u001b[0m\n",
      "\u001b[92m[INFO] removing data/projs/timeout_297c8f2526/base.z3/c37cd274.smt2 \u001b[0m\n",
      "\u001b[92m[INFO] removing data/projs/timeout_297c8f2526/base.z3/d3ab6194.smt2 \u001b[0m\n",
      "\u001b[92m[INFO] removing data/projs/timeout_297c8f2526/base.z3/fc64116c.smt2 \u001b[0m\n",
      "\u001b[92m[INFO] removing data/projs/timeout_297c8f2526/base.z3/fed1cf88.smt2 \u001b[0m\n",
      "\u001b[92m[INFO] removing data/projs/timeout_0b346d0f87/base.z3/15f40534.smt2 \u001b[0m\n",
      "\u001b[92m[INFO] removing data/projs/timeout_0b346d0f87/base.z3/1b28bb58.smt2 \u001b[0m\n",
      "\u001b[92m[INFO] removing data/projs/timeout_0b346d0f87/base.z3/354886a2.smt2 \u001b[0m\n",
      "\u001b[92m[INFO] removing data/projs/timeout_0b346d0f87/base.z3/5731ef1b.smt2 \u001b[0m\n",
      "\u001b[92m[INFO] removing data/projs/timeout_0b346d0f87/base.z3/869dfb28.smt2 \u001b[0m\n",
      "\u001b[92m[INFO] removing data/projs/timeout_0b346d0f87/base.z3/b6031854.smt2 \u001b[0m\n",
      "\u001b[92m[INFO] removing data/projs/timeout_61fbd4977f/base.z3/44b111f6.smt2 \u001b[0m\n",
      "\u001b[92m[INFO] removing data/projs/timeout_61fbd4977f/base.z3/6a1b5bd6.smt2 \u001b[0m\n",
      "\u001b[92m[INFO] removing data/projs/timeout_61fbd4977f/base.z3/87842146.smt2 \u001b[0m\n",
      "\u001b[92m[INFO] removing data/projs/timeout_61fbd4977f/base.z3/97a8910e.smt2 \u001b[0m\n",
      "\u001b[92m[INFO] removing data/projs/timeout_61fbd4977f/base.z3/a12750e1.smt2 \u001b[0m\n",
      "\u001b[92m[INFO] removing data/projs/timeout_61fbd4977f/base.z3/b2bc3b72.smt2 \u001b[0m\n",
      "\u001b[92m[INFO] removing data/projs/timeout_61fbd4977f/base.z3/db8c89fd.smt2 \u001b[0m\n",
      "\u001b[92m[INFO] removing data/projs/timeout_61fbd4977f/base.z3/e8c39c45.smt2 \u001b[0m\n",
      "\u001b[92m[INFO] removing data/projs/timeout_61fbd4977f/base.z3/efeb7e42.smt2 \u001b[0m\n",
      "\u001b[92m[INFO] removing data/projs/timeout_0897ef84da/base.z3/0702bb26.smt2 \u001b[0m\n",
      "\u001b[92m[INFO] removing data/projs/timeout_0897ef84da/base.z3/0e38de0d.smt2 \u001b[0m\n",
      "\u001b[92m[INFO] removing data/projs/timeout_0897ef84da/base.z3/60576403.smt2 \u001b[0m\n",
      "\u001b[92m[INFO] removing data/projs/timeout_cdfc45fd41/base.z3/45aff765.smt2 \u001b[0m\n",
      "\u001b[92m[INFO] removing data/projs/timeout_cdfc45fd41/base.z3/72f397bf.smt2 \u001b[0m\n",
      "\u001b[92m[INFO] removing data/projs/timeout_cdfc45fd41/base.z3/b09e936f.smt2 \u001b[0m\n",
      "\u001b[92m[INFO] removing data/projs/timeout_cdfc45fd41/base.z3/b727632e.smt2 \u001b[0m\n",
      "\u001b[92m[INFO] removing data/projs/timeout_cdfc45fd41/base.z3/c2f9a375.smt2 \u001b[0m\n",
      "\u001b[92m[INFO] removing data/projs/timeout_cdfc45fd41/base.z3/c624e5a1.smt2 \u001b[0m\n",
      "\u001b[92m[INFO] removing data/projs/timeout_f6fde2cf65/base.z3/442f45ef.smt2 \u001b[0m\n",
      "\u001b[92m[INFO] removing data/projs/timeout_f6fde2cf65/base.z3/80a90664.smt2 \u001b[0m\n",
      "\u001b[92m[INFO] removing data/projs/timeout_f6fde2cf65/base.z3/816b5d46.smt2 \u001b[0m\n",
      "\u001b[92m[INFO] removing data/projs/timeout_f6fde2cf65/base.z3/84a72aa7.smt2 \u001b[0m\n",
      "\u001b[92m[INFO] removing data/projs/timeout_f6fde2cf65/base.z3/a693c25e.smt2 \u001b[0m\n",
      "\u001b[92m[INFO] removing data/projs/timeout_3ab530aac4/base.z3/0eb52e25.smt2 \u001b[0m\n",
      "\u001b[92m[INFO] removing data/projs/timeout_3ab530aac4/base.z3/11911a21.smt2 \u001b[0m\n",
      "\u001b[92m[INFO] removing data/projs/timeout_3ab530aac4/base.z3/3f07f849.smt2 \u001b[0m\n",
      "\u001b[92m[INFO] removing data/projs/timeout_3ab530aac4/base.z3/77607c46.smt2 \u001b[0m\n",
      "\u001b[92m[INFO] removing data/projs/timeout_3ab530aac4/base.z3/7fd17dd7.smt2 \u001b[0m\n",
      "\u001b[92m[INFO] removing data/projs/timeout_3ab530aac4/base.z3/89545c93.smt2 \u001b[0m\n",
      "\u001b[92m[INFO] removing data/projs/timeout_3ab530aac4/base.z3/d6ffeb18.smt2 \u001b[0m\n",
      "\u001b[92m[INFO] removing data/projs/timeout_3ab530aac4/base.z3/dfc5323d.smt2 \u001b[0m\n",
      "\u001b[92m[INFO] removing data/projs/timeout_90270fc66a/base.z3/126aba85.smt2 \u001b[0m\n",
      "\u001b[92m[INFO] removing data/projs/timeout_90270fc66a/base.z3/55c3e5bd.smt2 \u001b[0m\n",
      "\u001b[92m[INFO] removing data/projs/timeout_90270fc66a/base.z3/9d590b46.smt2 \u001b[0m\n",
      "\u001b[92m[INFO] removing data/projs/timeout_90270fc66a/base.z3/a78eb4a9.smt2 \u001b[0m\n",
      "\u001b[92m[INFO] removing data/projs/timeout_90270fc66a/base.z3/ba38f4c1.smt2 \u001b[0m\n",
      "\u001b[92m[INFO] removing data/projs/timeout_90270fc66a/base.z3/c28d773a.smt2 \u001b[0m\n",
      "\u001b[92m[INFO] removing data/projs/timeout_90270fc66a/base.z3/c9745f76.smt2 \u001b[0m\n",
      "\u001b[92m[INFO] removing data/projs/timeout_90270fc66a/base.z3/f580dd41.smt2 \u001b[0m\n",
      "\u001b[92m[INFO] removing data/projs/timeout_70d34357b4/base.z3/29b5ffd1.smt2 \u001b[0m\n",
      "\u001b[92m[INFO] removing data/projs/timeout_70d34357b4/base.z3/365371dc.smt2 \u001b[0m\n",
      "\u001b[92m[INFO] removing data/projs/timeout_70d34357b4/base.z3/38a2874d.smt2 \u001b[0m\n",
      "\u001b[92m[INFO] removing data/projs/timeout_70d34357b4/base.z3/aa257548.smt2 \u001b[0m\n",
      "\u001b[92m[INFO] removing data/projs/timeout_70d34357b4/base.z3/ed34beeb.smt2 \u001b[0m\n",
      "\u001b[92m[INFO] removing data/projs/timeout_16e535bb0c/base.z3/0ef9a926.smt2 \u001b[0m\n",
      "\u001b[92m[INFO] removing data/projs/timeout_16e535bb0c/base.z3/18c434f4.smt2 \u001b[0m\n",
      "\u001b[92m[INFO] removing data/projs/timeout_16e535bb0c/base.z3/48702dab.smt2 \u001b[0m\n",
      "\u001b[92m[INFO] removing data/projs/timeout_16e535bb0c/base.z3/68e79e90.smt2 \u001b[0m\n",
      "\u001b[92m[INFO] removing data/projs/timeout_16e535bb0c/base.z3/821277f2.smt2 \u001b[0m\n",
      "\u001b[92m[INFO] removing data/projs/timeout_16e535bb0c/base.z3/8d3c1825.smt2 \u001b[0m\n",
      "\u001b[92m[INFO] removing data/projs/timeout_16e535bb0c/base.z3/8f80870a.smt2 \u001b[0m\n",
      "\u001b[92m[INFO] removing data/projs/timeout_16e535bb0c/base.z3/a48e8f1a.smt2 \u001b[0m\n",
      "\u001b[92m[INFO] removing data/projs/timeout_16e535bb0c/base.z3/b8788303.smt2 \u001b[0m\n",
      "\u001b[92m[INFO] removing data/projs/timeout_b52f25923a/base.z3/17c1e2c8.smt2 \u001b[0m\n",
      "\u001b[92m[INFO] removing data/projs/timeout_947dcf5ca9/base.z3/0209eb8f.smt2 \u001b[0m\n",
      "\u001b[92m[INFO] removing data/projs/timeout_947dcf5ca9/base.z3/5b90754b.smt2 \u001b[0m\n",
      "\u001b[92m[INFO] removing data/projs/timeout_947dcf5ca9/base.z3/6058a159.smt2 \u001b[0m\n",
      "\u001b[92m[INFO] removing data/projs/timeout_947dcf5ca9/base.z3/7c2e3b5e.smt2 \u001b[0m\n",
      "\u001b[92m[INFO] removing data/projs/timeout_947dcf5ca9/base.z3/9806d733.smt2 \u001b[0m\n",
      "\u001b[92m[INFO] removing data/projs/timeout_947dcf5ca9/base.z3/df1bed11.smt2 \u001b[0m\n",
      "\u001b[92m[INFO] removing data/projs/timeout_66fdaa7389/base.z3/0ddf0a57.smt2 \u001b[0m\n",
      "\u001b[92m[INFO] removing data/projs/timeout_66fdaa7389/base.z3/20d73f96.smt2 \u001b[0m\n",
      "\u001b[92m[INFO] removing data/projs/timeout_66fdaa7389/base.z3/23d6287f.smt2 \u001b[0m\n",
      "\u001b[92m[INFO] removing data/projs/timeout_66fdaa7389/base.z3/24fd249e.smt2 \u001b[0m\n",
      "\u001b[92m[INFO] removing data/projs/timeout_66fdaa7389/base.z3/28c38c0f.smt2 \u001b[0m\n",
      "\u001b[92m[INFO] removing data/projs/timeout_66fdaa7389/base.z3/3ba3f414.smt2 \u001b[0m\n",
      "\u001b[92m[INFO] removing data/projs/timeout_66fdaa7389/base.z3/4a399f0d.smt2 \u001b[0m\n",
      "\u001b[92m[INFO] removing data/projs/timeout_66fdaa7389/base.z3/f52e07f9.smt2 \u001b[0m\n",
      "\u001b[92m[INFO] removing data/projs/timeout_66fdaa7389/base.z3/fb730ae0.smt2 \u001b[0m\n"
     ]
    }
   ],
   "source": [
    "from utils.cluster_utils import get_sync_commands\n",
    "\n",
    "# for q in mv.fixable:\n",
    "#     dbg = mv[q]\n",
    "#     dbg.collect_garbage()\n",
    "\n",
    "with open(\"miscs/send.sh\", \"w\") as f:\n",
    "    f.write(\"#!/bin/bash\\n\")\n",
    "    cmds = get_sync_commands(\"g2001\", mv.get_sync_dirs())\n",
    "    for cmd in cmds:\n",
    "        f.write(cmd + \"\\n\")\n",
    "    f.write(\"echo 'done'\\n\")"
   ]
  },
  {
   "cell_type": "code",
   "execution_count": null,
   "metadata": {},
   "outputs": [],
   "source": []
  }
 ],
 "metadata": {
  "kernelspec": {
   "display_name": "Python 3",
   "language": "python",
   "name": "python3"
  },
  "language_info": {
   "codemirror_mode": {
    "name": "ipython",
    "version": 3
   },
   "file_extension": ".py",
   "mimetype": "text/x-python",
   "name": "python",
   "nbconvert_exporter": "python",
   "pygments_lexer": "ipython3",
   "version": "3.8.10"
  }
 },
 "nbformat": 4,
 "nbformat_minor": 2
}
