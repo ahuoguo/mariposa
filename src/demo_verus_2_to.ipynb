{
 "cells": [
  {
   "cell_type": "code",
   "execution_count": 2,
   "metadata": {},
   "outputs": [],
   "source": [
    "import sys, os\n",
    "\n",
    "MARIPOSA_PATH = \"/home/yizhou7/mariposa/\"\n",
    "\n",
    "sys.path.append(MARIPOSA_PATH + \"src\")\n",
    "os.chdir(MARIPOSA_PATH)\n",
    "\n",
    "from debugger.bench_viewer import BenchViewer\n",
    "from debugger.strainer import DebugStatus\n",
    "from benchmark_consts import *\n",
    "from debugger.mutant_info import TraceFailure\n",
    "from debugger.debugger import DbgMode, DebugOptions"
   ]
  },
  {
   "cell_type": "code",
   "execution_count": 3,
   "metadata": {},
   "outputs": [
    {
     "name": "stdout",
     "output_type": "stream",
     "text": [
      "\u001b[93m[WARN] [init] data/projs/anvil/base.z3/zookeeper-smt-zookeeper_controller__proof__liveness__stateful_set_match.2.smt2 detected IS Verus, differ from the given option \u001b[0m\u001b[93m[WARN] [init] data/projs/verismo.dedup/base.z3/allocator__linkedlist.10.smt2 detected IS Verus, differ from the given option \u001b[0m\u001b[93m[WARN] [init] data/projs/anvil/base.z3/fluent-smt-fluent_controller__fluentbit__proof__helper_invariants__proof.9.smt2 detected IS Verus, differ from the given option \u001b[0m\u001b[93m[WARN] [init] data/projs/anvil/base.z3/zookeeper-smt-rabbitmq-smt-rabbitmq_controller__proof__liveness__resource_match.1.smt2 detected IS Verus, differ from the given option \u001b[0m\u001b[93m[WARN] [init] data/projs/verismo.dedup/base.z3/pgtable_e__pte.18.smt2 detected IS Verus, differ from the given option \u001b[0m\u001b[93m[WARN] [init] data/projs/vsystemsnew/base.z3/mimalloc-smt-commit_segment.1.smt2 detected IS Verus, differ from the given option \u001b[0m\n",
      "\n",
      "\u001b[93m[WARN] [init] data/projs/flowcert/base.z3/permission.14.smt2 detected IS Verus, differ from the given option \u001b[0m\n",
      "\n",
      "\n",
      "\n",
      "\u001b[93m[WARN] [init] data/projs/vsystemsnew/base.z3/mimalloc-smt-segment__span_queue_delete.smt2 detected IS Verus, differ from the given option \u001b[0m\n"
     ]
    },
    {
     "name": "stderr",
     "output_type": "stream",
     "text": [
      "\u001b[94m[DEBUG] [strainer] dir not found: data/projs/doubleton2_6937ca47cd/base.z3 \u001b[0m\n"
     ]
    },
    {
     "name": "stdout",
     "output_type": "stream",
     "text": [
      "\u001b[93m[WARN] [init] data/projs/anvil/base.z3/zookeeper-smt-rabbitmq-smt-rabbitmq_controller__proof__liveness__resource_match__lemma_from_after_get_resource_step_to_after_update_resource_step.smt2 detected IS Verus, differ from the given option \u001b[0m"
     ]
    },
    {
     "name": "stderr",
     "output_type": "stream",
     "text": [
      "\u001b[94m[DEBUG] [strainer] dir not found: data/projs/doubleton2_66c9bdf69f/base.z3 \u001b[0m\u001b[94m[DEBUG] [strainer] dir not found: data/projs/doubleton2_621abdd996/base.z3 \u001b[0m"
     ]
    },
    {
     "name": "stdout",
     "output_type": "stream",
     "text": [
      "\n"
     ]
    },
    {
     "name": "stderr",
     "output_type": "stream",
     "text": [
      "\u001b[94m[DEBUG] [strainer] dir not found: data/projs/doubleton2_aad03b9358/base.z3 \u001b[0m\n",
      "\n",
      "\u001b[94m[DEBUG] [strainer] dir not found: data/projs/doubleton2_8c0bbf67d0/base.z3 \u001b[0m\u001b[94m[DEBUG] [strainer] dir not found: data/projs/doubleton2_93004876e4/base.z3 \u001b[0m\u001b[94m[DEBUG] [strainer] dir not found: data/projs/doubleton2_199ba4594c/base.z3 \u001b[0m"
     ]
    },
    {
     "name": "stdout",
     "output_type": "stream",
     "text": [
      "\n"
     ]
    },
    {
     "name": "stderr",
     "output_type": "stream",
     "text": [
      "\n",
      "\n",
      "\n",
      "\n"
     ]
    }
   ],
   "source": [
    "verus_rd2_to_targets = [\n",
    "    \"621abdd996\",\n",
    "    \"aad03b9358\",\n",
    "    \"199ba4594c\",\n",
    "    \"93004876e4\",\n",
    "    \"65d90190b4\",\n",
    "    \"fa2fdaf6e0\",\n",
    "    \"6937ca47cd\",\n",
    "    \"8c0bbf67d0\",\n",
    "    \"66c9bdf69f\",\n",
    "]\n",
    "\n",
    "options = DebugOptions()\n",
    "options.mode = DbgMode.DOUBLETON\n",
    "options.is_verus = False\n",
    "\n",
    "mv = BenchViewer(verus_rd2_to_targets, options)"
   ]
  },
  {
   "cell_type": "code",
   "execution_count": 4,
   "metadata": {},
   "outputs": [
    {
     "name": "stdout",
     "output_type": "stream",
     "text": [
      "| category                |   count | percentage   |\n",
      "|-------------------------|---------|--------------|\n",
      "| DebugStatus.NOT_CREATED |       7 | 77.78 %      |\n",
      "| DebugStatus.NOT_TESTED  |       2 | 22.22 %      |\n",
      "| total                   |       9 | 100.00 %     |\n"
     ]
    }
   ],
   "source": [
    "mv.status.print_status()"
   ]
  },
  {
   "cell_type": "code",
   "execution_count": 4,
   "metadata": {},
   "outputs": [],
   "source": [
    "for q in mv.status[DebugStatus.NO_PROOF]:\n",
    "    print(q)"
   ]
  },
  {
   "cell_type": "code",
   "execution_count": 5,
   "metadata": {},
   "outputs": [],
   "source": [
    "for q in mv.status[DebugStatus.ERROR]:\n",
    "    print(\"./src/debugger3.py --verus --mode doubleton --reset -i\",  mv[q].name_hash)"
   ]
  },
  {
   "cell_type": "code",
   "execution_count": 6,
   "metadata": {},
   "outputs": [
    {
     "name": "stdout",
     "output_type": "stream",
     "text": [
      "./src/debugger3.py --verus --mode doubleton --create -i fa2fdaf6e0\n",
      "./src/debugger3.py --verus --mode doubleton --create -i 65d90190b4\n",
      "./src/debugger3.py --verus --mode doubleton --create -i 6937ca47cd\n",
      "./src/debugger3.py --verus --mode doubleton --create -i 621abdd996\n",
      "./src/debugger3.py --verus --mode doubleton --create -i 93004876e4\n",
      "./src/debugger3.py --verus --mode doubleton --create -i 199ba4594c\n",
      "./src/debugger3.py --verus --mode doubleton --create -i aad03b9358\n",
      "./src/debugger3.py --verus --mode doubleton --create -i 66c9bdf69f\n",
      "./src/debugger3.py --verus --mode doubleton --create -i 8c0bbf67d0\n"
     ]
    }
   ],
   "source": [
    "for q in mv.status[DebugStatus.NOT_CREATED]:\n",
    "    print(\"./src/debugger3.py --verus --mode doubleton --create -i\", mv[q].name_hash)"
   ]
  },
  {
   "cell_type": "code",
   "execution_count": 7,
   "metadata": {},
   "outputs": [
    {
     "name": "stdout",
     "output_type": "stream",
     "text": [
      "10\n",
      "./src/make_spaghet.py --cluster --verus -i data/projs/doubleton2_fa2fdaf6e0/base.z3\n",
      "0\n",
      "./src/make_spaghet.py --cluster --verus -i data/projs/doubleton2_65d90190b4/base.z3\n"
     ]
    }
   ],
   "source": [
    "from utils.system_utils import list_smt2_files\n",
    "\n",
    "# for q in mv.status[DebuggerStatus.FILTERED_NOT_RAN]:\n",
    "\n",
    "for q in mv.status[DebugStatus.NOT_TESTED]:\n",
    "    count = len(list_smt2_files(mv[q].strainer.test_dir))\n",
    "    print(count)\n",
    "    # assert 0 < count <= 10\n",
    "    # print(\"./src/debugger3.py --mode doubleton --create -i\", mv[q].name_hash)\n",
    "    print(\"./src/make_spaghet.py --cluster --verus -i\", mv[q].strainer.test_dir)"
   ]
  },
  {
   "cell_type": "code",
   "execution_count": null,
   "metadata": {},
   "outputs": [],
   "source": []
  }
 ],
 "metadata": {
  "kernelspec": {
   "display_name": "Python 3",
   "language": "python",
   "name": "python3"
  },
  "language_info": {
   "codemirror_mode": {
    "name": "ipython",
    "version": 3
   },
   "file_extension": ".py",
   "mimetype": "text/x-python",
   "name": "python",
   "nbconvert_exporter": "python",
   "pygments_lexer": "ipython3",
   "version": "3.8.10"
  }
 },
 "nbformat": 4,
 "nbformat_minor": 2
}
