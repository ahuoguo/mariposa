{
 "cells": [
  {
   "cell_type": "code",
   "execution_count": 1,
   "metadata": {},
   "outputs": [],
   "source": [
    "import sys, os\n",
    "\n",
    "MARIPOSA_PATH = \"/home/yizhou7/mariposa/\"\n",
    "\n",
    "sys.path.append(MARIPOSA_PATH + \"src\")\n",
    "os.chdir(MARIPOSA_PATH)\n",
    "\n",
    "from debugger.bench_viewer import BenchViewer\n",
    "from debugger.strainer import DebugStatus\n",
    "from benchmark_consts import *\n",
    "from debugger.mutant_info import TraceFailure\n",
    "from debugger.debugger import DbgMode, DebugOptions"
   ]
  },
  {
   "cell_type": "code",
   "execution_count": 2,
   "metadata": {},
   "outputs": [
    {
     "name": "stdout",
     "output_type": "stream",
     "text": [
      "\u001b[93m[WARN] [init] data/projs/anvil/base.z3/zookeeper-smt-zookeeper_controller__proof__liveness__stateful_set_match.2.smt2 detected IS Verus, differ from the given option \u001b[0m\u001b[93m[WARN] [init] data/projs/vsystemsnew/base.z3/mimalloc-smt-commit_segment.1.smt2 detected IS Verus, differ from the given option \u001b[0m\u001b[93m[WARN] [init] data/projs/anvil/base.z3/fluent-smt-fluent_controller__fluentbit__proof__helper_invariants__proof.9.smt2 detected IS Verus, differ from the given option \u001b[0m\u001b[93m[WARN] [init] data/projs/anvil/base.z3/zookeeper-smt-rabbitmq-smt-rabbitmq_controller__proof__liveness__resource_match.1.smt2 detected IS Verus, differ from the given option \u001b[0m\u001b[93m[WARN] [init] data/projs/anvil/base.z3/fluent-smt-fluent_controller__fluentbit_config__proof__liveness__resource_match.5.smt2 detected IS Verus, differ from the given option \u001b[0m\u001b[93m[WARN] [init] data/projs/verismo.dedup/base.z3/pgtable_e__pte.18.smt2 detected IS Verus, differ from the given option \u001b[0m\n",
      "\n",
      "\n",
      "\n",
      "\u001b[93m[WARN] [init] data/projs/anvil/base.z3/fluent-smt-fluent_controller__fluentbit__proof__helper_invariants__validation.3.smt2 detected IS Verus, differ from the given option \u001b[0m\n",
      "\n",
      "\u001b[93m[WARN] [init] data/projs/verismo.dedup/base.z3/boot__init__e820_init.2.smt2 detected IS Verus, differ from the given option \u001b[0m\n",
      "\u001b[93m[WARN] [init] data/projs/anvil/base.z3/zookeeper-smt-rabbitmq-smt-rabbitmq_controller__proof__liveness__resource_match__lemma_from_after_get_resource_step_to_after_update_resource_step.smt2 detected IS Verus, differ from the given option \u001b[0m\n",
      "\n",
      "\u001b[93m[WARN] [init] data/projs/vsystemsnew/base.z3/mimalloc-smt-segment__span_queue_delete.smt2 detected IS Verus, differ from the given option \u001b[0m\n",
      "\u001b[93m[WARN] [init] data/projs/flowcert/base.z3/permission.14.smt2 detected IS Verus, differ from the given option \u001b[0m\n",
      "\n",
      "\u001b[93m[WARN] [init] data/projs/verismo.dedup/base.z3/allocator__linkedlist.10.smt2 detected IS Verus, differ from the given option \u001b[0m"
     ]
    },
    {
     "name": "stderr",
     "output_type": "stream",
     "text": [
      "\u001b[94m[DEBUG] [edit] proof path: dbg/82449bd2e8/proofs/shuffle.1824484889151391589.proof \u001b[0m\n",
      "\u001b[94m[DEBUG] [edit] trace path: dbg/82449bd2e8/traces/rename.8223263913722026815 \u001b[0m\n"
     ]
    },
    {
     "name": "stdout",
     "output_type": "stream",
     "text": [
      "2b0baa4fbdbd43ba062946081e30f2e7.pickle\n"
     ]
    },
    {
     "name": "stderr",
     "output_type": "stream",
     "text": [
      "\u001b[94m[DEBUG] [edit] proof path: dbg/55b4af82a4/proofs/reseed.3229159264617141076.proof \u001b[0m\n",
      "\u001b[94m[DEBUG] [edit] trace path: dbg/55b4af82a4/traces/reseed.2446138819067655487 \u001b[0m\n"
     ]
    },
    {
     "name": "stdout",
     "output_type": "stream",
     "text": [
      "6eefa14ea615713852190ba16e3a1f6a.pickle\n"
     ]
    },
    {
     "name": "stderr",
     "output_type": "stream",
     "text": [
      "\u001b[94m[DEBUG] [edit] proof path: dbg/a1b4b3fd4a/proofs/rename.13466259782321760747.proof \u001b[0m\n",
      "\u001b[94m[DEBUG] [edit] trace path: dbg/a1b4b3fd4a/traces/rename.16754898796465586930 \u001b[0m\n"
     ]
    },
    {
     "name": "stdout",
     "output_type": "stream",
     "text": [
      "f9149ae61a4b36d6396f9b5cf95f9e8b.pickle\n",
      "\u001b[93m[WARN] [differ] qid unknown_6621 not found in dbg/82449bd2e8/orig.smt2 \u001b[0m\n",
      "\u001b[93m[WARN] [differ] qid unknown_2993 not found in dbg/a1b4b3fd4a/orig.smt2 \u001b[0m\n",
      "\u001b[93m[WARN] [differ] qid unknown_3164 not found in dbg/a1b4b3fd4a/orig.smt2 \u001b[0m\n",
      "\u001b[93m[WARN] [differ] qid unknown_3394 not found in dbg/a1b4b3fd4a/orig.smt2 \u001b[0m\n",
      "\u001b[93m[WARN] [differ] qid unknown_3008 not found in dbg/a1b4b3fd4a/orig.smt2 \u001b[0m\n",
      "\u001b[93m[WARN] [differ] qid unknown_3203 not found in dbg/a1b4b3fd4a/orig.smt2 \u001b[0m\n",
      "\u001b[93m[WARN] [differ] qid unknown_3376 not found in dbg/a1b4b3fd4a/orig.smt2 \u001b[0m\n",
      "\u001b[93m[WARN] [differ] qid unknown_2959 not found in dbg/a1b4b3fd4a/orig.smt2 \u001b[0m\n",
      "\u001b[93m[WARN] [differ] qid unknown_3277 not found in dbg/a1b4b3fd4a/orig.smt2 \u001b[0m\n",
      "\u001b[93m[WARN] [differ] qid unknown_10728 not found in dbg/55b4af82a4/orig.smt2 \u001b[0m\n",
      "\u001b[93m[WARN] [differ] qid unknown_11095 not found in dbg/55b4af82a4/orig.smt2 \u001b[0m\n",
      "\u001b[93m[WARN] [differ] qid unknown_11119 not found in dbg/55b4af82a4/orig.smt2 \u001b[0m\n",
      "\u001b[93m[WARN] [differ] qid unknown_11131 not found in dbg/55b4af82a4/orig.smt2 \u001b[0m\n",
      "\u001b[93m[WARN] [differ] qid unknown_11174 not found in dbg/55b4af82a4/orig.smt2 \u001b[0m\n",
      "\u001b[93m[WARN] [differ] qid unknown_11160 not found in dbg/55b4af82a4/orig.smt2 \u001b[0m\n",
      "\u001b[93m[WARN] [differ] qid unknown_10941 not found in dbg/55b4af82a4/orig.smt2 \u001b[0m\n",
      "\u001b[93m[WARN] [differ] qid unknown_10855 not found in dbg/55b4af82a4/orig.smt2 \u001b[0m\n",
      "\u001b[93m[WARN] [differ] qid constructor_accessor_axiom not found in dbg/82449bd2e8/orig.smt2 \u001b[0m\n",
      "\u001b[93m[WARN] [differ] qid <null> not found in dbg/82449bd2e8/orig.smt2 \u001b[0m\n"
     ]
    },
    {
     "name": "stderr",
     "output_type": "stream",
     "text": [
      "\u001b[94m[DEBUG] saving cache at 82449bd2e8.22.report \u001b[0m\n"
     ]
    },
    {
     "name": "stdout",
     "output_type": "stream",
     "text": [
      "\u001b[93m[WARN] [differ] qid constructor_accessor_axiom not found in dbg/55b4af82a4/orig.smt2 \u001b[0m\n",
      "\u001b[93m[WARN] [differ] qid <null> not found in dbg/55b4af82a4/orig.smt2 \u001b[0m\n"
     ]
    },
    {
     "name": "stderr",
     "output_type": "stream",
     "text": [
      "\u001b[94m[DEBUG] saving cache at 55b4af82a4.22.report \u001b[0m\n"
     ]
    },
    {
     "name": "stdout",
     "output_type": "stream",
     "text": [
      "\u001b[93m[WARN] [differ] qid constructor_accessor_axiom not found in dbg/a1b4b3fd4a/orig.smt2 \u001b[0m\n",
      "\u001b[93m[WARN] [differ] qid <null> not found in dbg/a1b4b3fd4a/orig.smt2 \u001b[0m\n"
     ]
    },
    {
     "name": "stderr",
     "output_type": "stream",
     "text": [
      "\u001b[94m[DEBUG] saving cache at a1b4b3fd4a.22.report \u001b[0m\n"
     ]
    }
   ],
   "source": [
    "verus_rd2_to_targets = [\n",
    "    \"621abdd996\",\n",
    "    \"aad03b9358\",\n",
    "    \"199ba4594c\",\n",
    "    \"93004876e4\",\n",
    "    \"65d90190b4\",\n",
    "    \"fa2fdaf6e0\",\n",
    "    \"6937ca47cd\",\n",
    "    \"82449bd2e8\",\n",
    "    \"a1b4b3fd4a\",\n",
    "    \"8c0bbf67d0\",\n",
    "    \"55b4af82a4\",\n",
    "    \"66c9bdf69f\",\n",
    "]\n",
    "\n",
    "options = DebugOptions()\n",
    "options.mode = DbgMode.DOUBLETON\n",
    "options.is_verus = False\n",
    "\n",
    "mv = BenchViewer(verus_rd2_to_targets, options)"
   ]
  },
  {
   "cell_type": "code",
   "execution_count": 3,
   "metadata": {},
   "outputs": [
    {
     "name": "stdout",
     "output_type": "stream",
     "text": [
      "| category                  |   count | percentage   |\n",
      "|---------------------------|---------|--------------|\n",
      "| DebugStatus.FIX_NOT_FOUND |       8 | 66.67 %      |\n",
      "| DebugStatus.FIX_FOUND     |       4 | 33.33 %      |\n",
      "| total                     |      12 | 100.00 %     |\n"
     ]
    }
   ],
   "source": [
    "mv.status.print_status()"
   ]
  },
  {
   "cell_type": "code",
   "execution_count": 4,
   "metadata": {},
   "outputs": [],
   "source": [
    "for q in mv.status[DebugStatus.NO_PROOF]:\n",
    "    print(q)"
   ]
  },
  {
   "cell_type": "code",
   "execution_count": 5,
   "metadata": {},
   "outputs": [],
   "source": [
    "for q in mv.status[DebugStatus.ERROR]:\n",
    "    print(\"./src/debugger3.py --verus --mode doubleton --reset -i\",  mv[q].name_hash)"
   ]
  },
  {
   "cell_type": "code",
   "execution_count": 6,
   "metadata": {},
   "outputs": [],
   "source": [
    "for q in mv.status[DebugStatus.NOT_CREATED]:\n",
    "    print(\"./src/debugger3.py --verus --mode doubleton --create -i\", mv[q].name_hash)"
   ]
  },
  {
   "cell_type": "code",
   "execution_count": 7,
   "metadata": {},
   "outputs": [],
   "source": [
    "from utils.system_utils import list_smt2_files\n",
    "\n",
    "# for q in mv.status[DebuggerStatus.FILTERED_NOT_RAN]:\n",
    "\n",
    "for q in mv.status[DebugStatus.NOT_TESTED]:\n",
    "    count = len(list_smt2_files(mv[q].strainer.test_dir))\n",
    "    # assert 0 < count <= 10\n",
    "    # print(\"./src/debugger3.py --mode doubleton --create -i\", mv[q].name_hash)\n",
    "    print(\"./src/make_spaghet.py --cluster --verus -i\", mv[q].strainer.test_dir)"
   ]
  },
  {
   "cell_type": "code",
   "execution_count": null,
   "metadata": {},
   "outputs": [],
   "source": []
  }
 ],
 "metadata": {
  "kernelspec": {
   "display_name": "Python 3",
   "language": "python",
   "name": "python3"
  },
  "language_info": {
   "codemirror_mode": {
    "name": "ipython",
    "version": 3
   },
   "file_extension": ".py",
   "mimetype": "text/x-python",
   "name": "python",
   "nbconvert_exporter": "python",
   "pygments_lexer": "ipython3",
   "version": "3.8.10"
  }
 },
 "nbformat": 4,
 "nbformat_minor": 2
}
