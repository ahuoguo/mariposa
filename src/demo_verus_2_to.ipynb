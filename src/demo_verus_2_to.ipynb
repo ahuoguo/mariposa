{
 "cells": [
  {
   "cell_type": "code",
   "execution_count": 2,
   "metadata": {},
   "outputs": [],
   "source": [
    "import sys, os\n",
    "\n",
    "MARIPOSA_PATH = \"/home/yizhou7/mariposa/\"\n",
    "\n",
    "sys.path.append(MARIPOSA_PATH + \"src\")\n",
    "os.chdir(MARIPOSA_PATH)\n",
    "\n",
    "from debugger.bench_viewer import BenchViewer\n",
    "from debugger.strainer import DebugStatus\n",
    "from benchmark_consts import *\n",
    "from debugger.mutant_info import TraceFailure\n",
    "from debugger.debugger import DbgMode, DebugOptions"
   ]
  },
  {
   "cell_type": "code",
   "execution_count": 3,
   "metadata": {},
   "outputs": [
    {
     "name": "stdout",
     "output_type": "stream",
     "text": [
      "\u001b[93m[WARN] [init] data/projs/verismo.dedup/base.z3/allocator__linkedlist.10.smt2 detected IS Verus, differ from the given option \u001b[0m\u001b[93m[WARN] [init] data/projs/verismo.dedup/base.z3/pgtable_e__pte.18.smt2 detected IS Verus, differ from the given option \u001b[0m\u001b[93m[WARN] [init] data/projs/verismo.dedup/base.z3/boot__init__e820_init.2.smt2 detected IS Verus, differ from the given option \u001b[0m\u001b[93m[WARN] [init] data/projs/anvil/base.z3/zookeeper-smt-zookeeper_controller__proof__liveness__stateful_set_match.2.smt2 detected IS Verus, differ from the given option \u001b[0m\u001b[93m[WARN] [init] data/projs/anvil/base.z3/zookeeper-smt-rabbitmq-smt-rabbitmq_controller__proof__liveness__resource_match__lemma_from_after_get_resource_step_to_after_update_resource_step.smt2 detected IS Verus, differ from the given option \u001b[0m\u001b[93m[WARN] [init] data/projs/anvil/base.z3/zookeeper-smt-rabbitmq-smt-rabbitmq_controller__proof__liveness__resource_match.1.smt2 detected IS Verus, differ from the given option \u001b[0m\u001b[93m[WARN] [init] data/projs/flowcert/base.z3/permission.14.smt2 detected IS Verus, differ from the given option \u001b[0m\u001b[93m[WARN] [init] data/projs/anvil/base.z3/fluent-smt-fluent_controller__fluentbit__proof__helper_invariants__proof.9.smt2 detected IS Verus, differ from the given option \u001b[0m\n",
      "\n",
      "\n",
      "\n",
      "\n",
      "\n",
      "\n",
      "\n",
      "\u001b[93m[WARN] [init] data/projs/anvil/base.z3/fluent-smt-fluent_controller__fluentbit__proof__helper_invariants__validation.3.smt2 detected IS Verus, differ from the given option \u001b[0m\n",
      "\u001b[93m[WARN] [init] data/projs/vsystemsnew/base.z3/mimalloc-smt-segment__span_queue_delete.smt2 detected IS Verus, differ from the given option \u001b[0m\n",
      "\u001b[93m[WARN] [init] data/projs/anvil/base.z3/fluent-smt-fluent_controller__fluentbit_config__proof__liveness__resource_match.5.smt2 detected IS Verus, differ from the given option \u001b[0m\n",
      "\u001b[93m[WARN] [init] data/projs/vsystemsnew/base.z3/mimalloc-smt-commit_segment.1.smt2 detected IS Verus, differ from the given option \u001b[0m\n"
     ]
    }
   ],
   "source": [
    "verus_rd2_to_targets = [\n",
    "    \"621abdd996\",\n",
    "    \"aad03b9358\",\n",
    "    \"199ba4594c\",\n",
    "    \"93004876e4\",\n",
    "    \"65d90190b4\",\n",
    "    \"fa2fdaf6e0\",\n",
    "    \"6937ca47cd\",\n",
    "    \"82449bd2e8\",\n",
    "    \"a1b4b3fd4a\",\n",
    "    \"8c0bbf67d0\",\n",
    "    \"55b4af82a4\",\n",
    "    \"66c9bdf69f\",\n",
    "]\n",
    "\n",
    "options = DebugOptions()\n",
    "options.mode = DbgMode.DOUBLETON\n",
    "options.is_verus = False\n",
    "\n",
    "mv = BenchViewer(verus_rd2_to_targets, options)"
   ]
  },
  {
   "cell_type": "code",
   "execution_count": 4,
   "metadata": {},
   "outputs": [
    {
     "name": "stdout",
     "output_type": "stream",
     "text": [
      "| category                  |   count | percentage   |\n",
      "|---------------------------|---------|--------------|\n",
      "| DebugStatus.FIX_NOT_FOUND |       8 | 66.67 %      |\n",
      "| DebugStatus.FIX_FOUND     |       4 | 33.33 %      |\n",
      "| total                     |      12 | 100.00 %     |\n"
     ]
    }
   ],
   "source": [
    "mv.status.print_status()"
   ]
  },
  {
   "cell_type": "code",
   "execution_count": 5,
   "metadata": {},
   "outputs": [],
   "source": [
    "for q in mv.status[DebugStatus.NO_PROOF]:\n",
    "    print(q)"
   ]
  },
  {
   "cell_type": "code",
   "execution_count": 6,
   "metadata": {},
   "outputs": [],
   "source": [
    "for q in mv.status[DebugStatus.ERROR]:\n",
    "    print(\"./src/debugger3.py --verus --mode doubleton --reset -i\",  mv[q].name_hash)"
   ]
  },
  {
   "cell_type": "code",
   "execution_count": 7,
   "metadata": {},
   "outputs": [],
   "source": [
    "for q in mv.status[DebugStatus.NOT_CREATED]:\n",
    "    print(\"./src/debugger3.py --verus --mode doubleton --create -i\", mv[q].name_hash)"
   ]
  },
  {
   "cell_type": "code",
   "execution_count": null,
   "metadata": {},
   "outputs": [],
   "source": [
    "from utils.system_utils import list_smt2_files\n",
    "\n",
    "# for q in mv.status[DebuggerStatus.FILTERED_NOT_RAN]:\n",
    "\n",
    "for q in mv.status[DebugStatus.NOT_TESTED]:\n",
    "    count = len(list_smt2_files(mv[q].strainer.test_dir))\n",
    "    # assert 0 < count <= 10\n",
    "    # print(\"./src/debugger3.py --mode doubleton --create -i\", mv[q].name_hash)\n",
    "    print(\"./src/make_spaghet.py --cluster --verus -i\", mv[q].strainer.test_dir)"
   ]
  },
  {
   "cell_type": "code",
   "execution_count": 11,
   "metadata": {},
   "outputs": [
    {
     "name": "stdout",
     "output_type": "stream",
     "text": [
      "\u001b[92m[INFO] created misc script: sync.sh with 24 commands \u001b[0m\n"
     ]
    }
   ],
   "source": [
    "from utils.cluster_utils import get_sync_commands\n",
    "from utils.system_utils import write_misc_script\n",
    "dirs = []\n",
    "for q in mv.status[DebugStatus.FIX_FOUND]:\n",
    "    dbg = mv[q]\n",
    "    # if len(dbg.report.tested) > 10:\n",
    "    #     print(q)\n",
    "    dirs += dbg.get_sync_dirs()\n",
    "\n",
    "# get_sync_commands(\"g2001\", dirs)\n",
    "write_misc_script(\"sync.sh\", get_sync_commands(\"g2001\", dirs))"
   ]
  },
  {
   "cell_type": "code",
   "execution_count": null,
   "metadata": {},
   "outputs": [],
   "source": []
  }
 ],
 "metadata": {
  "kernelspec": {
   "display_name": "Python 3",
   "language": "python",
   "name": "python3"
  },
  "language_info": {
   "codemirror_mode": {
    "name": "ipython",
    "version": 3
   },
   "file_extension": ".py",
   "mimetype": "text/x-python",
   "name": "python",
   "nbconvert_exporter": "python",
   "pygments_lexer": "ipython3",
   "version": "3.8.10"
  }
 },
 "nbformat": 4,
 "nbformat_minor": 2
}
