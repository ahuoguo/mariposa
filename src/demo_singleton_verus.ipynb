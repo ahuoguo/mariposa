{
 "cells": [
  {
   "cell_type": "code",
   "execution_count": 1,
   "metadata": {},
   "outputs": [],
   "source": [
    "import sys, os\n",
    "\n",
    "MARIPOSA_PATH = \"/home/yizhou7/mariposa/\"\n",
    "\n",
    "sys.path.append(MARIPOSA_PATH + \"src\")\n",
    "os.chdir(MARIPOSA_PATH)\n",
    "\n",
    "from debugger.debugger import DbgMode\n",
    "from debugger.bench_viewer import BenchViewer\n",
    "from debugger.debugger_options import DebugOptions\n",
    "from debugger.strainer import StrainerStatus\n",
    "from benchmark_consts import *"
   ]
  },
  {
   "cell_type": "code",
   "execution_count": 2,
   "metadata": {},
   "outputs": [
    {
     "name": "stdout",
     "output_type": "stream",
     "text": [
      "\u001b[93m[WARN] [proof] no proofs available \u001b[0m\n",
      "\u001b[93m[WARN] [proof] no proofs available \u001b[0m\n",
      "\u001b[93m[WARN] [proof] no proofs available \u001b[0m\n",
      "\u001b[93m[WARN] [init] 8d058577cd trace slow unknown, fallback to timeout \u001b[0m\n"
     ]
    }
   ],
   "source": [
    "qs = UNSTABLE_VERUS\n",
    "options = DebugOptions()\n",
    "options.is_verus = True\n",
    "\n",
    "mv = BenchViewer(qs, options)"
   ]
  },
  {
   "cell_type": "code",
   "execution_count": 3,
   "metadata": {},
   "outputs": [
    {
     "name": "stdout",
     "output_type": "stream",
     "text": [
      "| category                |   count | percentage   |\n",
      "|-------------------------|---------|--------------|\n",
      "| StrainerStatus.FINISHED |      67 | 95.71 %      |\n",
      "| StrainerStatus.NO_PROOF |       3 | 4.29 %       |\n",
      "| total                   |      70 | 100.00 %     |\n"
     ]
    }
   ],
   "source": [
    "mv.status.print_status()"
   ]
  },
  {
   "cell_type": "code",
   "execution_count": 4,
   "metadata": {},
   "outputs": [],
   "source": [
    "discount = [\n",
    "    (\"08719204aa\", \"4b9e624e\"),\n",
    "    (\"81b159a977\", \"fbe192f3\"),\n",
    "    (\"2556504d15\", \"7ab783b0\"),\n",
    "    (\"6540edb885\", \"5e546c11\"),\n",
    "    (\"82449bd2e8\", \"4c612f9b\"),\n",
    "    (\"a1b4b3fd4a\", \"4e444e51\"),\n",
    "    (\"55b4af82a4\", \"02d50371\"),\n",
    "    (\"2556504d15\", \"0e424555\"),\n",
    "    (\"4d2d4fbc20\", \"5a3b4208\"),\n",
    "    (\"82449bd2e8\", \"905f3174\"),\n",
    "    (\"2045867a58\", \"7ec12ea5\"),\n",
    "    (\"55b4af82a4\", \"781157b6\"),\n",
    "    (\"68ac429152\", \"75d801e3\"),\n",
    "]"
   ]
  },
  {
   "cell_type": "code",
   "execution_count": 5,
   "metadata": {},
   "outputs": [],
   "source": [
    "def fixable_after_discount(dbg):\n",
    "    report =dbg.report\n",
    "    name_hash = dbg.name_hash\n",
    "    fixable = False\n",
    "    for edit_path in report.stabilized['edit_path']:\n",
    "        edit_hash = os.path.basename(edit_path).split('.')[0]\n",
    "        if (name_hash, edit_hash) in discount:\n",
    "            continue\n",
    "        fixable = True\n",
    "    return fixable"
   ]
  },
  {
   "cell_type": "code",
   "execution_count": 6,
   "metadata": {},
   "outputs": [
    {
     "name": "stdout",
     "output_type": "stream",
     "text": [
      "Test Finished: 67/70 (95.7%)\n",
      "\tTOs: 38/67 (56.7%)\n",
      "\t\tTO fixable: 25/38 (65.8%)\n",
      "\tFFs: 29/67 (43.3%)\n",
      "\t\tFF fixable: 22/29 (75.9%)\n",
      "Test Not Finished: 0/70 (0.0%)\n",
      "No Proofs: 3/70 (4.3%)\n",
      "* fixable: 47/70 (67.1%)\n"
     ]
    }
   ],
   "source": [
    "from utils.analysis_utils import fmt_percent\n",
    "\n",
    "bench_total = len(mv.status.tally)\n",
    "bench_finished = len(mv.status[StrainerStatus.FINISHED])\n",
    "# to_fixable = 0\n",
    "to_cases = dict()\n",
    "ff_cases = dict()\n",
    "\n",
    "def print_break_down(p, q):\n",
    "    return f\"{p}/{q} ({fmt_percent(p, q, 1)})\"\n",
    "\n",
    "for q in mv.status[StrainerStatus.FINISHED]:\n",
    "    dbg = mv[q]\n",
    "    if dbg.mode == DbgMode.TIMEOUT:\n",
    "        to_cases[q] = q in mv.fixable and fixable_after_discount(dbg)\n",
    "    elif dbg.mode == DbgMode.FAST_FAIL:\n",
    "        ff_cases[q] = q in mv.fixable and fixable_after_discount(dbg)\n",
    "    else:\n",
    "        print(\"Unexpected mode\", dbg.mode)\n",
    "        assert False\n",
    "\n",
    "to_fixable = sum(to_cases.values())\n",
    "ff_fixable = sum(ff_cases.values())\n",
    "\n",
    "print(\"Test Finished:\", print_break_down(bench_finished, bench_total))\n",
    "print(\"\\tTOs:\", print_break_down(len(to_cases), bench_finished))\n",
    "print(\"\\t\\tTO fixable:\", print_break_down(to_fixable, len(to_cases)))\n",
    "print(\"\\tFFs:\", print_break_down(len(ff_cases), bench_finished))\n",
    "print(\"\\t\\tFF fixable:\", print_break_down(ff_fixable, len(ff_cases)))\n",
    "\n",
    "print(\"Test Not Finished:\", print_break_down(len(mv.status[StrainerStatus.NOT_CREATED]), bench_total))\n",
    "print(\"No Proofs:\", print_break_down(len(mv.status[StrainerStatus.NO_PROOF]), bench_total))\n",
    "print(\"* fixable:\", print_break_down(to_fixable + ff_fixable, bench_total))"
   ]
  },
  {
   "cell_type": "code",
   "execution_count": 7,
   "metadata": {},
   "outputs": [],
   "source": [
    "for query in mv.fixable:\n",
    "    report = mv[query].report\n",
    "    name_hash = mv[query].name_hash\n",
    "\n",
    "    for edit_path in report.stabilized['edit_path']:\n",
    "        edit_query = os.path.basename(edit_path)\n",
    "        bundle_path = f\"data/projs/verus_singleton_bundle/base.z3/{name_hash}.{edit_query}\""
   ]
  },
  {
   "cell_type": "code",
   "execution_count": 8,
   "metadata": {},
   "outputs": [
    {
     "name": "stdout",
     "output_type": "stream",
     "text": [
      "data/projs/vsystemsnew/base.z3/mimalloc-smt-page_organization__PageOrg__impl_%4__merge_with_before_ll_inv_valid_unused.smt2\n",
      "data/projs/vsystemsnew/base.z3/page-table-smt-impl_u__l2_refinement.4.smt2\n",
      "data/projs/verismo.dedup/base.z3/arch__ptram__ptram_p2.smt2\n"
     ]
    }
   ],
   "source": [
    "for q in mv.status[StrainerStatus.NO_PROOF]:\n",
    "    print(q)"
   ]
  },
  {
   "cell_type": "code",
   "execution_count": 9,
   "metadata": {},
   "outputs": [],
   "source": [
    "for q in mv.status[StrainerStatus.NOT_CREATED]:\n",
    "    print(\"./src/debugger3.py -m auto -i\", mv[q].name_hash, \"--create-project\")"
   ]
  },
  {
   "cell_type": "code",
   "execution_count": 10,
   "metadata": {},
   "outputs": [],
   "source": [
    "from utils.system_utils import list_smt2_files\n",
    "\n",
    "for q in mv.status[StrainerStatus.UNFILTERED]:\n",
    "    assert len(list_smt2_files(mv[q].strainer.filter_dir)) != 0\n",
    "    print(\"./src/make_spaghet.py --verus -i\", mv[q].strainer.filter_dir)\n",
    "\n",
    "for q in mv.status[StrainerStatus.NOT_TESTED]:\n",
    "    assert len(list_smt2_files(mv[q].strainer.test_dir)) != 0\n",
    "    print(\"./src/make_spaghet.py --verus -i\", mv[q].strainer.test_dir)"
   ]
  },
  {
   "cell_type": "code",
   "execution_count": 11,
   "metadata": {},
   "outputs": [],
   "source": [
    "# from utils.cluster_utils import get_sync_commands\n",
    "# from utils.system_utils import write_misc_script\n",
    "\n",
    "# for q in mv.status.tally:\n",
    "#     dbg = mv[q]\n",
    "#     dbg.collect_garbage()\n",
    "\n",
    "# write_misc_script(\"send.sh\", get_sync_commands(\"g2001\", mv.get_sync_dirs()))"
   ]
  },
  {
   "cell_type": "code",
   "execution_count": 15,
   "metadata": {},
   "outputs": [
    {
     "name": "stderr",
     "output_type": "stream",
     "text": [
      "\u001b[94m[DEBUG] [skolem] i$!skolem_user_vstd__seq__axiom_seq_ext_equal_14!0 -> skv_6e6d8de87cb115f5_1 \u001b[0m\n",
      "\u001b[94m[DEBUG] [edit] proof path: dbg/d057fff3f5/proofs/rename.17608056682826294385.proof \u001b[0m\n",
      "\u001b[94m[DEBUG] [edit] trace path: dbg/d057fff3f5/traces/shuffle.227536422975727424 \u001b[0m\n",
      "\u001b[94m[DEBUG] [skolem] is in the goal! \u001b[0m\n",
      "\u001b[94m[DEBUG] [skolem] i$!skolem_user_lib__spec__cyclicbuffer__log_entry_alive_wrap_around_51!1 -> skv_7e8cb799170a4a47_1 \u001b[0m\n"
     ]
    },
    {
     "name": "stdout",
     "output_type": "stream",
     "text": [
      "\u001b[92m[INFO] [edit] [skolem] user_vstd__seq__axiom_seq_ext_equal_14 creates 1 skolem funs, 1 asserts \u001b[0m\n",
      "(assert (=> (fuel_bool fuel%vstd!seq.axiom_seq_ext_equal.) (forall ((A&. Dcr) (A& Type) (s1! Poly) (s2! Poly)) (! (=> (and (has_type s1! (TYPE%vstd!seq.Seq. A&. A&)) (has_type s2! (TYPE%vstd!seq.Seq. A&. A&))) (= (ext_eq false (TYPE%vstd!seq.Seq. A&. A&) s1! s2!) (and (= (vstd!seq.Seq.len.? A&. A& s1!) (vstd!seq.Seq.len.? A&. A& s2!)) (forall ((i$ Poly)) (! (=> (has_type i$ INT) (=> (and (<= 0 (%I i$)) (< (%I i$) (vstd!seq.Seq.len.? A&. A& s1!))) (= (vstd!seq.Seq.index.? A&. A& s1! i$) (vstd!seq.Seq.index.? A&. A& s2! i$)))) :pattern ((vstd!seq.Seq.index.? A&. A& s1! i$)) :pattern ((vstd!seq.Seq.index.? A&. A& s2! i$)) :qid user_vstd__seq__axiom_seq_ext_equal_14 :skolemid skolem_user_vstd__seq__axiom_seq_ext_equal_14))))) :pattern ((ext_eq false (TYPE%vstd!seq.Seq. A&. A&) s1! s2!)) :qid user_vstd__seq__axiom_seq_ext_equal_15 :skolemid skolem_user_vstd__seq__axiom_seq_ext_equal_15))))\n",
      "\u001b[92m[INFO] [edit] [banish] user_vstd__seq__axiom_seq_ext_equal_14 \u001b[0m\n",
      "\u001b[93m[WARN] failed to banish user_vstd__seq__axiom_seq_ext_equal_14 \u001b[0m\n",
      "\u001b[92m[INFO] [edit] written to data/projs/verus.skolem/base.z3/a896b920ca.ca20d03e.smt2 \u001b[0m\n",
      "d9a6fd7885eb3eb6c413c53316a91f44.pickle\n",
      "\u001b[93m[WARN] [differ] qid constructor_accessor_axiom not found in dbg/d057fff3f5/orig.smt2 \u001b[0m\n",
      "\u001b[92m[INFO] [edit] [skolem] user_lib__spec__cyclicbuffer__log_entry_alive_wrap_around_51 creates 1 skolem funs, 2 asserts \u001b[0m\n",
      "(assert (not (=> %%location_label%%0 (forall ((i$ Poly)) (! (=> (has_type i$ INT) (=> (and (<= low! (%I i$)) (< (%I i$) high!)) (= (lib!spec.cyclicbuffer.log_entry_is_alive.? (Poly%vstd!map.Map<nat./bool.>. alive_bits!) i$ (I buffer_size!)) (not (lib!spec.cyclicbuffer.log_entry_is_alive.? (Poly%vstd!map.Map<nat./bool.>. alive_bits!) (I (lib!spec.cyclicbuffer.add_buffersize.? i$ (I buffer_size!))) (I buffer_size!)))))) :pattern ((lib!spec.cyclicbuffer.log_entry_is_alive.? (Poly%vstd!map.Map<nat./bool.>. alive_bits!) (I (lib!spec.cyclicbuffer.add_buffersize.? i$ (I buffer_size!))) (I buffer_size!))) :qid user_lib__spec__cyclicbuffer__log_entry_alive_wrap_around_51 :skolemid skolem_user_lib__spec__cyclicbuffer__log_entry_alive_wrap_around_51)))))\n",
      "\u001b[92m[INFO] [edit] [banish] user_lib__spec__cyclicbuffer__log_entry_alive_wrap_around_51 \u001b[0m\n",
      "\u001b[92m[INFO] [edit] goal was modified! \u001b[0m\n",
      "\u001b[92m[INFO] [edit] written to data/projs/verus.skolem/base.z3/d057fff3f5.28c9a89c.smt2 \u001b[0m\n",
      "bb177960ff0bf14e16b55d9b3b47a355.pickle\n"
     ]
    },
    {
     "name": "stderr",
     "output_type": "stream",
     "text": [
      "\u001b[94m[DEBUG] [edit] proof path: dbg/d6181053ff/proofs/shuffle.1879102912735967004.proof \u001b[0m\n",
      "\u001b[94m[DEBUG] [edit] trace path: dbg/d6181053ff/traces/shuffle.15181022330680520267 \u001b[0m\n",
      "\u001b[94m[DEBUG] [skolem] is in the goal! \u001b[0m\n",
      "\u001b[94m[DEBUG] [skolem] i$!skolem_user_lib__spec__cyclicbuffer__log_entry_idx_wrap_around_61!2 -> skv_5ead8fee6076c786_1 \u001b[0m\n",
      "\u001b[94m[DEBUG] [edit] proof path: dbg/be920877ca/proofs/shuffle.9555299481395785809.proof \u001b[0m\n",
      "\u001b[94m[DEBUG] [edit] trace path: dbg/be920877ca/traces/shuffle.14575692651422062579 \u001b[0m\n"
     ]
    },
    {
     "name": "stdout",
     "output_type": "stream",
     "text": [
      "\u001b[93m[WARN] [differ] qid constructor_accessor_axiom not found in dbg/d6181053ff/orig.smt2 \u001b[0m\n",
      "\u001b[92m[INFO] [edit] [skolem] user_lib__spec__cyclicbuffer__log_entry_idx_wrap_around_61 creates 1 skolem funs, 2 asserts \u001b[0m\n",
      "(assert (not (=> %%location_label%%0 (forall ((i$ Poly)) (! (=> (has_type i$ INT) (=> (and (and (<= start! (%I i$)) (< (%I i$) (nClip (Add start! buffer_size!)))) (not (= (%I i$) idx!))) (not (= (lib!spec.cyclicbuffer.log_entry_idx.? i$ (I buffer_size!)) (lib!spec.cyclicbuffer.log_entry_idx.? (I idx!) (I buffer_size!)))))) :pattern ((lib!spec.cyclicbuffer.log_entry_idx.? i$ (I buffer_size!))) :qid user_lib__spec__cyclicbuffer__log_entry_idx_wrap_around_61 :skolemid skolem_user_lib__spec__cyclicbuffer__log_entry_idx_wrap_around_61)))))\n",
      "\u001b[92m[INFO] [edit] [banish] user_lib__spec__cyclicbuffer__log_entry_idx_wrap_around_61 \u001b[0m\n",
      "\u001b[92m[INFO] [edit] goal was modified! \u001b[0m\n",
      "\u001b[92m[INFO] [edit] written to data/projs/verus.skolem/base.z3/d6181053ff.eb582753.smt2 \u001b[0m\n",
      "7f3387739f00544be2dda14c996725b3.pickle\n",
      "\u001b[93m[WARN] [differ] qid constructor_accessor_axiom not found in dbg/be920877ca/orig.smt2 \u001b[0m\n",
      "\u001b[92m[INFO] [edit] [skolem] user_vstd__seq__axiom_seq_ext_equal_9 creates 1 skolem funs, 1 asserts \u001b[0m\n",
      "(assert (=> (fuel_bool fuel%vstd!seq.axiom_seq_ext_equal.) (forall ((A&. Dcr) (A& Type) (s1! Poly) (s2! Poly)) (! (=> (and (has_type s1! (TYPE%vstd!seq.Seq. A&. A&)) (has_type s2! (TYPE%vstd!seq.Seq. A&. A&))) (= (ext_eq false (TYPE%vstd!seq.Seq. A&. A&) s1! s2!) (and (= (vstd!seq.Seq.len.? A&. A& s1!) (vstd!seq.Seq.len.? A&. A& s2!)) (forall ((i$ Poly)) (! (=> (has_type i$ INT) (=> (and (<= 0 (%I i$)) (< (%I i$) (vstd!seq.Seq.len.? A&. A& s1!))) (= (vstd!seq.Seq.index.? A&. A& s1! i$) (vstd!seq.Seq.index.? A&. A& s2! i$)))) :pattern ((vstd!seq.Seq.index.? A&. A& s1! i$)) :pattern ((vstd!seq.Seq.index.? A&. A& s2! i$)) :qid user_vstd__seq__axiom_seq_ext_equal_9 :skolemid skolem_user_vstd__seq__axiom_seq_ext_equal_9))))) :pattern ((ext_eq false (TYPE%vstd!seq.Seq. A&. A&) s1! s2!)) :qid user_vstd__seq__axiom_seq_ext_equal_10 :skolemid skolem_user_vstd__seq__axiom_seq_ext_equal_10))))\n",
      "\u001b[92m[INFO] [edit] [banish] user_vstd__seq__axiom_seq_ext_equal_9 \u001b[0m\n",
      "\u001b[93m[WARN] failed to banish user_vstd__seq__axiom_seq_ext_equal_9 \u001b[0m\n",
      "\u001b[92m[INFO] [edit] written to data/projs/verus.skolem/base.z3/be920877ca.3fcad85d.smt2 \u001b[0m\n",
      "c4c1f6d166ad5b106554b653f12ed9c4.pickle\n"
     ]
    },
    {
     "name": "stderr",
     "output_type": "stream",
     "text": [
      "\u001b[94m[DEBUG] [skolem] i$!skolem_user_vstd__seq__axiom_seq_ext_equal_9!3 -> skv_e2952d8074bdbf02_1 \u001b[0m\n",
      "\u001b[94m[DEBUG] [edit] proof path: dbg/f6f3f962c0/proofs/shuffle.13526046991560484318.proof \u001b[0m\n",
      "\u001b[94m[DEBUG] [edit] trace path: dbg/f6f3f962c0/traces/shuffle.5345052648385214803 \u001b[0m\n"
     ]
    },
    {
     "name": "stdout",
     "output_type": "stream",
     "text": [
      "\u001b[93m[WARN] [differ] qid constructor_accessor_axiom not found in dbg/f6f3f962c0/orig.smt2 \u001b[0m\n",
      "41884a1c910ece84f3f54ae2e3ed76a2.pickle\n"
     ]
    },
    {
     "name": "stderr",
     "output_type": "stream",
     "text": [
      "\u001b[94m[DEBUG] [edit] proof path: dbg/090a2a7d67/proofs/reseed.7014106981689618503.proof \u001b[0m\n",
      "\u001b[94m[DEBUG] [edit] trace path: dbg/090a2a7d67/traces/shuffle.10445631812693282071 \u001b[0m\n"
     ]
    },
    {
     "name": "stdout",
     "output_type": "stream",
     "text": [
      "\u001b[93m[WARN] [differ] qid constructor_accessor_axiom not found in dbg/090a2a7d67/orig.smt2 \u001b[0m\n",
      "\u001b[93m[WARN] [differ] qid <null> not found in dbg/090a2a7d67/orig.smt2 \u001b[0m\n",
      "\u001b[92m[INFO] [edit] [skolem] user_lib__multilog__inv_v__each_metadata_consistent_with_info_24 creates 1 skolem funs, 1 asserts \u001b[0m\n",
      "(assert (=> (fuel_bool fuel%lib!multilog.inv_v.each_metadata_consistent_with_info.) (forall ((pm_regions_view! Poly) (multilog_id! Poly) (num_logs! Poly) (cdb! Poly) (infos! Poly)) (! (= (lib!multilog.inv_v.each_metadata_consistent_with_info.? pm_regions_view! multilog_id! num_logs! cdb! infos!) (and (let ((tmp%%$ (vstd!seq.Seq.len.? $ TYPE%lib!multilog.multilogimpl_v.LogInfo. infos!))) (and (and (= (vstd!seq.Seq.len.? $ TYPE%lib!pmem.pmemspec_t.PersistentMemoryRegionView. (Poly%vstd!seq.Seq<lib!pmem.pmemspec_t.PersistentMemoryRegionView.>. (lib!pmem.pmemspec_t.PersistentMemoryRegionsView./PersistentMemoryRegionsView/regions (%Poly%lib!pmem.pmemspec_t.PersistentMemoryRegionsView. pm_regions_view!)))) tmp%%$) (= tmp%%$ (%I num_logs!))) (> (%I num_logs!) 0))) (forall ((which_log$ Poly)) (! (=> (has_type which_log$ (UINT 32)) (=> (and (lib!multilog.inv_v.log_index_trigger.? which_log$) (< (%I which_log$) (%I num_logs!))) (let ((w$ (%I which_log$))) (lib!multilog.inv_v.metadata_consistent_with_info.? (Poly%lib!pmem.pmemspec_t.PersistentMemoryRegionView. (lib!pmem.pmemspec_t.impl&%7.spec_index.? pm_regions_view! (I w$))) multilog_id! num_logs! which_log$ cdb! (vstd!seq.Seq.index.? $ TYPE%lib!multilog.multilogimpl_v.LogInfo. infos! (I w$)))))) :pattern ((lib!multilog.inv_v.log_index_trigger.? which_log$)) :qid user_lib__multilog__inv_v__each_metadata_consistent_with_info_24 :skolemid skolem_user_lib__multilog__inv_v__each_metadata_consistent_with_info_24)))) :pattern ((lib!multilog.inv_v.each_metadata_consistent_with_info.? pm_regions_view! multilog_id! num_logs! cdb! infos!)) :qid internal_lib!multilog.inv_v.each_metadata_consistent_with_info.?_definition :skolemid skolem_internal_lib!multilog.inv_v.each_metadata_consistent_with_info.?_definition))))\n",
      "\u001b[92m[INFO] [edit] [banish] user_lib__multilog__inv_v__each_metadata_consistent_with_info_24 \u001b[0m\n",
      "\u001b[93m[WARN] failed to banish user_lib__multilog__inv_v__each_metadata_consistent_with_info_24 \u001b[0m\n",
      "\u001b[92m[INFO] [edit] written to data/projs/verus.skolem/base.z3/090a2a7d67.3f7fd9aa.smt2 \u001b[0m\n",
      "cce3dd987c131a5c430a27e224e9fdf1.pickle\n"
     ]
    },
    {
     "name": "stderr",
     "output_type": "stream",
     "text": [
      "\u001b[94m[DEBUG] [skolem] which_log$!skolem_user_lib__multilog__inv_v__each_metadata_consistent_with_info_24!4 -> skv_a4c05443bf5f6608_1 \u001b[0m\n",
      "\u001b[94m[DEBUG] [edit] proof path: dbg/7d8c4302ab/proofs/reseed.9908923975124208297.proof \u001b[0m\n",
      "\u001b[94m[DEBUG] [edit] trace path: dbg/7d8c4302ab/traces/shuffle.15513482486857776214 \u001b[0m\n"
     ]
    },
    {
     "name": "stdout",
     "output_type": "stream",
     "text": [
      "\u001b[93m[WARN] [differ] qid constructor_accessor_axiom not found in dbg/7d8c4302ab/orig.smt2 \u001b[0m\n",
      "\u001b[92m[INFO] [edit] [skolem] user_vstd__seq__axiom_seq_ext_equal_9 creates 1 skolem funs, 1 asserts \u001b[0m\n",
      "(assert (=> (fuel_bool fuel%vstd!seq.axiom_seq_ext_equal.) (forall ((A&. Dcr) (A& Type) (s1! Poly) (s2! Poly)) (! (=> (and (has_type s1! (TYPE%vstd!seq.Seq. A&. A&)) (has_type s2! (TYPE%vstd!seq.Seq. A&. A&))) (= (ext_eq false (TYPE%vstd!seq.Seq. A&. A&) s1! s2!) (and (= (vstd!seq.Seq.len.? A&. A& s1!) (vstd!seq.Seq.len.? A&. A& s2!)) (forall ((i$ Poly)) (! (=> (has_type i$ INT) (=> (and (<= 0 (%I i$)) (< (%I i$) (vstd!seq.Seq.len.? A&. A& s1!))) (= (vstd!seq.Seq.index.? A&. A& s1! i$) (vstd!seq.Seq.index.? A&. A& s2! i$)))) :pattern ((vstd!seq.Seq.index.? A&. A& s1! i$)) :pattern ((vstd!seq.Seq.index.? A&. A& s2! i$)) :qid user_vstd__seq__axiom_seq_ext_equal_9 :skolemid skolem_user_vstd__seq__axiom_seq_ext_equal_9))))) :pattern ((ext_eq false (TYPE%vstd!seq.Seq. A&. A&) s1! s2!)) :qid user_vstd__seq__axiom_seq_ext_equal_10 :skolemid skolem_user_vstd__seq__axiom_seq_ext_equal_10))))\n",
      "\u001b[92m[INFO] [edit] [banish] user_vstd__seq__axiom_seq_ext_equal_9 \u001b[0m\n",
      "\u001b[93m[WARN] failed to banish user_vstd__seq__axiom_seq_ext_equal_9 \u001b[0m\n",
      "\u001b[92m[INFO] [edit] written to data/projs/verus.skolem/base.z3/7d8c4302ab.3fcad85d.smt2 \u001b[0m\n"
     ]
    },
    {
     "name": "stderr",
     "output_type": "stream",
     "text": [
      "\u001b[94m[DEBUG] [skolem] i$!skolem_user_vstd__seq__axiom_seq_ext_equal_9!5 -> skv_23da4d09114d6832_1 \u001b[0m\n"
     ]
    }
   ],
   "source": [
    "from debugger.edit_info import EditAction, EditInfo\n",
    "\n",
    "VERUS_SKOLEM_DIR = \"data/projs/verus.skolem/base.z3\"\n",
    "\n",
    "skolem_failed = []\n",
    "\n",
    "for q in mv.unfixable:\n",
    "    if q not in ff_cases:\n",
    "        continue\n",
    "    dbg = mv[q]\n",
    "    qname = dbg.editor.choose_qanme_to_skolemize()\n",
    "    if qname is None:\n",
    "        skolem_failed.append(q)\n",
    "        continue\n",
    "    ei = EditInfo(VERUS_SKOLEM_DIR, {qname: EditAction.SKOLEMIZE})\n",
    "    edit_hash = ei.get_id()\n",
    "    name_hash = dbg.name_hash\n",
    "\n",
    "    if not dbg.editor.edit_by_qname(qname, EditAction.SKOLEMIZE):\n",
    "        skolem_failed.append(q)\n",
    "        continue\n",
    "        \n",
    "    query_path = f\"{VERUS_SKOLEM_DIR}/{name_hash}.{edit_hash}.smt2\"\n",
    "\n",
    "    if not dbg.editor.save(query_path):\n",
    "        skolem_failed.append(q)\n",
    "        continue\n"
   ]
  },
  {
   "cell_type": "code",
   "execution_count": 17,
   "metadata": {},
   "outputs": [
    {
     "name": "stdout",
     "output_type": "stream",
     "text": [
      "['data/projs/vsystemsnew/base.z3/mimalloc-smt-config.35.smt2']\n"
     ]
    }
   ],
   "source": [
    "print(skolem_failed)"
   ]
  },
  {
   "cell_type": "code",
   "execution_count": null,
   "metadata": {},
   "outputs": [],
   "source": []
  }
 ],
 "metadata": {
  "kernelspec": {
   "display_name": "Python 3",
   "language": "python",
   "name": "python3"
  },
  "language_info": {
   "codemirror_mode": {
    "name": "ipython",
    "version": 3
   },
   "file_extension": ".py",
   "mimetype": "text/x-python",
   "name": "python",
   "nbconvert_exporter": "python",
   "pygments_lexer": "ipython3",
   "version": "3.8.10"
  }
 },
 "nbformat": 4,
 "nbformat_minor": 2
}
