{
 "cells": [
  {
   "cell_type": "code",
   "execution_count": 13,
   "metadata": {},
   "outputs": [],
   "source": [
    "import sys, os\n",
    "\n",
    "MARIPOSA_PATH = \"/home/yizhou7/mariposa/\"\n",
    "\n",
    "sys.path.append(MARIPOSA_PATH + \"src\")\n",
    "os.chdir(MARIPOSA_PATH)\n",
    "\n",
    "from debugger.debugger import DbgMode\n",
    "from debugger.bench_viewer import BenchViewer\n",
    "from debugger.debugger_options import DebugOptions\n",
    "from debugger.strainer import StrainerStatus\n",
    "from benchmark_consts import *"
   ]
  },
  {
   "cell_type": "code",
   "execution_count": 14,
   "metadata": {},
   "outputs": [
    {
     "name": "stdout",
     "output_type": "stream",
     "text": [
      "\u001b[93m[WARN] [init] previous debugging attempt has failed, run with --retry-failed if needed! \u001b[0m\n",
      "\u001b[93m[WARN] [proof] no proofs available \u001b[0m\n",
      "\u001b[93m[WARN] [init] d4e5e77cbc trace slow unknown, fallback to fast_fail \u001b[0m\u001b[93m[WARN] [init] 3ce5c5e4dc trace slow unknown, fallback to fast_fail \u001b[0m\n",
      "\u001b[93m[WARN] [init] previous debugging attempt has failed, run with --retry-failed if needed! \u001b[0m\n",
      "\n",
      "\u001b[93m[WARN] [proof] no proofs available \u001b[0m\n",
      "\u001b[93m[WARN] [init] 2a3b1202bd trace slow unknown, fallback to fast_fail \u001b[0m\n",
      "\u001b[93m[WARN] [init] previous debugging attempt has failed, run with --retry-failed if needed! \u001b[0m\n",
      "\u001b[93m[WARN] [proof] no proofs available \u001b[0m\n",
      "\u001b[93m[WARN] [init] 5b7d18ab3e trace did not fail, fallback to fast_fail \u001b[0m\n",
      "\u001b[93m[WARN] [init] 0b497bc090 trace did not fail, fallback to fast_fail \u001b[0m\n",
      "\u001b[93m[WARN] [init] previous debugging attempt has failed, run with --retry-failed if needed! \u001b[0m\n",
      "\u001b[93m[WARN] [proof] no proofs available \u001b[0m\n",
      "\u001b[93m[WARN] [init] e998d08b31 trace slow unknown, fallback to fast_fail \u001b[0m\n",
      "\u001b[93m[WARN] [init] 3cead21983 trace slow unknown, fallback to fast_fail \u001b[0m\n"
     ]
    }
   ],
   "source": [
    "qs = UNSTABLE_MARIPOSA\n",
    "options = DebugOptions()\n",
    "\n",
    "mv = BenchViewer(qs, options)"
   ]
  },
  {
   "cell_type": "code",
   "execution_count": 3,
   "metadata": {},
   "outputs": [
    {
     "name": "stdout",
     "output_type": "stream",
     "text": [
      "| category                |   count | percentage   |\n",
      "|-------------------------|---------|--------------|\n",
      "| StrainerStatus.FINISHED |     541 | 99.27 %      |\n",
      "| StrainerStatus.NO_PROOF |       4 | 0.73 %       |\n",
      "| total                   |     545 | 100.00 %     |\n"
     ]
    }
   ],
   "source": [
    "mv.status.print_status()"
   ]
  },
  {
   "cell_type": "code",
   "execution_count": 15,
   "metadata": {},
   "outputs": [
    {
     "name": "stdout",
     "output_type": "stream",
     "text": [
      "Test Finished: 541/545 (99.3%)\n",
      "\tTOs: 444/541 (82.1%)\n",
      "\t\tTO fixable: 276/444 (62.2%)\n",
      "\tFFs: 97/541 (17.9%)\n",
      "\t\tFF fixable: 52/97 (53.6%)\n",
      "Test Not Finished: 0/545 (0.0%)\n",
      "No Proofs: 0.73%\n",
      "* fixable: 328/545 (60.2%)\n"
     ]
    }
   ],
   "source": [
    "from utils.analysis_utils import fmt_percent\n",
    "\n",
    "bench_total = len(mv.status.tally)\n",
    "bench_finished = len(mv.status[StrainerStatus.FINISHED])\n",
    "# to_fixable = 0\n",
    "to_cases = dict()\n",
    "ff_cases = dict()\n",
    "\n",
    "def print_break_down(p, q):\n",
    "    return f\"{p}/{q} ({fmt_percent(p, q, 1)})\"\n",
    "\n",
    "for q in mv.status[StrainerStatus.FINISHED]:\n",
    "    dbg = mv[q]\n",
    "    if dbg.mode == DbgMode.TIMEOUT:\n",
    "        to_cases[q] = q in mv.fixable\n",
    "    elif dbg.mode == DbgMode.FAST_FAIL:\n",
    "        ff_cases[q] = q in mv.fixable\n",
    "    else:\n",
    "        print(\"Unexpected mode\", dbg.mode)\n",
    "        assert False\n",
    "\n",
    "to_fixable = sum(to_cases.values())\n",
    "ff_fixable = sum(ff_cases.values())\n",
    "\n",
    "print(\"Test Finished:\", print_break_down(bench_finished, bench_total))\n",
    "print(\"\\tTOs:\", print_break_down(len(to_cases), bench_finished))\n",
    "print(\"\\t\\tTO fixable:\", print_break_down(to_fixable, len(to_cases)))\n",
    "print(\"\\tFFs:\", print_break_down(len(ff_cases), bench_finished))\n",
    "print(\"\\t\\tFF fixable:\", print_break_down(ff_fixable, len(ff_cases)))\n",
    "\n",
    "print(\"Test Not Finished:\", print_break_down(len(mv.status[StrainerStatus.NOT_CREATED]), bench_total))\n",
    "print(\"No Proofs:\", fmt_percent(len(mv.status[StrainerStatus.NO_PROOF]), bench_total))\n",
    "print(\"* fixable:\", print_break_down(to_fixable + ff_fixable, bench_total))"
   ]
  },
  {
   "cell_type": "code",
   "execution_count": 16,
   "metadata": {},
   "outputs": [],
   "source": [
    "for q in mv.status[StrainerStatus.NOT_CREATED]:\n",
    "    print(\"./src/debugger3.py -m auto -i\", mv[q].name_hash, \"--create-project\")"
   ]
  },
  {
   "cell_type": "code",
   "execution_count": 17,
   "metadata": {},
   "outputs": [
    {
     "name": "stdout",
     "output_type": "stream",
     "text": [
      "unfixable: 213\n",
      "114\n"
     ]
    }
   ],
   "source": [
    "print(\"unfixable:\", len(mv.unfixable))\n",
    "unfixable = set([mv[q].name_hash for q in mv.unfixable])\n",
    "print(len(unfixable & set(DOUBLETON_TARGETS)))"
   ]
  },
  {
   "cell_type": "code",
   "execution_count": 18,
   "metadata": {},
   "outputs": [],
   "source": [
    "for q in mv.status[StrainerStatus.NOT_TESTED]:\n",
    "    print(\"./src/make_spaghet.py --not-verus -i \", mv[q].strainer.test_dir)"
   ]
  },
  {
   "cell_type": "code",
   "execution_count": 8,
   "metadata": {},
   "outputs": [
    {
     "name": "stdout",
     "output_type": "stream",
     "text": [
      "\u001b[93m[WARN] [dbg] skipped GC on unfinished project StrainerStatus.NO_PROOF data/projs/bench_unstable/base.z3/d_fvbkv--lib-Base-BitsetLemmas.i.dfy.Impl__BitsetLemmas.__default.all__in__set__implies__all1s__uint64.smt2 \u001b[0m\n",
      "\u001b[93m[WARN] [dbg] skipped GC on unfinished project StrainerStatus.NO_PROOF data/projs/bench_unstable/base.z3/fs_vwasm--compiler-linearizer-queries-Compiler.Linearizer-15.smt2 \u001b[0m\n",
      "\u001b[93m[WARN] [dbg] skipped GC on unfinished project StrainerStatus.NO_PROOF data/projs/bench_unstable/base.z3/d_komodo--verified-remove.gen.dfyImpl___module.__default.va__lemma__kom__smc__remove__non__addr__success.smt2 \u001b[0m\n",
      "\u001b[93m[WARN] [dbg] skipped GC on unfinished project StrainerStatus.NOT_TESTED data/projs/bench_unstable/base.z3/d_lvbkv--Impl-IndirectionTable.i.dfy.Impl__IndirectionTable.IndirectionTable.IndirectionTableToVal.smt2 \u001b[0m\n",
      "\u001b[93m[WARN] [dbg] skipped GC on unfinished project StrainerStatus.NOT_TESTED data/projs/bench_unstable/base.z3/d_fvbkv--Impl-JournalistMarshallingModel.i.dfy.Impl__JournalistMarshallingModel.__default.lemma__writeJournalEntries.smt2 \u001b[0m\n",
      "\u001b[93m[WARN] [dbg] skipped GC on unfinished project StrainerStatus.NOT_TESTED data/projs/bench_unstable/base.z3/fs_dice--queries-ASN1.Spec.Tag-2.smt2 \u001b[0m\n",
      "\u001b[93m[WARN] [dbg] skipped GC on unfinished project StrainerStatus.NOT_TESTED data/projs/bench_unstable/base.z3/d_fvbkv--lib-Buckets-BucketsLib.i.dfy.Impl__BucketsLib.__default.SplitBucketOnPivotsAt.smt2 \u001b[0m\n",
      "\u001b[93m[WARN] [dbg] skipped GC on unfinished project StrainerStatus.NOT_TESTED data/projs/bench_unstable/base.z3/d_komodo--verified-sha-sha256.i.dfyImpl___module.__default.lemma__InputHelper.smt2 \u001b[0m\n",
      "\u001b[93m[WARN] [dbg] skipped GC on unfinished project StrainerStatus.NO_PROOF data/projs/bench_unstable/base.z3/d_lvbkv--Betree-Graph.i.dfy.Impl__Graph.__default.LocalEditPreservesAcyclic.smt2 \u001b[0m\n",
      "\u001b[93m[WARN] [dbg] skipped GC on unfinished project StrainerStatus.NOT_TESTED data/projs/bench_unstable/base.z3/fs_vwasm--compiler-common-queries-Compiler.Common.Dataflow-40.smt2 \u001b[0m\n",
      "\u001b[92m[INFO] created misc script: send.sh with 3210 commands \u001b[0m\n"
     ]
    }
   ],
   "source": [
    "from utils.cluster_utils import get_sync_commands\n",
    "from utils.system_utils import write_misc_script\n",
    "\n",
    "for q in mv.status.tally:\n",
    "    dbg = mv[q]\n",
    "    dbg.collect_garbage()\n",
    "\n",
    "cmds = get_sync_commands(\"g2001\", mv.get_sync_dirs())\n",
    "write_misc_script(\"send.sh\", cmds)"
   ]
  },
  {
   "cell_type": "code",
   "execution_count": 12,
   "metadata": {},
   "outputs": [
    {
     "name": "stdout",
     "output_type": "stream",
     "text": [
      "['0f400a3f00', '1d32c4d524', 'f6db5998ec', '58d93cd4ed', 'c5633470e3', '38d93c5774', '5e2368e7d9', 'f1fdf3be38', 'c8a3060122', '60095b1a59', '24a1fea1cb', '1afa5361f7', 'e93855aadd', 'b1b86518f3', '28f9cbda22', '45d0bd930b', 'be808dd0c3', '93815c9e8c', 'de19cf9fa2', '3e5ee53876', 'd27df8e3bb', '1c986e634b', '1d23e345a5', 'b6f117b674', 'a9102fb49c', '0defc27a3b', '81f604e545', 'a05a8d0e07', '01b00606af', 'ea5023bb77', '488737f5fe', 'a9ba4f3553', '5741fd7355', '926dcc2129', '3d6f2d9f7a', '72139a143b', 'b8ed14e0c5', '203627efb4', '1996525606', 'd75368331e', 'cd6015582a', 'd874a82c3a', '11e4bbf583', '84faa1a2fa', '862cb1068a', '22bc3230fa', '9b9e796545', '3b176b0694', '05c075acd8', '1de7054a37', '3b1c756824', '7c6738ef40', 'c3e7d9e76e', '0ad8073737', '28b317196a', 'a854e6c8ad', '9967bcf803', '2211f3ba76', '1f3cf5998c', '7072b00e75', 'd347f45fa2', 'bf6d57d525', '06a10772cf', '422a6c0817', 'dc83338098', '9bfdf36ae8', '9adbe2e346', '411ef2f9db', '4040d2a20b', 'cca6928c4f', '443cdbaf14', '72a2c42fee', '50e9564b05', '7f97f9269e', 'a650f4205b', '68aa54b124', 'e695dc7eeb', '75a47c804d', '041773ee5b', 'b5d367aaf5', '0cfa69df01', 'ef1ebd5d7d', '3ed37733c3', 'ed36496079', '676f102c30', '1f96205287', '70b04e001b', 'f5d478ae5f', '061f1d0514', 'b5b0f8c2f2', '5fbc06f886', 'd619135268', 'adf9eda1ef', 'c83a6af781', 'b6e82319b9', '8be7c5ec27', 'ba85c910da', '4d6ae633c8', 'f5fa3eaaf7', 'f4aec3e1dd', '82f91d0d6f', '8f383c7db0', '243ec915e0', '2cbf19182c', '90e97b47ee', 'a0a67d231a', 'ee8d1ab295', '786d3d1ed6', 'b6c73c6fb9', '1673ca97a5', '58d0af9026', '30af6a3633', '7b0fbd9a55', 'e5c19b8ea5', '9c17013417', '1bcd3aa5cb', '085408afeb', '12c7d523b1', '02378bfc2b', 'a95607b981', '2b22e90742', '06de62b08b', '975f2fa60e', '3a37e843fb', '73e0c43c61', '158bcfb113', '47c0fbf175', '07554b6280', 'cb725a5d7b', '49665b0459', '298f3245ca', '6a7bc24676', 'bacb951c70', 'd71eeda4cd', '7f39d29669', 'd9b4a1a745', 'b8265691e7', '751af3ffba', 'a2998ce7e3', '695f604e3c', '2489279611', '5af6d28737', '65f41ba519', 'b6a7ecec0e', 'ab52dadac1', '7fd5899ce2', 'c97090bb09', '09f0c73516', '26cc7a44c8', '0b72dcef64', '47ef270c0c', 'd01bd917c5', '6200b46f8f', 'b231954c65', 'b837e52d8b', '95fa9421b7', '9415956048', '555312085e', '1ecf533970', '667b2b80fe', '44ac0b7ce8', 'a0c42cc37e', 'c8498ec17a', '1dbfa93b6f', 'b182e2a043', '8031fd6ec8', '6665cb0a02', 'ef84a89ec9']\n"
     ]
    }
   ],
   "source": [
    "# print(to_cases)\n",
    "DOUBLETON_TARGETS = []\n",
    "for q in to_cases:\n",
    "    if not to_cases[q]:\n",
    "        DOUBLETON_TARGETS.append(mv[q].name_hash)\n",
    "print(DOUBLETON_TARGETS)"
   ]
  },
  {
   "cell_type": "code",
   "execution_count": null,
   "metadata": {},
   "outputs": [],
   "source": []
  }
 ],
 "metadata": {
  "kernelspec": {
   "display_name": "Python 3",
   "language": "python",
   "name": "python3"
  },
  "language_info": {
   "codemirror_mode": {
    "name": "ipython",
    "version": 3
   },
   "file_extension": ".py",
   "mimetype": "text/x-python",
   "name": "python",
   "nbconvert_exporter": "python",
   "pygments_lexer": "ipython3",
   "version": "3.8.10"
  }
 },
 "nbformat": 4,
 "nbformat_minor": 2
}
