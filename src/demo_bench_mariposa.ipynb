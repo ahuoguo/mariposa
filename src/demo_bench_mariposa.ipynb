{
 "cells": [
  {
   "cell_type": "code",
   "execution_count": 10,
   "metadata": {},
   "outputs": [],
   "source": [
    "import sys, os\n",
    "\n",
    "MARIPOSA_PATH = \"/home/yizhou7/mariposa/\"\n",
    "\n",
    "sys.path.append(MARIPOSA_PATH + \"src\")\n",
    "os.chdir(MARIPOSA_PATH)\n",
    "\n",
    "from debugger.debugger import DbgMode\n",
    "from debugger.bench_viewer import BenchViewer\n",
    "from debugger.debugger_options import DebugOptions\n",
    "from debugger.strainer import StrainerStatus\n",
    "from benchmark_consts import *"
   ]
  },
  {
   "cell_type": "code",
   "execution_count": 11,
   "metadata": {},
   "outputs": [
    {
     "name": "stdout",
     "output_type": "stream",
     "text": [
      "\u001b[93m[WARN] [init] 2a3b1202bd trace slow unknown, fallback to timeout \u001b[0m\n",
      "\u001b[93m[WARN] [init] previous debugging attempt has failed, run with --retry-failed if needed! \u001b[0m\n",
      "\u001b[93m[WARN] [proof] no proofs available \u001b[0m\n",
      "\u001b[93m[WARN] [init] e998d08b31 trace slow unknown, fallback to timeout \u001b[0m\n",
      "\u001b[93m[WARN] [init] 5b7d18ab3e trace did not fail, fallback to fast_fail \u001b[0m\n",
      "\u001b[93m[WARN] [init] previous debugging attempt has failed, run with --retry-failed if needed! \u001b[0m\n",
      "\u001b[93m[WARN] [proof] no proofs available \u001b[0m\n",
      "\u001b[93m[WARN] [init] d4e5e77cbc trace slow unknown, fallback to timeout \u001b[0m\n"
     ]
    },
    {
     "name": "stderr",
     "output_type": "stream",
     "text": [
      "\u001b[94m[DEBUG] [edit] proof path: dbg/e998d08b31/proofs/reseed.10397248321928259864.proof \u001b[0m\n",
      "\u001b[94m[DEBUG] [edit] trace path: dbg/e998d08b31/traces/reseed.5819383338623026635 \u001b[0m\n"
     ]
    },
    {
     "name": "stdout",
     "output_type": "stream",
     "text": [
      "e1e4a54bd0daf1d2decf775a2c3f0f4a.pickle\n",
      "\u001b[93m[WARN] [init] 3cead21983 trace slow unknown, fallback to timeout \u001b[0m\n",
      "\u001b[93m[WARN] [init] previous debugging attempt has failed, run with --retry-failed if needed! \u001b[0m\n",
      "\u001b[93m[WARN] [proof] no proofs available \u001b[0m\n"
     ]
    },
    {
     "name": "stderr",
     "output_type": "stream",
     "text": [
      "\u001b[94m[DEBUG] [edit] proof path: dbg/d4e5e77cbc/proofs/reseed.11448191909512973404.proof \u001b[0m\n",
      "\u001b[94m[DEBUG] [edit] trace path: dbg/d4e5e77cbc/traces/reseed.2822452825194262778 \u001b[0m\n"
     ]
    },
    {
     "name": "stdout",
     "output_type": "stream",
     "text": [
      "26da28d6b52a6822eaa8bc037122f787.pickle\n",
      "\u001b[93m[WARN] [init] previous debugging attempt has failed, run with --retry-failed if needed! \u001b[0m\n",
      "\u001b[93m[WARN] [proof] no proofs available \u001b[0m\n"
     ]
    },
    {
     "name": "stderr",
     "output_type": "stream",
     "text": [
      "\u001b[94m[DEBUG] [edit] proof path: dbg/3cead21983/proofs/rename.5985650234957738623.proof \u001b[0m\n",
      "\u001b[94m[DEBUG] [edit] trace path: dbg/3cead21983/traces/shuffle.14116527147182487703 \u001b[0m\n"
     ]
    },
    {
     "name": "stdout",
     "output_type": "stream",
     "text": [
      "370d54166dc24624dc7aa38634b9a111.pickle\n",
      "\u001b[93m[WARN] [init] 3ce5c5e4dc trace slow unknown, fallback to timeout \u001b[0m\n",
      "\u001b[93m[WARN] [differ] qid constructor_accessor_axiom not found in dbg/e998d08b31/orig.smt2 \u001b[0m\n",
      "\u001b[93m[WARN] [differ] qid <null> not found in dbg/e998d08b31/orig.smt2 \u001b[0m\n"
     ]
    },
    {
     "name": "stderr",
     "output_type": "stream",
     "text": [
      "\u001b[94m[DEBUG] saving cache at e998d08b31.to.report \u001b[0m\n"
     ]
    },
    {
     "name": "stdout",
     "output_type": "stream",
     "text": [
      "\u001b[93m[WARN] [differ] qid constructor_accessor_axiom not found in dbg/d4e5e77cbc/orig.smt2 \u001b[0m\n",
      "\u001b[93m[WARN] [differ] qid unnamed not found in dbg/d4e5e77cbc/orig.smt2 \u001b[0m\n",
      "\u001b[93m[WARN] [differ] qid is-Prims.equals not found in dbg/d4e5e77cbc/orig.smt2 \u001b[0m\n",
      "\u001b[93m[WARN] [differ] qid is-Prims.h_equals not found in dbg/d4e5e77cbc/orig.smt2 \u001b[0m\n",
      "\u001b[93m[WARN] [differ] qid is-Prims.c_and not found in dbg/d4e5e77cbc/orig.smt2 \u001b[0m\n",
      "\u001b[93m[WARN] [differ] qid is-Prims.c_or not found in dbg/d4e5e77cbc/orig.smt2 \u001b[0m\n",
      "\u001b[93m[WARN] [differ] qid is-Prims.dtuple2 not found in dbg/d4e5e77cbc/orig.smt2 \u001b[0m\n",
      "\u001b[93m[WARN] [differ] qid is-Prims.list not found in dbg/d4e5e77cbc/orig.smt2 \u001b[0m\n",
      "\u001b[93m[WARN] [differ] qid is-FStar.Pervasives.Native.option not found in dbg/d4e5e77cbc/orig.smt2 \u001b[0m\n",
      "\u001b[93m[WARN] [differ] qid is-FStar.Pervasives.Native.tuple2 not found in dbg/d4e5e77cbc/orig.smt2 \u001b[0m\n",
      "\u001b[93m[WARN] [differ] qid is-FStar.Pervasives.Native.tuple3 not found in dbg/d4e5e77cbc/orig.smt2 \u001b[0m\n",
      "\u001b[93m[WARN] [differ] qid is-FStar.Pervasives.Native.tuple4 not found in dbg/d4e5e77cbc/orig.smt2 \u001b[0m\n",
      "\u001b[93m[WARN] [differ] qid is-FStar.Pervasives.Native.tuple5 not found in dbg/d4e5e77cbc/orig.smt2 \u001b[0m\n",
      "\u001b[93m[WARN] [differ] qid is-FStar.Pervasives.Native.tuple6 not found in dbg/d4e5e77cbc/orig.smt2 \u001b[0m\n",
      "\u001b[93m[WARN] [differ] qid is-FStar.Pervasives.Native.tuple7 not found in dbg/d4e5e77cbc/orig.smt2 \u001b[0m\n",
      "\u001b[93m[WARN] [differ] qid is-FStar.Pervasives.Native.tuple8 not found in dbg/d4e5e77cbc/orig.smt2 \u001b[0m\n",
      "\u001b[93m[WARN] [differ] qid is-FStar.Pervasives.Native.tuple9 not found in dbg/d4e5e77cbc/orig.smt2 \u001b[0m\n",
      "\u001b[93m[WARN] [differ] qid is-FStar.Pervasives.Native.tuple10 not found in dbg/d4e5e77cbc/orig.smt2 \u001b[0m\n",
      "\u001b[93m[WARN] [differ] qid is-FStar.Pervasives.Native.tuple11 not found in dbg/d4e5e77cbc/orig.smt2 \u001b[0m\n",
      "\u001b[93m[WARN] [differ] qid is-FStar.Pervasives.Native.tuple12 not found in dbg/d4e5e77cbc/orig.smt2 \u001b[0m\n",
      "\u001b[93m[WARN] [differ] qid is-FStar.Pervasives.Native.tuple13 not found in dbg/d4e5e77cbc/orig.smt2 \u001b[0m\n",
      "\u001b[93m[WARN] [differ] qid is-FStar.Pervasives.Native.tuple14 not found in dbg/d4e5e77cbc/orig.smt2 \u001b[0m\n",
      "\u001b[93m[WARN] [differ] qid is-FStar.Pervasives.result not found in dbg/d4e5e77cbc/orig.smt2 \u001b[0m\n",
      "\u001b[93m[WARN] [differ] qid is-FStar.Pervasives.either not found in dbg/d4e5e77cbc/orig.smt2 \u001b[0m\n",
      "\u001b[93m[WARN] [differ] qid is-FStar.Pervasives.dtuple3 not found in dbg/d4e5e77cbc/orig.smt2 \u001b[0m\n",
      "\u001b[93m[WARN] [differ] qid is-FStar.Pervasives.dtuple4 not found in dbg/d4e5e77cbc/orig.smt2 \u001b[0m\n",
      "\u001b[93m[WARN] [differ] qid is-Words_s.two not found in dbg/d4e5e77cbc/orig.smt2 \u001b[0m\n",
      "\u001b[93m[WARN] [differ] qid is-Words_s.four not found in dbg/d4e5e77cbc/orig.smt2 \u001b[0m\n",
      "\u001b[93m[WARN] [differ] qid is-Words_s.eight not found in dbg/d4e5e77cbc/orig.smt2 \u001b[0m\n",
      "\u001b[93m[WARN] [differ] qid is-FStar.Calc.calc_proof not found in dbg/d4e5e77cbc/orig.smt2 \u001b[0m\n",
      "\u001b[93m[WARN] [differ] qid is-FStar.Calc.calc_pack not found in dbg/d4e5e77cbc/orig.smt2 \u001b[0m\n",
      "\u001b[93m[WARN] [differ] qid is-FStar.Monotonic.HyperStack.mreference_ not found in dbg/d4e5e77cbc/orig.smt2 \u001b[0m\n",
      "\u001b[93m[WARN] [differ] qid is-FStar.ModifiesGen.cls not found in dbg/d4e5e77cbc/orig.smt2 \u001b[0m\n",
      "\u001b[93m[WARN] [differ] qid is-LowStar.BufferView.view not found in dbg/d4e5e77cbc/orig.smt2 \u001b[0m\n",
      "\u001b[93m[WARN] [differ] qid is-Semantics.Common.CFG.maddr not found in dbg/d4e5e77cbc/orig.smt2 \u001b[0m\n",
      "\u001b[93m[WARN] [differ] qid is-Semantics.Common.CFG.operandi not found in dbg/d4e5e77cbc/orig.smt2 \u001b[0m\n",
      "\u001b[93m[WARN] [differ] qid is-Semantics.Common.CFG.operandf not found in dbg/d4e5e77cbc/orig.smt2 \u001b[0m\n",
      "\u001b[93m[WARN] [differ] qid is-Semantics.Common.CFG.ocmp not found in dbg/d4e5e77cbc/orig.smt2 \u001b[0m\n",
      "\u001b[93m[WARN] [differ] qid is-Semantics.Common.CFG.target_t not found in dbg/d4e5e77cbc/orig.smt2 \u001b[0m\n",
      "\u001b[93m[WARN] [differ] qid is-Semantics.Common.CFG.precode not found in dbg/d4e5e77cbc/orig.smt2 \u001b[0m\n",
      "\u001b[93m[WARN] [differ] qid is-Semantics.Common.CFG.module_ not found in dbg/d4e5e77cbc/orig.smt2 \u001b[0m\n",
      "\u001b[93m[WARN] [differ] qid is-Semantics.Common.CFG.Instructions.ins_t not found in dbg/d4e5e77cbc/orig.smt2 \u001b[0m\n",
      "\u001b[93m[WARN] [differ] qid is-Common.Err.error not found in dbg/d4e5e77cbc/orig.smt2 \u001b[0m\n",
      "\u001b[93m[WARN] [differ] qid is-Compiler.Common.Dataflow.dataflow_pass not found in dbg/d4e5e77cbc/orig.smt2 \u001b[0m\n"
     ]
    },
    {
     "name": "stderr",
     "output_type": "stream",
     "text": [
      "\u001b[94m[DEBUG] saving cache at d4e5e77cbc.to.report \u001b[0m\n"
     ]
    },
    {
     "name": "stdout",
     "output_type": "stream",
     "text": [
      "\u001b[93m[WARN] [differ] qid constructor_accessor_axiom not found in dbg/3cead21983/orig.smt2 \u001b[0m\n",
      "\u001b[93m[WARN] [differ] qid <null> not found in dbg/3cead21983/orig.smt2 \u001b[0m\n"
     ]
    },
    {
     "name": "stderr",
     "output_type": "stream",
     "text": [
      "\u001b[94m[DEBUG] saving cache at 3cead21983.to.report \u001b[0m\n"
     ]
    },
    {
     "name": "stdout",
     "output_type": "stream",
     "text": [
      "\u001b[93m[WARN] [init] 0b497bc090 trace did not fail, fallback to fast_fail \u001b[0m\n"
     ]
    }
   ],
   "source": [
    "qs = UNSTABLE_MARIPOSA\n",
    "options = DebugOptions()\n",
    "\n",
    "mv = BenchViewer(qs, options)"
   ]
  },
  {
   "cell_type": "code",
   "execution_count": 12,
   "metadata": {},
   "outputs": [
    {
     "name": "stdout",
     "output_type": "stream",
     "text": [
      "| category                   |   count | percentage   |\n",
      "|----------------------------|---------|--------------|\n",
      "| StrainerStatus.FINISHED    |     539 | 98.9 %       |\n",
      "| StrainerStatus.NO_PROOF    |       4 | 0.73 %       |\n",
      "| StrainerStatus.NOT_CREATED |       1 | 0.18 %       |\n",
      "| StrainerStatus.NOT_TESTED  |       1 | 0.18 %       |\n",
      "| total                      |     545 | 100.00 %     |\n"
     ]
    }
   ],
   "source": [
    "mv.status.print_status()"
   ]
  },
  {
   "cell_type": "code",
   "execution_count": 4,
   "metadata": {},
   "outputs": [
    {
     "name": "stdout",
     "output_type": "stream",
     "text": [
      "Test Finished: 536/545 (98.3%)\n",
      "\tTOs: 445/536 (83.0%)\n",
      "\t\tTO fixable: 276/445 (62.0%)\n",
      "\tFFs: 91/536 (17.0%)\n",
      "\t\tFF fixable: 51/91 (56.0%)\n",
      "Test Not Finished: 1/545 (0.2%)\n",
      "No Proofs: 0.73%\n",
      "* fixable: 327/545 (60.0%)\n"
     ]
    }
   ],
   "source": [
    "from utils.analysis_utils import fmt_percent\n",
    "\n",
    "bench_total = len(mv.status.tally)\n",
    "bench_finished = len(mv.status[StrainerStatus.FINISHED])\n",
    "# to_fixable = 0\n",
    "to_cases = dict()\n",
    "ff_cases = dict()\n",
    "\n",
    "def print_break_down(p, q):\n",
    "    return f\"{p}/{q} ({fmt_percent(p, q, 1)})\"\n",
    "\n",
    "for q in mv.status[StrainerStatus.FINISHED]:\n",
    "    dbg = mv[q]\n",
    "    if dbg.mode == DbgMode.TIMEOUT:\n",
    "        to_cases[q] = q in mv.fixable\n",
    "    elif dbg.mode == DbgMode.FAST_FAIL:\n",
    "        ff_cases[q] = q in mv.fixable\n",
    "    else:\n",
    "        print(\"Unexpected mode\", dbg.mode)\n",
    "        assert False\n",
    "\n",
    "to_fixable = sum(to_cases.values())\n",
    "ff_fixable = sum(ff_cases.values())\n",
    "\n",
    "print(\"Test Finished:\", print_break_down(bench_finished, bench_total))\n",
    "print(\"\\tTOs:\", print_break_down(len(to_cases), bench_finished))\n",
    "print(\"\\t\\tTO fixable:\", print_break_down(to_fixable, len(to_cases)))\n",
    "print(\"\\tFFs:\", print_break_down(len(ff_cases), bench_finished))\n",
    "print(\"\\t\\tFF fixable:\", print_break_down(ff_fixable, len(ff_cases)))\n",
    "\n",
    "print(\"Test Not Finished:\", print_break_down(len(mv.status[StrainerStatus.NOT_CREATED]), bench_total))\n",
    "print(\"No Proofs:\", fmt_percent(len(mv.status[StrainerStatus.NO_PROOF]), bench_total))\n",
    "print(\"* fixable:\", print_break_down(to_fixable + ff_fixable, bench_total))"
   ]
  },
  {
   "cell_type": "code",
   "execution_count": 5,
   "metadata": {},
   "outputs": [
    {
     "name": "stdout",
     "output_type": "stream",
     "text": [
      "./src/debugger3.py -m auto -i ab307c9008 --create-project\n"
     ]
    }
   ],
   "source": [
    "for q in mv.status[StrainerStatus.NOT_CREATED]:\n",
    "    print(\"./src/debugger3.py -m auto -i\", mv[q].name_hash, \"--create-project\")"
   ]
  },
  {
   "cell_type": "code",
   "execution_count": null,
   "metadata": {},
   "outputs": [
    {
     "name": "stdout",
     "output_type": "stream",
     "text": [
      "Unfixable: 209\n",
      "114\n"
     ]
    }
   ],
   "source": [
    "print(\"unfixable:\", len(mv.unfixable))\n",
    "unfixable = set([mv[q].name_hash for q in mv.unfixable])\n",
    "print(len(unfixable & set(DOUBLETON_TARGETS)))"
   ]
  },
  {
   "cell_type": "code",
   "execution_count": 9,
   "metadata": {},
   "outputs": [
    {
     "name": "stdout",
     "output_type": "stream",
     "text": [
      "./src/make_spaghet.py --not-verus -i  data/projs/timeout_d4e5e77cbc/base.z3\n",
      "./src/make_spaghet.py --not-verus -i  data/projs/timeout_3ce5c5e4dc/base.z3\n",
      "./src/make_spaghet.py --not-verus -i  data/projs/timeout_3cead21983/base.z3\n",
      "./src/make_spaghet.py --not-verus -i  data/projs/timeout_e998d08b31/base.z3\n"
     ]
    }
   ],
   "source": [
    "for q in mv.status[StrainerStatus.NOT_TESTED]:\n",
    "    print(\"./src/make_spaghet.py --not-verus -i \", mv[q].strainer.test_dir)"
   ]
  },
  {
   "cell_type": "code",
   "execution_count": 16,
   "metadata": {},
   "outputs": [
    {
     "name": "stdout",
     "output_type": "stream",
     "text": [
      "\u001b[93m[WARN] [dbg] skipped GC on unfinished project StrainerStatus.NOT_CREATED data/projs/bench_unstable/base.z3/d_komodo--verified-sha-sha256.i.dfyImpl___module.__default.lemma__InputHelper.smt2 \u001b[0m\n",
      "\u001b[93m[WARN] [dbg] skipped GC on unfinished project StrainerStatus.NO_PROOF data/projs/bench_unstable/base.z3/d_komodo--verified-remove.gen.dfyImpl___module.__default.va__lemma__kom__smc__remove__non__addr__success.smt2 \u001b[0m\n",
      "\u001b[93m[WARN] [dbg] skipped GC on unfinished project StrainerStatus.NOT_TESTED data/projs/bench_unstable/base.z3/fs_dice--queries-ASN1.Spec.Tag-2.smt2 \u001b[0m\n",
      "\u001b[93m[WARN] [dbg] skipped GC on unfinished project StrainerStatus.NO_PROOF data/projs/bench_unstable/base.z3/d_fvbkv--lib-Base-BitsetLemmas.i.dfy.Impl__BitsetLemmas.__default.all__in__set__implies__all1s__uint64.smt2 \u001b[0m\n",
      "\u001b[93m[WARN] [dbg] skipped GC on unfinished project StrainerStatus.NO_PROOF data/projs/bench_unstable/base.z3/fs_vwasm--compiler-linearizer-queries-Compiler.Linearizer-15.smt2 \u001b[0m\n",
      "\u001b[93m[WARN] [dbg] skipped GC on unfinished project StrainerStatus.NO_PROOF data/projs/bench_unstable/base.z3/d_lvbkv--Betree-Graph.i.dfy.Impl__Graph.__default.LocalEditPreservesAcyclic.smt2 \u001b[0m\n"
     ]
    }
   ],
   "source": [
    "from utils.cluster_utils import get_sync_commands\n",
    "from utils.system_utils import write_misc_script\n",
    "\n",
    "for q in mv.status.tally:\n",
    "    dbg = mv[q]\n",
    "    dbg.collect_garbage()\n",
    "\n",
    "cmds = get_sync_commands(\"g2001\", mv.get_sync_dirs())\n",
    "write_misc_script(\"send.sh\", cmds)"
   ]
  },
  {
   "cell_type": "code",
   "execution_count": null,
   "metadata": {},
   "outputs": [],
   "source": []
  }
 ],
 "metadata": {
  "kernelspec": {
   "display_name": "Python 3",
   "language": "python",
   "name": "python3"
  },
  "language_info": {
   "codemirror_mode": {
    "name": "ipython",
    "version": 3
   },
   "file_extension": ".py",
   "mimetype": "text/x-python",
   "name": "python",
   "nbconvert_exporter": "python",
   "pygments_lexer": "ipython3",
   "version": "3.8.10"
  }
 },
 "nbformat": 4,
 "nbformat_minor": 2
}
