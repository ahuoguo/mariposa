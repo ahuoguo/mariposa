{
 "cells": [
  {
   "cell_type": "code",
   "execution_count": 2,
   "metadata": {},
   "outputs": [],
   "source": [
    "import sys, os\n",
    "\n",
    "MARIPOSA_PATH = \"/home/yizhou7/mariposa/\"\n",
    "\n",
    "sys.path.append(MARIPOSA_PATH + \"src\")\n",
    "os.chdir(MARIPOSA_PATH)\n",
    "\n",
    "from debugger.debugger import DbgMode\n",
    "from debugger.bench_viewer import BenchViewer\n",
    "from debugger.debugger_options import DebugOptions\n",
    "from debugger.strainer import StrainerStatus\n",
    "from benchmark_consts import *"
   ]
  },
  {
   "cell_type": "code",
   "execution_count": 3,
   "metadata": {},
   "outputs": [
    {
     "name": "stdout",
     "output_type": "stream",
     "text": [
      "\u001b[93m[WARN] [init] 5b7d18ab3e trace did not fail, fallback to fast_fail \u001b[0m\u001b[93m[WARN] [init] 2a3b1202bd trace slow unknown, fallback to timeout \u001b[0m\n",
      "\n",
      "\u001b[93m[WARN] [init] e998d08b31 trace slow unknown, fallback to timeout \u001b[0m\n",
      "\u001b[93m[WARN] [init] previous debugging attempt has failed, run with --retry-failed if needed! \u001b[0m\n",
      "\u001b[93m[WARN] [proof] no proofs available \u001b[0m\n",
      "\u001b[93m[WARN] [init] 0b497bc090 trace did not fail, fallback to fast_fail \u001b[0m\n",
      "\u001b[93m[WARN] [init] d4e5e77cbc trace slow unknown, fallback to timeout \u001b[0m\n",
      "\u001b[93m[WARN] [init] 3cead21983 trace slow unknown, fallback to timeout \u001b[0m\n",
      "\u001b[93m[WARN] [init] previous debugging attempt has failed, run with --retry-failed if needed! \u001b[0m\n",
      "\u001b[93m[WARN] [proof] no proofs available \u001b[0m\n",
      "\u001b[93m[WARN] [init] 3ce5c5e4dc trace slow unknown, fallback to timeout \u001b[0m\n",
      "\u001b[93m[WARN] [init] previous debugging attempt has failed, run with --retry-failed if needed! \u001b[0m\n",
      "\u001b[93m[WARN] [proof] no proofs available \u001b[0m\n",
      "\u001b[93m[WARN] [init] previous debugging attempt has failed, run with --retry-failed if needed! \u001b[0m\n",
      "\u001b[93m[WARN] [proof] no proofs available \u001b[0m\n"
     ]
    }
   ],
   "source": [
    "qs = UNSTABLE_MARIPOSA\n",
    "options = DebugOptions()\n",
    "\n",
    "mv = BenchViewer(qs, options)"
   ]
  },
  {
   "cell_type": "code",
   "execution_count": 4,
   "metadata": {},
   "outputs": [
    {
     "name": "stdout",
     "output_type": "stream",
     "text": [
      "| category                   |   count | percentage   |\n",
      "|----------------------------|---------|--------------|\n",
      "| StrainerStatus.FINISHED    |     535 | 98.17 %      |\n",
      "| StrainerStatus.NOT_CREATED |       6 | 1.1 %        |\n",
      "| StrainerStatus.NO_PROOF    |       4 | 0.73 %       |\n",
      "| total                      |     545 | 100.00 %     |\n"
     ]
    }
   ],
   "source": [
    "mv.status.print_status()"
   ]
  },
  {
   "cell_type": "code",
   "execution_count": 6,
   "metadata": {},
   "outputs": [
    {
     "name": "stdout",
     "output_type": "stream",
     "text": [
      "Test Finished: 535/545 (98.2%)\n",
      "\tTOs: 444/535 (83.0%)\n",
      "\t\tTO fixable: 276/444 (62.2%)\n",
      "\tFFs: 91/535 (17.0%)\n",
      "\t\tFF fixable: 51/91 (56.0%)\n",
      "Test Not Finished: 6/545 (1.1%)\n",
      "No Proofs: 0.73%\n",
      "* fixable: 327/545 (60.0%)\n"
     ]
    }
   ],
   "source": [
    "from utils.analysis_utils import fmt_percent\n",
    "\n",
    "bench_total = len(mv.status.tally)\n",
    "bench_finished = len(mv.status[StrainerStatus.FINISHED])\n",
    "# to_fixable = 0\n",
    "to_cases = dict()\n",
    "ff_cases = dict()\n",
    "\n",
    "def print_break_down(p, q):\n",
    "    return f\"{p}/{q} ({fmt_percent(p, q, 1)})\"\n",
    "\n",
    "for q in mv.status[StrainerStatus.FINISHED]:\n",
    "    dbg = mv[q]\n",
    "    if dbg.mode == DbgMode.TIMEOUT:\n",
    "        to_cases[q] = q in mv.fixable\n",
    "    elif dbg.mode == DbgMode.FAST_FAIL:\n",
    "        ff_cases[q] = q in mv.fixable\n",
    "    else:\n",
    "        print(\"Unexpected mode\", dbg.mode)\n",
    "        assert False\n",
    "\n",
    "to_fixable = sum(to_cases.values())\n",
    "ff_fixable = sum(ff_cases.values())\n",
    "\n",
    "print(\"Test Finished:\", print_break_down(bench_finished, bench_total))\n",
    "print(\"\\tTOs:\", print_break_down(len(to_cases), bench_finished))\n",
    "print(\"\\t\\tTO fixable:\", print_break_down(to_fixable, len(to_cases)))\n",
    "print(\"\\tFFs:\", print_break_down(len(ff_cases), bench_finished))\n",
    "print(\"\\t\\tFF fixable:\", print_break_down(ff_fixable, len(ff_cases)))\n",
    "\n",
    "print(\"Test Not Finished:\", print_break_down(len(mv.status[StrainerStatus.NOT_CREATED]), bench_total))\n",
    "print(\"No Proofs:\", fmt_percent(len(mv.status[StrainerStatus.NO_PROOF]), bench_total))\n",
    "print(\"* fixable:\", print_break_down(to_fixable + ff_fixable, bench_total))"
   ]
  },
  {
   "cell_type": "code",
   "execution_count": 6,
   "metadata": {},
   "outputs": [
    {
     "name": "stdout",
     "output_type": "stream",
     "text": [
      "./src/debugger3.py -m auto -i ab307c9008 --create-project\n",
      "./src/debugger3.py -m auto -i d4e5e77cbc --create-project\n",
      "./src/debugger3.py -m auto -i 2a3b1202bd --create-project\n",
      "./src/debugger3.py -m auto -i 3ce5c5e4dc --create-project\n",
      "./src/debugger3.py -m auto -i 3cead21983 --create-project\n",
      "./src/debugger3.py -m auto -i e998d08b31 --create-project\n"
     ]
    }
   ],
   "source": [
    "for q in mv.status[StrainerStatus.NOT_CREATED]:\n",
    "    print(\"./src/debugger3.py -m auto -i\", mv[q].name_hash, \"--create-project\")"
   ]
  },
  {
   "cell_type": "code",
   "execution_count": 7,
   "metadata": {},
   "outputs": [
    {
     "name": "stdout",
     "output_type": "stream",
     "text": [
      "Unfixable: 208\n",
      "114\n"
     ]
    }
   ],
   "source": [
    "# for q in mv.unfixable:\n",
    "#     print(q)\n",
    "print(\"Unfixable:\", len(mv.unfixable))\n",
    "unfixable = set([mv[q].name_hash for q in mv.unfixable])\n",
    "print(len(unfixable & set(DOUBLETON_TARGETS)))"
   ]
  },
  {
   "cell_type": "code",
   "execution_count": 27,
   "metadata": {},
   "outputs": [],
   "source": [
    "for q in mv.status[StrainerStatus.NOT_TESTED]:\n",
    "    print(\"./src/carve_and_rerun.py\", mv[q].strainer.test_dir)"
   ]
  },
  {
   "cell_type": "code",
   "execution_count": 7,
   "metadata": {},
   "outputs": [],
   "source": [
    "from utils.cluster_utils import get_sync_commands\n",
    "\n",
    "for q in mv.fixable:\n",
    "    dbg = mv[q]\n",
    "    dbg.collect_garbage()\n",
    "\n",
    "with open(\"miscs/send.sh\", \"w\") as f:\n",
    "    f.write(\"#!/bin/bash\\n\")\n",
    "    cmds = get_sync_commands(\"g2001\", mv.get_sync_dirs())\n",
    "    for cmd in cmds:\n",
    "        f.write(cmd + \"\\n\")\n",
    "    f.write(\"echo 'done'\\n\")"
   ]
  },
  {
   "cell_type": "code",
   "execution_count": null,
   "metadata": {},
   "outputs": [],
   "source": []
  }
 ],
 "metadata": {
  "kernelspec": {
   "display_name": "Python 3",
   "language": "python",
   "name": "python3"
  },
  "language_info": {
   "codemirror_mode": {
    "name": "ipython",
    "version": 3
   },
   "file_extension": ".py",
   "mimetype": "text/x-python",
   "name": "python",
   "nbconvert_exporter": "python",
   "pygments_lexer": "ipython3",
   "version": "3.8.10"
  }
 },
 "nbformat": 4,
 "nbformat_minor": 2
}
