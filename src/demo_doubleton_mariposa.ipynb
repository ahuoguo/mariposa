{
 "cells": [
  {
   "cell_type": "code",
   "execution_count": 1,
   "metadata": {},
   "outputs": [],
   "source": [
    "import sys, os\n",
    "\n",
    "MARIPOSA_PATH = \"/home/yizhou7/mariposa/\"\n",
    "\n",
    "sys.path.append(MARIPOSA_PATH + \"src\")\n",
    "os.chdir(MARIPOSA_PATH)\n",
    "\n",
    "from debugger.bench_viewer import BenchViewer\n",
    "from debugger.strainer import StrainerStatus\n",
    "from benchmark_consts import *\n",
    "from debugger.mutant_info import TraceFailure\n",
    "from debugger.debugger import DbgMode, DebugOptions"
   ]
  },
  {
   "cell_type": "code",
   "execution_count": 2,
   "metadata": {},
   "outputs": [
    {
     "name": "stderr",
     "output_type": "stream",
     "text": [
      "\u001b[94m[DEBUG] [edit] proof path: dbg/f5d478ae5f/proofs/reseed.10865009790716681637.proof \u001b[0m\n",
      "\u001b[94m[DEBUG] [edit] trace path: dbg/f5d478ae5f/traces/rename.8954480365685104037 \u001b[0m\n"
     ]
    },
    {
     "name": "stdout",
     "output_type": "stream",
     "text": [
      "7f6345c9eef6ac34af8d34239ff4473f.pickle\n",
      "\u001b[93m[WARN] [differ] qid constructor_accessor_axiom not found in dbg/f5d478ae5f/orig.smt2 \u001b[0m\n",
      "\u001b[93m[WARN] [differ] qid <null> not found in dbg/f5d478ae5f/orig.smt2 \u001b[0m\n"
     ]
    },
    {
     "name": "stderr",
     "output_type": "stream",
     "text": [
      "\u001b[94m[DEBUG] saving cache at f5d478ae5f.22.report \u001b[0m\n"
     ]
    }
   ],
   "source": [
    "qs = ['0f400a3f00', '1d32c4d524', 'f6db5998ec', '58d93cd4ed', 'c5633470e3', '38d93c5774', '5e2368e7d9', 'f1fdf3be38', 'c8a3060122', '60095b1a59', '24a1fea1cb', '1afa5361f7', 'e93855aadd', 'b1b86518f3', '28f9cbda22', '45d0bd930b', 'be808dd0c3', '93815c9e8c', 'de19cf9fa2', '3e5ee53876', 'd27df8e3bb', '1c986e634b', '1d23e345a5', 'b6f117b674', 'a9102fb49c', '0defc27a3b', '81f604e545', 'a05a8d0e07', '01b00606af', 'ea5023bb77', '488737f5fe', 'a9ba4f3553', '5741fd7355', '926dcc2129', '3d6f2d9f7a', '72139a143b', 'b8ed14e0c5', '203627efb4', '1996525606', 'd75368331e', 'cd6015582a', 'd874a82c3a', '11e4bbf583', '84faa1a2fa', '862cb1068a', '22bc3230fa', '9b9e796545', '3b176b0694', '05c075acd8', '1de7054a37', '3b1c756824', '7c6738ef40', 'c3e7d9e76e', '0ad8073737', '28b317196a', 'a854e6c8ad', '9967bcf803', '2211f3ba76', '1f3cf5998c', '7072b00e75', 'd347f45fa2', 'bf6d57d525', '06a10772cf', '422a6c0817', 'dc83338098', '9bfdf36ae8', '9adbe2e346', '411ef2f9db', '4040d2a20b', 'cca6928c4f', '443cdbaf14', '72a2c42fee', '50e9564b05', '7f97f9269e', 'a650f4205b', '68aa54b124', 'e695dc7eeb', '75a47c804d', '041773ee5b', 'b5d367aaf5', '0cfa69df01', 'ef1ebd5d7d', '3ed37733c3', 'ed36496079', '676f102c30', '1f96205287', '70b04e001b', 'f5d478ae5f', '061f1d0514', 'b5b0f8c2f2', '5fbc06f886', 'd619135268', 'adf9eda1ef', 'c83a6af781', 'b6e82319b9', '8be7c5ec27', 'ba85c910da', '4d6ae633c8', 'f5fa3eaaf7', 'f4aec3e1dd', '82f91d0d6f', '8f383c7db0', '243ec915e0', '2cbf19182c', '90e97b47ee', 'a0a67d231a', 'ee8d1ab295', '786d3d1ed6', 'b6c73c6fb9', '1673ca97a5', '58d0af9026', '30af6a3633', '7b0fbd9a55', 'e5c19b8ea5', '9c17013417', '1bcd3aa5cb', '085408afeb', '12c7d523b1', '02378bfc2b', 'a95607b981', '2b22e90742', '06de62b08b', '975f2fa60e', '3a37e843fb', '73e0c43c61', '158bcfb113', '47c0fbf175', '07554b6280', 'cb725a5d7b', '49665b0459', '298f3245ca', '6a7bc24676', 'bacb951c70', 'd71eeda4cd', '7f39d29669', 'd9b4a1a745', 'b8265691e7', '751af3ffba', 'a2998ce7e3', '695f604e3c', '2489279611', '5af6d28737', '65f41ba519', 'b6a7ecec0e', 'ab52dadac1', '7fd5899ce2', 'c97090bb09', '09f0c73516', '26cc7a44c8', '0b72dcef64', '47ef270c0c', 'd01bd917c5', '6200b46f8f', 'b231954c65', 'b837e52d8b', '95fa9421b7', '9415956048', '555312085e', '1ecf533970', '667b2b80fe', '44ac0b7ce8', 'a0c42cc37e', 'c8498ec17a', '1dbfa93b6f', 'b182e2a043', '8031fd6ec8', '6665cb0a02', 'ef84a89ec9']\n",
    "options = DebugOptions()\n",
    "options.mode = DbgMode.DOUBLETON\n",
    "mv = BenchViewer(qs, options)"
   ]
  },
  {
   "cell_type": "code",
   "execution_count": 3,
   "metadata": {},
   "outputs": [
    {
     "name": "stdout",
     "output_type": "stream",
     "text": [
      "| category                  |   count | percentage   |\n",
      "|---------------------------|---------|--------------|\n",
      "| StrainerStatus.FINISHED   |     129 | 76.79 %      |\n",
      "| StrainerStatus.NOT_TESTED |      39 | 23.21 %      |\n",
      "| total                     |     168 | 100.00 %     |\n"
     ]
    }
   ],
   "source": [
    "mv.status.print_status()"
   ]
  },
  {
   "cell_type": "code",
   "execution_count": 4,
   "metadata": {},
   "outputs": [],
   "source": [
    "for q in mv.status[StrainerStatus.NO_PROOF]:\n",
    "    print(q)"
   ]
  },
  {
   "cell_type": "code",
   "execution_count": 4,
   "metadata": {},
   "outputs": [
    {
     "name": "stdout",
     "output_type": "stream",
     "text": [
      "31\n",
      "0.24031007751937986\n"
     ]
    }
   ],
   "source": [
    "print(len(mv.fixable))\n",
    "print(len(mv.fixable)/len(mv.status[StrainerStatus.FINISHED]))"
   ]
  },
  {
   "cell_type": "code",
   "execution_count": 5,
   "metadata": {},
   "outputs": [],
   "source": [
    "for q in mv.status[StrainerStatus.ERROR]:\n",
    "    print(\"./src/debugger3.py --mode doubleton --reset -i\",  mv[q].name_hash)"
   ]
  },
  {
   "cell_type": "code",
   "execution_count": 6,
   "metadata": {},
   "outputs": [],
   "source": [
    "for q in mv.status[StrainerStatus.NOT_CREATED]:\n",
    "    print(\"./src/debugger3.py --mode doubleton --create -i\", mv[q].name_hash)"
   ]
  },
  {
   "cell_type": "code",
   "execution_count": 8,
   "metadata": {},
   "outputs": [
    {
     "name": "stdout",
     "output_type": "stream",
     "text": [
      "./src/make_spaghet.py --cluster --not-verus -i data/projs/doubleton2_ee8d1ab295/base.z3\n",
      "./src/make_spaghet.py --cluster --not-verus -i data/projs/doubleton2_975f2fa60e/base.z3\n",
      "./src/make_spaghet.py --cluster --not-verus -i data/projs/doubleton2_c8498ec17a/base.z3\n",
      "./src/make_spaghet.py --cluster --not-verus -i data/projs/doubleton2_ba85c910da/base.z3\n",
      "./src/make_spaghet.py --cluster --not-verus -i data/projs/doubleton2_a0c42cc37e/base.z3\n",
      "./src/make_spaghet.py --cluster --not-verus -i data/projs/doubleton2_751af3ffba/base.z3\n",
      "./src/make_spaghet.py --cluster --not-verus -i data/projs/doubleton2_c8a3060122/base.z3\n",
      "./src/make_spaghet.py --cluster --not-verus -i data/projs/doubleton2_1f96205287/base.z3\n",
      "./src/make_spaghet.py --cluster --not-verus -i data/projs/doubleton2_01b00606af/base.z3\n",
      "./src/make_spaghet.py --cluster --not-verus -i data/projs/doubleton2_06de62b08b/base.z3\n",
      "./src/make_spaghet.py --cluster --not-verus -i data/projs/doubleton2_786d3d1ed6/base.z3\n",
      "./src/make_spaghet.py --cluster --not-verus -i data/projs/doubleton2_cb725a5d7b/base.z3\n",
      "./src/make_spaghet.py --cluster --not-verus -i data/projs/doubleton2_b8265691e7/base.z3\n",
      "./src/make_spaghet.py --cluster --not-verus -i data/projs/doubleton2_7c6738ef40/base.z3\n",
      "./src/make_spaghet.py --cluster --not-verus -i data/projs/doubleton2_0defc27a3b/base.z3\n",
      "./src/make_spaghet.py --cluster --not-verus -i data/projs/doubleton2_a2998ce7e3/base.z3\n",
      "./src/make_spaghet.py --cluster --not-verus -i data/projs/doubleton2_9adbe2e346/base.z3\n",
      "./src/make_spaghet.py --cluster --not-verus -i data/projs/doubleton2_1afa5361f7/base.z3\n",
      "./src/make_spaghet.py --cluster --not-verus -i data/projs/doubleton2_ef84a89ec9/base.z3\n",
      "./src/make_spaghet.py --cluster --not-verus -i data/projs/doubleton2_9c17013417/base.z3\n",
      "./src/make_spaghet.py --cluster --not-verus -i data/projs/doubleton2_be808dd0c3/base.z3\n",
      "./src/make_spaghet.py --cluster --not-verus -i data/projs/doubleton2_422a6c0817/base.z3\n",
      "./src/make_spaghet.py --cluster --not-verus -i data/projs/doubleton2_9967bcf803/base.z3\n",
      "./src/make_spaghet.py --cluster --not-verus -i data/projs/doubleton2_cca6928c4f/base.z3\n",
      "./src/make_spaghet.py --cluster --not-verus -i data/projs/doubleton2_68aa54b124/base.z3\n",
      "./src/make_spaghet.py --cluster --not-verus -i data/projs/doubleton2_c3e7d9e76e/base.z3\n",
      "./src/make_spaghet.py --cluster --not-verus -i data/projs/doubleton2_ab52dadac1/base.z3\n",
      "./src/make_spaghet.py --cluster --not-verus -i data/projs/doubleton2_8be7c5ec27/base.z3\n",
      "./src/make_spaghet.py --cluster --not-verus -i data/projs/doubleton2_12c7d523b1/base.z3\n",
      "./src/make_spaghet.py --cluster --not-verus -i data/projs/doubleton2_ef1ebd5d7d/base.z3\n",
      "./src/make_spaghet.py --cluster --not-verus -i data/projs/doubleton2_7072b00e75/base.z3\n",
      "./src/make_spaghet.py --cluster --not-verus -i data/projs/doubleton2_6a7bc24676/base.z3\n",
      "./src/make_spaghet.py --cluster --not-verus -i data/projs/doubleton2_24a1fea1cb/base.z3\n",
      "./src/make_spaghet.py --cluster --not-verus -i data/projs/doubleton2_f6db5998ec/base.z3\n",
      "./src/make_spaghet.py --cluster --not-verus -i data/projs/doubleton2_c97090bb09/base.z3\n",
      "./src/make_spaghet.py --cluster --not-verus -i data/projs/doubleton2_3d6f2d9f7a/base.z3\n",
      "./src/make_spaghet.py --cluster --not-verus -i data/projs/doubleton2_de19cf9fa2/base.z3\n",
      "./src/make_spaghet.py --cluster --not-verus -i data/projs/doubleton2_58d0af9026/base.z3\n",
      "./src/make_spaghet.py --cluster --not-verus -i data/projs/doubleton2_adf9eda1ef/base.z3\n"
     ]
    }
   ],
   "source": [
    "# for q in mv.status[DebuggerStatus.FILTERED_NOT_RAN]:\n",
    "from utils.system_utils import list_smt2_files\n",
    "\n",
    "for q in mv.status[StrainerStatus.NOT_TESTED]:\n",
    "    count = len(list_smt2_files(mv[q].strainer.test_dir))\n",
    "    assert 0 < count <= 10\n",
    "    # print(\"./src/debugger3.py --mode doubleton --create -i\", mv[q].name_hash)\n",
    "    print(\"./src/make_spaghet.py --cluster --not-verus -i\", mv[q].strainer.test_dir)"
   ]
  },
  {
   "cell_type": "code",
   "execution_count": null,
   "metadata": {},
   "outputs": [],
   "source": [
    "for q in mv.status[StrainerStatus.FINISHED]:\n",
    "    # mv[q].collect_garbage()\n",
    "    report = mv[q].report\n",
    "    if len(report.tested) == 100:\n",
    "        print(\"./src/debugger3.py --mode doubleton -i\", mv[q].name_hash)\n",
    "        # print(\"./src/debugger3.py --mode doubleton -i\", q, \"--create\")\n",
    "        # print(\"./src/debugger3.py --mode doubleton -i\", q, \"--clear-report-cache\")"
   ]
  },
  {
   "cell_type": "code",
   "execution_count": null,
   "metadata": {},
   "outputs": [],
   "source": []
  }
 ],
 "metadata": {
  "kernelspec": {
   "display_name": "Python 3",
   "language": "python",
   "name": "python3"
  },
  "language_info": {
   "codemirror_mode": {
    "name": "ipython",
    "version": 3
   },
   "file_extension": ".py",
   "mimetype": "text/x-python",
   "name": "python",
   "nbconvert_exporter": "python",
   "pygments_lexer": "ipython3",
   "version": "3.8.10"
  }
 },
 "nbformat": 4,
 "nbformat_minor": 2
}
