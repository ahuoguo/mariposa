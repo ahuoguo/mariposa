{
 "cells": [
  {
   "cell_type": "code",
   "execution_count": 2,
   "metadata": {},
   "outputs": [
    {
     "name": "stderr",
     "output_type": "stream",
     "text": [
      "/home/zhengyal/.local/lib/python3.8/site-packages/pandas/core/computation/expressions.py:20: UserWarning: Pandas requires version '2.7.3' or newer of 'numexpr' (version '2.7.1' currently installed).\n",
      "  from pandas.core.computation.check import NUMEXPR_INSTALLED\n"
     ]
    }
   ],
   "source": [
    "import sys, os\n",
    "\n",
    "MARIPOSA_PATH = \"/home/zhengyal/mariposa/\"\n",
    "\n",
    "sys.path.append(MARIPOSA_PATH + \"src\")\n",
    "os.chdir(MARIPOSA_PATH)\n",
    "\n",
    "from debugger.debugger import DbgMode\n",
    "from debugger.bench_viewer import BenchViewer\n",
    "from debugger.debugger_options import DebugOptions\n",
    "from debugger.strainer import DebugStatus\n",
    "from benchmark_consts import *"
   ]
  },
  {
   "cell_type": "code",
   "execution_count": 3,
   "metadata": {},
   "outputs": [
    {
     "name": "stdout",
     "output_type": "stream",
     "text": [
      "\u001b[93m[WARN] [init] 8d058577cd trace slow unknown, fallback to fast_fail \u001b[0m\n",
      "\u001b[93m[WARN] [proof] no proofs available \u001b[0m\u001b[93m[WARN] [proof] no proofs available \u001b[0m\n",
      "\n",
      "\u001b[93m[WARN] [proof] no proofs available \u001b[0m\n",
      "\u001b[93m[WARN] [init] 0b497bc090 trace did not fail, fallback to fast_fail \u001b[0m\n",
      "\u001b[93m[WARN] [init] e998d08b31 trace slow unknown, fallback to fast_fail \u001b[0m\n",
      "\u001b[93m[WARN] [init] 2a3b1202bd trace slow unknown, fallback to fast_fail \u001b[0m\n",
      "\u001b[93m[WARN] [init] 3cead21983 trace slow unknown, fallback to fast_fail \u001b[0m\n",
      "\u001b[93m[WARN] [proof] no proofs available \u001b[0m\n",
      "\u001b[93m[WARN] [init] 3ce5c5e4dc trace slow unknown, fallback to fast_fail \u001b[0m\n",
      "\u001b[93m[WARN] [init] 5b7d18ab3e trace did not fail, fallback to fast_fail \u001b[0m\n",
      "\u001b[93m[WARN] [proof] no proofs available \u001b[0m\n",
      "\u001b[93m[WARN] [proof] no proofs available \u001b[0m\n",
      "\u001b[93m[WARN] [init] d4e5e77cbc trace slow unknown, fallback to fast_fail \u001b[0m\n",
      "\u001b[93m[WARN] [proof] no proofs available \u001b[0m\n"
     ]
    }
   ],
   "source": [
    "options = DebugOptions()\n",
    "options.is_verus = True\n",
    "verus_bench = BenchViewer(UNSTABLE_VERUS, options)\n",
    "\n",
    "options = DebugOptions()\n",
    "options.is_verus = False\n",
    "mariposa_bench = BenchViewer(UNSTABLE_MARIPOSA, options)"
   ]
  },
  {
   "cell_type": "code",
   "execution_count": null,
   "metadata": {},
   "outputs": [
    {
     "name": "stdout",
     "output_type": "stream",
     "text": [
      "%%%%%%%%%%%%%%%%%%%%%%%%%%%%%%%%%%%%%%%%%%%%%\n",
      "& \\multicolumn{3}{c|}{Quick Unknown} & \\multicolumn{3}{c}{Slow Timeout} \\\\\n",
      "\\hline\n",
      "Edit & Mariposa & Verus & Total & Mariposa & Verus & Total \\\\\n",
      "\\hline\n",
      "Delete & 0 & 0 & 0\\% & 627 & 34 & 70\\% \\\\\n",
      "Instantiate & 135 & 36 & 96\\% & 222 & 57 & 30\\% \\\\\n",
      "Skolemize & 8 & 0 & 4\\% & 0 & 0 & 0\\% \\\\\n",
      "%%%%%%%%%%%%%%%%%%%%%%%%%%%%%%%%%%%%%%%%%%%%%\n",
      "{('verus', 'fast_fail', 'inst'): 36, ('verus', 'timeout', 'inst'): 57, ('verus', 'timeout', 'erase'): 34, ('mariposa', 'timeout', 'inst'): 222, ('mariposa', 'timeout', 'erase'): 627, ('mariposa', 'fast_fail', 'inst'): 135, ('mariposa', 'fast_fail', 'skolemize'): 8}\n",
      "total queries 1119\n"
     ]
    }
   ],
   "source": [
    "# only_inst_fixable = set()\n",
    "\n",
    "action_to_count = {}\n",
    "total = 0\n",
    "\n",
    "for bench_name, bench in [(\"verus\", verus_bench), (\"mariposa\", mariposa_bench)]:\n",
    "    for q in bench.status[DebugStatus.FIX_FOUND]:\n",
    "        stabilized = bench[q].report.stabilized\n",
    "        mode = bench[q].mode.value\n",
    "        # print(stabilized)\n",
    "        for _, edit in stabilized.iterrows():\n",
    "            total += 1\n",
    "            k = bench_name, mode, \"inst\" if edit.action in [\"inst_keep\", \"inst_replace\"] else edit.action\n",
    "            if k not in action_to_count:\n",
    "                action_to_count[k] = 0\n",
    "            action_to_count[k] += 1\n",
    "\n",
    "# print(r\"Edit & Mariposa QU & Verus QU & Mariposa TO & Verus TO \\\\\")\n",
    "# print(r\"\\hline\")\n",
    "\n",
    "print(\"%%%%%%%%%%%%%%%%%%%%%%%%%%%%%%%%%%%%%%%%%%%%%\")\n",
    "print(r\"\\begin{tabular}{l|rrr|rrr}\")\n",
    "print(r\"& \\multicolumn{3}{c|}{Quick Unknown} & \\multicolumn{3}{c}{Slow Timeout} \\\\\")\n",
    "print(r\"\\hline\")\n",
    "print(r\"Edit & Mariposa & Verus & Total & Mariposa & Verus & Total \\\\\")\n",
    "print(r\"\\hline\")\n",
    "\n",
    "total_qu = sum([n for k, n in action_to_count.items() if k[1] == \"fast_fail\"])\n",
    "total_to = sum([n for k, n in action_to_count.items() if k[1] == \"timeout\"])\n",
    "\n",
    "for i, (action, name) in enumerate(((\"erase\", \"Delete\"), (\"inst\", \"Instantiate\"), (\"skolemize\", \"Skolemize\"))):\n",
    "    mariposa_fast_fail = action_to_count.get((\"mariposa\", \"fast_fail\", action), 0)\n",
    "    verus_fast_fail = action_to_count.get((\"verus\", \"fast_fail\", action), 0)\n",
    "    total_fast_fail = mariposa_fast_fail + verus_fast_fail\n",
    "\n",
    "    mariposa_timeout = action_to_count.get((\"mariposa\", \"timeout\", action), 0)\n",
    "    verus_timeout = action_to_count.get((\"verus\", \"timeout\", action), 0)\n",
    "    total_timeout = mariposa_timeout + verus_timeout\n",
    "\n",
    "    print(f\"{name} & {mariposa_fast_fail} & {verus_fast_fail} & {round(total_fast_fail / total_qu * 100)}\\\\% & {mariposa_timeout} & {verus_timeout} & {round(total_timeout / total_to * 100)}\\\\% \\\\\\\\\")\n",
    "\n",
    "print(r\"\\end{tabular}\")\n",
    "print(\"%%%%%%%%%%%%%%%%%%%%%%%%%%%%%%%%%%%%%%%%%%%%%\")\n",
    "\n",
    "print(action_to_count)\n",
    "print(\"total queries\", total)"
   ]
  }
 ],
 "metadata": {
  "kernelspec": {
   "display_name": "Python 3",
   "language": "python",
   "name": "python3"
  },
  "language_info": {
   "codemirror_mode": {
    "name": "ipython",
    "version": 3
   },
   "file_extension": ".py",
   "mimetype": "text/x-python",
   "name": "python",
   "nbconvert_exporter": "python",
   "pygments_lexer": "ipython3",
   "version": "3.8.10"
  }
 },
 "nbformat": 4,
 "nbformat_minor": 2
}
