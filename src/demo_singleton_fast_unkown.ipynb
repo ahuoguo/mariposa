{
 "cells": [
  {
   "cell_type": "code",
   "execution_count": 12,
   "metadata": {},
   "outputs": [],
   "source": [
    "import sys, os\n",
    "\n",
    "MARIPOSA_PATH = \"/home/yizhou7/mariposa/\"\n",
    "\n",
    "sys.path.append(MARIPOSA_PATH + \"src\")\n",
    "os.chdir(MARIPOSA_PATH)\n",
    "\n",
    "from debugger.debugger import DbgMode\n",
    "from debugger.bench_viewer import BenchViewer\n",
    "from debugger.strainer import StrainerStatus\n",
    "from benchmark_consts import *"
   ]
  },
  {
   "cell_type": "code",
   "execution_count": 13,
   "metadata": {},
   "outputs": [
    {
     "name": "stderr",
     "output_type": "stream",
     "text": [
      "\u001b[94m[DEBUG] [edit] proof path: dbg/0b497bc090/proofs/shuffle.8565505289067391007.proof \u001b[0m\n",
      "\u001b[94m[DEBUG] [edit] trace path: dbg/0b497bc090/traces/shuffle.432331932926301273 \u001b[0m\n"
     ]
    },
    {
     "name": "stdout",
     "output_type": "stream",
     "text": [
      "9960878171c43bc708348a5933207df4.pickle\n",
      "\u001b[93m[WARN] [differ] qid constructor_accessor_axiom not found in dbg/0b497bc090/orig.smt2 \u001b[0m\n",
      "277708ee08844f5c5ae559f5370a0fbc.pickle\n"
     ]
    },
    {
     "name": "stderr",
     "output_type": "stream",
     "text": [
      "\u001b[94m[DEBUG] saving cache at 0b497bc090.ff.report \u001b[0m\n",
      "\u001b[94m[DEBUG] [edit] proof path: dbg/5b7d18ab3e/proofs/shuffle.4004227050859073429.proof \u001b[0m\n",
      "\u001b[94m[DEBUG] [edit] trace path: dbg/5b7d18ab3e/traces/reseed.13203528476449470412 \u001b[0m\n"
     ]
    },
    {
     "name": "stdout",
     "output_type": "stream",
     "text": [
      "\u001b[93m[WARN] [differ] qid constructor_accessor_axiom not found in dbg/5b7d18ab3e/orig.smt2 \u001b[0m\n",
      "948c0d855716f2b2e50d87fc730a2ca4.pickle\n"
     ]
    },
    {
     "name": "stderr",
     "output_type": "stream",
     "text": [
      "\u001b[94m[DEBUG] saving cache at 5b7d18ab3e.ff.report \u001b[0m\n",
      "\u001b[94m[DEBUG] [edit] proof path: dbg/473fa6f229/proofs/reseed.12131826024358542972.proof \u001b[0m\n",
      "\u001b[94m[DEBUG] [edit] trace path: dbg/473fa6f229/traces/rename.7879448186574811025 \u001b[0m\n"
     ]
    },
    {
     "name": "stdout",
     "output_type": "stream",
     "text": [
      "\u001b[93m[WARN] [differ] qid constructor_accessor_axiom not found in dbg/473fa6f229/orig.smt2 \u001b[0m\n",
      "e9d40ef80d43527a5f677faa3c8bc81e.pickle\n"
     ]
    },
    {
     "name": "stderr",
     "output_type": "stream",
     "text": [
      "\u001b[94m[DEBUG] saving cache at 473fa6f229.ff.report \u001b[0m\n",
      "\u001b[94m[DEBUG] [edit] proof path: dbg/fb0072addd/proofs/reseed.11747989586556753030.proof \u001b[0m\n",
      "\u001b[94m[DEBUG] [edit] trace path: dbg/fb0072addd/traces/shuffle.12060425120886179234 \u001b[0m\n"
     ]
    },
    {
     "name": "stdout",
     "output_type": "stream",
     "text": [
      "\u001b[93m[WARN] [differ] qid constructor_accessor_axiom not found in dbg/fb0072addd/orig.smt2 \u001b[0m\n",
      "edbb2184a6407d377aec0764d80b84e3.pickle\n"
     ]
    },
    {
     "name": "stderr",
     "output_type": "stream",
     "text": [
      "\u001b[94m[DEBUG] saving cache at fb0072addd.ff.report \u001b[0m\n",
      "\u001b[94m[DEBUG] [edit] proof path: dbg/17b0b45c82/proofs/reseed.6925759305196767575.proof \u001b[0m\n",
      "\u001b[94m[DEBUG] [edit] trace path: dbg/17b0b45c82/traces/rename.1141264179114072983 \u001b[0m\n"
     ]
    },
    {
     "name": "stdout",
     "output_type": "stream",
     "text": [
      "\u001b[93m[WARN] [differ] qid constructor_accessor_axiom not found in dbg/17b0b45c82/orig.smt2 \u001b[0m\n",
      "\u001b[93m[WARN] [differ] qid <null> not found in dbg/17b0b45c82/orig.smt2 \u001b[0m\n"
     ]
    },
    {
     "name": "stderr",
     "output_type": "stream",
     "text": [
      "\u001b[94m[DEBUG] saving cache at 17b0b45c82.ff.report \u001b[0m\n"
     ]
    }
   ],
   "source": [
    "mv = BenchViewer(FAST_UNKOWN_TARGETS, DbgMode.FAST_FAIL)"
   ]
  },
  {
   "cell_type": "code",
   "execution_count": 14,
   "metadata": {},
   "outputs": [
    {
     "name": "stdout",
     "output_type": "stream",
     "text": [
      "| category                   |   count | percentage   |\n",
      "|----------------------------|---------|--------------|\n",
      "| StrainerStatus.FINISHED    |      91 | 98.91 %      |\n",
      "| StrainerStatus.NOT_CREATED |       1 | 1.09 %       |\n",
      "| total                      |      92 | 100.00 %     |\n"
     ]
    }
   ],
   "source": [
    "mv.status.print_status()"
   ]
  },
  {
   "cell_type": "code",
   "execution_count": 15,
   "metadata": {},
   "outputs": [
    {
     "name": "stdout",
     "output_type": "stream",
     "text": [
      "0.5604395604395604\n"
     ]
    }
   ],
   "source": [
    "print(len(mv.fixable)/len(mv.status[StrainerStatus.FINISHED]))"
   ]
  },
  {
   "cell_type": "code",
   "execution_count": 10,
   "metadata": {},
   "outputs": [
    {
     "name": "stdout",
     "output_type": "stream",
     "text": [
      "./src/debugger3.py -m fast_fail -i ab307c9008 --create-project\n"
     ]
    }
   ],
   "source": [
    "for q in mv.status[StrainerStatus.NOT_CREATED]:\n",
    "    print(\"./src/debugger3.py -m fast_fail -i\", mv[q].name_hash, \"--create-project\")"
   ]
  },
  {
   "cell_type": "code",
   "execution_count": 16,
   "metadata": {},
   "outputs": [],
   "source": [
    "for q in mv.status[StrainerStatus.NOT_TESTED]:\n",
    "    print(\"./src/carve_and_rerun.py\", mv[q].strainer.test_dir)"
   ]
  }
 ],
 "metadata": {
  "kernelspec": {
   "display_name": "Python 3",
   "language": "python",
   "name": "python3"
  },
  "language_info": {
   "codemirror_mode": {
    "name": "ipython",
    "version": 3
   },
   "file_extension": ".py",
   "mimetype": "text/x-python",
   "name": "python",
   "nbconvert_exporter": "python",
   "pygments_lexer": "ipython3",
   "version": "3.8.10"
  }
 },
 "nbformat": 4,
 "nbformat_minor": 2
}
