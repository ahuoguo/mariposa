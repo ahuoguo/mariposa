{
 "cells": [
  {
   "cell_type": "code",
   "execution_count": 1,
   "metadata": {},
   "outputs": [],
   "source": [
    "import sys, os\n",
    "\n",
    "MARIPOSA_PATH = \"/home/yizhou7/mariposa/\"\n",
    "\n",
    "sys.path.append(MARIPOSA_PATH + \"src\")\n",
    "os.chdir(MARIPOSA_PATH)\n",
    "\n",
    "from debugger.debugger import  DbgMode\n",
    "from debugger.bench_viewer import BenchViewer\n",
    "from debugger.strainer import StrainerStatus\n",
    "from benchmark_consts import *\n",
    "from debugger.mutant_info import TraceFailure"
   ]
  },
  {
   "cell_type": "code",
   "execution_count": 2,
   "metadata": {},
   "outputs": [
    {
     "name": "stderr",
     "output_type": "stream",
     "text": [
      "\u001b[94m[DEBUG] [edit] proof path: dbg/712b931174/proofs/rename.10105858055306181435.proof \u001b[0m\n",
      "\u001b[94m[DEBUG] [edit] trace path: dbg/712b931174/traces/rename.2724968673134493599 \u001b[0m\n"
     ]
    },
    {
     "name": "stdout",
     "output_type": "stream",
     "text": [
      "b90c879e5e5ca93266c6f53e40ae1faa.pickle\n",
      "\u001b[93m[WARN] [differ] qid constructor_accessor_axiom not found in dbg/712b931174/orig.smt2 \u001b[0m\n",
      "\u001b[93m[WARN] [differ] qid <null> not found in dbg/712b931174/orig.smt2 \u001b[0m\n",
      "1f448d518a826c1ef36cd0ed0b8455cb.pickle\n"
     ]
    },
    {
     "name": "stderr",
     "output_type": "stream",
     "text": [
      "\u001b[94m[DEBUG] saving cache at 712b931174.ff.report \u001b[0m\n",
      "\u001b[94m[DEBUG] [edit] proof path: dbg/e508668090/proofs/shuffle.9683670767266423188.proof \u001b[0m\n",
      "\u001b[94m[DEBUG] [edit] trace path: dbg/e508668090/traces/rename.15452329276324107008 \u001b[0m\n"
     ]
    },
    {
     "name": "stdout",
     "output_type": "stream",
     "text": [
      "\u001b[93m[WARN] [differ] qid constructor_accessor_axiom not found in dbg/e508668090/orig.smt2 \u001b[0m\n",
      "\u001b[93m[WARN] [differ] qid <null> not found in dbg/e508668090/orig.smt2 \u001b[0m\n",
      "cd37ab1047103b111800bccccf9c5291.pickle\n"
     ]
    },
    {
     "name": "stderr",
     "output_type": "stream",
     "text": [
      "\u001b[94m[DEBUG] saving cache at e508668090.ff.report \u001b[0m\n",
      "\u001b[94m[DEBUG] [edit] proof path: dbg/e6d6347750/proofs/shuffle.7405433334413445831.proof \u001b[0m\n",
      "\u001b[94m[DEBUG] [edit] trace path: dbg/e6d6347750/traces/rename.6166348546303970230 \u001b[0m\n"
     ]
    },
    {
     "name": "stdout",
     "output_type": "stream",
     "text": [
      "\u001b[93m[WARN] [differ] qid constructor_accessor_axiom not found in dbg/e6d6347750/orig.smt2 \u001b[0m\n",
      "c0e5a4bd3b80151b407e1322ca8f0d5c.pickle\n"
     ]
    },
    {
     "name": "stderr",
     "output_type": "stream",
     "text": [
      "\u001b[94m[DEBUG] saving cache at e6d6347750.ff.report \u001b[0m\n",
      "\u001b[94m[DEBUG] [edit] proof path: dbg/7d2782e41a/proofs/reseed.10332884532241136901.proof \u001b[0m\n",
      "\u001b[94m[DEBUG] [edit] trace path: dbg/7d2782e41a/traces/reseed.6527297241485178609 \u001b[0m\n"
     ]
    },
    {
     "name": "stdout",
     "output_type": "stream",
     "text": [
      "\u001b[93m[WARN] [differ] qid constructor_accessor_axiom not found in dbg/7d2782e41a/orig.smt2 \u001b[0m\n",
      "\u001b[93m[WARN] [differ] qid <null> not found in dbg/7d2782e41a/orig.smt2 \u001b[0m\n",
      "7d25fad3a3eeca97d9225425fb1538c6.pickle\n"
     ]
    },
    {
     "name": "stderr",
     "output_type": "stream",
     "text": [
      "\u001b[94m[DEBUG] saving cache at 7d2782e41a.ff.report \u001b[0m\n",
      "\u001b[94m[DEBUG] [edit] proof path: dbg/72ad929f41/proofs/reseed.9026160726716554944.proof \u001b[0m\n",
      "\u001b[94m[DEBUG] [edit] trace path: dbg/72ad929f41/traces/shuffle.11500243131557235332 \u001b[0m\n"
     ]
    },
    {
     "name": "stdout",
     "output_type": "stream",
     "text": [
      "\u001b[93m[WARN] [differ] qid constructor_accessor_axiom not found in dbg/72ad929f41/orig.smt2 \u001b[0m\n",
      "\u001b[93m[WARN] [differ] qid <null> not found in dbg/72ad929f41/orig.smt2 \u001b[0m\n"
     ]
    },
    {
     "name": "stderr",
     "output_type": "stream",
     "text": [
      "\u001b[94m[DEBUG] saving cache at 72ad929f41.ff.report \u001b[0m\n"
     ]
    }
   ],
   "source": [
    "mv = BenchViewer(FAST_UNKOWN_TARGETS, DbgMode.FAST_FAIL)"
   ]
  },
  {
   "cell_type": "code",
   "execution_count": 3,
   "metadata": {},
   "outputs": [
    {
     "name": "stdout",
     "output_type": "stream",
     "text": [
      "| category                   |   count | percentage   |\n",
      "|----------------------------|---------|--------------|\n",
      "| StrainerStatus.FINISHED    |      77 | 88.51 %      |\n",
      "| StrainerStatus.NOT_TESTED  |       8 | 9.2 %        |\n",
      "| StrainerStatus.NOT_CREATED |       1 | 1.15 %       |\n",
      "| StrainerStatus.UNFILTERED  |       1 | 1.15 %       |\n",
      "| total                      |      87 | 100.00 %     |\n"
     ]
    }
   ],
   "source": [
    "mv.status.print_status()"
   ]
  },
  {
   "cell_type": "code",
   "execution_count": 4,
   "metadata": {},
   "outputs": [
    {
     "name": "stdout",
     "output_type": "stream",
     "text": [
      "0.5584415584415584\n"
     ]
    }
   ],
   "source": [
    "print(len(mv.fixable)/len(mv.status[StrainerStatus.FINISHED]))"
   ]
  },
  {
   "cell_type": "code",
   "execution_count": null,
   "metadata": {},
   "outputs": [],
   "source": []
  }
 ],
 "metadata": {
  "kernelspec": {
   "display_name": "Python 3",
   "language": "python",
   "name": "python3"
  },
  "language_info": {
   "codemirror_mode": {
    "name": "ipython",
    "version": 3
   },
   "file_extension": ".py",
   "mimetype": "text/x-python",
   "name": "python",
   "nbconvert_exporter": "python",
   "pygments_lexer": "ipython3",
   "version": "3.8.10"
  }
 },
 "nbformat": 4,
 "nbformat_minor": 2
}
