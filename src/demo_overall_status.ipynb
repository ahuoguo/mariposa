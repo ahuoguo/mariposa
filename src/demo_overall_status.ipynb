{
 "cells": [
  {
   "cell_type": "code",
   "execution_count": 1,
   "metadata": {},
   "outputs": [],
   "source": [
    "import sys, os\n",
    "\n",
    "MARIPOSA_PATH = \"/home/yizhou7/mariposa/\"\n",
    "\n",
    "sys.path.append(MARIPOSA_PATH + \"src\")\n",
    "os.chdir(MARIPOSA_PATH)\n",
    "\n",
    "from debugger.bench_viewer import BenchViewer\n",
    "from debugger.strainer import StrainerStatus\n",
    "from benchmark_consts import *\n",
    "from debugger.mutant_info import TraceFailure\n",
    "from debugger.debugger import DbgMode"
   ]
  },
  {
   "cell_type": "code",
   "execution_count": null,
   "metadata": {},
   "outputs": [
    {
     "name": "stdout",
     "output_type": "stream",
     "text": [
      "\u001b[93m[WARN] [init] previous debugging attempt has failed, run with --retry-failed if needed! \u001b[0m\n",
      "\u001b[93m[WARN] [proof] no proof available \u001b[0m\n",
      "\u001b[93m[WARN] [init] previous debugging attempt has failed, run with --retry-failed if needed! \u001b[0m\n",
      "\u001b[93m[WARN] [proof] no proof available \u001b[0m\n",
      "\u001b[93m[WARN] [init] previous debugging attempt has failed, run with --retry-failed if needed! \u001b[0m\n",
      "\u001b[93m[WARN] [proof] no proof available \u001b[0m\n",
      "\u001b[93m[WARN] [init] previous debugging attempt has failed, run with --retry-failed if needed! \u001b[0m\n",
      "\u001b[93m[WARN] [proof] no proof available \u001b[0m\n"
     ]
    }
   ],
   "source": [
    "qs = UNSTABLE_MARIPOSA\n",
    "# qs = UNSTABLE_VERUS\n",
    "mv = BenchViewer(qs, DbgMode.SINGLETON)"
   ]
  },
  {
   "cell_type": "code",
   "execution_count": 3,
   "metadata": {},
   "outputs": [
    {
     "name": "stdout",
     "output_type": "stream",
     "text": [
      "| category                   |   count | percentage   |\n",
      "|----------------------------|---------|--------------|\n",
      "| StrainerStatus.FINISHED    |     487 | 89.36 %      |\n",
      "| StrainerStatus.NOT_TESTED  |      45 | 8.26 %       |\n",
      "| StrainerStatus.NOT_CREATED |       9 | 1.65 %       |\n",
      "| StrainerStatus.NO_PROOF    |       4 | 0.73 %       |\n",
      "| total                      |     545 | 100.00 %     |\n"
     ]
    }
   ],
   "source": [
    "mv.status.print_status()"
   ]
  },
  {
   "cell_type": "code",
   "execution_count": null,
   "metadata": {},
   "outputs": [],
   "source": [
    "for q in mv.status[StrainerStatus.NO_PROOF]:\n",
    "    print(q)"
   ]
  },
  {
   "cell_type": "code",
   "execution_count": null,
   "metadata": {},
   "outputs": [],
   "source": [
    "for q in mv.status[StrainerStatus.NOT_CREATED]:\n",
    "    print(\"./src/evaluator.py --create-singleton -i\", q)"
   ]
  },
  {
   "cell_type": "code",
   "execution_count": null,
   "metadata": {},
   "outputs": [],
   "source": [
    "from utils.system_utils import list_smt2_files\n",
    "\n",
    "for q in mv.status[StrainerStatus.NOT_TESTED]:\n",
    "    # for q in mv.status[DebuggerStatus.FILTERED_NOT_RAN]:\n",
    "    assert len(list_smt2_files(mv[q].strainer.test_dir)) != 0\n",
    "    print(\"python3 src/carve_and_rerun.py\", mv[q].strainer.test_dir)"
   ]
  },
  {
   "cell_type": "code",
   "execution_count": null,
   "metadata": {},
   "outputs": [
    {
     "name": "stdout",
     "output_type": "stream",
     "text": [
      "0.7064220183486238\n"
     ]
    }
   ],
   "source": [
    "print(len(mv.fixable) / len(UNSTABLE_MARIPOSA))"
   ]
  },
  {
   "cell_type": "code",
   "execution_count": null,
   "metadata": {},
   "outputs": [],
   "source": [
    "from debugger.debugger import Debugger\n",
    "from debugger.strainer import StrainerStatus\n",
    "from utils.analysis_utils import Categorizer\n",
    "\n",
    "f_modes = Categorizer()\n",
    "\n",
    "for query in (\n",
    "    mv.unfixable\n",
    "    | mv.status[StrainerStatus.NOT_TESTED].items\n",
    "    | mv.status[StrainerStatus.NOT_CREATED].items\n",
    "):\n",
    "    rev: Debugger = mv[query]\n",
    "    mi = rev.get_trace_info()\n",
    "    reason = mi.get_failed_reason()\n",
    "    f_modes.add_item(reason, query)\n",
    "\n",
    "f_modes.finalize()"
   ]
  },
  {
   "cell_type": "code",
   "execution_count": 8,
   "metadata": {},
   "outputs": [
    {
     "name": "stdout",
     "output_type": "stream",
     "text": [
      "| category                  |   count | percentage   |\n",
      "|---------------------------|---------|--------------|\n",
      "| TraceFailure.TIMEOUT      |     132 | 84.62 %      |\n",
      "| TraceFailure.FAST_UNKNOWN |      21 | 13.46 %      |\n",
      "| TraceFailure.SLOW_UNKNOWN |       3 | 1.92 %       |\n",
      "| total                     |     156 | 100.00 %     |\n"
     ]
    }
   ],
   "source": [
    "f_modes.print_status()"
   ]
  },
  {
   "cell_type": "code",
   "execution_count": null,
   "metadata": {},
   "outputs": [],
   "source": [
    "for q in f_modes[TraceFailure.TIMEOUT]:\n",
    "    print(f'\"{mv[q].name_hash}\",')"
   ]
  },
  {
   "cell_type": "code",
   "execution_count": null,
   "metadata": {},
   "outputs": [],
   "source": [
    "for q in f_modes[TraceFailure.FAST_UNKNOWN]:\n",
    "    print(q)\n",
    "for q in f_modes[TraceFailure.SLOW_UNKNOWN]:\n",
    "    print(q)"
   ]
  },
  {
   "cell_type": "code",
   "execution_count": 32,
   "metadata": {},
   "outputs": [],
   "source": [
    "double_fixable = {\n",
    "    \"data/projs/bench_unstable/base.z3/d_fvbkv--BlockCacheSystem-JournalRange.i.dfy.Impl__JournalRanges.__default.parseJournalRangeAdditive.smt2\",\n",
    "    \"data/projs/bench_unstable/base.z3/d_fvbkv--Impl-CoordinationImpl.i.dfy.Impl__CoordinationImpl.__default.insert.smt2\",\n",
    "    \"data/projs/bench_unstable/base.z3/d_fvbkv--Impl-JournalistMarshallingModel.i.dfy.Impl__JournalistMarshallingModel.__default.parseEntriesFromHasEntriesI.smt2\",\n",
    "    \"data/projs/bench_unstable/base.z3/d_fvbkv--Impl-MarshallingImpl.i.dfy.Impl__MarshallingImpl.__default.strictlySortedKeySeqToVal.smt2\",\n",
    "    \"data/projs/bench_unstable/base.z3/d_fvbkv--Impl-QueryImpl.i.dfy.Impl__QueryImpl.__default.queryIterate.smt2\",\n",
    "    \"data/projs/bench_unstable/base.z3/d_fvbkv--lib-Base-sequences.i.dfy.Impl__Sequences.__default.lemma__concatSeqLen__le__mul.smt2\",\n",
    "    \"data/projs/bench_unstable/base.z3/d_fvbkv--lib-Buckets-PackedKV.i.dfy.Impl__PackedKV.__default.BinarySearchQuery.smt2\",\n",
    "    \"data/projs/bench_unstable/base.z3/d_fvbkv--lib-DataStructures-BtreeModel.i.dfy.Impl__BtreeModel.__default.SplitIndexAllKeys.smt2\",\n",
    "    \"data/projs/bench_unstable/base.z3/d_fvbkv--lib-DataStructures-MutableMapModel.i.dfy.Impl__MutableMapModel.__default.LemmaReallocIterateResult.smt2\",\n",
    "    \"data/projs/bench_unstable/base.z3/d_komodo--verified-alloc_spare.gen.dfyImpl___module.__default.va__lemma__kom__smc__alloc__spare.smt2\",\n",
    "    \"data/projs/bench_unstable/base.z3/d_komodo--verified-attest.gen.dfyImpl___module.__default.va__lemma__compute__hmac_split0.smt2\",\n",
    "    \"data/projs/bench_unstable/base.z3/d_komodo--verified-entry.gen.dfyImpl___module.__default.va__lemma__stack__banked__regs1.smt2\",\n",
    "    \"data/projs/bench_unstable/base.z3/d_komodo--verified-entry.gen.dfyImpl___module.__default.va__lemma__stack__banked__regs2.smt2\",\n",
    "    \"data/projs/bench_unstable/base.z3/d_komodo--verified-entry.gen.dfyImpl___module.__default.va__lemma__unstack__banked__regs.smt2\",\n",
    "    \"data/projs/bench_unstable/base.z3/d_komodo--verified-entry.gen.dfyImpl___module.__default.va__lemma__unstack__banked__regs1.smt2\",\n",
    "    \"data/projs/bench_unstable/base.z3/d_komodo--verified-entry.gen.dfyImpl___module.__default.va__lemma__unstack__banked__regs2.smt2\",\n",
    "    \"data/projs/bench_unstable/base.z3/d_komodo--verified-entry.gen.dfyImpl___module.__default.va__lemma__unstack__banked__regs3.smt2\",\n",
    "    \"data/projs/bench_unstable/base.z3/d_komodo--verified-entry.i.dfyImpl___module.__default.lemma__partialEnclaveExecution__append.smt2\",\n",
    "    \"data/projs/bench_unstable/base.z3/d_komodo--verified-exception_handlers.gen.dfyImpl___module.__default.va__lemma__abort__handler.smt2\",\n",
    "    \"data/projs/bench_unstable/base.z3/d_komodo--verified-finalise.gen.dfyImpl___module.__default.va__lemma__kom__smc__finalise.smt2\",\n",
    "    \"data/projs/bench_unstable/base.z3/d_komodo--verified-init_dispatcher.gen.dfyImpl___module.__default.va__lemma__init__dispatcher__page__zeros.smt2\",\n",
    "    \"data/projs/bench_unstable/base.z3/d_komodo--verified-map_common.gen.dfyImpl___module.__default.va__lemma__insecure__phys__to__virt.smt2\",\n",
    "    \"data/projs/bench_unstable/base.z3/d_komodo--verified-sha-sha256-body-16-xx.gen.dfyImpl___module.__default.va__refined__Body__16__XXUnroller.smt2\",\n",
    "    \"data/projs/bench_unstable/base.z3/d_komodo--verified-svc_handlers.gen.dfyImpl___module.__default.va__lemma__svc__map__data__success.smt2\",\n",
    "    \"data/projs/bench_unstable/base.z3/d_komodo--verified-verify.gen.dfyImpl___module.__default.va__lemma__svc__returning__verify__inner.smt2\",\n",
    "    \"data/projs/bench_unstable/base.z3/d_lvbkv--Impl-FlushPolicyImpl.i.dfy.Impl__FlushPolicyImpl.__default.runFlushPolicy.smt2\",\n",
    "    \"data/projs/bench_unstable/base.z3/d_lvbkv--Impl-MainHandlers.i.dfy.Impl__MainHandlers.__default.SystemRefinesCrashSafeMapInit.smt2\",\n",
    "    \"data/projs/bench_unstable/base.z3/d_lvbkv--Impl-MarshallingImpl.i.dfy.Impl__MarshallingImpl.__default.strictlySortedPivotsToVal.smt2\",\n",
    "    \"data/projs/bench_unstable/base.z3/d_lvbkv--MapSpec-TSJMap_Refines_ThreeStateVersionedMap.i.dfy.Impl__TSJMap__Refines__ThreeStateVersionedMap.__default.RefinesReplay.smt2\",\n",
    "    \"data/projs/bench_unstable/base.z3/d_lvbkv--PivotBetree-PivotBetreeSpecRefinement.i.dfy.Impl__PivotBetreeSpecRefinement.__default.RefinesValidSplit.smt2\",\n",
    "    \"data/projs/bench_unstable/base.z3/d_lvbkv--lib-Buckets-PackedKV.i.dfy.Impl__DynamicPkv.__default.MergeToOneChild.smt2\",\n",
    "    \"data/projs/bench_unstable/base.z3/d_lvbkv--lib-Buckets-PackedStringArray.i.dfy.Impl__PackedStringArray.__default.WFpsaSubSeq.smt2\",\n",
    "    \"data/projs/bench_unstable/base.z3/d_lvbkv--lib-Buckets-PackedStringArray.i.dfy.Impl__PackedStringArray.__default.psaCanAppendI.smt2\",\n",
    "    \"data/projs/bench_unstable/base.z3/fs_dice--queries-L0.Impl.Certificate-14.smt2\",\n",
    "    \"data/projs/bench_unstable/base.z3/fs_dice--queries-L0.X509.DeviceIDCRI-12.smt2\",\n",
    "    \"data/projs/bench_unstable/base.z3/fs_dice--queries-L0.X509.DeviceIDCRI-18.smt2\",\n",
    "}"
   ]
  },
  {
   "cell_type": "code",
   "execution_count": 31,
   "metadata": {},
   "outputs": [],
   "source": [
    "fast_unknown_fixable = {\n",
    "    \"data/projs/bench_unstable/base.z3/d_fvbkv--Impl-IOModel.i.dfy.Impl__IOModel.__default.FindIndirectionTableLocationAndRequestWriteCorrect.smt2\",\n",
    "    \"data/projs/bench_unstable/base.z3/d_fvbkv--Impl-IOModel.i.dfy.Impl__IOModel.__default.PageInIndirectionTableRespCorrect.smt2\",\n",
    "    \"data/projs/bench_unstable/base.z3/d_fvbkv--PivotBetree-PivotBetreeSpecRefinement.i.dfy.Impl__PivotBetreeSpecRefinement.__default.InUpperBoundAndNot.smt2\",\n",
    "    \"data/projs/bench_unstable/base.z3/d_fvbkv--lib-Base-total_order_impl.i.dfy.Impl__Total__Order__Impl.__default.ArrayLargestLtPlus1.smt2\",\n",
    "    \"data/projs/bench_unstable/base.z3/d_fvbkv--lib-Base-total_order_impl.i.dfy.Impl__Total__Order__Impl.__default.ArrayLargestLtePlus1Linear.smt2\",\n",
    "    \"data/projs/bench_unstable/base.z3/d_fvbkv--lib-Buckets-BucketModel.i.dfy.Impl__BucketModel.__default.BucketListItemFlush__eq.smt2\",\n",
    "    \"data/projs/bench_unstable/base.z3/d_fvbkv--lib-Buckets-BucketModel.i.dfy.Impl__BucketModel.__default.flushedMapPopFront.smt2\",\n",
    "    \"data/projs/bench_unstable/base.z3/d_fvbkv--lib-Buckets-BucketWeights.i.dfy.Impl__BucketWeights.__default.ImageEquiv.smt2\",\n",
    "    \"data/projs/bench_unstable/base.z3/d_fvbkv--lib-Buckets-BucketWeights.i.dfy.Impl__BucketWeights.__default.ImageIntersect.smt2\",\n",
    "    \"data/projs/bench_unstable/base.z3/d_fvbkv--lib-Buckets-BucketWeights.i.dfy.Impl__BucketWeights.__default.ImageSubset.smt2\",\n",
    "    \"data/projs/bench_unstable/base.z3/d_fvbkv--lib-Buckets-BucketWeights.i.dfy.Impl__BucketWeights.__default.WeightMergeBucketsInListLe.smt2\",\n",
    "    \"data/projs/bench_unstable/base.z3/d_fvbkv--lib-Buckets-BucketsLib.i.dfy.Impl__BucketsLib.__default.SortedSeqOfKeyValueHasKey.smt2\",\n",
    "    \"data/projs/bench_unstable/base.z3/d_fvbkv--lib-Buckets-BucketsLib.i.dfy.Impl__BucketsLib.__default.WFProperMergeBucketsInList.smt2\",\n",
    "    \"data/projs/bench_unstable/base.z3/d_fvbkv--lib-Buckets-BucketsLib.i.dfy.Impl__BucketsLib.__default.WFWellMarshalledBucketMap.smt2\",\n",
    "    \"data/projs/bench_unstable/base.z3/d_fvbkv--lib-Buckets-PackedStringArray.i.dfy.Impl__PackedStringArray.DynamicPsa.appendSeq.smt2\",\n",
    "    \"data/projs/bench_unstable/base.z3/d_fvbkv--lib-DataStructures-MutableBtree.i.dfy.Impl__MutableBtree.__default.SubReprsDisjoint.smt2\",\n",
    "    \"data/projs/bench_unstable/base.z3/d_fvbkv--lib-Marshalling-GenericMarshalling.i.dfy.Impl__GenericMarshalling.__default.MarshallArray.smt2\",\n",
    "    \"data/projs/bench_unstable/base.z3/d_fvbkv--lib-Marshalling-GenericMarshalling.i.dfy.Impl__GenericMarshalling.__default.MarshallCase.smt2\",\n",
    "    \"data/projs/bench_unstable/base.z3/d_fvbkv--lib-Marshalling-GenericMarshalling.i.dfy.Impl__GenericMarshalling.__default.MarshallCase_split0.smt2\",\n",
    "    \"data/projs/bench_unstable/base.z3/d_fvbkv--lib-Marshalling-GenericMarshalling.i.dfy.Impl__GenericMarshalling.__default.MarshallUint32Array.smt2\",\n",
    "    \"data/projs/bench_unstable/base.z3/d_fvbkv--lib-Marshalling-GenericMarshalling.i.dfy.Impl__GenericMarshalling.__default.MarshallUint64.smt2\",\n",
    "    \"data/projs/bench_unstable/base.z3/d_fvbkv--lib-Marshalling-GenericMarshalling.i.dfy.Impl__GenericMarshalling.__default.MarshallUint64Array.smt2\",\n",
    "    \"data/projs/bench_unstable/base.z3/d_fvbkv--lib-Marshalling-GenericMarshalling.i.dfy.Impl__GenericMarshalling.__default.lemma__parse__Val__view__ByteArray.smt2\",\n",
    "    \"data/projs/bench_unstable/base.z3/d_fvbkv--lib-Marshalling-Math.i.dfy.Impl__Math.__default.lemma__2toX.smt2\",\n",
    "    \"data/projs/bench_unstable/base.z3/d_komodo--verified-pagedb.i.dfyImpl___module.__default.extractPageDbToAbstractOne.smt2\",\n",
    "    \"data/projs/bench_unstable/base.z3/d_komodo--verified-sha-sha256.i.dfyImpl___module.__default.lemma__SHA256FinalHelper1.smt2\",\n",
    "    \"data/projs/bench_unstable/base.z3/d_lvbkv--BlockCacheSystem-JournalInterval.i.dfy.Impl__JournalIntervals.__default.Disk__Journal__append.smt2\",\n",
    "    \"data/projs/bench_unstable/base.z3/d_lvbkv--ByteBlockCacheSystem-JournalBytes.i.dfy.Impl__JournalBytes.__default.JournalBlockOfJournalRange.smt2\",\n",
    "    \"data/projs/bench_unstable/base.z3/d_lvbkv--ByteBlockCacheSystem-JournalBytes.i.dfy.Impl__JournalBytes.__default.JournalBytesSplit.smt2\",\n",
    "    \"data/projs/bench_unstable/base.z3/d_lvbkv--ByteBlockCacheSystem-JournalBytes.i.dfy.Impl__JournalBytes.__default.JournalRangeEqJournalBlocks.smt2\",\n",
    "    \"data/projs/bench_unstable/base.z3/d_lvbkv--Impl-JournalistMarshallingModel.i.dfy.Impl__JournalistMarshallingModel.__default.writeIntOntoPreservesSlice.smt2\",\n",
    "    \"data/projs/bench_unstable/base.z3/d_lvbkv--Impl-JournalistMarshallingModel.i.dfy.Impl__JournalistMarshallingModel.__default.writeOntoPreservesSlice.smt2\",\n",
    "    \"data/projs/bench_unstable/base.z3/d_lvbkv--Impl-MarshallingImpl.i.dfy.Impl__MarshallingImpl.__default.KeyValSeqToPivots.smt2\",\n",
    "    \"data/projs/bench_unstable/base.z3/d_lvbkv--MapSpec-TSJ.i.dfy.Impl__TSJ.__default.Move1to2StepPreservesInv.smt2\",\n",
    "    \"data/projs/bench_unstable/base.z3/d_lvbkv--PivotBetree-PivotBetreeSpecRefinement.i.dfy.Impl__PivotBetreeSpecRefinement.__default.InUpperBoundAndNot.smt2\",\n",
    "    \"data/projs/bench_unstable/base.z3/d_lvbkv--PivotBetree-PivotBetreeSpecRefinement.i.dfy.Impl__PivotBetreeSpecRefinement.__default.WriteFusedChildInTermsOfLeftAndRight.smt2\",\n",
    "    \"data/projs/bench_unstable/base.z3/d_lvbkv--lib-Base-Arrays.i.dfy.Impl__Arrays.__default.Insert.smt2\",\n",
    "    \"data/projs/bench_unstable/base.z3/d_lvbkv--lib-Base-Sequences.i.dfy.Impl__Sequences.__default.UnflattenIndexIsCorrect.smt2\",\n",
    "    \"data/projs/bench_unstable/base.z3/d_lvbkv--lib-Base-total_order_impl.i.dfy.Impl__Total__Order__Impl.__default.ArrayLargestLtePlus1Linear.smt2\",\n",
    "    \"data/projs/bench_unstable/base.z3/d_lvbkv--lib-Buckets-BucketMap.i.dfy.Impl__BucketMaps.__default.SortedSeqOfKeyValueHasKey.smt2\",\n",
    "    \"data/projs/bench_unstable/base.z3/d_lvbkv--lib-Checksums-CRC32C_Lut.i.dfy.Impl__CRC32C__Lut.__default.pow0.smt2\",\n",
    "    \"data/projs/bench_unstable/base.z3/d_lvbkv--lib-DataStructures-LinearDList.i.dfy.Impl__DList.DList.Remove.smt2\",\n",
    "    \"data/projs/bench_unstable/base.z3/d_lvbkv--lib-Lang-LinearSequence.i.dfy.Impl__LinearSequence__i.__default.SeqCopy.smt2\",\n",
    "    \"data/projs/bench_unstable/base.z3/d_lvbkv--lib-Marshalling-GenericMarshalling.i.dfy.Impl__GenericMarshalling.__default.MarshallArray.smt2\",\n",
    "    \"data/projs/bench_unstable/base.z3/d_lvbkv--lib-Marshalling-GenericMarshalling.i.dfy.Impl__GenericMarshalling.__default.MarshallArrayContents.smt2\",\n",
    "    \"data/projs/bench_unstable/base.z3/d_lvbkv--lib-Marshalling-GenericMarshalling.i.dfy.Impl__GenericMarshalling.__default.MarshallByteArray.smt2\",\n",
    "    \"data/projs/bench_unstable/base.z3/d_lvbkv--lib-Marshalling-GenericMarshalling.i.dfy.Impl__GenericMarshalling.__default.MarshallTupleContents.smt2\",\n",
    "    \"data/projs/bench_unstable/base.z3/d_lvbkv--lib-Marshalling-GenericMarshalling.i.dfy.Impl__GenericMarshalling.__default.MarshallUint32.smt2\",\n",
    "    \"data/projs/bench_unstable/base.z3/d_lvbkv--lib-Marshalling-GenericMarshalling.i.dfy.Impl__GenericMarshalling.__default.MarshallUint32Array.smt2\",\n",
    "    \"data/projs/bench_unstable/base.z3/d_lvbkv--lib-Marshalling-GenericMarshalling.i.dfy.Impl__GenericMarshalling.__default.MarshallUint64.smt2\",\n",
    "    \"data/projs/bench_unstable/base.z3/d_lvbkv--lib-Marshalling-GenericMarshalling.i.dfy.Impl__GenericMarshalling.__default.MarshallUint64Array.smt2\",\n",
    "}"
   ]
  },
  {
   "cell_type": "code",
   "execution_count": 33,
   "metadata": {},
   "outputs": [],
   "source": [
    "skolem_fixable = {\n",
    "    \"05b5b92f32\",\n",
    "    \"17b0b45c82\",\n",
    "    \"354809a9f4\",\n",
    "    \"3ec7c6a97c\",\n",
    "    \"48976525b7\",\n",
    "    \"6fe848cd76\",\n",
    "    \"72ad929f41\",\n",
    "    \"8805626a67\",\n",
    "    \"a88f57c7ea\",\n",
    "    \"d3b07a4fd8\",\n",
    "}\n",
    "skolem_fixable = {mv[q].given_query_path for q in skolem_fixable}"
   ]
  },
  {
   "cell_type": "code",
   "execution_count": 34,
   "metadata": {},
   "outputs": [
    {
     "name": "stdout",
     "output_type": "stream",
     "text": [
      "36\n",
      "10\n"
     ]
    }
   ],
   "source": [
    "print(len(f_modes.tally & double_fixable))\n",
    "print(len(f_modes.tally & skolem_fixable))\n",
    "assert len(skolem_fixable & double_fixable) == 0"
   ]
  },
  {
   "cell_type": "code",
   "execution_count": null,
   "metadata": {},
   "outputs": [
    {
     "name": "stdout",
     "output_type": "stream",
     "text": [
      "| category      |   count | percentage   |\n",
      "|---------------|---------|--------------|\n",
      "| singleton_fix |     385 | 70.64 %      |\n",
      "| no_fix        |     110 | 20.18 %      |\n",
      "| doubleton_fix |      46 | 8.44 %       |\n",
      "| no_proof      |       4 | 0.73 %       |\n",
      "| total         |     545 | 100.00 %     |\n"
     ]
    }
   ],
   "source": [
    "fixes = Categorizer()\n",
    "\n",
    "for query in UNSTABLE_MARIPOSA:\n",
    "    if query in mv.fixable:\n",
    "        fixes.add_item(\"singleton_fix\", query)\n",
    "    elif query in skolem_fixable:\n",
    "        fixes.add_item(\"doubleton_fix\", query)\n",
    "    elif query in double_fixable:\n",
    "        fixes.add_item(\"doubleton_fix\", query)\n",
    "    elif query in mv.status[StrainerStatus.NO_PROOF].items:\n",
    "        fixes.add_item(\"no_proof\", query)\n",
    "    else:\n",
    "        fixes.add_item(\"no_fix\", query)\n",
    "\n",
    "fixes.finalize()\n",
    "fixes.print_status()"
   ]
  },
  {
   "cell_type": "code",
   "execution_count": null,
   "metadata": {},
   "outputs": [],
   "source": []
  }
 ],
 "metadata": {
  "kernelspec": {
   "display_name": "Python 3",
   "language": "python",
   "name": "python3"
  },
  "language_info": {
   "codemirror_mode": {
    "name": "ipython",
    "version": 3
   },
   "file_extension": ".py",
   "mimetype": "text/x-python",
   "name": "python",
   "nbconvert_exporter": "python",
   "pygments_lexer": "ipython3",
   "version": "3.8.10"
  }
 },
 "nbformat": 4,
 "nbformat_minor": 2
}
