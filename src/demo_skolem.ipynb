{
 "cells": [
  {
   "cell_type": "code",
   "execution_count": 1,
   "metadata": {},
   "outputs": [],
   "source": [
    "import sys, os\n",
    "\n",
    "MARIPOSA_PATH = \"/home/yizhou7/mariposa/\"\n",
    "\n",
    "sys.path.append(MARIPOSA_PATH + \"src\")\n",
    "os.chdir(MARIPOSA_PATH)\n",
    "\n",
    "from debugger.debugger import Debugger3\n",
    "from debugger.tree_node import NodeRef\n",
    "from evaluator import Evaluator, BenchViewer\n",
    "from tabulate import tabulate\n",
    "from tqdm import tqdm\n",
    "import numpy as np\n",
    "import networkx as nx\n",
    "import shutil\n",
    "from benchmark_consts import SKOLEM_TARGETS\n",
    "from utils.system_utils import list_smt2_files\n",
    "from evaluator import DbgProjectType, DebuggerStatus"
   ]
  },
  {
   "cell_type": "code",
   "execution_count": 2,
   "metadata": {},
   "outputs": [
    {
     "name": "stdout",
     "output_type": "stream",
     "text": [
      "\u001b[93m[WARN] [init] previous debugging attempt has failed, run with --retry-failed if needed! \u001b[0m\u001b[93m[WARN] [init] previous debugging attempt has failed, run with --retry-failed if needed! \u001b[0m\n",
      "\n",
      "\u001b[93m[WARN] [proof] no proof available \u001b[0m\n",
      "\u001b[93m[WARN] [proof] no proof available \u001b[0m\n",
      "\u001b[93m[WARN] [init] previous debugging attempt has failed, run with --retry-failed if needed! \u001b[0m\n",
      "\u001b[93m[WARN] [proof] no proof available \u001b[0m\u001b[93m[WARN] [init] previous debugging attempt has failed, run with --retry-failed if needed! \u001b[0m\n",
      "\n",
      "\u001b[93m[WARN] [proof] no proof available \u001b[0m\n",
      "\u001b[93m[WARN] [proof] no proof available \u001b[0m\n",
      "\u001b[93m[WARN] [proof] no proof available \u001b[0m\n",
      "\u001b[93m[WARN] [init] previous debugging attempt has failed, run with --retry-failed if needed! \u001b[0m\n",
      "\u001b[93m[WARN] [init] previous debugging attempt has failed, run with --retry-failed if needed! \u001b[0m\n"
     ]
    },
    {
     "name": "stderr",
     "output_type": "stream",
     "text": [
      "\u001b[94m[DEBUG] [edit] proof path: dbg/e498e719e0/proofs/rename.1039380788359293292.proof \u001b[0m\n",
      "\u001b[94m[DEBUG] [edit] trace path: dbg/e498e719e0/traces/reseed.58976911084446514 \u001b[0m\n"
     ]
    },
    {
     "name": "stdout",
     "output_type": "stream",
     "text": [
      "6263c95d6baf43089bd836dd9df6675b.pickle\n",
      "\u001b[93m[WARN] [differ] qid constructor_accessor_axiom not found in dbg/e498e719e0/orig.smt2 \u001b[0m\n",
      "73aed33d2d7e54b93cc9d1fb76cc25cf.pickle\n"
     ]
    },
    {
     "name": "stderr",
     "output_type": "stream",
     "text": [
      "\u001b[94m[DEBUG] saving cache at e498e719e0.report \u001b[0m\n",
      "\u001b[94m[DEBUG] [edit] proof path: dbg/bd12f47d44/proofs/rename.7845509560576528140.proof \u001b[0m\n",
      "\u001b[94m[DEBUG] [edit] trace path: dbg/bd12f47d44/traces/reseed.10197367779400195579 \u001b[0m\n"
     ]
    },
    {
     "name": "stdout",
     "output_type": "stream",
     "text": [
      "\u001b[93m[WARN] [differ] qid constructor_accessor_axiom not found in dbg/bd12f47d44/orig.smt2 \u001b[0m\n",
      "\u001b[93m[WARN] [differ] qid <null> not found in dbg/bd12f47d44/orig.smt2 \u001b[0m\n",
      "3507b38c1199d3313f971ad93b15e879.pickle\n"
     ]
    },
    {
     "name": "stderr",
     "output_type": "stream",
     "text": [
      "\u001b[94m[DEBUG] saving cache at bd12f47d44.report \u001b[0m\n",
      "\u001b[94m[DEBUG] [edit] proof path: dbg/f4d1618d8f/proofs/rename.15651688478031421469.proof \u001b[0m\n",
      "\u001b[94m[DEBUG] [edit] trace path: dbg/f4d1618d8f/traces/rename.1176977123755275496 \u001b[0m\n"
     ]
    },
    {
     "name": "stdout",
     "output_type": "stream",
     "text": [
      "\u001b[93m[WARN] [differ] qid constructor_accessor_axiom not found in dbg/f4d1618d8f/orig.smt2 \u001b[0m\n"
     ]
    },
    {
     "name": "stderr",
     "output_type": "stream",
     "text": [
      "\u001b[94m[DEBUG] saving cache at f4d1618d8f.report \u001b[0m\n"
     ]
    }
   ],
   "source": [
    "SKOLEM_DIR = \"data/projs/bench_unstable.skolem/base.z3\"\n",
    "\n",
    "# if not os.path.exists(SKOLEM_DIR):\n",
    "#     os.makedirs(SKOLEM_DIR)\n",
    "\n",
    "skolem_files = list_smt2_files(SKOLEM_DIR)\n",
    "\n",
    "revs = BenchViewer(skolem_files)\n"
   ]
  },
  {
   "cell_type": "code",
   "execution_count": 3,
   "metadata": {},
   "outputs": [
    {
     "name": "stdout",
     "output_type": "stream",
     "text": [
      "| category                          |   count | percentage   |\n",
      "|-----------------------------------|---------|--------------|\n",
      "| DebuggerStatus.SINGLETON_FINISHED |      18 | 75.0 %       |\n",
      "| DebuggerStatus.NO_PROOF           |       6 | 25.0 %       |\n",
      "| total                             |      24 | 100.00 %     |\n"
     ]
    }
   ],
   "source": [
    "revs.status.print_status()"
   ]
  },
  {
   "cell_type": "code",
   "execution_count": null,
   "metadata": {},
   "outputs": [],
   "source": [
    "for q in revs.status[DebuggerStatus.SINGLETON_FINISHED]:\n",
    "    filter_dir = revs[q].get_proj_dir(DbgProjectType.SINGLETON_FILTERED)\n",
    "    queries = list_smt2_files(filter_dir)\n",
    "    print(revs[q].name_hash, len(queries))"
   ]
  },
  {
   "cell_type": "code",
   "execution_count": null,
   "metadata": {},
   "outputs": [],
   "source": [
    "for q in revs.status[DebuggerStatus.SINGLETON_CREATION_UNATTEMPTED]:\n",
    "    print(\"./src/evaluator.py -i\" + q, \"--create-singleton\")"
   ]
  },
  {
   "cell_type": "code",
   "execution_count": 4,
   "metadata": {},
   "outputs": [],
   "source": [
    "for q in revs.status[DebuggerStatus.SINGLETON_NOT_RAN]:\n",
    "    print(\"python3 src/carve_and_rerun.py\", revs[q].get_proj_dir(DbgProjectType.SINGLETON))"
   ]
  },
  {
   "cell_type": "code",
   "execution_count": 5,
   "metadata": {},
   "outputs": [
    {
     "name": "stdout",
     "output_type": "stream",
     "text": [
      "0.5555555555555556\n"
     ]
    }
   ],
   "source": [
    "print(len(revs.fixable)/len(revs.status[DebuggerStatus.SINGLETON_FINISHED]))"
   ]
  },
  {
   "cell_type": "code",
   "execution_count": null,
   "metadata": {},
   "outputs": [],
   "source": [
    "# from debugger.edit_info import EditAction\n",
    "\n",
    "# created_files = []\n",
    "\n",
    "# for query in SKOLEM_TARGETS[2:]:\n",
    "#     editor = eva.editor\n",
    "#     proof = editor.proof\n",
    "#     consequences = proof.get_skolem_consequences()\n",
    "#     chosen, most_dependent = None, 0\n",
    "#     for sk_fun, cons in consequences.items():\n",
    "#         # print(sk_fun, cons)\n",
    "#         if sum(cons.values()) > most_dependent:\n",
    "#             most_dependent = sum(cons.values())\n",
    "#             chosen = sk_fun\n",
    "#     # print(chosen)\n",
    "#     editor.edit_by_qname(chosen, EditAction.SKOLEMIZE)\n",
    "    # file_path = SKOLEM_DIR + \"/\" + eva.name_hash + \".\"+ chosen + \".smt2\"\n",
    "    # editor.save(file_path)\n",
    "    # created_files.append(file_path)\n",
    "\n"
   ]
  }
 ],
 "metadata": {
  "kernelspec": {
   "display_name": "Python 3",
   "language": "python",
   "name": "python3"
  },
  "language_info": {
   "codemirror_mode": {
    "name": "ipython",
    "version": 3
   },
   "file_extension": ".py",
   "mimetype": "text/x-python",
   "name": "python",
   "nbconvert_exporter": "python",
   "pygments_lexer": "ipython3",
   "version": "3.8.10"
  }
 },
 "nbformat": 4,
 "nbformat_minor": 2
}
