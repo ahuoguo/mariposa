{
 "cells": [
  {
   "cell_type": "code",
   "execution_count": 4,
   "metadata": {},
   "outputs": [],
   "source": [
    "import sys, os\n",
    "\n",
    "MARIPOSA_PATH = \"/home/yizhou7/mariposa/\"\n",
    "\n",
    "sys.path.append(MARIPOSA_PATH + \"src\")\n",
    "os.chdir(MARIPOSA_PATH)\n",
    "\n",
    "from debugger.bench_viewer import BenchViewer\n",
    "from debugger.strainer import StrainerStatus\n",
    "from benchmark_consts import *\n",
    "from debugger.mutant_info import TraceFailure\n",
    "from debugger.debugger import DbgMode\n",
    "from utils.system_utils import list_smt2_files"
   ]
  },
  {
   "cell_type": "code",
   "execution_count": 6,
   "metadata": {},
   "outputs": [
    {
     "name": "stdout",
     "output_type": "stream",
     "text": [
      "\u001b[93m[WARN] [init] previous debugging attempt has failed, run with --retry-failed if needed! \u001b[0m\u001b[93m[WARN] [init] previous debugging attempt has failed, run with --retry-failed if needed! \u001b[0m\n",
      "\n",
      "\u001b[93m[WARN] [proof] no proof available \u001b[0m"
     ]
    },
    {
     "name": "stdout",
     "output_type": "stream",
     "text": [
      "\u001b[93m[WARN] [proof] no proof available \u001b[0m\n",
      "\n",
      "\u001b[92m[INFO] [trace] chosen: dbg/ed04bbe231/traces/rename.7573364212239542813 \u001b[0m\u001b[92m[INFO] [trace] chosen: dbg/bb3fc4290d/traces/rename.17565555927584634102 \u001b[0m\n",
      "\n",
      "\u001b[93m[WARN] [init] previous debugging attempt has failed, run with --retry-failed if needed! \u001b[0m\n",
      "\u001b[93m[WARN] [proof] no proof available \u001b[0m\n",
      "\u001b[92m[INFO] [trace] chosen: dbg/faaf0717d0/traces/reseed.14604956231336138375 \u001b[0m\n",
      "\u001b[93m[WARN] [init] previous debugging attempt has failed, run with --retry-failed if needed! \u001b[0m\n",
      "\u001b[93m[WARN] [proof] no proof available \u001b[0m\n",
      "\u001b[92m[INFO] [trace] chosen: dbg/23f76398f8/traces/rename.17694481820314524121 \u001b[0m\n",
      "\u001b[93m[WARN] [init] previous debugging attempt has failed, run with --retry-failed if needed! \u001b[0m\n",
      "\u001b[93m[WARN] [proof] no proof available \u001b[0m\n",
      "\u001b[92m[INFO] [trace] chosen: dbg/ce730fed0d/traces/shuffle.13389431837888946737 \u001b[0m\n",
      "\u001b[93m[WARN] [init] previous debugging attempt has failed, run with --retry-failed if needed! \u001b[0m\n",
      "\u001b[93m[WARN] [proof] no proof available \u001b[0m\n",
      "\u001b[92m[INFO] [trace] chosen: dbg/9f383c9e36/traces/rename.3074839409591593266 \u001b[0m\n"
     ]
    }
   ],
   "source": [
    "SKOLEM_DIR = \"data/projs/bench_unstable.skolem/base.z3\"\n",
    "\n",
    "# if not os.path.exists(SKOLEM_DIR):\n",
    "#     os.makedirs(SKOLEM_DIR)\n",
    "\n",
    "skolem_files = list_smt2_files(SKOLEM_DIR)\n",
    "\n",
    "revs = BenchViewer(skolem_files, DbgMode.SINGLETON)\n"
   ]
  },
  {
   "cell_type": "code",
   "execution_count": 7,
   "metadata": {},
   "outputs": [
    {
     "name": "stdout",
     "output_type": "stream",
     "text": [
      "| category                |   count | percentage   |\n",
      "|-------------------------|---------|--------------|\n",
      "| StrainerStatus.FINISHED |      18 | 75.0 %       |\n",
      "| StrainerStatus.NO_PROOF |       6 | 25.0 %       |\n",
      "| total                   |      24 | 100.00 %     |\n"
     ]
    }
   ],
   "source": [
    "revs.status.print_status()"
   ]
  },
  {
   "cell_type": "code",
   "execution_count": null,
   "metadata": {},
   "outputs": [],
   "source": [
    "for q in revs.status[StrainerStatus.SINGLETON_FINISHED]:\n",
    "    queries = list_smt2_files(revs[q].filter_dir)\n",
    "    print(revs[q].name_hash, len(queries))"
   ]
  },
  {
   "cell_type": "code",
   "execution_count": null,
   "metadata": {},
   "outputs": [],
   "source": [
    "for q in revs.status[StrainerStatus.SINGLETON_CREATION_UNATTEMPTED]:\n",
    "    print(\"./src/evaluator.py -i\" + q, \"--create-singleton\")"
   ]
  },
  {
   "cell_type": "code",
   "execution_count": null,
   "metadata": {},
   "outputs": [],
   "source": [
    "for q in revs.status[StrainerStatus.SINGLETON_NOT_RAN]:\n",
    "    print(\"python3 src/carve_and_rerun.py\", revs[q].filter_dir)"
   ]
  },
  {
   "cell_type": "code",
   "execution_count": null,
   "metadata": {},
   "outputs": [
    {
     "name": "stdout",
     "output_type": "stream",
     "text": [
      "0.5555555555555556\n"
     ]
    }
   ],
   "source": [
    "print(len(revs.fixable)/len(revs.status[StrainerStatus.SINGLETON_FINISHED]))"
   ]
  }
 ],
 "metadata": {
  "kernelspec": {
   "display_name": "Python 3",
   "language": "python",
   "name": "python3"
  },
  "language_info": {
   "codemirror_mode": {
    "name": "ipython",
    "version": 3
   },
   "file_extension": ".py",
   "mimetype": "text/x-python",
   "name": "python",
   "nbconvert_exporter": "python",
   "pygments_lexer": "ipython3",
   "version": "3.8.10"
  }
 },
 "nbformat": 4,
 "nbformat_minor": 2
}
