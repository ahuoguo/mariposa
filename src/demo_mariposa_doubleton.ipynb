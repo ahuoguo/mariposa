{
 "cells": [
  {
   "cell_type": "code",
   "execution_count": 1,
   "metadata": {},
   "outputs": [],
   "source": [
    "import sys, os\n",
    "\n",
    "MARIPOSA_PATH = \"/home/yizhou7/mariposa/\"\n",
    "\n",
    "sys.path.append(MARIPOSA_PATH + \"src\")\n",
    "os.chdir(MARIPOSA_PATH)\n",
    "\n",
    "from debugger.bench_viewer import BenchViewer\n",
    "from debugger.strainer import StrainerStatus\n",
    "from benchmark_consts import *\n",
    "from debugger.mutant_info import TraceFailure\n",
    "from debugger.debugger import DbgMode, DebugOptions"
   ]
  },
  {
   "cell_type": "code",
   "execution_count": 2,
   "metadata": {},
   "outputs": [
    {
     "name": "stderr",
     "output_type": "stream",
     "text": [
      "\u001b[94m[DEBUG] [edit] proof path: dbg/30af6a3633/proofs/reseed.3714970162609206792.proof \u001b[0m\u001b[94m[DEBUG] [edit] proof path: dbg/5e2368e7d9/proofs/rename.7905863877711446243.proof \u001b[0m\n",
      "\u001b[94m[DEBUG] [edit] trace path: dbg/30af6a3633/traces/rename.6200923570841469832 \u001b[0m\n",
      "\n"
     ]
    },
    {
     "name": "stdout",
     "output_type": "stream",
     "text": [
      "ad06c4aea8b24c50e3549243bef32874.pickle\n"
     ]
    },
    {
     "name": "stderr",
     "output_type": "stream",
     "text": [
      "\u001b[94m[DEBUG] [edit] trace path: dbg/5e2368e7d9/traces/reseed.7465909228232801491 \u001b[0m\n"
     ]
    },
    {
     "name": "stdout",
     "output_type": "stream",
     "text": [
      "4d7935fcd32212ea5bb834496aedee56.pickle\n",
      "\u001b[93m[WARN] query 67403738 has no experiment results \u001b[0m\n"
     ]
    },
    {
     "name": "stderr",
     "output_type": "stream",
     "text": [
      "\u001b[91m[ERROR] there are 1 queries with files, but no experiments done in doubleton2_f5d478ae5f.filtered.base.z3 \u001b[0m\n"
     ]
    },
    {
     "name": "stdout",
     "output_type": "stream",
     "text": [
      "exception:  "
     ]
    },
    {
     "name": "stderr",
     "output_type": "stream",
     "text": [
      "\u001b[94m[DEBUG] [edit] proof path: dbg/b8ed14e0c5/proofs/shuffle.9788900087027319503.proof \u001b[0m"
     ]
    },
    {
     "name": "stdout",
     "output_type": "stream",
     "text": [
      "\n"
     ]
    },
    {
     "name": "stderr",
     "output_type": "stream",
     "text": [
      "\n",
      "\u001b[94m[DEBUG] [edit] trace path: dbg/b8ed14e0c5/traces/rename.4168130496894493328 \u001b[0m\n"
     ]
    },
    {
     "name": "stdout",
     "output_type": "stream",
     "text": [
      "852735fe4b2072a8aad8ac9357c0927c.pickle\n"
     ]
    },
    {
     "name": "stderr",
     "output_type": "stream",
     "text": [
      "\u001b[94m[DEBUG] [edit] proof path: dbg/93815c9e8c/proofs/rename.1086507398307270301.proof \u001b[0m\n",
      "\u001b[94m[DEBUG] [edit] proof path: dbg/1d32c4d524/proofs/shuffle.4446402167607283216.proof \u001b[0m\u001b[94m[DEBUG] [edit] trace path: dbg/93815c9e8c/traces/rename.1350392901976709294 \u001b[0m\n",
      "\u001b[94m[DEBUG] [edit] trace path: dbg/1d32c4d524/traces/rename.3192375572000729795 \u001b[0m\n",
      "\n"
     ]
    },
    {
     "name": "stdout",
     "output_type": "stream",
     "text": [
      "d7548803b6378beeb13f6397e95dcd9c.pickle97202efe476533fe914f24e9dbb8a243.pickle\n",
      "\n"
     ]
    },
    {
     "name": "stderr",
     "output_type": "stream",
     "text": [
      "\u001b[94m[DEBUG] [edit] proof path: dbg/22bc3230fa/proofs/shuffle.15931267130854031163.proof \u001b[0m\n"
     ]
    },
    {
     "name": "stdout",
     "output_type": "stream",
     "text": [
      "\u001b[93m[WARN] query bf7c8632 has no experiment results \u001b[0m\n"
     ]
    },
    {
     "name": "stderr",
     "output_type": "stream",
     "text": [
      "\u001b[94m[DEBUG] [edit] trace path: dbg/22bc3230fa/traces/reseed.11453502991186387410 \u001b[0m\u001b[91m[ERROR] there are 1 queries with files, but no experiments done in doubleton2_c8a3060122.filtered.base.z3 \u001b[0m\n"
     ]
    },
    {
     "name": "stdout",
     "output_type": "stream",
     "text": [
      "65b5f359d2f544b3e98c76c53d520a52.pickle"
     ]
    },
    {
     "name": "stderr",
     "output_type": "stream",
     "text": [
      "\n"
     ]
    },
    {
     "name": "stdout",
     "output_type": "stream",
     "text": [
      "\n",
      "exception:  \n",
      "\u001b[93m[WARN] [differ] qid constructor_accessor_axiom not found in dbg/b8ed14e0c5/orig.smt2 \u001b[0m\n",
      "\u001b[93m[WARN] [differ] qid <null> not found in dbg/b8ed14e0c5/orig.smt2 \u001b[0m\n"
     ]
    },
    {
     "name": "stderr",
     "output_type": "stream",
     "text": [
      "\u001b[94m[DEBUG] saving cache at b8ed14e0c5.22.report \u001b[0m\n"
     ]
    },
    {
     "name": "stdout",
     "output_type": "stream",
     "text": [
      "\u001b[93m[WARN] [differ] qid constructor_accessor_axiom not found in dbg/22bc3230fa/orig.smt2 \u001b[0m\n"
     ]
    },
    {
     "name": "stderr",
     "output_type": "stream",
     "text": [
      "\u001b[94m[DEBUG] saving cache at 22bc3230fa.22.report \u001b[0m\n"
     ]
    },
    {
     "name": "stdout",
     "output_type": "stream",
     "text": [
      "\u001b[93m[WARN] [differ] qid constructor_accessor_axiom not found in dbg/30af6a3633/orig.smt2 \u001b[0m\n"
     ]
    },
    {
     "name": "stderr",
     "output_type": "stream",
     "text": [
      "\u001b[94m[DEBUG] saving cache at 30af6a3633.22.report \u001b[0m\n"
     ]
    },
    {
     "name": "stdout",
     "output_type": "stream",
     "text": [
      "\u001b[93m[WARN] [differ] qid constructor_accessor_axiom not found in dbg/5e2368e7d9/orig.smt2 \u001b[0m\n",
      "\u001b[93m[WARN] [differ] qid <null> not found in dbg/5e2368e7d9/orig.smt2 \u001b[0m\n"
     ]
    },
    {
     "name": "stderr",
     "output_type": "stream",
     "text": [
      "\u001b[94m[DEBUG] saving cache at 5e2368e7d9.22.report \u001b[0m\n"
     ]
    },
    {
     "name": "stdout",
     "output_type": "stream",
     "text": [
      "\u001b[93m[WARN] [differ] qid constructor_accessor_axiom not found in dbg/93815c9e8c/orig.smt2 \u001b[0m\n",
      "\u001b[93m[WARN] [differ] qid <null> not found in dbg/93815c9e8c/orig.smt2 \u001b[0m\n"
     ]
    },
    {
     "name": "stderr",
     "output_type": "stream",
     "text": [
      "\u001b[94m[DEBUG] saving cache at 93815c9e8c.22.report \u001b[0m\n"
     ]
    },
    {
     "name": "stdout",
     "output_type": "stream",
     "text": [
      "\u001b[93m[WARN] [differ] qid constructor_accessor_axiom not found in dbg/1d32c4d524/orig.smt2 \u001b[0m\n",
      "\u001b[93m[WARN] [differ] qid unnamed not found in dbg/1d32c4d524/orig.smt2 \u001b[0m\n",
      "\u001b[93m[WARN] [differ] qid is-Prims.equals not found in dbg/1d32c4d524/orig.smt2 \u001b[0m\n",
      "\u001b[93m[WARN] [differ] qid is-Prims.h_equals not found in dbg/1d32c4d524/orig.smt2 \u001b[0m\n",
      "\u001b[93m[WARN] [differ] qid is-Prims.c_and not found in dbg/1d32c4d524/orig.smt2 \u001b[0m\n",
      "\u001b[93m[WARN] [differ] qid is-Prims.c_or not found in dbg/1d32c4d524/orig.smt2 \u001b[0m\n",
      "\u001b[93m[WARN] [differ] qid is-Prims.dtuple2 not found in dbg/1d32c4d524/orig.smt2 \u001b[0m\n",
      "\u001b[93m[WARN] [differ] qid is-Prims.list not found in dbg/1d32c4d524/orig.smt2 \u001b[0m\n",
      "\u001b[93m[WARN] [differ] qid is-FStar.Pervasives.Native.option not found in dbg/1d32c4d524/orig.smt2 \u001b[0m\n",
      "\u001b[93m[WARN] [differ] qid is-FStar.Pervasives.Native.tuple2 not found in dbg/1d32c4d524/orig.smt2 \u001b[0m\n",
      "\u001b[93m[WARN] [differ] qid is-FStar.Pervasives.Native.tuple3 not found in dbg/1d32c4d524/orig.smt2 \u001b[0m\n",
      "\u001b[93m[WARN] [differ] qid is-FStar.Pervasives.Native.tuple4 not found in dbg/1d32c4d524/orig.smt2 \u001b[0m\n",
      "\u001b[93m[WARN] [differ] qid is-FStar.Pervasives.Native.tuple5 not found in dbg/1d32c4d524/orig.smt2 \u001b[0m\n",
      "\u001b[93m[WARN] [differ] qid is-FStar.Pervasives.Native.tuple6 not found in dbg/1d32c4d524/orig.smt2 \u001b[0m\n",
      "\u001b[93m[WARN] [differ] qid is-FStar.Pervasives.Native.tuple7 not found in dbg/1d32c4d524/orig.smt2 \u001b[0m\n",
      "\u001b[93m[WARN] [differ] qid is-FStar.Pervasives.Native.tuple8 not found in dbg/1d32c4d524/orig.smt2 \u001b[0m\n",
      "\u001b[93m[WARN] [differ] qid is-FStar.Pervasives.Native.tuple9 not found in dbg/1d32c4d524/orig.smt2 \u001b[0m\n",
      "\u001b[93m[WARN] [differ] qid is-FStar.Pervasives.Native.tuple10 not found in dbg/1d32c4d524/orig.smt2 \u001b[0m\n",
      "\u001b[93m[WARN] [differ] qid is-FStar.Pervasives.Native.tuple11 not found in dbg/1d32c4d524/orig.smt2 \u001b[0m\n",
      "\u001b[93m[WARN] [differ] qid is-FStar.Pervasives.Native.tuple12 not found in dbg/1d32c4d524/orig.smt2 \u001b[0m\n",
      "\u001b[93m[WARN] [differ] qid is-FStar.Pervasives.Native.tuple13 not found in dbg/1d32c4d524/orig.smt2 \u001b[0m\n",
      "\u001b[93m[WARN] [differ] qid is-FStar.Pervasives.Native.tuple14 not found in dbg/1d32c4d524/orig.smt2 \u001b[0m\n",
      "\u001b[93m[WARN] [differ] qid is-FStar.Pervasives.result not found in dbg/1d32c4d524/orig.smt2 \u001b[0m\n",
      "\u001b[93m[WARN] [differ] qid is-FStar.Pervasives.either not found in dbg/1d32c4d524/orig.smt2 \u001b[0m\n",
      "\u001b[93m[WARN] [differ] qid is-FStar.Pervasives.dtuple3 not found in dbg/1d32c4d524/orig.smt2 \u001b[0m\n",
      "\u001b[93m[WARN] [differ] qid is-FStar.Pervasives.dtuple4 not found in dbg/1d32c4d524/orig.smt2 \u001b[0m\n",
      "\u001b[93m[WARN] [differ] qid is-FStar.Monotonic.HyperStack.mreference_ not found in dbg/1d32c4d524/orig.smt2 \u001b[0m\n",
      "\u001b[93m[WARN] [differ] qid is-FStar.Calc.calc_proof not found in dbg/1d32c4d524/orig.smt2 \u001b[0m\n",
      "\u001b[93m[WARN] [differ] qid is-FStar.Calc.calc_pack not found in dbg/1d32c4d524/orig.smt2 \u001b[0m\n",
      "\u001b[93m[WARN] [differ] qid is-FStar.ModifiesGen.cls not found in dbg/1d32c4d524/orig.smt2 \u001b[0m\n",
      "\u001b[93m[WARN] [differ] qid is-FStar.Tactics.Result.__result not found in dbg/1d32c4d524/orig.smt2 \u001b[0m\n",
      "\u001b[93m[WARN] [differ] qid is-LowParse.Slice.slice not found in dbg/1d32c4d524/orig.smt2 \u001b[0m\n",
      "\u001b[93m[WARN] [differ] qid is-LowParse.Low.Base.Spec.clens not found in dbg/1d32c4d524/orig.smt2 \u001b[0m\n",
      "\u001b[93m[WARN] [differ] qid is-LowParse.Low.Base.irepr not found in dbg/1d32c4d524/orig.smt2 \u001b[0m\n"
     ]
    },
    {
     "name": "stderr",
     "output_type": "stream",
     "text": [
      "\u001b[94m[DEBUG] saving cache at 1d32c4d524.22.report \u001b[0m\n"
     ]
    }
   ],
   "source": [
    "qs = ['0f400a3f00', '1d32c4d524', 'f6db5998ec', '58d93cd4ed', 'c5633470e3', '38d93c5774', '5e2368e7d9', 'f1fdf3be38', 'c8a3060122', '60095b1a59', '24a1fea1cb', '1afa5361f7', 'e93855aadd', 'b1b86518f3', '28f9cbda22', '45d0bd930b', 'be808dd0c3', '93815c9e8c', 'de19cf9fa2', '3e5ee53876', 'd27df8e3bb', '1c986e634b', '1d23e345a5', 'b6f117b674', 'a9102fb49c', '0defc27a3b', '81f604e545', 'a05a8d0e07', '01b00606af', 'ea5023bb77', '488737f5fe', 'a9ba4f3553', '5741fd7355', '926dcc2129', '3d6f2d9f7a', '72139a143b', 'b8ed14e0c5', '203627efb4', '1996525606', 'd75368331e', 'cd6015582a', 'd874a82c3a', '11e4bbf583', '84faa1a2fa', '862cb1068a', '22bc3230fa', '9b9e796545', '3b176b0694', '05c075acd8', '1de7054a37', '3b1c756824', '7c6738ef40', 'c3e7d9e76e', '0ad8073737', '28b317196a', 'a854e6c8ad', '9967bcf803', '2211f3ba76', '1f3cf5998c', '7072b00e75', 'd347f45fa2', 'bf6d57d525', '06a10772cf', '422a6c0817', 'dc83338098', '9bfdf36ae8', '9adbe2e346', '411ef2f9db', '4040d2a20b', 'cca6928c4f', '443cdbaf14', '72a2c42fee', '50e9564b05', '7f97f9269e', 'a650f4205b', '68aa54b124', 'e695dc7eeb', '75a47c804d', '041773ee5b', 'b5d367aaf5', '0cfa69df01', 'ef1ebd5d7d', '3ed37733c3', 'ed36496079', '676f102c30', '1f96205287', '70b04e001b', 'f5d478ae5f', '061f1d0514', 'b5b0f8c2f2', '5fbc06f886', 'd619135268', 'adf9eda1ef', 'c83a6af781', 'b6e82319b9', '8be7c5ec27', 'ba85c910da', '4d6ae633c8', 'f5fa3eaaf7', 'f4aec3e1dd', '82f91d0d6f', '8f383c7db0', '243ec915e0', '2cbf19182c', '90e97b47ee', 'a0a67d231a', 'ee8d1ab295', '786d3d1ed6', 'b6c73c6fb9', '1673ca97a5', '58d0af9026', '30af6a3633', '7b0fbd9a55', 'e5c19b8ea5', '9c17013417', '1bcd3aa5cb', '085408afeb', '12c7d523b1', '02378bfc2b', 'a95607b981', '2b22e90742', '06de62b08b', '975f2fa60e', '3a37e843fb', '73e0c43c61', '158bcfb113', '47c0fbf175', '07554b6280', 'cb725a5d7b', '49665b0459', '298f3245ca', '6a7bc24676', 'bacb951c70', 'd71eeda4cd', '7f39d29669', 'd9b4a1a745', 'b8265691e7', '751af3ffba', 'a2998ce7e3', '695f604e3c', '2489279611', '5af6d28737', '65f41ba519', 'b6a7ecec0e', 'ab52dadac1', '7fd5899ce2', 'c97090bb09', '09f0c73516', '26cc7a44c8', '0b72dcef64', '47ef270c0c', 'd01bd917c5', '6200b46f8f', 'b231954c65', 'b837e52d8b', '95fa9421b7', '9415956048', '555312085e', '1ecf533970', '667b2b80fe', '44ac0b7ce8', 'a0c42cc37e', 'c8498ec17a', '1dbfa93b6f', 'b182e2a043', '8031fd6ec8', '6665cb0a02', 'ef84a89ec9']\n",
    "options = DebugOptions()\n",
    "options.mode = DbgMode.DOUBLETON\n",
    "mv = BenchViewer(qs, options)"
   ]
  },
  {
   "cell_type": "code",
   "execution_count": 3,
   "metadata": {},
   "outputs": [
    {
     "name": "stdout",
     "output_type": "stream",
     "text": [
      "| category                  |   count | percentage   |\n",
      "|---------------------------|---------|--------------|\n",
      "| StrainerStatus.FINISHED   |     161 | 95.83 %      |\n",
      "| StrainerStatus.NOT_TESTED |       5 | 2.98 %       |\n",
      "| StrainerStatus.ERROR      |       2 | 1.19 %       |\n",
      "| total                     |     168 | 100.00 %     |\n"
     ]
    }
   ],
   "source": [
    "mv.status.print_status()"
   ]
  },
  {
   "cell_type": "code",
   "execution_count": 4,
   "metadata": {},
   "outputs": [],
   "source": [
    "for q in mv.status[StrainerStatus.NO_PROOF]:\n",
    "    print(q)"
   ]
  },
  {
   "cell_type": "code",
   "execution_count": 5,
   "metadata": {},
   "outputs": [
    {
     "name": "stdout",
     "output_type": "stream",
     "text": [
      "37\n",
      "0.22981366459627328\n"
     ]
    }
   ],
   "source": [
    "print(len(mv.fixable))\n",
    "print(len(mv.fixable)/len(mv.status[StrainerStatus.FINISHED]))"
   ]
  },
  {
   "cell_type": "code",
   "execution_count": 6,
   "metadata": {},
   "outputs": [
    {
     "name": "stdout",
     "output_type": "stream",
     "text": [
      "./src/debugger3py --mode doubleton --reset -i f5d478ae5f\n",
      "./src/debugger3py --mode doubleton --reset -i c8a3060122\n"
     ]
    }
   ],
   "source": [
    "for q in mv.status[StrainerStatus.ERROR]:\n",
    "    print(\"./src/debugger3py --mode doubleton --reset -i\",  mv[q].name_hash)"
   ]
  },
  {
   "cell_type": "code",
   "execution_count": 7,
   "metadata": {},
   "outputs": [],
   "source": [
    "for q in mv.status[StrainerStatus.NOT_CREATED]:\n",
    "    print(\"./src/debugger3.py --mode doubleton --create -i\", mv[q].name_hash)"
   ]
  },
  {
   "cell_type": "code",
   "execution_count": 8,
   "metadata": {},
   "outputs": [
    {
     "name": "stdout",
     "output_type": "stream",
     "text": [
      "./src/make_spaghet.py --not-verus -i data/projs/doubleton2_06a10772cf/base.z3\n",
      "./src/make_spaghet.py --not-verus -i data/projs/doubleton2_72139a143b/base.z3\n",
      "./src/make_spaghet.py --not-verus -i data/projs/doubleton2_555312085e/base.z3\n",
      "./src/make_spaghet.py --not-verus -i data/projs/doubleton2_3a37e843fb/base.z3\n",
      "./src/make_spaghet.py --not-verus -i data/projs/doubleton2_862cb1068a/base.z3\n"
     ]
    }
   ],
   "source": [
    "# for q in mv.status[DebuggerStatus.FILTERED_NOT_RAN]:\n",
    "for q in mv.status[StrainerStatus.NOT_TESTED]:\n",
    "    print(\"./src/make_spaghet.py --not-verus -i\", mv[q].strainer.test_dir)"
   ]
  },
  {
   "cell_type": "code",
   "execution_count": 9,
   "metadata": {},
   "outputs": [
    {
     "name": "stdout",
     "output_type": "stream",
     "text": [
      "\u001b[92m[INFO] removing data/projs/doubleton2_786d3d1ed6/base.z3/0a49fd68.smt2 \u001b[0m\n",
      "\u001b[92m[INFO] removing data/projs/doubleton2_786d3d1ed6/base.z3/0a6fc238.smt2 \u001b[0m\n",
      "\u001b[92m[INFO] removing data/projs/doubleton2_786d3d1ed6/base.z3/2213404a.smt2 \u001b[0m\n",
      "\u001b[92m[INFO] removing data/projs/doubleton2_786d3d1ed6/base.z3/436070de.smt2 \u001b[0m\n",
      "\u001b[92m[INFO] removing data/projs/doubleton2_786d3d1ed6/base.z3/92c903a8.smt2 \u001b[0m\n",
      "\u001b[92m[INFO] removing data/projs/doubleton2_786d3d1ed6/base.z3/96febc52.smt2 \u001b[0m\n",
      "\u001b[92m[INFO] removing data/projs/doubleton2_786d3d1ed6/base.z3/a2393bea.smt2 \u001b[0m\n",
      "\u001b[92m[INFO] removing data/projs/doubleton2_786d3d1ed6/base.z3/c2d0fd46.smt2 \u001b[0m\n",
      "\u001b[92m[INFO] removing data/projs/doubleton2_786d3d1ed6/base.z3/c6e1f31b.smt2 \u001b[0m\n",
      "\u001b[92m[INFO] removing data/projs/doubleton2_786d3d1ed6/base.z3/fc3bd13f.smt2 \u001b[0m\n",
      "\u001b[92m[INFO] removing data/projs/doubleton2_6200b46f8f/base.z3/1689efc1.smt2 \u001b[0m\n",
      "\u001b[92m[INFO] removing data/projs/doubleton2_6200b46f8f/base.z3/2e967182.smt2 \u001b[0m\n",
      "\u001b[92m[INFO] removing data/projs/doubleton2_6200b46f8f/base.z3/41092ac9.smt2 \u001b[0m\n",
      "\u001b[92m[INFO] removing data/projs/doubleton2_6200b46f8f/base.z3/8eb4974d.smt2 \u001b[0m\n",
      "\u001b[92m[INFO] removing data/projs/doubleton2_6200b46f8f/base.z3/d16f8635.smt2 \u001b[0m\n",
      "\u001b[92m[INFO] removing data/projs/doubleton2_6200b46f8f/base.z3/ed85d672.smt2 \u001b[0m\n",
      "\u001b[92m[INFO] removing data/projs/doubleton2_751af3ffba/base.z3/75c1fa0e.smt2 \u001b[0m\n",
      "\u001b[92m[INFO] removing data/projs/doubleton2_751af3ffba/base.z3/a16b3072.smt2 \u001b[0m\n",
      "\u001b[92m[INFO] removing data/projs/doubleton2_751af3ffba/base.z3/b1a5b2d9.smt2 \u001b[0m\n",
      "\u001b[92m[INFO] removing data/projs/doubleton2_751af3ffba/base.z3/b5b62372.smt2 \u001b[0m\n",
      "\u001b[92m[INFO] removing data/projs/doubleton2_751af3ffba/base.z3/ca118952.smt2 \u001b[0m\n",
      "\u001b[92m[INFO] removing data/projs/doubleton2_751af3ffba/base.z3/cc9efa87.smt2 \u001b[0m\n",
      "\u001b[92m[INFO] removing data/projs/doubleton2_751af3ffba/base.z3/efc5a2a3.smt2 \u001b[0m\n",
      "\u001b[92m[INFO] removing data/projs/doubleton2_751af3ffba/base.z3/f2378997.smt2 \u001b[0m\n",
      "\u001b[92m[INFO] removing data/projs/doubleton2_751af3ffba/base.z3/f6a20643.smt2 \u001b[0m\n",
      "\u001b[92m[INFO] removing data/projs/doubleton2_65f41ba519/base.z3/237b2bc5.smt2 \u001b[0m\n",
      "\u001b[92m[INFO] removing data/projs/doubleton2_65f41ba519/base.z3/3b1feebe.smt2 \u001b[0m\n",
      "\u001b[92m[INFO] removing data/projs/doubleton2_65f41ba519/base.z3/5bffb668.smt2 \u001b[0m\n",
      "\u001b[92m[INFO] removing data/projs/doubleton2_65f41ba519/base.z3/a18de0db.smt2 \u001b[0m\n",
      "\u001b[92m[INFO] removing data/projs/doubleton2_65f41ba519/base.z3/c207f849.smt2 \u001b[0m\n",
      "\u001b[92m[INFO] removing data/projs/doubleton2_65f41ba519/base.z3/c7c7127c.smt2 \u001b[0m\n",
      "\u001b[92m[INFO] removing data/projs/doubleton2_65f41ba519/base.z3/d1c62966.smt2 \u001b[0m\n",
      "\u001b[92m[INFO] removing data/projs/doubleton2_65f41ba519/base.z3/fae294d1.smt2 \u001b[0m\n",
      "\u001b[92m[INFO] removing data/projs/doubleton2_1f96205287/base.z3/00321a49.smt2 \u001b[0m\n",
      "\u001b[92m[INFO] removing data/projs/doubleton2_1f96205287/base.z3/07d2c2e4.smt2 \u001b[0m\n",
      "\u001b[92m[INFO] removing data/projs/doubleton2_1f96205287/base.z3/0aca5149.smt2 \u001b[0m\n",
      "\u001b[92m[INFO] removing data/projs/doubleton2_1f96205287/base.z3/46a300fb.smt2 \u001b[0m\n",
      "\u001b[92m[INFO] removing data/projs/doubleton2_1f96205287/base.z3/662bf626.smt2 \u001b[0m\n",
      "\u001b[92m[INFO] removing data/projs/doubleton2_1f96205287/base.z3/793df7a2.smt2 \u001b[0m\n",
      "\u001b[92m[INFO] removing data/projs/doubleton2_1f96205287/base.z3/92b8cbeb.smt2 \u001b[0m\n",
      "\u001b[92m[INFO] removing data/projs/doubleton2_38d93c5774/base.z3/5e00937e.smt2 \u001b[0m\n",
      "\u001b[92m[INFO] removing data/projs/doubleton2_38d93c5774/base.z3/5ebb52ba.smt2 \u001b[0m\n",
      "\u001b[92m[INFO] removing data/projs/doubleton2_38d93c5774/base.z3/61110d0f.smt2 \u001b[0m\n",
      "\u001b[92m[INFO] removing data/projs/doubleton2_38d93c5774/base.z3/61bc35e5.smt2 \u001b[0m\n",
      "\u001b[92m[INFO] removing data/projs/doubleton2_38d93c5774/base.z3/773e262a.smt2 \u001b[0m\n",
      "\u001b[92m[INFO] removing data/projs/doubleton2_38d93c5774/base.z3/7bb9e2ce.smt2 \u001b[0m\n",
      "\u001b[92m[INFO] removing data/projs/doubleton2_38d93c5774/base.z3/a062fe30.smt2 \u001b[0m\n",
      "\u001b[92m[INFO] removing data/projs/doubleton2_38d93c5774/base.z3/f7d6bad8.smt2 \u001b[0m\n",
      "\u001b[92m[INFO] removing data/projs/doubleton2_38d93c5774/base.z3/feb71d6d.smt2 \u001b[0m\n",
      "\u001b[92m[INFO] removing data/projs/doubleton2_f5fa3eaaf7/base.z3/465b609d.smt2 \u001b[0m\n",
      "\u001b[92m[INFO] removing data/projs/doubleton2_f5fa3eaaf7/base.z3/50438d97.smt2 \u001b[0m\n",
      "\u001b[92m[INFO] removing data/projs/doubleton2_f5fa3eaaf7/base.z3/7fc34e0f.smt2 \u001b[0m\n",
      "\u001b[92m[INFO] removing data/projs/doubleton2_f5fa3eaaf7/base.z3/b7848c5a.smt2 \u001b[0m\n",
      "\u001b[92m[INFO] removing data/projs/doubleton2_f5fa3eaaf7/base.z3/e0ebcb7b.smt2 \u001b[0m\n",
      "\u001b[92m[INFO] removing data/projs/doubleton2_f5fa3eaaf7/base.z3/f1b6b3bb.smt2 \u001b[0m\n",
      "\u001b[92m[INFO] removing data/projs/doubleton2_3ed37733c3/base.z3/932a3f52.smt2 \u001b[0m\n",
      "\u001b[92m[INFO] removing data/projs/doubleton2_ba85c910da/base.z3/0c26c7bd.smt2 \u001b[0m\n",
      "\u001b[92m[INFO] removing data/projs/doubleton2_ba85c910da/base.z3/10663645.smt2 \u001b[0m\n",
      "\u001b[92m[INFO] removing data/projs/doubleton2_ba85c910da/base.z3/416e0611.smt2 \u001b[0m\n",
      "\u001b[92m[INFO] removing data/projs/doubleton2_ba85c910da/base.z3/47d74b91.smt2 \u001b[0m\n",
      "\u001b[92m[INFO] removing data/projs/doubleton2_ba85c910da/base.z3/4fc28adc.smt2 \u001b[0m\n",
      "\u001b[92m[INFO] removing data/projs/doubleton2_ba85c910da/base.z3/536f29e9.smt2 \u001b[0m\n",
      "\u001b[92m[INFO] removing data/projs/doubleton2_ba85c910da/base.z3/614f5f17.smt2 \u001b[0m\n",
      "\u001b[92m[INFO] removing data/projs/doubleton2_ba85c910da/base.z3/c14bbd91.smt2 \u001b[0m\n",
      "\u001b[92m[INFO] removing data/projs/doubleton2_ba85c910da/base.z3/ca5da431.smt2 \u001b[0m\n",
      "\u001b[92m[INFO] removing data/projs/doubleton2_ba85c910da/base.z3/ce212a86.smt2 \u001b[0m\n",
      "\u001b[92m[INFO] removing data/projs/doubleton2_9c17013417/base.z3/06bfa9da.smt2 \u001b[0m\n",
      "\u001b[92m[INFO] removing data/projs/doubleton2_9c17013417/base.z3/2818c322.smt2 \u001b[0m\n",
      "\u001b[92m[INFO] removing data/projs/doubleton2_9c17013417/base.z3/4027ecc7.smt2 \u001b[0m\n",
      "\u001b[92m[INFO] removing data/projs/doubleton2_9c17013417/base.z3/57a5a8a2.smt2 \u001b[0m\n",
      "\u001b[92m[INFO] removing data/projs/doubleton2_9c17013417/base.z3/9b94d797.smt2 \u001b[0m\n",
      "\u001b[92m[INFO] removing data/projs/doubleton2_9c17013417/base.z3/9bdfd955.smt2 \u001b[0m\n",
      "\u001b[92m[INFO] removing data/projs/doubleton2_9c17013417/base.z3/a5d373d1.smt2 \u001b[0m\n",
      "\u001b[92m[INFO] removing data/projs/doubleton2_9c17013417/base.z3/a65b212f.smt2 \u001b[0m\n",
      "\u001b[92m[INFO] removing data/projs/doubleton2_7f39d29669/base.z3/21fa0d72.smt2 \u001b[0m\n",
      "\u001b[92m[INFO] removing data/projs/doubleton2_7f39d29669/base.z3/4071651c.smt2 \u001b[0m\n",
      "\u001b[92m[INFO] removing data/projs/doubleton2_7f39d29669/base.z3/59422100.smt2 \u001b[0m\n",
      "\u001b[92m[INFO] removing data/projs/doubleton2_7f39d29669/base.z3/7145ed7e.smt2 \u001b[0m\n",
      "\u001b[92m[INFO] removing data/projs/doubleton2_7f39d29669/base.z3/7ad566d4.smt2 \u001b[0m\n",
      "\u001b[92m[INFO] removing data/projs/doubleton2_7f39d29669/base.z3/876a55e3.smt2 \u001b[0m\n",
      "\u001b[92m[INFO] removing data/projs/doubleton2_7f39d29669/base.z3/a1c2e470.smt2 \u001b[0m\n",
      "\u001b[92m[INFO] removing data/projs/doubleton2_7f39d29669/base.z3/aa3f61d5.smt2 \u001b[0m\n",
      "\u001b[92m[INFO] removing data/projs/doubleton2_ef1ebd5d7d/base.z3/21005281.smt2 \u001b[0m\n",
      "\u001b[92m[INFO] removing data/projs/doubleton2_ef1ebd5d7d/base.z3/3a155d6e.smt2 \u001b[0m\n",
      "\u001b[92m[INFO] removing data/projs/doubleton2_ef1ebd5d7d/base.z3/3e9d4434.smt2 \u001b[0m\n",
      "\u001b[92m[INFO] removing data/projs/doubleton2_ef1ebd5d7d/base.z3/433a254f.smt2 \u001b[0m\n",
      "\u001b[92m[INFO] removing data/projs/doubleton2_ef1ebd5d7d/base.z3/4d49c7c3.smt2 \u001b[0m\n",
      "\u001b[92m[INFO] removing data/projs/doubleton2_ef1ebd5d7d/base.z3/6a51f8e9.smt2 \u001b[0m\n",
      "\u001b[92m[INFO] removing data/projs/doubleton2_ef1ebd5d7d/base.z3/710bdade.smt2 \u001b[0m\n",
      "\u001b[92m[INFO] removing data/projs/doubleton2_ef1ebd5d7d/base.z3/8f80f85f.smt2 \u001b[0m\n",
      "\u001b[92m[INFO] removing data/projs/doubleton2_ef1ebd5d7d/base.z3/c82fad89.smt2 \u001b[0m\n",
      "\u001b[92m[INFO] removing data/projs/doubleton2_ef1ebd5d7d/base.z3/f674d9ba.smt2 \u001b[0m\n",
      "\u001b[92m[INFO] removing data/projs/doubleton2_9adbe2e346/base.z3/2e2e09ae.smt2 \u001b[0m\n",
      "\u001b[92m[INFO] removing data/projs/doubleton2_9adbe2e346/base.z3/460eb362.smt2 \u001b[0m\n",
      "\u001b[92m[INFO] removing data/projs/doubleton2_9adbe2e346/base.z3/4cead426.smt2 \u001b[0m\n",
      "\u001b[92m[INFO] removing data/projs/doubleton2_9adbe2e346/base.z3/66172371.smt2 \u001b[0m\n",
      "\u001b[92m[INFO] removing data/projs/doubleton2_9adbe2e346/base.z3/94aee88e.smt2 \u001b[0m\n",
      "\u001b[92m[INFO] removing data/projs/doubleton2_9adbe2e346/base.z3/ad40ea23.smt2 \u001b[0m\n",
      "\u001b[92m[INFO] removing data/projs/doubleton2_9adbe2e346/base.z3/db6429bb.smt2 \u001b[0m\n",
      "\u001b[92m[INFO] removing data/projs/doubleton2_9adbe2e346/base.z3/eb4e0cd7.smt2 \u001b[0m\n",
      "\u001b[92m[INFO] removing data/projs/doubleton2_9adbe2e346/base.z3/efb93dfc.smt2 \u001b[0m\n",
      "\u001b[92m[INFO] removing data/projs/doubleton2_9adbe2e346/base.z3/fe914aa4.smt2 \u001b[0m\n",
      "\u001b[92m[INFO] removing data/projs/doubleton2_b182e2a043/base.z3/0c0a8f0c.smt2 \u001b[0m\n",
      "\u001b[92m[INFO] removing data/projs/doubleton2_b182e2a043/base.z3/14cfe6c6.smt2 \u001b[0m\n",
      "\u001b[92m[INFO] removing data/projs/doubleton2_b182e2a043/base.z3/21dd6a0d.smt2 \u001b[0m\n",
      "\u001b[92m[INFO] removing data/projs/doubleton2_b182e2a043/base.z3/5e00937e.smt2 \u001b[0m\n",
      "\u001b[92m[INFO] removing data/projs/doubleton2_b182e2a043/base.z3/61110d0f.smt2 \u001b[0m\n",
      "\u001b[92m[INFO] removing data/projs/doubleton2_b182e2a043/base.z3/7bb9e2ce.smt2 \u001b[0m\n",
      "\u001b[92m[INFO] removing data/projs/doubleton2_b182e2a043/base.z3/7d8495bd.smt2 \u001b[0m\n",
      "\u001b[92m[INFO] removing data/projs/doubleton2_b182e2a043/base.z3/abbda0da.smt2 \u001b[0m\n",
      "\u001b[92m[INFO] removing data/projs/doubleton2_b182e2a043/base.z3/b806d853.smt2 \u001b[0m\n",
      "\u001b[92m[INFO] removing data/projs/doubleton2_b8ed14e0c5/base.z3/76598985.smt2 \u001b[0m\n",
      "\u001b[92m[INFO] removing data/projs/doubleton2_b8ed14e0c5/base.z3/db73f6c9.smt2 \u001b[0m\n",
      "\u001b[92m[INFO] removing data/projs/doubleton2_b8ed14e0c5/base.z3/f70c9370.smt2 \u001b[0m\n",
      "\u001b[92m[INFO] removing data/projs/doubleton_422a6c0817/base.z3/121d2ed5.smt2 \u001b[0m\n",
      "\u001b[92m[INFO] removing data/projs/doubleton_422a6c0817/base.z3/1687a8e4.smt2 \u001b[0m\n",
      "\u001b[92m[INFO] removing data/projs/doubleton_422a6c0817/base.z3/4efdb544.smt2 \u001b[0m\n",
      "\u001b[92m[INFO] removing data/projs/doubleton2_422a6c0817/base.z3/6553685d.smt2 \u001b[0m\n",
      "\u001b[92m[INFO] removing data/projs/doubleton2_422a6c0817/base.z3/714042b9.smt2 \u001b[0m\n",
      "\u001b[92m[INFO] removing data/projs/doubleton_422a6c0817/base.z3/88c3097e.smt2 \u001b[0m\n",
      "\u001b[92m[INFO] removing data/projs/doubleton_422a6c0817/base.z3/a90a7805.smt2 \u001b[0m\n",
      "\u001b[92m[INFO] removing data/projs/doubleton2_422a6c0817/base.z3/b2b0dd9a.smt2 \u001b[0m\n",
      "\u001b[92m[INFO] removing data/projs/doubleton_422a6c0817/base.z3/ba168673.smt2 \u001b[0m\n",
      "\u001b[92m[INFO] removing data/projs/doubleton_422a6c0817/base.z3/d144178c.smt2 \u001b[0m\n",
      "\u001b[92m[INFO] removing data/projs/doubleton2_422a6c0817/base.z3/e4800aa4.smt2 \u001b[0m\n",
      "\u001b[92m[INFO] removing data/projs/doubleton_422a6c0817/base.z3/e6dcaf0f.smt2 \u001b[0m\n",
      "\u001b[92m[INFO] removing data/projs/doubleton2_422a6c0817/base.z3/eafa6d9e.smt2 \u001b[0m\n",
      "\u001b[92m[INFO] removing data/projs/doubleton2_422a6c0817/base.z3/ef21947d.smt2 \u001b[0m\n"
     ]
    }
   ],
   "source": [
    "for q in mv.fixable:\n",
    "    mv[q].collect_garbage()"
   ]
  },
  {
   "cell_type": "code",
   "execution_count": null,
   "metadata": {},
   "outputs": [],
   "source": []
  }
 ],
 "metadata": {
  "kernelspec": {
   "display_name": "Python 3",
   "language": "python",
   "name": "python3"
  },
  "language_info": {
   "codemirror_mode": {
    "name": "ipython",
    "version": 3
   },
   "file_extension": ".py",
   "mimetype": "text/x-python",
   "name": "python",
   "nbconvert_exporter": "python",
   "pygments_lexer": "ipython3",
   "version": "3.8.10"
  }
 },
 "nbformat": 4,
 "nbformat_minor": 2
}
