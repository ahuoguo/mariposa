{
 "cells": [
  {
   "cell_type": "code",
   "execution_count": 3,
   "metadata": {},
   "outputs": [],
   "source": [
    "import sys, os\n",
    "\n",
    "sys.path.append(\"/home/yizhou7/mariposa/src\")\n",
    "os.chdir(\"/home/yizhou7/mariposa/\")\n",
    "\n",
    "from enum import Enum\n",
    "from collections import Counter\n",
    "\n",
    "from debugger.demo_utils import Report\n",
    "from debugger.debugger import Debugger, DbgMode\n",
    "from debugger.bench_viewer import BenchViewer\n",
    "from debugger.mutant_info import TraceFailure\n",
    "from utils.analysis_utils import Categorizer, fmt_percent\n",
    "from benchmark_consts import *"
   ]
  },
  {
   "cell_type": "code",
   "execution_count": 4,
   "metadata": {},
   "outputs": [],
   "source": [
    "revs = BenchViewer(FIXED_POINT_TARGETS, DbgMode.SINGLETON)"
   ]
  },
  {
   "cell_type": "code",
   "execution_count": null,
   "metadata": {},
   "outputs": [
    {
     "name": "stdout",
     "output_type": "stream",
     "text": [
      "Timeouts 299\n",
      "fixed by\n",
      "\terase: 76.59%\n",
      "\tinst: 72.91%\n",
      "\tboth: 49.83%\n",
      "\n",
      "Fast Unknowns 66\n",
      "fixed by\n",
      "\tinst: 96.97%\n",
      "\terase: 31.82%\n",
      "\tboth: 28.79%\n"
     ]
    }
   ],
   "source": [
    "def fixable_by_erase(r: Report):\n",
    "    assert len(r.stabilized) != 0\n",
    "    return \"erase\" in r.stabilized.action.values\n",
    "\n",
    "def fixable_by_inst(r: Report):\n",
    "    assert len(r.stabilized) != 0\n",
    "    return \"inst_keep\" in r.stabilized.action.values or \"inst_replace\" in r.stabilized.action.values\n",
    "\n",
    "to_fixes = Counter()\n",
    "uk_fixes = Counter()\n",
    "\n",
    "for k, rev in revs.items():\n",
    "    r = rev.build_report()\n",
    "\n",
    "    fixes = []\n",
    "\n",
    "    if fixable_by_erase(r):\n",
    "        fixes.append(\"erase\")\n",
    "    if fixable_by_inst(r):\n",
    "        fixes.append(\"inst\")\n",
    "\n",
    "    if len(fixes) == 2:\n",
    "        fixes.append(\"both\")\n",
    "\n",
    "    if k in f_modes[TraceFailure.FAST_UNKNOWN]:\n",
    "        uk_fixes.update(fixes)\n",
    "    elif k in f_modes[TraceFailure.TIMEOUT]:\n",
    "        to_fixes.update(fixes)\n",
    "\n",
    "to_count = len(f_modes[TraceFailure.TIMEOUT])\n",
    "\n",
    "print(\"Timeouts\", to_count)\n",
    "print(\"fixed by\")\n",
    "for i in sorted(to_fixes, key=lambda x: to_fixes[x], reverse=True):\n",
    "    print(f\"\\t{i}:\", fmt_percent(to_fixes[i], to_count))\n",
    "\n",
    "print(\"\")\n",
    "\n",
    "uk_count = len(f_modes[TraceFailure.FAST_UNKNOWN])\n",
    "print(\"Fast Unknowns\", uk_count)\n",
    "print(\"fixed by\")\n",
    "for i in sorted(uk_fixes, key=lambda x: uk_fixes[x], reverse=True):\n",
    "    print(f\"\\t{i}:\", fmt_percent(uk_fixes[i], uk_count))"
   ]
  },
  {
   "cell_type": "code",
   "execution_count": 8,
   "metadata": {},
   "outputs": [
    {
     "name": "stdout",
     "output_type": "stream",
     "text": [
      "./src/debugger3.py -i data/projs/bench_unstable/base.z3/fs_dice--queries-ASN1.Spec.Tag-2.smt2 --build-ratios\n",
      "./src/debugger3.py -i data/projs/bench_unstable/base.z3/d_fvbkv--lib-Buckets-BucketsLib.i.dfy.Impl__BucketsLib.__default.SplitBucketOnPivotsAt.smt2 --build-ratios\n",
      "./src/debugger3.py -i data/projs/bench_unstable/base.z3/d_fvbkv--lib-Buckets-BucketImpl.i.dfy.Impl__BucketImpl.MutBucket.WFBucketAt.smt2 --build-ratios\n",
      "./src/debugger3.py -i data/projs/bench_unstable/base.z3/d_lvbkv--lib-Lang-System-PackedInts.s.dfy.CheckWellformed__NativePackedInts.__default.unpack__LittleEndian__Uint32__Seq.smt2 --build-ratios\n",
      "./src/debugger3.py -i data/projs/bench_unstable/base.z3/d_fvbkv--lib-Marshalling-GenericMarshalling.i.dfy.Impl__GenericMarshalling.__default.MarshallCase_split0.smt2 --build-ratios\n",
      "./src/debugger3.py -i data/projs/bench_unstable/base.z3/d_lvbkv--MapSpec-TSJ.i.dfy.Impl__TSJ.__default.Move1to2StepPreservesInv.smt2 --build-ratios\n",
      "./src/debugger3.py -i data/projs/bench_unstable/base.z3/d_fvbkv--lib-Marshalling-GenericMarshalling.i.dfy.Impl__GenericMarshalling.__default.MarshallCase.smt2 --build-ratios\n",
      "./src/debugger3.py -i data/projs/bench_unstable/base.z3/d_fvbkv--lib-Buckets-PackedStringArray.i.dfy.Impl__PackedStringArray.__default.IndexOfFirstKeyGte.smt2 --build-ratios\n",
      "./src/debugger3.py -i data/projs/bench_unstable/base.z3/d_lvbkv--lib-Base-Sequences.i.dfy.Impl__Sequences.__default.UnflattenIndexIsCorrect.smt2 --build-ratios\n",
      "./src/debugger3.py -i data/projs/bench_unstable/base.z3/d_lvbkv--Impl-JournalistImpl.i.dfy.Impl__JournalistImpl.Journalist.packageFrozenJournal.smt2 --build-ratios\n",
      "\u001b[92m[INFO] [graph] found dbg/0c00bb9db6/graphs/shuffle.16045602345414475465.txt \u001b[0m\n",
      "\u001b[92m[INFO] [stats] found dbg/0c00bb9db6/stats/shuffle.16045602345414475465.txt \u001b[0m\n",
      "\u001b[92m[INFO] [graph] found dbg/31258859ac/graphs/reseed.12893525509907531484.txt \u001b[0m\n",
      "\u001b[92m[INFO] [stats] found dbg/31258859ac/stats/reseed.12893525509907531484.txt \u001b[0m\n",
      "\u001b[92m[INFO] [graph] found dbg/9b9277bc39/graphs/rename.7757314602243875533.txt \u001b[0m\n",
      "\u001b[92m[INFO] [stats] found dbg/9b9277bc39/stats/rename.7757314602243875533.txt \u001b[0m\n",
      "\u001b[92m[INFO] [graph] found dbg/60095b1a59/graphs/rename.233522003166429942.txt \u001b[0m\n",
      "\u001b[92m[INFO] [stats] found dbg/60095b1a59/stats/rename.233522003166429942.txt \u001b[0m\n",
      "\u001b[92m[INFO] [graph] found dbg/2ba7cc6a6a/graphs/rename.8870980170150643446.txt \u001b[0m\n",
      "\u001b[92m[INFO] [stats] found dbg/2ba7cc6a6a/stats/rename.8870980170150643446.txt \u001b[0m\n",
      "\u001b[92m[INFO] [graph] found dbg/915d51eada/graphs/rename.8310869426903442429.txt \u001b[0m\n",
      "\u001b[92m[INFO] [stats] found dbg/915d51eada/stats/rename.8310869426903442429.txt \u001b[0m\n",
      "\u001b[92m[INFO] [graph] found dbg/0b346d0f87/graphs/reseed.932363095334503815.txt \u001b[0m\n",
      "\u001b[92m[INFO] [stats] found dbg/0b346d0f87/stats/reseed.932363095334503815.txt \u001b[0m\n",
      "\u001b[92m[INFO] [graph] found dbg/7e4d6827ed/graphs/rename.2650955315848599017.txt \u001b[0m\n",
      "\u001b[92m[INFO] [stats] found dbg/7e4d6827ed/stats/rename.2650955315848599017.txt \u001b[0m\n",
      "\u001b[92m[INFO] [graph] found dbg/52bd8e7cb8/graphs/rename.3167776918144989951.txt \u001b[0m\n",
      "\u001b[92m[INFO] [stats] found dbg/52bd8e7cb8/stats/rename.3167776918144989951.txt \u001b[0m\u001b[92m[INFO] [graph] found dbg/085a5fa6a3/graphs/rename.17388463895667512101.txt \u001b[0m\n",
      "\n",
      "\u001b[92m[INFO] [stats] found dbg/085a5fa6a3/stats/rename.17388463895667512101.txt \u001b[0m\n",
      "\u001b[92m[INFO] [graph] found dbg/19e7b4a644/graphs/reseed.6283199569595562931.txt \u001b[0m\n",
      "\u001b[92m[INFO] [stats] found dbg/19e7b4a644/stats/reseed.6283199569595562931.txt \u001b[0m\n",
      "\u001b[92m[INFO] [graph] found dbg/031b71b1cf/graphs/shuffle.13237508561428951597.txt \u001b[0m\n",
      "\u001b[92m[INFO] [stats] found dbg/031b71b1cf/stats/shuffle.13237508561428951597.txt \u001b[0m\n",
      "\u001b[92m[INFO] [graph] found dbg/1752022f42/graphs/shuffle.4520032826561064671.txt \u001b[0m\n",
      "\u001b[92m[INFO] [stats] found dbg/1752022f42/stats/shuffle.4520032826561064671.txt \u001b[0m\n",
      "\u001b[92m[INFO] [graph] found dbg/0416307c14/graphs/reseed.3770114406304595427.txt \u001b[0m\n",
      "\u001b[92m[INFO] [stats] found dbg/0416307c14/stats/reseed.3770114406304595427.txt \u001b[0m\n",
      "\u001b[92m[INFO] [graph] found dbg/c066e22df7/graphs/shuffle.15908318172718803629.txt \u001b[0m\n",
      "\u001b[92m[INFO] [stats] found dbg/c066e22df7/stats/shuffle.15908318172718803629.txt \u001b[0m\n",
      "\u001b[92m[INFO] [graph] found dbg/e695dc7eeb/graphs/rename.12337785273910422155.txt \u001b[0m\n",
      "\u001b[92m[INFO] [stats] found dbg/e695dc7eeb/stats/rename.12337785273910422155.txt \u001b[0m\n",
      "\u001b[92m[INFO] [graph] found dbg/59dd7b549d/graphs/reseed.1846462076868125807.txt \u001b[0m\n",
      "\u001b[92m[INFO] [stats] found dbg/59dd7b549d/stats/reseed.1846462076868125807.txt \u001b[0m\u001b[92m[INFO] [graph] found dbg/4c2945c620/graphs/reseed.11328584598015576188.txt \u001b[0m\n",
      "\n",
      "\u001b[92m[INFO] [stats] found dbg/4c2945c620/stats/reseed.11328584598015576188.txt \u001b[0m\n",
      "\u001b[92m[INFO] [graph] found dbg/22188d7780/graphs/reseed.5693230301860012882.txt \u001b[0m\n",
      "\u001b[92m[INFO] [stats] found dbg/22188d7780/stats/reseed.5693230301860012882.txt \u001b[0m\n",
      "\u001b[92m[INFO] [graph] found dbg/7e492ef45f/graphs/reseed.14319623422940531383.txt \u001b[0m\n",
      "\u001b[92m[INFO] [graph] found dbg/28b317196a/graphs/rename.1528401476825437758.txt \u001b[0m\u001b[92m[INFO] [stats] found dbg/7e492ef45f/stats/reseed.14319623422940531383.txt \u001b[0m\n",
      "\n",
      "\u001b[92m[INFO] [stats] found dbg/28b317196a/stats/rename.1528401476825437758.txt \u001b[0m\n",
      "\u001b[92m[INFO] [graph] found dbg/1ebe5e3244/graphs/rename.4663868564920567471.txt \u001b[0m\n",
      "\u001b[92m[INFO] [stats] found dbg/1ebe5e3244/stats/rename.4663868564920567471.txt \u001b[0m\n",
      "\u001b[92m[INFO] [graph] found dbg/bfa5905941/graphs/reseed.7193971313638034873.txt \u001b[0m\n",
      "\u001b[92m[INFO] [stats] found dbg/bfa5905941/stats/reseed.7193971313638034873.txt \u001b[0m\n",
      "\u001b[92m[INFO] [graph] found dbg/7eea650229/graphs/shuffle.9180479879014642137.txt \u001b[0m\n",
      "\u001b[92m[INFO] [graph] found dbg/543c83b4e6/graphs/shuffle.8251746023699353031.txt \u001b[0m\u001b[92m[INFO] [stats] found dbg/7eea650229/stats/shuffle.9180479879014642137.txt \u001b[0m\n",
      "\n",
      "\u001b[92m[INFO] [stats] found dbg/543c83b4e6/stats/shuffle.8251746023699353031.txt \u001b[0m\n",
      "\u001b[92m[INFO] [graph] found dbg/d0c54edf56/graphs/rename.10010700628205224634.txt \u001b[0m\n",
      "\u001b[92m[INFO] [stats] found dbg/d0c54edf56/stats/rename.10010700628205224634.txt \u001b[0m\n",
      "\u001b[92m[INFO] [graph] found dbg/740fdc77a1/graphs/reseed.7557889249764362045.txt \u001b[0m\n",
      "\u001b[92m[INFO] [stats] found dbg/740fdc77a1/stats/reseed.7557889249764362045.txt \u001b[0m\n",
      "\u001b[92m[INFO] [graph] found dbg/738511822f/graphs/rename.14593727737091540123.txt \u001b[0m\n",
      "\u001b[92m[INFO] [stats] found dbg/738511822f/stats/rename.14593727737091540123.txt \u001b[0m\n",
      "\u001b[92m[INFO] [graph] found dbg/81f91a69f2/graphs/shuffle.5082632288402669168.txt \u001b[0m\n",
      "\u001b[92m[INFO] [stats] found dbg/81f91a69f2/stats/shuffle.5082632288402669168.txt \u001b[0m\u001b[92m[INFO] [graph] found dbg/1fc9b21323/graphs/reseed.7956714593226895613.txt \u001b[0m\n",
      "\n",
      "\u001b[92m[INFO] [stats] found dbg/1fc9b21323/stats/reseed.7956714593226895613.txt \u001b[0m\n",
      "\u001b[92m[INFO] [graph] found dbg/5c1612881d/graphs/shuffle.460864137482805991.txt \u001b[0m\n",
      "\u001b[92m[INFO] [stats] found dbg/5c1612881d/stats/shuffle.460864137482805991.txt \u001b[0m\n",
      "\u001b[92m[INFO] [graph] found dbg/c7dd9386ea/graphs/reseed.2006818907980506151.txt \u001b[0m\n",
      "\u001b[92m[INFO] [stats] found dbg/c7dd9386ea/stats/reseed.2006818907980506151.txt \u001b[0m\n",
      "\u001b[92m[INFO] [graph] found dbg/61fbd4977f/graphs/rename.15730873149646274398.txt \u001b[0m\n",
      "\u001b[92m[INFO] [stats] found dbg/61fbd4977f/stats/rename.15730873149646274398.txt \u001b[0m\n",
      "\u001b[92m[INFO] [graph] found dbg/f5fa3eaaf7/graphs/reseed.4000569026390612935.txt \u001b[0m\n",
      "\u001b[92m[INFO] [stats] found dbg/f5fa3eaaf7/stats/reseed.4000569026390612935.txt \u001b[0m\n",
      "\u001b[92m[INFO] [graph] found dbg/d96ff98f2e/graphs/shuffle.8490532334198907405.txt \u001b[0m\n",
      "\u001b[92m[INFO] [stats] found dbg/d96ff98f2e/stats/shuffle.8490532334198907405.txt \u001b[0m\n",
      "\u001b[92m[INFO] [graph] found dbg/05c075acd8/graphs/rename.9268348378609679844.txt \u001b[0m\n",
      "\u001b[92m[INFO] [stats] found dbg/05c075acd8/stats/rename.9268348378609679844.txt \u001b[0m\n",
      "\u001b[92m[INFO] [graph] found dbg/fdcfb278f8/graphs/rename.13594360814195077572.txt \u001b[0m\n",
      "\u001b[92m[INFO] [graph] found dbg/ffb00a9e92/graphs/rename.10967973099593614156.txt \u001b[0m\n",
      "\u001b[92m[INFO] [stats] found dbg/fdcfb278f8/stats/rename.13594360814195077572.txt \u001b[0m\u001b[92m[INFO] [stats] found dbg/ffb00a9e92/stats/rename.10967973099593614156.txt \u001b[0m\n",
      "\n",
      "\u001b[92m[INFO] [graph] found dbg/a40c2ef0b3/graphs/rename.2941562305298051460.txt \u001b[0m\n",
      "\u001b[92m[INFO] [stats] found dbg/a40c2ef0b3/stats/rename.2941562305298051460.txt \u001b[0m\n",
      "\u001b[92m[INFO] [graph] found dbg/11e4bbf583/graphs/rename.8353185229754512729.txt \u001b[0m\n",
      "\u001b[92m[INFO] [stats] found dbg/11e4bbf583/stats/rename.8353185229754512729.txt \u001b[0m\n",
      "\u001b[92m[INFO] [graph] found dbg/f986501402/graphs/reseed.7353657254794793607.txt \u001b[0m\n",
      "\u001b[92m[INFO] [stats] found dbg/f986501402/stats/reseed.7353657254794793607.txt \u001b[0m\n",
      "\u001b[92m[INFO] [graph] found dbg/a854e6c8ad/graphs/reseed.13223772761810635505.txt \u001b[0m\n",
      "\u001b[92m[INFO] [stats] found dbg/a854e6c8ad/stats/reseed.13223772761810635505.txt \u001b[0m\n",
      "\u001b[92m[INFO] [graph] found dbg/a213073776/graphs/rename.10948837848545330470.txt \u001b[0m\n",
      "\u001b[92m[INFO] [stats] found dbg/a213073776/stats/rename.10948837848545330470.txt \u001b[0m\n",
      "\u001b[92m[INFO] [graph] found dbg/3fdafd8cf5/graphs/reseed.17897344062365507513.txt \u001b[0m\n",
      "\u001b[92m[INFO] [stats] found dbg/3fdafd8cf5/stats/reseed.17897344062365507513.txt \u001b[0m\n",
      "\u001b[92m[INFO] [graph] found dbg/2f6a6b82e9/graphs/rename.4920516796926821999.txt \u001b[0m\n",
      "\u001b[92m[INFO] [stats] found dbg/2f6a6b82e9/stats/rename.4920516796926821999.txt \u001b[0m\n",
      "\u001b[92m[INFO] [graph] found dbg/37eddcb7ab/graphs/reseed.8970477511145391254.txt \u001b[0m\n",
      "\u001b[92m[INFO] [stats] found dbg/37eddcb7ab/stats/reseed.8970477511145391254.txt \u001b[0m\n",
      "\u001b[92m[INFO] [graph] found dbg/f81ecefbe1/graphs/reseed.13832845188848596848.txt \u001b[0m\n",
      "\u001b[92m[INFO] [stats] found dbg/f81ecefbe1/stats/reseed.13832845188848596848.txt \u001b[0m\n",
      "\u001b[92m[INFO] [graph] found dbg/b0d1db8445/graphs/reseed.13819721299956445352.txt \u001b[0m\n",
      "\u001b[92m[INFO] [stats] found dbg/b0d1db8445/stats/reseed.13819721299956445352.txt \u001b[0m\n",
      "\u001b[92m[INFO] [graph] found dbg/a7a2dc0c2d/graphs/rename.11580060404683170062.txt \u001b[0m\n",
      "\u001b[92m[INFO] [stats] found dbg/a7a2dc0c2d/stats/rename.11580060404683170062.txt \u001b[0m\n",
      "\u001b[92m[INFO] [graph] found dbg/9fe662b14c/graphs/shuffle.1780632862670217874.txt \u001b[0m\n",
      "\u001b[92m[INFO] [stats] found dbg/9fe662b14c/stats/shuffle.1780632862670217874.txt \u001b[0m\n",
      "\u001b[92m[INFO] [graph] found dbg/1dbfa93b6f/graphs/reseed.4219672969166401920.txt \u001b[0m\n",
      "\u001b[92m[INFO] [stats] found dbg/1dbfa93b6f/stats/reseed.4219672969166401920.txt \u001b[0m\n",
      "\u001b[92m[INFO] [graph] found dbg/20983514ab/graphs/reseed.179325957418306299.txt \u001b[0m\n",
      "\u001b[92m[INFO] [graph] found dbg/068433d26a/graphs/shuffle.7708243147585626459.txt \u001b[0m\n",
      "\u001b[92m[INFO] [stats] found dbg/068433d26a/stats/shuffle.7708243147585626459.txt \u001b[0m\u001b[92m[INFO] [stats] found dbg/20983514ab/stats/reseed.179325957418306299.txt \u001b[0m\n",
      "\n",
      "\u001b[92m[INFO] [graph] found dbg/90880e63b7/graphs/rename.7719249821608117345.txt \u001b[0m\n",
      "\u001b[92m[INFO] [graph] found dbg/87c4d05add/graphs/rename.1014337129461737306.txt \u001b[0m\n",
      "\u001b[92m[INFO] [stats] found dbg/87c4d05add/stats/rename.1014337129461737306.txt \u001b[0m\u001b[92m[INFO] [stats] found dbg/90880e63b7/stats/rename.7719249821608117345.txt \u001b[0m\n",
      "\n",
      "\u001b[92m[INFO] [graph] found dbg/3d19b7e2c9/graphs/rename.6870057764813431599.txt \u001b[0m\n",
      "\u001b[92m[INFO] [stats] found dbg/3d19b7e2c9/stats/rename.6870057764813431599.txt \u001b[0m\n",
      "\u001b[92m[INFO] [graph] found dbg/65bb77f5f3/graphs/rename.18281848178928409521.txt \u001b[0m\n",
      "\u001b[92m[INFO] [stats] found dbg/65bb77f5f3/stats/rename.18281848178928409521.txt \u001b[0m\n",
      "\u001b[92m[INFO] [graph] found dbg/6f6c55d971/graphs/rename.9847214761806246184.txt \u001b[0m\n",
      "\u001b[92m[INFO] [stats] found dbg/6f6c55d971/stats/rename.9847214761806246184.txt \u001b[0m\n",
      "\u001b[92m[INFO] [graph] found dbg/270b8c3ed1/graphs/reseed.2965880994741944579.txt \u001b[0m\n",
      "\u001b[92m[INFO] [stats] found dbg/270b8c3ed1/stats/reseed.2965880994741944579.txt \u001b[0m\n",
      "\u001b[92m[INFO] [graph] found dbg/05641d2609/graphs/reseed.18155007635252011594.txt \u001b[0m\n",
      "\u001b[92m[INFO] [stats] found dbg/05641d2609/stats/reseed.18155007635252011594.txt \u001b[0m\n",
      "\u001b[92m[INFO] [graph] found dbg/7798796cc9/graphs/rename.12744081367476088722.txt \u001b[0m\n",
      "\u001b[92m[INFO] [stats] found dbg/7798796cc9/stats/rename.12744081367476088722.txt \u001b[0m\u001b[92m[INFO] [graph] found dbg/e41d0ee45e/graphs/rename.4363698186657302356.txt \u001b[0m\n",
      "\n",
      "\u001b[92m[INFO] [stats] found dbg/e41d0ee45e/stats/rename.4363698186657302356.txt \u001b[0m\n",
      "\u001b[92m[INFO] [graph] found dbg/4399a84f2c/graphs/rename.16021850648798214742.txt \u001b[0m\n",
      "\u001b[92m[INFO] [stats] found dbg/4399a84f2c/stats/rename.16021850648798214742.txt \u001b[0m\n",
      "\u001b[92m[INFO] [graph] found dbg/3296ed07d9/graphs/rename.10816349156688617331.txt \u001b[0m\n",
      "\u001b[92m[INFO] [stats] found dbg/3296ed07d9/stats/rename.10816349156688617331.txt \u001b[0m\n",
      "\u001b[92m[INFO] [graph] found dbg/2d98098a21/graphs/rename.6233433550431467542.txt \u001b[0m\n",
      "\u001b[92m[INFO] [stats] found dbg/2d98098a21/stats/rename.6233433550431467542.txt \u001b[0m\n",
      "\u001b[92m[INFO] [graph] found dbg/0e3ac592f3/graphs/rename.3760656073266869077.txt \u001b[0m\u001b[92m[INFO] [graph] found dbg/d1b83603db/graphs/reseed.14968328241514836817.txt \u001b[0m\n",
      "\n",
      "\u001b[92m[INFO] [stats] found dbg/0e3ac592f3/stats/rename.3760656073266869077.txt \u001b[0m\u001b[92m[INFO] [stats] found dbg/d1b83603db/stats/reseed.14968328241514836817.txt \u001b[0m\n",
      "\n",
      "\u001b[92m[INFO] [graph] found dbg/1c167aafa9/graphs/rename.3824362145204496013.txt \u001b[0m\n",
      "\u001b[92m[INFO] [stats] found dbg/1c167aafa9/stats/rename.3824362145204496013.txt \u001b[0m\n",
      "\u001b[92m[INFO] [graph] found dbg/5add81d45d/graphs/reseed.17725377549280192392.txt \u001b[0m\n",
      "\u001b[92m[INFO] [stats] found dbg/5add81d45d/stats/reseed.17725377549280192392.txt \u001b[0m\n",
      "\u001b[92m[INFO] [graph] found dbg/6b83ccf507/graphs/rename.4238664114151108451.txt \u001b[0m\n",
      "\u001b[92m[INFO] [stats] found dbg/6b83ccf507/stats/rename.4238664114151108451.txt \u001b[0m\n",
      "\u001b[92m[INFO] [graph] found dbg/8cd183cebe/graphs/rename.8186106969378481832.txt \u001b[0m\n",
      "\u001b[92m[INFO] [stats] found dbg/8cd183cebe/stats/rename.8186106969378481832.txt \u001b[0m\n",
      "\u001b[92m[INFO] [graph] found dbg/36a1859f27/graphs/shuffle.10905792018677473094.txt \u001b[0m\n",
      "\u001b[92m[INFO] [stats] found dbg/36a1859f27/stats/shuffle.10905792018677473094.txt \u001b[0m\n",
      "\u001b[92m[INFO] [graph] found dbg/0ad8073737/graphs/rename.16966919460295343675.txt \u001b[0m\n",
      "\u001b[92m[INFO] [stats] found dbg/0ad8073737/stats/rename.16966919460295343675.txt \u001b[0m\n",
      "\u001b[92m[INFO] [graph] found dbg/caf3ffb720/graphs/reseed.3209298144442336587.txt \u001b[0m\n",
      "\u001b[92m[INFO] [stats] found dbg/caf3ffb720/stats/reseed.3209298144442336587.txt \u001b[0m\n",
      "\u001b[92m[INFO] [graph] found dbg/b920f021f6/graphs/rename.3541321123297063163.txt \u001b[0m\n",
      "\u001b[92m[INFO] [stats] found dbg/b920f021f6/stats/rename.3541321123297063163.txt \u001b[0m\n",
      "\u001b[92m[INFO] [graph] found dbg/cd0ec39156/graphs/rename.6332080067569627242.txt \u001b[0m\n",
      "\u001b[92m[INFO] [stats] found dbg/cd0ec39156/stats/rename.6332080067569627242.txt \u001b[0m\n",
      "\u001b[92m[INFO] [graph] found dbg/eff0b44ea2/graphs/shuffle.661977216366254548.txt \u001b[0m\n",
      "\u001b[92m[INFO] [stats] found dbg/eff0b44ea2/stats/shuffle.661977216366254548.txt \u001b[0m\n",
      "\u001b[92m[INFO] [graph] found dbg/2d513d1a0e/graphs/rename.2013343338892239418.txt \u001b[0m\n",
      "\u001b[92m[INFO] [stats] found dbg/2d513d1a0e/stats/rename.2013343338892239418.txt \u001b[0m\n",
      "\u001b[92m[INFO] [graph] found dbg/e0ef4bae19/graphs/rename.7908940692153966386.txt \u001b[0m\n",
      "\u001b[92m[INFO] [stats] found dbg/e0ef4bae19/stats/rename.7908940692153966386.txt \u001b[0m\n",
      "\u001b[92m[INFO] [graph] found dbg/0e45874c62/graphs/rename.18336980062922344721.txt \u001b[0m\n",
      "\u001b[92m[INFO] [stats] found dbg/0e45874c62/stats/rename.18336980062922344721.txt \u001b[0m\n",
      "\u001b[92m[INFO] [graph] found dbg/c5b6c95d49/graphs/rename.2640052454127014871.txt \u001b[0m\n",
      "\u001b[92m[INFO] [stats] found dbg/c5b6c95d49/stats/rename.2640052454127014871.txt \u001b[0m\n",
      "\u001b[92m[INFO] [graph] found dbg/802c68cc26/graphs/reseed.2674813137586048871.txt \u001b[0m\n",
      "\u001b[92m[INFO] [stats] found dbg/802c68cc26/stats/reseed.2674813137586048871.txt \u001b[0m\n",
      "\u001b[92m[INFO] [graph] found dbg/1ce0be0d98/graphs/reseed.2307700153154034452.txt \u001b[0m\n",
      "\u001b[92m[INFO] [stats] found dbg/1ce0be0d98/stats/reseed.2307700153154034452.txt \u001b[0m\n",
      "\u001b[92m[INFO] [graph] found dbg/4eec50bfef/graphs/rename.15172912595943248808.txt \u001b[0m\n",
      "\u001b[92m[INFO] [stats] found dbg/4eec50bfef/stats/rename.15172912595943248808.txt \u001b[0m\n",
      "\u001b[92m[INFO] [graph] found dbg/d367d79e56/graphs/rename.9682681449220384341.txt \u001b[0m\n",
      "\u001b[92m[INFO] [stats] found dbg/d367d79e56/stats/rename.9682681449220384341.txt \u001b[0m\n",
      "\u001b[92m[INFO] [graph] found dbg/2d9d740dd9/graphs/rename.4293369832202817795.txt \u001b[0m\n",
      "\u001b[92m[INFO] [graph] found dbg/d8cf640f87/graphs/reseed.11435796152647895497.txt \u001b[0m\u001b[92m[INFO] [stats] found dbg/2d9d740dd9/stats/rename.4293369832202817795.txt \u001b[0m\n",
      "\n",
      "\u001b[92m[INFO] [stats] found dbg/d8cf640f87/stats/reseed.11435796152647895497.txt \u001b[0m\n",
      "\u001b[92m[INFO] [graph] found dbg/b546a78766/graphs/reseed.4421362317854273002.txt \u001b[0m\n",
      "\u001b[92m[INFO] [stats] found dbg/b546a78766/stats/reseed.4421362317854273002.txt \u001b[0m\n",
      "\u001b[92m[INFO] [graph] found dbg/b96ad66775/graphs/rename.10997626924201828026.txt \u001b[0m\n",
      "\u001b[92m[INFO] [stats] found dbg/b96ad66775/stats/rename.10997626924201828026.txt \u001b[0m\n",
      "\u001b[92m[INFO] [graph] found dbg/39c8cf4676/graphs/reseed.8913405879665058818.txt \u001b[0m\n",
      "\u001b[92m[INFO] [stats] found dbg/39c8cf4676/stats/reseed.8913405879665058818.txt \u001b[0m\n",
      "\u001b[92m[INFO] [graph] found dbg/158af610a6/graphs/reseed.6001740612569314805.txt \u001b[0m\n",
      "\u001b[92m[INFO] [stats] found dbg/158af610a6/stats/reseed.6001740612569314805.txt \u001b[0m\u001b[92m[INFO] [graph] found dbg/28f9cbda22/graphs/reseed.3754922516857340628.txt \u001b[0m\n",
      "\n",
      "\u001b[92m[INFO] [stats] found dbg/28f9cbda22/stats/reseed.3754922516857340628.txt \u001b[0m\n",
      "\u001b[92m[INFO] [graph] found dbg/f2162eddbb/graphs/rename.17400467863704498039.txt \u001b[0m\n",
      "\u001b[92m[INFO] [stats] found dbg/f2162eddbb/stats/rename.17400467863704498039.txt \u001b[0m\n",
      "\u001b[92m[INFO] [graph] found dbg/92bd652a7c/graphs/reseed.10120040148933676715.txt \u001b[0m\n",
      "\u001b[92m[INFO] [stats] found dbg/92bd652a7c/stats/reseed.10120040148933676715.txt \u001b[0m\n",
      "\u001b[92m[INFO] [graph] found dbg/926dcc2129/graphs/shuffle.11908414211697235530.txt \u001b[0m\n",
      "\u001b[92m[INFO] [stats] found dbg/926dcc2129/stats/shuffle.11908414211697235530.txt \u001b[0m\n",
      "\u001b[92m[INFO] [graph] found dbg/0556ae8c88/graphs/rename.13274377163016575201.txt \u001b[0m\n",
      "\u001b[92m[INFO] [stats] found dbg/0556ae8c88/stats/rename.13274377163016575201.txt \u001b[0m\n",
      "\u001b[92m[INFO] [graph] found dbg/112938db3c/graphs/reseed.5081377722185706276.txt \u001b[0m\n",
      "\u001b[92m[INFO] [stats] found dbg/112938db3c/stats/reseed.5081377722185706276.txt \u001b[0m\n",
      "\u001b[92m[INFO] [graph] found dbg/630625681a/graphs/shuffle.4089189997914380308.txt \u001b[0m\n",
      "\u001b[92m[INFO] [stats] found dbg/630625681a/stats/shuffle.4089189997914380308.txt \u001b[0m\n",
      "\u001b[92m[INFO] [graph] found dbg/9b55212ceb/graphs/rename.1166178519093358030.txt \u001b[0m\n",
      "\u001b[92m[INFO] [stats] found dbg/9b55212ceb/stats/rename.1166178519093358030.txt \u001b[0m\n",
      "\u001b[92m[INFO] [graph] found dbg/557e72f7ae/graphs/rename.13801310677555148820.txt \u001b[0m\n",
      "\u001b[92m[INFO] [stats] found dbg/557e72f7ae/stats/rename.13801310677555148820.txt \u001b[0m\n",
      "\u001b[92m[INFO] [graph] found dbg/93815c9e8c/graphs/rename.1350392901976709294.txt \u001b[0m\n",
      "\u001b[92m[INFO] [stats] found dbg/93815c9e8c/stats/rename.1350392901976709294.txt \u001b[0m\n",
      "\u001b[92m[INFO] [graph] found dbg/1b1f6c70ba/graphs/rename.3034584958425939504.txt \u001b[0m\n",
      "\u001b[92m[INFO] [stats] found dbg/1b1f6c70ba/stats/rename.3034584958425939504.txt \u001b[0m\n",
      "\u001b[92m[INFO] [graph] found dbg/11435d7e73/graphs/reseed.14954550654701837558.txt \u001b[0m\n",
      "\u001b[92m[INFO] [stats] found dbg/11435d7e73/stats/reseed.14954550654701837558.txt \u001b[0m\n",
      "\u001b[92m[INFO] [graph] found dbg/72139a143b/graphs/rename.8478181445676731677.txt \u001b[0m\n",
      "\u001b[92m[INFO] [stats] found dbg/72139a143b/stats/rename.8478181445676731677.txt \u001b[0m\n",
      "\u001b[92m[INFO] [graph] found dbg/e1c4753770/graphs/rename.12713942190160441903.txt \u001b[0m\n",
      "\u001b[92m[INFO] [stats] found dbg/e1c4753770/stats/rename.12713942190160441903.txt \u001b[0m\n",
      "\u001b[92m[INFO] [graph] found dbg/fbd113c34b/graphs/reseed.2817173411536348375.txt \u001b[0m\n",
      "\u001b[92m[INFO] [stats] found dbg/fbd113c34b/stats/reseed.2817173411536348375.txt \u001b[0m\n",
      "\u001b[92m[INFO] [graph] found dbg/93c0449639/graphs/reseed.12601134414593076147.txt \u001b[0m\n",
      "\u001b[92m[INFO] [stats] found dbg/93c0449639/stats/reseed.12601134414593076147.txt \u001b[0m\n",
      "\u001b[92m[INFO] [graph] found dbg/7492404d65/graphs/reseed.3662971243956862967.txt \u001b[0m\n",
      "\u001b[92m[INFO] [stats] found dbg/7492404d65/stats/reseed.3662971243956862967.txt \u001b[0m\n",
      "\u001b[92m[INFO] [graph] found dbg/61daeac2cb/graphs/rename.17286037184525462726.txt \u001b[0m\n",
      "\u001b[92m[INFO] [stats] found dbg/61daeac2cb/stats/rename.17286037184525462726.txt \u001b[0m\n",
      "\u001b[92m[INFO] [graph] found dbg/676f102c30/graphs/rename.4518641674912478480.txt \u001b[0m\n",
      "\u001b[92m[INFO] [stats] found dbg/676f102c30/stats/rename.4518641674912478480.txt \u001b[0m\n",
      "\u001b[92m[INFO] [graph] found dbg/667b2b80fe/graphs/rename.12228646507446381259.txt \u001b[0m\n",
      "\u001b[92m[INFO] [stats] found dbg/667b2b80fe/stats/rename.12228646507446381259.txt \u001b[0m\n",
      "\u001b[92m[INFO] [graph] found dbg/17904af761/graphs/reseed.10182284842053420201.txt \u001b[0m\n",
      "\u001b[92m[INFO] [stats] found dbg/17904af761/stats/reseed.10182284842053420201.txt \u001b[0m\n",
      "\u001b[92m[INFO] [graph] found dbg/70b04e001b/graphs/rename.11947260446034581898.txt \u001b[0m\n",
      "\u001b[92m[INFO] [stats] found dbg/70b04e001b/stats/rename.11947260446034581898.txt \u001b[0m\n",
      "\u001b[92m[INFO] [graph] found dbg/58a0fdb9fc/graphs/rename.2209865498891692315.txt \u001b[0m\n",
      "\u001b[92m[INFO] [stats] found dbg/58a0fdb9fc/stats/rename.2209865498891692315.txt \u001b[0m\n",
      "\u001b[92m[INFO] [graph] found dbg/67d8d6de26/graphs/shuffle.5283321431556533678.txt \u001b[0m\n",
      "\u001b[92m[INFO] [stats] found dbg/67d8d6de26/stats/shuffle.5283321431556533678.txt \u001b[0m\n",
      "\u001b[92m[INFO] [graph] found dbg/49665b0459/graphs/shuffle.8487013564747545579.txt \u001b[0m\n",
      "\u001b[92m[INFO] [stats] found dbg/49665b0459/stats/shuffle.8487013564747545579.txt \u001b[0m\n",
      "\u001b[92m[INFO] [graph] found dbg/4ddbe507f4/graphs/rename.10249441635833705808.txt \u001b[0m\n",
      "\u001b[92m[INFO] [stats] found dbg/4ddbe507f4/stats/rename.10249441635833705808.txt \u001b[0m\n",
      "\u001b[92m[INFO] [graph] found dbg/93954d4dad/graphs/shuffle.12496866318154588341.txt \u001b[0m\n",
      "\u001b[92m[INFO] [stats] found dbg/93954d4dad/stats/shuffle.12496866318154588341.txt \u001b[0m\n",
      "\u001b[92m[INFO] [graph] found dbg/9af86b2cd6/graphs/reseed.17739796024657690122.txt \u001b[0m\n",
      "\u001b[92m[INFO] [stats] found dbg/9af86b2cd6/stats/reseed.17739796024657690122.txt \u001b[0m\n",
      "\u001b[92m[INFO] [graph] found dbg/059d8a76e6/graphs/rename.7273341409831257884.txt \u001b[0m\n",
      "\u001b[92m[INFO] [stats] found dbg/059d8a76e6/stats/rename.7273341409831257884.txt \u001b[0m\n",
      "\u001b[92m[INFO] [graph] found dbg/d71eeda4cd/graphs/rename.14506509287210677024.txt \u001b[0m\n",
      "\u001b[92m[INFO] [stats] found dbg/d71eeda4cd/stats/rename.14506509287210677024.txt \u001b[0m\n",
      "\u001b[92m[INFO] [graph] found dbg/ab13d91431/graphs/rename.10382769726049484649.txt \u001b[0m\n",
      "\u001b[92m[INFO] [stats] found dbg/ab13d91431/stats/rename.10382769726049484649.txt \u001b[0m\n",
      "\u001b[92m[INFO] [graph] found dbg/5741fd7355/graphs/rename.4388783463155910402.txt \u001b[0m\n",
      "\u001b[92m[INFO] [stats] found dbg/5741fd7355/stats/rename.4388783463155910402.txt \u001b[0m\n",
      "\u001b[92m[INFO] [graph] found dbg/a95607b981/graphs/shuffle.10846686413278762663.txt \u001b[0m\n",
      "\u001b[92m[INFO] [stats] found dbg/a95607b981/stats/shuffle.10846686413278762663.txt \u001b[0m\n",
      "\u001b[92m[INFO] [graph] found dbg/ce3b53d3eb/graphs/rename.17573995253702082922.txt \u001b[0m\n",
      "\u001b[92m[INFO] [stats] found dbg/ce3b53d3eb/stats/rename.17573995253702082922.txt \u001b[0m\n",
      "\u001b[92m[INFO] [graph] found dbg/f77473cf84/graphs/reseed.17093189949122800343.txt \u001b[0m\n",
      "\u001b[92m[INFO] [stats] found dbg/f77473cf84/stats/reseed.17093189949122800343.txt \u001b[0m\n",
      "\u001b[92m[INFO] [graph] found dbg/c4b6442111/graphs/reseed.2582144770435946536.txt \u001b[0m\n",
      "\u001b[92m[INFO] [stats] found dbg/c4b6442111/stats/reseed.2582144770435946536.txt \u001b[0m\n",
      "\u001b[92m[INFO] [graph] found dbg/e5c19b8ea5/graphs/rename.6277052481738797474.txt \u001b[0m\n",
      "\u001b[92m[INFO] [stats] found dbg/e5c19b8ea5/stats/rename.6277052481738797474.txt \u001b[0m\n",
      "\u001b[92m[INFO] [graph] found dbg/2072de2763/graphs/shuffle.7389705115267233307.txt \u001b[0m\n",
      "\u001b[92m[INFO] [stats] found dbg/2072de2763/stats/shuffle.7389705115267233307.txt \u001b[0m\n",
      "\u001b[92m[INFO] [graph] found dbg/e743734c96/graphs/shuffle.14872619601372060020.txt \u001b[0m\n",
      "\u001b[92m[INFO] [stats] found dbg/e743734c96/stats/shuffle.14872619601372060020.txt \u001b[0m\n",
      "\u001b[92m[INFO] [graph] found dbg/2f80d5bcaa/graphs/rename.843153085049226671.txt \u001b[0m\n",
      "\u001b[92m[INFO] [stats] found dbg/2f80d5bcaa/stats/rename.843153085049226671.txt \u001b[0m\n",
      "\u001b[92m[INFO] [graph] found dbg/82035ba9e7/graphs/reseed.13188729282797211904.txt \u001b[0m\n",
      "\u001b[92m[INFO] [stats] found dbg/82035ba9e7/stats/reseed.13188729282797211904.txt \u001b[0m\n",
      "\u001b[92m[INFO] [graph] found dbg/a5dd7919bb/graphs/reseed.9152772701175942047.txt \u001b[0m\n",
      "\u001b[92m[INFO] [stats] found dbg/a5dd7919bb/stats/reseed.9152772701175942047.txt \u001b[0m\n",
      "\u001b[92m[INFO] [graph] found dbg/ff4c3e8cab/graphs/rename.1944211869152370634.txt \u001b[0m\n",
      "\u001b[92m[INFO] [stats] found dbg/ff4c3e8cab/stats/rename.1944211869152370634.txt \u001b[0m\n",
      "\u001b[92m[INFO] [graph] found dbg/3366a80004/graphs/rename.10047642770313787907.txt \u001b[0m\n",
      "\u001b[92m[INFO] [stats] found dbg/3366a80004/stats/rename.10047642770313787907.txt \u001b[0m\n",
      "\u001b[92m[INFO] [graph] found dbg/c174525f75/graphs/rename.5850373615816341614.txt \u001b[0m\n",
      "\u001b[92m[INFO] [graph] found dbg/061f1d0514/graphs/rename.769138400125619706.txt \u001b[0m\u001b[92m[INFO] [stats] found dbg/c174525f75/stats/rename.5850373615816341614.txt \u001b[0m\n",
      "\n",
      "\u001b[92m[INFO] [stats] found dbg/061f1d0514/stats/rename.769138400125619706.txt \u001b[0m\n",
      "\u001b[92m[INFO] [graph] found dbg/fc23d57b68/graphs/reseed.10253168841202353365.txt \u001b[0m\n",
      "\u001b[92m[INFO] [stats] found dbg/fc23d57b68/stats/reseed.10253168841202353365.txt \u001b[0m\n",
      "\u001b[92m[INFO] [graph] found dbg/47775b0cf2/graphs/rename.248996141427157996.txt \u001b[0m\n",
      "\u001b[92m[INFO] [stats] found dbg/47775b0cf2/stats/rename.248996141427157996.txt \u001b[0m\n",
      "\u001b[92m[INFO] [graph] found dbg/4d7e86f7da/graphs/rename.17682596098320980351.txt \u001b[0m\n",
      "\u001b[92m[INFO] [stats] found dbg/4d7e86f7da/stats/rename.17682596098320980351.txt \u001b[0m\n",
      "\u001b[92m[INFO] [graph] found dbg/e9080f3e47/graphs/rename.6559683776893650137.txt \u001b[0m\n",
      "\u001b[92m[INFO] [stats] found dbg/e9080f3e47/stats/rename.6559683776893650137.txt \u001b[0m\n",
      "\u001b[92m[INFO] [graph] found dbg/fae7756eb4/graphs/reseed.3084917869170602587.txt \u001b[0m\n",
      "\u001b[92m[INFO] [stats] found dbg/fae7756eb4/stats/reseed.3084917869170602587.txt \u001b[0m\n",
      "\u001b[92m[INFO] [graph] found dbg/a650f4205b/graphs/reseed.6934043201117925177.txt \u001b[0m\n",
      "\u001b[92m[INFO] [stats] found dbg/a650f4205b/stats/reseed.6934043201117925177.txt \u001b[0m\n",
      "\u001b[92m[INFO] [graph] found dbg/947dcf5ca9/graphs/shuffle.2426660906082909420.txt \u001b[0m\n",
      "\u001b[92m[INFO] [stats] found dbg/947dcf5ca9/stats/shuffle.2426660906082909420.txt \u001b[0m\n",
      "\u001b[92m[INFO] [graph] found dbg/93c526c629/graphs/reseed.16659310850767319427.txt \u001b[0m\n",
      "\u001b[92m[INFO] [stats] found dbg/93c526c629/stats/reseed.16659310850767319427.txt \u001b[0m\n",
      "\u001b[92m[INFO] [graph] found dbg/53b94c898b/graphs/shuffle.2911831914072920678.txt \u001b[0m\n",
      "\u001b[92m[INFO] [stats] found dbg/53b94c898b/stats/shuffle.2911831914072920678.txt \u001b[0m\n",
      "\u001b[92m[INFO] [graph] found dbg/b2c059e298/graphs/rename.13358333878170522687.txt \u001b[0m\n",
      "\u001b[92m[INFO] [stats] found dbg/b2c059e298/stats/rename.13358333878170522687.txt \u001b[0m\n",
      "\u001b[92m[INFO] [graph] found dbg/1f1391e20c/graphs/rename.12291334853637431318.txt \u001b[0m\n",
      "\u001b[92m[INFO] [stats] found dbg/1f1391e20c/stats/rename.12291334853637431318.txt \u001b[0m\n",
      "\u001b[92m[INFO] [graph] found dbg/f92fbc3fec/graphs/reseed.5001254964788451522.txt \u001b[0m\n",
      "\u001b[92m[INFO] [stats] found dbg/f92fbc3fec/stats/reseed.5001254964788451522.txt \u001b[0m\n",
      "\u001b[92m[INFO] [graph] found dbg/ec816f99a1/graphs/reseed.14941181199705479441.txt \u001b[0m\n",
      "\u001b[92m[INFO] [stats] found dbg/ec816f99a1/stats/reseed.14941181199705479441.txt \u001b[0m\n",
      "\u001b[92m[INFO] [graph] found dbg/8e8d83f571/graphs/rename.7096668465266977673.txt \u001b[0m\n",
      "\u001b[92m[INFO] [stats] found dbg/8e8d83f571/stats/rename.7096668465266977673.txt \u001b[0m\n",
      "\u001b[92m[INFO] [graph] found dbg/179f62e2d4/graphs/reseed.12731741859760154404.txt \u001b[0m\n",
      "\u001b[92m[INFO] [stats] found dbg/179f62e2d4/stats/reseed.12731741859760154404.txt \u001b[0m\n",
      "\u001b[92m[INFO] [graph] found dbg/1ecf533970/graphs/reseed.3227455978992882587.txt \u001b[0m\n",
      "\u001b[92m[INFO] [stats] found dbg/1ecf533970/stats/reseed.3227455978992882587.txt \u001b[0m\n",
      "\u001b[92m[INFO] [graph] found dbg/70d34357b4/graphs/rename.2483952162936247099.txt \u001b[0m\n",
      "\u001b[92m[INFO] [stats] found dbg/70d34357b4/stats/rename.2483952162936247099.txt \u001b[0m\n",
      "\u001b[92m[INFO] [graph] found dbg/0effbdcba4/graphs/rename.11078022422858298141.txt \u001b[0m\n",
      "\u001b[92m[INFO] [stats] found dbg/0effbdcba4/stats/rename.11078022422858298141.txt \u001b[0m\n",
      "\u001b[92m[INFO] [graph] found dbg/1c986e634b/graphs/reseed.14557216502951889437.txt \u001b[0m\n",
      "\u001b[92m[INFO] [stats] found dbg/1c986e634b/stats/reseed.14557216502951889437.txt \u001b[0m\n",
      "\u001b[92m[INFO] [graph] found dbg/adb0c59b26/graphs/shuffle.12337056458835515928.txt \u001b[0m\n",
      "\u001b[92m[INFO] [stats] found dbg/adb0c59b26/stats/shuffle.12337056458835515928.txt \u001b[0m\n",
      "\u001b[92m[INFO] [graph] found dbg/d1535f1776/graphs/rename.10545065482662634285.txt \u001b[0m\n",
      "\u001b[92m[INFO] [stats] found dbg/d1535f1776/stats/rename.10545065482662634285.txt \u001b[0m\n",
      "\u001b[92m[INFO] [graph] found dbg/782b28a40e/graphs/rename.6207548310264898214.txt \u001b[0m\n",
      "\u001b[92m[INFO] [stats] found dbg/782b28a40e/stats/rename.6207548310264898214.txt \u001b[0m\n",
      "\u001b[92m[INFO] [graph] found dbg/22bc3230fa/graphs/reseed.11453502991186387410.txt \u001b[0m\n",
      "\u001b[92m[INFO] [stats] found dbg/22bc3230fa/stats/reseed.11453502991186387410.txt \u001b[0m\n",
      "\u001b[92m[INFO] [graph] found dbg/68e476ab9f/graphs/reseed.5994855679221910704.txt \u001b[0m\n",
      "\u001b[92m[INFO] [stats] found dbg/68e476ab9f/stats/reseed.5994855679221910704.txt \u001b[0m\n",
      "\u001b[92m[INFO] [graph] found dbg/018a6d3a64/graphs/shuffle.8330401740305466115.txt \u001b[0m\n",
      "\u001b[92m[INFO] [stats] found dbg/018a6d3a64/stats/shuffle.8330401740305466115.txt \u001b[0m\n",
      "\u001b[92m[INFO] [graph] found dbg/a0a67d231a/graphs/shuffle.534250523202927841.txt \u001b[0m\n",
      "\u001b[92m[INFO] [stats] found dbg/a0a67d231a/stats/shuffle.534250523202927841.txt \u001b[0m\n",
      "\u001b[92m[INFO] [graph] found dbg/cc5b8bed53/graphs/rename.3250885158056153761.txt \u001b[0m\n",
      "\u001b[92m[INFO] [stats] found dbg/cc5b8bed53/stats/rename.3250885158056153761.txt \u001b[0m\n",
      "\u001b[92m[INFO] [graph] found dbg/38d93c5774/graphs/rename.12939028439328042157.txt \u001b[0m\n",
      "\u001b[92m[INFO] [stats] found dbg/38d93c5774/stats/rename.12939028439328042157.txt \u001b[0m\n",
      "\u001b[92m[INFO] [graph] found dbg/a4cb7288c6/graphs/shuffle.16421259430700030165.txt \u001b[0m\n",
      "\u001b[92m[INFO] [stats] found dbg/a4cb7288c6/stats/shuffle.16421259430700030165.txt \u001b[0m\n",
      "\u001b[92m[INFO] [graph] found dbg/3c3d86031e/graphs/rename.422753922947628841.txt \u001b[0m\n",
      "\u001b[92m[INFO] [stats] found dbg/3c3d86031e/stats/rename.422753922947628841.txt \u001b[0m\n",
      "\u001b[92m[INFO] [graph] found dbg/09e4f9c085/graphs/rename.6257380173358206428.txt \u001b[0m\n",
      "\u001b[92m[INFO] [stats] found dbg/09e4f9c085/stats/rename.6257380173358206428.txt \u001b[0m\n",
      "\u001b[92m[INFO] [graph] found dbg/b3ec86d7f1/graphs/rename.10169958466609207943.txt \u001b[0m\n",
      "\u001b[92m[INFO] [stats] found dbg/b3ec86d7f1/stats/rename.10169958466609207943.txt \u001b[0m\n",
      "\u001b[92m[INFO] [graph] found dbg/10b27f0984/graphs/rename.12804259494599955603.txt \u001b[0m\n",
      "\u001b[92m[INFO] [stats] found dbg/10b27f0984/stats/rename.12804259494599955603.txt \u001b[0m\n",
      "\u001b[92m[INFO] [graph] found dbg/6200b46f8f/graphs/rename.526960962244246080.txt \u001b[0m\n",
      "\u001b[92m[INFO] [stats] found dbg/6200b46f8f/stats/rename.526960962244246080.txt \u001b[0m\n",
      "\u001b[92m[INFO] [graph] found dbg/f5dc6f777b/graphs/rename.13353410971274252034.txt \u001b[0m\n",
      "\u001b[92m[INFO] [stats] found dbg/f5dc6f777b/stats/rename.13353410971274252034.txt \u001b[0m\n",
      "\u001b[92m[INFO] [graph] found dbg/5e2368e7d9/graphs/reseed.7465909228232801491.txt \u001b[0m\n",
      "\u001b[92m[INFO] [stats] found dbg/5e2368e7d9/stats/reseed.7465909228232801491.txt \u001b[0m\n",
      "\u001b[92m[INFO] [graph] found dbg/44818bcb1f/graphs/rename.10233191327175905323.txt \u001b[0m\n",
      "\u001b[92m[INFO] [stats] found dbg/44818bcb1f/stats/rename.10233191327175905323.txt \u001b[0m\n",
      "\u001b[92m[INFO] [graph] found dbg/d64b61f919/graphs/rename.16516866512772340159.txt \u001b[0m\n",
      "\u001b[92m[INFO] [stats] found dbg/d64b61f919/stats/rename.16516866512772340159.txt \u001b[0m\n",
      "\u001b[92m[INFO] [graph] found dbg/77448147c2/graphs/reseed.10983549342619437609.txt \u001b[0m\n",
      "\u001b[92m[INFO] [stats] found dbg/77448147c2/stats/reseed.10983549342619437609.txt \u001b[0m\n",
      "\u001b[92m[INFO] [graph] found dbg/a6e96b148b/graphs/reseed.823572634856826747.txt \u001b[0m\n",
      "\u001b[92m[INFO] [stats] found dbg/a6e96b148b/stats/reseed.823572634856826747.txt \u001b[0m\n",
      "\u001b[92m[INFO] [graph] found dbg/00d9c7f438/graphs/reseed.607578085062324872.txt \u001b[0m\n",
      "\u001b[92m[INFO] [stats] found dbg/00d9c7f438/stats/reseed.607578085062324872.txt \u001b[0m\n",
      "\u001b[92m[INFO] [graph] found dbg/ac4102a2e0/graphs/reseed.10035146110800252985.txt \u001b[0m\n",
      "\u001b[92m[INFO] [stats] found dbg/ac4102a2e0/stats/reseed.10035146110800252985.txt \u001b[0m\n",
      "\u001b[92m[INFO] [graph] found dbg/c8a3060122/graphs/rename.16898227715908798479.txt \u001b[0m\n",
      "\u001b[92m[INFO] [stats] found dbg/c8a3060122/stats/rename.16898227715908798479.txt \u001b[0m\n",
      "\u001b[92m[INFO] [graph] found dbg/5dc26045ea/graphs/rename.17806674944814758297.txt \u001b[0m\n",
      "\u001b[92m[INFO] [stats] found dbg/5dc26045ea/stats/rename.17806674944814758297.txt \u001b[0m\n",
      "\u001b[92m[INFO] [graph] found dbg/d6c59c638c/graphs/rename.12246667346583803173.txt \u001b[0m\n",
      "\u001b[92m[INFO] [stats] found dbg/d6c59c638c/stats/rename.12246667346583803173.txt \u001b[0m\n",
      "\u001b[92m[INFO] [graph] found dbg/5fbd6f43b7/graphs/rename.3943283986704577684.txt \u001b[0m\n",
      "\u001b[92m[INFO] [stats] found dbg/5fbd6f43b7/stats/rename.3943283986704577684.txt \u001b[0m\n",
      "\u001b[92m[INFO] [graph] found dbg/d82f76226c/graphs/reseed.4958599917576450101.txt \u001b[0m\n",
      "\u001b[92m[INFO] [stats] found dbg/d82f76226c/stats/reseed.4958599917576450101.txt \u001b[0m\n",
      "\u001b[92m[INFO] [graph] found dbg/9b9e796545/graphs/reseed.14875134811156595676.txt \u001b[0m\n",
      "\u001b[92m[INFO] [stats] found dbg/9b9e796545/stats/reseed.14875134811156595676.txt \u001b[0m\n",
      "\u001b[92m[INFO] [graph] found dbg/c4350a29e0/graphs/shuffle.14033768021444631333.txt \u001b[0m\n",
      "\u001b[92m[INFO] [stats] found dbg/c4350a29e0/stats/shuffle.14033768021444631333.txt \u001b[0m\n",
      "\u001b[92m[INFO] [graph] found dbg/eec60fd21e/graphs/rename.3675157320564400508.txt \u001b[0m\n",
      "\u001b[92m[INFO] [stats] found dbg/eec60fd21e/stats/rename.3675157320564400508.txt \u001b[0m\n",
      "\u001b[92m[INFO] [graph] found dbg/1a4c83bd83/graphs/rename.10676587403896496496.txt \u001b[0m\n",
      "\u001b[92m[INFO] [stats] found dbg/1a4c83bd83/stats/rename.10676587403896496496.txt \u001b[0m\n",
      "\u001b[92m[INFO] [graph] found dbg/0ef92feb14/graphs/reseed.10259873174916778208.txt \u001b[0m\n",
      "\u001b[92m[INFO] [stats] found dbg/0ef92feb14/stats/reseed.10259873174916778208.txt \u001b[0m\n",
      "\u001b[92m[INFO] [graph] found dbg/03df204fcd/graphs/reseed.10096091408448245718.txt \u001b[0m\n",
      "\u001b[92m[INFO] [stats] found dbg/03df204fcd/stats/reseed.10096091408448245718.txt \u001b[0m\n",
      "\u001b[92m[INFO] [graph] found dbg/18defa0150/graphs/reseed.14211822210983480338.txt \u001b[0m\n",
      "\u001b[92m[INFO] [stats] found dbg/18defa0150/stats/reseed.14211822210983480338.txt \u001b[0m\n",
      "\u001b[92m[INFO] [graph] found dbg/cc1d9c148f/graphs/rename.1355077886169233125.txt \u001b[0m\n",
      "\u001b[92m[INFO] [stats] found dbg/cc1d9c148f/stats/rename.1355077886169233125.txt \u001b[0m\n",
      "\u001b[92m[INFO] [graph] found dbg/7373c499e2/graphs/rename.4939093191191125283.txt \u001b[0m\n",
      "\u001b[92m[INFO] [stats] found dbg/7373c499e2/stats/rename.4939093191191125283.txt \u001b[0m\n",
      "\u001b[92m[INFO] [graph] found dbg/13ee923b22/graphs/shuffle.8439401689926735058.txt \u001b[0m\n",
      "\u001b[92m[INFO] [stats] found dbg/13ee923b22/stats/shuffle.8439401689926735058.txt \u001b[0m\n",
      "\u001b[92m[INFO] [graph] found dbg/4819fafc3f/graphs/rename.16199439841886232010.txt \u001b[0m\n",
      "\u001b[92m[INFO] [stats] found dbg/4819fafc3f/stats/rename.16199439841886232010.txt \u001b[0m\n",
      "\u001b[92m[INFO] [graph] found dbg/7dccaece2d/graphs/rename.12579112894559906154.txt \u001b[0m\n",
      "\u001b[92m[INFO] [stats] found dbg/7dccaece2d/stats/rename.12579112894559906154.txt \u001b[0m\n",
      "\u001b[92m[INFO] [graph] found dbg/c1a05b62ba/graphs/reseed.15381600629524480555.txt \u001b[0m\n",
      "\u001b[92m[INFO] [stats] found dbg/c1a05b62ba/stats/reseed.15381600629524480555.txt \u001b[0m\n",
      "\u001b[92m[INFO] [graph] found dbg/34ae13040e/graphs/reseed.9453100136918450354.txt \u001b[0m\n",
      "\u001b[92m[INFO] [stats] found dbg/34ae13040e/stats/reseed.9453100136918450354.txt \u001b[0m\n",
      "\u001b[92m[INFO] [graph] found dbg/65f41ba519/graphs/reseed.5646509988353429214.txt \u001b[0m\n",
      "\u001b[92m[INFO] [stats] found dbg/65f41ba519/stats/reseed.5646509988353429214.txt \u001b[0m\n",
      "\u001b[92m[INFO] [graph] found dbg/1d32c4d524/graphs/rename.3192375572000729795.txt \u001b[0m\n",
      "\u001b[92m[INFO] [stats] found dbg/1d32c4d524/stats/rename.3192375572000729795.txt \u001b[0m\n",
      "\u001b[92m[INFO] [graph] found dbg/cdfc45fd41/graphs/shuffle.3277520387490423452.txt \u001b[0m\n",
      "\u001b[92m[INFO] [stats] found dbg/cdfc45fd41/stats/shuffle.3277520387490423452.txt \u001b[0m\n",
      "\u001b[92m[INFO] [graph] found dbg/4cce058390/graphs/reseed.5739386378519991231.txt \u001b[0m\n",
      "\u001b[92m[INFO] [stats] found dbg/4cce058390/stats/reseed.5739386378519991231.txt \u001b[0m\n",
      "\u001b[92m[INFO] [graph] found dbg/3a37e843fb/graphs/reseed.2839104505830526895.txt \u001b[0m\n",
      "\u001b[92m[INFO] [stats] found dbg/3a37e843fb/stats/reseed.2839104505830526895.txt \u001b[0m\n",
      "\u001b[92m[INFO] [graph] found dbg/db5b85130e/graphs/reseed.10207241081034552056.txt \u001b[0m\n",
      "\u001b[92m[INFO] [stats] found dbg/db5b85130e/stats/reseed.10207241081034552056.txt \u001b[0m\n",
      "\u001b[92m[INFO] [graph] found dbg/0897ef84da/graphs/reseed.4466518330973604670.txt \u001b[0m\n",
      "\u001b[92m[INFO] [stats] found dbg/0897ef84da/stats/reseed.4466518330973604670.txt \u001b[0m\n",
      "\u001b[92m[INFO] [graph] found dbg/91f1dee2f1/graphs/rename.372456275263963746.txt \u001b[0m\n",
      "\u001b[92m[INFO] [stats] found dbg/91f1dee2f1/stats/rename.372456275263963746.txt \u001b[0m\n",
      "\u001b[92m[INFO] [graph] found dbg/47c0fbf175/graphs/reseed.10860340296864819903.txt \u001b[0m\n",
      "\u001b[92m[INFO] [stats] found dbg/47c0fbf175/stats/reseed.10860340296864819903.txt \u001b[0m\n",
      "\u001b[92m[INFO] [graph] found dbg/b8ed14e0c5/graphs/rename.4168130496894493328.txt \u001b[0m\n",
      "\u001b[92m[INFO] [stats] found dbg/b8ed14e0c5/stats/rename.4168130496894493328.txt \u001b[0m\n",
      "\u001b[92m[INFO] [graph] found dbg/1ab6690346/graphs/reseed.1970509898125042672.txt \u001b[0m\n",
      "\u001b[92m[INFO] [stats] found dbg/1ab6690346/stats/reseed.1970509898125042672.txt \u001b[0m\n",
      "\u001b[92m[INFO] [graph] found dbg/b5b0f8c2f2/graphs/reseed.12033569329531482191.txt \u001b[0m\n",
      "\u001b[92m[INFO] [stats] found dbg/b5b0f8c2f2/stats/reseed.12033569329531482191.txt \u001b[0m\n",
      "\u001b[92m[INFO] [graph] found dbg/0c40f30097/graphs/reseed.16926142845053268760.txt \u001b[0m\n",
      "\u001b[92m[INFO] [stats] found dbg/0c40f30097/stats/reseed.16926142845053268760.txt \u001b[0m\n",
      "\u001b[92m[INFO] [graph] found dbg/81d60427e7/graphs/rename.5426123845634343722.txt \u001b[0m\n",
      "\u001b[92m[INFO] [stats] found dbg/81d60427e7/stats/rename.5426123845634343722.txt \u001b[0m\n",
      "\u001b[92m[INFO] [graph] found dbg/1673ca97a5/graphs/shuffle.2366093603147135286.txt \u001b[0m\n",
      "\u001b[92m[INFO] [stats] found dbg/1673ca97a5/stats/shuffle.2366093603147135286.txt \u001b[0m\n",
      "\u001b[92m[INFO] [graph] found dbg/fac95e1ef6/graphs/reseed.7591823252263023453.txt \u001b[0m\n",
      "\u001b[92m[INFO] [stats] found dbg/fac95e1ef6/stats/reseed.7591823252263023453.txt \u001b[0m\n",
      "\u001b[92m[INFO] [graph] found dbg/175a618390/graphs/rename.468474296389388552.txt \u001b[0m\n",
      "\u001b[92m[INFO] [stats] found dbg/175a618390/stats/rename.468474296389388552.txt \u001b[0m\n",
      "\u001b[92m[INFO] [graph] found dbg/47ef270c0c/graphs/rename.18336429141283102101.txt \u001b[0m\n",
      "\u001b[92m[INFO] [stats] found dbg/47ef270c0c/stats/rename.18336429141283102101.txt \u001b[0m\n",
      "\u001b[92m[INFO] [graph] found dbg/6737d567f9/graphs/shuffle.3746193712107684230.txt \u001b[0m\n",
      "\u001b[92m[INFO] [stats] found dbg/6737d567f9/stats/shuffle.3746193712107684230.txt \u001b[0m\n",
      "\u001b[92m[INFO] [graph] found dbg/02ce0894ca/graphs/rename.2855827494173579522.txt \u001b[0m\n",
      "\u001b[92m[INFO] [stats] found dbg/02ce0894ca/stats/rename.2855827494173579522.txt \u001b[0m\n",
      "\u001b[92m[INFO] [graph] found dbg/2489279611/graphs/rename.14427080363910424718.txt \u001b[0m\u001b[92m[INFO] [graph] found dbg/dc83338098/graphs/rename.1325015204536421060.txt \u001b[0m\n",
      "\n",
      "\u001b[92m[INFO] [stats] found dbg/dc83338098/stats/rename.1325015204536421060.txt \u001b[0m\n",
      "\u001b[92m[INFO] [stats] found dbg/2489279611/stats/rename.14427080363910424718.txt \u001b[0m\n",
      "\u001b[92m[INFO] [graph] found dbg/3ed30b3382/graphs/reseed.2322944725099847341.txt \u001b[0m\n",
      "\u001b[92m[INFO] [stats] found dbg/3ed30b3382/stats/reseed.2322944725099847341.txt \u001b[0m\n",
      "\u001b[92m[INFO] [graph] found dbg/34eda2f999/graphs/rename.13599008094559355756.txt \u001b[0m\n",
      "\u001b[92m[INFO] [stats] found dbg/34eda2f999/stats/rename.13599008094559355756.txt \u001b[0m\n",
      "\u001b[92m[INFO] [graph] found dbg/9796f7a39f/graphs/rename.9308176249336336576.txt \u001b[0m\n",
      "\u001b[92m[INFO] [stats] found dbg/9796f7a39f/stats/rename.9308176249336336576.txt \u001b[0m\n",
      "\u001b[92m[INFO] [graph] found dbg/1482b405bf/graphs/rename.7555920995219866038.txt \u001b[0m\n",
      "\u001b[92m[INFO] [stats] found dbg/1482b405bf/stats/rename.7555920995219866038.txt \u001b[0m\u001b[92m[INFO] [graph] found dbg/613f2c355d/graphs/rename.11159726718857877821.txt \u001b[0m\n",
      "\n",
      "\u001b[92m[INFO] [stats] found dbg/613f2c355d/stats/rename.11159726718857877821.txt \u001b[0m\n",
      "\u001b[92m[INFO] [graph] found dbg/44a2764cf8/graphs/rename.13253647905835342131.txt \u001b[0m\n",
      "\u001b[92m[INFO] [stats] found dbg/44a2764cf8/stats/rename.13253647905835342131.txt \u001b[0m\n",
      "\u001b[92m[INFO] [graph] found dbg/3ed37733c3/graphs/reseed.11864180733066240756.txt \u001b[0m\n",
      "\u001b[92m[INFO] [stats] found dbg/3ed37733c3/stats/reseed.11864180733066240756.txt \u001b[0m\n",
      "\u001b[92m[INFO] [graph] found dbg/83c57f0bcb/graphs/shuffle.12332179239911052732.txt \u001b[0m\n",
      "\u001b[92m[INFO] [stats] found dbg/83c57f0bcb/stats/shuffle.12332179239911052732.txt \u001b[0m\n",
      "\u001b[92m[INFO] [graph] found dbg/90270fc66a/graphs/shuffle.3043336157530514355.txt \u001b[0m\n",
      "\u001b[92m[INFO] [stats] found dbg/90270fc66a/stats/shuffle.3043336157530514355.txt \u001b[0m\n",
      "\u001b[92m[INFO] [graph] found dbg/2d00faf52c/graphs/rename.8082690923169865294.txt \u001b[0m\n",
      "\u001b[92m[INFO] [stats] found dbg/2d00faf52c/stats/rename.8082690923169865294.txt \u001b[0m\n",
      "\u001b[92m[INFO] [graph] found dbg/fb2ca1a594/graphs/rename.5637591792931629729.txt \u001b[0m\n",
      "\u001b[92m[INFO] [stats] found dbg/fb2ca1a594/stats/rename.5637591792931629729.txt \u001b[0m\n",
      "\u001b[92m[INFO] [graph] found dbg/b6f117b674/graphs/reseed.6089825974668546153.txt \u001b[0m\n",
      "\u001b[92m[INFO] [stats] found dbg/b6f117b674/stats/reseed.6089825974668546153.txt \u001b[0m\n",
      "\u001b[92m[INFO] [graph] found dbg/b6123843b3/graphs/reseed.2912415784395086845.txt \u001b[0m\n",
      "\u001b[92m[INFO] [stats] found dbg/b6123843b3/stats/reseed.2912415784395086845.txt \u001b[0m\n",
      "\u001b[92m[INFO] [graph] found dbg/c7b10ef871/graphs/rename.36451817514311942.txt \u001b[0m\n",
      "\u001b[92m[INFO] [stats] found dbg/c7b10ef871/stats/rename.36451817514311942.txt \u001b[0m\n",
      "\u001b[92m[INFO] [graph] found dbg/391e1b7ac0/graphs/rename.4203458266953730275.txt \u001b[0m\n",
      "\u001b[92m[INFO] [stats] found dbg/391e1b7ac0/stats/rename.4203458266953730275.txt \u001b[0m\n",
      "\u001b[92m[INFO] [graph] found dbg/b52f25923a/graphs/rename.16641639424514603109.txt \u001b[0m\n",
      "\u001b[92m[INFO] [stats] found dbg/b52f25923a/stats/rename.16641639424514603109.txt \u001b[0m\n",
      "\u001b[92m[INFO] [graph] found dbg/72d4708532/graphs/rename.3978531147353438634.txt \u001b[0m\n",
      "\u001b[92m[INFO] [stats] found dbg/72d4708532/stats/rename.3978531147353438634.txt \u001b[0m\n",
      "\u001b[92m[INFO] [graph] found dbg/b182e2a043/graphs/rename.6166520790487726709.txt \u001b[0m\n",
      "\u001b[92m[INFO] [stats] found dbg/b182e2a043/stats/rename.6166520790487726709.txt \u001b[0m\n",
      "\u001b[92m[INFO] [graph] found dbg/af3454b9b7/graphs/rename.18180637803739384249.txt \u001b[0m\n",
      "\u001b[92m[INFO] [graph] found dbg/e03d7dc55c/graphs/rename.14394025374417877936.txt \u001b[0m\u001b[92m[INFO] [stats] found dbg/af3454b9b7/stats/rename.18180637803739384249.txt \u001b[0m\n",
      "\n",
      "\u001b[92m[INFO] [stats] found dbg/e03d7dc55c/stats/rename.14394025374417877936.txt \u001b[0m\n",
      "\u001b[92m[INFO] [graph] found dbg/94bc3cfd5f/graphs/shuffle.1773882859532315896.txt \u001b[0m\n",
      "\u001b[92m[INFO] [stats] found dbg/94bc3cfd5f/stats/shuffle.1773882859532315896.txt \u001b[0m\n",
      "\u001b[92m[INFO] [graph] found dbg/e65b46b51f/graphs/reseed.14224355495757676301.txt \u001b[0m\n",
      "\u001b[92m[INFO] [stats] found dbg/e65b46b51f/stats/reseed.14224355495757676301.txt \u001b[0m\n",
      "\u001b[92m[INFO] [graph] found dbg/6bbd2c848c/graphs/reseed.10889946174575728891.txt \u001b[0m\n",
      "\u001b[92m[INFO] [stats] found dbg/6bbd2c848c/stats/reseed.10889946174575728891.txt \u001b[0m\n",
      "\u001b[92m[INFO] [graph] found dbg/a972e908eb/graphs/rename.16737264733307901143.txt \u001b[0m\n",
      "\u001b[92m[INFO] [stats] found dbg/a972e908eb/stats/rename.16737264733307901143.txt \u001b[0m\n",
      "\u001b[92m[INFO] [graph] found dbg/f7f46a3a04/graphs/shuffle.4810373001309401407.txt \u001b[0m\n",
      "\u001b[92m[INFO] [stats] found dbg/f7f46a3a04/stats/shuffle.4810373001309401407.txt \u001b[0m\n",
      "\u001b[92m[INFO] [graph] found dbg/de06634d5d/graphs/rename.2729502053593851764.txt \u001b[0m\n",
      "\u001b[92m[INFO] [stats] found dbg/de06634d5d/stats/rename.2729502053593851764.txt \u001b[0m\n",
      "\u001b[92m[INFO] [graph] found dbg/3ac32afb30/graphs/rename.4936251251508216562.txt \u001b[0m\n",
      "\u001b[92m[INFO] [stats] found dbg/3ac32afb30/stats/rename.4936251251508216562.txt \u001b[0m\n",
      "\u001b[92m[INFO] [graph] found dbg/355b104f3e/graphs/reseed.92979528216251576.txt \u001b[0m\n",
      "\u001b[92m[INFO] [stats] found dbg/355b104f3e/stats/reseed.92979528216251576.txt \u001b[0m\n",
      "\u001b[92m[INFO] [graph] found dbg/6b4aac4136/graphs/rename.4652524944321736796.txt \u001b[0m\n",
      "\u001b[92m[INFO] [stats] found dbg/6b4aac4136/stats/rename.4652524944321736796.txt \u001b[0m\n",
      "\u001b[92m[INFO] [graph] found dbg/0cedd72fe1/graphs/shuffle.16276636579598614398.txt \u001b[0m\n",
      "\u001b[92m[INFO] [stats] found dbg/0cedd72fe1/stats/shuffle.16276636579598614398.txt \u001b[0m\n",
      "\u001b[92m[INFO] [graph] found dbg/96f127e037/graphs/shuffle.7656850220859498444.txt \u001b[0m\n",
      "\u001b[92m[INFO] [stats] found dbg/96f127e037/stats/shuffle.7656850220859498444.txt \u001b[0m\n",
      "\u001b[92m[INFO] [graph] found dbg/7fd5899ce2/graphs/rename.6498885798257655762.txt \u001b[0m\n",
      "\u001b[92m[INFO] [stats] found dbg/7fd5899ce2/stats/rename.6498885798257655762.txt \u001b[0m\n",
      "\u001b[92m[INFO] [graph] found dbg/df44b4f111/graphs/reseed.2158888933591079616.txt \u001b[0m\n",
      "\u001b[92m[INFO] [stats] found dbg/df44b4f111/stats/reseed.2158888933591079616.txt \u001b[0m\n",
      "\u001b[92m[INFO] [graph] found dbg/9825043af6/graphs/reseed.12744653052518895490.txt \u001b[0m\n",
      "\u001b[92m[INFO] [stats] found dbg/9825043af6/stats/reseed.12744653052518895490.txt \u001b[0m\n",
      "\u001b[92m[INFO] [graph] found dbg/1d23e345a5/graphs/reseed.2928642696417764497.txt \u001b[0m\n",
      "\u001b[92m[INFO] [stats] found dbg/1d23e345a5/stats/reseed.2928642696417764497.txt \u001b[0m\n",
      "\u001b[92m[INFO] [graph] found dbg/0a1a6803c7/graphs/reseed.4873524052614474677.txt \u001b[0m\n",
      "\u001b[92m[INFO] [stats] found dbg/0a1a6803c7/stats/reseed.4873524052614474677.txt \u001b[0m\n",
      "\u001b[92m[INFO] [graph] found dbg/4ce9083b0d/graphs/rename.9875770908552011554.txt \u001b[0m\n",
      "\u001b[92m[INFO] [stats] found dbg/4ce9083b0d/stats/rename.9875770908552011554.txt \u001b[0m\n",
      "\u001b[92m[INFO] [graph] found dbg/62e586cacd/graphs/reseed.8572444241981052583.txt \u001b[0m\n",
      "\u001b[92m[INFO] [stats] found dbg/62e586cacd/stats/reseed.8572444241981052583.txt \u001b[0m\n",
      "\u001b[92m[INFO] [graph] found dbg/16e535bb0c/graphs/rename.12882119232408090390.txt \u001b[0m\n",
      "\u001b[92m[INFO] [stats] found dbg/16e535bb0c/stats/rename.12882119232408090390.txt \u001b[0m\n",
      "\u001b[92m[INFO] [graph] found dbg/74193764bc/graphs/rename.2767070348951939232.txt \u001b[0m\n",
      "\u001b[92m[INFO] [stats] found dbg/74193764bc/stats/rename.2767070348951939232.txt \u001b[0m\n",
      "\u001b[92m[INFO] [graph] found dbg/57ff707219/graphs/rename.9220093934534297745.txt \u001b[0m\n",
      "\u001b[92m[INFO] [stats] found dbg/57ff707219/stats/rename.9220093934534297745.txt \u001b[0m\n",
      "\u001b[92m[INFO] [graph] found dbg/8a59d4481f/graphs/rename.12366872694202190695.txt \u001b[0m\n",
      "\u001b[92m[INFO] [stats] found dbg/8a59d4481f/stats/rename.12366872694202190695.txt \u001b[0m\n",
      "\u001b[92m[INFO] [graph] found dbg/f8271123d9/graphs/reseed.6774500255727004483.txt \u001b[0m\n",
      "\u001b[92m[INFO] [stats] found dbg/f8271123d9/stats/reseed.6774500255727004483.txt \u001b[0m\n",
      "\u001b[92m[INFO] [graph] found dbg/158bcfb113/graphs/rename.762190241434123483.txt \u001b[0m\n",
      "\u001b[92m[INFO] [stats] found dbg/158bcfb113/stats/rename.762190241434123483.txt \u001b[0m\n",
      "\u001b[92m[INFO] [graph] found dbg/31e9d7c601/graphs/shuffle.13833556782392857076.txt \u001b[0m\n",
      "\u001b[92m[INFO] [stats] found dbg/31e9d7c601/stats/shuffle.13833556782392857076.txt \u001b[0m\n",
      "\u001b[92m[INFO] [graph] found dbg/6884529c21/graphs/rename.9687420419929011054.txt \u001b[0m\n",
      "\u001b[92m[INFO] [stats] found dbg/6884529c21/stats/rename.9687420419929011054.txt \u001b[0m\n",
      "\u001b[92m[INFO] [graph] found dbg/f6fde2cf65/graphs/reseed.4162212593728463294.txt \u001b[0m\n",
      "\u001b[92m[INFO] [stats] found dbg/f6fde2cf65/stats/reseed.4162212593728463294.txt \u001b[0m\n",
      "\u001b[92m[INFO] [graph] found dbg/7bde492655/graphs/shuffle.16322524217970718931.txt \u001b[0m\n",
      "\u001b[92m[INFO] [stats] found dbg/7bde492655/stats/shuffle.16322524217970718931.txt \u001b[0m\n",
      "\u001b[92m[INFO] [graph] found dbg/4dc3312a9a/graphs/reseed.1049000212876468865.txt \u001b[0m\n",
      "\u001b[92m[INFO] [stats] found dbg/4dc3312a9a/stats/reseed.1049000212876468865.txt \u001b[0m\n",
      "\u001b[92m[INFO] [graph] found dbg/caebe30494/graphs/rename.4032760398722751862.txt \u001b[0m\n",
      "\u001b[92m[INFO] [stats] found dbg/caebe30494/stats/rename.4032760398722751862.txt \u001b[0m\n",
      "\u001b[92m[INFO] [graph] found dbg/b725c343b6/graphs/reseed.3621687832813680814.txt \u001b[0m\n",
      "\u001b[92m[INFO] [stats] found dbg/b725c343b6/stats/reseed.3621687832813680814.txt \u001b[0m\n",
      "\u001b[92m[INFO] [graph] found dbg/1c02a6059f/graphs/reseed.321993601582249811.txt \u001b[0m\n",
      "\u001b[92m[INFO] [stats] found dbg/1c02a6059f/stats/reseed.321993601582249811.txt \u001b[0m\n",
      "\u001b[92m[INFO] [graph] found dbg/1b7f64e95b/graphs/rename.13326529760519068594.txt \u001b[0m\n",
      "\u001b[92m[INFO] [stats] found dbg/1b7f64e95b/stats/rename.13326529760519068594.txt \u001b[0m\n",
      "\u001b[92m[INFO] [graph] found dbg/02d1b2ad7e/graphs/rename.5601839258195097963.txt \u001b[0m\n",
      "\u001b[92m[INFO] [stats] found dbg/02d1b2ad7e/stats/rename.5601839258195097963.txt \u001b[0m\n",
      "\u001b[92m[INFO] [graph] found dbg/54f8f5c8a6/graphs/reseed.8490462792168119045.txt \u001b[0m\n",
      "\u001b[92m[INFO] [stats] found dbg/54f8f5c8a6/stats/reseed.8490462792168119045.txt \u001b[0m\n",
      "\u001b[92m[INFO] [graph] found dbg/3ab530aac4/graphs/rename.5394527791147747076.txt \u001b[0m\n",
      "\u001b[92m[INFO] [stats] found dbg/3ab530aac4/stats/rename.5394527791147747076.txt \u001b[0m\n",
      "\u001b[92m[INFO] [graph] found dbg/2606c5a287/graphs/reseed.7901887351598598028.txt \u001b[0m\n",
      "\u001b[92m[INFO] [stats] found dbg/2606c5a287/stats/reseed.7901887351598598028.txt \u001b[0m\n",
      "\u001b[92m[INFO] [graph] found dbg/2298e56311/graphs/reseed.6910845141689289050.txt \u001b[0m\n",
      "\u001b[92m[INFO] [stats] found dbg/2298e56311/stats/reseed.6910845141689289050.txt \u001b[0m\n",
      "\u001b[92m[INFO] [graph] found dbg/519d87022d/graphs/reseed.5360183723750842330.txt \u001b[0m\n",
      "\u001b[92m[INFO] [stats] found dbg/519d87022d/stats/reseed.5360183723750842330.txt \u001b[0m\n",
      "\u001b[92m[INFO] [graph] found dbg/2ead327dad/graphs/rename.8473661985171767378.txt \u001b[0m\n",
      "\u001b[92m[INFO] [stats] found dbg/2ead327dad/stats/rename.8473661985171767378.txt \u001b[0m\n",
      "\u001b[92m[INFO] [graph] found dbg/d90c817672/graphs/rename.4806695388499890539.txt \u001b[0m\n",
      "\u001b[92m[INFO] [stats] found dbg/d90c817672/stats/rename.4806695388499890539.txt \u001b[0m\n",
      "\u001b[92m[INFO] [graph] found dbg/790839853f/graphs/rename.5768213730401627125.txt \u001b[0m\n",
      "\u001b[92m[INFO] [stats] found dbg/790839853f/stats/rename.5768213730401627125.txt \u001b[0m\n",
      "\u001b[92m[INFO] [graph] found dbg/7af5ba0b16/graphs/rename.16010070656805997827.txt \u001b[0m\n",
      "\u001b[92m[INFO] [stats] found dbg/7af5ba0b16/stats/rename.16010070656805997827.txt \u001b[0m\n",
      "\u001b[92m[INFO] [graph] found dbg/3c8b9dae45/graphs/rename.3289796417906284909.txt \u001b[0m\n",
      "\u001b[92m[INFO] [stats] found dbg/3c8b9dae45/stats/rename.3289796417906284909.txt \u001b[0m\n",
      "\u001b[92m[INFO] [graph] found dbg/e2b0591692/graphs/rename.12927091034921720058.txt \u001b[0m\n",
      "\u001b[92m[INFO] [stats] found dbg/e2b0591692/stats/rename.12927091034921720058.txt \u001b[0m\n",
      "\u001b[92m[INFO] [graph] found dbg/c9d38b4125/graphs/reseed.16515286465926755058.txt \u001b[0m\n",
      "\u001b[92m[INFO] [stats] found dbg/c9d38b4125/stats/reseed.16515286465926755058.txt \u001b[0m\n",
      "\u001b[92m[INFO] [graph] found dbg/1d57b073cc/graphs/rename.1685587427039822516.txt \u001b[0m\n",
      "\u001b[92m[INFO] [stats] found dbg/1d57b073cc/stats/rename.1685587427039822516.txt \u001b[0m\n",
      "\u001b[92m[INFO] [graph] found dbg/06a10772cf/graphs/reseed.10189914570446278115.txt \u001b[0m\n",
      "\u001b[92m[INFO] [stats] found dbg/06a10772cf/stats/reseed.10189914570446278115.txt \u001b[0m\n",
      "\u001b[92m[INFO] [graph] found dbg/9f41cf9dd5/graphs/rename.16248660342427705523.txt \u001b[0m\n",
      "\u001b[92m[INFO] [stats] found dbg/9f41cf9dd5/stats/rename.16248660342427705523.txt \u001b[0m\n",
      "\u001b[92m[INFO] [graph] found dbg/ffa588ca99/graphs/rename.14858541213707379506.txt \u001b[0m\n",
      "\u001b[92m[INFO] [stats] found dbg/ffa588ca99/stats/rename.14858541213707379506.txt \u001b[0m\n",
      "\u001b[92m[INFO] [graph] found dbg/d8fb40a98b/graphs/reseed.4324026674913617289.txt \u001b[0m\n",
      "\u001b[92m[INFO] [stats] found dbg/d8fb40a98b/stats/reseed.4324026674913617289.txt \u001b[0m\n",
      "\u001b[92m[INFO] [graph] found dbg/d29cd9f10a/graphs/reseed.6261727791507031438.txt \u001b[0m\n",
      "\u001b[92m[INFO] [stats] found dbg/d29cd9f10a/stats/reseed.6261727791507031438.txt \u001b[0m\n",
      "\u001b[92m[INFO] [graph] found dbg/7e3368fab1/graphs/reseed.4797501608141389739.txt \u001b[0m\n",
      "\u001b[92m[INFO] [stats] found dbg/7e3368fab1/stats/reseed.4797501608141389739.txt \u001b[0m\n",
      "\u001b[92m[INFO] [graph] found dbg/cd99d4eccb/graphs/rename.6139045179153104057.txt \u001b[0m\n",
      "\u001b[92m[INFO] [stats] found dbg/cd99d4eccb/stats/rename.6139045179153104057.txt \u001b[0m\n",
      "\u001b[92m[INFO] [graph] found dbg/ff70c76375/graphs/rename.13060047910476429836.txt \u001b[0m\n",
      "\u001b[92m[INFO] [stats] found dbg/ff70c76375/stats/rename.13060047910476429836.txt \u001b[0m\n",
      "\u001b[92m[INFO] [graph] found dbg/d27df8e3bb/graphs/rename.7821953825153783066.txt \u001b[0m\n",
      "\u001b[92m[INFO] [stats] found dbg/d27df8e3bb/stats/rename.7821953825153783066.txt \u001b[0m\n",
      "\u001b[92m[INFO] [graph] found dbg/2ca7beb862/graphs/rename.7518962861446698414.txt \u001b[0m\n",
      "\u001b[92m[INFO] [stats] found dbg/2ca7beb862/stats/rename.7518962861446698414.txt \u001b[0m\n",
      "\u001b[92m[INFO] [graph] found dbg/50b414ceb9/graphs/shuffle.14621587911257160554.txt \u001b[0m\n",
      "\u001b[92m[INFO] [stats] found dbg/50b414ceb9/stats/shuffle.14621587911257160554.txt \u001b[0m\n",
      "\u001b[92m[INFO] [graph] found dbg/bacb951c70/graphs/rename.5477597793830537125.txt \u001b[0m\n",
      "\u001b[92m[INFO] [stats] found dbg/bacb951c70/stats/rename.5477597793830537125.txt \u001b[0m\n",
      "\u001b[92m[INFO] [graph] found dbg/1aa46bd795/graphs/rename.6821720551067141534.txt \u001b[0m\n",
      "\u001b[92m[INFO] [stats] found dbg/1aa46bd795/stats/rename.6821720551067141534.txt \u001b[0m\n",
      "\u001b[92m[INFO] [graph] found dbg/79fffdb8cb/graphs/rename.2981836586009845078.txt \u001b[0m\n",
      "\u001b[92m[INFO] [stats] found dbg/79fffdb8cb/stats/rename.2981836586009845078.txt \u001b[0m\n",
      "\u001b[92m[INFO] [graph] found dbg/b5cc583f2d/graphs/rename.13740936046518800203.txt \u001b[0m\n",
      "\u001b[92m[INFO] [stats] found dbg/b5cc583f2d/stats/rename.13740936046518800203.txt \u001b[0m\n",
      "\u001b[92m[INFO] [graph] found dbg/fcb903eff0/graphs/rename.11842370524859696849.txt \u001b[0m\n",
      "\u001b[92m[INFO] [stats] found dbg/fcb903eff0/stats/rename.11842370524859696849.txt \u001b[0m\n",
      "\u001b[92m[INFO] [graph] found dbg/4aecdc3251/graphs/rename.13988150344836245527.txt \u001b[0m\n",
      "\u001b[92m[INFO] [stats] found dbg/4aecdc3251/stats/rename.13988150344836245527.txt \u001b[0m\n",
      "\u001b[92m[INFO] [graph] found dbg/3d63ac7eaf/graphs/shuffle.12895030831108727355.txt \u001b[0m\n",
      "\u001b[92m[INFO] [stats] found dbg/3d63ac7eaf/stats/shuffle.12895030831108727355.txt \u001b[0m\n",
      "\u001b[92m[INFO] [graph] found dbg/519fdc89c1/graphs/shuffle.4373850796075065130.txt \u001b[0m\n",
      "\u001b[92m[INFO] [stats] found dbg/519fdc89c1/stats/shuffle.4373850796075065130.txt \u001b[0m\n",
      "\u001b[92m[INFO] [graph] found dbg/acf6656f68/graphs/shuffle.712191358911638822.txt \u001b[0m\n",
      "\u001b[92m[INFO] [stats] found dbg/acf6656f68/stats/shuffle.712191358911638822.txt \u001b[0m\n",
      "\u001b[92m[INFO] [graph] found dbg/2a2073ceb5/graphs/reseed.16661375798901225762.txt \u001b[0m\n",
      "\u001b[92m[INFO] [stats] found dbg/2a2073ceb5/stats/reseed.16661375798901225762.txt \u001b[0m\n",
      "\u001b[92m[INFO] [graph] found dbg/125461812b/graphs/reseed.8129462280506181185.txt \u001b[0m\n",
      "\u001b[92m[INFO] [stats] found dbg/125461812b/stats/reseed.8129462280506181185.txt \u001b[0m\n",
      "\u001b[92m[INFO] [graph] found dbg/a878753336/graphs/shuffle.16367809485740251325.txt \u001b[0m\n",
      "\u001b[92m[INFO] [stats] found dbg/a878753336/stats/shuffle.16367809485740251325.txt \u001b[0m\u001b[92m[INFO] [graph] found dbg/7fedd43bf6/graphs/shuffle.8574729753269670983.txt \u001b[0m\n",
      "\n",
      "\u001b[92m[INFO] [stats] found dbg/7fedd43bf6/stats/shuffle.8574729753269670983.txt \u001b[0m\n",
      "\u001b[92m[INFO] [graph] found dbg/0a4b4299d2/graphs/shuffle.13393356597116236755.txt \u001b[0m\n",
      "\u001b[92m[INFO] [graph] found dbg/7d2782e41a/graphs/reseed.6527297241485178609.txt \u001b[0m\u001b[92m[INFO] [stats] found dbg/0a4b4299d2/stats/shuffle.13393356597116236755.txt \u001b[0m\n",
      "\n",
      "\u001b[92m[INFO] [stats] found dbg/7d2782e41a/stats/reseed.6527297241485178609.txt \u001b[0m\n",
      "\u001b[92m[INFO] [graph] found dbg/c2671f2f38/graphs/rename.17166540696607595682.txt \u001b[0m\n",
      "\u001b[92m[INFO] [stats] found dbg/c2671f2f38/stats/rename.17166540696607595682.txt \u001b[0m\u001b[92m[INFO] [graph] found dbg/3818823b0a/graphs/shuffle.8407756955934965067.txt \u001b[0m\n",
      "\n",
      "\u001b[92m[INFO] [stats] found dbg/3818823b0a/stats/shuffle.8407756955934965067.txt \u001b[0m\n",
      "\u001b[92m[INFO] [graph] found dbg/aa849323ae/graphs/rename.15326657433365833747.txt \u001b[0m\n",
      "\u001b[92m[INFO] [stats] found dbg/aa849323ae/stats/rename.15326657433365833747.txt \u001b[0m\n",
      "\u001b[92m[INFO] [graph] found dbg/e3b4e5b780/graphs/reseed.9735701590801062493.txt \u001b[0m\n",
      "\u001b[92m[INFO] [graph] found dbg/40d72d4071/graphs/shuffle.1147668706465986584.txt \u001b[0m\u001b[92m[INFO] [stats] found dbg/e3b4e5b780/stats/reseed.9735701590801062493.txt \u001b[0m\n",
      "\n",
      "\u001b[92m[INFO] [graph] found dbg/16d92ddc7b/graphs/reseed.479571399798847440.txt \u001b[0m\u001b[92m[INFO] [stats] found dbg/40d72d4071/stats/shuffle.1147668706465986584.txt \u001b[0m\n",
      "\n",
      "\u001b[92m[INFO] [stats] found dbg/16d92ddc7b/stats/reseed.479571399798847440.txt \u001b[0m\n",
      "\u001b[92m[INFO] [graph] found dbg/c8ca6d3f20/graphs/rename.9899697564995101021.txt \u001b[0m\n",
      "\u001b[92m[INFO] [stats] found dbg/c8ca6d3f20/stats/rename.9899697564995101021.txt \u001b[0m\n",
      "\u001b[92m[INFO] [graph] found dbg/e6d6347750/graphs/rename.6166348546303970230.txt \u001b[0m\n",
      "\u001b[92m[INFO] [stats] found dbg/e6d6347750/stats/rename.6166348546303970230.txt \u001b[0m\u001b[92m[INFO] [graph] found dbg/8852397c03/graphs/shuffle.2283801066809428312.txt \u001b[0m\n",
      "\n",
      "\u001b[92m[INFO] [stats] found dbg/8852397c03/stats/shuffle.2283801066809428312.txt \u001b[0m\n",
      "\u001b[92m[INFO] [graph] found dbg/de58a38d6c/graphs/shuffle.8847520876316520251.txt \u001b[0m\n",
      "\u001b[92m[INFO] [stats] found dbg/de58a38d6c/stats/shuffle.8847520876316520251.txt \u001b[0m\n",
      "\u001b[92m[INFO] [graph] found dbg/28672c8a4e/graphs/reseed.12734167293874969033.txt \u001b[0m\n",
      "\u001b[92m[INFO] [graph] found dbg/ed978bf127/graphs/rename.13652520187371493511.txt \u001b[0m\u001b[92m[INFO] [stats] found dbg/28672c8a4e/stats/reseed.12734167293874969033.txt \u001b[0m\n",
      "\n",
      "\u001b[92m[INFO] [stats] found dbg/ed978bf127/stats/rename.13652520187371493511.txt \u001b[0m\n",
      "\u001b[92m[INFO] [graph] found dbg/4680269ef1/graphs/reseed.11866981299138255781.txt \u001b[0m\n",
      "\u001b[92m[INFO] [stats] found dbg/4680269ef1/stats/reseed.11866981299138255781.txt \u001b[0m\n",
      "\u001b[92m[INFO] [graph] found dbg/2f7324b043/graphs/rename.9759967404809768436.txt \u001b[0m\n",
      "\u001b[92m[INFO] [stats] found dbg/2f7324b043/stats/rename.9759967404809768436.txt \u001b[0m\n",
      "\u001b[92m[INFO] [graph] found dbg/f9f9100cfb/graphs/rename.9857567473375746148.txt \u001b[0m\n",
      "\u001b[92m[INFO] [stats] found dbg/f9f9100cfb/stats/rename.9857567473375746148.txt \u001b[0m\n",
      "\u001b[92m[INFO] [graph] found dbg/712b931174/graphs/rename.2724968673134493599.txt \u001b[0m\n",
      "\u001b[92m[INFO] [stats] found dbg/712b931174/stats/rename.2724968673134493599.txt \u001b[0m\n",
      "\u001b[92m[INFO] [graph] found dbg/14aaa649c7/graphs/rename.7133596428123239958.txt \u001b[0m\n",
      "\u001b[92m[INFO] [stats] found dbg/14aaa649c7/stats/rename.7133596428123239958.txt \u001b[0m\n",
      "\u001b[92m[INFO] [graph] found dbg/e05c339447/graphs/rename.6098082755655786084.txt \u001b[0m\n",
      "\u001b[92m[INFO] [stats] found dbg/e05c339447/stats/rename.6098082755655786084.txt \u001b[0m\n",
      "\u001b[92m[INFO] [graph] found dbg/5ab30afc32/graphs/reseed.4178203578869741486.txt \u001b[0m\n",
      "\u001b[92m[INFO] [stats] found dbg/5ab30afc32/stats/reseed.4178203578869741486.txt \u001b[0m\n",
      "\u001b[92m[INFO] [graph] found dbg/d8c158b8bf/graphs/reseed.6733843698931562665.txt \u001b[0m\n",
      "\u001b[92m[INFO] [stats] found dbg/d8c158b8bf/stats/reseed.6733843698931562665.txt \u001b[0m\n",
      "\u001b[92m[INFO] [graph] found dbg/167389a8ef/graphs/reseed.3130191074663240265.txt \u001b[0m\n",
      "\u001b[92m[INFO] [graph] found dbg/c8f75a1321/graphs/rename.13082800778632195851.txt \u001b[0m\u001b[92m[INFO] [graph] found dbg/80d7543acb/graphs/rename.17704026267455816186.txt \u001b[0m\n",
      "\n",
      "\u001b[92m[INFO] [stats] found dbg/167389a8ef/stats/reseed.3130191074663240265.txt \u001b[0m\u001b[92m[INFO] [graph] found dbg/6f64b72bc8/graphs/shuffle.1411895648535530352.txt \u001b[0m\u001b[92m[INFO] [stats] found dbg/c8f75a1321/stats/rename.13082800778632195851.txt \u001b[0m\n",
      "\u001b[92m[INFO] [stats] found dbg/80d7543acb/stats/rename.17704026267455816186.txt \u001b[0m\n",
      "\n",
      "\u001b[92m[INFO] [stats] found dbg/6f64b72bc8/stats/shuffle.1411895648535530352.txt \u001b[0m\n",
      "\n",
      "\u001b[92m[INFO] [graph] found dbg/dea7cbc5c5/graphs/reseed.5335745258747010406.txt \u001b[0m\n",
      "\u001b[92m[INFO] [graph] found dbg/c48bc62edc/graphs/rename.11428528207246791422.txt \u001b[0m\u001b[92m[INFO] [stats] found dbg/dea7cbc5c5/stats/reseed.5335745258747010406.txt \u001b[0m\n",
      "\n",
      "\u001b[92m[INFO] [stats] found dbg/c48bc62edc/stats/rename.11428528207246791422.txt \u001b[0m\n",
      "\u001b[92m[INFO] [graph] found dbg/416446ca74/graphs/rename.10804334294763044750.txt \u001b[0m\n",
      "\u001b[92m[INFO] [stats] found dbg/416446ca74/stats/rename.10804334294763044750.txt \u001b[0m\u001b[92m[INFO] [graph] found dbg/9735a6b051/graphs/shuffle.3042402874214107797.txt \u001b[0m\n",
      "\n",
      "\u001b[92m[INFO] [stats] found dbg/9735a6b051/stats/shuffle.3042402874214107797.txt \u001b[0m\n",
      "\u001b[92m[INFO] [graph] found dbg/fa1767e6e3/graphs/shuffle.2975091581744482478.txt \u001b[0m\n",
      "\u001b[92m[INFO] [stats] found dbg/fa1767e6e3/stats/shuffle.2975091581744482478.txt \u001b[0m\n",
      "\u001b[92m[INFO] [graph] found dbg/1db53f149e/graphs/shuffle.10766913993917550501.txt \u001b[0m\n",
      "\u001b[92m[INFO] [stats] found dbg/1db53f149e/stats/shuffle.10766913993917550501.txt \u001b[0m\n",
      "\u001b[92m[INFO] [graph] found dbg/fa548b2af5/graphs/shuffle.2105775519077259825.txt \u001b[0m\n",
      "\u001b[92m[INFO] [stats] found dbg/fa548b2af5/stats/shuffle.2105775519077259825.txt \u001b[0m\n",
      "\u001b[92m[INFO] [graph] found dbg/cd6cdb377d/graphs/rename.8308641443326758081.txt \u001b[0m\n",
      "\u001b[92m[INFO] [stats] found dbg/cd6cdb377d/stats/rename.8308641443326758081.txt \u001b[0m\n",
      "\u001b[92m[INFO] [graph] found dbg/842038cbbb/graphs/rename.16484883400194069314.txt \u001b[0m\u001b[92m[INFO] [graph] found dbg/f8e63dc317/graphs/reseed.8002298816902264236.txt \u001b[0m\n",
      "\n",
      "\u001b[92m[INFO] [stats] found dbg/842038cbbb/stats/rename.16484883400194069314.txt \u001b[0m\u001b[92m[INFO] [stats] found dbg/f8e63dc317/stats/reseed.8002298816902264236.txt \u001b[0m\n",
      "\n",
      "\u001b[92m[INFO] [graph] found dbg/4bb10dc4e9/graphs/shuffle.1931749832894425658.txt \u001b[0m\n",
      "\u001b[92m[INFO] [stats] found dbg/4bb10dc4e9/stats/shuffle.1931749832894425658.txt \u001b[0m\u001b[92m[INFO] [graph] found dbg/462c420128/graphs/shuffle.3795908834338762170.txt \u001b[0m\u001b[92m[INFO] [graph] found dbg/2b4b7cd571/graphs/rename.11621091175496893281.txt \u001b[0m\n",
      "\n",
      "\n",
      "\u001b[92m[INFO] [stats] found dbg/462c420128/stats/shuffle.3795908834338762170.txt \u001b[0m\u001b[92m[INFO] [stats] found dbg/2b4b7cd571/stats/rename.11621091175496893281.txt \u001b[0m\n",
      "\n",
      "\u001b[92m[INFO] [graph] found dbg/fdbf242cbe/graphs/reseed.4046817827899420188.txt \u001b[0m\n",
      "\u001b[92m[INFO] [stats] found dbg/fdbf242cbe/stats/reseed.4046817827899420188.txt \u001b[0m\n",
      "\u001b[92m[INFO] [graph] found dbg/b778746723/graphs/reseed.15045059155017491824.txt \u001b[0m\u001b[92m[INFO] [graph] found dbg/83448eecf5/graphs/rename.2780314412708427940.txt \u001b[0m\n",
      "\u001b[92m[INFO] [stats] found dbg/b778746723/stats/reseed.15045059155017491824.txt \u001b[0m\u001b[92m[INFO] [graph] found dbg/e95adeebaf/graphs/rename.7277913462564414578.txt \u001b[0m\n",
      "\n",
      "\n",
      "\u001b[92m[INFO] [stats] found dbg/83448eecf5/stats/rename.2780314412708427940.txt \u001b[0m\u001b[92m[INFO] [stats] found dbg/e95adeebaf/stats/rename.7277913462564414578.txt \u001b[0m\n",
      "\n",
      "\u001b[92m[INFO] [graph] found dbg/4ae002e825/graphs/rename.525307100499888229.txt \u001b[0m\n",
      "\u001b[92m[INFO] [graph] found dbg/43588efb1c/graphs/reseed.5818435266301512309.txt \u001b[0m\u001b[92m[INFO] [stats] found dbg/4ae002e825/stats/rename.525307100499888229.txt \u001b[0m\n",
      "\n",
      "\u001b[92m[INFO] [stats] found dbg/43588efb1c/stats/reseed.5818435266301512309.txt \u001b[0m\u001b[92m[INFO] [graph] found dbg/5954cb98c8/graphs/rename.6138547486445646794.txt \u001b[0m\n",
      "\n",
      "\u001b[92m[INFO] [stats] found dbg/5954cb98c8/stats/rename.6138547486445646794.txt \u001b[0m\u001b[92m[INFO] [graph] found dbg/cbc1128701/graphs/rename.4906413604329014943.txt \u001b[0m\n",
      "\n",
      "\u001b[92m[INFO] [stats] found dbg/cbc1128701/stats/rename.4906413604329014943.txt \u001b[0m\n",
      "\u001b[92m[INFO] [graph] found dbg/a70ef5a023/graphs/rename.270460265368939904.txt \u001b[0m\u001b[92m[INFO] [graph] found dbg/dd8e6c2233/graphs/reseed.5023463268430933414.txt \u001b[0m\n",
      "\n",
      "\u001b[92m[INFO] [stats] found dbg/a70ef5a023/stats/rename.270460265368939904.txt \u001b[0m\u001b[92m[INFO] [stats] found dbg/dd8e6c2233/stats/reseed.5023463268430933414.txt \u001b[0m\n",
      "\n",
      "\u001b[92m[INFO] [graph] found dbg/81df0e63de/graphs/shuffle.14286905818039578562.txt \u001b[0m\n",
      "\u001b[92m[INFO] [stats] found dbg/81df0e63de/stats/shuffle.14286905818039578562.txt \u001b[0m\n",
      "\u001b[92m[INFO] [graph] found dbg/d8c62df78c/graphs/rename.9183336234731365555.txt \u001b[0m\n",
      "\u001b[92m[INFO] [stats] found dbg/d8c62df78c/stats/rename.9183336234731365555.txt \u001b[0m\n",
      "\u001b[92m[INFO] [graph] found dbg/d87c685738/graphs/shuffle.3947159071825569127.txt \u001b[0m\n",
      "\u001b[92m[INFO] [stats] found dbg/d87c685738/stats/shuffle.3947159071825569127.txt \u001b[0m\n",
      "\u001b[92m[INFO] [graph] found dbg/383f10cfb6/graphs/shuffle.14563076529949232051.txt \u001b[0m\n",
      "\u001b[92m[INFO] [stats] found dbg/383f10cfb6/stats/shuffle.14563076529949232051.txt \u001b[0m\n",
      "\u001b[92m[INFO] [graph] found dbg/873cd88973/graphs/reseed.1646534082428575346.txt \u001b[0m\n",
      "\u001b[92m[INFO] [stats] found dbg/873cd88973/stats/reseed.1646534082428575346.txt \u001b[0m\n"
     ]
    }
   ],
   "source": [
    "import multiprocessing\n",
    "from utils.cache_utils import *\n",
    "\n",
    "def get_best_rank(rev: Evaluator):\n",
    "    report = rev.build_report()\n",
    "    mi = rev.get_trace_info()\n",
    "    g = mi.get_trace_graph()\n",
    "    ratios = rev.get_trace_graph_ratios()\n",
    "    scores = dict()\n",
    "\n",
    "    for qname, ratio in ratios.items():\n",
    "        scores[qname] = g.aggregate_scores(ratio)\n",
    "\n",
    "    scores = sorted(scores.items(), key=lambda x: x[1], reverse=True)\n",
    "    ranked = [x[0] for x in scores]\n",
    "    best_rank = len(ranked)\n",
    "\n",
    "    for qname in report.stabilized.qname.values:\n",
    "        best_rank = min(best_rank, ranked.index(qname) + 1)\n",
    "\n",
    "    return best_rank\n",
    "\n",
    "def get_best_ranks(mode: TraceFailure):\n",
    "    jobs = []\n",
    "\n",
    "    for query in f_modes[mode]:\n",
    "        rev = revs[query]\n",
    "        # print(name_hash)\n",
    "        ratio_cache = rev.name_hash + \".ratios\"\n",
    "\n",
    "        if not has_cache(ratio_cache):\n",
    "            print(\"./src/debugger3.py -i\", query, \"--build-ratios\")\n",
    "            continue\n",
    "\n",
    "        jobs.append(rev)\n",
    "\n",
    "    pool = multiprocessing.Pool(16)\n",
    "    return pool.map(get_best_rank, jobs)\n",
    "\n",
    "summaries = dict()\n",
    "\n",
    "for mode in [TraceFailure.SLOW_UNKNOWN, TraceFailure.NOT_FAIL, TraceFailure.TIMEOUT, TraceFailure.FAST_UNKNOWN]:\n",
    "    summaries[mode] = get_best_ranks(mode)\n"
   ]
  },
  {
   "cell_type": "code",
   "execution_count": 10,
   "metadata": {},
   "outputs": [
    {
     "name": "stdout",
     "output_type": "stream",
     "text": [
      "['83448eecf5', '4ae002e825', 'cbc1128701', 'aa849323ae', 'f9f9100cfb', '712b931174', 'ed978bf127', 'a878753336', '2b4b7cd571', '4aecdc3251', '14aaa649c7', '80d7543acb', 'fa548b2af5', '40d72d4071', '6f64b72bc8', 'b778746723', 'a70ef5a023', 'acf6656f68', '873cd88973', 'fa1767e6e3', '1db53f149e', '4680269ef1', '28672c8a4e', 'b5cc583f2d', 'e6d6347750', '3818823b0a', '0a4b4299d2', 'fdbf242cbe', 'c2671f2f38', 'c8f75a1321', '2a2073ceb5', 'e05c339447', 'd87c685738', '5954cb98c8', '5ab30afc32', 'f8e63dc317', 'd8c158b8bf', '125461812b', 'c48bc62edc', '167389a8ef', 'cd6cdb377d', 'fcb903eff0', '1aa46bd795', '81df0e63de', 'e3b4e5b780', '79fffdb8cb', '842038cbbb', '9735a6b051', '7d2782e41a', '16d92ddc7b', 'dea7cbc5c5', '43588efb1c', '4bb10dc4e9', 'd8c62df78c', '7fedd43bf6', '2f7324b043', '519fdc89c1', 'e95adeebaf', '8852397c03', 'c8ca6d3f20', 'dd8e6c2233', '416446ca74', '462c420128', '3d63ac7eaf', 'de58a38d6c', '383f10cfb6']\n",
      "['1a397d663b', '0b497bc090', '0334fcf203', 'a19f4272bf', 'fb0072addd', '473fa6f229', '95ece4e2c8', '5b7d18ab3e']\n",
      "cache/83448eecf5.report\n",
      "251e3981cb8992cf27c93290f5ba45d0.pickle\n"
     ]
    },
    {
     "name": "stderr",
     "output_type": "stream",
     "text": [
      "\u001b[94m[DEBUG] [edit] proof path: dbg/83448eecf5/proofs/reseed.444822085354912444.proof \u001b[0m\n",
      "\u001b[94m[DEBUG] [edit] trace path: dbg/83448eecf5/traces/rename.2780314412708427940 \u001b[0m\n"
     ]
    },
    {
     "name": "stdout",
     "output_type": "stream",
     "text": [
      "\u001b[93m[WARN] [differ] qid constructor_accessor_axiom not found in dbg/83448eecf5/orig.smt2 \u001b[0m\n",
      "cache/4ae002e825.report\n",
      "b62705d7ff15b8bcf7969cb65dec214a.pickle\n"
     ]
    },
    {
     "name": "stderr",
     "output_type": "stream",
     "text": [
      "\u001b[94m[DEBUG] [edit] proof path: dbg/4ae002e825/proofs/rename.8639222967174887047.proof \u001b[0m\n",
      "\u001b[94m[DEBUG] [edit] trace path: dbg/4ae002e825/traces/rename.525307100499888229 \u001b[0m\n"
     ]
    },
    {
     "name": "stdout",
     "output_type": "stream",
     "text": [
      "\u001b[93m[WARN] [differ] qid constructor_accessor_axiom not found in dbg/4ae002e825/orig.smt2 \u001b[0m\n",
      "cache/cbc1128701.report\n",
      "9d742036e8cb3ce173c6e4358a4d9946.pickle\n"
     ]
    },
    {
     "name": "stderr",
     "output_type": "stream",
     "text": [
      "\u001b[94m[DEBUG] [edit] proof path: dbg/cbc1128701/proofs/shuffle.2289279183210504649.proof \u001b[0m\n",
      "\u001b[94m[DEBUG] [edit] trace path: dbg/cbc1128701/traces/rename.4906413604329014943 \u001b[0m\n"
     ]
    },
    {
     "name": "stdout",
     "output_type": "stream",
     "text": [
      "\u001b[93m[WARN] [differ] qid constructor_accessor_axiom not found in dbg/cbc1128701/orig.smt2 \u001b[0m\n",
      "\u001b[93m[WARN] [differ] qid <null> not found in dbg/cbc1128701/orig.smt2 \u001b[0m\n",
      "cache/aa849323ae.report\n",
      "1c7474cbdf153b37fb8cb092e3b0f587.pickle\n"
     ]
    },
    {
     "name": "stderr",
     "output_type": "stream",
     "text": [
      "\u001b[94m[DEBUG] [edit] proof path: dbg/aa849323ae/proofs/reseed.4097731722891911052.proof \u001b[0m\n",
      "\u001b[94m[DEBUG] [edit] trace path: dbg/aa849323ae/traces/rename.15326657433365833747 \u001b[0m\n"
     ]
    },
    {
     "name": "stdout",
     "output_type": "stream",
     "text": [
      "\u001b[93m[WARN] [differ] qid constructor_accessor_axiom not found in dbg/aa849323ae/orig.smt2 \u001b[0m\n",
      "\u001b[93m[WARN] [differ] qid <null> not found in dbg/aa849323ae/orig.smt2 \u001b[0m\n",
      "cache/f9f9100cfb.report\n",
      "c0e768d6c3645cf6c040e1706c26e002.pickle\n"
     ]
    },
    {
     "name": "stderr",
     "output_type": "stream",
     "text": [
      "\u001b[94m[DEBUG] [edit] proof path: dbg/f9f9100cfb/proofs/reseed.15249480507462280799.proof \u001b[0m\n",
      "\u001b[94m[DEBUG] [edit] trace path: dbg/f9f9100cfb/traces/rename.9857567473375746148 \u001b[0m\n"
     ]
    },
    {
     "name": "stdout",
     "output_type": "stream",
     "text": [
      "\u001b[93m[WARN] [differ] qid constructor_accessor_axiom not found in dbg/f9f9100cfb/orig.smt2 \u001b[0m\n",
      "cache/712b931174.report\n",
      "b90c879e5e5ca93266c6f53e40ae1faa.pickle\n"
     ]
    },
    {
     "name": "stderr",
     "output_type": "stream",
     "text": [
      "\u001b[94m[DEBUG] [edit] proof path: dbg/712b931174/proofs/rename.10105858055306181435.proof \u001b[0m\n",
      "\u001b[94m[DEBUG] [edit] trace path: dbg/712b931174/traces/rename.2724968673134493599 \u001b[0m\n"
     ]
    },
    {
     "name": "stdout",
     "output_type": "stream",
     "text": [
      "\u001b[93m[WARN] [differ] qid constructor_accessor_axiom not found in dbg/712b931174/orig.smt2 \u001b[0m\n",
      "\u001b[93m[WARN] [differ] qid <null> not found in dbg/712b931174/orig.smt2 \u001b[0m\n",
      "cache/ed978bf127.report\n",
      "0eac76e48b9666eaa5a76bcd1ff26353.pickle\n"
     ]
    },
    {
     "name": "stderr",
     "output_type": "stream",
     "text": [
      "\u001b[94m[DEBUG] [edit] proof path: dbg/ed978bf127/proofs/rename.4488120247416627257.proof \u001b[0m\n",
      "\u001b[94m[DEBUG] [edit] trace path: dbg/ed978bf127/traces/rename.13652520187371493511 \u001b[0m\n"
     ]
    },
    {
     "name": "stdout",
     "output_type": "stream",
     "text": [
      "\u001b[93m[WARN] [differ] qid constructor_accessor_axiom not found in dbg/ed978bf127/orig.smt2 \u001b[0m\n",
      "\u001b[93m[WARN] [differ] qid <null> not found in dbg/ed978bf127/orig.smt2 \u001b[0m\n",
      "cache/a878753336.report\n",
      "592b508ab34a98a33573e9faa0570f5e.pickle\n"
     ]
    },
    {
     "name": "stderr",
     "output_type": "stream",
     "text": [
      "\u001b[94m[DEBUG] [edit] proof path: dbg/a878753336/proofs/rename.7338635067266506579.proof \u001b[0m\n",
      "\u001b[94m[DEBUG] [edit] trace path: dbg/a878753336/traces/shuffle.16367809485740251325 \u001b[0m\n"
     ]
    },
    {
     "name": "stdout",
     "output_type": "stream",
     "text": [
      "\u001b[93m[WARN] [differ] qid constructor_accessor_axiom not found in dbg/a878753336/orig.smt2 \u001b[0m\n",
      "cache/2b4b7cd571.report\n",
      "c9d2efa0b30d3fd972b1d29b65008c83.pickle\n"
     ]
    },
    {
     "name": "stderr",
     "output_type": "stream",
     "text": [
      "\u001b[94m[DEBUG] [edit] proof path: dbg/2b4b7cd571/proofs/rename.17515219658020176171.proof \u001b[0m\n",
      "\u001b[94m[DEBUG] [edit] trace path: dbg/2b4b7cd571/traces/rename.11621091175496893281 \u001b[0m\n"
     ]
    },
    {
     "name": "stdout",
     "output_type": "stream",
     "text": [
      "\u001b[93m[WARN] [differ] qid constructor_accessor_axiom not found in dbg/2b4b7cd571/orig.smt2 \u001b[0m\n",
      "cache/4aecdc3251.report\n",
      "a4c08e0ce3cd9eafb71519639b67cc1e.pickle\n"
     ]
    },
    {
     "name": "stderr",
     "output_type": "stream",
     "text": [
      "\u001b[94m[DEBUG] [edit] proof path: dbg/4aecdc3251/proofs/shuffle.13874156040788355854.proof \u001b[0m\n",
      "\u001b[94m[DEBUG] [edit] trace path: dbg/4aecdc3251/traces/rename.13988150344836245527 \u001b[0m\n"
     ]
    },
    {
     "name": "stdout",
     "output_type": "stream",
     "text": [
      "\u001b[93m[WARN] [differ] qid constructor_accessor_axiom not found in dbg/4aecdc3251/orig.smt2 \u001b[0m\n",
      "cache/14aaa649c7.report\n",
      "5b3382c6451a33460ba5f1f0774bcaab.pickle\n"
     ]
    },
    {
     "name": "stderr",
     "output_type": "stream",
     "text": [
      "\u001b[94m[DEBUG] [edit] proof path: dbg/14aaa649c7/proofs/reseed.10839646555403898243.proof \u001b[0m\n",
      "\u001b[94m[DEBUG] [edit] trace path: dbg/14aaa649c7/traces/rename.7133596428123239958 \u001b[0m\n"
     ]
    },
    {
     "name": "stdout",
     "output_type": "stream",
     "text": [
      "\u001b[93m[WARN] [differ] qid constructor_accessor_axiom not found in dbg/14aaa649c7/orig.smt2 \u001b[0m\n",
      "\u001b[93m[WARN] [differ] qid <null> not found in dbg/14aaa649c7/orig.smt2 \u001b[0m\n",
      "cache/80d7543acb.report\n",
      "fff3ff36a123e25c817afce928e8be16.pickle\n"
     ]
    },
    {
     "name": "stderr",
     "output_type": "stream",
     "text": [
      "\u001b[94m[DEBUG] [edit] proof path: dbg/80d7543acb/proofs/shuffle.5982584372288922798.proof \u001b[0m\n",
      "\u001b[94m[DEBUG] [edit] trace path: dbg/80d7543acb/traces/rename.17704026267455816186 \u001b[0m\n"
     ]
    },
    {
     "name": "stdout",
     "output_type": "stream",
     "text": [
      "\u001b[93m[WARN] [differ] qid constructor_accessor_axiom not found in dbg/80d7543acb/orig.smt2 \u001b[0m\n",
      "\u001b[93m[WARN] [differ] qid <null> not found in dbg/80d7543acb/orig.smt2 \u001b[0m\n",
      "cache/fa548b2af5.report\n",
      "393e29546b5f6dfac4705eda5712cd8d.pickle\n"
     ]
    },
    {
     "name": "stderr",
     "output_type": "stream",
     "text": [
      "\u001b[94m[DEBUG] [edit] proof path: dbg/fa548b2af5/proofs/shuffle.8557326802406986160.proof \u001b[0m\n",
      "\u001b[94m[DEBUG] [edit] trace path: dbg/fa548b2af5/traces/shuffle.2105775519077259825 \u001b[0m\n"
     ]
    },
    {
     "name": "stdout",
     "output_type": "stream",
     "text": [
      "\u001b[93m[WARN] [differ] qid constructor_accessor_axiom not found in dbg/fa548b2af5/orig.smt2 \u001b[0m\n",
      "\u001b[93m[WARN] [differ] qid <null> not found in dbg/fa548b2af5/orig.smt2 \u001b[0m\n",
      "cache/40d72d4071.report\n",
      "5d76a620052be9ae518caf6aa4ff271a.pickle\n"
     ]
    },
    {
     "name": "stderr",
     "output_type": "stream",
     "text": [
      "\u001b[94m[DEBUG] [edit] proof path: dbg/40d72d4071/proofs/reseed.18434750819275828143.proof \u001b[0m\n",
      "\u001b[94m[DEBUG] [edit] trace path: dbg/40d72d4071/traces/shuffle.1147668706465986584 \u001b[0m\n"
     ]
    },
    {
     "name": "stdout",
     "output_type": "stream",
     "text": [
      "\u001b[93m[WARN] [differ] qid constructor_accessor_axiom not found in dbg/40d72d4071/orig.smt2 \u001b[0m\n",
      "cache/6f64b72bc8.report\n",
      "2d06c35fdc06ca6acab2bca8f255435e.pickle\n"
     ]
    },
    {
     "name": "stderr",
     "output_type": "stream",
     "text": [
      "\u001b[94m[DEBUG] [edit] proof path: dbg/6f64b72bc8/proofs/shuffle.12404901591700179373.proof \u001b[0m\n",
      "\u001b[94m[DEBUG] [edit] trace path: dbg/6f64b72bc8/traces/shuffle.1411895648535530352 \u001b[0m\n"
     ]
    },
    {
     "name": "stdout",
     "output_type": "stream",
     "text": [
      "\u001b[93m[WARN] [differ] qid constructor_accessor_axiom not found in dbg/6f64b72bc8/orig.smt2 \u001b[0m\n",
      "cache/b778746723.report\n",
      "026b8b1496e2ec7c181879050357b863.pickle\n"
     ]
    },
    {
     "name": "stderr",
     "output_type": "stream",
     "text": [
      "\u001b[94m[DEBUG] [edit] proof path: dbg/b778746723/proofs/rename.12719943900615010961.proof \u001b[0m\n",
      "\u001b[94m[DEBUG] [edit] trace path: dbg/b778746723/traces/reseed.15045059155017491824 \u001b[0m\n"
     ]
    },
    {
     "name": "stdout",
     "output_type": "stream",
     "text": [
      "\u001b[93m[WARN] [differ] qid constructor_accessor_axiom not found in dbg/b778746723/orig.smt2 \u001b[0m\n",
      "\u001b[93m[WARN] [differ] qid <null> not found in dbg/b778746723/orig.smt2 \u001b[0m\n",
      "cache/a70ef5a023.report\n",
      "1f69b83dbf9194584c4a94e2ba7a00c8.pickle\n"
     ]
    },
    {
     "name": "stderr",
     "output_type": "stream",
     "text": [
      "\u001b[94m[DEBUG] [edit] proof path: dbg/a70ef5a023/proofs/reseed.17431118501531959295.proof \u001b[0m\n",
      "\u001b[94m[DEBUG] [edit] trace path: dbg/a70ef5a023/traces/rename.270460265368939904 \u001b[0m\n"
     ]
    },
    {
     "name": "stdout",
     "output_type": "stream",
     "text": [
      "\u001b[93m[WARN] [differ] qid constructor_accessor_axiom not found in dbg/a70ef5a023/orig.smt2 \u001b[0m\n",
      "\u001b[93m[WARN] [differ] qid <null> not found in dbg/a70ef5a023/orig.smt2 \u001b[0m\n",
      "cache/acf6656f68.report\n",
      "af477c36258be1ed43167c23a7c3bcd3.pickle\n"
     ]
    },
    {
     "name": "stderr",
     "output_type": "stream",
     "text": [
      "\u001b[94m[DEBUG] [edit] proof path: dbg/acf6656f68/proofs/shuffle.1273118905308640758.proof \u001b[0m\n",
      "\u001b[94m[DEBUG] [edit] trace path: dbg/acf6656f68/traces/shuffle.712191358911638822 \u001b[0m\n"
     ]
    },
    {
     "name": "stdout",
     "output_type": "stream",
     "text": [
      "\u001b[93m[WARN] [differ] qid constructor_accessor_axiom not found in dbg/acf6656f68/orig.smt2 \u001b[0m\n",
      "cache/873cd88973.report\n",
      "f1a5bcac06ef0cb0e27378fc8e84381f.pickle\n"
     ]
    },
    {
     "name": "stderr",
     "output_type": "stream",
     "text": [
      "\u001b[94m[DEBUG] [edit] proof path: dbg/873cd88973/proofs/reseed.13123490638358085542.proof \u001b[0m\n",
      "\u001b[94m[DEBUG] [edit] trace path: dbg/873cd88973/traces/reseed.1646534082428575346 \u001b[0m\n"
     ]
    },
    {
     "name": "stdout",
     "output_type": "stream",
     "text": [
      "\u001b[93m[WARN] [differ] qid constructor_accessor_axiom not found in dbg/873cd88973/orig.smt2 \u001b[0m\n",
      "cache/fa1767e6e3.report\n",
      "6aa18eae0f354f735c0e34def7b45709.pickle\n"
     ]
    },
    {
     "name": "stderr",
     "output_type": "stream",
     "text": [
      "\u001b[94m[DEBUG] [edit] proof path: dbg/fa1767e6e3/proofs/reseed.11258956107819609430.proof \u001b[0m\n",
      "\u001b[94m[DEBUG] [edit] trace path: dbg/fa1767e6e3/traces/shuffle.2975091581744482478 \u001b[0m\n"
     ]
    },
    {
     "name": "stdout",
     "output_type": "stream",
     "text": [
      "\u001b[93m[WARN] [differ] qid constructor_accessor_axiom not found in dbg/fa1767e6e3/orig.smt2 \u001b[0m\n",
      "cache/1db53f149e.report\n",
      "8c8fc2c69b7a5639f9cd23c9957c3c84.pickle\n"
     ]
    },
    {
     "name": "stderr",
     "output_type": "stream",
     "text": [
      "\u001b[94m[DEBUG] [edit] proof path: dbg/1db53f149e/proofs/shuffle.1243286799677713151.proof \u001b[0m\n",
      "\u001b[94m[DEBUG] [edit] trace path: dbg/1db53f149e/traces/shuffle.10766913993917550501 \u001b[0m\n"
     ]
    },
    {
     "name": "stdout",
     "output_type": "stream",
     "text": [
      "\u001b[93m[WARN] [differ] qid constructor_accessor_axiom not found in dbg/1db53f149e/orig.smt2 \u001b[0m\n",
      "\u001b[93m[WARN] [differ] qid <null> not found in dbg/1db53f149e/orig.smt2 \u001b[0m\n",
      "cache/4680269ef1.report\n",
      "d771e4a4159eb03b7085409dfdf959be.pickle\n"
     ]
    },
    {
     "name": "stderr",
     "output_type": "stream",
     "text": [
      "\u001b[94m[DEBUG] [edit] proof path: dbg/4680269ef1/proofs/reseed.6066504661051901057.proof \u001b[0m\n",
      "\u001b[94m[DEBUG] [edit] trace path: dbg/4680269ef1/traces/reseed.11866981299138255781 \u001b[0m\n"
     ]
    },
    {
     "name": "stdout",
     "output_type": "stream",
     "text": [
      "\u001b[93m[WARN] [differ] qid constructor_accessor_axiom not found in dbg/4680269ef1/orig.smt2 \u001b[0m\n",
      "cache/28672c8a4e.report\n",
      "3e8668918b92916a733e3844c28f8ffa.pickle\n"
     ]
    },
    {
     "name": "stderr",
     "output_type": "stream",
     "text": [
      "\u001b[94m[DEBUG] [edit] proof path: dbg/28672c8a4e/proofs/reseed.16753205626867882807.proof \u001b[0m\n",
      "\u001b[94m[DEBUG] [edit] trace path: dbg/28672c8a4e/traces/reseed.12734167293874969033 \u001b[0m\n"
     ]
    },
    {
     "name": "stdout",
     "output_type": "stream",
     "text": [
      "\u001b[93m[WARN] [differ] qid constructor_accessor_axiom not found in dbg/28672c8a4e/orig.smt2 \u001b[0m\n",
      "cache/b5cc583f2d.report\n",
      "f308a2e06d034608e7d17834cb784b7b.pickle\n"
     ]
    },
    {
     "name": "stderr",
     "output_type": "stream",
     "text": [
      "\u001b[94m[DEBUG] [edit] proof path: dbg/b5cc583f2d/proofs/reseed.16027295042711203134.proof \u001b[0m\n",
      "\u001b[94m[DEBUG] [edit] trace path: dbg/b5cc583f2d/traces/rename.13740936046518800203 \u001b[0m\n"
     ]
    },
    {
     "name": "stdout",
     "output_type": "stream",
     "text": [
      "\u001b[93m[WARN] [differ] qid constructor_accessor_axiom not found in dbg/b5cc583f2d/orig.smt2 \u001b[0m\n",
      "cache/e6d6347750.report\n",
      "cd37ab1047103b111800bccccf9c5291.pickle\n"
     ]
    },
    {
     "name": "stderr",
     "output_type": "stream",
     "text": [
      "\u001b[94m[DEBUG] [edit] proof path: dbg/e6d6347750/proofs/shuffle.7405433334413445831.proof \u001b[0m\n",
      "\u001b[94m[DEBUG] [edit] trace path: dbg/e6d6347750/traces/rename.6166348546303970230 \u001b[0m\n"
     ]
    },
    {
     "name": "stdout",
     "output_type": "stream",
     "text": [
      "\u001b[93m[WARN] [differ] qid constructor_accessor_axiom not found in dbg/e6d6347750/orig.smt2 \u001b[0m\n",
      "cache/3818823b0a.report\n",
      "a8712b916f985815bd1c884fb86649d5.pickle\n"
     ]
    },
    {
     "name": "stderr",
     "output_type": "stream",
     "text": [
      "\u001b[94m[DEBUG] [edit] proof path: dbg/3818823b0a/proofs/reseed.14190524453450731613.proof \u001b[0m\n",
      "\u001b[94m[DEBUG] [edit] trace path: dbg/3818823b0a/traces/shuffle.8407756955934965067 \u001b[0m\n"
     ]
    },
    {
     "name": "stdout",
     "output_type": "stream",
     "text": [
      "\u001b[93m[WARN] [differ] qid constructor_accessor_axiom not found in dbg/3818823b0a/orig.smt2 \u001b[0m\n",
      "cache/0a4b4299d2.report\n",
      "3621ceb54644bfa64c40ea43716ff336.pickle\n"
     ]
    },
    {
     "name": "stderr",
     "output_type": "stream",
     "text": [
      "\u001b[94m[DEBUG] [edit] proof path: dbg/0a4b4299d2/proofs/rename.4081083699189259301.proof \u001b[0m\n",
      "\u001b[94m[DEBUG] [edit] trace path: dbg/0a4b4299d2/traces/shuffle.13393356597116236755 \u001b[0m\n"
     ]
    },
    {
     "name": "stdout",
     "output_type": "stream",
     "text": [
      "\u001b[93m[WARN] [differ] qid constructor_accessor_axiom not found in dbg/0a4b4299d2/orig.smt2 \u001b[0m\n",
      "cache/fdbf242cbe.report\n",
      "3426749c0943e2373d9678a5fa2e2f08.pickle\n"
     ]
    },
    {
     "name": "stderr",
     "output_type": "stream",
     "text": [
      "\u001b[94m[DEBUG] [edit] proof path: dbg/fdbf242cbe/proofs/shuffle.16291739231856691855.proof \u001b[0m\n",
      "\u001b[94m[DEBUG] [edit] trace path: dbg/fdbf242cbe/traces/reseed.4046817827899420188 \u001b[0m\n"
     ]
    },
    {
     "name": "stdout",
     "output_type": "stream",
     "text": [
      "\u001b[93m[WARN] [differ] qid constructor_accessor_axiom not found in dbg/fdbf242cbe/orig.smt2 \u001b[0m\n",
      "cache/c2671f2f38.report\n",
      "4d58c108b7c4b4278368df9e526adbed.pickle\n"
     ]
    },
    {
     "name": "stderr",
     "output_type": "stream",
     "text": [
      "\u001b[94m[DEBUG] [edit] proof path: dbg/c2671f2f38/proofs/rename.3801722401946867474.proof \u001b[0m\n",
      "\u001b[94m[DEBUG] [edit] trace path: dbg/c2671f2f38/traces/rename.17166540696607595682 \u001b[0m\n"
     ]
    },
    {
     "name": "stdout",
     "output_type": "stream",
     "text": [
      "\u001b[93m[WARN] [differ] qid constructor_accessor_axiom not found in dbg/c2671f2f38/orig.smt2 \u001b[0m\n",
      "cache/c8f75a1321.report\n",
      "92808afad6d533a3c385fb4809a66902.pickle\n"
     ]
    },
    {
     "name": "stderr",
     "output_type": "stream",
     "text": [
      "\u001b[94m[DEBUG] [edit] proof path: dbg/c8f75a1321/proofs/rename.9465063425749218286.proof \u001b[0m\n",
      "\u001b[94m[DEBUG] [edit] trace path: dbg/c8f75a1321/traces/rename.13082800778632195851 \u001b[0m\n"
     ]
    },
    {
     "name": "stdout",
     "output_type": "stream",
     "text": [
      "\u001b[93m[WARN] [differ] qid constructor_accessor_axiom not found in dbg/c8f75a1321/orig.smt2 \u001b[0m\n",
      "cache/2a2073ceb5.report\n",
      "e5244f39fdf9406cf2ba738a7883ffde.pickle\n"
     ]
    },
    {
     "name": "stderr",
     "output_type": "stream",
     "text": [
      "\u001b[94m[DEBUG] [edit] proof path: dbg/2a2073ceb5/proofs/rename.6724861327399764021.proof \u001b[0m\n",
      "\u001b[94m[DEBUG] [edit] trace path: dbg/2a2073ceb5/traces/reseed.16661375798901225762 \u001b[0m\n"
     ]
    },
    {
     "name": "stdout",
     "output_type": "stream",
     "text": [
      "\u001b[93m[WARN] [differ] qid constructor_accessor_axiom not found in dbg/2a2073ceb5/orig.smt2 \u001b[0m\n",
      "cache/e05c339447.report\n",
      "56f03387e5b5ae1d4330abcbe111cc4b.pickle\n"
     ]
    },
    {
     "name": "stderr",
     "output_type": "stream",
     "text": [
      "\u001b[94m[DEBUG] [edit] proof path: dbg/e05c339447/proofs/reseed.13498763414814060253.proof \u001b[0m\n",
      "\u001b[94m[DEBUG] [edit] trace path: dbg/e05c339447/traces/rename.6098082755655786084 \u001b[0m\n"
     ]
    },
    {
     "name": "stdout",
     "output_type": "stream",
     "text": [
      "\u001b[93m[WARN] [differ] qid constructor_accessor_axiom not found in dbg/e05c339447/orig.smt2 \u001b[0m\n",
      "\u001b[93m[WARN] [differ] qid <null> not found in dbg/e05c339447/orig.smt2 \u001b[0m\n",
      "cache/d87c685738.report\n",
      "c4186f601f04ad6e8948009a9a147a33.pickle\n"
     ]
    },
    {
     "name": "stderr",
     "output_type": "stream",
     "text": [
      "\u001b[94m[DEBUG] [edit] proof path: dbg/d87c685738/proofs/reseed.9418732684388111588.proof \u001b[0m\n",
      "\u001b[94m[DEBUG] [edit] trace path: dbg/d87c685738/traces/shuffle.3947159071825569127 \u001b[0m\n"
     ]
    },
    {
     "name": "stdout",
     "output_type": "stream",
     "text": [
      "\u001b[93m[WARN] [differ] qid constructor_accessor_axiom not found in dbg/d87c685738/orig.smt2 \u001b[0m\n",
      "cache/5954cb98c8.report\n",
      "824abd273acd5a53019c35127a07c057.pickle\n"
     ]
    },
    {
     "name": "stderr",
     "output_type": "stream",
     "text": [
      "\u001b[94m[DEBUG] [edit] proof path: dbg/5954cb98c8/proofs/shuffle.3314635798447046913.proof \u001b[0m\n",
      "\u001b[94m[DEBUG] [edit] trace path: dbg/5954cb98c8/traces/rename.6138547486445646794 \u001b[0m\n"
     ]
    },
    {
     "name": "stdout",
     "output_type": "stream",
     "text": [
      "\u001b[93m[WARN] [differ] qid constructor_accessor_axiom not found in dbg/5954cb98c8/orig.smt2 \u001b[0m\n",
      "cache/5ab30afc32.report\n",
      "a52e0947bffa697ae9de7e4429f2e051.pickle\n"
     ]
    },
    {
     "name": "stderr",
     "output_type": "stream",
     "text": [
      "\u001b[94m[DEBUG] [edit] proof path: dbg/5ab30afc32/proofs/shuffle.8378161165694969679.proof \u001b[0m\n",
      "\u001b[94m[DEBUG] [edit] trace path: dbg/5ab30afc32/traces/reseed.4178203578869741486 \u001b[0m\n"
     ]
    },
    {
     "name": "stdout",
     "output_type": "stream",
     "text": [
      "\u001b[93m[WARN] [differ] qid constructor_accessor_axiom not found in dbg/5ab30afc32/orig.smt2 \u001b[0m\n",
      "\u001b[93m[WARN] [differ] qid <null> not found in dbg/5ab30afc32/orig.smt2 \u001b[0m\n",
      "cache/f8e63dc317.report\n",
      "447c8344d8dd7efae504ea0b2e89869d.pickle\n"
     ]
    },
    {
     "name": "stderr",
     "output_type": "stream",
     "text": [
      "\u001b[94m[DEBUG] [edit] proof path: dbg/f8e63dc317/proofs/shuffle.16015714001655645424.proof \u001b[0m\n",
      "\u001b[94m[DEBUG] [edit] trace path: dbg/f8e63dc317/traces/reseed.8002298816902264236 \u001b[0m\n"
     ]
    },
    {
     "name": "stdout",
     "output_type": "stream",
     "text": [
      "\u001b[93m[WARN] [differ] qid constructor_accessor_axiom not found in dbg/f8e63dc317/orig.smt2 \u001b[0m\n",
      "\u001b[93m[WARN] [differ] qid <null> not found in dbg/f8e63dc317/orig.smt2 \u001b[0m\n",
      "cache/d8c158b8bf.report\n",
      "d443c654890a232f18805f1d5dbe8413.pickle\n"
     ]
    },
    {
     "name": "stderr",
     "output_type": "stream",
     "text": [
      "\u001b[94m[DEBUG] [edit] proof path: dbg/d8c158b8bf/proofs/reseed.9756347661815141602.proof \u001b[0m\n",
      "\u001b[94m[DEBUG] [edit] trace path: dbg/d8c158b8bf/traces/reseed.6733843698931562665 \u001b[0m\n"
     ]
    },
    {
     "name": "stdout",
     "output_type": "stream",
     "text": [
      "\u001b[93m[WARN] [differ] qid constructor_accessor_axiom not found in dbg/d8c158b8bf/orig.smt2 \u001b[0m\n",
      "cache/125461812b.report\n",
      "3a4d91c9b197967ae71bdb9ba56c8381.pickle\n"
     ]
    },
    {
     "name": "stderr",
     "output_type": "stream",
     "text": [
      "\u001b[94m[DEBUG] [edit] proof path: dbg/125461812b/proofs/shuffle.3288517526734879751.proof \u001b[0m\n",
      "\u001b[94m[DEBUG] [edit] trace path: dbg/125461812b/traces/reseed.8129462280506181185 \u001b[0m\n"
     ]
    },
    {
     "name": "stdout",
     "output_type": "stream",
     "text": [
      "\u001b[93m[WARN] [differ] qid constructor_accessor_axiom not found in dbg/125461812b/orig.smt2 \u001b[0m\n",
      "\u001b[93m[WARN] [differ] qid <null> not found in dbg/125461812b/orig.smt2 \u001b[0m\n",
      "cache/c48bc62edc.report\n",
      "d48cca21b46028522b70eaf1cbfd4bd0.pickle\n"
     ]
    },
    {
     "name": "stderr",
     "output_type": "stream",
     "text": [
      "\u001b[94m[DEBUG] [edit] proof path: dbg/c48bc62edc/proofs/reseed.10138462208192255426.proof \u001b[0m\n",
      "\u001b[94m[DEBUG] [edit] trace path: dbg/c48bc62edc/traces/rename.11428528207246791422 \u001b[0m\n"
     ]
    },
    {
     "name": "stdout",
     "output_type": "stream",
     "text": [
      "\u001b[93m[WARN] [differ] qid constructor_accessor_axiom not found in dbg/c48bc62edc/orig.smt2 \u001b[0m\n",
      "\u001b[93m[WARN] [differ] qid <null> not found in dbg/c48bc62edc/orig.smt2 \u001b[0m\n",
      "cache/167389a8ef.report\n",
      "072ecde762e595ac1907af8069ca5fe8.pickle\n"
     ]
    },
    {
     "name": "stderr",
     "output_type": "stream",
     "text": [
      "\u001b[94m[DEBUG] [edit] proof path: dbg/167389a8ef/proofs/shuffle.7929753250072053001.proof \u001b[0m\n",
      "\u001b[94m[DEBUG] [edit] trace path: dbg/167389a8ef/traces/reseed.3130191074663240265 \u001b[0m\n"
     ]
    },
    {
     "name": "stdout",
     "output_type": "stream",
     "text": [
      "\u001b[93m[WARN] [differ] qid constructor_accessor_axiom not found in dbg/167389a8ef/orig.smt2 \u001b[0m\n",
      "cache/cd6cdb377d.report\n",
      "86a9ac3f3cb7128472ae74f0f004da5b.pickle\n"
     ]
    },
    {
     "name": "stderr",
     "output_type": "stream",
     "text": [
      "\u001b[94m[DEBUG] [edit] proof path: dbg/cd6cdb377d/proofs/reseed.14063323229893033202.proof \u001b[0m\n",
      "\u001b[94m[DEBUG] [edit] trace path: dbg/cd6cdb377d/traces/rename.8308641443326758081 \u001b[0m\n"
     ]
    },
    {
     "name": "stdout",
     "output_type": "stream",
     "text": [
      "\u001b[93m[WARN] [differ] qid constructor_accessor_axiom not found in dbg/cd6cdb377d/orig.smt2 \u001b[0m\n",
      "\u001b[93m[WARN] [differ] qid <null> not found in dbg/cd6cdb377d/orig.smt2 \u001b[0m\n",
      "cache/fcb903eff0.report\n",
      "8f6015c126172462c56e6ab7746e3dcb.pickle\n"
     ]
    },
    {
     "name": "stderr",
     "output_type": "stream",
     "text": [
      "\u001b[94m[DEBUG] [edit] proof path: dbg/fcb903eff0/proofs/rename.4403821241300067931.proof \u001b[0m\n",
      "\u001b[94m[DEBUG] [edit] trace path: dbg/fcb903eff0/traces/rename.11842370524859696849 \u001b[0m\n"
     ]
    },
    {
     "name": "stdout",
     "output_type": "stream",
     "text": [
      "\u001b[93m[WARN] [differ] qid constructor_accessor_axiom not found in dbg/fcb903eff0/orig.smt2 \u001b[0m\n",
      "cache/1aa46bd795.report\n",
      "96f4e1fddcbe85c6d7ee44b4977b67d1.pickle\n"
     ]
    },
    {
     "name": "stderr",
     "output_type": "stream",
     "text": [
      "\u001b[94m[DEBUG] [edit] proof path: dbg/1aa46bd795/proofs/reseed.4951130707862787750.proof \u001b[0m\n",
      "\u001b[94m[DEBUG] [edit] trace path: dbg/1aa46bd795/traces/rename.6821720551067141534 \u001b[0m\n"
     ]
    },
    {
     "name": "stdout",
     "output_type": "stream",
     "text": [
      "\u001b[93m[WARN] [differ] qid constructor_accessor_axiom not found in dbg/1aa46bd795/orig.smt2 \u001b[0m\n",
      "\u001b[93m[WARN] [differ] qid <null> not found in dbg/1aa46bd795/orig.smt2 \u001b[0m\n",
      "cache/81df0e63de.report\n",
      "e04b7b3768fd1899ce8bee0c716a5e8d.pickle\n"
     ]
    },
    {
     "name": "stderr",
     "output_type": "stream",
     "text": [
      "\u001b[94m[DEBUG] [edit] proof path: dbg/81df0e63de/proofs/rename.9974360253882374580.proof \u001b[0m\n",
      "\u001b[94m[DEBUG] [edit] trace path: dbg/81df0e63de/traces/shuffle.14286905818039578562 \u001b[0m\n"
     ]
    },
    {
     "name": "stdout",
     "output_type": "stream",
     "text": [
      "\u001b[93m[WARN] [differ] qid constructor_accessor_axiom not found in dbg/81df0e63de/orig.smt2 \u001b[0m\n",
      "cache/e3b4e5b780.report\n",
      "d5506978ae70c1a754538fde445a9dcd.pickle\n"
     ]
    },
    {
     "name": "stderr",
     "output_type": "stream",
     "text": [
      "\u001b[94m[DEBUG] [edit] proof path: dbg/e3b4e5b780/proofs/rename.17962383923509965361.proof \u001b[0m\n",
      "\u001b[94m[DEBUG] [edit] trace path: dbg/e3b4e5b780/traces/reseed.9735701590801062493 \u001b[0m\n"
     ]
    },
    {
     "name": "stdout",
     "output_type": "stream",
     "text": [
      "\u001b[93m[WARN] [differ] qid constructor_accessor_axiom not found in dbg/e3b4e5b780/orig.smt2 \u001b[0m\n",
      "cache/79fffdb8cb.report\n",
      "cec852a2eb7f4418350855beb0d9a753.pickle\n"
     ]
    },
    {
     "name": "stderr",
     "output_type": "stream",
     "text": [
      "\u001b[94m[DEBUG] [edit] proof path: dbg/79fffdb8cb/proofs/shuffle.14257925346988474652.proof \u001b[0m\n",
      "\u001b[94m[DEBUG] [edit] trace path: dbg/79fffdb8cb/traces/rename.2981836586009845078 \u001b[0m\n"
     ]
    },
    {
     "name": "stdout",
     "output_type": "stream",
     "text": [
      "\u001b[93m[WARN] [differ] qid constructor_accessor_axiom not found in dbg/79fffdb8cb/orig.smt2 \u001b[0m\n",
      "\u001b[93m[WARN] [differ] qid <null> not found in dbg/79fffdb8cb/orig.smt2 \u001b[0m\n",
      "cache/842038cbbb.report\n",
      "49f9ac2988307673cb3f46b4de09ae0e.pickle\n"
     ]
    },
    {
     "name": "stderr",
     "output_type": "stream",
     "text": [
      "\u001b[94m[DEBUG] [edit] proof path: dbg/842038cbbb/proofs/reseed.9010311692030475992.proof \u001b[0m\n",
      "\u001b[94m[DEBUG] [edit] trace path: dbg/842038cbbb/traces/rename.16484883400194069314 \u001b[0m\n"
     ]
    },
    {
     "name": "stdout",
     "output_type": "stream",
     "text": [
      "\u001b[93m[WARN] [differ] qid constructor_accessor_axiom not found in dbg/842038cbbb/orig.smt2 \u001b[0m\n",
      "cache/9735a6b051.report\n",
      "47616dcf13c878bdfc1a74f1190aad0f.pickle\n"
     ]
    },
    {
     "name": "stderr",
     "output_type": "stream",
     "text": [
      "\u001b[94m[DEBUG] [edit] proof path: dbg/9735a6b051/proofs/shuffle.13356713350692587368.proof \u001b[0m\n",
      "\u001b[94m[DEBUG] [edit] trace path: dbg/9735a6b051/traces/shuffle.3042402874214107797 \u001b[0m\n"
     ]
    },
    {
     "name": "stdout",
     "output_type": "stream",
     "text": [
      "\u001b[93m[WARN] [differ] qid constructor_accessor_axiom not found in dbg/9735a6b051/orig.smt2 \u001b[0m\n",
      "cache/7d2782e41a.report\n",
      "c0e5a4bd3b80151b407e1322ca8f0d5c.pickle\n"
     ]
    },
    {
     "name": "stderr",
     "output_type": "stream",
     "text": [
      "\u001b[94m[DEBUG] [edit] proof path: dbg/7d2782e41a/proofs/reseed.10332884532241136901.proof \u001b[0m\n",
      "\u001b[94m[DEBUG] [edit] trace path: dbg/7d2782e41a/traces/reseed.6527297241485178609 \u001b[0m\n"
     ]
    },
    {
     "name": "stdout",
     "output_type": "stream",
     "text": [
      "\u001b[93m[WARN] [differ] qid constructor_accessor_axiom not found in dbg/7d2782e41a/orig.smt2 \u001b[0m\n",
      "\u001b[93m[WARN] [differ] qid <null> not found in dbg/7d2782e41a/orig.smt2 \u001b[0m\n",
      "cache/16d92ddc7b.report\n",
      "8ee9dcf4b3b1b31dea3df72e19ec0d66.pickle\n"
     ]
    },
    {
     "name": "stderr",
     "output_type": "stream",
     "text": [
      "\u001b[94m[DEBUG] [edit] proof path: dbg/16d92ddc7b/proofs/reseed.7861853284960924786.proof \u001b[0m\n",
      "\u001b[94m[DEBUG] [edit] trace path: dbg/16d92ddc7b/traces/reseed.479571399798847440 \u001b[0m\n"
     ]
    },
    {
     "name": "stdout",
     "output_type": "stream",
     "text": [
      "\u001b[93m[WARN] [differ] qid constructor_accessor_axiom not found in dbg/16d92ddc7b/orig.smt2 \u001b[0m\n",
      "\u001b[93m[WARN] [differ] qid <null> not found in dbg/16d92ddc7b/orig.smt2 \u001b[0m\n",
      "cache/dea7cbc5c5.report\n",
      "9e86676fabf3ea2d3000867b521074b9.pickle\n"
     ]
    },
    {
     "name": "stderr",
     "output_type": "stream",
     "text": [
      "\u001b[94m[DEBUG] [edit] proof path: dbg/dea7cbc5c5/proofs/reseed.1714794856289408373.proof \u001b[0m\n",
      "\u001b[94m[DEBUG] [edit] trace path: dbg/dea7cbc5c5/traces/reseed.5335745258747010406 \u001b[0m\n"
     ]
    },
    {
     "name": "stdout",
     "output_type": "stream",
     "text": [
      "\u001b[93m[WARN] [differ] qid constructor_accessor_axiom not found in dbg/dea7cbc5c5/orig.smt2 \u001b[0m\n",
      "\u001b[93m[WARN] [differ] qid <null> not found in dbg/dea7cbc5c5/orig.smt2 \u001b[0m\n",
      "cache/43588efb1c.report\n",
      "efc804fcd8657749cdafb824067779dc.pickle\n"
     ]
    },
    {
     "name": "stderr",
     "output_type": "stream",
     "text": [
      "\u001b[94m[DEBUG] [edit] proof path: dbg/43588efb1c/proofs/reseed.10866892443107955691.proof \u001b[0m\n",
      "\u001b[94m[DEBUG] [edit] trace path: dbg/43588efb1c/traces/reseed.5818435266301512309 \u001b[0m\n"
     ]
    },
    {
     "name": "stdout",
     "output_type": "stream",
     "text": [
      "\u001b[93m[WARN] [differ] qid constructor_accessor_axiom not found in dbg/43588efb1c/orig.smt2 \u001b[0m\n",
      "\u001b[93m[WARN] [differ] qid <null> not found in dbg/43588efb1c/orig.smt2 \u001b[0m\n",
      "cache/4bb10dc4e9.report\n",
      "f7879860df39d2f92a3015b17913aa68.pickle\n"
     ]
    },
    {
     "name": "stderr",
     "output_type": "stream",
     "text": [
      "\u001b[94m[DEBUG] [edit] proof path: dbg/4bb10dc4e9/proofs/rename.1033155957580174292.proof \u001b[0m\n",
      "\u001b[94m[DEBUG] [edit] trace path: dbg/4bb10dc4e9/traces/shuffle.1931749832894425658 \u001b[0m\n"
     ]
    },
    {
     "name": "stdout",
     "output_type": "stream",
     "text": [
      "\u001b[93m[WARN] [differ] qid constructor_accessor_axiom not found in dbg/4bb10dc4e9/orig.smt2 \u001b[0m\n",
      "cache/d8c62df78c.report\n",
      "9ba0bf5cb16fec6e867964496b485523.pickle\n"
     ]
    },
    {
     "name": "stderr",
     "output_type": "stream",
     "text": [
      "\u001b[94m[DEBUG] [edit] proof path: dbg/d8c62df78c/proofs/reseed.1276847554444104271.proof \u001b[0m\n",
      "\u001b[94m[DEBUG] [edit] trace path: dbg/d8c62df78c/traces/rename.9183336234731365555 \u001b[0m\n"
     ]
    },
    {
     "name": "stdout",
     "output_type": "stream",
     "text": [
      "\u001b[93m[WARN] [differ] qid constructor_accessor_axiom not found in dbg/d8c62df78c/orig.smt2 \u001b[0m\n",
      "\u001b[93m[WARN] [differ] qid <null> not found in dbg/d8c62df78c/orig.smt2 \u001b[0m\n",
      "cache/7fedd43bf6.report\n",
      "7ce7319159bc82bb44ced4d514eb9b28.pickle\n"
     ]
    },
    {
     "name": "stderr",
     "output_type": "stream",
     "text": [
      "\u001b[94m[DEBUG] [edit] proof path: dbg/7fedd43bf6/proofs/rename.16009280771862136484.proof \u001b[0m\n",
      "\u001b[94m[DEBUG] [edit] trace path: dbg/7fedd43bf6/traces/shuffle.8574729753269670983 \u001b[0m\n"
     ]
    },
    {
     "name": "stdout",
     "output_type": "stream",
     "text": [
      "\u001b[93m[WARN] [differ] qid constructor_accessor_axiom not found in dbg/7fedd43bf6/orig.smt2 \u001b[0m\n",
      "cache/2f7324b043.report\n",
      "4da6084be1314fc6dca995bfc7d6f244.pickle\n"
     ]
    },
    {
     "name": "stderr",
     "output_type": "stream",
     "text": [
      "\u001b[94m[DEBUG] [edit] proof path: dbg/2f7324b043/proofs/shuffle.16057025797625862305.proof \u001b[0m\n",
      "\u001b[94m[DEBUG] [edit] trace path: dbg/2f7324b043/traces/rename.9759967404809768436 \u001b[0m\n"
     ]
    },
    {
     "name": "stdout",
     "output_type": "stream",
     "text": [
      "\u001b[93m[WARN] [differ] qid constructor_accessor_axiom not found in dbg/2f7324b043/orig.smt2 \u001b[0m\n",
      "cache/519fdc89c1.report\n",
      "\u001b[93m[WARN] [eval] 519fdc89c1 tested count 506 < registered 508 \u001b[0m\n",
      "c45cab69984b66310b6d93c2ba16791d.pickle\n"
     ]
    },
    {
     "name": "stderr",
     "output_type": "stream",
     "text": [
      "\u001b[94m[DEBUG] [edit] proof path: dbg/519fdc89c1/proofs/rename.17233053680173779285.proof \u001b[0m\n",
      "\u001b[94m[DEBUG] [edit] trace path: dbg/519fdc89c1/traces/shuffle.4373850796075065130 \u001b[0m\n"
     ]
    },
    {
     "name": "stdout",
     "output_type": "stream",
     "text": [
      "\u001b[93m[WARN] [differ] qid constructor_accessor_axiom not found in dbg/519fdc89c1/orig.smt2 \u001b[0m\n",
      "\u001b[93m[WARN] [differ] qid <null> not found in dbg/519fdc89c1/orig.smt2 \u001b[0m\n",
      "cache/e95adeebaf.report\n",
      "c6c4ada54cd33d10a474cabc4f78b54e.pickle\n"
     ]
    },
    {
     "name": "stderr",
     "output_type": "stream",
     "text": [
      "\u001b[94m[DEBUG] [edit] proof path: dbg/e95adeebaf/proofs/rename.5660923237540706389.proof \u001b[0m\n",
      "\u001b[94m[DEBUG] [edit] trace path: dbg/e95adeebaf/traces/rename.7277913462564414578 \u001b[0m\n"
     ]
    },
    {
     "name": "stdout",
     "output_type": "stream",
     "text": [
      "\u001b[93m[WARN] [differ] qid constructor_accessor_axiom not found in dbg/e95adeebaf/orig.smt2 \u001b[0m\n",
      "cache/8852397c03.report\n",
      "6b1b1a1d6e363ae9ac5e7c68bba1134b.pickle\n"
     ]
    },
    {
     "name": "stderr",
     "output_type": "stream",
     "text": [
      "\u001b[94m[DEBUG] [edit] proof path: dbg/8852397c03/proofs/reseed.1718027715227772125.proof \u001b[0m\n",
      "\u001b[94m[DEBUG] [edit] trace path: dbg/8852397c03/traces/shuffle.2283801066809428312 \u001b[0m\n"
     ]
    },
    {
     "name": "stdout",
     "output_type": "stream",
     "text": [
      "\u001b[93m[WARN] [differ] qid constructor_accessor_axiom not found in dbg/8852397c03/orig.smt2 \u001b[0m\n",
      "\u001b[93m[WARN] [differ] qid unnamed not found in dbg/8852397c03/orig.smt2 \u001b[0m\n",
      "\u001b[93m[WARN] [differ] qid is-Prims.equals not found in dbg/8852397c03/orig.smt2 \u001b[0m\n",
      "\u001b[93m[WARN] [differ] qid is-Prims.h_equals not found in dbg/8852397c03/orig.smt2 \u001b[0m\n",
      "\u001b[93m[WARN] [differ] qid is-Prims.c_and not found in dbg/8852397c03/orig.smt2 \u001b[0m\n",
      "\u001b[93m[WARN] [differ] qid is-Prims.c_or not found in dbg/8852397c03/orig.smt2 \u001b[0m\n",
      "\u001b[93m[WARN] [differ] qid is-Prims.dtuple2 not found in dbg/8852397c03/orig.smt2 \u001b[0m\n",
      "\u001b[93m[WARN] [differ] qid is-Prims.list not found in dbg/8852397c03/orig.smt2 \u001b[0m\n",
      "\u001b[93m[WARN] [differ] qid is-FStar.Pervasives.Native.option not found in dbg/8852397c03/orig.smt2 \u001b[0m\n",
      "\u001b[93m[WARN] [differ] qid is-FStar.Pervasives.Native.tuple2 not found in dbg/8852397c03/orig.smt2 \u001b[0m\n",
      "\u001b[93m[WARN] [differ] qid is-FStar.Pervasives.Native.tuple3 not found in dbg/8852397c03/orig.smt2 \u001b[0m\n",
      "\u001b[93m[WARN] [differ] qid is-FStar.Pervasives.Native.tuple4 not found in dbg/8852397c03/orig.smt2 \u001b[0m\n",
      "\u001b[93m[WARN] [differ] qid is-FStar.Pervasives.Native.tuple5 not found in dbg/8852397c03/orig.smt2 \u001b[0m\n",
      "\u001b[93m[WARN] [differ] qid is-FStar.Pervasives.Native.tuple6 not found in dbg/8852397c03/orig.smt2 \u001b[0m\n",
      "\u001b[93m[WARN] [differ] qid is-FStar.Pervasives.Native.tuple7 not found in dbg/8852397c03/orig.smt2 \u001b[0m\n",
      "\u001b[93m[WARN] [differ] qid is-FStar.Pervasives.Native.tuple8 not found in dbg/8852397c03/orig.smt2 \u001b[0m\n",
      "\u001b[93m[WARN] [differ] qid is-FStar.Pervasives.Native.tuple9 not found in dbg/8852397c03/orig.smt2 \u001b[0m\n",
      "\u001b[93m[WARN] [differ] qid is-FStar.Pervasives.Native.tuple10 not found in dbg/8852397c03/orig.smt2 \u001b[0m\n",
      "\u001b[93m[WARN] [differ] qid is-FStar.Pervasives.Native.tuple11 not found in dbg/8852397c03/orig.smt2 \u001b[0m\n",
      "\u001b[93m[WARN] [differ] qid is-FStar.Pervasives.Native.tuple12 not found in dbg/8852397c03/orig.smt2 \u001b[0m\n",
      "\u001b[93m[WARN] [differ] qid is-FStar.Pervasives.Native.tuple13 not found in dbg/8852397c03/orig.smt2 \u001b[0m\n",
      "\u001b[93m[WARN] [differ] qid is-FStar.Pervasives.Native.tuple14 not found in dbg/8852397c03/orig.smt2 \u001b[0m\n",
      "\u001b[93m[WARN] [differ] qid is-FStar.Pervasives.result not found in dbg/8852397c03/orig.smt2 \u001b[0m\n",
      "\u001b[93m[WARN] [differ] qid is-FStar.Pervasives.either not found in dbg/8852397c03/orig.smt2 \u001b[0m\n",
      "\u001b[93m[WARN] [differ] qid is-FStar.Pervasives.dtuple3 not found in dbg/8852397c03/orig.smt2 \u001b[0m\n",
      "\u001b[93m[WARN] [differ] qid is-FStar.Pervasives.dtuple4 not found in dbg/8852397c03/orig.smt2 \u001b[0m\n",
      "\u001b[93m[WARN] [differ] qid is-FStar.Calc.calc_proof not found in dbg/8852397c03/orig.smt2 \u001b[0m\n",
      "\u001b[93m[WARN] [differ] qid is-FStar.Calc.calc_pack not found in dbg/8852397c03/orig.smt2 \u001b[0m\n",
      "\u001b[93m[WARN] [differ] qid is-FStar.Tactics.Result.__result not found in dbg/8852397c03/orig.smt2 \u001b[0m\n",
      "\u001b[93m[WARN] [differ] qid is-Words_s.two not found in dbg/8852397c03/orig.smt2 \u001b[0m\n",
      "\u001b[93m[WARN] [differ] qid is-Words_s.four not found in dbg/8852397c03/orig.smt2 \u001b[0m\n",
      "\u001b[93m[WARN] [differ] qid is-Words_s.eight not found in dbg/8852397c03/orig.smt2 \u001b[0m\n",
      "\u001b[93m[WARN] [differ] qid is-FStar.Monotonic.HyperStack.mreference_ not found in dbg/8852397c03/orig.smt2 \u001b[0m\n",
      "\u001b[93m[WARN] [differ] qid is-FStar.ModifiesGen.cls not found in dbg/8852397c03/orig.smt2 \u001b[0m\n",
      "\u001b[93m[WARN] [differ] qid is-LowStar.BufferView.view not found in dbg/8852397c03/orig.smt2 \u001b[0m\n",
      "\u001b[93m[WARN] [differ] qid is-Semantics.Common.CFG.maddr not found in dbg/8852397c03/orig.smt2 \u001b[0m\n",
      "\u001b[93m[WARN] [differ] qid is-Semantics.Common.CFG.operandi not found in dbg/8852397c03/orig.smt2 \u001b[0m\n",
      "\u001b[93m[WARN] [differ] qid is-Semantics.Common.CFG.operandf not found in dbg/8852397c03/orig.smt2 \u001b[0m\n",
      "\u001b[93m[WARN] [differ] qid is-Semantics.Common.CFG.ocmp not found in dbg/8852397c03/orig.smt2 \u001b[0m\n",
      "\u001b[93m[WARN] [differ] qid is-Semantics.Common.CFG.target_t not found in dbg/8852397c03/orig.smt2 \u001b[0m\n",
      "\u001b[93m[WARN] [differ] qid is-Semantics.Common.CFG.precode not found in dbg/8852397c03/orig.smt2 \u001b[0m\n",
      "\u001b[93m[WARN] [differ] qid is-Semantics.Common.CFG.module_ not found in dbg/8852397c03/orig.smt2 \u001b[0m\n",
      "\u001b[93m[WARN] [differ] qid is-Semantics.Common.CFG.Instructions.ins_t not found in dbg/8852397c03/orig.smt2 \u001b[0m\n",
      "\u001b[93m[WARN] [differ] qid is-Common.Err.error not found in dbg/8852397c03/orig.smt2 \u001b[0m\n",
      "Quantifier mariposa_qid_631 with proof count 47 did not exist in the instantiations!\n",
      "cache/c8ca6d3f20.report\n",
      "e7196e766173d8b4c66eebe9bb8b58a9.pickle\n"
     ]
    },
    {
     "name": "stderr",
     "output_type": "stream",
     "text": [
      "\u001b[94m[DEBUG] [edit] proof path: dbg/c8ca6d3f20/proofs/shuffle.11840413857978139906.proof \u001b[0m\n",
      "\u001b[94m[DEBUG] [edit] trace path: dbg/c8ca6d3f20/traces/rename.9899697564995101021 \u001b[0m\n"
     ]
    },
    {
     "name": "stdout",
     "output_type": "stream",
     "text": [
      "\u001b[93m[WARN] [differ] qid constructor_accessor_axiom not found in dbg/c8ca6d3f20/orig.smt2 \u001b[0m\n",
      "cache/dd8e6c2233.report\n",
      "205324c86a82cd5b484482cf7ade56cc.pickle\n"
     ]
    },
    {
     "name": "stderr",
     "output_type": "stream",
     "text": [
      "\u001b[94m[DEBUG] [edit] proof path: dbg/dd8e6c2233/proofs/shuffle.7701789239498345735.proof \u001b[0m\n",
      "\u001b[94m[DEBUG] [edit] trace path: dbg/dd8e6c2233/traces/reseed.5023463268430933414 \u001b[0m\n"
     ]
    },
    {
     "name": "stdout",
     "output_type": "stream",
     "text": [
      "\u001b[93m[WARN] [differ] qid constructor_accessor_axiom not found in dbg/dd8e6c2233/orig.smt2 \u001b[0m\n",
      "\u001b[93m[WARN] [differ] qid <null> not found in dbg/dd8e6c2233/orig.smt2 \u001b[0m\n",
      "cache/416446ca74.report\n",
      "f89ec34d05e7c3913426dda0dd63b996.pickle\n"
     ]
    },
    {
     "name": "stderr",
     "output_type": "stream",
     "text": [
      "\u001b[94m[DEBUG] [edit] proof path: dbg/416446ca74/proofs/reseed.9251862582425640350.proof \u001b[0m\n",
      "\u001b[94m[DEBUG] [edit] trace path: dbg/416446ca74/traces/rename.10804334294763044750 \u001b[0m\n"
     ]
    },
    {
     "name": "stdout",
     "output_type": "stream",
     "text": [
      "\u001b[93m[WARN] [differ] qid constructor_accessor_axiom not found in dbg/416446ca74/orig.smt2 \u001b[0m\n",
      "cache/462c420128.report\n",
      "d108c666723838bcc3a936510e849dd0.pickle\n"
     ]
    },
    {
     "name": "stderr",
     "output_type": "stream",
     "text": [
      "\u001b[94m[DEBUG] [edit] proof path: dbg/462c420128/proofs/rename.12382048129621947463.proof \u001b[0m\n",
      "\u001b[94m[DEBUG] [edit] trace path: dbg/462c420128/traces/shuffle.3795908834338762170 \u001b[0m\n"
     ]
    },
    {
     "name": "stdout",
     "output_type": "stream",
     "text": [
      "\u001b[93m[WARN] [differ] qid constructor_accessor_axiom not found in dbg/462c420128/orig.smt2 \u001b[0m\n",
      "cache/3d63ac7eaf.report\n",
      "9fba1a5d43428bae280e4ef047b27b02.pickle\n"
     ]
    },
    {
     "name": "stderr",
     "output_type": "stream",
     "text": [
      "\u001b[94m[DEBUG] [edit] proof path: dbg/3d63ac7eaf/proofs/shuffle.6179274776378866348.proof \u001b[0m\n",
      "\u001b[94m[DEBUG] [edit] trace path: dbg/3d63ac7eaf/traces/shuffle.12895030831108727355 \u001b[0m\n"
     ]
    },
    {
     "name": "stdout",
     "output_type": "stream",
     "text": [
      "\u001b[93m[WARN] [differ] qid constructor_accessor_axiom not found in dbg/3d63ac7eaf/orig.smt2 \u001b[0m\n",
      "cache/de58a38d6c.report\n",
      "e1ebfa715ee74ba31a89f8f46fe96ca1.pickle\n"
     ]
    },
    {
     "name": "stderr",
     "output_type": "stream",
     "text": [
      "\u001b[94m[DEBUG] [edit] proof path: dbg/de58a38d6c/proofs/shuffle.12295561062191406147.proof \u001b[0m\n",
      "\u001b[94m[DEBUG] [edit] trace path: dbg/de58a38d6c/traces/shuffle.8847520876316520251 \u001b[0m\n"
     ]
    },
    {
     "name": "stdout",
     "output_type": "stream",
     "text": [
      "\u001b[93m[WARN] [differ] qid constructor_accessor_axiom not found in dbg/de58a38d6c/orig.smt2 \u001b[0m\n",
      "cache/383f10cfb6.report\n",
      "7c286244af1f6d1d3eed306db110a419.pickle\n"
     ]
    },
    {
     "name": "stderr",
     "output_type": "stream",
     "text": [
      "\u001b[94m[DEBUG] [edit] proof path: dbg/383f10cfb6/proofs/shuffle.17774623702512382704.proof \u001b[0m\n",
      "\u001b[94m[DEBUG] [edit] trace path: dbg/383f10cfb6/traces/shuffle.14563076529949232051 \u001b[0m\n"
     ]
    },
    {
     "name": "stdout",
     "output_type": "stream",
     "text": [
      "\u001b[93m[WARN] [differ] qid constructor_accessor_axiom not found in dbg/383f10cfb6/orig.smt2 \u001b[0m\n",
      "\u001b[93m[WARN] [differ] qid <null> not found in dbg/383f10cfb6/orig.smt2 \u001b[0m\n",
      "[1, 8, 3, 4, 65, 6, 16, 26, 1, 9, 9, 6, 4, 52, 1, 4, 4, 5, 3, 2, 5, 2, 3, 9, 2, 1, 2, 4, 2, 22, 2, 1, 3, 3, 8, 1, 5, 3, 1, 1, 32, 3, 3, 33, 2, 1, 1, 1, 6, 7, 40, 3, 15, 73, 1, 13, 48, 1, 63, 2, 15, 5, 10, 1, 2, 91]\n",
      "Mean:  11\n",
      "Median:  4.0\n",
      "14 would fix on first try\n",
      "32 would fix in 3 or fewer tries\n",
      "51 would fix in 10 or fewer tries\n"
     ]
    },
    {
     "data": {
      "text/plain": [
       "[1,\n",
       " 8,\n",
       " 3,\n",
       " 4,\n",
       " 65,\n",
       " 6,\n",
       " 16,\n",
       " 26,\n",
       " 1,\n",
       " 9,\n",
       " 9,\n",
       " 6,\n",
       " 4,\n",
       " 52,\n",
       " 1,\n",
       " 4,\n",
       " 4,\n",
       " 5,\n",
       " 3,\n",
       " 2,\n",
       " 5,\n",
       " 2,\n",
       " 3,\n",
       " 9,\n",
       " 2,\n",
       " 1,\n",
       " 2,\n",
       " 4,\n",
       " 2,\n",
       " 22,\n",
       " 2,\n",
       " 1,\n",
       " 3,\n",
       " 3,\n",
       " 8,\n",
       " 1,\n",
       " 5,\n",
       " 3,\n",
       " 1,\n",
       " 1,\n",
       " 32,\n",
       " 3,\n",
       " 3,\n",
       " 33,\n",
       " 2,\n",
       " 1,\n",
       " 1,\n",
       " 1,\n",
       " 6,\n",
       " 7,\n",
       " 40,\n",
       " 3,\n",
       " 15,\n",
       " 73,\n",
       " 1,\n",
       " 13,\n",
       " 48,\n",
       " 1,\n",
       " 63,\n",
       " 2,\n",
       " 15,\n",
       " 5,\n",
       " 10,\n",
       " 1,\n",
       " 2,\n",
       " 91]"
      ]
     },
     "execution_count": 10,
     "metadata": {},
     "output_type": "execute_result"
    }
   ],
   "source": [
    "os.chdir(\"/home/amarshah/mariposa/src\")\n",
    "from calculate_average_rank import *\n",
    "os.chdir(\"/home/yizhou7/mariposa/\")\n",
    "\n",
    "\n",
    "def get_name_hash(filename):\n",
    "    import hashlib\n",
    "    return hashlib.sha256(filename.encode()).hexdigest()[0:10]\n",
    "\n",
    "fast_unknown_files = [get_name_hash(f) for f in f_modes[TraceFailure.FAST_UNKNOWN]]\n",
    "timeout_files = files = [get_name_hash(f) for f in f_modes[TraceFailure.TIMEOUT]]\n",
    "slow_unknown_files = files = [get_name_hash(f) for f in f_modes[TraceFailure.SLOW_UNKNOWN]]\n",
    "not_fail_files = files = [get_name_hash(f) for f in f_modes[TraceFailure.NOT_FAIL]]\n",
    "\n",
    "print(fast_unknown_files)\n",
    "\n",
    "\n",
    "\n",
    "\n",
    "kw_parameters = {\"ranking_heuristic\": \"proof_inst_graph\"}\n",
    "print(files)\n",
    "fast_unknown_results = calculate_rankings(kw_parameters, fast_unknown_files)\n",
    "\n",
    "\n"
   ]
  },
  {
   "cell_type": "code",
   "execution_count": 11,
   "metadata": {},
   "outputs": [
    {
     "name": "stdout",
     "output_type": "stream",
     "text": [
      "['1a397d663b', '0b497bc090', '0334fcf203', 'a19f4272bf', 'fb0072addd', '473fa6f229', '95ece4e2c8', '5b7d18ab3e']\n",
      "cache/19e7b4a644.report\n",
      "f7274bc4b0284f49b08fafb3c2c5702c.pickle\n"
     ]
    },
    {
     "name": "stderr",
     "output_type": "stream",
     "text": [
      "\u001b[94m[DEBUG] [edit] proof path: dbg/19e7b4a644/proofs/shuffle.17669631069866628208.proof \u001b[0m\n",
      "\u001b[94m[DEBUG] [edit] trace path: dbg/19e7b4a644/traces/reseed.6283199569595562931 \u001b[0m\n"
     ]
    },
    {
     "name": "stdout",
     "output_type": "stream",
     "text": [
      "\u001b[93m[WARN] [differ] qid constructor_accessor_axiom not found in dbg/19e7b4a644/orig.smt2 \u001b[0m\n",
      "cache/802c68cc26.report\n",
      "5780f8e1c89a9afd3eef90a905220b1e.pickle\n"
     ]
    },
    {
     "name": "stderr",
     "output_type": "stream",
     "text": [
      "\u001b[94m[DEBUG] [edit] proof path: dbg/802c68cc26/proofs/reseed.18003067991515608241.proof \u001b[0m\n",
      "\u001b[94m[DEBUG] [edit] trace path: dbg/802c68cc26/traces/reseed.2674813137586048871 \u001b[0m\n"
     ]
    },
    {
     "name": "stdout",
     "output_type": "stream",
     "text": [
      "\u001b[93m[WARN] [differ] qid constructor_accessor_axiom not found in dbg/802c68cc26/orig.smt2 \u001b[0m\n",
      "\u001b[93m[WARN] [differ] qid <null> not found in dbg/802c68cc26/orig.smt2 \u001b[0m\n",
      "cache/e0ef4bae19.report\n",
      "e687b0f08cd8a5fc08f69b3e5bbcbfe6.pickle\n"
     ]
    },
    {
     "name": "stderr",
     "output_type": "stream",
     "text": [
      "\u001b[94m[DEBUG] [edit] proof path: dbg/e0ef4bae19/proofs/reseed.8682983534836271415.proof \u001b[0m\n",
      "\u001b[94m[DEBUG] [edit] trace path: dbg/e0ef4bae19/traces/rename.7908940692153966386 \u001b[0m\n"
     ]
    },
    {
     "name": "stdout",
     "output_type": "stream",
     "text": [
      "\u001b[93m[WARN] [differ] qid unknown_152 not found in dbg/e0ef4bae19/orig.smt2 \u001b[0m\n",
      "\u001b[93m[WARN] [differ] qid unknown_529 not found in dbg/e0ef4bae19/orig.smt2 \u001b[0m\n",
      "\u001b[93m[WARN] [differ] qid constructor_accessor_axiom not found in dbg/e0ef4bae19/orig.smt2 \u001b[0m\n",
      "\u001b[93m[WARN] [differ] qid <null> not found in dbg/e0ef4bae19/orig.smt2 \u001b[0m\n",
      "cache/926dcc2129.report\n",
      "46d0bc63be39db172cdd33bb75cf2567.pickle\n"
     ]
    },
    {
     "name": "stderr",
     "output_type": "stream",
     "text": [
      "\u001b[94m[DEBUG] [edit] proof path: dbg/926dcc2129/proofs/shuffle.6950530263606031413.proof \u001b[0m\n",
      "\u001b[94m[DEBUG] [edit] trace path: dbg/926dcc2129/traces/shuffle.11908414211697235530 \u001b[0m\n"
     ]
    },
    {
     "name": "stdout",
     "output_type": "stream",
     "text": [
      "\u001b[93m[WARN] [differ] qid constructor_accessor_axiom not found in dbg/926dcc2129/orig.smt2 \u001b[0m\n",
      "\u001b[93m[WARN] [differ] qid unnamed not found in dbg/926dcc2129/orig.smt2 \u001b[0m\n",
      "\u001b[93m[WARN] [differ] qid is-Prims.equals not found in dbg/926dcc2129/orig.smt2 \u001b[0m\n",
      "\u001b[93m[WARN] [differ] qid is-Prims.h_equals not found in dbg/926dcc2129/orig.smt2 \u001b[0m\n",
      "\u001b[93m[WARN] [differ] qid is-Prims.c_and not found in dbg/926dcc2129/orig.smt2 \u001b[0m\n",
      "\u001b[93m[WARN] [differ] qid is-Prims.c_or not found in dbg/926dcc2129/orig.smt2 \u001b[0m\n",
      "\u001b[93m[WARN] [differ] qid is-Prims.dtuple2 not found in dbg/926dcc2129/orig.smt2 \u001b[0m\n",
      "\u001b[93m[WARN] [differ] qid is-Prims.list not found in dbg/926dcc2129/orig.smt2 \u001b[0m\n",
      "\u001b[93m[WARN] [differ] qid is-FStar.Pervasives.Native.option not found in dbg/926dcc2129/orig.smt2 \u001b[0m\n",
      "\u001b[93m[WARN] [differ] qid is-FStar.Pervasives.Native.tuple2 not found in dbg/926dcc2129/orig.smt2 \u001b[0m\n",
      "\u001b[93m[WARN] [differ] qid is-FStar.Pervasives.Native.tuple3 not found in dbg/926dcc2129/orig.smt2 \u001b[0m\n",
      "\u001b[93m[WARN] [differ] qid is-FStar.Pervasives.Native.tuple4 not found in dbg/926dcc2129/orig.smt2 \u001b[0m\n",
      "\u001b[93m[WARN] [differ] qid is-FStar.Pervasives.Native.tuple5 not found in dbg/926dcc2129/orig.smt2 \u001b[0m\n",
      "\u001b[93m[WARN] [differ] qid is-FStar.Pervasives.Native.tuple6 not found in dbg/926dcc2129/orig.smt2 \u001b[0m\n",
      "\u001b[93m[WARN] [differ] qid is-FStar.Pervasives.Native.tuple7 not found in dbg/926dcc2129/orig.smt2 \u001b[0m\n",
      "\u001b[93m[WARN] [differ] qid is-FStar.Pervasives.Native.tuple8 not found in dbg/926dcc2129/orig.smt2 \u001b[0m\n",
      "\u001b[93m[WARN] [differ] qid is-FStar.Pervasives.Native.tuple9 not found in dbg/926dcc2129/orig.smt2 \u001b[0m\n",
      "\u001b[93m[WARN] [differ] qid is-FStar.Pervasives.Native.tuple10 not found in dbg/926dcc2129/orig.smt2 \u001b[0m\n",
      "\u001b[93m[WARN] [differ] qid is-FStar.Pervasives.Native.tuple11 not found in dbg/926dcc2129/orig.smt2 \u001b[0m\n",
      "\u001b[93m[WARN] [differ] qid is-FStar.Pervasives.Native.tuple12 not found in dbg/926dcc2129/orig.smt2 \u001b[0m\n",
      "\u001b[93m[WARN] [differ] qid is-FStar.Pervasives.Native.tuple13 not found in dbg/926dcc2129/orig.smt2 \u001b[0m\n",
      "\u001b[93m[WARN] [differ] qid is-FStar.Pervasives.Native.tuple14 not found in dbg/926dcc2129/orig.smt2 \u001b[0m\n",
      "\u001b[93m[WARN] [differ] qid is-FStar.Pervasives.result not found in dbg/926dcc2129/orig.smt2 \u001b[0m\n",
      "\u001b[93m[WARN] [differ] qid is-FStar.Pervasives.either not found in dbg/926dcc2129/orig.smt2 \u001b[0m\n",
      "\u001b[93m[WARN] [differ] qid is-FStar.Pervasives.dtuple3 not found in dbg/926dcc2129/orig.smt2 \u001b[0m\n",
      "\u001b[93m[WARN] [differ] qid is-FStar.Pervasives.dtuple4 not found in dbg/926dcc2129/orig.smt2 \u001b[0m\n",
      "\u001b[93m[WARN] [differ] qid is-FStar.Monotonic.HyperStack.mreference_ not found in dbg/926dcc2129/orig.smt2 \u001b[0m\n",
      "\u001b[93m[WARN] [differ] qid is-FStar.Calc.calc_proof not found in dbg/926dcc2129/orig.smt2 \u001b[0m\n",
      "\u001b[93m[WARN] [differ] qid is-FStar.Calc.calc_pack not found in dbg/926dcc2129/orig.smt2 \u001b[0m\n",
      "\u001b[93m[WARN] [differ] qid is-FStar.ModifiesGen.cls not found in dbg/926dcc2129/orig.smt2 \u001b[0m\n",
      "\u001b[93m[WARN] [differ] qid is-FStar.Tactics.Result.__result not found in dbg/926dcc2129/orig.smt2 \u001b[0m\n",
      "\u001b[93m[WARN] [differ] qid is-LowParse.Slice.slice not found in dbg/926dcc2129/orig.smt2 \u001b[0m\n",
      "\u001b[93m[WARN] [differ] qid is-LowParse.Low.Base.Spec.clens not found in dbg/926dcc2129/orig.smt2 \u001b[0m\n",
      "\u001b[93m[WARN] [differ] qid is-LowParse.Low.Base.irepr not found in dbg/926dcc2129/orig.smt2 \u001b[0m\n",
      "cache/9b55212ceb.report\n"
     ]
    },
    {
     "name": "stderr",
     "output_type": "stream",
     "text": [
      "\u001b[94m[DEBUG] [edit] proof path: dbg/9b55212ceb/proofs/rename.10253614142472978315.proof \u001b[0m\n",
      "\u001b[94m[DEBUG] [edit] trace path: dbg/9b55212ceb/traces/rename.1166178519093358030 \u001b[0m\n"
     ]
    },
    {
     "name": "stdout",
     "output_type": "stream",
     "text": [
      "e00c57677e4ec1f50e61369663b01bd1.pickle\n",
      "\u001b[93m[WARN] [differ] qid constructor_accessor_axiom not found in dbg/9b55212ceb/orig.smt2 \u001b[0m\n",
      "\u001b[93m[WARN] [differ] qid <null> not found in dbg/9b55212ceb/orig.smt2 \u001b[0m\n",
      "cache/6b4aac4136.report\n",
      "8e20ccb117c9c4db64cc6621725778b3.pickle\n"
     ]
    },
    {
     "name": "stderr",
     "output_type": "stream",
     "text": [
      "\u001b[94m[DEBUG] [edit] proof path: dbg/6b4aac4136/proofs/shuffle.15612838638207461481.proof \u001b[0m\n",
      "\u001b[94m[DEBUG] [edit] trace path: dbg/6b4aac4136/traces/rename.4652524944321736796 \u001b[0m\n"
     ]
    },
    {
     "name": "stdout",
     "output_type": "stream",
     "text": [
      "\u001b[93m[WARN] [differ] qid constructor_accessor_axiom not found in dbg/6b4aac4136/orig.smt2 \u001b[0m\n",
      "cache/02d1b2ad7e.report\n",
      "93db52e769d850f46d2491b2104e6ac1.pickle\n"
     ]
    },
    {
     "name": "stderr",
     "output_type": "stream",
     "text": [
      "\u001b[94m[DEBUG] [edit] proof path: dbg/02d1b2ad7e/proofs/shuffle.4952486241142826541.proof \u001b[0m\n",
      "\u001b[94m[DEBUG] [edit] trace path: dbg/02d1b2ad7e/traces/rename.5601839258195097963 \u001b[0m\n"
     ]
    },
    {
     "name": "stdout",
     "output_type": "stream",
     "text": [
      "\u001b[93m[WARN] [differ] qid constructor_accessor_axiom not found in dbg/02d1b2ad7e/orig.smt2 \u001b[0m\n",
      "cache/4c2945c620.report\n",
      "099809c9db3ab496de78e24512f8747f.pickle\n"
     ]
    },
    {
     "name": "stderr",
     "output_type": "stream",
     "text": [
      "\u001b[94m[DEBUG] [edit] proof path: dbg/4c2945c620/proofs/shuffle.2407304443274596150.proof \u001b[0m\n",
      "\u001b[94m[DEBUG] [edit] trace path: dbg/4c2945c620/traces/reseed.11328584598015576188 \u001b[0m\n"
     ]
    },
    {
     "name": "stdout",
     "output_type": "stream",
     "text": [
      "\u001b[93m[WARN] [differ] qid constructor_accessor_axiom not found in dbg/4c2945c620/orig.smt2 \u001b[0m\n",
      "\u001b[93m[WARN] [differ] qid <null> not found in dbg/4c2945c620/orig.smt2 \u001b[0m\n",
      "cache/5c1612881d.report\n",
      "445fd9e8ea9210014bff750763f4cc47.pickle\n"
     ]
    },
    {
     "name": "stderr",
     "output_type": "stream",
     "text": [
      "\u001b[94m[DEBUG] [edit] proof path: dbg/5c1612881d/proofs/shuffle.8212429219152727702.proof \u001b[0m\n",
      "\u001b[94m[DEBUG] [edit] trace path: dbg/5c1612881d/traces/shuffle.460864137482805991 \u001b[0m\n"
     ]
    },
    {
     "name": "stdout",
     "output_type": "stream",
     "text": [
      "\u001b[93m[WARN] [differ] qid constructor_accessor_axiom not found in dbg/5c1612881d/orig.smt2 \u001b[0m\n",
      "cache/72139a143b.report\n",
      "c4c6f9548ebf5426d28ef522389a7c58.pickle\n"
     ]
    },
    {
     "name": "stderr",
     "output_type": "stream",
     "text": [
      "\u001b[94m[DEBUG] [edit] proof path: dbg/72139a143b/proofs/shuffle.4442323502921286386.proof \u001b[0m\n",
      "\u001b[94m[DEBUG] [edit] trace path: dbg/72139a143b/traces/rename.8478181445676731677 \u001b[0m\n"
     ]
    },
    {
     "name": "stdout",
     "output_type": "stream",
     "text": [
      "\u001b[93m[WARN] [differ] qid constructor_accessor_axiom not found in dbg/72139a143b/orig.smt2 \u001b[0m\n",
      "\u001b[93m[WARN] [differ] qid <null> not found in dbg/72139a143b/orig.smt2 \u001b[0m\n",
      "cache/18defa0150.report\n",
      "e9f63c13125015c862c6ba0b351c75e7.pickle\n"
     ]
    },
    {
     "name": "stderr",
     "output_type": "stream",
     "text": [
      "\u001b[94m[DEBUG] [edit] proof path: dbg/18defa0150/proofs/shuffle.6998842426683500118.proof \u001b[0m\n",
      "\u001b[94m[DEBUG] [edit] trace path: dbg/18defa0150/traces/reseed.14211822210983480338 \u001b[0m\n"
     ]
    },
    {
     "name": "stdout",
     "output_type": "stream",
     "text": [
      "\u001b[93m[WARN] [differ] qid constructor_accessor_axiom not found in dbg/18defa0150/orig.smt2 \u001b[0m\n",
      "\u001b[93m[WARN] [differ] qid <null> not found in dbg/18defa0150/orig.smt2 \u001b[0m\n",
      "cache/d8cf640f87.report\n",
      "\u001b[93m[WARN] [eval] d8cf640f87 tested count 1043 < registered 1044 \u001b[0m\n",
      "1207a66ef11ef690ea58eef97ec343a6.pickle\n"
     ]
    },
    {
     "name": "stderr",
     "output_type": "stream",
     "text": [
      "\u001b[94m[DEBUG] [edit] proof path: dbg/d8cf640f87/proofs/rename.17726437116229144481.proof \u001b[0m\n",
      "\u001b[94m[DEBUG] [edit] trace path: dbg/d8cf640f87/traces/reseed.11435796152647895497 \u001b[0m\n"
     ]
    },
    {
     "name": "stdout",
     "output_type": "stream",
     "text": [
      "\u001b[93m[WARN] [differ] qid constructor_accessor_axiom not found in dbg/d8cf640f87/orig.smt2 \u001b[0m\n",
      "\u001b[93m[WARN] [differ] qid <null> not found in dbg/d8cf640f87/orig.smt2 \u001b[0m\n",
      "cache/96f127e037.report\n",
      "d565ed62985ead89797cac47a11f506a.pickle\n"
     ]
    },
    {
     "name": "stderr",
     "output_type": "stream",
     "text": [
      "\u001b[94m[DEBUG] [edit] proof path: dbg/96f127e037/proofs/shuffle.15546593093575805148.proof \u001b[0m\n",
      "\u001b[94m[DEBUG] [edit] trace path: dbg/96f127e037/traces/shuffle.7656850220859498444 \u001b[0m\n"
     ]
    },
    {
     "name": "stdout",
     "output_type": "stream",
     "text": [
      "\u001b[93m[WARN] [differ] qid constructor_accessor_axiom not found in dbg/96f127e037/orig.smt2 \u001b[0m\n",
      "cache/059d8a76e6.report\n",
      "a7a00939994619b1971b821cfa9171ac.pickle\n"
     ]
    },
    {
     "name": "stderr",
     "output_type": "stream",
     "text": [
      "\u001b[94m[DEBUG] [edit] proof path: dbg/059d8a76e6/proofs/shuffle.15462380561614620128.proof \u001b[0m\n",
      "\u001b[94m[DEBUG] [edit] trace path: dbg/059d8a76e6/traces/rename.7273341409831257884 \u001b[0m\n"
     ]
    },
    {
     "name": "stdout",
     "output_type": "stream",
     "text": [
      "\u001b[93m[WARN] [differ] qid constructor_accessor_axiom not found in dbg/059d8a76e6/orig.smt2 \u001b[0m\n",
      "cache/738511822f.report\n",
      "d55520f9b83cce3c95a4a9628bc93f1b.pickle\n"
     ]
    },
    {
     "name": "stderr",
     "output_type": "stream",
     "text": [
      "\u001b[94m[DEBUG] [edit] proof path: dbg/738511822f/proofs/rename.336600079012270330.proof \u001b[0m\n",
      "\u001b[94m[DEBUG] [edit] trace path: dbg/738511822f/traces/rename.14593727737091540123 \u001b[0m\n"
     ]
    },
    {
     "name": "stdout",
     "output_type": "stream",
     "text": [
      "\u001b[93m[WARN] [differ] qid constructor_accessor_axiom not found in dbg/738511822f/orig.smt2 \u001b[0m\n",
      "cache/7492404d65.report\n",
      "754ee4a2cf47c8216d3724b387dc0fd2.pickle\n"
     ]
    },
    {
     "name": "stderr",
     "output_type": "stream",
     "text": [
      "\u001b[94m[DEBUG] [edit] proof path: dbg/7492404d65/proofs/shuffle.5937265359115376232.proof \u001b[0m\n",
      "\u001b[94m[DEBUG] [edit] trace path: dbg/7492404d65/traces/reseed.3662971243956862967 \u001b[0m\n"
     ]
    },
    {
     "name": "stdout",
     "output_type": "stream",
     "text": [
      "\u001b[93m[WARN] [differ] qid constructor_accessor_axiom not found in dbg/7492404d65/orig.smt2 \u001b[0m\n",
      "\u001b[93m[WARN] [differ] qid <null> not found in dbg/7492404d65/orig.smt2 \u001b[0m\n",
      "cache/9796f7a39f.report\n",
      "b9bfe46a0c377052a3df1c6c675b1de4.pickle\n"
     ]
    },
    {
     "name": "stderr",
     "output_type": "stream",
     "text": [
      "\u001b[94m[DEBUG] [edit] proof path: dbg/9796f7a39f/proofs/rename.13447693609728185956.proof \u001b[0m\n",
      "\u001b[94m[DEBUG] [edit] trace path: dbg/9796f7a39f/traces/rename.9308176249336336576 \u001b[0m\n"
     ]
    },
    {
     "name": "stdout",
     "output_type": "stream",
     "text": [
      "\u001b[93m[WARN] [differ] qid constructor_accessor_axiom not found in dbg/9796f7a39f/orig.smt2 \u001b[0m\n",
      "cache/81d60427e7.report\n",
      "ad75a419585e6826355b4394f14bdd38.pickle\n"
     ]
    },
    {
     "name": "stderr",
     "output_type": "stream",
     "text": [
      "\u001b[94m[DEBUG] [edit] proof path: dbg/81d60427e7/proofs/reseed.4896564942829768780.proof \u001b[0m\n",
      "\u001b[94m[DEBUG] [edit] trace path: dbg/81d60427e7/traces/rename.5426123845634343722 \u001b[0m\n"
     ]
    },
    {
     "name": "stdout",
     "output_type": "stream",
     "text": [
      "\u001b[93m[WARN] [differ] qid constructor_accessor_axiom not found in dbg/81d60427e7/orig.smt2 \u001b[0m\n",
      "cache/9b9277bc39.report\n",
      "1cdc35c1a7b9f432c9e2c05cf00e7ba7.pickle\n"
     ]
    },
    {
     "name": "stderr",
     "output_type": "stream",
     "text": [
      "\u001b[94m[DEBUG] [edit] proof path: dbg/9b9277bc39/proofs/reseed.6463196618935386026.proof \u001b[0m\n",
      "\u001b[94m[DEBUG] [edit] trace path: dbg/9b9277bc39/traces/rename.7757314602243875533 \u001b[0m\n"
     ]
    },
    {
     "name": "stdout",
     "output_type": "stream",
     "text": [
      "\u001b[93m[WARN] [differ] qid constructor_accessor_axiom not found in dbg/9b9277bc39/orig.smt2 \u001b[0m\n",
      "\u001b[93m[WARN] [differ] qid unnamed not found in dbg/9b9277bc39/orig.smt2 \u001b[0m\n",
      "\u001b[93m[WARN] [differ] qid is-Prims.equals not found in dbg/9b9277bc39/orig.smt2 \u001b[0m\n",
      "\u001b[93m[WARN] [differ] qid is-Prims.h_equals not found in dbg/9b9277bc39/orig.smt2 \u001b[0m\n",
      "\u001b[93m[WARN] [differ] qid is-Prims.c_and not found in dbg/9b9277bc39/orig.smt2 \u001b[0m\n",
      "\u001b[93m[WARN] [differ] qid is-Prims.c_or not found in dbg/9b9277bc39/orig.smt2 \u001b[0m\n",
      "\u001b[93m[WARN] [differ] qid is-Prims.dtuple2 not found in dbg/9b9277bc39/orig.smt2 \u001b[0m\n",
      "\u001b[93m[WARN] [differ] qid is-Prims.list not found in dbg/9b9277bc39/orig.smt2 \u001b[0m\n",
      "\u001b[93m[WARN] [differ] qid is-FStar.Pervasives.Native.option not found in dbg/9b9277bc39/orig.smt2 \u001b[0m\n",
      "\u001b[93m[WARN] [differ] qid is-FStar.Pervasives.Native.tuple2 not found in dbg/9b9277bc39/orig.smt2 \u001b[0m\n",
      "\u001b[93m[WARN] [differ] qid is-FStar.Pervasives.Native.tuple3 not found in dbg/9b9277bc39/orig.smt2 \u001b[0m\n",
      "\u001b[93m[WARN] [differ] qid is-FStar.Pervasives.Native.tuple4 not found in dbg/9b9277bc39/orig.smt2 \u001b[0m\n",
      "\u001b[93m[WARN] [differ] qid is-FStar.Pervasives.Native.tuple5 not found in dbg/9b9277bc39/orig.smt2 \u001b[0m\n",
      "\u001b[93m[WARN] [differ] qid is-FStar.Pervasives.Native.tuple6 not found in dbg/9b9277bc39/orig.smt2 \u001b[0m\n",
      "\u001b[93m[WARN] [differ] qid is-FStar.Pervasives.Native.tuple7 not found in dbg/9b9277bc39/orig.smt2 \u001b[0m\n",
      "\u001b[93m[WARN] [differ] qid is-FStar.Pervasives.Native.tuple8 not found in dbg/9b9277bc39/orig.smt2 \u001b[0m\n",
      "\u001b[93m[WARN] [differ] qid is-FStar.Pervasives.Native.tuple9 not found in dbg/9b9277bc39/orig.smt2 \u001b[0m\n",
      "\u001b[93m[WARN] [differ] qid is-FStar.Pervasives.Native.tuple10 not found in dbg/9b9277bc39/orig.smt2 \u001b[0m\n",
      "\u001b[93m[WARN] [differ] qid is-FStar.Pervasives.Native.tuple11 not found in dbg/9b9277bc39/orig.smt2 \u001b[0m\n",
      "\u001b[93m[WARN] [differ] qid is-FStar.Pervasives.Native.tuple12 not found in dbg/9b9277bc39/orig.smt2 \u001b[0m\n",
      "\u001b[93m[WARN] [differ] qid is-FStar.Pervasives.Native.tuple13 not found in dbg/9b9277bc39/orig.smt2 \u001b[0m\n",
      "\u001b[93m[WARN] [differ] qid is-FStar.Pervasives.Native.tuple14 not found in dbg/9b9277bc39/orig.smt2 \u001b[0m\n",
      "\u001b[93m[WARN] [differ] qid is-FStar.Pervasives.result not found in dbg/9b9277bc39/orig.smt2 \u001b[0m\n",
      "\u001b[93m[WARN] [differ] qid is-FStar.Pervasives.either not found in dbg/9b9277bc39/orig.smt2 \u001b[0m\n",
      "\u001b[93m[WARN] [differ] qid is-FStar.Pervasives.dtuple3 not found in dbg/9b9277bc39/orig.smt2 \u001b[0m\n",
      "\u001b[93m[WARN] [differ] qid is-FStar.Pervasives.dtuple4 not found in dbg/9b9277bc39/orig.smt2 \u001b[0m\n",
      "\u001b[93m[WARN] [differ] qid is-FStar.Monotonic.HyperStack.mreference_ not found in dbg/9b9277bc39/orig.smt2 \u001b[0m\n",
      "\u001b[93m[WARN] [differ] qid is-FStar.Calc.calc_proof not found in dbg/9b9277bc39/orig.smt2 \u001b[0m\n",
      "\u001b[93m[WARN] [differ] qid is-FStar.Calc.calc_pack not found in dbg/9b9277bc39/orig.smt2 \u001b[0m\n",
      "\u001b[93m[WARN] [differ] qid is-FStar.ModifiesGen.cls not found in dbg/9b9277bc39/orig.smt2 \u001b[0m\n",
      "\u001b[93m[WARN] [differ] qid is-FStar.Tactics.Result.__result not found in dbg/9b9277bc39/orig.smt2 \u001b[0m\n",
      "\u001b[93m[WARN] [differ] qid is-LowParse.Slice.slice not found in dbg/9b9277bc39/orig.smt2 \u001b[0m\n",
      "\u001b[93m[WARN] [differ] qid is-LowParse.Low.Base.Spec.clens not found in dbg/9b9277bc39/orig.smt2 \u001b[0m\n",
      "\u001b[93m[WARN] [differ] qid is-LowParse.Low.Base.irepr not found in dbg/9b9277bc39/orig.smt2 \u001b[0m\n",
      "cache/9fe662b14c.report\n"
     ]
    },
    {
     "name": "stderr",
     "output_type": "stream",
     "text": [
      "\u001b[94m[DEBUG] [edit] proof path: dbg/9fe662b14c/proofs/shuffle.10474907352657946859.proof \u001b[0m\n",
      "\u001b[94m[DEBUG] [edit] trace path: dbg/9fe662b14c/traces/shuffle.1780632862670217874 \u001b[0m\n"
     ]
    },
    {
     "name": "stdout",
     "output_type": "stream",
     "text": [
      "b926997ee7b250f8eede1aa2d0162ad3.pickle\n",
      "\u001b[93m[WARN] [differ] qid constructor_accessor_axiom not found in dbg/9fe662b14c/orig.smt2 \u001b[0m\n",
      "cache/93815c9e8c.report\n",
      "d7548803b6378beeb13f6397e95dcd9c.pickle\n"
     ]
    },
    {
     "name": "stderr",
     "output_type": "stream",
     "text": [
      "\u001b[94m[DEBUG] [edit] proof path: dbg/93815c9e8c/proofs/rename.1086507398307270301.proof \u001b[0m\n",
      "\u001b[94m[DEBUG] [edit] trace path: dbg/93815c9e8c/traces/rename.1350392901976709294 \u001b[0m\n"
     ]
    },
    {
     "name": "stdout",
     "output_type": "stream",
     "text": [
      "\u001b[93m[WARN] [differ] qid constructor_accessor_axiom not found in dbg/93815c9e8c/orig.smt2 \u001b[0m\n",
      "\u001b[93m[WARN] [differ] qid <null> not found in dbg/93815c9e8c/orig.smt2 \u001b[0m\n",
      "cache/82035ba9e7.report\n",
      "391e510db06e7580977a4980f1761871.pickle\n"
     ]
    },
    {
     "name": "stderr",
     "output_type": "stream",
     "text": [
      "\u001b[94m[DEBUG] [edit] proof path: dbg/82035ba9e7/proofs/rename.17994543587732606157.proof \u001b[0m\n",
      "\u001b[94m[DEBUG] [edit] trace path: dbg/82035ba9e7/traces/reseed.13188729282797211904 \u001b[0m\n"
     ]
    },
    {
     "name": "stdout",
     "output_type": "stream",
     "text": [
      "\u001b[93m[WARN] [differ] qid constructor_accessor_axiom not found in dbg/82035ba9e7/orig.smt2 \u001b[0m\n",
      "cache/0e3ac592f3.report\n",
      "c2bc732587abd0ac9192dad2b81b2dc1.pickle\n"
     ]
    },
    {
     "name": "stderr",
     "output_type": "stream",
     "text": [
      "\u001b[94m[DEBUG] [edit] proof path: dbg/0e3ac592f3/proofs/reseed.9975502475377407604.proof \u001b[0m\n",
      "\u001b[94m[DEBUG] [edit] trace path: dbg/0e3ac592f3/traces/rename.3760656073266869077 \u001b[0m\n"
     ]
    },
    {
     "name": "stdout",
     "output_type": "stream",
     "text": [
      "\u001b[93m[WARN] [differ] qid constructor_accessor_axiom not found in dbg/0e3ac592f3/orig.smt2 \u001b[0m\n",
      "cache/0ad8073737.report\n",
      "26f63f30df6695a4b8c17246b1c631dc.pickle\n"
     ]
    },
    {
     "name": "stderr",
     "output_type": "stream",
     "text": [
      "\u001b[94m[DEBUG] [edit] proof path: dbg/0ad8073737/proofs/shuffle.4441056869218569661.proof \u001b[0m\n",
      "\u001b[94m[DEBUG] [edit] trace path: dbg/0ad8073737/traces/rename.16966919460295343675 \u001b[0m\n"
     ]
    },
    {
     "name": "stdout",
     "output_type": "stream",
     "text": [
      "\u001b[93m[WARN] [differ] qid constructor_accessor_axiom not found in dbg/0ad8073737/orig.smt2 \u001b[0m\n",
      "\u001b[93m[WARN] [differ] qid <null> not found in dbg/0ad8073737/orig.smt2 \u001b[0m\n",
      "cache/36a1859f27.report\n",
      "0bf93e773131f788659ae466a20a8a9d.pickle\n"
     ]
    },
    {
     "name": "stderr",
     "output_type": "stream",
     "text": [
      "\u001b[94m[DEBUG] [edit] proof path: dbg/36a1859f27/proofs/reseed.12217500072421473120.proof \u001b[0m\n",
      "\u001b[94m[DEBUG] [edit] trace path: dbg/36a1859f27/traces/shuffle.10905792018677473094 \u001b[0m\n"
     ]
    },
    {
     "name": "stdout",
     "output_type": "stream",
     "text": [
      "\u001b[93m[WARN] [differ] qid constructor_accessor_axiom not found in dbg/36a1859f27/orig.smt2 \u001b[0m\n",
      "cache/db5b85130e.report\n",
      "4a3168bf223166eb4af599dbed05558e.pickle\n"
     ]
    },
    {
     "name": "stderr",
     "output_type": "stream",
     "text": [
      "\u001b[94m[DEBUG] [edit] proof path: dbg/db5b85130e/proofs/reseed.15804967991934376171.proof \u001b[0m\n",
      "\u001b[94m[DEBUG] [edit] trace path: dbg/db5b85130e/traces/reseed.10207241081034552056 \u001b[0m\n"
     ]
    },
    {
     "name": "stdout",
     "output_type": "stream",
     "text": [
      "\u001b[93m[WARN] [differ] qid constructor_accessor_axiom not found in dbg/db5b85130e/orig.smt2 \u001b[0m\n",
      "\u001b[93m[WARN] [differ] qid <null> not found in dbg/db5b85130e/orig.smt2 \u001b[0m\n",
      "cache/1d23e345a5.report\n",
      "0729a88529c8d9272575ed8d3cf1bf15.pickle\n"
     ]
    },
    {
     "name": "stderr",
     "output_type": "stream",
     "text": [
      "\u001b[94m[DEBUG] [edit] proof path: dbg/1d23e345a5/proofs/shuffle.1504448070806092319.proof \u001b[0m\n",
      "\u001b[94m[DEBUG] [edit] trace path: dbg/1d23e345a5/traces/reseed.2928642696417764497 \u001b[0m\n"
     ]
    },
    {
     "name": "stdout",
     "output_type": "stream",
     "text": [
      "\u001b[93m[WARN] [differ] qid constructor_accessor_axiom not found in dbg/1d23e345a5/orig.smt2 \u001b[0m\n",
      "\u001b[93m[WARN] [differ] qid unnamed not found in dbg/1d23e345a5/orig.smt2 \u001b[0m\n",
      "\u001b[93m[WARN] [differ] qid is-Prims.equals not found in dbg/1d23e345a5/orig.smt2 \u001b[0m\n",
      "\u001b[93m[WARN] [differ] qid is-Prims.h_equals not found in dbg/1d23e345a5/orig.smt2 \u001b[0m\n",
      "\u001b[93m[WARN] [differ] qid is-Prims.c_and not found in dbg/1d23e345a5/orig.smt2 \u001b[0m\n",
      "\u001b[93m[WARN] [differ] qid is-Prims.c_or not found in dbg/1d23e345a5/orig.smt2 \u001b[0m\n",
      "\u001b[93m[WARN] [differ] qid is-Prims.dtuple2 not found in dbg/1d23e345a5/orig.smt2 \u001b[0m\n",
      "\u001b[93m[WARN] [differ] qid is-Prims.list not found in dbg/1d23e345a5/orig.smt2 \u001b[0m\n",
      "\u001b[93m[WARN] [differ] qid is-FStar.Pervasives.Native.option not found in dbg/1d23e345a5/orig.smt2 \u001b[0m\n",
      "\u001b[93m[WARN] [differ] qid is-FStar.Pervasives.Native.tuple2 not found in dbg/1d23e345a5/orig.smt2 \u001b[0m\n",
      "\u001b[93m[WARN] [differ] qid is-FStar.Pervasives.Native.tuple3 not found in dbg/1d23e345a5/orig.smt2 \u001b[0m\n",
      "\u001b[93m[WARN] [differ] qid is-FStar.Pervasives.Native.tuple4 not found in dbg/1d23e345a5/orig.smt2 \u001b[0m\n",
      "\u001b[93m[WARN] [differ] qid is-FStar.Pervasives.Native.tuple5 not found in dbg/1d23e345a5/orig.smt2 \u001b[0m\n",
      "\u001b[93m[WARN] [differ] qid is-FStar.Pervasives.Native.tuple6 not found in dbg/1d23e345a5/orig.smt2 \u001b[0m\n",
      "\u001b[93m[WARN] [differ] qid is-FStar.Pervasives.Native.tuple7 not found in dbg/1d23e345a5/orig.smt2 \u001b[0m\n",
      "\u001b[93m[WARN] [differ] qid is-FStar.Pervasives.Native.tuple8 not found in dbg/1d23e345a5/orig.smt2 \u001b[0m\n",
      "\u001b[93m[WARN] [differ] qid is-FStar.Pervasives.Native.tuple9 not found in dbg/1d23e345a5/orig.smt2 \u001b[0m\n",
      "\u001b[93m[WARN] [differ] qid is-FStar.Pervasives.Native.tuple10 not found in dbg/1d23e345a5/orig.smt2 \u001b[0m\n",
      "\u001b[93m[WARN] [differ] qid is-FStar.Pervasives.Native.tuple11 not found in dbg/1d23e345a5/orig.smt2 \u001b[0m\n",
      "\u001b[93m[WARN] [differ] qid is-FStar.Pervasives.Native.tuple12 not found in dbg/1d23e345a5/orig.smt2 \u001b[0m\n",
      "\u001b[93m[WARN] [differ] qid is-FStar.Pervasives.Native.tuple13 not found in dbg/1d23e345a5/orig.smt2 \u001b[0m\n",
      "\u001b[93m[WARN] [differ] qid is-FStar.Pervasives.Native.tuple14 not found in dbg/1d23e345a5/orig.smt2 \u001b[0m\n",
      "\u001b[93m[WARN] [differ] qid is-FStar.Pervasives.result not found in dbg/1d23e345a5/orig.smt2 \u001b[0m\n",
      "\u001b[93m[WARN] [differ] qid is-FStar.Pervasives.either not found in dbg/1d23e345a5/orig.smt2 \u001b[0m\n",
      "\u001b[93m[WARN] [differ] qid is-FStar.Pervasives.dtuple3 not found in dbg/1d23e345a5/orig.smt2 \u001b[0m\n",
      "\u001b[93m[WARN] [differ] qid is-FStar.Pervasives.dtuple4 not found in dbg/1d23e345a5/orig.smt2 \u001b[0m\n",
      "\u001b[93m[WARN] [differ] qid is-FStar.Monotonic.HyperStack.mreference_ not found in dbg/1d23e345a5/orig.smt2 \u001b[0m\n",
      "\u001b[93m[WARN] [differ] qid is-FStar.Calc.calc_proof not found in dbg/1d23e345a5/orig.smt2 \u001b[0m\n",
      "\u001b[93m[WARN] [differ] qid is-FStar.Calc.calc_pack not found in dbg/1d23e345a5/orig.smt2 \u001b[0m\n",
      "\u001b[93m[WARN] [differ] qid is-FStar.ModifiesGen.cls not found in dbg/1d23e345a5/orig.smt2 \u001b[0m\n",
      "\u001b[93m[WARN] [differ] qid is-FStar.Tactics.Result.__result not found in dbg/1d23e345a5/orig.smt2 \u001b[0m\n",
      "\u001b[93m[WARN] [differ] qid is-LowParse.Slice.slice not found in dbg/1d23e345a5/orig.smt2 \u001b[0m\n",
      "\u001b[93m[WARN] [differ] qid is-LowParse.Low.Base.Spec.clens not found in dbg/1d23e345a5/orig.smt2 \u001b[0m\n",
      "\u001b[93m[WARN] [differ] qid is-LowParse.Low.Base.irepr not found in dbg/1d23e345a5/orig.smt2 \u001b[0m\n",
      "Quantifier mariposa_qid_30490 with proof count 1 did not exist in the instantiations!\n",
      "cache/d29cd9f10a.report\n",
      "4b0c2ce22fe239a4098661e65a7dfb57.pickle\n"
     ]
    },
    {
     "name": "stderr",
     "output_type": "stream",
     "text": [
      "\u001b[94m[DEBUG] [edit] proof path: dbg/d29cd9f10a/proofs/rename.860527224201877435.proof \u001b[0m\n",
      "\u001b[94m[DEBUG] [edit] trace path: dbg/d29cd9f10a/traces/reseed.6261727791507031438 \u001b[0m\n"
     ]
    },
    {
     "name": "stdout",
     "output_type": "stream",
     "text": [
      "\u001b[93m[WARN] [differ] qid constructor_accessor_axiom not found in dbg/d29cd9f10a/orig.smt2 \u001b[0m\n",
      "cache/1c02a6059f.report\n",
      "75cce29fc70678aee337fec396aaf0be.pickle\n"
     ]
    },
    {
     "name": "stderr",
     "output_type": "stream",
     "text": [
      "\u001b[94m[DEBUG] [edit] proof path: dbg/1c02a6059f/proofs/shuffle.13570085104667810875.proof \u001b[0m\n",
      "\u001b[94m[DEBUG] [edit] trace path: dbg/1c02a6059f/traces/reseed.321993601582249811 \u001b[0m\n"
     ]
    },
    {
     "name": "stdout",
     "output_type": "stream",
     "text": [
      "\u001b[93m[WARN] [differ] qid constructor_accessor_axiom not found in dbg/1c02a6059f/orig.smt2 \u001b[0m\n",
      "cache/8e8d83f571.report\n",
      "9521d497ab084b273c56a7df14c1ca50.pickle\n"
     ]
    },
    {
     "name": "stderr",
     "output_type": "stream",
     "text": [
      "\u001b[94m[DEBUG] [edit] proof path: dbg/8e8d83f571/proofs/shuffle.10283284073797848268.proof \u001b[0m\n",
      "\u001b[94m[DEBUG] [edit] trace path: dbg/8e8d83f571/traces/rename.7096668465266977673 \u001b[0m\n"
     ]
    },
    {
     "name": "stdout",
     "output_type": "stream",
     "text": [
      "\u001b[93m[WARN] [differ] qid constructor_accessor_axiom not found in dbg/8e8d83f571/orig.smt2 \u001b[0m\n",
      "\u001b[93m[WARN] [differ] qid unnamed not found in dbg/8e8d83f571/orig.smt2 \u001b[0m\n",
      "\u001b[93m[WARN] [differ] qid is-Prims.equals not found in dbg/8e8d83f571/orig.smt2 \u001b[0m\n",
      "\u001b[93m[WARN] [differ] qid is-Prims.h_equals not found in dbg/8e8d83f571/orig.smt2 \u001b[0m\n",
      "\u001b[93m[WARN] [differ] qid is-Prims.c_and not found in dbg/8e8d83f571/orig.smt2 \u001b[0m\n",
      "\u001b[93m[WARN] [differ] qid is-Prims.c_or not found in dbg/8e8d83f571/orig.smt2 \u001b[0m\n",
      "\u001b[93m[WARN] [differ] qid is-Prims.dtuple2 not found in dbg/8e8d83f571/orig.smt2 \u001b[0m\n",
      "\u001b[93m[WARN] [differ] qid is-Prims.list not found in dbg/8e8d83f571/orig.smt2 \u001b[0m\n",
      "\u001b[93m[WARN] [differ] qid is-FStar.Pervasives.Native.option not found in dbg/8e8d83f571/orig.smt2 \u001b[0m\n",
      "\u001b[93m[WARN] [differ] qid is-FStar.Pervasives.Native.tuple2 not found in dbg/8e8d83f571/orig.smt2 \u001b[0m\n",
      "\u001b[93m[WARN] [differ] qid is-FStar.Pervasives.Native.tuple3 not found in dbg/8e8d83f571/orig.smt2 \u001b[0m\n",
      "\u001b[93m[WARN] [differ] qid is-FStar.Pervasives.Native.tuple4 not found in dbg/8e8d83f571/orig.smt2 \u001b[0m\n",
      "\u001b[93m[WARN] [differ] qid is-FStar.Pervasives.Native.tuple5 not found in dbg/8e8d83f571/orig.smt2 \u001b[0m\n",
      "\u001b[93m[WARN] [differ] qid is-FStar.Pervasives.Native.tuple6 not found in dbg/8e8d83f571/orig.smt2 \u001b[0m\n",
      "\u001b[93m[WARN] [differ] qid is-FStar.Pervasives.Native.tuple7 not found in dbg/8e8d83f571/orig.smt2 \u001b[0m\n",
      "\u001b[93m[WARN] [differ] qid is-FStar.Pervasives.Native.tuple8 not found in dbg/8e8d83f571/orig.smt2 \u001b[0m\n",
      "\u001b[93m[WARN] [differ] qid is-FStar.Pervasives.Native.tuple9 not found in dbg/8e8d83f571/orig.smt2 \u001b[0m\n",
      "\u001b[93m[WARN] [differ] qid is-FStar.Pervasives.Native.tuple10 not found in dbg/8e8d83f571/orig.smt2 \u001b[0m\n",
      "\u001b[93m[WARN] [differ] qid is-FStar.Pervasives.Native.tuple11 not found in dbg/8e8d83f571/orig.smt2 \u001b[0m\n",
      "\u001b[93m[WARN] [differ] qid is-FStar.Pervasives.Native.tuple12 not found in dbg/8e8d83f571/orig.smt2 \u001b[0m\n",
      "\u001b[93m[WARN] [differ] qid is-FStar.Pervasives.Native.tuple13 not found in dbg/8e8d83f571/orig.smt2 \u001b[0m\n",
      "\u001b[93m[WARN] [differ] qid is-FStar.Pervasives.Native.tuple14 not found in dbg/8e8d83f571/orig.smt2 \u001b[0m\n",
      "\u001b[93m[WARN] [differ] qid is-FStar.Pervasives.result not found in dbg/8e8d83f571/orig.smt2 \u001b[0m\n",
      "\u001b[93m[WARN] [differ] qid is-FStar.Pervasives.either not found in dbg/8e8d83f571/orig.smt2 \u001b[0m\n",
      "\u001b[93m[WARN] [differ] qid is-FStar.Pervasives.dtuple3 not found in dbg/8e8d83f571/orig.smt2 \u001b[0m\n",
      "\u001b[93m[WARN] [differ] qid is-FStar.Pervasives.dtuple4 not found in dbg/8e8d83f571/orig.smt2 \u001b[0m\n",
      "\u001b[93m[WARN] [differ] qid is-FStar.Monotonic.HyperStack.mreference_ not found in dbg/8e8d83f571/orig.smt2 \u001b[0m\n",
      "\u001b[93m[WARN] [differ] qid is-FStar.Calc.calc_proof not found in dbg/8e8d83f571/orig.smt2 \u001b[0m\n",
      "\u001b[93m[WARN] [differ] qid is-FStar.Calc.calc_pack not found in dbg/8e8d83f571/orig.smt2 \u001b[0m\n",
      "\u001b[93m[WARN] [differ] qid is-FStar.ModifiesGen.cls not found in dbg/8e8d83f571/orig.smt2 \u001b[0m\n",
      "\u001b[93m[WARN] [differ] qid is-FStar.Tactics.Result.__result not found in dbg/8e8d83f571/orig.smt2 \u001b[0m\n",
      "\u001b[93m[WARN] [differ] qid is-LowParse.Slice.slice not found in dbg/8e8d83f571/orig.smt2 \u001b[0m\n",
      "\u001b[93m[WARN] [differ] qid is-LowParse.Low.Base.Spec.clens not found in dbg/8e8d83f571/orig.smt2 \u001b[0m\n",
      "\u001b[93m[WARN] [differ] qid is-LowParse.Low.Base.irepr not found in dbg/8e8d83f571/orig.smt2 \u001b[0m\n",
      "cache/fbd113c34b.report\n"
     ]
    },
    {
     "name": "stderr",
     "output_type": "stream",
     "text": [
      "\u001b[94m[DEBUG] [edit] proof path: dbg/fbd113c34b/proofs/reseed.10587908861939265077.proof \u001b[0m\n",
      "\u001b[94m[DEBUG] [edit] trace path: dbg/fbd113c34b/traces/reseed.2817173411536348375 \u001b[0m\n"
     ]
    },
    {
     "name": "stdout",
     "output_type": "stream",
     "text": [
      "8caa9ddd571c7b5db5ab2d35194389f5.pickle\n",
      "\u001b[93m[WARN] [differ] qid constructor_accessor_axiom not found in dbg/fbd113c34b/orig.smt2 \u001b[0m\n",
      "\u001b[93m[WARN] [differ] qid <null> not found in dbg/fbd113c34b/orig.smt2 \u001b[0m\n",
      "cache/2d00faf52c.report\n",
      "2fd80ae238d6ebe35b98d4613c7aaede.pickle\n"
     ]
    },
    {
     "name": "stderr",
     "output_type": "stream",
     "text": [
      "\u001b[94m[DEBUG] [edit] proof path: dbg/2d00faf52c/proofs/rename.1798537068392486945.proof \u001b[0m\n",
      "\u001b[94m[DEBUG] [edit] trace path: dbg/2d00faf52c/traces/rename.8082690923169865294 \u001b[0m\n"
     ]
    },
    {
     "name": "stdout",
     "output_type": "stream",
     "text": [
      "\u001b[93m[WARN] [differ] qid constructor_accessor_axiom not found in dbg/2d00faf52c/orig.smt2 \u001b[0m\n",
      "cache/77448147c2.report\n",
      "b3a4ab3bdf133b191380a91540663831.pickle\n"
     ]
    },
    {
     "name": "stderr",
     "output_type": "stream",
     "text": [
      "\u001b[94m[DEBUG] [edit] proof path: dbg/77448147c2/proofs/shuffle.14927805744437362183.proof \u001b[0m\n",
      "\u001b[94m[DEBUG] [edit] trace path: dbg/77448147c2/traces/reseed.10983549342619437609 \u001b[0m\n"
     ]
    },
    {
     "name": "stdout",
     "output_type": "stream",
     "text": [
      "\u001b[93m[WARN] [differ] qid constructor_accessor_axiom not found in dbg/77448147c2/orig.smt2 \u001b[0m\n",
      "cache/94bc3cfd5f.report\n",
      "71b2c141601c6f1f6c009101f4e23893.pickle\n"
     ]
    },
    {
     "name": "stderr",
     "output_type": "stream",
     "text": [
      "\u001b[94m[DEBUG] [edit] proof path: dbg/94bc3cfd5f/proofs/shuffle.10313278876444722265.proof \u001b[0m\n",
      "\u001b[94m[DEBUG] [edit] trace path: dbg/94bc3cfd5f/traces/shuffle.1773882859532315896 \u001b[0m\n"
     ]
    },
    {
     "name": "stdout",
     "output_type": "stream",
     "text": [
      "\u001b[93m[WARN] [differ] qid constructor_accessor_axiom not found in dbg/94bc3cfd5f/orig.smt2 \u001b[0m\n",
      "cache/13ee923b22.report\n",
      "f9205ea65bc373cbb973511f86c75428.pickle\n"
     ]
    },
    {
     "name": "stderr",
     "output_type": "stream",
     "text": [
      "\u001b[94m[DEBUG] [edit] proof path: dbg/13ee923b22/proofs/shuffle.3194364474988934854.proof \u001b[0m\n",
      "\u001b[94m[DEBUG] [edit] trace path: dbg/13ee923b22/traces/shuffle.8439401689926735058 \u001b[0m\n"
     ]
    },
    {
     "name": "stdout",
     "output_type": "stream",
     "text": [
      "\u001b[93m[WARN] [differ] qid constructor_accessor_axiom not found in dbg/13ee923b22/orig.smt2 \u001b[0m\n",
      "cache/ac4102a2e0.report\n",
      "708742b0f20140a971f5315962b15b10.pickle\n"
     ]
    },
    {
     "name": "stderr",
     "output_type": "stream",
     "text": [
      "\u001b[94m[DEBUG] [edit] proof path: dbg/ac4102a2e0/proofs/rename.7234853104958424469.proof \u001b[0m\n",
      "\u001b[94m[DEBUG] [edit] trace path: dbg/ac4102a2e0/traces/reseed.10035146110800252985 \u001b[0m\n"
     ]
    },
    {
     "name": "stdout",
     "output_type": "stream",
     "text": [
      "\u001b[93m[WARN] [differ] qid constructor_accessor_axiom not found in dbg/ac4102a2e0/orig.smt2 \u001b[0m\n",
      "\u001b[93m[WARN] [differ] qid <null> not found in dbg/ac4102a2e0/orig.smt2 \u001b[0m\n",
      "cache/50b414ceb9.report\n",
      "d0a7e796f19f2789b6b55f434777adc5.pickle\n"
     ]
    },
    {
     "name": "stderr",
     "output_type": "stream",
     "text": [
      "\u001b[94m[DEBUG] [edit] proof path: dbg/50b414ceb9/proofs/reseed.6523881944955925482.proof \u001b[0m\n",
      "\u001b[94m[DEBUG] [edit] trace path: dbg/50b414ceb9/traces/shuffle.14621587911257160554 \u001b[0m\n"
     ]
    },
    {
     "name": "stdout",
     "output_type": "stream",
     "text": [
      "\u001b[93m[WARN] [differ] qid constructor_accessor_axiom not found in dbg/50b414ceb9/orig.smt2 \u001b[0m\n",
      "cache/179f62e2d4.report\n",
      "75556bfc369d41c3b3aa9e29034db337.pickle\n"
     ]
    },
    {
     "name": "stderr",
     "output_type": "stream",
     "text": [
      "\u001b[94m[DEBUG] [edit] proof path: dbg/179f62e2d4/proofs/shuffle.3011328390753162551.proof \u001b[0m\n",
      "\u001b[94m[DEBUG] [edit] trace path: dbg/179f62e2d4/traces/reseed.12731741859760154404 \u001b[0m\n"
     ]
    },
    {
     "name": "stdout",
     "output_type": "stream",
     "text": [
      "\u001b[93m[WARN] [differ] qid constructor_accessor_axiom not found in dbg/179f62e2d4/orig.smt2 \u001b[0m\n",
      "\u001b[93m[WARN] [differ] qid <null> not found in dbg/179f62e2d4/orig.smt2 \u001b[0m\n",
      "cache/b2c059e298.report\n",
      "ea876533d392f993b7d09b8dc908bdd0.pickle\n"
     ]
    },
    {
     "name": "stderr",
     "output_type": "stream",
     "text": [
      "\u001b[94m[DEBUG] [edit] proof path: dbg/b2c059e298/proofs/rename.7927859049852072456.proof \u001b[0m\n",
      "\u001b[94m[DEBUG] [edit] trace path: dbg/b2c059e298/traces/rename.13358333878170522687 \u001b[0m\n"
     ]
    },
    {
     "name": "stdout",
     "output_type": "stream",
     "text": [
      "\u001b[93m[WARN] [differ] qid constructor_accessor_axiom not found in dbg/b2c059e298/orig.smt2 \u001b[0m\n",
      "cache/34eda2f999.report\n",
      "7ff2fe5647a7bb1ece858a57da25628a.pickle\n"
     ]
    },
    {
     "name": "stderr",
     "output_type": "stream",
     "text": [
      "\u001b[94m[DEBUG] [edit] proof path: dbg/34eda2f999/proofs/reseed.6706921098104875004.proof \u001b[0m\n",
      "\u001b[94m[DEBUG] [edit] trace path: dbg/34eda2f999/traces/rename.13599008094559355756 \u001b[0m\n"
     ]
    },
    {
     "name": "stdout",
     "output_type": "stream",
     "text": [
      "\u001b[93m[WARN] [differ] qid constructor_accessor_axiom not found in dbg/34eda2f999/orig.smt2 \u001b[0m\n",
      "cache/92bd652a7c.report\n",
      "503bbaa8ad89ac0e7c5bc84639d13891.pickle\n"
     ]
    },
    {
     "name": "stderr",
     "output_type": "stream",
     "text": [
      "\u001b[94m[DEBUG] [edit] proof path: dbg/92bd652a7c/proofs/shuffle.8790771187633890213.proof \u001b[0m\n",
      "\u001b[94m[DEBUG] [edit] trace path: dbg/92bd652a7c/traces/reseed.10120040148933676715 \u001b[0m\n"
     ]
    },
    {
     "name": "stdout",
     "output_type": "stream",
     "text": [
      "\u001b[93m[WARN] [differ] qid constructor_accessor_axiom not found in dbg/92bd652a7c/orig.smt2 \u001b[0m\n",
      "\u001b[93m[WARN] [differ] qid <null> not found in dbg/92bd652a7c/orig.smt2 \u001b[0m\n",
      "cache/eff0b44ea2.report\n",
      "eae59116021267718a09e9f56e7b232d.pickle\n"
     ]
    },
    {
     "name": "stderr",
     "output_type": "stream",
     "text": [
      "\u001b[94m[DEBUG] [edit] proof path: dbg/eff0b44ea2/proofs/shuffle.650830172805084428.proof \u001b[0m\n",
      "\u001b[94m[DEBUG] [edit] trace path: dbg/eff0b44ea2/traces/shuffle.661977216366254548 \u001b[0m\n"
     ]
    },
    {
     "name": "stdout",
     "output_type": "stream",
     "text": [
      "\u001b[93m[WARN] [differ] qid constructor_accessor_axiom not found in dbg/eff0b44ea2/orig.smt2 \u001b[0m\n",
      "cache/bacb951c70.report\n",
      "bf05026fc8c8353a56b1388ebf13a253.pickle\n"
     ]
    },
    {
     "name": "stderr",
     "output_type": "stream",
     "text": [
      "\u001b[94m[DEBUG] [edit] proof path: dbg/bacb951c70/proofs/reseed.551532527281089453.proof \u001b[0m\n",
      "\u001b[94m[DEBUG] [edit] trace path: dbg/bacb951c70/traces/rename.5477597793830537125 \u001b[0m\n"
     ]
    },
    {
     "name": "stdout",
     "output_type": "stream",
     "text": [
      "\u001b[93m[WARN] [differ] qid constructor_accessor_axiom not found in dbg/bacb951c70/orig.smt2 \u001b[0m\n",
      "\u001b[93m[WARN] [differ] qid <null> not found in dbg/bacb951c70/orig.smt2 \u001b[0m\n",
      "cache/72d4708532.report\n",
      "1b19812062bebd2413124a9bcc3b0463.pickle\n"
     ]
    },
    {
     "name": "stderr",
     "output_type": "stream",
     "text": [
      "\u001b[94m[DEBUG] [edit] proof path: dbg/72d4708532/proofs/shuffle.1236398966017456986.proof \u001b[0m\n",
      "\u001b[94m[DEBUG] [edit] trace path: dbg/72d4708532/traces/rename.3978531147353438634 \u001b[0m\n"
     ]
    },
    {
     "name": "stdout",
     "output_type": "stream",
     "text": [
      "\u001b[93m[WARN] [differ] qid constructor_accessor_axiom not found in dbg/72d4708532/orig.smt2 \u001b[0m\n",
      "\u001b[93m[WARN] [differ] qid <null> not found in dbg/72d4708532/orig.smt2 \u001b[0m\n",
      "cache/a854e6c8ad.report\n",
      "1956c7e466f1a52e00fb50e825052f84.pickle\n"
     ]
    },
    {
     "name": "stderr",
     "output_type": "stream",
     "text": [
      "\u001b[94m[DEBUG] [edit] proof path: dbg/a854e6c8ad/proofs/shuffle.17643171112503024724.proof \u001b[0m\n",
      "\u001b[94m[DEBUG] [edit] trace path: dbg/a854e6c8ad/traces/reseed.13223772761810635505 \u001b[0m\n"
     ]
    },
    {
     "name": "stdout",
     "output_type": "stream",
     "text": [
      "\u001b[93m[WARN] [differ] qid constructor_accessor_axiom not found in dbg/a854e6c8ad/orig.smt2 \u001b[0m\n",
      "cache/f81ecefbe1.report\n",
      "f4b4c8b198f230bab94cf7dcf568b378.pickle\n"
     ]
    },
    {
     "name": "stderr",
     "output_type": "stream",
     "text": [
      "\u001b[94m[DEBUG] [edit] proof path: dbg/f81ecefbe1/proofs/rename.1014611859384662328.proof \u001b[0m\n",
      "\u001b[94m[DEBUG] [edit] trace path: dbg/f81ecefbe1/traces/reseed.13832845188848596848 \u001b[0m\n"
     ]
    },
    {
     "name": "stdout",
     "output_type": "stream",
     "text": [
      "\u001b[93m[WARN] [differ] qid constructor_accessor_axiom not found in dbg/f81ecefbe1/orig.smt2 \u001b[0m\n",
      "\u001b[93m[WARN] [differ] qid <null> not found in dbg/f81ecefbe1/orig.smt2 \u001b[0m\n",
      "cache/dc83338098.report\n",
      "761ff2d40f0403c4bd0e4fe9869f3375.pickle\n"
     ]
    },
    {
     "name": "stderr",
     "output_type": "stream",
     "text": [
      "\u001b[94m[DEBUG] [edit] proof path: dbg/dc83338098/proofs/rename.10249651417711394047.proof \u001b[0m\n",
      "\u001b[94m[DEBUG] [edit] trace path: dbg/dc83338098/traces/rename.1325015204536421060 \u001b[0m\n"
     ]
    },
    {
     "name": "stdout",
     "output_type": "stream",
     "text": [
      "\u001b[93m[WARN] [differ] qid constructor_accessor_axiom not found in dbg/dc83338098/orig.smt2 \u001b[0m\n",
      "\u001b[93m[WARN] [differ] qid <null> not found in dbg/dc83338098/orig.smt2 \u001b[0m\n",
      "cache/20983514ab.report\n",
      "c3f31e855b80480bb64be759d7236969.pickle\n"
     ]
    },
    {
     "name": "stderr",
     "output_type": "stream",
     "text": [
      "\u001b[94m[DEBUG] [edit] proof path: dbg/20983514ab/proofs/rename.7821201153696970108.proof \u001b[0m\n",
      "\u001b[94m[DEBUG] [edit] trace path: dbg/20983514ab/traces/reseed.179325957418306299 \u001b[0m\n"
     ]
    },
    {
     "name": "stdout",
     "output_type": "stream",
     "text": [
      "\u001b[93m[WARN] [differ] qid constructor_accessor_axiom not found in dbg/20983514ab/orig.smt2 \u001b[0m\n",
      "\u001b[93m[WARN] [differ] qid <null> not found in dbg/20983514ab/orig.smt2 \u001b[0m\n",
      "cache/c7b10ef871.report\n",
      "5a65585897306c654cdbdf61dfae7cdf.pickle\n"
     ]
    },
    {
     "name": "stderr",
     "output_type": "stream",
     "text": [
      "\u001b[94m[DEBUG] [edit] proof path: dbg/c7b10ef871/proofs/shuffle.1516775373652545594.proof \u001b[0m\n",
      "\u001b[94m[DEBUG] [edit] trace path: dbg/c7b10ef871/traces/rename.36451817514311942 \u001b[0m\n"
     ]
    },
    {
     "name": "stdout",
     "output_type": "stream",
     "text": [
      "\u001b[93m[WARN] [differ] qid constructor_accessor_axiom not found in dbg/c7b10ef871/orig.smt2 \u001b[0m\n",
      "\u001b[93m[WARN] [differ] qid <null> not found in dbg/c7b10ef871/orig.smt2 \u001b[0m\n",
      "cache/38d93c5774.report\n",
      "0c30b6b04bb6fb69546f2bc58ae52410.pickle\n"
     ]
    },
    {
     "name": "stderr",
     "output_type": "stream",
     "text": [
      "\u001b[94m[DEBUG] [edit] proof path: dbg/38d93c5774/proofs/reseed.14025595802272513717.proof \u001b[0m\n",
      "\u001b[94m[DEBUG] [edit] trace path: dbg/38d93c5774/traces/rename.12939028439328042157 \u001b[0m\n"
     ]
    },
    {
     "name": "stdout",
     "output_type": "stream",
     "text": [
      "\u001b[93m[WARN] [differ] qid constructor_accessor_axiom not found in dbg/38d93c5774/orig.smt2 \u001b[0m\n",
      "\u001b[93m[WARN] [differ] qid <null> not found in dbg/38d93c5774/orig.smt2 \u001b[0m\n",
      "cache/1c986e634b.report\n",
      "89e03d20bfe45fdab8a9bed77043f243.pickle\n"
     ]
    },
    {
     "name": "stderr",
     "output_type": "stream",
     "text": [
      "\u001b[94m[DEBUG] [edit] proof path: dbg/1c986e634b/proofs/rename.9580518083060337335.proof \u001b[0m\n",
      "\u001b[94m[DEBUG] [edit] trace path: dbg/1c986e634b/traces/reseed.14557216502951889437 \u001b[0m\n"
     ]
    },
    {
     "name": "stdout",
     "output_type": "stream",
     "text": [
      "\u001b[93m[WARN] [differ] qid constructor_accessor_axiom not found in dbg/1c986e634b/orig.smt2 \u001b[0m\n",
      "cache/b96ad66775.report\n",
      "5d2e328b80ecf0fc402dcaef2b37a46f.pickle\n"
     ]
    },
    {
     "name": "stderr",
     "output_type": "stream",
     "text": [
      "\u001b[94m[DEBUG] [edit] proof path: dbg/b96ad66775/proofs/reseed.642029128331120085.proof \u001b[0m\n",
      "\u001b[94m[DEBUG] [edit] trace path: dbg/b96ad66775/traces/rename.10997626924201828026 \u001b[0m\n"
     ]
    },
    {
     "name": "stdout",
     "output_type": "stream",
     "text": [
      "\u001b[93m[WARN] [differ] qid constructor_accessor_axiom not found in dbg/b96ad66775/orig.smt2 \u001b[0m\n",
      "\u001b[93m[WARN] [differ] qid <null> not found in dbg/b96ad66775/orig.smt2 \u001b[0m\n",
      "cache/031b71b1cf.report\n",
      "3bbafa60d3e4505fb0c2191d6aeb6896.pickle\n"
     ]
    },
    {
     "name": "stderr",
     "output_type": "stream",
     "text": [
      "\u001b[94m[DEBUG] [edit] proof path: dbg/031b71b1cf/proofs/rename.13393498508943885636.proof \u001b[0m\n",
      "\u001b[94m[DEBUG] [edit] trace path: dbg/031b71b1cf/traces/shuffle.13237508561428951597 \u001b[0m\n"
     ]
    },
    {
     "name": "stdout",
     "output_type": "stream",
     "text": [
      "\u001b[93m[WARN] [differ] qid constructor_accessor_axiom not found in dbg/031b71b1cf/orig.smt2 \u001b[0m\n",
      "\u001b[93m[WARN] [differ] qid <null> not found in dbg/031b71b1cf/orig.smt2 \u001b[0m\n",
      "cache/c1a05b62ba.report\n",
      "ec90bd683d94127ffadd0599972221dc.pickle\n"
     ]
    },
    {
     "name": "stderr",
     "output_type": "stream",
     "text": [
      "\u001b[94m[DEBUG] [edit] proof path: dbg/c1a05b62ba/proofs/rename.13601783838056888512.proof \u001b[0m\n",
      "\u001b[94m[DEBUG] [edit] trace path: dbg/c1a05b62ba/traces/reseed.15381600629524480555 \u001b[0m\n"
     ]
    },
    {
     "name": "stdout",
     "output_type": "stream",
     "text": [
      "\u001b[93m[WARN] [differ] qid constructor_accessor_axiom not found in dbg/c1a05b62ba/orig.smt2 \u001b[0m\n",
      "cache/c8a3060122.report\n",
      "90ac9c7181935a96e87febee1e73e504.pickle\n"
     ]
    },
    {
     "name": "stderr",
     "output_type": "stream",
     "text": [
      "\u001b[94m[DEBUG] [edit] proof path: dbg/c8a3060122/proofs/reseed.9886141382293979778.proof \u001b[0m\n",
      "\u001b[94m[DEBUG] [edit] trace path: dbg/c8a3060122/traces/rename.16898227715908798479 \u001b[0m\n"
     ]
    },
    {
     "name": "stdout",
     "output_type": "stream",
     "text": [
      "\u001b[93m[WARN] [differ] qid constructor_accessor_axiom not found in dbg/c8a3060122/orig.smt2 \u001b[0m\n",
      "\u001b[93m[WARN] [differ] qid unnamed not found in dbg/c8a3060122/orig.smt2 \u001b[0m\n",
      "\u001b[93m[WARN] [differ] qid is-Prims.equals not found in dbg/c8a3060122/orig.smt2 \u001b[0m\n",
      "\u001b[93m[WARN] [differ] qid is-Prims.h_equals not found in dbg/c8a3060122/orig.smt2 \u001b[0m\n",
      "\u001b[93m[WARN] [differ] qid is-Prims.c_and not found in dbg/c8a3060122/orig.smt2 \u001b[0m\n",
      "\u001b[93m[WARN] [differ] qid is-Prims.c_or not found in dbg/c8a3060122/orig.smt2 \u001b[0m\n",
      "\u001b[93m[WARN] [differ] qid is-Prims.dtuple2 not found in dbg/c8a3060122/orig.smt2 \u001b[0m\n",
      "\u001b[93m[WARN] [differ] qid is-Prims.list not found in dbg/c8a3060122/orig.smt2 \u001b[0m\n",
      "\u001b[93m[WARN] [differ] qid is-FStar.Pervasives.Native.option not found in dbg/c8a3060122/orig.smt2 \u001b[0m\n",
      "\u001b[93m[WARN] [differ] qid is-FStar.Pervasives.Native.tuple2 not found in dbg/c8a3060122/orig.smt2 \u001b[0m\n",
      "\u001b[93m[WARN] [differ] qid is-FStar.Pervasives.Native.tuple3 not found in dbg/c8a3060122/orig.smt2 \u001b[0m\n",
      "\u001b[93m[WARN] [differ] qid is-FStar.Pervasives.Native.tuple4 not found in dbg/c8a3060122/orig.smt2 \u001b[0m\n",
      "\u001b[93m[WARN] [differ] qid is-FStar.Pervasives.Native.tuple5 not found in dbg/c8a3060122/orig.smt2 \u001b[0m\n",
      "\u001b[93m[WARN] [differ] qid is-FStar.Pervasives.Native.tuple6 not found in dbg/c8a3060122/orig.smt2 \u001b[0m\n",
      "\u001b[93m[WARN] [differ] qid is-FStar.Pervasives.Native.tuple7 not found in dbg/c8a3060122/orig.smt2 \u001b[0m\n",
      "\u001b[93m[WARN] [differ] qid is-FStar.Pervasives.Native.tuple8 not found in dbg/c8a3060122/orig.smt2 \u001b[0m\n",
      "\u001b[93m[WARN] [differ] qid is-FStar.Pervasives.Native.tuple9 not found in dbg/c8a3060122/orig.smt2 \u001b[0m\n",
      "\u001b[93m[WARN] [differ] qid is-FStar.Pervasives.Native.tuple10 not found in dbg/c8a3060122/orig.smt2 \u001b[0m\n",
      "\u001b[93m[WARN] [differ] qid is-FStar.Pervasives.Native.tuple11 not found in dbg/c8a3060122/orig.smt2 \u001b[0m\n",
      "\u001b[93m[WARN] [differ] qid is-FStar.Pervasives.Native.tuple12 not found in dbg/c8a3060122/orig.smt2 \u001b[0m\n",
      "\u001b[93m[WARN] [differ] qid is-FStar.Pervasives.Native.tuple13 not found in dbg/c8a3060122/orig.smt2 \u001b[0m\n",
      "\u001b[93m[WARN] [differ] qid is-FStar.Pervasives.Native.tuple14 not found in dbg/c8a3060122/orig.smt2 \u001b[0m\n",
      "\u001b[93m[WARN] [differ] qid is-FStar.Pervasives.result not found in dbg/c8a3060122/orig.smt2 \u001b[0m\n",
      "\u001b[93m[WARN] [differ] qid is-FStar.Pervasives.either not found in dbg/c8a3060122/orig.smt2 \u001b[0m\n",
      "\u001b[93m[WARN] [differ] qid is-FStar.Pervasives.dtuple3 not found in dbg/c8a3060122/orig.smt2 \u001b[0m\n",
      "\u001b[93m[WARN] [differ] qid is-FStar.Pervasives.dtuple4 not found in dbg/c8a3060122/orig.smt2 \u001b[0m\n",
      "\u001b[93m[WARN] [differ] qid is-FStar.Monotonic.HyperStack.mreference_ not found in dbg/c8a3060122/orig.smt2 \u001b[0m\n",
      "\u001b[93m[WARN] [differ] qid is-FStar.Calc.calc_proof not found in dbg/c8a3060122/orig.smt2 \u001b[0m\n",
      "\u001b[93m[WARN] [differ] qid is-FStar.Calc.calc_pack not found in dbg/c8a3060122/orig.smt2 \u001b[0m\n",
      "\u001b[93m[WARN] [differ] qid is-FStar.ModifiesGen.cls not found in dbg/c8a3060122/orig.smt2 \u001b[0m\n",
      "\u001b[93m[WARN] [differ] qid is-FStar.Tactics.Result.__result not found in dbg/c8a3060122/orig.smt2 \u001b[0m\n",
      "\u001b[93m[WARN] [differ] qid is-LowParse.Slice.slice not found in dbg/c8a3060122/orig.smt2 \u001b[0m\n",
      "\u001b[93m[WARN] [differ] qid is-LowParse.Low.Base.Spec.clens not found in dbg/c8a3060122/orig.smt2 \u001b[0m\n",
      "\u001b[93m[WARN] [differ] qid is-LowParse.Low.Base.irepr not found in dbg/c8a3060122/orig.smt2 \u001b[0m\n",
      "Quantifier mariposa_qid_30490 with proof count 1 did not exist in the instantiations!\n",
      "cache/5e2368e7d9.report\n",
      "4d7935fcd32212ea5bb834496aedee56.pickle\n"
     ]
    },
    {
     "name": "stderr",
     "output_type": "stream",
     "text": [
      "\u001b[94m[DEBUG] [edit] proof path: dbg/5e2368e7d9/proofs/rename.7905863877711446243.proof \u001b[0m\n",
      "\u001b[94m[DEBUG] [edit] trace path: dbg/5e2368e7d9/traces/reseed.7465909228232801491 \u001b[0m\n"
     ]
    },
    {
     "name": "stdout",
     "output_type": "stream",
     "text": [
      "\u001b[93m[WARN] [differ] qid constructor_accessor_axiom not found in dbg/5e2368e7d9/orig.smt2 \u001b[0m\n",
      "\u001b[93m[WARN] [differ] qid <null> not found in dbg/5e2368e7d9/orig.smt2 \u001b[0m\n",
      "cache/70b04e001b.report\n",
      "2b00f0916e17872652b3107d2b4b9e1c.pickle\n"
     ]
    },
    {
     "name": "stderr",
     "output_type": "stream",
     "text": [
      "\u001b[94m[DEBUG] [edit] proof path: dbg/70b04e001b/proofs/rename.4165304252376723383.proof \u001b[0m\n",
      "\u001b[94m[DEBUG] [edit] trace path: dbg/70b04e001b/traces/rename.11947260446034581898 \u001b[0m\n"
     ]
    },
    {
     "name": "stdout",
     "output_type": "stream",
     "text": [
      "\u001b[93m[WARN] [differ] qid constructor_accessor_axiom not found in dbg/70b04e001b/orig.smt2 \u001b[0m\n",
      "cache/2d9d740dd9.report\n",
      "3f96175cd9ce9ea8503efdf6bbcdabe7.pickle\n"
     ]
    },
    {
     "name": "stderr",
     "output_type": "stream",
     "text": [
      "\u001b[94m[DEBUG] [edit] proof path: dbg/2d9d740dd9/proofs/rename.1019818818112142418.proof \u001b[0m\n",
      "\u001b[94m[DEBUG] [edit] trace path: dbg/2d9d740dd9/traces/rename.4293369832202817795 \u001b[0m\n"
     ]
    },
    {
     "name": "stdout",
     "output_type": "stream",
     "text": [
      "\u001b[93m[WARN] [differ] qid constructor_accessor_axiom not found in dbg/2d9d740dd9/orig.smt2 \u001b[0m\n",
      "cache/1fc9b21323.report\n",
      "58b4dd1dc9fc5122def446e7fa5b14ac.pickle\n"
     ]
    },
    {
     "name": "stderr",
     "output_type": "stream",
     "text": [
      "\u001b[94m[DEBUG] [edit] proof path: dbg/1fc9b21323/proofs/shuffle.15120797960874288663.proof \u001b[0m\n",
      "\u001b[94m[DEBUG] [edit] trace path: dbg/1fc9b21323/traces/reseed.7956714593226895613 \u001b[0m\n"
     ]
    },
    {
     "name": "stdout",
     "output_type": "stream",
     "text": [
      "\u001b[93m[WARN] [differ] qid constructor_accessor_axiom not found in dbg/1fc9b21323/orig.smt2 \u001b[0m\n",
      "cache/d82f76226c.report\n",
      "14991a68e2527bc0539f0a294bc2f281.pickle\n"
     ]
    },
    {
     "name": "stderr",
     "output_type": "stream",
     "text": [
      "\u001b[94m[DEBUG] [edit] proof path: dbg/d82f76226c/proofs/reseed.863365456224102248.proof \u001b[0m\n",
      "\u001b[94m[DEBUG] [edit] trace path: dbg/d82f76226c/traces/reseed.4958599917576450101 \u001b[0m\n"
     ]
    },
    {
     "name": "stdout",
     "output_type": "stream",
     "text": [
      "\u001b[93m[WARN] [differ] qid constructor_accessor_axiom not found in dbg/d82f76226c/orig.smt2 \u001b[0m\n",
      "\u001b[93m[WARN] [differ] qid <null> not found in dbg/d82f76226c/orig.smt2 \u001b[0m\n",
      "cache/cc5b8bed53.report\n",
      "\u001b[93m[WARN] [eval] cc5b8bed53 tested count 289 < registered 497 \u001b[0m\n",
      "88cffcbf48af043116b28fc7078472a2.pickle\n"
     ]
    },
    {
     "name": "stderr",
     "output_type": "stream",
     "text": [
      "\u001b[94m[DEBUG] [edit] proof path: dbg/cc5b8bed53/proofs/reseed.5625981223888486917.proof \u001b[0m\n",
      "\u001b[94m[DEBUG] [edit] trace path: dbg/cc5b8bed53/traces/rename.3250885158056153761 \u001b[0m\n"
     ]
    },
    {
     "name": "stdout",
     "output_type": "stream",
     "text": [
      "\u001b[93m[WARN] [differ] qid constructor_accessor_axiom not found in dbg/cc5b8bed53/orig.smt2 \u001b[0m\n",
      "\u001b[93m[WARN] [differ] qid <null> not found in dbg/cc5b8bed53/orig.smt2 \u001b[0m\n",
      "cache/0effbdcba4.report\n",
      "28016259506e07078d228aabe1a3ce9c.pickle\n"
     ]
    },
    {
     "name": "stderr",
     "output_type": "stream",
     "text": [
      "\u001b[94m[DEBUG] [edit] proof path: dbg/0effbdcba4/proofs/reseed.5180680730578628686.proof \u001b[0m\n",
      "\u001b[94m[DEBUG] [edit] trace path: dbg/0effbdcba4/traces/rename.11078022422858298141 \u001b[0m\n"
     ]
    },
    {
     "name": "stdout",
     "output_type": "stream",
     "text": [
      "\u001b[93m[WARN] [differ] qid constructor_accessor_axiom not found in dbg/0effbdcba4/orig.smt2 \u001b[0m\n",
      "cache/947dcf5ca9.report\n",
      "e30f79b0e1824b60843377b9816128a4.pickle\n"
     ]
    },
    {
     "name": "stderr",
     "output_type": "stream",
     "text": [
      "\u001b[94m[DEBUG] [edit] proof path: dbg/947dcf5ca9/proofs/reseed.2809025276782170804.proof \u001b[0m\n",
      "\u001b[94m[DEBUG] [edit] trace path: dbg/947dcf5ca9/traces/shuffle.2426660906082909420 \u001b[0m\n"
     ]
    },
    {
     "name": "stdout",
     "output_type": "stream",
     "text": [
      "\u001b[93m[WARN] [differ] qid constructor_accessor_axiom not found in dbg/947dcf5ca9/orig.smt2 \u001b[0m\n",
      "cache/47ef270c0c.report\n",
      "64dbcbe11490b06a42c6e5b37e3f743d.pickle\n"
     ]
    },
    {
     "name": "stderr",
     "output_type": "stream",
     "text": [
      "\u001b[94m[DEBUG] [edit] proof path: dbg/47ef270c0c/proofs/shuffle.15103830251157181598.proof \u001b[0m\n",
      "\u001b[94m[DEBUG] [edit] trace path: dbg/47ef270c0c/traces/rename.18336429141283102101 \u001b[0m\n"
     ]
    },
    {
     "name": "stdout",
     "output_type": "stream",
     "text": [
      "\u001b[93m[WARN] [differ] qid constructor_accessor_axiom not found in dbg/47ef270c0c/orig.smt2 \u001b[0m\n",
      "\u001b[93m[WARN] [differ] qid <null> not found in dbg/47ef270c0c/orig.smt2 \u001b[0m\n",
      "cache/6b83ccf507.report\n",
      "a56def55a5779e63e26caa948595cb37.pickle\n"
     ]
    },
    {
     "name": "stderr",
     "output_type": "stream",
     "text": [
      "\u001b[94m[DEBUG] [edit] proof path: dbg/6b83ccf507/proofs/rename.16733255290610527393.proof \u001b[0m\n",
      "\u001b[94m[DEBUG] [edit] trace path: dbg/6b83ccf507/traces/rename.4238664114151108451 \u001b[0m\n"
     ]
    },
    {
     "name": "stdout",
     "output_type": "stream",
     "text": [
      "\u001b[93m[WARN] [differ] qid constructor_accessor_axiom not found in dbg/6b83ccf507/orig.smt2 \u001b[0m\n",
      "\u001b[93m[WARN] [differ] qid <null> not found in dbg/6b83ccf507/orig.smt2 \u001b[0m\n",
      "cache/1dbfa93b6f.report\n",
      "5a12979ddb85d4a7d07d2b6854a1d1d7.pickle\n"
     ]
    },
    {
     "name": "stderr",
     "output_type": "stream",
     "text": [
      "\u001b[94m[DEBUG] [edit] proof path: dbg/1dbfa93b6f/proofs/reseed.6105081692202273822.proof \u001b[0m\n",
      "\u001b[94m[DEBUG] [edit] trace path: dbg/1dbfa93b6f/traces/reseed.4219672969166401920 \u001b[0m\n"
     ]
    },
    {
     "name": "stdout",
     "output_type": "stream",
     "text": [
      "\u001b[93m[WARN] [differ] qid constructor_accessor_axiom not found in dbg/1dbfa93b6f/orig.smt2 \u001b[0m\n",
      "\u001b[93m[WARN] [differ] qid <null> not found in dbg/1dbfa93b6f/orig.smt2 \u001b[0m\n",
      "cache/10b27f0984.report\n",
      "ae5e79157313aacdf1f966cbb84fed68.pickle\n"
     ]
    },
    {
     "name": "stderr",
     "output_type": "stream",
     "text": [
      "\u001b[94m[DEBUG] [edit] proof path: dbg/10b27f0984/proofs/reseed.5788933782591937949.proof \u001b[0m\n",
      "\u001b[94m[DEBUG] [edit] trace path: dbg/10b27f0984/traces/rename.12804259494599955603 \u001b[0m\n"
     ]
    },
    {
     "name": "stdout",
     "output_type": "stream",
     "text": [
      "\u001b[93m[WARN] [differ] qid constructor_accessor_axiom not found in dbg/10b27f0984/orig.smt2 \u001b[0m\n",
      "cache/b546a78766.report\n",
      "8f3903054862ca5caf031bb4ff6180c0.pickle\n"
     ]
    },
    {
     "name": "stderr",
     "output_type": "stream",
     "text": [
      "\u001b[94m[DEBUG] [edit] proof path: dbg/b546a78766/proofs/shuffle.2868159031240576411.proof \u001b[0m\n",
      "\u001b[94m[DEBUG] [edit] trace path: dbg/b546a78766/traces/reseed.4421362317854273002 \u001b[0m\n"
     ]
    },
    {
     "name": "stdout",
     "output_type": "stream",
     "text": [
      "\u001b[93m[WARN] [differ] qid constructor_accessor_axiom not found in dbg/b546a78766/orig.smt2 \u001b[0m\n",
      "cache/c9d38b4125.report\n",
      "66aec72ac57af8ccff05eb22d25b5d41.pickle\n"
     ]
    },
    {
     "name": "stderr",
     "output_type": "stream",
     "text": [
      "\u001b[94m[DEBUG] [edit] proof path: dbg/c9d38b4125/proofs/shuffle.9983198406171165177.proof \u001b[0m\n",
      "\u001b[94m[DEBUG] [edit] trace path: dbg/c9d38b4125/traces/reseed.16515286465926755058 \u001b[0m\n"
     ]
    },
    {
     "name": "stdout",
     "output_type": "stream",
     "text": [
      "\u001b[93m[WARN] [differ] qid constructor_accessor_axiom not found in dbg/c9d38b4125/orig.smt2 \u001b[0m\n",
      "cache/3ac32afb30.report\n",
      "8cd0310371165f011b1f1d97799533a3.pickle\n"
     ]
    },
    {
     "name": "stderr",
     "output_type": "stream",
     "text": [
      "\u001b[94m[DEBUG] [edit] proof path: dbg/3ac32afb30/proofs/reseed.10494799321079966650.proof \u001b[0m\n",
      "\u001b[94m[DEBUG] [edit] trace path: dbg/3ac32afb30/traces/rename.4936251251508216562 \u001b[0m\n"
     ]
    },
    {
     "name": "stdout",
     "output_type": "stream",
     "text": [
      "\u001b[93m[WARN] [differ] qid constructor_accessor_axiom not found in dbg/3ac32afb30/orig.smt2 \u001b[0m\n",
      "\u001b[93m[WARN] [differ] qid <null> not found in dbg/3ac32afb30/orig.smt2 \u001b[0m\n",
      "cache/7dccaece2d.report\n",
      "5b6240fabff3e4fe4b03c3a8a61f6f93.pickle\n"
     ]
    },
    {
     "name": "stderr",
     "output_type": "stream",
     "text": [
      "\u001b[94m[DEBUG] [edit] proof path: dbg/7dccaece2d/proofs/shuffle.9506315399743706268.proof \u001b[0m\n",
      "\u001b[94m[DEBUG] [edit] trace path: dbg/7dccaece2d/traces/rename.12579112894559906154 \u001b[0m\n"
     ]
    },
    {
     "name": "stdout",
     "output_type": "stream",
     "text": [
      "\u001b[93m[WARN] [differ] qid constructor_accessor_axiom not found in dbg/7dccaece2d/orig.smt2 \u001b[0m\n",
      "cache/1b7f64e95b.report\n",
      "dd29b101c8415e367688deea9d48d868.pickle\n"
     ]
    },
    {
     "name": "stderr",
     "output_type": "stream",
     "text": [
      "\u001b[94m[DEBUG] [edit] proof path: dbg/1b7f64e95b/proofs/shuffle.7744182686958761886.proof \u001b[0m\n",
      "\u001b[94m[DEBUG] [edit] trace path: dbg/1b7f64e95b/traces/rename.13326529760519068594 \u001b[0m\n"
     ]
    },
    {
     "name": "stdout",
     "output_type": "stream",
     "text": [
      "\u001b[93m[WARN] [differ] qid constructor_accessor_axiom not found in dbg/1b7f64e95b/orig.smt2 \u001b[0m\n",
      "cache/22188d7780.report\n",
      "3054e112a64131cc64e601cc9fd5ca62.pickle\n"
     ]
    },
    {
     "name": "stderr",
     "output_type": "stream",
     "text": [
      "\u001b[94m[DEBUG] [edit] proof path: dbg/22188d7780/proofs/shuffle.2910018558334871129.proof \u001b[0m\n",
      "\u001b[94m[DEBUG] [edit] trace path: dbg/22188d7780/traces/reseed.5693230301860012882 \u001b[0m\n"
     ]
    },
    {
     "name": "stdout",
     "output_type": "stream",
     "text": [
      "\u001b[93m[WARN] [differ] qid constructor_accessor_axiom not found in dbg/22188d7780/orig.smt2 \u001b[0m\n",
      "cache/c174525f75.report\n",
      "d12cbadf3884ce86c3514af15aa321dc.pickle\n"
     ]
    },
    {
     "name": "stderr",
     "output_type": "stream",
     "text": [
      "\u001b[94m[DEBUG] [edit] proof path: dbg/c174525f75/proofs/rename.15748788026567450328.proof \u001b[0m\n",
      "\u001b[94m[DEBUG] [edit] trace path: dbg/c174525f75/traces/rename.5850373615816341614 \u001b[0m\n"
     ]
    },
    {
     "name": "stdout",
     "output_type": "stream",
     "text": [
      "\u001b[93m[WARN] [differ] qid constructor_accessor_axiom not found in dbg/c174525f75/orig.smt2 \u001b[0m\n",
      "\u001b[93m[WARN] [differ] qid <null> not found in dbg/c174525f75/orig.smt2 \u001b[0m\n",
      "cache/53b94c898b.report\n",
      "dd5ae8bd0d3cd13ca5cc8df36dcc2ef8.pickle\n"
     ]
    },
    {
     "name": "stderr",
     "output_type": "stream",
     "text": [
      "\u001b[94m[DEBUG] [edit] proof path: dbg/53b94c898b/proofs/rename.3761459269803675162.proof \u001b[0m\n",
      "\u001b[94m[DEBUG] [edit] trace path: dbg/53b94c898b/traces/shuffle.2911831914072920678 \u001b[0m\n"
     ]
    },
    {
     "name": "stdout",
     "output_type": "stream",
     "text": [
      "\u001b[93m[WARN] [differ] qid constructor_accessor_axiom not found in dbg/53b94c898b/orig.smt2 \u001b[0m\n",
      "\u001b[93m[WARN] [differ] qid <null> not found in dbg/53b94c898b/orig.smt2 \u001b[0m\n",
      "cache/d27df8e3bb.report\n",
      "6b2a86130dcd1b2ac60674c7a23c3da9.pickle\n"
     ]
    },
    {
     "name": "stderr",
     "output_type": "stream",
     "text": [
      "\u001b[94m[DEBUG] [edit] proof path: dbg/d27df8e3bb/proofs/reseed.3098858813203874436.proof \u001b[0m\n",
      "\u001b[94m[DEBUG] [edit] trace path: dbg/d27df8e3bb/traces/rename.7821953825153783066 \u001b[0m\n",
      "Exception ignored in: <function Z3AstVisitor.__del__ at 0x7febbe36a700>\n",
      "Traceback (most recent call last):\n",
      "  File \"/home/yizhou7/mariposa/src/debugger/z3_utils.py\", line 200, in __del__\n",
      "    def __del__(self):\n",
      "KeyboardInterrupt: \n"
     ]
    }
   ],
   "source": [
    "kw_parameters = {\"ranking_heuristic\": \"proof_inst_graph\"}\n",
    "print(files)\n",
    "timeout_results = calculate_rankings(kw_parameters, timeout_files)"
   ]
  },
  {
   "cell_type": "markdown",
   "metadata": {},
   "source": [
    "kw_parameters = {\"ranking_heuristic\": \"proof_inst_graph\"}\n",
    "print(files)\n",
    "calculate_rankings(kw_parameters, fast_unknown_files)"
   ]
  },
  {
   "cell_type": "code",
   "execution_count": 16,
   "metadata": {},
   "outputs": [
    {
     "name": "stdout",
     "output_type": "stream",
     "text": [
      "cache/3ce5c5e4dc.report\n",
      "281fbb5d0d8857c429d29610649306bf.pickle\n"
     ]
    },
    {
     "name": "stderr",
     "output_type": "stream",
     "text": [
      "\u001b[94m[DEBUG] [edit] proof path: dbg/3ce5c5e4dc/proofs/reseed.5498765500434424855.proof \u001b[0m\n",
      "\u001b[94m[DEBUG] [edit] trace path: dbg/3ce5c5e4dc/traces/reseed.5797641433228418118 \u001b[0m\n"
     ]
    },
    {
     "name": "stdout",
     "output_type": "stream",
     "text": [
      "\u001b[93m[WARN] [differ] qid constructor_accessor_axiom not found in dbg/3ce5c5e4dc/orig.smt2 \u001b[0m\n",
      "\u001b[93m[WARN] [differ] qid unnamed not found in dbg/3ce5c5e4dc/orig.smt2 \u001b[0m\n",
      "\u001b[93m[WARN] [differ] qid is-Prims.equals not found in dbg/3ce5c5e4dc/orig.smt2 \u001b[0m\n",
      "\u001b[93m[WARN] [differ] qid is-Prims.h_equals not found in dbg/3ce5c5e4dc/orig.smt2 \u001b[0m\n",
      "\u001b[93m[WARN] [differ] qid is-Prims.c_and not found in dbg/3ce5c5e4dc/orig.smt2 \u001b[0m\n",
      "\u001b[93m[WARN] [differ] qid is-Prims.c_or not found in dbg/3ce5c5e4dc/orig.smt2 \u001b[0m\n",
      "\u001b[93m[WARN] [differ] qid is-Prims.dtuple2 not found in dbg/3ce5c5e4dc/orig.smt2 \u001b[0m\n",
      "\u001b[93m[WARN] [differ] qid is-Prims.list not found in dbg/3ce5c5e4dc/orig.smt2 \u001b[0m\n",
      "\u001b[93m[WARN] [differ] qid is-FStar.Pervasives.Native.option not found in dbg/3ce5c5e4dc/orig.smt2 \u001b[0m\n",
      "\u001b[93m[WARN] [differ] qid is-FStar.Pervasives.Native.tuple2 not found in dbg/3ce5c5e4dc/orig.smt2 \u001b[0m\n",
      "\u001b[93m[WARN] [differ] qid is-FStar.Pervasives.Native.tuple3 not found in dbg/3ce5c5e4dc/orig.smt2 \u001b[0m\n",
      "\u001b[93m[WARN] [differ] qid is-FStar.Pervasives.Native.tuple4 not found in dbg/3ce5c5e4dc/orig.smt2 \u001b[0m\n",
      "\u001b[93m[WARN] [differ] qid is-FStar.Pervasives.Native.tuple5 not found in dbg/3ce5c5e4dc/orig.smt2 \u001b[0m\n",
      "\u001b[93m[WARN] [differ] qid is-FStar.Pervasives.Native.tuple6 not found in dbg/3ce5c5e4dc/orig.smt2 \u001b[0m\n",
      "\u001b[93m[WARN] [differ] qid is-FStar.Pervasives.Native.tuple7 not found in dbg/3ce5c5e4dc/orig.smt2 \u001b[0m\n",
      "\u001b[93m[WARN] [differ] qid is-FStar.Pervasives.Native.tuple8 not found in dbg/3ce5c5e4dc/orig.smt2 \u001b[0m\n",
      "\u001b[93m[WARN] [differ] qid is-FStar.Pervasives.Native.tuple9 not found in dbg/3ce5c5e4dc/orig.smt2 \u001b[0m\n",
      "\u001b[93m[WARN] [differ] qid is-FStar.Pervasives.Native.tuple10 not found in dbg/3ce5c5e4dc/orig.smt2 \u001b[0m\n",
      "\u001b[93m[WARN] [differ] qid is-FStar.Pervasives.Native.tuple11 not found in dbg/3ce5c5e4dc/orig.smt2 \u001b[0m\n",
      "\u001b[93m[WARN] [differ] qid is-FStar.Pervasives.Native.tuple12 not found in dbg/3ce5c5e4dc/orig.smt2 \u001b[0m\n",
      "\u001b[93m[WARN] [differ] qid is-FStar.Pervasives.Native.tuple13 not found in dbg/3ce5c5e4dc/orig.smt2 \u001b[0m\n",
      "\u001b[93m[WARN] [differ] qid is-FStar.Pervasives.Native.tuple14 not found in dbg/3ce5c5e4dc/orig.smt2 \u001b[0m\n",
      "\u001b[93m[WARN] [differ] qid is-FStar.Pervasives.result not found in dbg/3ce5c5e4dc/orig.smt2 \u001b[0m\n",
      "\u001b[93m[WARN] [differ] qid is-FStar.Pervasives.either not found in dbg/3ce5c5e4dc/orig.smt2 \u001b[0m\n",
      "\u001b[93m[WARN] [differ] qid is-FStar.Pervasives.dtuple3 not found in dbg/3ce5c5e4dc/orig.smt2 \u001b[0m\n",
      "\u001b[93m[WARN] [differ] qid is-FStar.Pervasives.dtuple4 not found in dbg/3ce5c5e4dc/orig.smt2 \u001b[0m\n",
      "\u001b[93m[WARN] [differ] qid is-FStar.Calc.calc_proof not found in dbg/3ce5c5e4dc/orig.smt2 \u001b[0m\n",
      "\u001b[93m[WARN] [differ] qid is-FStar.Calc.calc_pack not found in dbg/3ce5c5e4dc/orig.smt2 \u001b[0m\n",
      "\u001b[93m[WARN] [differ] qid is-FStar.Tactics.Result.__result not found in dbg/3ce5c5e4dc/orig.smt2 \u001b[0m\n",
      "\u001b[93m[WARN] [differ] qid is-FStar.Monotonic.HyperStack.mreference_ not found in dbg/3ce5c5e4dc/orig.smt2 \u001b[0m\n",
      "\u001b[93m[WARN] [differ] qid is-FStar.ModifiesGen.cls not found in dbg/3ce5c5e4dc/orig.smt2 \u001b[0m\n",
      "Quantifier mariposa_qid_26027 with proof count 3 did not exist in the instantiations!\n",
      "cache/e998d08b31.report\n",
      "e1e4a54bd0daf1d2decf775a2c3f0f4a.pickle\n"
     ]
    },
    {
     "name": "stderr",
     "output_type": "stream",
     "text": [
      "\u001b[94m[DEBUG] [edit] proof path: dbg/e998d08b31/proofs/reseed.10397248321928259864.proof \u001b[0m\n",
      "\u001b[94m[DEBUG] [edit] trace path: dbg/e998d08b31/traces/reseed.5819383338623026635 \u001b[0m\n"
     ]
    },
    {
     "name": "stdout",
     "output_type": "stream",
     "text": [
      "\u001b[93m[WARN] [differ] qid constructor_accessor_axiom not found in dbg/e998d08b31/orig.smt2 \u001b[0m\n",
      "\u001b[93m[WARN] [differ] qid <null> not found in dbg/e998d08b31/orig.smt2 \u001b[0m\n",
      "[2, 8]\n",
      "Mean:  5\n",
      "Median:  5.0\n",
      "0 would fix on first try\n",
      "1 would fix in 3 or fewer tries\n",
      "2 would fix in 10 or fewer tries\n"
     ]
    }
   ],
   "source": [
    "os.chdir(\"/home/amarshah/mariposa/src\")\n",
    "from calculate_average_rank import *\n",
    "os.chdir(\"/home/yizhou7/mariposa/\")\n",
    "\n",
    "slow_unknown_files = files = [get_name_hash(f) for f in f_modes[TraceFailure.SLOW_UNKNOWN]]\n",
    "not_fail_files = files = [get_name_hash(f) for f in f_modes[TraceFailure.NOT_FAIL]]\n",
    "\n",
    "kw_parameters = {\"ranking_heuristic\": \"proof_inst_graph\"}\n",
    "slow_unknown_results = calculate_rankings(kw_parameters, slow_unknown_files)"
   ]
  },
  {
   "cell_type": "code",
   "execution_count": 20,
   "metadata": {},
   "outputs": [
    {
     "name": "stdout",
     "output_type": "stream",
     "text": [
      "['95ece4e2c8', '1a397d663b', 'fb0072addd', '0b497bc090', '473fa6f229', 'a19f4272bf', '5b7d18ab3e', '0334fcf203']\n",
      "cache/95ece4e2c8.report\n",
      "0fd01710237478933ae5dc9fb99eb436.pickle\n"
     ]
    },
    {
     "name": "stderr",
     "output_type": "stream",
     "text": [
      "\u001b[94m[DEBUG] [edit] proof path: dbg/95ece4e2c8/proofs/shuffle.6507208572592150382.proof \u001b[0m\n",
      "\u001b[94m[DEBUG] [edit] trace path: dbg/95ece4e2c8/traces/rename.16904878405275336679 \u001b[0m\n"
     ]
    },
    {
     "name": "stdout",
     "output_type": "stream",
     "text": [
      "\u001b[93m[WARN] [differ] qid constructor_accessor_axiom not found in dbg/95ece4e2c8/orig.smt2 \u001b[0m\n",
      "\u001b[93m[WARN] [differ] qid <null> not found in dbg/95ece4e2c8/orig.smt2 \u001b[0m\n",
      "cache/1a397d663b.report\n",
      "3d64aa7ecaf6b8164a75e3fe0dfbc8e9.pickle\n"
     ]
    },
    {
     "name": "stderr",
     "output_type": "stream",
     "text": [
      "\u001b[94m[DEBUG] [edit] proof path: dbg/1a397d663b/proofs/shuffle.9209495299167861333.proof \u001b[0m\n",
      "\u001b[94m[DEBUG] [edit] trace path: dbg/1a397d663b/traces/rename.3384331697473390472 \u001b[0m\n"
     ]
    },
    {
     "name": "stdout",
     "output_type": "stream",
     "text": [
      "\u001b[93m[WARN] [differ] qid constructor_accessor_axiom not found in dbg/1a397d663b/orig.smt2 \u001b[0m\n",
      "cache/fb0072addd.report\n",
      "e9d40ef80d43527a5f677faa3c8bc81e.pickle\n"
     ]
    },
    {
     "name": "stderr",
     "output_type": "stream",
     "text": [
      "\u001b[94m[DEBUG] [edit] proof path: dbg/fb0072addd/proofs/reseed.11747989586556753030.proof \u001b[0m\n",
      "\u001b[94m[DEBUG] [edit] trace path: dbg/fb0072addd/traces/reseed.13135169557466019107 \u001b[0m\n"
     ]
    },
    {
     "name": "stdout",
     "output_type": "stream",
     "text": [
      "\u001b[93m[WARN] [differ] qid constructor_accessor_axiom not found in dbg/fb0072addd/orig.smt2 \u001b[0m\n",
      "cache/0b497bc090.report\n",
      "9960878171c43bc708348a5933207df4.pickle\n"
     ]
    },
    {
     "name": "stderr",
     "output_type": "stream",
     "text": [
      "\u001b[94m[DEBUG] [edit] proof path: dbg/0b497bc090/proofs/shuffle.8565505289067391007.proof \u001b[0m\n",
      "\u001b[94m[DEBUG] [edit] trace path: dbg/0b497bc090/traces/shuffle.2100168505431434418 \u001b[0m\n"
     ]
    },
    {
     "name": "stdout",
     "output_type": "stream",
     "text": [
      "\u001b[93m[WARN] [differ] qid constructor_accessor_axiom not found in dbg/0b497bc090/orig.smt2 \u001b[0m\n",
      "cache/473fa6f229.report\n",
      "948c0d855716f2b2e50d87fc730a2ca4.pickle\n"
     ]
    },
    {
     "name": "stderr",
     "output_type": "stream",
     "text": [
      "\u001b[94m[DEBUG] [edit] proof path: dbg/473fa6f229/proofs/reseed.12131826024358542972.proof \u001b[0m\n",
      "\u001b[94m[DEBUG] [edit] trace path: dbg/473fa6f229/traces/shuffle.16423719230292737142 \u001b[0m\n"
     ]
    },
    {
     "name": "stdout",
     "output_type": "stream",
     "text": [
      "\u001b[93m[WARN] [differ] qid constructor_accessor_axiom not found in dbg/473fa6f229/orig.smt2 \u001b[0m\n",
      "cache/a19f4272bf.report\n",
      "433541894839beaa19122171da2e4206.pickle\n"
     ]
    },
    {
     "name": "stderr",
     "output_type": "stream",
     "text": [
      "\u001b[94m[DEBUG] [edit] proof path: dbg/a19f4272bf/proofs/shuffle.12415292668779430114.proof \u001b[0m\n",
      "\u001b[94m[DEBUG] [edit] trace path: dbg/a19f4272bf/traces/rename.1150932889937640959 \u001b[0m\n"
     ]
    },
    {
     "name": "stdout",
     "output_type": "stream",
     "text": [
      "\u001b[93m[WARN] [differ] qid constructor_accessor_axiom not found in dbg/a19f4272bf/orig.smt2 \u001b[0m\n",
      "\u001b[93m[WARN] [differ] qid <null> not found in dbg/a19f4272bf/orig.smt2 \u001b[0m\n",
      "cache/5b7d18ab3e.report\n",
      "277708ee08844f5c5ae559f5370a0fbc.pickle\n"
     ]
    },
    {
     "name": "stderr",
     "output_type": "stream",
     "text": [
      "\u001b[94m[DEBUG] [edit] proof path: dbg/5b7d18ab3e/proofs/shuffle.4004227050859073429.proof \u001b[0m\n",
      "\u001b[94m[DEBUG] [edit] trace path: dbg/5b7d18ab3e/traces/rename.16113115495686912387 \u001b[0m\n"
     ]
    },
    {
     "name": "stdout",
     "output_type": "stream",
     "text": [
      "\u001b[93m[WARN] [differ] qid constructor_accessor_axiom not found in dbg/5b7d18ab3e/orig.smt2 \u001b[0m\n",
      "cache/0334fcf203.report\n",
      "d98c6b657ba36fb0f034c09793e5b0b4.pickle\n"
     ]
    },
    {
     "name": "stderr",
     "output_type": "stream",
     "text": [
      "\u001b[94m[DEBUG] [edit] proof path: dbg/0334fcf203/proofs/shuffle.3767154315890758019.proof \u001b[0m\n",
      "\u001b[94m[DEBUG] [edit] trace path: dbg/0334fcf203/traces/reseed.5061766174274051476 \u001b[0m\n"
     ]
    },
    {
     "name": "stdout",
     "output_type": "stream",
     "text": [
      "\u001b[93m[WARN] [differ] qid constructor_accessor_axiom not found in dbg/0334fcf203/orig.smt2 \u001b[0m\n",
      "[1, 1, 5, 1, 2, 9, 1, 18]\n",
      "Mean:  4\n",
      "Median:  1.5\n",
      "4 would fix on first try\n",
      "5 would fix in 3 or fewer tries\n",
      "7 would fix in 10 or fewer tries\n"
     ]
    }
   ],
   "source": [
    "kw_parameters = {\"ranking_heuristic\": \"proof_inst_graph\"}\n",
    "print(files)\n",
    "not_fail_results = calculate_rankings(kw_parameters, not_fail_files)"
   ]
  },
  {
   "cell_type": "code",
   "execution_count": 10,
   "metadata": {},
   "outputs": [
    {
     "name": "stdout",
     "output_type": "stream",
     "text": [
      "TraceFailure.TIMEOUT 299\n",
      "114 would fix on first try\n",
      "173 would fix in 3 or fewer tries\n",
      "238 would fix in 10 or fewer tries\n",
      "\n",
      "TraceFailure.FAST_UNKNOWN 66\n",
      "9 would fix on first try\n",
      "18 would fix in 3 or fewer tries\n",
      "35 would fix in 10 or fewer tries\n",
      "\n",
      "TraceFailure.SLOW_UNKNOWN 0\n",
      "0 would fix on first try\n",
      "0 would fix in 3 or fewer tries\n",
      "0 would fix in 10 or fewer tries\n",
      "\n",
      "TraceFailure.NOT_FAIL 0\n",
      "0 would fix on first try\n",
      "0 would fix in 3 or fewer tries\n",
      "0 would fix in 10 or fewer tries\n",
      "\n"
     ]
    }
   ],
   "source": [
    "import numpy as np\n",
    "\n",
    "for mode in [TraceFailure.TIMEOUT, TraceFailure.FAST_UNKNOWN, TraceFailure.SLOW_UNKNOWN, TraceFailure.NOT_FAIL]:\n",
    "    best_ranks = summaries[mode]\n",
    "    ranks = np.array(best_ranks)\n",
    "    print(mode, len(best_ranks))\n",
    "    print(np.where(ranks == 1)[0].shape[0], \"would fix on first try\")\n",
    "    print(np.where(ranks <= 3)[0].shape[0], \"would fix in 3 or fewer tries\")\n",
    "    print(np.where(ranks <= 10)[0].shape[0], \"would fix in 10 or fewer tries\")\n",
    "    print(\"\")\n",
    "\n",
    "\n",
    "\n",
    "\n"
   ]
  },
  {
   "cell_type": "code",
   "execution_count": 23,
   "metadata": {},
   "outputs": [
    {
     "name": "stdout",
     "output_type": "stream",
     "text": [
      "CUMULATIVE 375\n",
      "mean:  16\n",
      "median:  3\n",
      "132 would fix on first try\n",
      "211 would fix in 3 or fewer tries\n",
      "298 would fix in 10 or fewer tries\n",
      "\n"
     ]
    }
   ],
   "source": [
    "timeout_ranks = summaries[TraceFailure.TIMEOUT]\n",
    "total_ranks = timeout_ranks + fast_unknown_results + slow_unknown_results + not_fail_results\n",
    "ranks = np.array(total_ranks)\n",
    "\n",
    "print(\"CUMULATIVE\", len(total_ranks))\n",
    "print(\"mean: \", mean(total_ranks))\n",
    "print(\"median: \", median(total_ranks))\n",
    "print(np.where(ranks == 1)[0].shape[0], \"would fix on first try\")\n",
    "print(np.where(ranks <= 3)[0].shape[0], \"would fix in 3 or fewer tries\")\n",
    "print(np.where(ranks <= 10)[0].shape[0], \"would fix in 10 or fewer tries\")\n",
    "print(\"\")"
   ]
  },
  {
   "cell_type": "code",
   "execution_count": 5,
   "metadata": {},
   "outputs": [
    {
     "name": "stdout",
     "output_type": "stream",
     "text": [
      "\u001b[93m[WARN] [eval] 82449bd2e8 tested count 112 < registered 338 \u001b[0m\n",
      "\u001b[93m[WARN] [eval] 66c9bdf69f tested count 1225 < registered 1612 \u001b[0m\n"
     ]
    }
   ],
   "source": [
    "revs = BenchViewer({'data/projs/anvil/base.z3/fluent-smt-fluent_controller__fluentbit__proof__liveness__resource_match__lemma_from_after_get_resource_step_to_after_update_resource_step.smt2', 'data/projs/anvil/base.z3/fluent-smt-fluent_controller__fluentbit__proof__helper_invariants__validation.3.smt2', 'data/projs/vsystemsnew/base.z3/verified-storage-smt-verified-storage-smt-storage-node-multilog__setup_v.5.smt2', 'data/projs/vsystemsnew/base.z3/verified-storage-smt-verified-storage-smt-storage-node-multilog__inv_v.11.smt2', 'data/projs/vsystemsnew/base.z3/mimalloc-smt-page_organization__PageOrg.69.smt2', 'data/projs/verismo.dedup/base.z3/snp__ghcb__proto_page.141.smt2', 'data/projs/anvil/base.z3/zookeeper-smt-zookeeper_controller__proof__liveness__stateful_set_match.2.smt2', 'data/projs/vsystemsnew/base.z3/verified-storage-smt-verified-storage-smt-storage-node-log__inv_v.13.smt2', 'data/projs/vsystemsnew/base.z3/verified-storage-smt-verified-storage-smt-storage-node-multilog__inv_v.16.smt2', 'data/projs/vsystemsnew/base.z3/verified-storage-smt-verified-storage-smt-storage-node-multilog__inv_v.15.smt2', 'data/projs/verismo.dedup/base.z3/bsp__ap.3.smt2', 'data/projs/verismo.dedup/base.z3/vbox__vbox.4.smt2', 'data/projs/anvil/base.z3/zookeeper-smt-zookeeper_controller__proof__helper_invariants__proof__lemma_eventually_always_no_delete_resource_request_msg_in_flight.smt2', 'data/projs/anvil/base.z3/zookeeper-smt-rabbitmq-smt-rabbitmq_controller__proof__helper_invariants__validation__lemma_always_stateful_set_in_create_request_msg_satisfies_unchangeable.smt2', 'data/projs/splinterdb/base.z3/allocation_layer__LikesBetree_v.18.smt2', 'data/projs/anvil/base.z3/zookeeper-smt-rabbitmq-smt-rabbitmq_controller__proof__liveness__stateful_set_match__lemma_from_after_get_stateful_set_step_to_after_update_stateful_set_step.smt2', 'data/projs/vsystemsnew/base.z3/verified-storage-smt-verified-storage-smt-storage-node-log__logimpl_v.6.smt2', 'data/projs/vsystemsnew/base.z3/verified-storage-smt-verified-storage-smt-storage-node-multilog__inv_v.2.smt2', 'data/projs/splinterdb/base.z3/allocation_layer__LikesBetree_v__LikesBetree.3.smt2', 'data/projs/vsystemsnew/base.z3/verified-storage-smt-verified-storage-smt-storage-node-log__inv_v.2.smt2', 'data/projs/vsystemsnew/base.z3/verified-storage-smt-verified-storage-smt-storage-node-multilog__inv_v.9.smt2', 'data/projs/verismo.dedup/base.z3/boot__init__e820_init.4.smt2', 'data/projs/anvil/base.z3/zookeeper-smt-rabbitmq-smt-rabbitmq_controller__proof__helper_invariants__proof__lemma_eventually_always_every_resource_create_request_implies_at_after_create_resource_step.smt2', 'data/projs/anvil/base.z3/fluent-smt-fluent_controller__fluentbit__proof__liveness__daemon_set_match__lemma_from_after_get_daemon_set_step_to_after_update_daemon_set_step.smt2', 'data/projs/anvil/base.z3/zookeeper-smt-zookeeper_controller__proof__helper_invariants__validation.3.smt2', 'data/projs/vsystemsnew/base.z3/mimalloc-smt-segment__segment_span_free_coalesce_before.smt2', 'data/projs/vsystemsnew/base.z3/verified-storage-smt-verified-storage-smt-storage-node-log__layout_v.30.smt2', 'data/projs/vsystemsnew/base.z3/verified-storage-smt-verified-storage-smt-storage-node-multilog__inv_v.14.smt2', 'data/projs/vsystemsnew/base.z3/verified-storage-smt-verified-storage-smt-storage-node-multilog__inv_v.13.smt2', 'data/projs/anvil/base.z3/fluent-smt-fluent_controller__fluentbit_config__proof__liveness__resource_match.5.smt2', 'data/projs/anvil/base.z3/zookeeper-smt-rabbitmq-smt-rabbitmq_controller__proof__liveness__resource_match.1.smt2', 'data/projs/vsystemsnew/base.z3/mimalloc-smt-commit_segment.1.smt2', 'data/projs/verismo.dedup/base.z3/snp__cpuid.17.smt2', 'data/projs/anvil/base.z3/fluent-smt-fluent_controller__fluentbit_config__proof__liveness__resource_match.6.smt2', 'data/projs/verismo.dedup/base.z3/vbox__vbox.5.smt2', 'data/projs/vsystemsnew/base.z3/verified-storage-smt-verified-storage-smt-storage-node-log__inv_v.17.smt2', 'data/projs/vsystemsnew/base.z3/verified-storage-smt-verified-storage-smt-storage-node-multilog__inv_v.17.smt2', 'data/projs/vsystemsnew/base.z3/verified-storage-smt-verified-storage-smt-storage-node-multilog__inv_v.7.smt2', 'data/projs/anvil/base.z3/zookeeper-smt-zookeeper_controller__proof__helper_invariants__proof.2.smt2', 'data/projs/vsystemsnew/base.z3/verified-storage-smt-verified-storage-smt-storage-node-log__inv_v.10.smt2', 'data/projs/anvil/base.z3/zookeeper-smt-rabbitmq-smt-rabbitmq_controller__proof__liveness__stateful_set_match__lemma_stateful_set_state_matches_at_after_update_stateful_set_step.smt2', 'data/projs/vsystemsnew/base.z3/page-table-smt-impl_u__l2_refinement.3.smt2', 'data/projs/vsystemsnew/base.z3/mimalloc-smt-config.35.smt2', 'data/projs/verismo.dedup/base.z3/security__monitor.21.smt2', 'data/projs/vsystemsnew/base.z3/verified-storage-smt-verified-storage-smt-storage-node-log__inv_v.4.smt2', 'data/projs/verismo.dedup/base.z3/boot__init__e820_init_alloc.1.smt2', 'data/projs/verismo.dedup/base.z3/boot__init__e820_init.2.smt2', 'data/projs/vsystemsnew/base.z3/verified-storage-smt-verified-storage-smt-storage-node-log__inv_v.12.smt2', 'data/projs/vsystemsnew/base.z3/mimalloc-smt-segment__segment_os_alloc.smt2', 'data/projs/vsystemsnew/base.z3/verified-storage-smt-verified-storage-smt-storage-node-log__inv_v.5.smt2', 'data/projs/anvil/base.z3/fluent-smt-fluent_controller__fluentbit__proof__helper_invariants__proof.9.smt2', 'data/projs/verismo.dedup/base.z3/pgtable_e__pte.20.smt2', 'data/projs/anvil/base.z3/fluent-smt-fluent_controller__fluentbit_config__proof__liveness__resource_match__lemma_from_after_get_resource_step_to_after_create_resource_step.smt2', 'data/projs/anvil/base.z3/zookeeper-smt-zookeeper_controller__proof__helper_invariants__zookeeper_api__lemma_zk_request_implies_step_helper.smt2', 'data/projs/anvil/base.z3/zookeeper-smt-zookeeper_controller__proof__helper_invariants__proof__lemma_always_no_update_status_request_msg_in_flight_of_except_stateful_set.smt2', 'data/projs/vsystemsnew/base.z3/verified-storage-smt-verified-storage-smt-storage-node-multilog__start_v.2.smt2', 'data/projs/verismo.dedup/base.z3/pgtable_e__pte.18.smt2', 'data/projs/verismo.dedup/base.z3/allocator__linkedlist.10.smt2', 'data/projs/atmosphere/base.z3/kernel__create_and_share_pages.5.smt2', 'data/projs/anvil/base.z3/zookeeper-smt-rabbitmq-smt-rabbitmq_controller__proof__helper_invariants__proof__lemma_eventually_always_object_in_response_at_after_create_resource_step_is_same_as_etcd.smt2', 'data/projs/vsystemsnew/base.z3/verified-storage-smt-verified-storage-smt-storage-node-multilog__setup_v.6.smt2', 'data/projs/vsystemsnew/base.z3/verified-storage-smt-verified-storage-smt-storage-node-log__inv_v.14.smt2', 'data/projs/vsystemsnew/base.z3/mimalloc-smt-segment__span_queue_delete.smt2'})"
   ]
  },
  {
   "cell_type": "code",
   "execution_count": null,
   "metadata": {},
   "outputs": [],
   "source": []
  },
  {
   "cell_type": "code",
   "execution_count": null,
   "metadata": {},
   "outputs": [],
   "source": []
  }
 ],
 "metadata": {
  "kernelspec": {
   "display_name": "Python 3",
   "language": "python",
   "name": "python3"
  },
  "language_info": {
   "codemirror_mode": {
    "name": "ipython",
    "version": 3
   },
   "file_extension": ".py",
   "mimetype": "text/x-python",
   "name": "python",
   "nbconvert_exporter": "python",
   "pygments_lexer": "ipython3",
   "version": "3.8.10"
  }
 },
 "nbformat": 4,
 "nbformat_minor": 2
}
