{
 "cells": [
  {
   "cell_type": "code",
   "execution_count": 1,
   "metadata": {},
   "outputs": [],
   "source": [
    "import sys, os\n",
    "\n",
    "MARIPOSA_PATH = \"/home/yizhou7/mariposa/\"\n",
    "\n",
    "sys.path.append(MARIPOSA_PATH + \"src\")\n",
    "os.chdir(MARIPOSA_PATH)\n",
    "\n",
    "from debugger.debugger import DbgMode\n",
    "from debugger.bench_viewer import BenchViewer\n",
    "from debugger.debugger_options import DebugOptions\n",
    "from debugger.strainer import DebugStatus\n",
    "from benchmark_consts import *\n",
    "from utils.system_utils import list_smt2_files\n"
   ]
  },
  {
   "cell_type": "code",
   "execution_count": 2,
   "metadata": {},
   "outputs": [
    {
     "name": "stdout",
     "output_type": "stream",
     "text": [
      "\u001b[93m[WARN] [proof] no proofs available \u001b[0m\u001b[93m[WARN] [proof] no proofs available \u001b[0m\n",
      "\n",
      "\u001b[93m[WARN] [init] 8d058577cd trace slow unknown, fallback to fast_fail \u001b[0m\n",
      "\u001b[93m[WARN] [proof] no proofs available \u001b[0m\n"
     ]
    }
   ],
   "source": [
    "options = DebugOptions()\n",
    "# remember to set this!\n",
    "options.is_verus = True\n",
    "\n",
    "round1 = BenchViewer(UNSTABLE_VERUS, options)"
   ]
  },
  {
   "cell_type": "code",
   "execution_count": 3,
   "metadata": {},
   "outputs": [
    {
     "name": "stdout",
     "output_type": "stream",
     "text": [
      "| category                  |   count | percentage   |\n",
      "|---------------------------|---------|--------------|\n",
      "| DebugStatus.FIX_FOUND     |      50 | 71.43 %      |\n",
      "| DebugStatus.FIX_NOT_FOUND |      17 | 24.29 %      |\n",
      "| DebugStatus.NO_PROOF      |       3 | 4.29 %       |\n",
      "| total                     |      70 | 100.00 %     |\n"
     ]
    }
   ],
   "source": [
    "round1.status.print_status()"
   ]
  },
  {
   "cell_type": "code",
   "execution_count": 4,
   "metadata": {},
   "outputs": [],
   "source": [
    "discount = [\n",
    "    (\"08719204aa\", \"4b9e624e\"),\n",
    "    (\"81b159a977\", \"fbe192f3\"),\n",
    "    (\"2556504d15\", \"7ab783b0\"),\n",
    "    (\"6540edb885\", \"5e546c11\"),\n",
    "    (\"82449bd2e8\", \"4c612f9b\"),\n",
    "    (\"a1b4b3fd4a\", \"4e444e51\"),\n",
    "    (\"55b4af82a4\", \"02d50371\"),\n",
    "    (\"2556504d15\", \"0e424555\"),\n",
    "    (\"4d2d4fbc20\", \"5a3b4208\"),\n",
    "    (\"82449bd2e8\", \"905f3174\"),\n",
    "    (\"2045867a58\", \"7ec12ea5\"),\n",
    "    (\"55b4af82a4\", \"781157b6\"),\n",
    "    (\"68ac429152\", \"75d801e3\"),\n",
    "]"
   ]
  },
  {
   "cell_type": "code",
   "execution_count": 5,
   "metadata": {},
   "outputs": [],
   "source": [
    "def fixes_after_discount(dbg):\n",
    "    report =dbg.report\n",
    "    name_hash = dbg.name_hash\n",
    "    fixes = []\n",
    "    for edit_path in report.stabilized['edit_path']:\n",
    "        edit_hash = os.path.basename(edit_path).split('.')[0]\n",
    "        if (name_hash, edit_hash) in discount:\n",
    "            print(\"skipping\", edit_path)    \n",
    "            continue\n",
    "        fixes += [edit_path]\n",
    "    return fixes"
   ]
  },
  {
   "cell_type": "code",
   "execution_count": 8,
   "metadata": {},
   "outputs": [
    {
     "name": "stdout",
     "output_type": "stream",
     "text": [
      "skipping data/projs/timeout_6540edb885/base.z3/5e546c11.smt2\n",
      "skipping data/projs/timeout_82449bd2e8/base.z3/4c612f9b.smt2\n",
      "skipping data/projs/timeout_82449bd2e8/base.z3/905f3174.smt2\n",
      "skipping data/projs/timeout_2556504d15/base.z3/0e424555.smt2\n",
      "skipping data/projs/timeout_2556504d15/base.z3/7ab783b0.smt2\n",
      "skipping data/projs/timeout_4d2d4fbc20/base.z3/5a3b4208.smt2\n",
      "skipping data/projs/timeout_a1b4b3fd4a/base.z3/4e444e51.smt2\n",
      "skipping data/projs/timeout_55b4af82a4/base.z3/02d50371.smt2\n",
      "skipping data/projs/timeout_55b4af82a4/base.z3/781157b6.smt2\n",
      "skipping data/projs/fast_fail_2045867a58/base.z3/7ec12ea5.smt2\n",
      "skipping data/projs/timeout_81b159a977/base.z3/fbe192f3.smt2\n",
      "skipping data/projs/timeout_08719204aa/base.z3/4b9e624e.smt2\n",
      "skipping data/projs/timeout_68ac429152/base.z3/75d801e3.smt2\n",
      "TOs: 39/70 (55.7%)\n",
      "\t- 1-no-proof: 2/39 (5.1%)\n",
      "\t- 1-fixable: 25/39 (64.1%)\n",
      "\t- 1-unfixable: 12/39 (30.8%)\n",
      "FFs: 31/70 (44.3%)\n",
      "\t- 1-no-proof: 1/31 (3.2%)\n",
      "\t- 1-fixable: 22/31 (71.0%)\n",
      "\t- 1-unfixable: 8/31 (25.8%)\n",
      "\n",
      "1-fixable: 47/70 (67.1%)\n"
     ]
    }
   ],
   "source": [
    "from utils.analysis_utils import fmt_percent\n",
    "\n",
    "bench_total = len(round1.status.tally)\n",
    "\n",
    "to_cases = set()\n",
    "rd1_to_fixable = set()\n",
    "ff_cases = set()\n",
    "rd1_ff_fixable = set()\n",
    "\n",
    "\n",
    "def fmt_break_down(p, q):\n",
    "    return f\"{p}/{q} ({fmt_percent(p, q, 1)})\"\n",
    "\n",
    "\n",
    "singleton_fixes = dict()\n",
    "\n",
    "for q in round1.status.tally:\n",
    "    dbg = round1[q]\n",
    "    if dbg.mode == DbgMode.TIMEOUT:\n",
    "        to_cases.add(q)\n",
    "        if q not in round1.status[DebugStatus.FIX_FOUND]:\n",
    "            continue\n",
    "        fixes = fixes_after_discount(dbg)\n",
    "        if fixes != []:\n",
    "            singleton_fixes[q] = fixes\n",
    "            rd1_to_fixable.add(q)\n",
    "    elif dbg.mode == DbgMode.FAST_FAIL:\n",
    "        ff_cases.add(q)\n",
    "        if q not in round1.status[DebugStatus.FIX_FOUND]:\n",
    "            continue\n",
    "        fixes = fixes_after_discount(dbg)\n",
    "        if fixes != []:\n",
    "            singleton_fixes[q] = fixes\n",
    "            rd1_ff_fixable.add(q)\n",
    "    else:\n",
    "        print(\"unexpected mode\", dbg.mode)\n",
    "        assert False\n",
    "\n",
    "print(\"TOs:\", fmt_break_down(len(to_cases), bench_total))\n",
    "rd1_to_no_proof = to_cases & round1.status[DebugStatus.NO_PROOF].items\n",
    "rd1_to_no_fix = to_cases - rd1_to_no_proof - rd1_to_fixable\n",
    "print(\"\\t- 1-no-proof:\", fmt_break_down(len(rd1_to_no_proof), len(to_cases)))\n",
    "print(\"\\t- 1-fixable:\", fmt_break_down(len(rd1_to_fixable), len(to_cases)))\n",
    "print(\"\\t- 1-unfixable:\", fmt_break_down(len(rd1_to_no_fix), len(to_cases)))\n",
    "\n",
    "print(\"FFs:\", fmt_break_down(len(ff_cases), bench_total))\n",
    "rd1_ff_no_proof = ff_cases & round1.status[DebugStatus.NO_PROOF].items\n",
    "rd1_ff_no_fix = ff_cases - rd1_ff_no_proof - rd1_ff_fixable\n",
    "print(\"\\t- 1-no-proof:\", fmt_break_down(len(rd1_ff_no_proof), len(ff_cases)))\n",
    "print(\"\\t- 1-fixable:\", fmt_break_down(len(rd1_ff_fixable), len(ff_cases)))\n",
    "print(\"\\t- 1-unfixable:\", fmt_break_down(len(rd1_ff_no_fix), len(ff_cases)))\n",
    "\n",
    "print(\"\")\n",
    "print(\"1-fixable:\", fmt_break_down(len(rd1_to_fixable | rd1_ff_fixable), bench_total))"
   ]
  },
  {
   "cell_type": "code",
   "execution_count": 10,
   "metadata": {},
   "outputs": [],
   "source": [
    "# for Verus, we bundle and re-test the fixable cases\n",
    "\n",
    "for query in rd1_to_fixable | rd1_ff_fixable:\n",
    "    report = round1[query].report\n",
    "    name_hash = round1[query].name_hash\n",
    "\n",
    "    for edit_path in report.stabilized['edit_path']:\n",
    "        edit_query = os.path.basename(edit_path)\n",
    "        bundle_path = f\"data/projs/verus_singleton_bundle/base.z3/{name_hash}.{edit_query}\""
   ]
  },
  {
   "cell_type": "code",
   "execution_count": 11,
   "metadata": {},
   "outputs": [
    {
     "name": "stdout",
     "output_type": "stream",
     "text": [
      "data/projs/vsystemsnew/base.z3/mimalloc-smt-page_organization__PageOrg__impl_%4__merge_with_before_ll_inv_valid_unused.smt2\n",
      "data/projs/verismo.dedup/base.z3/arch__ptram__ptram_p2.smt2\n",
      "data/projs/vsystemsnew/base.z3/page-table-smt-impl_u__l2_refinement.4.smt2\n"
     ]
    }
   ],
   "source": [
    "for q in round1.status[DebugStatus.NO_PROOF]:\n",
    "    print(q)"
   ]
  },
  {
   "cell_type": "code",
   "execution_count": 12,
   "metadata": {},
   "outputs": [],
   "source": [
    "for q in round1.status[DebugStatus.NOT_CREATED]:\n",
    "    print(\"./src/debugger3.py -m auto -i\", round1[q].name_hash, \"--create-project\")"
   ]
  },
  {
   "cell_type": "code",
   "execution_count": 13,
   "metadata": {},
   "outputs": [],
   "source": [
    "for q in round1.status[DebugStatus.UNFILTERED]:\n",
    "    assert len(list_smt2_files(round1[q].strainer.filter_dir)) != 0\n",
    "    print(\"./src/make_spaghet.py --verus --local -i\", round1[q].strainer.filter_dir)\n",
    "\n",
    "for q in round1.status[DebugStatus.NOT_TESTED]:\n",
    "    assert len(list_smt2_files(round1[q].strainer.test_dir)) != 0\n",
    "    print(\"./src/make_spaghet.py --verus --local -i\", round1[q].strainer.test_dir)"
   ]
  },
  {
   "cell_type": "code",
   "execution_count": 14,
   "metadata": {},
   "outputs": [
    {
     "name": "stderr",
     "output_type": "stream",
     "text": [
      "\u001b[94m[DEBUG] [edit] proof path: dbg/7d8c4302ab/proofs/reseed.9908923975124208297.proof \u001b[0m\n",
      "\u001b[94m[DEBUG] [edit] trace path: dbg/7d8c4302ab/traces/shuffle.15513482486857776214 \u001b[0m\n"
     ]
    },
    {
     "name": "stdout",
     "output_type": "stream",
     "text": [
      "cce3dd987c131a5c430a27e224e9fdf1.pickle\n",
      "\u001b[93m[WARN] [differ] qid constructor_accessor_axiom not found in dbg/7d8c4302ab/orig.smt2 \u001b[0m\n",
      "c4c1f6d166ad5b106554b653f12ed9c4.pickle\n",
      "\u001b[93m[WARN] [differ] qid constructor_accessor_axiom not found in dbg/f6f3f962c0/orig.smt2 \u001b[0m\n",
      "e471625220affba6fc9c32b2df8243dd.pickle\n"
     ]
    },
    {
     "name": "stderr",
     "output_type": "stream",
     "text": [
      "\u001b[94m[DEBUG] [edit] proof path: dbg/f6f3f962c0/proofs/shuffle.13526046991560484318.proof \u001b[0m\n",
      "\u001b[94m[DEBUG] [edit] trace path: dbg/f6f3f962c0/traces/shuffle.5345052648385214803 \u001b[0m\n",
      "\u001b[94m[DEBUG] [edit] proof path: dbg/8d058577cd/proofs/rename.9999379753263398590.proof \u001b[0m\n",
      "\u001b[94m[DEBUG] [edit] trace path: dbg/8d058577cd/traces/shuffle.16031162538414592248 \u001b[0m\n"
     ]
    },
    {
     "name": "stdout",
     "output_type": "stream",
     "text": [
      "\u001b[93m[WARN] [differ] qid unknown_37 not found in dbg/8d058577cd/orig.smt2 \u001b[0m\n",
      "\u001b[93m[WARN] [differ] qid unknown_45 not found in dbg/8d058577cd/orig.smt2 \u001b[0m\n",
      "\u001b[93m[WARN] [differ] qid constructor_accessor_axiom not found in dbg/8d058577cd/orig.smt2 \u001b[0m\n",
      "\u001b[93m[WARN] [differ] qid <null> not found in dbg/8d058577cd/orig.smt2 \u001b[0m\n",
      "b031de557bb34b4d198667b141063b1a.pickle\n"
     ]
    },
    {
     "name": "stderr",
     "output_type": "stream",
     "text": [
      "\u001b[94m[DEBUG] [edit] proof path: dbg/a896b920ca/proofs/rename.13547342595759592148.proof \u001b[0m\n",
      "\u001b[94m[DEBUG] [edit] trace path: dbg/a896b920ca/traces/shuffle.3935504091054792581 \u001b[0m\n"
     ]
    },
    {
     "name": "stdout",
     "output_type": "stream",
     "text": [
      "\u001b[93m[WARN] [differ] qid constructor_accessor_axiom not found in dbg/a896b920ca/orig.smt2 \u001b[0m\n",
      "d9a6fd7885eb3eb6c413c53316a91f44.pickle\n"
     ]
    },
    {
     "name": "stderr",
     "output_type": "stream",
     "text": [
      "\u001b[94m[DEBUG] [edit] proof path: dbg/d057fff3f5/proofs/rename.17608056682826294385.proof \u001b[0m\n",
      "\u001b[94m[DEBUG] [edit] trace path: dbg/d057fff3f5/traces/shuffle.227536422975727424 \u001b[0m\n"
     ]
    },
    {
     "name": "stdout",
     "output_type": "stream",
     "text": [
      "\u001b[93m[WARN] [differ] qid constructor_accessor_axiom not found in dbg/d057fff3f5/orig.smt2 \u001b[0m\n",
      "7f3387739f00544be2dda14c996725b3.pickle\n"
     ]
    },
    {
     "name": "stderr",
     "output_type": "stream",
     "text": [
      "\u001b[94m[DEBUG] [edit] proof path: dbg/be920877ca/proofs/shuffle.9555299481395785809.proof \u001b[0m\n",
      "\u001b[94m[DEBUG] [edit] trace path: dbg/be920877ca/traces/shuffle.14575692651422062579 \u001b[0m\n"
     ]
    },
    {
     "name": "stdout",
     "output_type": "stream",
     "text": [
      "\u001b[93m[WARN] [differ] qid constructor_accessor_axiom not found in dbg/be920877ca/orig.smt2 \u001b[0m\n",
      "bb177960ff0bf14e16b55d9b3b47a355.pickle\n",
      "\u001b[93m[WARN] [differ] qid constructor_accessor_axiom not found in dbg/d6181053ff/orig.smt2 \u001b[0m\n",
      "41884a1c910ece84f3f54ae2e3ed76a2.pickle\n"
     ]
    },
    {
     "name": "stderr",
     "output_type": "stream",
     "text": [
      "\u001b[94m[DEBUG] [edit] proof path: dbg/d6181053ff/proofs/shuffle.1879102912735967004.proof \u001b[0m\n",
      "\u001b[94m[DEBUG] [edit] trace path: dbg/d6181053ff/traces/shuffle.15181022330680520267 \u001b[0m\n",
      "\u001b[94m[DEBUG] [edit] proof path: dbg/090a2a7d67/proofs/reseed.7014106981689618503.proof \u001b[0m\n",
      "\u001b[94m[DEBUG] [edit] trace path: dbg/090a2a7d67/traces/shuffle.10445631812693282071 \u001b[0m\n"
     ]
    },
    {
     "name": "stdout",
     "output_type": "stream",
     "text": [
      "\u001b[93m[WARN] [differ] qid constructor_accessor_axiom not found in dbg/090a2a7d67/orig.smt2 \u001b[0m\n",
      "\u001b[93m[WARN] [differ] qid <null> not found in dbg/090a2a7d67/orig.smt2 \u001b[0m\n"
     ]
    }
   ],
   "source": [
    "from debugger.edit_info import EditAction, EditInfo\n",
    "\n",
    "skolem_failed = []\n",
    "\n",
    "for q in rd1_ff_no_fix:\n",
    "    dbg = round1[q]\n",
    "    qname = dbg.editor.choose_qanme_to_skolemize()\n",
    "\n",
    "    if qname is None:\n",
    "        skolem_failed.append(q)\n",
    "        continue\n",
    "\n",
    "    ei = EditInfo(VERUS_SKOLEM_DIR, {qname: EditAction.SKOLEMIZE})\n",
    "    edit_hash = ei.get_id()\n",
    "    name_hash = dbg.name_hash\n",
    "\n",
    "    query_path = f\"{VERUS_SKOLEM_DIR}/{name_hash}.{edit_hash}.smt2\"\n",
    "\n",
    "    if os.path.exists(query_path):\n",
    "        continue\n",
    "\n",
    "    if not dbg.editor.edit_by_qname(qname, EditAction.SKOLEMIZE):\n",
    "        skolem_failed.append(q)\n",
    "        continue\n",
    "\n",
    "    if not dbg.editor.save(query_path):\n",
    "        skolem_failed.append(q)\n",
    "        continue\n"
   ]
  },
  {
   "cell_type": "code",
   "execution_count": 15,
   "metadata": {},
   "outputs": [
    {
     "name": "stdout",
     "output_type": "stream",
     "text": [
      "| category                  |   count | percentage   |\n",
      "|---------------------------|---------|--------------|\n",
      "| DebugStatus.FIX_NOT_FOUND |       8 | 66.67 %      |\n",
      "| DebugStatus.FIX_FOUND     |       4 | 33.33 %      |\n",
      "| total                     |      12 | 100.00 %     |\n"
     ]
    }
   ],
   "source": [
    "rd2_to_targets = [round1[q].name_hash for q in rd1_to_no_fix]\n",
    "\n",
    "options = DebugOptions()\n",
    "options.is_verus = True\n",
    "# it is tested under the name DOUBLETON\n",
    "# overwrite the mode, otherwise AUTO -> TIMEOUT\n",
    "options.mode = DbgMode.DOUBLETON\n",
    "\n",
    "round2_to = BenchViewer(rd2_to_targets, options)\n",
    "round2_to.status.print_status()\n"
   ]
  },
  {
   "cell_type": "code",
   "execution_count": 16,
   "metadata": {},
   "outputs": [
    {
     "name": "stdout",
     "output_type": "stream",
     "text": [
      "| category                  |   count | percentage   |\n",
      "|---------------------------|---------|--------------|\n",
      "| DebugStatus.FIX_NOT_FOUND |       4 | 57.14 %      |\n",
      "| DebugStatus.FIX_FOUND     |       3 | 42.86 %      |\n",
      "| total                     |       7 | 100.00 %     |\n"
     ]
    }
   ],
   "source": [
    "rd2_sk_targets = [round1[q].name_hash for q in rd1_ff_no_fix]\n",
    "\n",
    "\n",
    "# this is a subset of rd2_sk_targets\n",
    "skolmized = list_smt2_files(VERUS_SKOLEM_DIR)\n",
    "options = DebugOptions()\n",
    "options.mode = DbgMode.SKOLEM\n",
    "\n",
    "round2_sk = BenchViewer(skolmized, options)\n",
    "round2_sk.status.print_status()"
   ]
  },
  {
   "cell_type": "code",
   "execution_count": 28,
   "metadata": {},
   "outputs": [
    {
     "name": "stdout",
     "output_type": "stream",
     "text": [
      "TOs: 39/70 (55.7%)\n",
      "\t- 1-no-proof: 2/39 (5.1%)\n",
      "\t- 1-fixable: 25/39 (64.1%)\n",
      "\t- 2-fixable: 4/39 (10.3%)\n",
      "FFs: 31/70 (44.3%)\n",
      "\t- 1-no-proof: 1/31 (3.2%)\n",
      "\t- 1-fixable: 22/31 (71.0%)\n",
      "\t- 2-fixable: 3/31 (9.7%)\n",
      "\n",
      "1-fixable: 47/70 (67.1%)\n",
      "2-fixable: 7/70 (10.0%)\n",
      "*-fixable: 54/70 (77.1%)\n"
     ]
    }
   ],
   "source": [
    "doubleton_fixes = dict()\n",
    "\n",
    "print(\"TOs:\", fmt_break_down(len(to_cases), bench_total))\n",
    "rd1_to_no_proof = to_cases & round1.status[DebugStatus.NO_PROOF].items\n",
    "rd1_to_no_fix = to_cases & round1.status[DebugStatus.FIX_NOT_FOUND].items\n",
    "print(\"\\t- 1-no-proof:\", fmt_break_down(len(rd1_to_no_proof), len(to_cases)))\n",
    "print(\"\\t- 1-fixable:\", fmt_break_down(len(rd1_to_fixable), len(to_cases)))\n",
    "# print(\"\\t- 1-unfixable:\", print_break_down(len(rd1_to_no_fix), len(to_cases)))\n",
    "rd2_to_fixable = round2_to.status[DebugStatus.FIX_FOUND].items\n",
    "\n",
    "for q in rd2_to_fixable:\n",
    "    doubleton_fixes[q] = round2_to[q].report.stabilized.edit_path.values.tolist()\n",
    "\n",
    "assert rd2_to_fixable.issubset(to_cases)\n",
    "print(\"\\t- 2-fixable:\", fmt_break_down(len(rd2_to_fixable), len(to_cases)))\n",
    "\n",
    "print(\"FFs:\", fmt_break_down(len(ff_cases), bench_total))\n",
    "rd1_ff_no_proof = ff_cases & round1.status[DebugStatus.NO_PROOF].items\n",
    "rd1_ff_no_fix = ff_cases & round1.status[DebugStatus.FIX_NOT_FOUND].items\n",
    "print(\"\\t- 1-no-proof:\", fmt_break_down(len(rd1_ff_no_proof), len(ff_cases)))\n",
    "print(\"\\t- 1-fixable:\", fmt_break_down(len(rd1_ff_fixable), len(ff_cases)))\n",
    "# print(\"\\t- 1-unfixable:\", print_break_down(len(rd1_ff_no_fix), len(ff_cases)))\n",
    "rd2_ff_fixable = round2_sk.status[DebugStatus.FIX_FOUND].items\n",
    "\n",
    "for q in rd2_ff_fixable:\n",
    "    assert round1[round2_sk[q].pre_skolem_name_hash].given_query_path in rd1_ff_no_fix\n",
    "    doubleton_fixes[q] = round2_sk[q].report.stabilized.edit_path.values.tolist()\n",
    "\n",
    "print(\"\\t- 2-fixable:\", fmt_break_down( len(rd2_ff_fixable), len(ff_cases)))\n",
    "\n",
    "print(\"\")\n",
    "print(\"1-fixable:\", fmt_break_down(len(rd1_to_fixable | rd1_ff_fixable), bench_total))\n",
    "print(\"2-fixable:\", fmt_break_down(len(rd2_to_fixable | rd2_ff_fixable), bench_total))\n",
    "print(\n",
    "    \"*-fixable:\",\n",
    "    fmt_break_down(\n",
    "        len(rd1_to_fixable | rd1_ff_fixable | rd2_to_fixable | rd2_ff_fixable),\n",
    "        bench_total,\n",
    "    ),\n",
    ")"
   ]
  },
  {
   "cell_type": "code",
   "execution_count": 29,
   "metadata": {},
   "outputs": [
    {
     "name": "stdout",
     "output_type": "stream",
     "text": [
      "{'data/projs/vsystemsnew/base.z3/verified-storage-smt-verified-storage-smt-storage-node-multilog__inv_v.2.smt2': ['data/projs/fast_fail_2078a24298/base.z3/0bbd00e5.smt2', 'data/projs/fast_fail_2078a24298/base.z3/799880e0.smt2'], 'data/projs/verismo.dedup/base.z3/boot__init__e820_init.4.smt2': ['data/projs/timeout_6540edb885/base.z3/385b4a2b.smt2', 'data/projs/timeout_6540edb885/base.z3/83227247.smt2'], 'data/projs/anvil/base.z3/zookeeper-smt-zookeeper_controller__proof__helper_invariants__proof.2.smt2': ['data/projs/timeout_b475a457a9/base.z3/880151e5.smt2'], 'data/projs/anvil/base.z3/zookeeper-smt-rabbitmq-smt-rabbitmq_controller__proof__liveness__stateful_set_match__lemma_stateful_set_state_matches_at_after_update_stateful_set_step.smt2': ['data/projs/timeout_eccd7ce2d9/base.z3/2c1e299d.smt2'], 'data/projs/verismo.dedup/base.z3/boot__init__e820_init_alloc.1.smt2': ['data/projs/timeout_b119384805/base.z3/7b41a3f5.smt2'], 'data/projs/vsystemsnew/base.z3/verified-storage-smt-verified-storage-smt-storage-node-multilog__inv_v.9.smt2': ['data/projs/fast_fail_c02ff41a27/base.z3/0bbd00e5.smt2', 'data/projs/fast_fail_c02ff41a27/base.z3/4cdcaea2.smt2'], 'data/projs/verismo.dedup/base.z3/vbox__vbox.4.smt2': ['data/projs/timeout_f08610121f/base.z3/245091d4.smt2', 'data/projs/timeout_f08610121f/base.z3/28819650.smt2', 'data/projs/timeout_f08610121f/base.z3/fc96888c.smt2'], 'data/projs/vsystemsnew/base.z3/verified-storage-smt-verified-storage-smt-storage-node-log__inv_v.17.smt2': ['data/projs/fast_fail_025a074d17/base.z3/0bbd00e5.smt2', 'data/projs/fast_fail_025a074d17/base.z3/799880e0.smt2'], 'data/projs/vsystemsnew/base.z3/mimalloc-smt-segment__segment_os_alloc.smt2': ['data/projs/timeout_fef99080cd/base.z3/8fd269eb.smt2', 'data/projs/timeout_fef99080cd/base.z3/933164d9.smt2', 'data/projs/timeout_fef99080cd/base.z3/c3fbb953.smt2', 'data/projs/timeout_fef99080cd/base.z3/e0d5ef38.smt2'], 'data/projs/verismo.dedup/base.z3/snp__cpuid.17.smt2': ['data/projs/timeout_2556504d15/base.z3/1a55b4c3.smt2', 'data/projs/timeout_2556504d15/base.z3/668cd01f.smt2', 'data/projs/timeout_2556504d15/base.z3/b7fe76cc.smt2', 'data/projs/timeout_2556504d15/base.z3/bd46a267.smt2', 'data/projs/timeout_2556504d15/base.z3/fc96888c.smt2', 'data/projs/timeout_2556504d15/base.z3/fdbc75aa.smt2'], 'data/projs/vsystemsnew/base.z3/mimalloc-smt-page_organization__PageOrg.69.smt2': ['data/projs/timeout_9eaad8947e/base.z3/0f632191.smt2', 'data/projs/timeout_9eaad8947e/base.z3/76db54ee.smt2', 'data/projs/timeout_9eaad8947e/base.z3/918eb629.smt2', 'data/projs/timeout_9eaad8947e/base.z3/a0450705.smt2', 'data/projs/timeout_9eaad8947e/base.z3/e15d75bb.smt2', 'data/projs/timeout_9eaad8947e/base.z3/e8794a44.smt2'], 'data/projs/atmosphere/base.z3/kernel__create_and_share_pages.5.smt2': ['data/projs/fast_fail_9a3bc13b2d/base.z3/75c14846.smt2'], 'data/projs/anvil/base.z3/zookeeper-smt-zookeeper_controller__proof__helper_invariants__proof__lemma_always_no_update_status_request_msg_in_flight_of_except_stateful_set.smt2': ['data/projs/timeout_a7f5536a00/base.z3/0297834c.smt2', 'data/projs/timeout_a7f5536a00/base.z3/02d50371.smt2', 'data/projs/timeout_a7f5536a00/base.z3/097506d9.smt2', 'data/projs/timeout_a7f5536a00/base.z3/12748b0b.smt2', 'data/projs/timeout_a7f5536a00/base.z3/27e4c4aa.smt2', 'data/projs/timeout_a7f5536a00/base.z3/325394f3.smt2', 'data/projs/timeout_a7f5536a00/base.z3/6c95f4f1.smt2', 'data/projs/timeout_a7f5536a00/base.z3/ba768df0.smt2', 'data/projs/timeout_a7f5536a00/base.z3/df4dace3.smt2'], 'data/projs/vsystemsnew/base.z3/verified-storage-smt-verified-storage-smt-storage-node-log__inv_v.12.smt2': ['data/projs/fast_fail_92c260e39d/base.z3/0bbd00e5.smt2'], 'data/projs/anvil/base.z3/zookeeper-smt-rabbitmq-smt-rabbitmq_controller__proof__helper_invariants__proof__lemma_eventually_always_every_resource_create_request_implies_at_after_create_resource_step.smt2': ['data/projs/timeout_634ab613c3/base.z3/1a0ec528.smt2', 'data/projs/timeout_634ab613c3/base.z3/282ec9a1.smt2', 'data/projs/timeout_634ab613c3/base.z3/df0f6d49.smt2'], 'data/projs/vsystemsnew/base.z3/verified-storage-smt-verified-storage-smt-storage-node-multilog__start_v.2.smt2': ['data/projs/fast_fail_e16c5e8c0b/base.z3/0bbd00e5.smt2'], 'data/projs/vsystemsnew/base.z3/verified-storage-smt-verified-storage-smt-storage-node-log__inv_v.10.smt2': ['data/projs/fast_fail_815f69b161/base.z3/0bbd00e5.smt2', 'data/projs/fast_fail_815f69b161/base.z3/4cdcaea2.smt2'], 'data/projs/vsystemsnew/base.z3/verified-storage-smt-verified-storage-smt-storage-node-log__inv_v.5.smt2': ['data/projs/fast_fail_e1d2573021/base.z3/0bbd00e5.smt2'], 'data/projs/anvil/base.z3/zookeeper-smt-rabbitmq-smt-rabbitmq_controller__proof__helper_invariants__validation__lemma_always_stateful_set_in_create_request_msg_satisfies_unchangeable.smt2': ['data/projs/timeout_48dbc6d4fa/base.z3/6e73b98f.smt2'], 'data/projs/vsystemsnew/base.z3/verified-storage-smt-verified-storage-smt-storage-node-multilog__inv_v.15.smt2': ['data/projs/fast_fail_89068d3f38/base.z3/0bbd00e5.smt2'], 'data/projs/vsystemsnew/base.z3/verified-storage-smt-verified-storage-smt-storage-node-multilog__inv_v.7.smt2': ['data/projs/fast_fail_ed912ce861/base.z3/0bbd00e5.smt2', 'data/projs/fast_fail_ed912ce861/base.z3/4cdcaea2.smt2'], 'data/projs/verismo.dedup/base.z3/snp__ghcb__proto_page.141.smt2': ['data/projs/timeout_c726bffe99/base.z3/1bc5bcd9.smt2', 'data/projs/timeout_c726bffe99/base.z3/245091d4.smt2', 'data/projs/timeout_c726bffe99/base.z3/29d912ab.smt2', 'data/projs/timeout_c726bffe99/base.z3/2d168feb.smt2', 'data/projs/timeout_c726bffe99/base.z3/4db5fd58.smt2', 'data/projs/timeout_c726bffe99/base.z3/6bd810a6.smt2', 'data/projs/timeout_c726bffe99/base.z3/8cb454fd.smt2', 'data/projs/timeout_c726bffe99/base.z3/94946418.smt2', 'data/projs/timeout_c726bffe99/base.z3/fc96888c.smt2', 'data/projs/timeout_c726bffe99/base.z3/fdbc75aa.smt2'], 'data/projs/verismo.dedup/base.z3/vbox__vbox.5.smt2': ['data/projs/timeout_fdfae1157a/base.z3/245091d4.smt2', 'data/projs/timeout_fdfae1157a/base.z3/4db5fd58.smt2', 'data/projs/timeout_fdfae1157a/base.z3/6f88729d.smt2', 'data/projs/timeout_fdfae1157a/base.z3/aceee0d5.smt2', 'data/projs/timeout_fdfae1157a/base.z3/fc96888c.smt2'], 'data/projs/vsystemsnew/base.z3/verified-storage-smt-verified-storage-smt-storage-node-multilog__setup_v.5.smt2': ['data/projs/fast_fail_5a940edd1b/base.z3/0bbd00e5.smt2'], 'data/projs/verismo.dedup/base.z3/bsp__ap.3.smt2': ['data/projs/timeout_0918f4a55d/base.z3/1bc5bcd9.smt2', 'data/projs/timeout_0918f4a55d/base.z3/690d03d3.smt2', 'data/projs/timeout_0918f4a55d/base.z3/debc4ad7.smt2'], 'data/projs/vsystemsnew/base.z3/verified-storage-smt-verified-storage-smt-storage-node-log__layout_v.30.smt2': ['data/projs/fast_fail_126f0f80f3/base.z3/0bbd00e5.smt2'], 'data/projs/anvil/base.z3/zookeeper-smt-rabbitmq-smt-rabbitmq_controller__proof__helper_invariants__proof__lemma_eventually_always_object_in_response_at_after_create_resource_step_is_same_as_etcd.smt2': ['data/projs/timeout_106770d98e/base.z3/1a0ec528.smt2'], 'data/projs/anvil/base.z3/zookeeper-smt-zookeeper_controller__proof__helper_invariants__validation.3.smt2': ['data/projs/timeout_4d2d4fbc20/base.z3/12748b0b.smt2', 'data/projs/timeout_4d2d4fbc20/base.z3/ba768df0.smt2', 'data/projs/timeout_4d2d4fbc20/base.z3/bea80d3f.smt2'], 'data/projs/vsystemsnew/base.z3/page-table-smt-impl_u__l2_refinement.3.smt2': ['data/projs/fast_fail_c4ec60f8f9/base.z3/f472d171.smt2'], 'data/projs/splinterdb/base.z3/allocation_layer__LikesBetree_v__LikesBetree.3.smt2': ['data/projs/fast_fail_09d24c83cd/base.z3/0cf5b7f7.smt2', 'data/projs/fast_fail_09d24c83cd/base.z3/294abf80.smt2', 'data/projs/fast_fail_09d24c83cd/base.z3/4aa1acb7.smt2', 'data/projs/fast_fail_09d24c83cd/base.z3/9689b33d.smt2', 'data/projs/fast_fail_09d24c83cd/base.z3/b64ee6ef.smt2', 'data/projs/fast_fail_09d24c83cd/base.z3/e0b5b7a3.smt2'], 'data/projs/vsystemsnew/base.z3/verified-storage-smt-verified-storage-smt-storage-node-multilog__setup_v.6.smt2': ['data/projs/fast_fail_568e167040/base.z3/0bbd00e5.smt2', 'data/projs/fast_fail_568e167040/base.z3/799880e0.smt2'], 'data/projs/anvil/base.z3/fluent-smt-fluent_controller__fluentbit__proof__liveness__resource_match__lemma_from_after_get_resource_step_to_after_update_resource_step.smt2': ['data/projs/timeout_0a3bc89db1/base.z3/0a29e9c0.smt2', 'data/projs/timeout_0a3bc89db1/base.z3/0d71f536.smt2'], 'data/projs/anvil/base.z3/fluent-smt-fluent_controller__fluentbit__proof__liveness__daemon_set_match__lemma_from_after_get_daemon_set_step_to_after_update_daemon_set_step.smt2': ['data/projs/timeout_7a3bd28b48/base.z3/979a8db3.smt2', 'data/projs/timeout_7a3bd28b48/base.z3/f2ff91d8.smt2'], 'data/projs/anvil/base.z3/zookeeper-smt-zookeeper_controller__proof__helper_invariants__proof__lemma_eventually_always_no_delete_resource_request_msg_in_flight.smt2': ['data/projs/timeout_b834736f4d/base.z3/27e4c4aa.smt2', 'data/projs/timeout_b834736f4d/base.z3/ba768df0.smt2'], 'data/projs/vsystemsnew/base.z3/verified-storage-smt-verified-storage-smt-storage-node-multilog__inv_v.17.smt2': ['data/projs/fast_fail_af029e0bc2/base.z3/0bbd00e5.smt2'], 'data/projs/splinterdb/base.z3/allocation_layer__LikesBetree_v.18.smt2': ['data/projs/fast_fail_2045867a58/base.z3/066b011a.smt2', 'data/projs/fast_fail_2045867a58/base.z3/4aa1acb7.smt2', 'data/projs/fast_fail_2045867a58/base.z3/c272c557.smt2'], 'data/projs/anvil/base.z3/zookeeper-smt-rabbitmq-smt-rabbitmq_controller__proof__liveness__stateful_set_match__lemma_from_after_get_stateful_set_step_to_after_update_stateful_set_step.smt2': ['data/projs/timeout_cf8c015bcb/base.z3/a7ebb0a1.smt2'], 'data/projs/vsystemsnew/base.z3/verified-storage-smt-verified-storage-smt-storage-node-multilog__inv_v.11.smt2': ['data/projs/fast_fail_b689a8d455/base.z3/0bbd00e5.smt2'], 'data/projs/anvil/base.z3/zookeeper-smt-zookeeper_controller__proof__helper_invariants__zookeeper_api__lemma_zk_request_implies_step_helper.smt2': ['data/projs/timeout_81b159a977/base.z3/097506d9.smt2', 'data/projs/timeout_81b159a977/base.z3/27e4c4aa.smt2', 'data/projs/timeout_81b159a977/base.z3/3815cfe1.smt2', 'data/projs/timeout_81b159a977/base.z3/6e79a7de.smt2', 'data/projs/timeout_81b159a977/base.z3/9c97b481.smt2', 'data/projs/timeout_81b159a977/base.z3/c235fd6b.smt2', 'data/projs/timeout_81b159a977/base.z3/df4dace3.smt2'], 'data/projs/anvil/base.z3/fluent-smt-fluent_controller__fluentbit_config__proof__liveness__resource_match.6.smt2': ['data/projs/timeout_2faba7bd1f/base.z3/ba768df0.smt2', 'data/projs/timeout_2faba7bd1f/base.z3/bd6a1960.smt2'], 'data/projs/vsystemsnew/base.z3/verified-storage-smt-verified-storage-smt-storage-node-log__inv_v.14.smt2': ['data/projs/fast_fail_3c5c22d4a1/base.z3/0bbd00e5.smt2'], 'data/projs/vsystemsnew/base.z3/verified-storage-smt-verified-storage-smt-storage-node-multilog__inv_v.13.smt2': ['data/projs/fast_fail_fa9020870d/base.z3/0bbd00e5.smt2'], 'data/projs/vsystemsnew/base.z3/verified-storage-smt-verified-storage-smt-storage-node-multilog__inv_v.16.smt2': ['data/projs/fast_fail_32eaf80bcc/base.z3/0bbd00e5.smt2'], 'data/projs/verismo.dedup/base.z3/security__monitor.21.smt2': ['data/projs/timeout_83bd54cd1a/base.z3/0e424555.smt2', 'data/projs/timeout_83bd54cd1a/base.z3/5a2618ab.smt2'], 'data/projs/vsystemsnew/base.z3/verified-storage-smt-verified-storage-smt-storage-node-log__inv_v.2.smt2': ['data/projs/fast_fail_492704d0da/base.z3/0bbd00e5.smt2'], 'data/projs/vsystemsnew/base.z3/mimalloc-smt-segment__segment_span_free_coalesce_before.smt2': ['data/projs/timeout_08719204aa/base.z3/dddb6361.smt2'], 'data/projs/anvil/base.z3/fluent-smt-fluent_controller__fluentbit_config__proof__liveness__resource_match__lemma_from_after_get_resource_step_to_after_create_resource_step.smt2': ['data/projs/timeout_68ac429152/base.z3/b30b6065.smt2']}\n",
      "{'data/projs/vsystemsnew/base.z3/mimalloc-smt-commit_segment.1.smt2': ['data/projs/doubleton2_8c0bbf67d0/base.z3/24d237d1.smt2'], 'data/projs/anvil/base.z3/zookeeper-smt-rabbitmq-smt-rabbitmq_controller__proof__liveness__resource_match__lemma_from_after_get_resource_step_to_after_update_resource_step.smt2': ['data/projs/doubleton2_65d90190b4/base.z3/9404bba6.smt2'], 'data/projs/verismo.dedup/base.z3/allocator__linkedlist.10.smt2': ['data/projs/doubleton2_6937ca47cd/base.z3/639bfc25.smt2', 'data/projs/doubleton2_6937ca47cd/base.z3/c0b21525.smt2', 'data/projs/doubleton2_6937ca47cd/base.z3/f330f0a4.smt2'], 'data/projs/anvil/base.z3/fluent-smt-fluent_controller__fluentbit__proof__helper_invariants__validation.3.smt2': ['data/projs/doubleton2_a1b4b3fd4a/base.z3/6b6149e5.smt2', 'data/projs/doubleton2_a1b4b3fd4a/base.z3/7dadd14c.smt2'], 'data/projs/verus.skolem/base.z3/d6181053ff.eb582753.smt2': ['data/projs/skolem_8b2546c986/base.z3/57536093.smt2'], 'data/projs/verus.skolem/base.z3/8d058577cd.5b7bbb21.smt2': ['data/projs/skolem_5d476c3ee5/base.z3/85625b38.smt2'], 'data/projs/verus.skolem/base.z3/d057fff3f5.28c9a89c.smt2': ['data/projs/skolem_b3949d9663/base.z3/352b26bb.smt2', 'data/projs/skolem_b3949d9663/base.z3/57536093.smt2']}\n"
     ]
    }
   ],
   "source": [
    "# for q in singleton_fixes:\n",
    "#     print(len(singleton_fixes[q]))\n",
    "print(singleton_fixes)\n",
    "print(doubleton_fixes)\n",
    "# for q in doubleton_fixes:\n",
    "#     print(len(doubleton_fixes[q]))"
   ]
  },
  {
   "cell_type": "code",
   "execution_count": null,
   "metadata": {},
   "outputs": [],
   "source": []
  }
 ],
 "metadata": {
  "kernelspec": {
   "display_name": "Python 3",
   "language": "python",
   "name": "python3"
  },
  "language_info": {
   "codemirror_mode": {
    "name": "ipython",
    "version": 3
   },
   "file_extension": ".py",
   "mimetype": "text/x-python",
   "name": "python",
   "nbconvert_exporter": "python",
   "pygments_lexer": "ipython3",
   "version": "3.8.10"
  }
 },
 "nbformat": 4,
 "nbformat_minor": 2
}
