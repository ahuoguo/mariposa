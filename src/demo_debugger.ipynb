{
 "cells": [
  {
   "cell_type": "code",
   "execution_count": 1,
   "metadata": {},
   "outputs": [],
   "source": [
    "import os\n",
    "\n",
    "os.chdir(\"/home/yizhou7/mariposa\")\n",
    "\n",
    "from debugger.demo_utils import *\n",
    "from pandas import DataFrame \n",
    "from debugger3 import Debugger3\n"
   ]
  },
  {
   "cell_type": "code",
   "execution_count": 14,
   "metadata": {},
   "outputs": [
    {
     "name": "stdout",
     "output_type": "stream",
     "text": [
      "\u001b[92m[INFO] [init] query path: data/projs/anvil/base.z3/zookeeper-smt-rabbitmq-smt-rabbitmq_controller__proof__liveness__stateful_set_match__lemma_stateful_set_state_matches_at_after_update_stateful_set_step.smt2 \u001b[0m\n",
      "\u001b[92m[INFO] [init] dbg root: dbg/eccd7ce2d9 \u001b[0m\n"
     ]
    }
   ],
   "source": [
    "# query = \"data/projs/anvil/base.z3/zookeeper-smt-rabbitmq-smt-rabbitmq_controller__proof__liveness__resource_match.1.smt2\"\n",
    "query = \"data/projs/anvil/base.z3/zookeeper-smt-rabbitmq-smt-rabbitmq_controller__proof__liveness__stateful_set_match__lemma_stateful_set_state_matches_at_after_update_stateful_set_step.smt2\"\n",
    "dbg = Debugger3(query)"
   ]
  },
  {
   "cell_type": "code",
   "execution_count": 15,
   "metadata": {},
   "outputs": [
    {
     "name": "stderr",
     "output_type": "stream",
     "text": [
      "\u001b[94m[DEBUG] [edit] proof path: dbg/eccd7ce2d9/proofs/reseed.5064846399809973974.proof \u001b[0m\n",
      "\u001b[94m[DEBUG] [edit] trace path: dbg/eccd7ce2d9/traces/rename.7278557073235958777 \u001b[0m\n",
      "\u001b[94m[DEBUG] [term graph] 85711 nodes, 187384 edges, root @[h!12d087ca] \u001b[0m\n",
      "\u001b[94m[DEBUG] 115 nodes are unreachable! \u001b[0m\n",
      "\u001b[94m[DEBUG] [proof graph] graph is not connected, reachable: 37310, total: 37347 \u001b[0m\n",
      "\u001b[94m[DEBUG] [proof graph] 37347 nodes, 61076 edges, root @[h!12d087ca] \u001b[0m\n"
     ]
    },
    {
     "name": "stdout",
     "output_type": "stream",
     "text": [
      "\u001b[93m[WARN] [differ] qid unknown_639 not found in dbg/eccd7ce2d9/orig.smt2 \u001b[0m\n",
      "\u001b[93m[WARN] [differ] qid unknown_699 not found in dbg/eccd7ce2d9/orig.smt2 \u001b[0m\n",
      "\u001b[93m[WARN] [differ] qid unknown_688 not found in dbg/eccd7ce2d9/orig.smt2 \u001b[0m\n",
      "\u001b[93m[WARN] [differ] qid unknown_326 not found in dbg/eccd7ce2d9/orig.smt2 \u001b[0m\n",
      "\u001b[93m[WARN] [differ] qid unknown_750 not found in dbg/eccd7ce2d9/orig.smt2 \u001b[0m\n",
      "\u001b[93m[WARN] [differ] qid unknown_443 not found in dbg/eccd7ce2d9/orig.smt2 \u001b[0m\n",
      "\u001b[93m[WARN] [differ] qid unknown_200 not found in dbg/eccd7ce2d9/orig.smt2 \u001b[0m\n",
      "\u001b[93m[WARN] [differ] qid unknown_564 not found in dbg/eccd7ce2d9/orig.smt2 \u001b[0m\n",
      "\u001b[93m[WARN] [differ] qid constructor_accessor_axiom not found in dbg/eccd7ce2d9/orig.smt2 \u001b[0m\n",
      "\u001b[93m[WARN] [differ] qid <null> not found in dbg/eccd7ce2d9/orig.smt2 \u001b[0m\n",
      "dbg/eccd7ce2d9/traces/rename.7278557073235958777\n",
      "----------------------------------------------------------------------------------------------------------------  -----  -----------------------------------------------------\n",
      "internal_rabbitmq_controller!rabbitmq_controller.model.resource.stateful_set.make_rabbitmq_pod_spec.?_definition  erase  data/projs/singleton_eccd7ce2d9/base.z3/2c1e299d.smt2\n",
      "----------------------------------------------------------------------------------------------------------------  -----  -----------------------------------------------------\n"
     ]
    }
   ],
   "source": [
    "ba, fa = get_singleton_status(dbg)\n",
    "tested, untested = check_tested(dbg, ba)\n",
    "insts = dbg.editor.get_report()\n",
    "\n",
    "table = []\n",
    "for (qname, action), info in tested.items():\n",
    "    _, tc, pc = insts[qname]\n",
    "    info = [qname, action] + info + [tc, pc]\n",
    "    table.append(info)\n",
    "\n",
    "tested = DataFrame(table, columns=[\"qname\", \"action\", \"rcode\", \"time\", \"path\", \"tcount\", \"pcount\"], index=None)\n",
    "# untested = DataFrame(untested)\n",
    "tested[\"time\"] = tested[\"time\"].apply(lambda x: round(x/1000, 1))\n",
    "tested.to_csv(\"tested.csv\", index=False)\n",
    "\n",
    "stabilized = check_stabilized(dbg, fa)\n",
    "print(tabulate(stabilized))\n"
   ]
  },
  {
   "cell_type": "code",
   "execution_count": null,
   "metadata": {},
   "outputs": [],
   "source": []
  }
 ],
 "metadata": {
  "kernelspec": {
   "display_name": "Python 3",
   "language": "python",
   "name": "python3"
  },
  "language_info": {
   "codemirror_mode": {
    "name": "ipython",
    "version": 3
   },
   "file_extension": ".py",
   "mimetype": "text/x-python",
   "name": "python",
   "nbconvert_exporter": "python",
   "pygments_lexer": "ipython3",
   "version": "3.8.10"
  }
 },
 "nbformat": 4,
 "nbformat_minor": 2
}
