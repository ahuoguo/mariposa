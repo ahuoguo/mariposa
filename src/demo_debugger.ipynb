{
 "cells": [
  {
   "cell_type": "code",
   "execution_count": 1,
   "metadata": {},
   "outputs": [],
   "source": [
    "import os\n",
    "\n",
    "os.chdir(\"/home/yizhou7/mariposa\")\n",
    "\n",
    "from debugger.demo_utils import *\n",
    "from pandas import DataFrame \n",
    "from debugger3 import Debugger3\n"
   ]
  },
  {
   "cell_type": "code",
   "execution_count": null,
   "metadata": {},
   "outputs": [],
   "source": [
    "filter_available = dict()\n",
    "\n",
    "for q in UNSTABLE_MARIPOSA:\n",
    "    dbg = Debugger3(q)\n",
    "    fa = get_filtered_status(dbg)\n",
    "    if isinstance(fa, str):\n",
    "        continue\n",
    "    filter_available[q] = (dbg, fa)\n"
   ]
  },
  {
   "cell_type": "code",
   "execution_count": 3,
   "metadata": {},
   "outputs": [],
   "source": [
    "current = []\n",
    "for query, (dbg, fa) in filter_available.items():\n",
    "    dbg: Debugger3\n",
    "    stabilized = check_stabilized(dbg, fa)\n",
    "    current.append(len(stabilized))"
   ]
  },
  {
   "cell_type": "code",
   "execution_count": 4,
   "metadata": {},
   "outputs": [
    {
     "name": "stdout",
     "output_type": "stream",
     "text": [
      "53.0 33.11327688669515 97 113\n"
     ]
    }
   ],
   "source": [
    "import numpy as np\n",
    "current = np.array(current)\n",
    "worked = np.where(current > 0)[0]\n",
    "print(np.median(worked), worked.std(), len(worked), len(current))"
   ]
  },
  {
   "cell_type": "code",
   "execution_count": null,
   "metadata": {},
   "outputs": [],
   "source": []
  }
 ],
 "metadata": {
  "kernelspec": {
   "display_name": "Python 3",
   "language": "python",
   "name": "python3"
  },
  "language_info": {
   "codemirror_mode": {
    "name": "ipython",
    "version": 3
   },
   "file_extension": ".py",
   "mimetype": "text/x-python",
   "name": "python",
   "nbconvert_exporter": "python",
   "pygments_lexer": "ipython3",
   "version": "3.8.10"
  }
 },
 "nbformat": 4,
 "nbformat_minor": 2
}
