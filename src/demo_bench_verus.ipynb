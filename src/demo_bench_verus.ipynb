{
 "cells": [
  {
   "cell_type": "code",
   "execution_count": null,
   "metadata": {},
   "outputs": [],
   "source": [
    "import sys, os\n",
    "\n",
    "MARIPOSA_PATH = \"/home/yizhou7/mariposa/\"\n",
    "\n",
    "sys.path.append(MARIPOSA_PATH + \"src\")\n",
    "os.chdir(MARIPOSA_PATH)\n",
    "\n",
    "from debugger.debugger import DbgMode\n",
    "from debugger.bench_viewer import BenchViewer\n",
    "from debugger.strainer import StrainerStatus\n",
    "from benchmark_consts import *"
   ]
  },
  {
   "cell_type": "code",
   "execution_count": 2,
   "metadata": {},
   "outputs": [
    {
     "name": "stdout",
     "output_type": "stream",
     "text": [
      "\u001b[93m[WARN] [init] previous debugging attempt has failed, run with --retry-failed if needed! \u001b[0m\n"
     ]
    },
    {
     "name": "stdout",
     "output_type": "stream",
     "text": [
      "\u001b[93m[WARN] [init] previous debugging attempt has failed, run with --retry-failed if needed! \u001b[0m\n",
      "\u001b[93m[WARN] [proof] no proofs available \u001b[0m\n",
      "\u001b[93m[WARN] [proof] no proofs available \u001b[0m\n",
      "\u001b[93m[WARN] [init] 8d058577cd trace slow unknown, fallback to timeout \u001b[0m\n",
      "\u001b[92m[INFO] filtered by mode: DbgMode.TIMEOUT 40 \u001b[0m\n"
     ]
    }
   ],
   "source": [
    "# qs = UNSTABLE_MARIPOSA\n",
    "qs = UNSTABLE_VERUS\n",
    "mv = BenchViewer(qs, DbgMode.AUTO, DbgMode.TIMEOUT)"
   ]
  },
  {
   "cell_type": "code",
   "execution_count": 5,
   "metadata": {},
   "outputs": [
    {
     "name": "stdout",
     "output_type": "stream",
     "text": [
      "| category                   |   count | percentage   |\n",
      "|----------------------------|---------|--------------|\n",
      "| StrainerStatus.NOT_TESTED  |      35 | 87.5 %       |\n",
      "| StrainerStatus.NOT_CREATED |       3 | 7.5 %        |\n",
      "| StrainerStatus.NO_PROOF    |       1 | 2.5 %        |\n",
      "| StrainerStatus.FINISHED    |       1 | 2.5 %        |\n",
      "| total                      |      40 | 100.00 %     |\n"
     ]
    }
   ],
   "source": [
    "mv.status.print_status()"
   ]
  },
  {
   "cell_type": "code",
   "execution_count": null,
   "metadata": {},
   "outputs": [],
   "source": [
    "for q in mv.status[StrainerStatus.NO_PROOF]:\n",
    "    print(q)"
   ]
  },
  {
   "cell_type": "code",
   "execution_count": 8,
   "metadata": {},
   "outputs": [
    {
     "name": "stdout",
     "output_type": "stream",
     "text": [
      "./src/debugger3.py -m timeout -i 621abdd996 --create-project\n",
      "./src/debugger3.py -m timeout -i eccd7ce2d9 --create-project\n",
      "./src/debugger3.py -m timeout -i 47ae6b0135 --create-project\n",
      "./src/debugger3.py -m timeout -i d057fff3f5 --create-project\n"
     ]
    }
   ],
   "source": [
    "for q in mv.status[StrainerStatus.NOT_CREATED]:\n",
    "    print(\"./src/debugger3.py -m timeout -i\", mv[q].name_hash, \"--create-project\")"
   ]
  },
  {
   "cell_type": "code",
   "execution_count": 4,
   "metadata": {},
   "outputs": [
    {
     "name": "stdout",
     "output_type": "stream",
     "text": [
      "./src/make_spaghet.py --is-verus -i data/projs/timeout_9eaad8947e/base.z3\n",
      "./src/make_spaghet.py --is-verus -i data/projs/timeout_fdfae1157a/base.z3\n",
      "./src/make_spaghet.py --is-verus -i data/projs/timeout_4d2d4fbc20/base.z3\n",
      "./src/make_spaghet.py --is-verus -i data/projs/timeout_f08610121f/base.z3\n",
      "./src/make_spaghet.py --is-verus -i data/projs/timeout_634ab613c3/base.z3\n",
      "./src/make_spaghet.py --is-verus -i data/projs/timeout_7a3bd28b48/base.z3\n",
      "./src/make_spaghet.py --is-verus -i data/projs/timeout_fa2fdaf6e0/base.z3\n",
      "./src/make_spaghet.py --is-verus -i data/projs/timeout_fef99080cd/base.z3\n",
      "./src/make_spaghet.py --is-verus -i data/projs/timeout_48dbc6d4fa/base.z3\n",
      "./src/make_spaghet.py --is-verus -i data/projs/timeout_b119384805/base.z3\n",
      "./src/make_spaghet.py --is-verus -i data/projs/timeout_c726bffe99/base.z3\n",
      "./src/make_spaghet.py --is-verus -i data/projs/timeout_65d90190b4/base.z3\n",
      "./src/make_spaghet.py --is-verus -i data/projs/timeout_66c9bdf69f/base.z3\n",
      "./src/make_spaghet.py --is-verus -i data/projs/timeout_55b4af82a4/base.z3\n",
      "./src/make_spaghet.py --is-verus -i data/projs/timeout_82449bd2e8/base.z3\n",
      "./src/make_spaghet.py --is-verus -i data/projs/timeout_199ba4594c/base.z3\n",
      "./src/make_spaghet.py --is-verus -i data/projs/timeout_68ac429152/base.z3\n",
      "./src/make_spaghet.py --is-verus -i data/projs/timeout_6937ca47cd/base.z3\n",
      "./src/make_spaghet.py --is-verus -i data/projs/timeout_a7f5536a00/base.z3\n",
      "./src/make_spaghet.py --is-verus -i data/projs/timeout_8d058577cd/base.z3\n",
      "./src/make_spaghet.py --is-verus -i data/projs/timeout_8c0bbf67d0/base.z3\n",
      "./src/make_spaghet.py --is-verus -i data/projs/timeout_a1b4b3fd4a/base.z3\n",
      "./src/make_spaghet.py --is-verus -i data/projs/timeout_83bd54cd1a/base.z3\n",
      "./src/make_spaghet.py --is-verus -i data/projs/timeout_6540edb885/base.z3\n",
      "./src/make_spaghet.py --is-verus -i data/projs/timeout_106770d98e/base.z3\n",
      "./src/make_spaghet.py --is-verus -i data/projs/timeout_81b159a977/base.z3\n",
      "./src/make_spaghet.py --is-verus -i data/projs/timeout_08719204aa/base.z3\n",
      "./src/make_spaghet.py --is-verus -i data/projs/timeout_2faba7bd1f/base.z3\n",
      "./src/make_spaghet.py --is-verus -i data/projs/timeout_cf8c015bcb/base.z3\n",
      "./src/make_spaghet.py --is-verus -i data/projs/timeout_b834736f4d/base.z3\n",
      "./src/make_spaghet.py --is-verus -i data/projs/timeout_aad03b9358/base.z3\n",
      "./src/make_spaghet.py --is-verus -i data/projs/timeout_b475a457a9/base.z3\n",
      "./src/make_spaghet.py --is-verus -i data/projs/timeout_0918f4a55d/base.z3\n",
      "./src/make_spaghet.py --is-verus -i data/projs/timeout_93004876e4/base.z3\n",
      "./src/make_spaghet.py --is-verus -i data/projs/timeout_0a3bc89db1/base.z3\n"
     ]
    }
   ],
   "source": [
    "from utils.system_utils import list_smt2_files\n",
    "\n",
    "for q in mv.status[StrainerStatus.NOT_TESTED]:\n",
    "    # for q in mv.status[DebuggerStatus.FILTERED_NOT_RAN]:\n",
    "    assert len(list_smt2_files(mv[q].strainer.test_dir)) != 0\n",
    "    print(\"./src/make_spaghet.py --is-verus -i\", mv[q].strainer.test_dir)"
   ]
  },
  {
   "cell_type": "code",
   "execution_count": null,
   "metadata": {},
   "outputs": [
    {
     "name": "stdout",
     "output_type": "stream",
     "text": [
      "0.7064220183486238\n"
     ]
    }
   ],
   "source": [
    "print(len(mv.fixable) / len(UNSTABLE_MARIPOSA))"
   ]
  }
 ],
 "metadata": {
  "kernelspec": {
   "display_name": "Python 3",
   "language": "python",
   "name": "python3"
  },
  "language_info": {
   "codemirror_mode": {
    "name": "ipython",
    "version": 3
   },
   "file_extension": ".py",
   "mimetype": "text/x-python",
   "name": "python",
   "nbconvert_exporter": "python",
   "pygments_lexer": "ipython3",
   "version": "3.8.10"
  }
 },
 "nbformat": 4,
 "nbformat_minor": 2
}
