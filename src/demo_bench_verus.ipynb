{
 "cells": [
  {
   "cell_type": "code",
   "execution_count": 11,
   "metadata": {},
   "outputs": [],
   "source": [
    "import sys, os\n",
    "\n",
    "MARIPOSA_PATH = \"/home/yizhou7/mariposa/\"\n",
    "\n",
    "sys.path.append(MARIPOSA_PATH + \"src\")\n",
    "os.chdir(MARIPOSA_PATH)\n",
    "\n",
    "from debugger.debugger import DbgMode\n",
    "from debugger.bench_viewer import BenchViewer\n",
    "from debugger.debugger_options import DebugOptions\n",
    "from debugger.strainer import StrainerStatus\n",
    "from benchmark_consts import *"
   ]
  },
  {
   "cell_type": "code",
   "execution_count": 12,
   "metadata": {},
   "outputs": [
    {
     "name": "stdout",
     "output_type": "stream",
     "text": [
      "\u001b[93m[WARN] [init] previous debugging attempt has failed, run with --retry-failed if needed! \u001b[0m\u001b[93m[WARN] [init] previous debugging attempt has failed, run with --retry-failed if needed! \u001b[0m\n",
      "\n",
      "\u001b[93m[WARN] [proof] no proofs available \u001b[0m\n",
      "\u001b[93m[WARN] [proof] no proofs available \u001b[0m\n",
      "\u001b[93m[WARN] [init] previous debugging attempt has failed, run with --retry-failed if needed! \u001b[0m\n",
      "\u001b[93m[WARN] [proof] no proofs available \u001b[0m\n",
      "\u001b[93m[WARN] [init] 8d058577cd trace slow unknown, fallback to timeout \u001b[0m\n"
     ]
    },
    {
     "name": "stderr",
     "output_type": "stream",
     "text": [
      "\u001b[94m[DEBUG] [edit] proof path: dbg/aad03b9358/proofs/reseed.3470960531457555157.proof \u001b[0m\u001b[94m[DEBUG] [edit] proof path: dbg/65d90190b4/proofs/rename.10906674507986506692.proof \u001b[0m\n",
      "\u001b[94m[DEBUG] [edit] proof path: dbg/090a2a7d67/proofs/reseed.7014106981689618503.proof \u001b[0m\n",
      "\u001b[94m[DEBUG] [edit] proof path: dbg/199ba4594c/proofs/reseed.3199813507728074554.proof \u001b[0m\u001b[94m[DEBUG] [edit] trace path: dbg/aad03b9358/traces/reseed.14685607622128194302 \u001b[0m\u001b[94m[DEBUG] [edit] trace path: dbg/65d90190b4/traces/reseed.13107811493817202244 \u001b[0m\n",
      "\n",
      "\n",
      "\n",
      "\u001b[94m[DEBUG] [edit] trace path: dbg/090a2a7d67/traces/shuffle.10445631812693282071 \u001b[0m\u001b[94m[DEBUG] [edit] trace path: dbg/199ba4594c/traces/reseed.6506362136541185908 \u001b[0m"
     ]
    },
    {
     "name": "stdout",
     "output_type": "stream",
     "text": [
      "af984c1f59de349ab18714216a803c19.pickle"
     ]
    },
    {
     "name": "stderr",
     "output_type": "stream",
     "text": [
      "\n"
     ]
    },
    {
     "name": "stdout",
     "output_type": "stream",
     "text": [
      "bd829a77d9e8379fdb2f1c676c5dbcff.pickle"
     ]
    },
    {
     "name": "stderr",
     "output_type": "stream",
     "text": [
      "\n"
     ]
    },
    {
     "name": "stdout",
     "output_type": "stream",
     "text": [
      "\n",
      "\n",
      "41884a1c910ece84f3f54ae2e3ed76a2.pickle5a5a06858d52f257194bd692dc8e8a4b.pickle\n",
      "\n"
     ]
    },
    {
     "name": "stderr",
     "output_type": "stream",
     "text": [
      "\u001b[94m[DEBUG] [edit] proof path: dbg/93004876e4/proofs/reseed.2280866902240984510.proof \u001b[0m\n",
      "\u001b[94m[DEBUG] [edit] trace path: dbg/93004876e4/traces/reseed.1837398607084254552 \u001b[0m\n",
      "\u001b[94m[DEBUG] [edit] proof path: dbg/f6f3f962c0/proofs/shuffle.13526046991560484318.proof \u001b[0m"
     ]
    },
    {
     "name": "stdout",
     "output_type": "stream",
     "text": [
      "9b0a3113686344cfc9083ad34e7af076.pickle"
     ]
    },
    {
     "name": "stderr",
     "output_type": "stream",
     "text": [
      "\n",
      "\u001b[94m[DEBUG] [edit] trace path: dbg/f6f3f962c0/traces/shuffle.5345052648385214803 \u001b[0m"
     ]
    },
    {
     "name": "stdout",
     "output_type": "stream",
     "text": [
      "\n"
     ]
    },
    {
     "name": "stderr",
     "output_type": "stream",
     "text": [
      "\n"
     ]
    },
    {
     "name": "stdout",
     "output_type": "stream",
     "text": [
      "c4c1f6d166ad5b106554b653f12ed9c4.pickle\n"
     ]
    },
    {
     "name": "stderr",
     "output_type": "stream",
     "text": [
      "\u001b[94m[DEBUG] [edit] proof path: dbg/8d058577cd/proofs/rename.9999379753263398590.proof \u001b[0m\n",
      "\u001b[94m[DEBUG] [edit] trace path: dbg/8d058577cd/traces/shuffle.16031162538414592248 \u001b[0m\n"
     ]
    },
    {
     "name": "stdout",
     "output_type": "stream",
     "text": [
      "e471625220affba6fc9c32b2df8243dd.pickle\n"
     ]
    },
    {
     "name": "stderr",
     "output_type": "stream",
     "text": [
      "\u001b[94m[DEBUG] [edit] proof path: dbg/621abdd996/proofs/reseed.8414757691389669604.proof \u001b[0m\n",
      "\u001b[94m[DEBUG] [edit] trace path: dbg/621abdd996/traces/reseed.1522886428156592486 \u001b[0m\n"
     ]
    },
    {
     "name": "stdout",
     "output_type": "stream",
     "text": [
      "a54f17326f923e868d7de4370f157df9.pickle\n",
      "\u001b[93m[WARN] [differ] qid constructor_accessor_axiom not found in dbg/f6f3f962c0/orig.smt2 \u001b[0m\n"
     ]
    },
    {
     "name": "stderr",
     "output_type": "stream",
     "text": [
      "\u001b[94m[DEBUG] saving cache at f6f3f962c0.ff.report \u001b[0m\n",
      "\u001b[94m[DEBUG] [edit] proof path: dbg/66c9bdf69f/proofs/shuffle.11828432509569748923.proof \u001b[0m\n",
      "\u001b[94m[DEBUG] [edit] trace path: dbg/66c9bdf69f/traces/reseed.13957856434642412621 \u001b[0m\n"
     ]
    },
    {
     "name": "stdout",
     "output_type": "stream",
     "text": [
      "7aeb6275a404201c1598bb900c2f182a.pickle\n",
      "\u001b[93m[WARN] [differ] qid constructor_accessor_axiom not found in dbg/090a2a7d67/orig.smt2 \u001b[0m\n",
      "\u001b[93m[WARN] [differ] qid <null> not found in dbg/090a2a7d67/orig.smt2 \u001b[0m\n",
      "\u001b[93m[WARN] [edit] 090a2a7d67 37ea96f3 not found \u001b[0m\n",
      "\u001b[93m[WARN] [edit] 090a2a7d67 6234b668 not found \u001b[0m\n",
      "\u001b[93m[WARN] [edit] 090a2a7d67 7e1bcc27 not found \u001b[0m\n",
      "\u001b[93m[WARN] [edit] 090a2a7d67 c859c230 not found \u001b[0m\n",
      "\u001b[93m[WARN] [edit] 090a2a7d67 de210ff5 not found \u001b[0m\n"
     ]
    },
    {
     "name": "stderr",
     "output_type": "stream",
     "text": [
      "\u001b[94m[DEBUG] saving cache at 090a2a7d67.ff.report \u001b[0m\n",
      "\u001b[94m[DEBUG] [edit] proof path: dbg/8c0bbf67d0/proofs/rename.9021218465525474810.proof \u001b[0m\n",
      "\u001b[94m[DEBUG] [edit] trace path: dbg/8c0bbf67d0/traces/reseed.2926928540658751903 \u001b[0m\n"
     ]
    },
    {
     "name": "stdout",
     "output_type": "stream",
     "text": [
      "6437b1ebdab0b25eef3f848c1cb05aeb.pickle\n",
      "\u001b[93m[WARN] [differ] qid unknown_4322 not found in dbg/8d058577cd/orig.smt2 \u001b[0m\n",
      "\u001b[93m[WARN] [differ] qid unknown_4330 not found in dbg/8d058577cd/orig.smt2 \u001b[0m\n",
      "\u001b[93m[WARN] [differ] qid unknown_188 not found in dbg/aad03b9358/orig.smt2 \u001b[0m\n",
      "\u001b[93m[WARN] [differ] qid unknown_547 not found in dbg/aad03b9358/orig.smt2 \u001b[0m\n",
      "\u001b[93m[WARN] [differ] qid unknown_514 not found in dbg/aad03b9358/orig.smt2 \u001b[0m\n",
      "\u001b[93m[WARN] [differ] qid unknown_533 not found in dbg/aad03b9358/orig.smt2 \u001b[0m\n",
      "\u001b[93m[WARN] [differ] qid unknown_542 not found in dbg/aad03b9358/orig.smt2 \u001b[0m\n",
      "\u001b[93m[WARN] [differ] qid constructor_accessor_axiom not found in dbg/8c0bbf67d0/orig.smt2 \u001b[0m\n"
     ]
    },
    {
     "name": "stderr",
     "output_type": "stream",
     "text": [
      "\u001b[94m[DEBUG] saving cache at 8c0bbf67d0.to.report \u001b[0m\n",
      "\u001b[94m[DEBUG] [edit] proof path: dbg/fa2fdaf6e0/proofs/reseed.9457796464287592495.proof \u001b[0m\n",
      "\u001b[94m[DEBUG] [edit] trace path: dbg/fa2fdaf6e0/traces/reseed.978582254624960590 \u001b[0m\n"
     ]
    },
    {
     "name": "stdout",
     "output_type": "stream",
     "text": [
      "80f24d861e72aa17b634916edccd3549.pickle\n",
      "\u001b[93m[WARN] [differ] qid unknown_174 not found in dbg/199ba4594c/orig.smt2 \u001b[0m\n",
      "\u001b[93m[WARN] [differ] qid unknown_253 not found in dbg/199ba4594c/orig.smt2 \u001b[0m\n",
      "\u001b[93m[WARN] [differ] qid unknown_236 not found in dbg/199ba4594c/orig.smt2 \u001b[0m\n",
      "\u001b[93m[WARN] [differ] qid unknown_267 not found in dbg/199ba4594c/orig.smt2 \u001b[0m\n",
      "\u001b[93m[WARN] [differ] qid unknown_209 not found in dbg/199ba4594c/orig.smt2 \u001b[0m\n",
      "\u001b[93m[WARN] [differ] qid constructor_accessor_axiom not found in dbg/8d058577cd/orig.smt2 \u001b[0m\n",
      "\u001b[93m[WARN] [differ] qid <null> not found in dbg/8d058577cd/orig.smt2 \u001b[0m\n"
     ]
    },
    {
     "name": "stderr",
     "output_type": "stream",
     "text": [
      "\u001b[94m[DEBUG] saving cache at 8d058577cd.to.report \u001b[0m\n",
      "\u001b[94m[DEBUG] [edit] proof path: dbg/be920877ca/proofs/shuffle.9555299481395785809.proof \u001b[0m\n",
      "\u001b[94m[DEBUG] [edit] trace path: dbg/be920877ca/traces/shuffle.14575692651422062579 \u001b[0m\n"
     ]
    },
    {
     "name": "stdout",
     "output_type": "stream",
     "text": [
      "7f3387739f00544be2dda14c996725b3.pickle\n",
      "\u001b[93m[WARN] [differ] qid unknown_515 not found in dbg/66c9bdf69f/orig.smt2 \u001b[0m\n",
      "\u001b[93m[WARN] [differ] qid unknown_377 not found in dbg/66c9bdf69f/orig.smt2 \u001b[0m\n",
      "\u001b[93m[WARN] [differ] qid unknown_783 not found in dbg/66c9bdf69f/orig.smt2 \u001b[0m\n",
      "\u001b[93m[WARN] [differ] qid unknown_585 not found in dbg/66c9bdf69f/orig.smt2 \u001b[0m\n",
      "\u001b[93m[WARN] [differ] qid unknown_600 not found in dbg/66c9bdf69f/orig.smt2 \u001b[0m\n",
      "\u001b[93m[WARN] [differ] qid unknown_627 not found in dbg/66c9bdf69f/orig.smt2 \u001b[0m\n",
      "\u001b[93m[WARN] [differ] qid unknown_614 not found in dbg/66c9bdf69f/orig.smt2 \u001b[0m\n",
      "\u001b[93m[WARN] [differ] qid unknown_306 not found in dbg/66c9bdf69f/orig.smt2 \u001b[0m\n",
      "\u001b[93m[WARN] [differ] qid unknown_632 not found in dbg/621abdd996/orig.smt2 \u001b[0m\n",
      "\u001b[93m[WARN] [differ] qid unknown_622 not found in dbg/621abdd996/orig.smt2 \u001b[0m\n",
      "\u001b[93m[WARN] [differ] qid unknown_609 not found in dbg/621abdd996/orig.smt2 \u001b[0m\n",
      "\u001b[93m[WARN] [differ] qid unknown_419 not found in dbg/621abdd996/orig.smt2 \u001b[0m\n",
      "\u001b[93m[WARN] [differ] qid unknown_769 not found in dbg/621abdd996/orig.smt2 \u001b[0m\n",
      "\u001b[93m[WARN] [differ] qid unknown_931 not found in dbg/621abdd996/orig.smt2 \u001b[0m\n",
      "\u001b[93m[WARN] [differ] qid constructor_accessor_axiom not found in dbg/be920877ca/orig.smt2 \u001b[0m\n",
      "\u001b[93m[WARN] [edit] be920877ca 7e1bcc27 not found \u001b[0m\n"
     ]
    },
    {
     "name": "stderr",
     "output_type": "stream",
     "text": [
      "\u001b[94m[DEBUG] saving cache at be920877ca.ff.report \u001b[0m\n",
      "\u001b[94m[DEBUG] [edit] proof path: dbg/7d8c4302ab/proofs/reseed.9908923975124208297.proof \u001b[0m\n",
      "\u001b[94m[DEBUG] [edit] trace path: dbg/7d8c4302ab/traces/shuffle.15513482486857776214 \u001b[0m\n"
     ]
    },
    {
     "name": "stdout",
     "output_type": "stream",
     "text": [
      "cce3dd987c131a5c430a27e224e9fdf1.pickle\n",
      "\u001b[93m[WARN] [differ] qid constructor_accessor_axiom not found in dbg/7d8c4302ab/orig.smt2 \u001b[0m\n",
      "\u001b[93m[WARN] [edit] 7d8c4302ab 7e1bcc27 not found \u001b[0m\n"
     ]
    },
    {
     "name": "stderr",
     "output_type": "stream",
     "text": [
      "\u001b[94m[DEBUG] saving cache at 7d8c4302ab.ff.report \u001b[0m\n",
      "\u001b[94m[DEBUG] [term graph] 55108 nodes, 126413 edges, root @[h!b68f861be22a1bf1] \u001b[0m\n",
      "\u001b[94m[DEBUG] 0 nodes are unreachable! \u001b[0m\n"
     ]
    },
    {
     "name": "stdout",
     "output_type": "stream",
     "text": [
      "\u001b[93m[WARN] [differ] qid constructor_accessor_axiom not found in dbg/aad03b9358/orig.smt2 \u001b[0m\n",
      "\u001b[93m[WARN] [differ] qid <null> not found in dbg/aad03b9358/orig.smt2 \u001b[0m\n"
     ]
    },
    {
     "name": "stderr",
     "output_type": "stream",
     "text": [
      "\u001b[94m[DEBUG] saving cache at aad03b9358.to.report \u001b[0m\n"
     ]
    },
    {
     "name": "stdout",
     "output_type": "stream",
     "text": [
      "\u001b[93m[WARN] [differ] qid constructor_accessor_axiom not found in dbg/199ba4594c/orig.smt2 \u001b[0m\n",
      "\u001b[93m[WARN] [differ] qid <null> not found in dbg/199ba4594c/orig.smt2 \u001b[0m\n"
     ]
    },
    {
     "name": "stderr",
     "output_type": "stream",
     "text": [
      "\u001b[94m[DEBUG] saving cache at 199ba4594c.to.report \u001b[0m\n"
     ]
    },
    {
     "name": "stdout",
     "output_type": "stream",
     "text": [
      "\u001b[93m[WARN] [differ] qid constructor_accessor_axiom not found in dbg/66c9bdf69f/orig.smt2 \u001b[0m\n",
      "\u001b[93m[WARN] [differ] qid <null> not found in dbg/66c9bdf69f/orig.smt2 \u001b[0m\n"
     ]
    },
    {
     "name": "stderr",
     "output_type": "stream",
     "text": [
      "\u001b[94m[DEBUG] saving cache at 66c9bdf69f.to.report \u001b[0m\n"
     ]
    },
    {
     "name": "stdout",
     "output_type": "stream",
     "text": [
      "\u001b[93m[WARN] [differ] qid constructor_accessor_axiom not found in dbg/621abdd996/orig.smt2 \u001b[0m\n",
      "\u001b[93m[WARN] [differ] qid <null> not found in dbg/621abdd996/orig.smt2 \u001b[0m"
     ]
    },
    {
     "name": "stderr",
     "output_type": "stream",
     "text": [
      "\u001b[94m[DEBUG] saving cache at 9b0a3113686344cfc9083ad34e7af076.pickle \u001b[0m\n"
     ]
    },
    {
     "name": "stdout",
     "output_type": "stream",
     "text": [
      "\n"
     ]
    },
    {
     "name": "stderr",
     "output_type": "stream",
     "text": [
      "\u001b[94m[DEBUG] [edit] proof path: dbg/6937ca47cd/proofs/shuffle.8676475921380800677.proof \u001b[0m\n",
      "\u001b[94m[DEBUG] [edit] trace path: dbg/6937ca47cd/traces/reseed.16593544487877940751 \u001b[0m\n"
     ]
    },
    {
     "name": "stdout",
     "output_type": "stream",
     "text": [
      "7599a1b61ed6e7b9c60df33a629e7539.pickle\n"
     ]
    },
    {
     "name": "stderr",
     "output_type": "stream",
     "text": [
      "\u001b[94m[DEBUG] saving cache at 621abdd996.to.report \u001b[0m\n"
     ]
    },
    {
     "name": "stdout",
     "output_type": "stream",
     "text": [
      "\u001b[93m[WARN] [differ] qid constructor_accessor_axiom not found in dbg/fa2fdaf6e0/orig.smt2 \u001b[0m\n"
     ]
    },
    {
     "name": "stderr",
     "output_type": "stream",
     "text": [
      "\u001b[94m[DEBUG] saving cache at fa2fdaf6e0.to.report \u001b[0m\n"
     ]
    },
    {
     "name": "stdout",
     "output_type": "stream",
     "text": [
      "\u001b[93m[WARN] [differ] qid constructor_accessor_axiom not found in dbg/93004876e4/orig.smt2 \u001b[0m\n",
      "\u001b[93m[WARN] [differ] qid <null> not found in dbg/93004876e4/orig.smt2 \u001b[0m\n"
     ]
    },
    {
     "name": "stderr",
     "output_type": "stream",
     "text": [
      "\u001b[94m[DEBUG] saving cache at 93004876e4.to.report \u001b[0m\n",
      "\u001b[94m[DEBUG] [edit] proof path: dbg/a896b920ca/proofs/rename.13547342595759592148.proof \u001b[0m\n",
      "\u001b[94m[DEBUG] [edit] trace path: dbg/a896b920ca/traces/shuffle.3935504091054792581 \u001b[0m\n"
     ]
    },
    {
     "name": "stdout",
     "output_type": "stream",
     "text": [
      "b031de557bb34b4d198667b141063b1a.pickle\n",
      "\u001b[93m[WARN] [differ] qid constructor_accessor_axiom not found in dbg/6937ca47cd/orig.smt2 \u001b[0m\n",
      "\u001b[93m[WARN] [differ] qid <null> not found in dbg/6937ca47cd/orig.smt2 \u001b[0m\n"
     ]
    },
    {
     "name": "stderr",
     "output_type": "stream",
     "text": [
      "\u001b[94m[DEBUG] saving cache at 6937ca47cd.to.report \u001b[0m\n"
     ]
    },
    {
     "name": "stdout",
     "output_type": "stream",
     "text": [
      "\u001b[93m[WARN] [differ] qid constructor_accessor_axiom not found in dbg/a896b920ca/orig.smt2 \u001b[0m\n"
     ]
    },
    {
     "name": "stderr",
     "output_type": "stream",
     "text": [
      "\u001b[94m[DEBUG] saving cache at a896b920ca.ff.report \u001b[0m\n",
      "\u001b[94m[DEBUG] [term graph] 135330 nodes, 352316 edges, root @[h!be0baffdf350ea25] \u001b[0m\n",
      "\u001b[94m[DEBUG] 0 nodes are unreachable! \u001b[0m\n",
      "\u001b[94m[DEBUG] saving cache at af984c1f59de349ab18714216a803c19.pickle \u001b[0m\n"
     ]
    },
    {
     "name": "stdout",
     "output_type": "stream",
     "text": [
      "\u001b[93m[WARN] [differ] qid unknown_697 not found in dbg/65d90190b4/orig.smt2 \u001b[0m\n",
      "\u001b[93m[WARN] [differ] qid unknown_823 not found in dbg/65d90190b4/orig.smt2 \u001b[0m\n",
      "\u001b[93m[WARN] [differ] qid unknown_833 not found in dbg/65d90190b4/orig.smt2 \u001b[0m\n",
      "\u001b[93m[WARN] [differ] qid unknown_871 not found in dbg/65d90190b4/orig.smt2 \u001b[0m\n",
      "\u001b[93m[WARN] [differ] qid unknown_730 not found in dbg/65d90190b4/orig.smt2 \u001b[0m\n",
      "\u001b[93m[WARN] [differ] qid unknown_194 not found in dbg/65d90190b4/orig.smt2 \u001b[0m\n",
      "\u001b[93m[WARN] [differ] qid unknown_854 not found in dbg/65d90190b4/orig.smt2 \u001b[0m\n",
      "\u001b[93m[WARN] [differ] qid unknown_552 not found in dbg/65d90190b4/orig.smt2 \u001b[0m\n",
      "\u001b[93m[WARN] [differ] qid constructor_accessor_axiom not found in dbg/65d90190b4/orig.smt2 \u001b[0m\n",
      "\u001b[93m[WARN] [differ] qid <null> not found in dbg/65d90190b4/orig.smt2 \u001b[0m\n"
     ]
    },
    {
     "name": "stderr",
     "output_type": "stream",
     "text": [
      "\u001b[94m[DEBUG] saving cache at 65d90190b4.to.report \u001b[0m\n"
     ]
    }
   ],
   "source": [
    "qs = UNSTABLE_VERUS\n",
    "options = DebugOptions()\n",
    "options.is_verus = True\n",
    "\n",
    "mv = BenchViewer(qs, options)"
   ]
  },
  {
   "cell_type": "code",
   "execution_count": 13,
   "metadata": {},
   "outputs": [
    {
     "name": "stdout",
     "output_type": "stream",
     "text": [
      "| category                   |   count | percentage   |\n",
      "|----------------------------|---------|--------------|\n",
      "| StrainerStatus.FINISHED    |      65 | 92.86 %      |\n",
      "| StrainerStatus.NO_PROOF    |       3 | 4.29 %       |\n",
      "| StrainerStatus.NOT_CREATED |       2 | 2.86 %       |\n",
      "| total                      |      70 | 100.00 %     |\n"
     ]
    }
   ],
   "source": [
    "mv.status.print_status()"
   ]
  },
  {
   "cell_type": "code",
   "execution_count": 14,
   "metadata": {},
   "outputs": [],
   "source": [
    "discount = [\n",
    "    (\"08719204aa\", \"4b9e624e\"),\n",
    "    (\"81b159a977\", \"fbe192f3\"),\n",
    "    (\"2556504d15\", \"7ab783b0\"),\n",
    "    (\"6540edb885\", \"5e546c11\"),\n",
    "    (\"82449bd2e8\", \"4c612f9b\"),\n",
    "    (\"a1b4b3fd4a\", \"4e444e51\"),\n",
    "    (\"55b4af82a4\", \"02d50371\"),\n",
    "    (\"2556504d15\", \"0e424555\"),\n",
    "    (\"4d2d4fbc20\", \"5a3b4208\"),\n",
    "    (\"82449bd2e8\", \"905f3174\"),\n",
    "    (\"2045867a58\", \"7ec12ea5\"),\n",
    "    (\"55b4af82a4\", \"781157b6\"),\n",
    "    (\"68ac429152\", \"75d801e3\"),\n",
    "]"
   ]
  },
  {
   "cell_type": "code",
   "execution_count": 15,
   "metadata": {},
   "outputs": [],
   "source": [
    "def fixable_after_discount(dbg):\n",
    "    report =dbg.report\n",
    "    name_hash = dbg.name_hash\n",
    "    fixable = False\n",
    "    for edit_path in report.stabilized['edit_path']:\n",
    "        edit_hash = os.path.basename(edit_path).split('.')[0]\n",
    "        if (name_hash, edit_hash) in discount:\n",
    "            continue\n",
    "        fixable = True\n",
    "    return fixable"
   ]
  },
  {
   "cell_type": "code",
   "execution_count": 16,
   "metadata": {},
   "outputs": [
    {
     "name": "stdout",
     "output_type": "stream",
     "text": [
      "Test Finished: 65/70 (92.9%)\n",
      "\tTOs: 38/65 (58.5%)\n",
      "\t\tTO fixable: 25/38 (65.8%)\n",
      "\tFFs: 27/65 (41.5%)\n",
      "\t\tFF fixable: 22/27 (81.5%)\n",
      "Test Not Finished: 2/70 (2.9%)\n",
      "No Proofs: 3/70 (4.3%)\n",
      "* fixable: 47/70 (67.1%)\n"
     ]
    }
   ],
   "source": [
    "from utils.analysis_utils import fmt_percent\n",
    "\n",
    "bench_total = len(mv.status.tally)\n",
    "bench_finished = len(mv.status[StrainerStatus.FINISHED])\n",
    "# to_fixable = 0\n",
    "to_cases = dict()\n",
    "ff_cases = dict()\n",
    "\n",
    "def print_break_down(p, q):\n",
    "    return f\"{p}/{q} ({fmt_percent(p, q, 1)})\"\n",
    "\n",
    "for q in mv.status[StrainerStatus.FINISHED]:\n",
    "    dbg = mv[q]\n",
    "    if dbg.mode == DbgMode.TIMEOUT:\n",
    "        to_cases[q] = q in mv.fixable and fixable_after_discount(dbg)\n",
    "    elif dbg.mode == DbgMode.FAST_FAIL:\n",
    "        ff_cases[q] = q in mv.fixable and fixable_after_discount(dbg)\n",
    "    else:\n",
    "        print(\"Unexpected mode\", dbg.mode)\n",
    "        assert False\n",
    "\n",
    "to_fixable = sum(to_cases.values())\n",
    "ff_fixable = sum(ff_cases.values())\n",
    "\n",
    "print(\"Test Finished:\", print_break_down(bench_finished, bench_total))\n",
    "print(\"\\tTOs:\", print_break_down(len(to_cases), bench_finished))\n",
    "print(\"\\t\\tTO fixable:\", print_break_down(to_fixable, len(to_cases)))\n",
    "print(\"\\tFFs:\", print_break_down(len(ff_cases), bench_finished))\n",
    "print(\"\\t\\tFF fixable:\", print_break_down(ff_fixable, len(ff_cases)))\n",
    "\n",
    "print(\"Test Not Finished:\", print_break_down(len(mv.status[StrainerStatus.NOT_CREATED]), bench_total))\n",
    "print(\"No Proofs:\", print_break_down(len(mv.status[StrainerStatus.NO_PROOF]), bench_total))\n",
    "print(\"* fixable:\", print_break_down(to_fixable + ff_fixable, bench_total))"
   ]
  },
  {
   "cell_type": "code",
   "execution_count": 17,
   "metadata": {},
   "outputs": [],
   "source": [
    "for query in mv.fixable:\n",
    "    report = mv[query].report\n",
    "    name_hash = mv[query].name_hash\n",
    "\n",
    "    for edit_path in report.stabilized['edit_path']:\n",
    "        edit_query = os.path.basename(edit_path)\n",
    "        bundle_path = f\"data/projs/verus_singleton_bundle/base.z3/{name_hash}.{edit_query}\""
   ]
  },
  {
   "cell_type": "code",
   "execution_count": 18,
   "metadata": {},
   "outputs": [
    {
     "name": "stdout",
     "output_type": "stream",
     "text": [
      "data/projs/verismo.dedup/base.z3/arch__ptram__ptram_p2.smt2\n",
      "data/projs/vsystemsnew/base.z3/mimalloc-smt-page_organization__PageOrg__impl_%4__merge_with_before_ll_inv_valid_unused.smt2\n",
      "data/projs/vsystemsnew/base.z3/page-table-smt-impl_u__l2_refinement.4.smt2\n"
     ]
    }
   ],
   "source": [
    "for q in mv.status[StrainerStatus.NO_PROOF]:\n",
    "    print(q)"
   ]
  },
  {
   "cell_type": "code",
   "execution_count": 19,
   "metadata": {},
   "outputs": [
    {
     "name": "stdout",
     "output_type": "stream",
     "text": [
      "./src/debugger3.py -m fast_fail -i d6181053ff --create-project\n",
      "./src/debugger3.py -m fast_fail -i d057fff3f5 --create-project\n"
     ]
    }
   ],
   "source": [
    "for q in mv.status[StrainerStatus.NOT_CREATED]:\n",
    "    print(\"./src/debugger3.py -m fast_fail -i\", mv[q].name_hash, \"--create-project\")"
   ]
  },
  {
   "cell_type": "code",
   "execution_count": 20,
   "metadata": {},
   "outputs": [],
   "source": [
    "from utils.system_utils import list_smt2_files\n",
    "\n",
    "for q in mv.status[StrainerStatus.UNFILTERED]:\n",
    "    assert len(list_smt2_files(mv[q].strainer.filter_dir)) != 0\n",
    "    print(\"./src/make_spaghet.py --verus -i\", mv[q].strainer.filter_dir)\n",
    "\n",
    "for q in mv.status[StrainerStatus.NOT_TESTED]:\n",
    "    assert len(list_smt2_files(mv[q].strainer.test_dir)) != 0\n",
    "    print(\"./src/make_spaghet.py --verus -i\", mv[q].strainer.test_dir)"
   ]
  },
  {
   "cell_type": "code",
   "execution_count": null,
   "metadata": {},
   "outputs": [],
   "source": [
    "from utils.cluster_utils import get_sync_commands\n",
    "from utils.system_utils import write_misc_script\n",
    "\n",
    "for q in mv.status.tally:\n",
    "    dbg = mv[q]\n",
    "    dbg.collect_garbage()\n",
    "\n",
    "write_misc_script(\"send.sh\", get_sync_commands(\"g2001\", mv.get_sync_dirs()))"
   ]
  },
  {
   "cell_type": "code",
   "execution_count": null,
   "metadata": {},
   "outputs": [],
   "source": []
  }
 ],
 "metadata": {
  "kernelspec": {
   "display_name": "Python 3",
   "language": "python",
   "name": "python3"
  },
  "language_info": {
   "codemirror_mode": {
    "name": "ipython",
    "version": 3
   },
   "file_extension": ".py",
   "mimetype": "text/x-python",
   "name": "python",
   "nbconvert_exporter": "python",
   "pygments_lexer": "ipython3",
   "version": "3.8.10"
  }
 },
 "nbformat": 4,
 "nbformat_minor": 2
}
