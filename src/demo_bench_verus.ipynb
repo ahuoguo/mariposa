{
 "cells": [
  {
   "cell_type": "code",
   "execution_count": 1,
   "metadata": {},
   "outputs": [],
   "source": [
    "import sys, os\n",
    "\n",
    "MARIPOSA_PATH = \"/home/yizhou7/mariposa/\"\n",
    "\n",
    "sys.path.append(MARIPOSA_PATH + \"src\")\n",
    "os.chdir(MARIPOSA_PATH)\n",
    "\n",
    "from debugger.debugger import DbgMode\n",
    "from debugger.bench_viewer import BenchViewer\n",
    "from debugger.debugger_options import DebugOptions\n",
    "from debugger.strainer import StrainerStatus\n",
    "from benchmark_consts import *"
   ]
  },
  {
   "cell_type": "code",
   "execution_count": 2,
   "metadata": {},
   "outputs": [
    {
     "name": "stderr",
     "output_type": "stream",
     "text": [
      "\u001b[94m[DEBUG] [edit] proof path: dbg/9eaad8947e/proofs/reseed.345321281840103149.proof \u001b[0m\n",
      "\u001b[94m[DEBUG] [edit] trace path: dbg/9eaad8947e/traces/rename.6382520140487459991 \u001b[0m\n"
     ]
    },
    {
     "name": "stdout",
     "output_type": "stream",
     "text": [
      "d77284012b937737531251067601c243.pickle\n",
      "\u001b[93m[WARN] [init] previous debugging attempt has failed, run with --retry-failed if needed! \u001b[0m\u001b[93m[WARN] [init] 8d058577cd trace slow unknown, fallback to timeout \u001b[0m\n",
      "\n",
      "\u001b[93m[WARN] [proof] no proofs available \u001b[0m\n",
      "\u001b[93m[WARN] [init] previous debugging attempt has failed, run with --retry-failed if needed! \u001b[0m\n",
      "\u001b[93m[WARN] [proof] no proofs available \u001b[0m\n",
      "\u001b[93m[WARN] [differ] qid constructor_accessor_axiom not found in dbg/9eaad8947e/orig.smt2 \u001b[0m\n"
     ]
    },
    {
     "name": "stderr",
     "output_type": "stream",
     "text": [
      "\u001b[94m[DEBUG] saving cache at 9eaad8947e.to.report \u001b[0m\n"
     ]
    },
    {
     "name": "stdout",
     "output_type": "stream",
     "text": [
      "\u001b[93m[WARN] query 8cb454fd has no experiment results \u001b[0m\n",
      "\u001b[93m[WARN] query 245091d4 has no experiment results \u001b[0m\n",
      "\u001b[93m[WARN] query 6f88729d has no experiment results \u001b[0m\n",
      "\u001b[93m[WARN] query fdbc75aa has no experiment results \u001b[0m\n",
      "\u001b[93m[WARN] query 94946418 has no experiment results \u001b[0m\n",
      "\u001b[93m[WARN] query fc96888c has no experiment results \u001b[0m\n",
      "\u001b[93m[WARN] query aceee0d5 has no experiment results \u001b[0m\n",
      "\u001b[93m[WARN] query 4db5fd58 has no experiment results \u001b[0m\n"
     ]
    },
    {
     "name": "stderr",
     "output_type": "stream",
     "text": [
      "\u001b[91m[ERROR] there are 8 queries with files, but no experiments done in timeout_fdfae1157a.filtered.base.z3 \u001b[0m\n"
     ]
    },
    {
     "name": "stdout",
     "output_type": "stream",
     "text": [
      "exception:  \n",
      "\u001b[92m[INFO] filtered by mode: DbgMode.TIMEOUT, debuggers left: 40/70 \u001b[0m\n"
     ]
    }
   ],
   "source": [
    "# qs = UNSTABLE_MARIPOSA\n",
    "qs = UNSTABLE_VERUS\n",
    "options = DebugOptions()\n",
    "options.is_verus = True\n",
    "\n",
    "mv = BenchViewer(qs, options, DbgMode.TIMEOUT)"
   ]
  },
  {
   "cell_type": "code",
   "execution_count": 3,
   "metadata": {},
   "outputs": [
    {
     "name": "stdout",
     "output_type": "stream",
     "text": [
      "| category                   |   count | percentage   |\n",
      "|----------------------------|---------|--------------|\n",
      "| StrainerStatus.NOT_TESTED  |      35 | 87.5 %       |\n",
      "| StrainerStatus.FINISHED    |       2 | 5.0 %        |\n",
      "| StrainerStatus.ERROR       |       1 | 2.5 %        |\n",
      "| StrainerStatus.NOT_CREATED |       1 | 2.5 %        |\n",
      "| StrainerStatus.NO_PROOF    |       1 | 2.5 %        |\n",
      "| total                      |      40 | 100.00 %     |\n"
     ]
    }
   ],
   "source": [
    "mv.status.print_status()"
   ]
  },
  {
   "cell_type": "code",
   "execution_count": 4,
   "metadata": {},
   "outputs": [
    {
     "name": "stdout",
     "output_type": "stream",
     "text": [
      "data/projs/vsystemsnew/base.z3/mimalloc-smt-page_organization__PageOrg__impl_%4__merge_with_before_ll_inv_valid_unused.smt2\n"
     ]
    }
   ],
   "source": [
    "for q in mv.status[StrainerStatus.NO_PROOF]:\n",
    "    print(q)"
   ]
  },
  {
   "cell_type": "code",
   "execution_count": 4,
   "metadata": {},
   "outputs": [
    {
     "name": "stdout",
     "output_type": "stream",
     "text": [
      "./src/debugger3.py -m timeout -i 47ae6b0135 --create-project\n"
     ]
    }
   ],
   "source": [
    "for q in mv.status[StrainerStatus.NOT_CREATED]:\n",
    "    print(\"./src/debugger3.py -m timeout -i\", mv[q].name_hash, \"--create-project\")"
   ]
  },
  {
   "cell_type": "code",
   "execution_count": 10,
   "metadata": {},
   "outputs": [
    {
     "name": "stdout",
     "output_type": "stream",
     "text": [
      "./src/make_spaghet.py --is-verus -i data/projs/timeout_9eaad8947e.filtered/base.z3\n",
      "./src/make_spaghet.py --is-verus -i data/projs/timeout_fdfae1157a.filtered/base.z3\n",
      "./src/make_spaghet.py --is-verus -i data/projs/timeout_4d2d4fbc20/base.z3\n",
      "./src/make_spaghet.py --is-verus -i data/projs/timeout_66c9bdf69f/base.z3\n",
      "./src/make_spaghet.py --is-verus -i data/projs/timeout_93004876e4/base.z3\n",
      "./src/make_spaghet.py --is-verus -i data/projs/timeout_c726bffe99/base.z3\n",
      "./src/make_spaghet.py --is-verus -i data/projs/timeout_8d058577cd/base.z3\n",
      "./src/make_spaghet.py --is-verus -i data/projs/timeout_a1b4b3fd4a/base.z3\n",
      "./src/make_spaghet.py --is-verus -i data/projs/timeout_48dbc6d4fa/base.z3\n",
      "./src/make_spaghet.py --is-verus -i data/projs/timeout_aad03b9358/base.z3\n",
      "./src/make_spaghet.py --is-verus -i data/projs/timeout_68ac429152/base.z3\n",
      "./src/make_spaghet.py --is-verus -i data/projs/timeout_82449bd2e8/base.z3\n",
      "./src/make_spaghet.py --is-verus -i data/projs/timeout_83bd54cd1a/base.z3\n",
      "./src/make_spaghet.py --is-verus -i data/projs/timeout_6937ca47cd/base.z3\n",
      "./src/make_spaghet.py --is-verus -i data/projs/timeout_65d90190b4/base.z3\n",
      "./src/make_spaghet.py --is-verus -i data/projs/timeout_b119384805/base.z3\n",
      "./src/make_spaghet.py --is-verus -i data/projs/timeout_f08610121f/base.z3\n",
      "./src/make_spaghet.py --is-verus -i data/projs/timeout_fa2fdaf6e0/base.z3\n",
      "./src/make_spaghet.py --is-verus -i data/projs/timeout_2faba7bd1f/base.z3\n",
      "./src/make_spaghet.py --is-verus -i data/projs/timeout_08719204aa/base.z3\n",
      "./src/make_spaghet.py --is-verus -i data/projs/timeout_7a3bd28b48/base.z3\n",
      "./src/make_spaghet.py --is-verus -i data/projs/timeout_cf8c015bcb/base.z3\n",
      "./src/make_spaghet.py --is-verus -i data/projs/timeout_eccd7ce2d9/base.z3\n",
      "./src/make_spaghet.py --is-verus -i data/projs/timeout_6540edb885/base.z3\n",
      "./src/make_spaghet.py --is-verus -i data/projs/timeout_55b4af82a4/base.z3\n",
      "./src/make_spaghet.py --is-verus -i data/projs/timeout_106770d98e/base.z3\n",
      "./src/make_spaghet.py --is-verus -i data/projs/timeout_a7f5536a00/base.z3\n",
      "./src/make_spaghet.py --is-verus -i data/projs/timeout_621abdd996/base.z3\n",
      "./src/make_spaghet.py --is-verus -i data/projs/timeout_8c0bbf67d0/base.z3\n",
      "./src/make_spaghet.py --is-verus -i data/projs/timeout_fef99080cd/base.z3\n",
      "./src/make_spaghet.py --is-verus -i data/projs/timeout_81b159a977/base.z3\n",
      "./src/make_spaghet.py --is-verus -i data/projs/timeout_0918f4a55d/base.z3\n",
      "./src/make_spaghet.py --is-verus -i data/projs/timeout_b475a457a9/base.z3\n",
      "./src/make_spaghet.py --is-verus -i data/projs/timeout_b834736f4d/base.z3\n",
      "./src/make_spaghet.py --is-verus -i data/projs/timeout_199ba4594c/base.z3\n",
      "./src/make_spaghet.py --is-verus -i data/projs/timeout_634ab613c3/base.z3\n",
      "./src/make_spaghet.py --is-verus -i data/projs/timeout_0a3bc89db1/base.z3\n"
     ]
    }
   ],
   "source": [
    "from utils.system_utils import list_smt2_files\n",
    "\n",
    "for q in mv.status[StrainerStatus.UNFILTERED]:\n",
    "    assert len(list_smt2_files(mv[q].strainer.filter_dir)) != 0\n",
    "    print(\"./src/make_spaghet.py --is-verus -i\", mv[q].strainer.filter_dir)\n",
    "\n",
    "for q in mv.status[StrainerStatus.NOT_TESTED]:\n",
    "    assert len(list_smt2_files(mv[q].strainer.test_dir)) != 0\n",
    "    print(\"./src/make_spaghet.py --is-verus -i\", mv[q].strainer.test_dir)"
   ]
  },
  {
   "cell_type": "code",
   "execution_count": 7,
   "metadata": {},
   "outputs": [
    {
     "name": "stdout",
     "output_type": "stream",
     "text": [
      "1.0\n"
     ]
    }
   ],
   "source": [
    "print(len(mv.fixable) / len(mv.status[StrainerStatus.FINISHED]))"
   ]
  },
  {
   "cell_type": "code",
   "execution_count": null,
   "metadata": {},
   "outputs": [],
   "source": []
  }
 ],
 "metadata": {
  "kernelspec": {
   "display_name": "Python 3",
   "language": "python",
   "name": "python3"
  },
  "language_info": {
   "codemirror_mode": {
    "name": "ipython",
    "version": 3
   },
   "file_extension": ".py",
   "mimetype": "text/x-python",
   "name": "python",
   "nbconvert_exporter": "python",
   "pygments_lexer": "ipython3",
   "version": "3.8.10"
  }
 },
 "nbformat": 4,
 "nbformat_minor": 2
}
