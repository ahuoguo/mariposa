{
 "cells": [
  {
   "cell_type": "code",
   "execution_count": 3,
   "metadata": {},
   "outputs": [],
   "source": [
    "import sys, os\n",
    "\n",
    "MARIPOSA_PATH = \"/home/yizhou7/mariposa/\"\n",
    "\n",
    "sys.path.append(MARIPOSA_PATH + \"src\")\n",
    "os.chdir(MARIPOSA_PATH)\n",
    "\n",
    "from debugger.debugger import DbgMode\n",
    "from debugger.bench_viewer import BenchViewer\n",
    "from debugger.debugger_options import DebugOptions\n",
    "from debugger.strainer import StrainerStatus\n",
    "from benchmark_consts import *"
   ]
  },
  {
   "cell_type": "code",
   "execution_count": 4,
   "metadata": {},
   "outputs": [
    {
     "name": "stdout",
     "output_type": "stream",
     "text": [
      "\u001b[93m[WARN] [init] previous debugging attempt has failed, run with --retry-failed if needed! \u001b[0m\n",
      "\u001b[93m[WARN] [proof] no proofs available \u001b[0m\n",
      "\u001b[93m[WARN] [init] previous debugging attempt has failed, run with --retry-failed if needed! \u001b[0m\n",
      "\u001b[93m[WARN] [proof] no proofs available \u001b[0m\n",
      "\u001b[93m[WARN] [init] 8d058577cd trace slow unknown, fallback to timeout \u001b[0m\n"
     ]
    }
   ],
   "source": [
    "qs = UNSTABLE_VERUS\n",
    "options = DebugOptions()\n",
    "options.is_verus = True\n",
    "\n",
    "mv = BenchViewer(qs, options)"
   ]
  },
  {
   "cell_type": "code",
   "execution_count": 5,
   "metadata": {},
   "outputs": [
    {
     "name": "stdout",
     "output_type": "stream",
     "text": [
      "| category                   |   count | percentage   |\n",
      "|----------------------------|---------|--------------|\n",
      "| StrainerStatus.FINISHED    |      65 | 92.86 %      |\n",
      "| StrainerStatus.NOT_CREATED |       3 | 4.29 %       |\n",
      "| StrainerStatus.NO_PROOF    |       2 | 2.86 %       |\n",
      "| total                      |      70 | 100.00 %     |\n"
     ]
    }
   ],
   "source": [
    "mv.status.print_status()"
   ]
  },
  {
   "cell_type": "code",
   "execution_count": 6,
   "metadata": {},
   "outputs": [],
   "source": [
    "discount = [\n",
    "    (\"08719204aa\", \"4b9e624e\"),\n",
    "    (\"81b159a977\", \"fbe192f3\"),\n",
    "    (\"2556504d15\", \"7ab783b0\"),\n",
    "    (\"6540edb885\", \"5e546c11\"),\n",
    "    (\"82449bd2e8\", \"4c612f9b\"),\n",
    "    (\"a1b4b3fd4a\", \"4e444e51\"),\n",
    "    (\"55b4af82a4\", \"02d50371\"),\n",
    "    (\"2556504d15\", \"0e424555\"),\n",
    "    (\"4d2d4fbc20\", \"5a3b4208\"),\n",
    "    (\"82449bd2e8\", \"905f3174\"),\n",
    "    (\"2045867a58\", \"7ec12ea5\"),\n",
    "    (\"55b4af82a4\", \"781157b6\"),\n",
    "    (\"68ac429152\", \"75d801e3\"),\n",
    "]"
   ]
  },
  {
   "cell_type": "code",
   "execution_count": 7,
   "metadata": {},
   "outputs": [],
   "source": [
    "def fixable_after_discount(dbg):\n",
    "    report =dbg.report\n",
    "    name_hash = dbg.name_hash\n",
    "    fixable = False\n",
    "    for edit_path in report.stabilized['edit_path']:\n",
    "        edit_hash = os.path.basename(edit_path).split('.')[0]\n",
    "        if (name_hash, edit_hash) in discount:\n",
    "            continue\n",
    "        fixable = True\n",
    "    return fixable"
   ]
  },
  {
   "cell_type": "code",
   "execution_count": 8,
   "metadata": {},
   "outputs": [
    {
     "name": "stdout",
     "output_type": "stream",
     "text": [
      "Test Finished: 65/70 (92.9%)\n",
      "\tTOs: 38/65 (58.5%)\n",
      "\t\tTO fixable: 25/38 (65.8%)\n",
      "\tFFs: 27/65 (41.5%)\n",
      "\t\tFF fixable: 22/27 (81.5%)\n",
      "Test Not Finished: 3/70 (4.3%)\n",
      "No Proofs: 2/70 (2.9%)\n",
      "* fixable: 47/70 (67.1%)\n"
     ]
    }
   ],
   "source": [
    "from utils.analysis_utils import fmt_percent\n",
    "\n",
    "bench_total = len(mv.status.tally)\n",
    "bench_finished = len(mv.status[StrainerStatus.FINISHED])\n",
    "# to_fixable = 0\n",
    "to_cases = dict()\n",
    "ff_cases = dict()\n",
    "\n",
    "def print_break_down(p, q):\n",
    "    return f\"{p}/{q} ({fmt_percent(p, q, 1)})\"\n",
    "\n",
    "for q in mv.status[StrainerStatus.FINISHED]:\n",
    "    dbg = mv[q]\n",
    "    if dbg.mode == DbgMode.TIMEOUT:\n",
    "        to_cases[q] = q in mv.fixable and fixable_after_discount(dbg)\n",
    "    elif dbg.mode == DbgMode.FAST_FAIL:\n",
    "        ff_cases[q] = q in mv.fixable and fixable_after_discount(dbg)\n",
    "    else:\n",
    "        print(\"Unexpected mode\", dbg.mode)\n",
    "        assert False\n",
    "\n",
    "to_fixable = sum(to_cases.values())\n",
    "ff_fixable = sum(ff_cases.values())\n",
    "\n",
    "print(\"Test Finished:\", print_break_down(bench_finished, bench_total))\n",
    "print(\"\\tTOs:\", print_break_down(len(to_cases), bench_finished))\n",
    "print(\"\\t\\tTO fixable:\", print_break_down(to_fixable, len(to_cases)))\n",
    "print(\"\\tFFs:\", print_break_down(len(ff_cases), bench_finished))\n",
    "print(\"\\t\\tFF fixable:\", print_break_down(ff_fixable, len(ff_cases)))\n",
    "\n",
    "print(\"Test Not Finished:\", print_break_down(len(mv.status[StrainerStatus.NOT_CREATED]), bench_total))\n",
    "print(\"No Proofs:\", print_break_down(len(mv.status[StrainerStatus.NO_PROOF]), bench_total))\n",
    "print(\"* fixable:\", print_break_down(to_fixable + ff_fixable, bench_total))"
   ]
  },
  {
   "cell_type": "code",
   "execution_count": 9,
   "metadata": {},
   "outputs": [],
   "source": [
    "for query in mv.fixable:\n",
    "    report = mv[query].report\n",
    "    name_hash = mv[query].name_hash\n",
    "\n",
    "    for edit_path in report.stabilized['edit_path']:\n",
    "        edit_query = os.path.basename(edit_path)\n",
    "        bundle_path = f\"data/projs/verus_singleton_bundle/base.z3/{name_hash}.{edit_query}\""
   ]
  },
  {
   "cell_type": "code",
   "execution_count": 10,
   "metadata": {},
   "outputs": [
    {
     "name": "stdout",
     "output_type": "stream",
     "text": [
      "data/projs/vsystemsnew/base.z3/mimalloc-smt-page_organization__PageOrg__impl_%4__merge_with_before_ll_inv_valid_unused.smt2\n",
      "data/projs/vsystemsnew/base.z3/page-table-smt-impl_u__l2_refinement.4.smt2\n"
     ]
    }
   ],
   "source": [
    "for q in mv.status[StrainerStatus.NO_PROOF]:\n",
    "    print(q)"
   ]
  },
  {
   "cell_type": "code",
   "execution_count": 11,
   "metadata": {},
   "outputs": [
    {
     "name": "stdout",
     "output_type": "stream",
     "text": [
      "./src/debugger3.py -m fast_fail -i d6181053ff --create-project\n",
      "./src/debugger3.py -m fast_fail -i 47ae6b0135 --create-project\n",
      "./src/debugger3.py -m fast_fail -i d057fff3f5 --create-project\n"
     ]
    }
   ],
   "source": [
    "for q in mv.status[StrainerStatus.NOT_CREATED]:\n",
    "    print(\"./src/debugger3.py -m fast_fail -i\", mv[q].name_hash, \"--create-project\")"
   ]
  },
  {
   "cell_type": "code",
   "execution_count": 12,
   "metadata": {},
   "outputs": [],
   "source": [
    "from utils.system_utils import list_smt2_files\n",
    "\n",
    "for q in mv.status[StrainerStatus.UNFILTERED]:\n",
    "    assert len(list_smt2_files(mv[q].strainer.filter_dir)) != 0\n",
    "    print(\"./src/make_spaghet.py --verus -i\", mv[q].strainer.filter_dir)\n",
    "\n",
    "for q in mv.status[StrainerStatus.NOT_TESTED]:\n",
    "    assert len(list_smt2_files(mv[q].strainer.test_dir)) != 0\n",
    "    print(\"./src/make_spaghet.py --verus -i\", mv[q].strainer.test_dir)"
   ]
  },
  {
   "cell_type": "code",
   "execution_count": 18,
   "metadata": {},
   "outputs": [
    {
     "name": "stdout",
     "output_type": "stream",
     "text": [
      "\u001b[93m[WARN] [dbg] skipped GC on unfinished project StrainerStatus.NOT_CREATED data/projs/vsystemsnew/base.z3/noderep-smt-spec__cyclicbuffer.3.smt2 \u001b[0m\n",
      "\u001b[93m[WARN] [dbg] skipped GC on unfinished project StrainerStatus.NOT_CREATED data/projs/verismo.dedup/base.z3/arch__ptram__ptram_p2.smt2 \u001b[0m\n",
      "\u001b[93m[WARN] [dbg] skipped GC on unfinished project StrainerStatus.NO_PROOF data/projs/vsystemsnew/base.z3/mimalloc-smt-page_organization__PageOrg__impl_%4__merge_with_before_ll_inv_valid_unused.smt2 \u001b[0m\n",
      "\u001b[93m[WARN] [dbg] skipped GC on unfinished project StrainerStatus.NOT_CREATED data/projs/vsystemsnew/base.z3/noderep-smt-spec__cyclicbuffer.5.smt2 \u001b[0m\n",
      "\u001b[93m[WARN] [dbg] skipped GC on unfinished project StrainerStatus.NO_PROOF data/projs/vsystemsnew/base.z3/page-table-smt-impl_u__l2_refinement.4.smt2 \u001b[0m\n"
     ]
    }
   ],
   "source": [
    "from utils.cluster_utils import get_sync_commands\n",
    "from utils.system_utils import write_misc_script\n",
    "\n",
    "for q in mv.status.tally:\n",
    "    dbg = mv[q]\n",
    "    dbg.collect_garbage()\n",
    "\n",
    "write_misc_script(\"send.sh\", get_sync_commands(\"g2001\", mv.get_sync_dirs()))"
   ]
  },
  {
   "cell_type": "code",
   "execution_count": null,
   "metadata": {},
   "outputs": [],
   "source": []
  }
 ],
 "metadata": {
  "kernelspec": {
   "display_name": "Python 3",
   "language": "python",
   "name": "python3"
  },
  "language_info": {
   "codemirror_mode": {
    "name": "ipython",
    "version": 3
   },
   "file_extension": ".py",
   "mimetype": "text/x-python",
   "name": "python",
   "nbconvert_exporter": "python",
   "pygments_lexer": "ipython3",
   "version": "3.8.10"
  }
 },
 "nbformat": 4,
 "nbformat_minor": 2
}
