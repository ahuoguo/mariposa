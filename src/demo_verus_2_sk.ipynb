{
 "cells": [
  {
   "cell_type": "code",
   "execution_count": 14,
   "metadata": {},
   "outputs": [],
   "source": [
    "import sys, os\n",
    "\n",
    "MARIPOSA_PATH = \"/home/yizhou7/mariposa/\"\n",
    "\n",
    "sys.path.append(MARIPOSA_PATH + \"src\")\n",
    "os.chdir(MARIPOSA_PATH)\n",
    "\n",
    "from debugger.bench_viewer import BenchViewer\n",
    "from debugger.strainer import DebugStatus\n",
    "from debugger.mutant_info import TraceFailure\n",
    "from utils.system_utils import list_smt2_files\n",
    "from debugger.debugger import DbgMode, DebugOptions, get_debugger\n",
    "from benchmark_consts import *"
   ]
  },
  {
   "cell_type": "code",
   "execution_count": null,
   "metadata": {},
   "outputs": [
    {
     "name": "stderr",
     "output_type": "stream",
     "text": [
      "\u001b[94m[DEBUG] [edit] proof path: dbg/5d476c3ee5/proofs/shuffle.3720863696386975304.proof \u001b[0m\n",
      "\u001b[94m[DEBUG] [edit] trace path: dbg/5d476c3ee5/traces/shuffle.7674560968871969237 \u001b[0m\n"
     ]
    },
    {
     "name": "stdout",
     "output_type": "stream",
     "text": [
      "fd98a03afc957ab87398001e7e18bdab.pickle\n",
      "\u001b[93m[WARN] [differ] qid unknown_36 not found in dbg/5d476c3ee5/orig.smt2 \u001b[0m\n",
      "\u001b[93m[WARN] [differ] qid unknown_44 not found in dbg/5d476c3ee5/orig.smt2 \u001b[0m\n",
      "\u001b[93m[WARN] [differ] qid constructor_accessor_axiom not found in dbg/5d476c3ee5/orig.smt2 \u001b[0m\n",
      "\u001b[93m[WARN] [differ] qid <null> not found in dbg/5d476c3ee5/orig.smt2 \u001b[0m\n"
     ]
    },
    {
     "name": "stderr",
     "output_type": "stream",
     "text": [
      "\u001b[94m[DEBUG] saving cache at 5d476c3ee5.sk.report \u001b[0m\n"
     ]
    }
   ],
   "source": [
    "skolmized = list_smt2_files(VERUS_SKOLEM_DIR)\n",
    "\n",
    "options = DebugOptions()\n",
    "options.mode = DbgMode.SKOLEM\n",
    "options.is_verus = True\n",
    "\n",
    "# for q in skolmized:\n",
    "#     print(\"./src/debugger3.py --verus -i\", q)\n",
    "\n",
    "mv = BenchViewer(skolmized, options)"
   ]
  },
  {
   "cell_type": "code",
   "execution_count": 16,
   "metadata": {},
   "outputs": [
    {
     "name": "stdout",
     "output_type": "stream",
     "text": [
      "| category                  |   count | percentage   |\n",
      "|---------------------------|---------|--------------|\n",
      "| DebugStatus.FIX_NOT_FOUND |       4 | 57.14 %      |\n",
      "| DebugStatus.FIX_FOUND     |       3 | 42.86 %      |\n",
      "| total                     |       7 | 100.00 %     |\n"
     ]
    }
   ],
   "source": [
    "mv.status.print_status()"
   ]
  },
  {
   "cell_type": "code",
   "execution_count": null,
   "metadata": {},
   "outputs": [],
   "source": [
    "for q in mv.status[DebugStatus.NOT_CREATED]:\n",
    "    print(\"./src/debugger3.py --verus -i\", q, \"-m\", \"skolem\", \"--create\")"
   ]
  },
  {
   "cell_type": "code",
   "execution_count": 18,
   "metadata": {},
   "outputs": [],
   "source": [
    "for q in mv.status[DebugStatus.UNFILTERED]:\n",
    "    print(\"./src/make_spaghet.py --local --verus -i\", mv[q].strainer.test_dir)"
   ]
  },
  {
   "cell_type": "code",
   "execution_count": null,
   "metadata": {},
   "outputs": [],
   "source": []
  }
 ],
 "metadata": {
  "kernelspec": {
   "display_name": "Python 3",
   "language": "python",
   "name": "python3"
  },
  "language_info": {
   "codemirror_mode": {
    "name": "ipython",
    "version": 3
   },
   "file_extension": ".py",
   "mimetype": "text/x-python",
   "name": "python",
   "nbconvert_exporter": "python",
   "pygments_lexer": "ipython3",
   "version": "3.8.10"
  }
 },
 "nbformat": 4,
 "nbformat_minor": 2
}
