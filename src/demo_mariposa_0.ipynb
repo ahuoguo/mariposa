{
 "cells": [
  {
   "cell_type": "code",
   "execution_count": 15,
   "metadata": {},
   "outputs": [],
   "source": [
    "import sys, os\n",
    "\n",
    "MARIPOSA_PATH = \"/home/yizhou7/mariposa/\"\n",
    "\n",
    "sys.path.append(MARIPOSA_PATH + \"src\")\n",
    "os.chdir(MARIPOSA_PATH)\n",
    "\n",
    "from debugger.debugger import DbgMode\n",
    "from debugger.bench_viewer import BenchViewer\n",
    "from debugger.debugger_options import DebugOptions\n",
    "from debugger.strainer import DebugStatus\n",
    "from benchmark_consts import *"
   ]
  },
  {
   "cell_type": "code",
   "execution_count": 16,
   "metadata": {},
   "outputs": [
    {
     "name": "stdout",
     "output_type": "stream",
     "text": [
      "\u001b[93m[WARN] [init] 2a3b1202bd trace slow unknown, fallback to fast_fail \u001b[0m\u001b[93m[WARN] [init] 5b7d18ab3e trace did not fail, fallback to fast_fail \u001b[0m\u001b[93m[WARN] [init] 3cead21983 trace slow unknown, fallback to fast_fail \u001b[0m\n",
      "\n",
      "\n",
      "\u001b[93m[WARN] [init] e998d08b31 trace slow unknown, fallback to fast_fail \u001b[0m\n",
      "\u001b[93m[WARN] [init] d4e5e77cbc trace slow unknown, fallback to fast_fail \u001b[0m\n",
      "\u001b[93m[WARN] [proof] no proofs available \u001b[0m\n",
      "\u001b[93m[WARN] [proof] no proofs available \u001b[0m\n",
      "\u001b[93m[WARN] [proof] no proofs available \u001b[0m\n",
      "\u001b[93m[WARN] [init] 0b497bc090 trace did not fail, fallback to fast_fail \u001b[0m\n",
      "\u001b[93m[WARN] [proof] no proofs available \u001b[0m\n",
      "\u001b[93m[WARN] [init] 3ce5c5e4dc trace slow unknown, fallback to fast_fail \u001b[0m\n"
     ]
    }
   ],
   "source": [
    "options = DebugOptions()\n",
    "options.is_verus = False\n",
    "\n",
    "round1 = BenchViewer(UNSTABLE_MARIPOSA, options)"
   ]
  },
  {
   "cell_type": "code",
   "execution_count": 17,
   "metadata": {},
   "outputs": [
    {
     "name": "stdout",
     "output_type": "stream",
     "text": [
      "| category                  |   count | percentage   |\n",
      "|---------------------------|---------|--------------|\n",
      "| DebugStatus.FIX_FOUND     |     328 | 60.18 %      |\n",
      "| DebugStatus.FIX_NOT_FOUND |     213 | 39.08 %      |\n",
      "| DebugStatus.NO_PROOF      |       4 | 0.73 %       |\n",
      "| total                     |     545 | 100.00 %     |\n"
     ]
    }
   ],
   "source": [
    "round1.status.print_status()"
   ]
  },
  {
   "cell_type": "code",
   "execution_count": 18,
   "metadata": {},
   "outputs": [],
   "source": [
    "for q in round1.status[DebugStatus.NOT_CREATED]:\n",
    "    print(\"./src/debugger3.py --not-verus -m auto -i\", round1[q].name_hash, \"--create-project\")"
   ]
  },
  {
   "cell_type": "code",
   "execution_count": 19,
   "metadata": {},
   "outputs": [],
   "source": [
    "for q in round1.status[DebugStatus.NOT_TESTED]:\n",
    "    print(\"./src/make_spaghet.py --not-verus --cluster -i\", round1[q].strainer.test_dir)"
   ]
  },
  {
   "cell_type": "code",
   "execution_count": 20,
   "metadata": {},
   "outputs": [
    {
     "name": "stdout",
     "output_type": "stream",
     "text": [
      "\u001b[93m[WARN] [dbg] skipped GC on unfinished project DebugStatus.NO_PROOF data/projs/bench_unstable/base.z3/fs_vwasm--compiler-linearizer-queries-Compiler.Linearizer-15.smt2 \u001b[0m\n",
      "\u001b[93m[WARN] [dbg] skipped GC on unfinished project DebugStatus.NO_PROOF data/projs/bench_unstable/base.z3/d_fvbkv--lib-Base-BitsetLemmas.i.dfy.Impl__BitsetLemmas.__default.all__in__set__implies__all1s__uint64.smt2 \u001b[0m\n",
      "\u001b[93m[WARN] [dbg] skipped GC on unfinished project DebugStatus.NO_PROOF data/projs/bench_unstable/base.z3/d_komodo--verified-remove.gen.dfyImpl___module.__default.va__lemma__kom__smc__remove__non__addr__success.smt2 \u001b[0m\n",
      "\u001b[93m[WARN] [dbg] skipped GC on unfinished project DebugStatus.NO_PROOF data/projs/bench_unstable/base.z3/d_lvbkv--Betree-Graph.i.dfy.Impl__Graph.__default.LocalEditPreservesAcyclic.smt2 \u001b[0m\n",
      "\u001b[92m[INFO] created misc script: send.sh with 3246 commands \u001b[0m\n"
     ]
    }
   ],
   "source": [
    "from utils.cluster_utils import get_sync_commands\n",
    "from utils.system_utils import write_misc_script\n",
    "\n",
    "for q in round1.status.tally:\n",
    "    dbg = round1[q]\n",
    "    dbg.collect_garbage()\n",
    "\n",
    "cmds = get_sync_commands(\"g2001\", round1.get_sync_dirs())\n",
    "write_misc_script(\"send.sh\", cmds)"
   ]
  },
  {
   "cell_type": "code",
   "execution_count": 23,
   "metadata": {},
   "outputs": [
    {
     "name": "stdout",
     "output_type": "stream",
     "text": [
      "TOs: 276/545 (50.6%)\n",
      "\t- 1-no-proof: 0/276 (0.0%)\n",
      "\t- 1-fixable: 276/276 (100.0%)\n",
      "\t- 1-unfixable: 0/276 (0.0%)\n",
      "FFs: 52/545 (9.5%)\n",
      "\t- 1-no-proof: 0/52 (0.0%)\n",
      "\t- 1-fixable: 52/52 (100.0%)\n",
      "\t- 1-unfixable: 0/52 (0.0%)\n",
      "\n",
      "1-fixable: 328/545 (60.2%)\n"
     ]
    }
   ],
   "source": [
    "from utils.analysis_utils import fmt_percent\n",
    "\n",
    "bench_total = len(round1.status.tally)\n",
    "\n",
    "to_cases = dict()\n",
    "ff_cases = dict()\n",
    "\n",
    "def print_break_down(p, q):\n",
    "    return f\"{p}/{q} ({fmt_percent(p, q, 1)})\"\n",
    "\n",
    "singleton_finished = round1.get_finished()\n",
    "singleton_fixes = dict()\n",
    "\n",
    "for q in round1.status.tally:\n",
    "    dbg = round1[q]\n",
    "    if dbg.mode == DbgMode.TIMEOUT:\n",
    "        if q in round1.status[DebugStatus.FIX_FOUND]:\n",
    "            to_cases[q] = True\n",
    "            singleton_fixes[q] = dbg.report.stabilized.edit_path.values.tolist()\n",
    "    elif dbg.mode == DbgMode.FAST_FAIL:\n",
    "        if q in round1.status[DebugStatus.FIX_FOUND]:\n",
    "            ff_cases[q] = True\n",
    "            singleton_fixes[q] = dbg.report.stabilized.edit_path.values.tolist()\n",
    "    else:\n",
    "        print(\"unexpected mode\", dbg.mode)\n",
    "        assert False\n",
    "\n",
    "print(\"TOs:\", print_break_down(len(to_cases), bench_total))\n",
    "rd1_to_no_proof = to_cases.keys() & round1.status[DebugStatus.NO_PROOF].items\n",
    "rd1_to_fixable = sum(to_cases.values())\n",
    "rd1_to_no_fix = to_cases.keys() & round1.status[DebugStatus.FIX_NOT_FOUND].items\n",
    "print(\"\\t- 1-no-proof:\", print_break_down(len(rd1_to_no_proof), len(to_cases)))\n",
    "print(\"\\t- 1-fixable:\", print_break_down(rd1_to_fixable, len(to_cases)))\n",
    "print(\"\\t- 1-unfixable:\", print_break_down(len(rd1_to_no_fix), len(to_cases)))\n",
    "\n",
    "print(\"FFs:\", print_break_down(len(ff_cases), bench_total))\n",
    "rd1_ff_fixable = sum(ff_cases.values())\n",
    "rd1_ff_no_proof = ff_cases.keys() & round1.status[DebugStatus.NO_PROOF].items\n",
    "rd1_ff_no_fix = ff_cases.keys() & round1.status[DebugStatus.FIX_NOT_FOUND].items\n",
    "print(\"\\t- 1-no-proof:\", print_break_down(len(rd1_ff_no_proof), len(ff_cases)))\n",
    "print(\"\\t- 1-fixable:\", print_break_down(rd1_ff_fixable, len(ff_cases)))\n",
    "print(\"\\t- 1-unfixable:\", print_break_down(len(rd1_ff_no_fix), len(ff_cases)))\n",
    "\n",
    "print(\"\")\n",
    "print(\"1-fixable:\", print_break_down(rd1_to_fixable + rd1_ff_fixable, bench_total))"
   ]
  },
  {
   "cell_type": "code",
   "execution_count": 9,
   "metadata": {},
   "outputs": [],
   "source": [
    "rd2_to_targets = [round1[q].name_hash for q in rd1_to_no_fix]\n",
    "\n",
    "options = DebugOptions()\n",
    "options.is_verus = False\n",
    "# it is tested under the name DOUBLETON\n",
    "# overwrite the mode, otherwise AUTO -> TIMEOUT\n",
    "options.mode = DbgMode.DOUBLETON\n",
    "\n",
    "round2_to = BenchViewer(rd2_to_targets, options)"
   ]
  },
  {
   "cell_type": "code",
   "execution_count": 10,
   "metadata": {},
   "outputs": [
    {
     "name": "stdout",
     "output_type": "stream",
     "text": [
      "| category                  |   count | percentage   |\n",
      "|---------------------------|---------|--------------|\n",
      "| DebugStatus.FIX_NOT_FOUND |     133 | 79.17 %      |\n",
      "| DebugStatus.FIX_FOUND     |      35 | 20.83 %      |\n",
      "| total                     |     168 | 100.00 %     |\n"
     ]
    }
   ],
   "source": [
    "round2_to.status.print_status()"
   ]
  },
  {
   "cell_type": "code",
   "execution_count": 11,
   "metadata": {},
   "outputs": [
    {
     "name": "stdout",
     "output_type": "stream",
     "text": [
      "\u001b[93m[WARN] [proof] no proofs available \u001b[0m\u001b[93m[WARN] [proof] no proofs available \u001b[0m\n",
      "\n",
      "\u001b[93m[WARN] [proof] no proofs available \u001b[0m\u001b[93m[WARN] [proof] no proofs available \u001b[0m\n",
      "\n",
      "\u001b[93m[WARN] [proof] no proofs available \u001b[0m\n",
      "\u001b[93m[WARN] [proof] no proofs available \u001b[0m\n",
      "\u001b[93m[WARN] [proof] no proofs available \u001b[0m\n",
      "\u001b[93m[WARN] [proof] no proofs available \u001b[0m\n",
      "\u001b[93m[WARN] [proof] no proofs available \u001b[0m\u001b[93m[WARN] [proof] no proofs available \u001b[0m\n",
      "\u001b[93m[WARN] [proof] no proofs available \u001b[0m\n",
      "\n"
     ]
    }
   ],
   "source": [
    "from utils.system_utils import list_smt2_files\n",
    "\n",
    "rd2_sk_targets = [round1[q].name_hash for q in rd1_ff_no_fix]\n",
    "\n",
    "# this is a subset of rd2_sk_targets\n",
    "skolmized = list_smt2_files(MARIPOSA_SKOLEM_DIR)\n",
    "options = DebugOptions()\n",
    "options.mode = DbgMode.SKOLEM\n",
    "\n",
    "round2_sk = BenchViewer(skolmized, options)"
   ]
  },
  {
   "cell_type": "code",
   "execution_count": 12,
   "metadata": {},
   "outputs": [
    {
     "name": "stdout",
     "output_type": "stream",
     "text": [
      "| category                  |   count | percentage   |\n",
      "|---------------------------|---------|--------------|\n",
      "| DebugStatus.FIX_NOT_FOUND |      19 | 43.18 %      |\n",
      "| DebugStatus.FIX_FOUND     |      14 | 31.82 %      |\n",
      "| DebugStatus.NO_PROOF      |      11 | 25.0 %       |\n",
      "| total                     |      44 | 100.00 %     |\n"
     ]
    }
   ],
   "source": [
    "round2_sk.status.print_status()"
   ]
  },
  {
   "cell_type": "code",
   "execution_count": 13,
   "metadata": {},
   "outputs": [
    {
     "name": "stdout",
     "output_type": "stream",
     "text": [
      "TOs: 447/545 (82.0%)\n",
      "\t- 1-no-proof: 3/447 (0.7%)\n",
      "\t- 1-fixable: 276/447 (61.7%)\n",
      "\t- 2-fixable: 35/447 (7.8%)\n",
      "FFs: 98/545 (18.0%)\n",
      "\t- 1-no-proof: 1/98 (1.0%)\n",
      "\t- 1-fixable: 52/98 (53.1%)\n",
      "\t- 2-fixable: 14/98 (14.3%)\n",
      "\n",
      "1-fixable: 328/545 (60.2%)\n",
      "2-fixable: 49/545 (9.0%)\n",
      "*-fixable: 377/545 (69.2%)\n"
     ]
    }
   ],
   "source": [
    "print(\"TOs:\", print_break_down(len(to_cases), bench_total))\n",
    "rd1_to_no_proof = to_cases.keys() & round1.status[DebugStatus.NO_PROOF].items\n",
    "rd1_to_fixable = sum(to_cases.values())\n",
    "rd1_to_no_fix = to_cases.keys() & round1.status[DebugStatus.FIX_NOT_FOUND].items\n",
    "print(\"\\t- 1-no-proof:\", print_break_down(len(rd1_to_no_proof), len(to_cases)))\n",
    "print(\"\\t- 1-fixable:\", print_break_down(rd1_to_fixable, len(to_cases)))\n",
    "# print(\"\\t- 1-unfixable:\", print_break_down(len(rd1_to_no_fix), len(to_cases)))\n",
    "rd2_to_fixable = round2_to.status[DebugStatus.FIX_FOUND].items\n",
    "assert rd2_to_fixable.issubset(to_cases.keys())\n",
    "rd2_to_fixable = len(rd2_to_fixable)\n",
    "print(\"\\t- 2-fixable:\", print_break_down(rd2_to_fixable, len(to_cases)))\n",
    "\n",
    "print(\"FFs:\", print_break_down(len(ff_cases), bench_total))\n",
    "rd1_ff_fixable = sum(ff_cases.values())\n",
    "rd1_ff_no_proof = ff_cases.keys() & round1.status[DebugStatus.NO_PROOF].items\n",
    "rd1_ff_no_fix = ff_cases.keys() & round1.status[DebugStatus.FIX_NOT_FOUND].items\n",
    "print(\"\\t- 1-no-proof:\", print_break_down(len(rd1_ff_no_proof), len(ff_cases)))\n",
    "print(\"\\t- 1-fixable:\", print_break_down(rd1_ff_fixable, len(ff_cases)))\n",
    "# print(\"\\t- 1-unfixable:\", print_break_down(len(rd1_ff_no_fix), len(ff_cases)))\n",
    "rd2_ff_fixable = round2_sk.status[DebugStatus.FIX_FOUND].items\n",
    "\n",
    "for q in rd2_ff_fixable:\n",
    "    assert round1[round2_sk[q].pre_skolem_name_hash].given_query_path in rd1_ff_no_fix\n",
    "\n",
    "rd2_ff_fixable = len(rd2_ff_fixable)\n",
    "print(\"\\t- 2-fixable:\", print_break_down(rd2_ff_fixable, len(ff_cases)))\n",
    "\n",
    "print(\"\")\n",
    "print(\"1-fixable:\", print_break_down(rd1_to_fixable + rd1_ff_fixable, bench_total))\n",
    "print(\"2-fixable:\", print_break_down(rd2_to_fixable + rd2_ff_fixable, bench_total))\n",
    "print(\"*-fixable:\", print_break_down(rd1_to_fixable + rd1_ff_fixable + rd2_to_fixable + rd2_ff_fixable, bench_total))"
   ]
  },
  {
   "cell_type": "code",
   "execution_count": 21,
   "metadata": {},
   "outputs": [
    {
     "ename": "NameError",
     "evalue": "name 'singleton_fixes' is not defined",
     "output_type": "error",
     "traceback": [
      "\u001b[0;31m---------------------------------------------------------------------------\u001b[0m",
      "\u001b[0;31mNameError\u001b[0m                                 Traceback (most recent call last)",
      "Cell \u001b[0;32mIn[21], line 1\u001b[0m\n\u001b[0;32m----> 1\u001b[0m \u001b[38;5;28mprint\u001b[39m(\u001b[43msingleton_fixes\u001b[49m)\n",
      "\u001b[0;31mNameError\u001b[0m: name 'singleton_fixes' is not defined"
     ]
    }
   ],
   "source": [
    "print(singleton_fixes)"
   ]
  },
  {
   "cell_type": "code",
   "execution_count": null,
   "metadata": {},
   "outputs": [],
   "source": []
  }
 ],
 "metadata": {
  "kernelspec": {
   "display_name": "Python 3",
   "language": "python",
   "name": "python3"
  },
  "language_info": {
   "codemirror_mode": {
    "name": "ipython",
    "version": 3
   },
   "file_extension": ".py",
   "mimetype": "text/x-python",
   "name": "python",
   "nbconvert_exporter": "python",
   "pygments_lexer": "ipython3",
   "version": "3.8.10"
  }
 },
 "nbformat": 4,
 "nbformat_minor": 2
}
