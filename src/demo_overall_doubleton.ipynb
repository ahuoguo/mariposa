{
 "cells": [
  {
   "cell_type": "code",
   "execution_count": 6,
   "metadata": {},
   "outputs": [],
   "source": [
    "import sys, os\n",
    "\n",
    "MARIPOSA_PATH = \"/home/yizhou7/mariposa/\"\n",
    "\n",
    "sys.path.append(MARIPOSA_PATH + \"src\")\n",
    "os.chdir(MARIPOSA_PATH)\n",
    "\n",
    "from debugger.tree_node import NodeRef\n",
    "from debugger.bench_viewer import BenchViewer\n",
    "from debugger.strainer import StrainerStatus\n",
    "from benchmark_consts import *\n",
    "from debugger.mutant_info import TraceFailure\n",
    "from debugger.debugger import DbgMode"
   ]
  },
  {
   "cell_type": "code",
   "execution_count": 7,
   "metadata": {},
   "outputs": [
    {
     "name": "stderr",
     "output_type": "stream",
     "text": [
      "\u001b[94m[DEBUG] [edit] proof path: dbg/b100de24e1/proofs/shuffle.13981388064673178756.proof \u001b[0m\n",
      "\u001b[94m[DEBUG] [edit] trace path: dbg/b100de24e1/traces/rename.17904195374407043053 \u001b[0m\n"
     ]
    },
    {
     "name": "stdout",
     "output_type": "stream",
     "text": [
      "37d3f43b19012a5d659582e0ef5f5364.pickle\n",
      "\u001b[93m[WARN] [differ] qid constructor_accessor_axiom not found in dbg/b100de24e1/orig.smt2 \u001b[0m\n",
      "\u001b[93m[WARN] [differ] qid unnamed not found in dbg/b100de24e1/orig.smt2 \u001b[0m\n",
      "\u001b[93m[WARN] [differ] qid is-Prims.equals not found in dbg/b100de24e1/orig.smt2 \u001b[0m\n",
      "\u001b[93m[WARN] [differ] qid is-Prims.h_equals not found in dbg/b100de24e1/orig.smt2 \u001b[0m\n",
      "\u001b[93m[WARN] [differ] qid is-Prims.c_and not found in dbg/b100de24e1/orig.smt2 \u001b[0m\n",
      "\u001b[93m[WARN] [differ] qid is-Prims.c_or not found in dbg/b100de24e1/orig.smt2 \u001b[0m\n",
      "\u001b[93m[WARN] [differ] qid is-Prims.dtuple2 not found in dbg/b100de24e1/orig.smt2 \u001b[0m\n",
      "\u001b[93m[WARN] [differ] qid is-Prims.list not found in dbg/b100de24e1/orig.smt2 \u001b[0m\n",
      "\u001b[93m[WARN] [differ] qid is-FStar.Pervasives.Native.option not found in dbg/b100de24e1/orig.smt2 \u001b[0m\n",
      "\u001b[93m[WARN] [differ] qid is-FStar.Pervasives.Native.tuple2 not found in dbg/b100de24e1/orig.smt2 \u001b[0m\n",
      "\u001b[93m[WARN] [differ] qid is-FStar.Pervasives.Native.tuple3 not found in dbg/b100de24e1/orig.smt2 \u001b[0m\n",
      "\u001b[93m[WARN] [differ] qid is-FStar.Pervasives.Native.tuple4 not found in dbg/b100de24e1/orig.smt2 \u001b[0m\n",
      "\u001b[93m[WARN] [differ] qid is-FStar.Pervasives.Native.tuple5 not found in dbg/b100de24e1/orig.smt2 \u001b[0m\n",
      "\u001b[93m[WARN] [differ] qid is-FStar.Pervasives.Native.tuple6 not found in dbg/b100de24e1/orig.smt2 \u001b[0m\n",
      "\u001b[93m[WARN] [differ] qid is-FStar.Pervasives.Native.tuple7 not found in dbg/b100de24e1/orig.smt2 \u001b[0m\n",
      "\u001b[93m[WARN] [differ] qid is-FStar.Pervasives.Native.tuple8 not found in dbg/b100de24e1/orig.smt2 \u001b[0m\n",
      "\u001b[93m[WARN] [differ] qid is-FStar.Pervasives.Native.tuple9 not found in dbg/b100de24e1/orig.smt2 \u001b[0m\n",
      "\u001b[93m[WARN] [differ] qid is-FStar.Pervasives.Native.tuple10 not found in dbg/b100de24e1/orig.smt2 \u001b[0m\n",
      "\u001b[93m[WARN] [differ] qid is-FStar.Pervasives.Native.tuple11 not found in dbg/b100de24e1/orig.smt2 \u001b[0m\n",
      "\u001b[93m[WARN] [differ] qid is-FStar.Pervasives.Native.tuple12 not found in dbg/b100de24e1/orig.smt2 \u001b[0m\n",
      "\u001b[93m[WARN] [differ] qid is-FStar.Pervasives.Native.tuple13 not found in dbg/b100de24e1/orig.smt2 \u001b[0m\n",
      "\u001b[93m[WARN] [differ] qid is-FStar.Pervasives.Native.tuple14 not found in dbg/b100de24e1/orig.smt2 \u001b[0m\n",
      "\u001b[93m[WARN] [differ] qid is-FStar.Pervasives.result not found in dbg/b100de24e1/orig.smt2 \u001b[0m\n",
      "\u001b[93m[WARN] [differ] qid is-FStar.Pervasives.either not found in dbg/b100de24e1/orig.smt2 \u001b[0m\n",
      "\u001b[93m[WARN] [differ] qid is-FStar.Pervasives.dtuple3 not found in dbg/b100de24e1/orig.smt2 \u001b[0m\n",
      "\u001b[93m[WARN] [differ] qid is-FStar.Pervasives.dtuple4 not found in dbg/b100de24e1/orig.smt2 \u001b[0m\n",
      "\u001b[93m[WARN] [differ] qid is-FStar.Calc.calc_proof not found in dbg/b100de24e1/orig.smt2 \u001b[0m\n",
      "\u001b[93m[WARN] [differ] qid is-FStar.Calc.calc_pack not found in dbg/b100de24e1/orig.smt2 \u001b[0m\n",
      "\u001b[93m[WARN] [differ] qid is-FStar.Monotonic.HyperStack.mreference_ not found in dbg/b100de24e1/orig.smt2 \u001b[0m\n",
      "\u001b[93m[WARN] [differ] qid is-FStar.ModifiesGen.cls not found in dbg/b100de24e1/orig.smt2 \u001b[0m\n",
      "\u001b[93m[WARN] [differ] qid is-FStar.Tactics.Result.__result not found in dbg/b100de24e1/orig.smt2 \u001b[0m\n",
      "\u001b[93m[WARN] [differ] qid is-LowParse.Slice.slice not found in dbg/b100de24e1/orig.smt2 \u001b[0m\n",
      "\u001b[93m[WARN] [differ] qid is-LowParse.Low.Base.Spec.clens not found in dbg/b100de24e1/orig.smt2 \u001b[0m\n",
      "\u001b[93m[WARN] [differ] qid is-LowParse.Low.Base.irepr not found in dbg/b100de24e1/orig.smt2 \u001b[0m\n",
      "\u001b[93m[WARN] [differ] qid is-L0.X509.DeviceIDCSR.deviceIDCSR_payload_t not found in dbg/b100de24e1/orig.smt2 \u001b[0m\n",
      "\u001b[93m[WARN] [differ] qid is-L0.X509.AliasKeyCRT.aliasKeyCRT_payload_t not found in dbg/b100de24e1/orig.smt2 \u001b[0m\n",
      "\u001b[93m[WARN] [differ] qid is-LowStar.Printf.lift not found in dbg/b100de24e1/orig.smt2 \u001b[0m\n"
     ]
    },
    {
     "name": "stderr",
     "output_type": "stream",
     "text": [
      "\u001b[94m[DEBUG] saving cache at b100de24e1.2.report \u001b[0m\n"
     ]
    }
   ],
   "source": [
    "mv = BenchViewer(DOUBLETON_TARGETS, DbgMode.DOUBLETON)"
   ]
  },
  {
   "cell_type": "code",
   "execution_count": 9,
   "metadata": {},
   "outputs": [
    {
     "name": "stdout",
     "output_type": "stream",
     "text": [
      "| category                   |   count | percentage   |\n",
      "|----------------------------|---------|--------------|\n",
      "| StrainerStatus.FINISHED    |     110 | 83.33 %      |\n",
      "| StrainerStatus.NOT_TESTED  |      20 | 15.15 %      |\n",
      "| StrainerStatus.NOT_CREATED |       1 | 0.76 %       |\n",
      "| StrainerStatus.UNFILTERED  |       1 | 0.76 %       |\n",
      "| total                      |     132 | 100.00 %     |\n"
     ]
    }
   ],
   "source": [
    "mv.status.print_status()"
   ]
  },
  {
   "cell_type": "code",
   "execution_count": 8,
   "metadata": {},
   "outputs": [],
   "source": [
    "for q in mv.status[StrainerStatus.NO_PROOF]:\n",
    "    print(q)"
   ]
  },
  {
   "cell_type": "code",
   "execution_count": 9,
   "metadata": {},
   "outputs": [],
   "source": [
    "for q in mv.status[StrainerStatus.ERROR]:\n",
    "    print(\"./src/evaluator.py --mode doubleton --reset -i\", q)"
   ]
  },
  {
   "cell_type": "code",
   "execution_count": 5,
   "metadata": {},
   "outputs": [
    {
     "name": "stdout",
     "output_type": "stream",
     "text": [
      "./src/evaluator.py --mode doubleton --create -i data/projs/bench_unstable/base.z3/d_lvbkv--Impl-SplitModel.i.dfy.Impl__SplitModel.__default.doSplitCorrect.smt2\n"
     ]
    }
   ],
   "source": [
    "for q in mv.status[StrainerStatus.NOT_CREATED]:\n",
    "    print(\"./src/evaluator.py --mode doubleton --create -i\", q)"
   ]
  },
  {
   "cell_type": "code",
   "execution_count": null,
   "metadata": {},
   "outputs": [],
   "source": [
    "for q in mv.status[StrainerStatus.NOT_TESTED]:\n",
    "# for q in mv.status[DebuggerStatus.FILTERED_NOT_RAN]:\n",
    "    # if len(list_smt2_files(mv[q].strainer.test_dir)) == 0:\n",
    "    # print(\"./src/evaluator.py --mode doubleton --reset -i\", q)\n",
    "    print(\"python3 src/carve_and_rerun.py\", mv[q].strainer.test_dir)"
   ]
  },
  {
   "cell_type": "code",
   "execution_count": 10,
   "metadata": {},
   "outputs": [
    {
     "name": "stdout",
     "output_type": "stream",
     "text": [
      "36\n",
      "0.32727272727272727\n"
     ]
    }
   ],
   "source": [
    "print(len(mv.fixable))\n",
    "print(len(mv.fixable)/len(mv.status[StrainerStatus.FINISHED]))"
   ]
  },
  {
   "cell_type": "code",
   "execution_count": null,
   "metadata": {},
   "outputs": [],
   "source": [
    "dirs_to_send = []\n",
    "additional = \"\"\n",
    "\n",
    "for q in mv.fixable:\n",
    "    r = mv[q]\n",
    "    if r.name_hash in LIKELY_FIXED:\n",
    "        continue\n",
    "    r.collect_garbage()\n",
    "    dirs_to_send += r.get_dirs_to_sync()\n",
    "    additional += f\"\\\"{r.name_hash}\\\",\\n\"\n",
    "\n",
    "print(additional)\n",
    "\n",
    "for i, d in enumerate(dirs_to_send):\n",
    "    if i % 5 == 0:\n",
    "        print(\"echo '\", (i //5 +1), \"/\", len(dirs_to_send)//5, \"'\")\n",
    "    print(\"rsync -avz\", d, \"g2001:/home/yizhou7/mariposa/\", \"--inplace\", \"--delete\", \"--relative\")"
   ]
  },
  {
   "cell_type": "code",
   "execution_count": 11,
   "metadata": {},
   "outputs": [
    {
     "data": {
      "text/plain": [
       "{'data/projs/bench_unstable/base.z3/d_fvbkv--BlockCacheSystem-JournalRange.i.dfy.Impl__JournalRanges.__default.parseJournalRangeAdditive.smt2',\n",
       " 'data/projs/bench_unstable/base.z3/d_fvbkv--Impl-CoordinationImpl.i.dfy.Impl__CoordinationImpl.__default.insert.smt2',\n",
       " 'data/projs/bench_unstable/base.z3/d_fvbkv--Impl-JournalistMarshallingModel.i.dfy.Impl__JournalistMarshallingModel.__default.parseEntriesFromHasEntriesI.smt2',\n",
       " 'data/projs/bench_unstable/base.z3/d_fvbkv--Impl-MarshallingImpl.i.dfy.Impl__MarshallingImpl.__default.strictlySortedKeySeqToVal.smt2',\n",
       " 'data/projs/bench_unstable/base.z3/d_fvbkv--Impl-QueryImpl.i.dfy.Impl__QueryImpl.__default.queryIterate.smt2',\n",
       " 'data/projs/bench_unstable/base.z3/d_fvbkv--lib-Base-sequences.i.dfy.Impl__Sequences.__default.lemma__concatSeqLen__le__mul.smt2',\n",
       " 'data/projs/bench_unstable/base.z3/d_fvbkv--lib-Buckets-PackedKV.i.dfy.Impl__PackedKV.__default.BinarySearchQuery.smt2',\n",
       " 'data/projs/bench_unstable/base.z3/d_fvbkv--lib-DataStructures-BtreeModel.i.dfy.Impl__BtreeModel.__default.SplitIndexAllKeys.smt2',\n",
       " 'data/projs/bench_unstable/base.z3/d_fvbkv--lib-DataStructures-MutableMapModel.i.dfy.Impl__MutableMapModel.__default.LemmaReallocIterateResult.smt2',\n",
       " 'data/projs/bench_unstable/base.z3/d_komodo--verified-alloc_spare.gen.dfyImpl___module.__default.va__lemma__kom__smc__alloc__spare.smt2',\n",
       " 'data/projs/bench_unstable/base.z3/d_komodo--verified-attest.gen.dfyImpl___module.__default.va__lemma__compute__hmac_split0.smt2',\n",
       " 'data/projs/bench_unstable/base.z3/d_komodo--verified-entry.gen.dfyImpl___module.__default.va__lemma__stack__banked__regs1.smt2',\n",
       " 'data/projs/bench_unstable/base.z3/d_komodo--verified-entry.gen.dfyImpl___module.__default.va__lemma__stack__banked__regs2.smt2',\n",
       " 'data/projs/bench_unstable/base.z3/d_komodo--verified-entry.gen.dfyImpl___module.__default.va__lemma__unstack__banked__regs.smt2',\n",
       " 'data/projs/bench_unstable/base.z3/d_komodo--verified-entry.gen.dfyImpl___module.__default.va__lemma__unstack__banked__regs1.smt2',\n",
       " 'data/projs/bench_unstable/base.z3/d_komodo--verified-entry.gen.dfyImpl___module.__default.va__lemma__unstack__banked__regs2.smt2',\n",
       " 'data/projs/bench_unstable/base.z3/d_komodo--verified-entry.gen.dfyImpl___module.__default.va__lemma__unstack__banked__regs3.smt2',\n",
       " 'data/projs/bench_unstable/base.z3/d_komodo--verified-entry.i.dfyImpl___module.__default.lemma__partialEnclaveExecution__append.smt2',\n",
       " 'data/projs/bench_unstable/base.z3/d_komodo--verified-exception_handlers.gen.dfyImpl___module.__default.va__lemma__abort__handler.smt2',\n",
       " 'data/projs/bench_unstable/base.z3/d_komodo--verified-finalise.gen.dfyImpl___module.__default.va__lemma__kom__smc__finalise.smt2',\n",
       " 'data/projs/bench_unstable/base.z3/d_komodo--verified-init_dispatcher.gen.dfyImpl___module.__default.va__lemma__init__dispatcher__page__zeros.smt2',\n",
       " 'data/projs/bench_unstable/base.z3/d_komodo--verified-map_common.gen.dfyImpl___module.__default.va__lemma__insecure__phys__to__virt.smt2',\n",
       " 'data/projs/bench_unstable/base.z3/d_komodo--verified-sha-sha256-body-16-xx.gen.dfyImpl___module.__default.va__refined__Body__16__XXUnroller.smt2',\n",
       " 'data/projs/bench_unstable/base.z3/d_komodo--verified-svc_handlers.gen.dfyImpl___module.__default.va__lemma__svc__map__data__success.smt2',\n",
       " 'data/projs/bench_unstable/base.z3/d_komodo--verified-verify.gen.dfyImpl___module.__default.va__lemma__svc__returning__verify__inner.smt2',\n",
       " 'data/projs/bench_unstable/base.z3/d_lvbkv--Impl-FlushPolicyImpl.i.dfy.Impl__FlushPolicyImpl.__default.runFlushPolicy.smt2',\n",
       " 'data/projs/bench_unstable/base.z3/d_lvbkv--Impl-MainHandlers.i.dfy.Impl__MainHandlers.__default.SystemRefinesCrashSafeMapInit.smt2',\n",
       " 'data/projs/bench_unstable/base.z3/d_lvbkv--Impl-MarshallingImpl.i.dfy.Impl__MarshallingImpl.__default.strictlySortedPivotsToVal.smt2',\n",
       " 'data/projs/bench_unstable/base.z3/d_lvbkv--MapSpec-TSJMap_Refines_ThreeStateVersionedMap.i.dfy.Impl__TSJMap__Refines__ThreeStateVersionedMap.__default.RefinesReplay.smt2',\n",
       " 'data/projs/bench_unstable/base.z3/d_lvbkv--PivotBetree-PivotBetreeSpecRefinement.i.dfy.Impl__PivotBetreeSpecRefinement.__default.RefinesValidSplit.smt2',\n",
       " 'data/projs/bench_unstable/base.z3/d_lvbkv--lib-Buckets-PackedKV.i.dfy.Impl__DynamicPkv.__default.MergeToOneChild.smt2',\n",
       " 'data/projs/bench_unstable/base.z3/d_lvbkv--lib-Buckets-PackedStringArray.i.dfy.Impl__PackedStringArray.__default.WFpsaSubSeq.smt2',\n",
       " 'data/projs/bench_unstable/base.z3/d_lvbkv--lib-Buckets-PackedStringArray.i.dfy.Impl__PackedStringArray.__default.psaCanAppendI.smt2',\n",
       " 'data/projs/bench_unstable/base.z3/fs_dice--queries-L0.Impl.Certificate-14.smt2',\n",
       " 'data/projs/bench_unstable/base.z3/fs_dice--queries-L0.X509.DeviceIDCRI-12.smt2',\n",
       " 'data/projs/bench_unstable/base.z3/fs_dice--queries-L0.X509.DeviceIDCRI-18.smt2'}"
      ]
     },
     "execution_count": 11,
     "metadata": {},
     "output_type": "execute_result"
    }
   ],
   "source": [
    "mv.fixable"
   ]
  },
  {
   "cell_type": "code",
   "execution_count": null,
   "metadata": {},
   "outputs": [],
   "source": []
  }
 ],
 "metadata": {
  "kernelspec": {
   "display_name": "Python 3",
   "language": "python",
   "name": "python3"
  },
  "language_info": {
   "codemirror_mode": {
    "name": "ipython",
    "version": 3
   },
   "file_extension": ".py",
   "mimetype": "text/x-python",
   "name": "python",
   "nbconvert_exporter": "python",
   "pygments_lexer": "ipython3",
   "version": "3.8.10"
  }
 },
 "nbformat": 4,
 "nbformat_minor": 2
}
