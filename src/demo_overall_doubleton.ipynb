{
 "cells": [
  {
   "cell_type": "code",
   "execution_count": null,
   "metadata": {},
   "outputs": [],
   "source": [
    "import sys, os\n",
    "\n",
    "MARIPOSA_PATH = \"/home/yizhou7/mariposa/\"\n",
    "\n",
    "sys.path.append(MARIPOSA_PATH + \"src\")\n",
    "os.chdir(MARIPOSA_PATH)\n",
    "\n",
    "from debugger.bench_viewer import BenchViewer\n",
    "from debugger.strainer import StrainerStatus\n",
    "from benchmark_consts import *\n",
    "from debugger.mutant_info import TraceFailure\n",
    "from debugger.debugger import DbgMode"
   ]
  },
  {
   "cell_type": "code",
   "execution_count": 2,
   "metadata": {},
   "outputs": [
    {
     "name": "stderr",
     "output_type": "stream",
     "text": [
      "\u001b[94m[DEBUG] [edit] proof path: dbg/a9ba4f3553/proofs/rename.11212879255350567790.proof \u001b[0m\n",
      "\u001b[94m[DEBUG] [edit] trace path: dbg/a9ba4f3553/traces/rename.8959845050220892458 \u001b[0m\n"
     ]
    },
    {
     "name": "stdout",
     "output_type": "stream",
     "text": [
      "1b9ed3df97806d72a2d1554a4d179bf6.pickle\n",
      "\u001b[93m[WARN] [differ] qid constructor_accessor_axiom not found in dbg/a9ba4f3553/orig.smt2 \u001b[0m\n"
     ]
    },
    {
     "name": "stderr",
     "output_type": "stream",
     "text": [
      "\u001b[94m[DEBUG] saving cache at a9ba4f3553.2.report \u001b[0m\n"
     ]
    }
   ],
   "source": [
    "mv = BenchViewer(DOUBLETON_TARGETS, DbgMode.DOUBLETON)"
   ]
  },
  {
   "cell_type": "code",
   "execution_count": 5,
   "metadata": {},
   "outputs": [
    {
     "name": "stdout",
     "output_type": "stream",
     "text": [
      "| category                   |   count | percentage   |\n",
      "|----------------------------|---------|--------------|\n",
      "| StrainerStatus.FINISHED    |     113 | 85.61 %      |\n",
      "| StrainerStatus.NOT_TESTED  |      18 | 13.64 %      |\n",
      "| StrainerStatus.NOT_CREATED |       1 | 0.76 %       |\n",
      "| total                      |     132 | 100.00 %     |\n"
     ]
    }
   ],
   "source": [
    "mv.status.print_status()"
   ]
  },
  {
   "cell_type": "code",
   "execution_count": 22,
   "metadata": {},
   "outputs": [],
   "source": [
    "for q in mv.status[StrainerStatus.NO_PROOF]:\n",
    "    print(q)"
   ]
  },
  {
   "cell_type": "code",
   "execution_count": 23,
   "metadata": {},
   "outputs": [
    {
     "name": "stdout",
     "output_type": "stream",
     "text": [
      "./src/evaluator.py --mode doubleton --reset -i data/projs/bench_unstable/base.z3/d_komodo--verified-sha-sha256-api.gen.dfyImpl___module.__default.va__abstract__sha256__one__shot.smt2\n"
     ]
    }
   ],
   "source": [
    "for q in mv.status[StrainerStatus.ERROR]:\n",
    "    print(\"./src/evaluator.py --mode doubleton --reset -i\", q)"
   ]
  },
  {
   "cell_type": "code",
   "execution_count": 24,
   "metadata": {},
   "outputs": [
    {
     "name": "stdout",
     "output_type": "stream",
     "text": [
      "./src/evaluator.py --mode doubleton --create -i data/projs/bench_unstable/base.z3/d_lvbkv--Impl-SplitModel.i.dfy.Impl__SplitModel.__default.doSplitCorrect.smt2\n"
     ]
    }
   ],
   "source": [
    "for q in mv.status[StrainerStatus.NOT_CREATED]:\n",
    "    print(\"./src/evaluator.py --mode doubleton --create -i\", q)"
   ]
  },
  {
   "cell_type": "code",
   "execution_count": 6,
   "metadata": {},
   "outputs": [
    {
     "name": "stdout",
     "output_type": "stream",
     "text": [
      "python3 src/carve_and_rerun.py data/projs/doubleton_01b00606af/base.z3\n",
      "python3 src/carve_and_rerun.py data/projs/doubleton_d75368331e/base.z3\n",
      "python3 src/carve_and_rerun.py data/projs/doubleton_ea5023bb77/base.z3\n",
      "python3 src/carve_and_rerun.py data/projs/doubleton_84faa1a2fa/base.z3\n",
      "python3 src/carve_and_rerun.py data/projs/doubleton_555312085e/base.z3\n",
      "python3 src/carve_and_rerun.py data/projs/doubleton_0b72dcef64/base.z3\n",
      "python3 src/carve_and_rerun.py data/projs/doubleton_203627efb4/base.z3\n",
      "python3 src/carve_and_rerun.py data/projs/doubleton_30af6a3633/base.z3\n",
      "python3 src/carve_and_rerun.py data/projs/doubleton_563f5abfa4/base.z3\n",
      "python3 src/carve_and_rerun.py data/projs/doubleton_7f39d29669/base.z3\n",
      "python3 src/carve_and_rerun.py data/projs/doubleton_862cb1068a/base.z3\n",
      "python3 src/carve_and_rerun.py data/projs/doubleton_b6c73c6fb9/base.z3\n",
      "python3 src/carve_and_rerun.py data/projs/doubleton_02378bfc2b/base.z3\n",
      "python3 src/carve_and_rerun.py data/projs/doubleton_a9102fb49c/base.z3\n",
      "python3 src/carve_and_rerun.py data/projs/doubleton_b1b86518f3/base.z3\n",
      "python3 src/carve_and_rerun.py data/projs/doubleton_9415956048/base.z3\n",
      "python3 src/carve_and_rerun.py data/projs/doubleton_0f400a3f00/base.z3\n",
      "python3 src/carve_and_rerun.py data/projs/doubleton_897da79a5c/base.z3\n"
     ]
    }
   ],
   "source": [
    "for q in mv.status[StrainerStatus.NOT_TESTED]:\n",
    "# for q in mv.status[DebuggerStatus.FILTERED_NOT_RAN]:\n",
    "    # if len(list_smt2_files(mv[q].strainer.test_dir)) == 0:\n",
    "    # print(\"./src/evaluator.py --mode doubleton --reset -i\", q)\n",
    "    print(\"python3 src/carve_and_rerun.py\", mv[q].strainer.test_dir)"
   ]
  },
  {
   "cell_type": "code",
   "execution_count": 3,
   "metadata": {},
   "outputs": [
    {
     "name": "stdout",
     "output_type": "stream",
     "text": [
      "37\n",
      "0.3274336283185841\n"
     ]
    }
   ],
   "source": [
    "print(len(mv.fixable))\n",
    "print(len(mv.fixable)/len(mv.status[StrainerStatus.FINISHED]))"
   ]
  },
  {
   "cell_type": "code",
   "execution_count": 4,
   "metadata": {},
   "outputs": [
    {
     "name": "stdout",
     "output_type": "stream",
     "text": [
      "\"1f3cf5998c\",\n",
      "\"0cce886818\",\n",
      "\"66fdaa7389\",\n",
      "\"9c17013417\",\n",
      "\"b9896cbaf6\",\n",
      "\"243ec915e0\",\n",
      "\"82f91d0d6f\",\n",
      "\"5d39862f72\",\n",
      "\"a027d8f301\",\n",
      "\"1f96205287\",\n",
      "\"297c8f2526\",\n",
      "\"cb9ff97970\",\n",
      "\"b837e52d8b\",\n",
      "\"74e1d044a1\",\n",
      "\"26cc7a44c8\",\n",
      "\"81f604e545\",\n",
      "\"3b1c756824\",\n",
      "\"50e9564b05\",\n",
      "\"b100de24e1\",\n",
      "\"443cdbaf14\",\n",
      "\"751af3ffba\",\n",
      "\"ba85c910da\",\n",
      "\"72a2c42fee\",\n",
      "\"786d3d1ed6\",\n",
      "\"422a6c0817\",\n",
      "\"266488af24\",\n",
      "\"1996525606\",\n",
      "\"fa733ab6d6\",\n",
      "\"6d5603f1e4\",\n",
      "\"868d0bf364\",\n",
      "\"7b0fbd9a55\",\n",
      "\"9adbe2e346\",\n",
      "\"39dea8e27a\",\n",
      "\"4040d2a20b\",\n",
      "\"0cfa69df01\",\n",
      "\"09f0c73516\",\n",
      "\"ef1ebd5d7d\",\n",
      "\n",
      "echo ' 1 / 37 '\n",
      "rsync -avz dbg/1f3cf5998c g2001:/home/yizhou7/mariposa/ --inplace --delete --relative\n",
      "rsync -avz data/projs/doubleton_1f3cf5998c/base.z3 g2001:/home/yizhou7/mariposa/ --inplace --delete --relative\n",
      "rsync -avz data/dbs/doubleton_1f3cf5998c/base.z3 g2001:/home/yizhou7/mariposa/ --inplace --delete --relative\n",
      "rsync -avz data/projs/doubleton_1f3cf5998c.filtered/base.z3 g2001:/home/yizhou7/mariposa/ --inplace --delete --relative\n",
      "rsync -avz data/dbs/doubleton_1f3cf5998c.filtered/base.z3 g2001:/home/yizhou7/mariposa/ --inplace --delete --relative\n",
      "echo ' 2 / 37 '\n",
      "rsync -avz dbg/0cce886818 g2001:/home/yizhou7/mariposa/ --inplace --delete --relative\n",
      "rsync -avz data/projs/doubleton_0cce886818/base.z3 g2001:/home/yizhou7/mariposa/ --inplace --delete --relative\n",
      "rsync -avz data/dbs/doubleton_0cce886818/base.z3 g2001:/home/yizhou7/mariposa/ --inplace --delete --relative\n",
      "rsync -avz data/projs/doubleton_0cce886818.filtered/base.z3 g2001:/home/yizhou7/mariposa/ --inplace --delete --relative\n",
      "rsync -avz data/dbs/doubleton_0cce886818.filtered/base.z3 g2001:/home/yizhou7/mariposa/ --inplace --delete --relative\n",
      "echo ' 3 / 37 '\n",
      "rsync -avz dbg/66fdaa7389 g2001:/home/yizhou7/mariposa/ --inplace --delete --relative\n",
      "rsync -avz data/projs/doubleton_66fdaa7389/base.z3 g2001:/home/yizhou7/mariposa/ --inplace --delete --relative\n",
      "rsync -avz data/dbs/doubleton_66fdaa7389/base.z3 g2001:/home/yizhou7/mariposa/ --inplace --delete --relative\n",
      "rsync -avz data/projs/doubleton_66fdaa7389.filtered/base.z3 g2001:/home/yizhou7/mariposa/ --inplace --delete --relative\n",
      "rsync -avz data/dbs/doubleton_66fdaa7389.filtered/base.z3 g2001:/home/yizhou7/mariposa/ --inplace --delete --relative\n",
      "echo ' 4 / 37 '\n",
      "rsync -avz dbg/9c17013417 g2001:/home/yizhou7/mariposa/ --inplace --delete --relative\n",
      "rsync -avz data/projs/doubleton_9c17013417/base.z3 g2001:/home/yizhou7/mariposa/ --inplace --delete --relative\n",
      "rsync -avz data/dbs/doubleton_9c17013417/base.z3 g2001:/home/yizhou7/mariposa/ --inplace --delete --relative\n",
      "rsync -avz data/projs/doubleton_9c17013417.filtered/base.z3 g2001:/home/yizhou7/mariposa/ --inplace --delete --relative\n",
      "rsync -avz data/dbs/doubleton_9c17013417.filtered/base.z3 g2001:/home/yizhou7/mariposa/ --inplace --delete --relative\n",
      "echo ' 5 / 37 '\n",
      "rsync -avz dbg/b9896cbaf6 g2001:/home/yizhou7/mariposa/ --inplace --delete --relative\n",
      "rsync -avz data/projs/doubleton_b9896cbaf6/base.z3 g2001:/home/yizhou7/mariposa/ --inplace --delete --relative\n",
      "rsync -avz data/dbs/doubleton_b9896cbaf6/base.z3 g2001:/home/yizhou7/mariposa/ --inplace --delete --relative\n",
      "rsync -avz data/projs/doubleton_b9896cbaf6.filtered/base.z3 g2001:/home/yizhou7/mariposa/ --inplace --delete --relative\n",
      "rsync -avz data/dbs/doubleton_b9896cbaf6.filtered/base.z3 g2001:/home/yizhou7/mariposa/ --inplace --delete --relative\n",
      "echo ' 6 / 37 '\n",
      "rsync -avz dbg/243ec915e0 g2001:/home/yizhou7/mariposa/ --inplace --delete --relative\n",
      "rsync -avz data/projs/doubleton_243ec915e0/base.z3 g2001:/home/yizhou7/mariposa/ --inplace --delete --relative\n",
      "rsync -avz data/dbs/doubleton_243ec915e0/base.z3 g2001:/home/yizhou7/mariposa/ --inplace --delete --relative\n",
      "rsync -avz data/projs/doubleton_243ec915e0.filtered/base.z3 g2001:/home/yizhou7/mariposa/ --inplace --delete --relative\n",
      "rsync -avz data/dbs/doubleton_243ec915e0.filtered/base.z3 g2001:/home/yizhou7/mariposa/ --inplace --delete --relative\n",
      "echo ' 7 / 37 '\n",
      "rsync -avz dbg/82f91d0d6f g2001:/home/yizhou7/mariposa/ --inplace --delete --relative\n",
      "rsync -avz data/projs/doubleton_82f91d0d6f/base.z3 g2001:/home/yizhou7/mariposa/ --inplace --delete --relative\n",
      "rsync -avz data/dbs/doubleton_82f91d0d6f/base.z3 g2001:/home/yizhou7/mariposa/ --inplace --delete --relative\n",
      "rsync -avz data/projs/doubleton_82f91d0d6f.filtered/base.z3 g2001:/home/yizhou7/mariposa/ --inplace --delete --relative\n",
      "rsync -avz data/dbs/doubleton_82f91d0d6f.filtered/base.z3 g2001:/home/yizhou7/mariposa/ --inplace --delete --relative\n",
      "echo ' 8 / 37 '\n",
      "rsync -avz dbg/5d39862f72 g2001:/home/yizhou7/mariposa/ --inplace --delete --relative\n",
      "rsync -avz data/projs/doubleton_5d39862f72/base.z3 g2001:/home/yizhou7/mariposa/ --inplace --delete --relative\n",
      "rsync -avz data/dbs/doubleton_5d39862f72/base.z3 g2001:/home/yizhou7/mariposa/ --inplace --delete --relative\n",
      "rsync -avz data/projs/doubleton_5d39862f72.filtered/base.z3 g2001:/home/yizhou7/mariposa/ --inplace --delete --relative\n",
      "rsync -avz data/dbs/doubleton_5d39862f72.filtered/base.z3 g2001:/home/yizhou7/mariposa/ --inplace --delete --relative\n",
      "echo ' 9 / 37 '\n",
      "rsync -avz dbg/a027d8f301 g2001:/home/yizhou7/mariposa/ --inplace --delete --relative\n",
      "rsync -avz data/projs/doubleton_a027d8f301/base.z3 g2001:/home/yizhou7/mariposa/ --inplace --delete --relative\n",
      "rsync -avz data/dbs/doubleton_a027d8f301/base.z3 g2001:/home/yizhou7/mariposa/ --inplace --delete --relative\n",
      "rsync -avz data/projs/doubleton_a027d8f301.filtered/base.z3 g2001:/home/yizhou7/mariposa/ --inplace --delete --relative\n",
      "rsync -avz data/dbs/doubleton_a027d8f301.filtered/base.z3 g2001:/home/yizhou7/mariposa/ --inplace --delete --relative\n",
      "echo ' 10 / 37 '\n",
      "rsync -avz dbg/1f96205287 g2001:/home/yizhou7/mariposa/ --inplace --delete --relative\n",
      "rsync -avz data/projs/doubleton_1f96205287/base.z3 g2001:/home/yizhou7/mariposa/ --inplace --delete --relative\n",
      "rsync -avz data/dbs/doubleton_1f96205287/base.z3 g2001:/home/yizhou7/mariposa/ --inplace --delete --relative\n",
      "rsync -avz data/projs/doubleton_1f96205287.filtered/base.z3 g2001:/home/yizhou7/mariposa/ --inplace --delete --relative\n",
      "rsync -avz data/dbs/doubleton_1f96205287.filtered/base.z3 g2001:/home/yizhou7/mariposa/ --inplace --delete --relative\n",
      "echo ' 11 / 37 '\n",
      "rsync -avz dbg/297c8f2526 g2001:/home/yizhou7/mariposa/ --inplace --delete --relative\n",
      "rsync -avz data/projs/doubleton_297c8f2526/base.z3 g2001:/home/yizhou7/mariposa/ --inplace --delete --relative\n",
      "rsync -avz data/dbs/doubleton_297c8f2526/base.z3 g2001:/home/yizhou7/mariposa/ --inplace --delete --relative\n",
      "rsync -avz data/projs/doubleton_297c8f2526.filtered/base.z3 g2001:/home/yizhou7/mariposa/ --inplace --delete --relative\n",
      "rsync -avz data/dbs/doubleton_297c8f2526.filtered/base.z3 g2001:/home/yizhou7/mariposa/ --inplace --delete --relative\n",
      "echo ' 12 / 37 '\n",
      "rsync -avz dbg/cb9ff97970 g2001:/home/yizhou7/mariposa/ --inplace --delete --relative\n",
      "rsync -avz data/projs/doubleton_cb9ff97970/base.z3 g2001:/home/yizhou7/mariposa/ --inplace --delete --relative\n",
      "rsync -avz data/dbs/doubleton_cb9ff97970/base.z3 g2001:/home/yizhou7/mariposa/ --inplace --delete --relative\n",
      "rsync -avz data/projs/doubleton_cb9ff97970.filtered/base.z3 g2001:/home/yizhou7/mariposa/ --inplace --delete --relative\n",
      "rsync -avz data/dbs/doubleton_cb9ff97970.filtered/base.z3 g2001:/home/yizhou7/mariposa/ --inplace --delete --relative\n",
      "echo ' 13 / 37 '\n",
      "rsync -avz dbg/b837e52d8b g2001:/home/yizhou7/mariposa/ --inplace --delete --relative\n",
      "rsync -avz data/projs/doubleton_b837e52d8b/base.z3 g2001:/home/yizhou7/mariposa/ --inplace --delete --relative\n",
      "rsync -avz data/dbs/doubleton_b837e52d8b/base.z3 g2001:/home/yizhou7/mariposa/ --inplace --delete --relative\n",
      "rsync -avz data/projs/doubleton_b837e52d8b.filtered/base.z3 g2001:/home/yizhou7/mariposa/ --inplace --delete --relative\n",
      "rsync -avz data/dbs/doubleton_b837e52d8b.filtered/base.z3 g2001:/home/yizhou7/mariposa/ --inplace --delete --relative\n",
      "echo ' 14 / 37 '\n",
      "rsync -avz dbg/74e1d044a1 g2001:/home/yizhou7/mariposa/ --inplace --delete --relative\n",
      "rsync -avz data/projs/doubleton_74e1d044a1/base.z3 g2001:/home/yizhou7/mariposa/ --inplace --delete --relative\n",
      "rsync -avz data/dbs/doubleton_74e1d044a1/base.z3 g2001:/home/yizhou7/mariposa/ --inplace --delete --relative\n",
      "rsync -avz data/projs/doubleton_74e1d044a1.filtered/base.z3 g2001:/home/yizhou7/mariposa/ --inplace --delete --relative\n",
      "rsync -avz data/dbs/doubleton_74e1d044a1.filtered/base.z3 g2001:/home/yizhou7/mariposa/ --inplace --delete --relative\n",
      "echo ' 15 / 37 '\n",
      "rsync -avz dbg/26cc7a44c8 g2001:/home/yizhou7/mariposa/ --inplace --delete --relative\n",
      "rsync -avz data/projs/doubleton_26cc7a44c8/base.z3 g2001:/home/yizhou7/mariposa/ --inplace --delete --relative\n",
      "rsync -avz data/dbs/doubleton_26cc7a44c8/base.z3 g2001:/home/yizhou7/mariposa/ --inplace --delete --relative\n",
      "rsync -avz data/projs/doubleton_26cc7a44c8.filtered/base.z3 g2001:/home/yizhou7/mariposa/ --inplace --delete --relative\n",
      "rsync -avz data/dbs/doubleton_26cc7a44c8.filtered/base.z3 g2001:/home/yizhou7/mariposa/ --inplace --delete --relative\n",
      "echo ' 16 / 37 '\n",
      "rsync -avz dbg/81f604e545 g2001:/home/yizhou7/mariposa/ --inplace --delete --relative\n",
      "rsync -avz data/projs/doubleton_81f604e545/base.z3 g2001:/home/yizhou7/mariposa/ --inplace --delete --relative\n",
      "rsync -avz data/dbs/doubleton_81f604e545/base.z3 g2001:/home/yizhou7/mariposa/ --inplace --delete --relative\n",
      "rsync -avz data/projs/doubleton_81f604e545.filtered/base.z3 g2001:/home/yizhou7/mariposa/ --inplace --delete --relative\n",
      "rsync -avz data/dbs/doubleton_81f604e545.filtered/base.z3 g2001:/home/yizhou7/mariposa/ --inplace --delete --relative\n",
      "echo ' 17 / 37 '\n",
      "rsync -avz dbg/3b1c756824 g2001:/home/yizhou7/mariposa/ --inplace --delete --relative\n",
      "rsync -avz data/projs/doubleton_3b1c756824/base.z3 g2001:/home/yizhou7/mariposa/ --inplace --delete --relative\n",
      "rsync -avz data/dbs/doubleton_3b1c756824/base.z3 g2001:/home/yizhou7/mariposa/ --inplace --delete --relative\n",
      "rsync -avz data/projs/doubleton_3b1c756824.filtered/base.z3 g2001:/home/yizhou7/mariposa/ --inplace --delete --relative\n",
      "rsync -avz data/dbs/doubleton_3b1c756824.filtered/base.z3 g2001:/home/yizhou7/mariposa/ --inplace --delete --relative\n",
      "echo ' 18 / 37 '\n",
      "rsync -avz dbg/50e9564b05 g2001:/home/yizhou7/mariposa/ --inplace --delete --relative\n",
      "rsync -avz data/projs/doubleton_50e9564b05/base.z3 g2001:/home/yizhou7/mariposa/ --inplace --delete --relative\n",
      "rsync -avz data/dbs/doubleton_50e9564b05/base.z3 g2001:/home/yizhou7/mariposa/ --inplace --delete --relative\n",
      "rsync -avz data/projs/doubleton_50e9564b05.filtered/base.z3 g2001:/home/yizhou7/mariposa/ --inplace --delete --relative\n",
      "rsync -avz data/dbs/doubleton_50e9564b05.filtered/base.z3 g2001:/home/yizhou7/mariposa/ --inplace --delete --relative\n",
      "echo ' 19 / 37 '\n",
      "rsync -avz dbg/b100de24e1 g2001:/home/yizhou7/mariposa/ --inplace --delete --relative\n",
      "rsync -avz data/projs/doubleton_b100de24e1/base.z3 g2001:/home/yizhou7/mariposa/ --inplace --delete --relative\n",
      "rsync -avz data/dbs/doubleton_b100de24e1/base.z3 g2001:/home/yizhou7/mariposa/ --inplace --delete --relative\n",
      "rsync -avz data/projs/doubleton_b100de24e1.filtered/base.z3 g2001:/home/yizhou7/mariposa/ --inplace --delete --relative\n",
      "rsync -avz data/dbs/doubleton_b100de24e1.filtered/base.z3 g2001:/home/yizhou7/mariposa/ --inplace --delete --relative\n",
      "echo ' 20 / 37 '\n",
      "rsync -avz dbg/443cdbaf14 g2001:/home/yizhou7/mariposa/ --inplace --delete --relative\n",
      "rsync -avz data/projs/doubleton_443cdbaf14/base.z3 g2001:/home/yizhou7/mariposa/ --inplace --delete --relative\n",
      "rsync -avz data/dbs/doubleton_443cdbaf14/base.z3 g2001:/home/yizhou7/mariposa/ --inplace --delete --relative\n",
      "rsync -avz data/projs/doubleton_443cdbaf14.filtered/base.z3 g2001:/home/yizhou7/mariposa/ --inplace --delete --relative\n",
      "rsync -avz data/dbs/doubleton_443cdbaf14.filtered/base.z3 g2001:/home/yizhou7/mariposa/ --inplace --delete --relative\n",
      "echo ' 21 / 37 '\n",
      "rsync -avz dbg/751af3ffba g2001:/home/yizhou7/mariposa/ --inplace --delete --relative\n",
      "rsync -avz data/projs/doubleton_751af3ffba/base.z3 g2001:/home/yizhou7/mariposa/ --inplace --delete --relative\n",
      "rsync -avz data/dbs/doubleton_751af3ffba/base.z3 g2001:/home/yizhou7/mariposa/ --inplace --delete --relative\n",
      "rsync -avz data/projs/doubleton_751af3ffba.filtered/base.z3 g2001:/home/yizhou7/mariposa/ --inplace --delete --relative\n",
      "rsync -avz data/dbs/doubleton_751af3ffba.filtered/base.z3 g2001:/home/yizhou7/mariposa/ --inplace --delete --relative\n",
      "echo ' 22 / 37 '\n",
      "rsync -avz dbg/ba85c910da g2001:/home/yizhou7/mariposa/ --inplace --delete --relative\n",
      "rsync -avz data/projs/doubleton_ba85c910da/base.z3 g2001:/home/yizhou7/mariposa/ --inplace --delete --relative\n",
      "rsync -avz data/dbs/doubleton_ba85c910da/base.z3 g2001:/home/yizhou7/mariposa/ --inplace --delete --relative\n",
      "rsync -avz data/projs/doubleton_ba85c910da.filtered/base.z3 g2001:/home/yizhou7/mariposa/ --inplace --delete --relative\n",
      "rsync -avz data/dbs/doubleton_ba85c910da.filtered/base.z3 g2001:/home/yizhou7/mariposa/ --inplace --delete --relative\n",
      "echo ' 23 / 37 '\n",
      "rsync -avz dbg/72a2c42fee g2001:/home/yizhou7/mariposa/ --inplace --delete --relative\n",
      "rsync -avz data/projs/doubleton_72a2c42fee/base.z3 g2001:/home/yizhou7/mariposa/ --inplace --delete --relative\n",
      "rsync -avz data/dbs/doubleton_72a2c42fee/base.z3 g2001:/home/yizhou7/mariposa/ --inplace --delete --relative\n",
      "rsync -avz data/projs/doubleton_72a2c42fee.filtered/base.z3 g2001:/home/yizhou7/mariposa/ --inplace --delete --relative\n",
      "rsync -avz data/dbs/doubleton_72a2c42fee.filtered/base.z3 g2001:/home/yizhou7/mariposa/ --inplace --delete --relative\n",
      "echo ' 24 / 37 '\n",
      "rsync -avz dbg/786d3d1ed6 g2001:/home/yizhou7/mariposa/ --inplace --delete --relative\n",
      "rsync -avz data/projs/doubleton_786d3d1ed6/base.z3 g2001:/home/yizhou7/mariposa/ --inplace --delete --relative\n",
      "rsync -avz data/dbs/doubleton_786d3d1ed6/base.z3 g2001:/home/yizhou7/mariposa/ --inplace --delete --relative\n",
      "rsync -avz data/projs/doubleton_786d3d1ed6.filtered/base.z3 g2001:/home/yizhou7/mariposa/ --inplace --delete --relative\n",
      "rsync -avz data/dbs/doubleton_786d3d1ed6.filtered/base.z3 g2001:/home/yizhou7/mariposa/ --inplace --delete --relative\n",
      "echo ' 25 / 37 '\n",
      "rsync -avz dbg/422a6c0817 g2001:/home/yizhou7/mariposa/ --inplace --delete --relative\n",
      "rsync -avz data/projs/doubleton_422a6c0817/base.z3 g2001:/home/yizhou7/mariposa/ --inplace --delete --relative\n",
      "rsync -avz data/dbs/doubleton_422a6c0817/base.z3 g2001:/home/yizhou7/mariposa/ --inplace --delete --relative\n",
      "rsync -avz data/projs/doubleton_422a6c0817.filtered/base.z3 g2001:/home/yizhou7/mariposa/ --inplace --delete --relative\n",
      "rsync -avz data/dbs/doubleton_422a6c0817.filtered/base.z3 g2001:/home/yizhou7/mariposa/ --inplace --delete --relative\n",
      "echo ' 26 / 37 '\n",
      "rsync -avz dbg/266488af24 g2001:/home/yizhou7/mariposa/ --inplace --delete --relative\n",
      "rsync -avz data/projs/doubleton_266488af24/base.z3 g2001:/home/yizhou7/mariposa/ --inplace --delete --relative\n",
      "rsync -avz data/dbs/doubleton_266488af24/base.z3 g2001:/home/yizhou7/mariposa/ --inplace --delete --relative\n",
      "rsync -avz data/projs/doubleton_266488af24.filtered/base.z3 g2001:/home/yizhou7/mariposa/ --inplace --delete --relative\n",
      "rsync -avz data/dbs/doubleton_266488af24.filtered/base.z3 g2001:/home/yizhou7/mariposa/ --inplace --delete --relative\n",
      "echo ' 27 / 37 '\n",
      "rsync -avz dbg/1996525606 g2001:/home/yizhou7/mariposa/ --inplace --delete --relative\n",
      "rsync -avz data/projs/doubleton_1996525606/base.z3 g2001:/home/yizhou7/mariposa/ --inplace --delete --relative\n",
      "rsync -avz data/dbs/doubleton_1996525606/base.z3 g2001:/home/yizhou7/mariposa/ --inplace --delete --relative\n",
      "rsync -avz data/projs/doubleton_1996525606.filtered/base.z3 g2001:/home/yizhou7/mariposa/ --inplace --delete --relative\n",
      "rsync -avz data/dbs/doubleton_1996525606.filtered/base.z3 g2001:/home/yizhou7/mariposa/ --inplace --delete --relative\n",
      "echo ' 28 / 37 '\n",
      "rsync -avz dbg/fa733ab6d6 g2001:/home/yizhou7/mariposa/ --inplace --delete --relative\n",
      "rsync -avz data/projs/doubleton_fa733ab6d6/base.z3 g2001:/home/yizhou7/mariposa/ --inplace --delete --relative\n",
      "rsync -avz data/dbs/doubleton_fa733ab6d6/base.z3 g2001:/home/yizhou7/mariposa/ --inplace --delete --relative\n",
      "rsync -avz data/projs/doubleton_fa733ab6d6.filtered/base.z3 g2001:/home/yizhou7/mariposa/ --inplace --delete --relative\n",
      "rsync -avz data/dbs/doubleton_fa733ab6d6.filtered/base.z3 g2001:/home/yizhou7/mariposa/ --inplace --delete --relative\n",
      "echo ' 29 / 37 '\n",
      "rsync -avz dbg/6d5603f1e4 g2001:/home/yizhou7/mariposa/ --inplace --delete --relative\n",
      "rsync -avz data/projs/doubleton_6d5603f1e4/base.z3 g2001:/home/yizhou7/mariposa/ --inplace --delete --relative\n",
      "rsync -avz data/dbs/doubleton_6d5603f1e4/base.z3 g2001:/home/yizhou7/mariposa/ --inplace --delete --relative\n",
      "rsync -avz data/projs/doubleton_6d5603f1e4.filtered/base.z3 g2001:/home/yizhou7/mariposa/ --inplace --delete --relative\n",
      "rsync -avz data/dbs/doubleton_6d5603f1e4.filtered/base.z3 g2001:/home/yizhou7/mariposa/ --inplace --delete --relative\n",
      "echo ' 30 / 37 '\n",
      "rsync -avz dbg/868d0bf364 g2001:/home/yizhou7/mariposa/ --inplace --delete --relative\n",
      "rsync -avz data/projs/doubleton_868d0bf364/base.z3 g2001:/home/yizhou7/mariposa/ --inplace --delete --relative\n",
      "rsync -avz data/dbs/doubleton_868d0bf364/base.z3 g2001:/home/yizhou7/mariposa/ --inplace --delete --relative\n",
      "rsync -avz data/projs/doubleton_868d0bf364.filtered/base.z3 g2001:/home/yizhou7/mariposa/ --inplace --delete --relative\n",
      "rsync -avz data/dbs/doubleton_868d0bf364.filtered/base.z3 g2001:/home/yizhou7/mariposa/ --inplace --delete --relative\n",
      "echo ' 31 / 37 '\n",
      "rsync -avz dbg/7b0fbd9a55 g2001:/home/yizhou7/mariposa/ --inplace --delete --relative\n",
      "rsync -avz data/projs/doubleton_7b0fbd9a55/base.z3 g2001:/home/yizhou7/mariposa/ --inplace --delete --relative\n",
      "rsync -avz data/dbs/doubleton_7b0fbd9a55/base.z3 g2001:/home/yizhou7/mariposa/ --inplace --delete --relative\n",
      "rsync -avz data/projs/doubleton_7b0fbd9a55.filtered/base.z3 g2001:/home/yizhou7/mariposa/ --inplace --delete --relative\n",
      "rsync -avz data/dbs/doubleton_7b0fbd9a55.filtered/base.z3 g2001:/home/yizhou7/mariposa/ --inplace --delete --relative\n",
      "echo ' 32 / 37 '\n",
      "rsync -avz dbg/9adbe2e346 g2001:/home/yizhou7/mariposa/ --inplace --delete --relative\n",
      "rsync -avz data/projs/doubleton_9adbe2e346/base.z3 g2001:/home/yizhou7/mariposa/ --inplace --delete --relative\n",
      "rsync -avz data/dbs/doubleton_9adbe2e346/base.z3 g2001:/home/yizhou7/mariposa/ --inplace --delete --relative\n",
      "rsync -avz data/projs/doubleton_9adbe2e346.filtered/base.z3 g2001:/home/yizhou7/mariposa/ --inplace --delete --relative\n",
      "rsync -avz data/dbs/doubleton_9adbe2e346.filtered/base.z3 g2001:/home/yizhou7/mariposa/ --inplace --delete --relative\n",
      "echo ' 33 / 37 '\n",
      "rsync -avz dbg/39dea8e27a g2001:/home/yizhou7/mariposa/ --inplace --delete --relative\n",
      "rsync -avz data/projs/doubleton_39dea8e27a/base.z3 g2001:/home/yizhou7/mariposa/ --inplace --delete --relative\n",
      "rsync -avz data/dbs/doubleton_39dea8e27a/base.z3 g2001:/home/yizhou7/mariposa/ --inplace --delete --relative\n",
      "rsync -avz data/projs/doubleton_39dea8e27a.filtered/base.z3 g2001:/home/yizhou7/mariposa/ --inplace --delete --relative\n",
      "rsync -avz data/dbs/doubleton_39dea8e27a.filtered/base.z3 g2001:/home/yizhou7/mariposa/ --inplace --delete --relative\n",
      "echo ' 34 / 37 '\n",
      "rsync -avz dbg/4040d2a20b g2001:/home/yizhou7/mariposa/ --inplace --delete --relative\n",
      "rsync -avz data/projs/doubleton_4040d2a20b/base.z3 g2001:/home/yizhou7/mariposa/ --inplace --delete --relative\n",
      "rsync -avz data/dbs/doubleton_4040d2a20b/base.z3 g2001:/home/yizhou7/mariposa/ --inplace --delete --relative\n",
      "rsync -avz data/projs/doubleton_4040d2a20b.filtered/base.z3 g2001:/home/yizhou7/mariposa/ --inplace --delete --relative\n",
      "rsync -avz data/dbs/doubleton_4040d2a20b.filtered/base.z3 g2001:/home/yizhou7/mariposa/ --inplace --delete --relative\n",
      "echo ' 35 / 37 '\n",
      "rsync -avz dbg/0cfa69df01 g2001:/home/yizhou7/mariposa/ --inplace --delete --relative\n",
      "rsync -avz data/projs/doubleton_0cfa69df01/base.z3 g2001:/home/yizhou7/mariposa/ --inplace --delete --relative\n",
      "rsync -avz data/dbs/doubleton_0cfa69df01/base.z3 g2001:/home/yizhou7/mariposa/ --inplace --delete --relative\n",
      "rsync -avz data/projs/doubleton_0cfa69df01.filtered/base.z3 g2001:/home/yizhou7/mariposa/ --inplace --delete --relative\n",
      "rsync -avz data/dbs/doubleton_0cfa69df01.filtered/base.z3 g2001:/home/yizhou7/mariposa/ --inplace --delete --relative\n",
      "echo ' 36 / 37 '\n",
      "rsync -avz dbg/09f0c73516 g2001:/home/yizhou7/mariposa/ --inplace --delete --relative\n",
      "rsync -avz data/projs/doubleton_09f0c73516/base.z3 g2001:/home/yizhou7/mariposa/ --inplace --delete --relative\n",
      "rsync -avz data/dbs/doubleton_09f0c73516/base.z3 g2001:/home/yizhou7/mariposa/ --inplace --delete --relative\n",
      "rsync -avz data/projs/doubleton_09f0c73516.filtered/base.z3 g2001:/home/yizhou7/mariposa/ --inplace --delete --relative\n",
      "rsync -avz data/dbs/doubleton_09f0c73516.filtered/base.z3 g2001:/home/yizhou7/mariposa/ --inplace --delete --relative\n",
      "echo ' 37 / 37 '\n",
      "rsync -avz dbg/ef1ebd5d7d g2001:/home/yizhou7/mariposa/ --inplace --delete --relative\n",
      "rsync -avz data/projs/doubleton_ef1ebd5d7d/base.z3 g2001:/home/yizhou7/mariposa/ --inplace --delete --relative\n",
      "rsync -avz data/dbs/doubleton_ef1ebd5d7d/base.z3 g2001:/home/yizhou7/mariposa/ --inplace --delete --relative\n",
      "rsync -avz data/projs/doubleton_ef1ebd5d7d.filtered/base.z3 g2001:/home/yizhou7/mariposa/ --inplace --delete --relative\n",
      "rsync -avz data/dbs/doubleton_ef1ebd5d7d.filtered/base.z3 g2001:/home/yizhou7/mariposa/ --inplace --delete --relative\n"
     ]
    }
   ],
   "source": [
    "dirs_to_send = []\n",
    "additional = \"\"\n",
    "\n",
    "for q in mv.fixable:\n",
    "    r = mv[q]\n",
    "    if r.name_hash in LIKELY_FIXED:\n",
    "        continue\n",
    "    r.collect_garbage()\n",
    "    dirs_to_send += r.get_dirs_to_sync()\n",
    "    additional += f\"\\\"{r.name_hash}\\\",\\n\"\n",
    "\n",
    "print(additional)\n",
    "\n",
    "for i, d in enumerate(dirs_to_send):\n",
    "    if i % 5 == 0:\n",
    "        print(\"echo '\", (i //5 +1), \"/\", len(dirs_to_send)//5, \"'\")\n",
    "    print(\"rsync -avz\", d, \"g2001:/home/yizhou7/mariposa/\", \"--inplace\", \"--delete\", \"--relative\")"
   ]
  },
  {
   "cell_type": "code",
   "execution_count": 11,
   "metadata": {},
   "outputs": [
    {
     "data": {
      "text/plain": [
       "{'data/projs/bench_unstable/base.z3/d_fvbkv--BlockCacheSystem-JournalRange.i.dfy.Impl__JournalRanges.__default.parseJournalRangeAdditive.smt2',\n",
       " 'data/projs/bench_unstable/base.z3/d_fvbkv--Impl-CoordinationImpl.i.dfy.Impl__CoordinationImpl.__default.insert.smt2',\n",
       " 'data/projs/bench_unstable/base.z3/d_fvbkv--Impl-JournalistMarshallingModel.i.dfy.Impl__JournalistMarshallingModel.__default.parseEntriesFromHasEntriesI.smt2',\n",
       " 'data/projs/bench_unstable/base.z3/d_fvbkv--Impl-MarshallingImpl.i.dfy.Impl__MarshallingImpl.__default.strictlySortedKeySeqToVal.smt2',\n",
       " 'data/projs/bench_unstable/base.z3/d_fvbkv--Impl-QueryImpl.i.dfy.Impl__QueryImpl.__default.queryIterate.smt2',\n",
       " 'data/projs/bench_unstable/base.z3/d_fvbkv--lib-Base-sequences.i.dfy.Impl__Sequences.__default.lemma__concatSeqLen__le__mul.smt2',\n",
       " 'data/projs/bench_unstable/base.z3/d_fvbkv--lib-Buckets-PackedKV.i.dfy.Impl__PackedKV.__default.BinarySearchQuery.smt2',\n",
       " 'data/projs/bench_unstable/base.z3/d_fvbkv--lib-DataStructures-BtreeModel.i.dfy.Impl__BtreeModel.__default.SplitIndexAllKeys.smt2',\n",
       " 'data/projs/bench_unstable/base.z3/d_fvbkv--lib-DataStructures-MutableMapModel.i.dfy.Impl__MutableMapModel.__default.LemmaReallocIterateResult.smt2',\n",
       " 'data/projs/bench_unstable/base.z3/d_komodo--verified-alloc_spare.gen.dfyImpl___module.__default.va__lemma__kom__smc__alloc__spare.smt2',\n",
       " 'data/projs/bench_unstable/base.z3/d_komodo--verified-attest.gen.dfyImpl___module.__default.va__lemma__compute__hmac_split0.smt2',\n",
       " 'data/projs/bench_unstable/base.z3/d_komodo--verified-entry.gen.dfyImpl___module.__default.va__lemma__stack__banked__regs1.smt2',\n",
       " 'data/projs/bench_unstable/base.z3/d_komodo--verified-entry.gen.dfyImpl___module.__default.va__lemma__stack__banked__regs2.smt2',\n",
       " 'data/projs/bench_unstable/base.z3/d_komodo--verified-entry.gen.dfyImpl___module.__default.va__lemma__unstack__banked__regs.smt2',\n",
       " 'data/projs/bench_unstable/base.z3/d_komodo--verified-entry.gen.dfyImpl___module.__default.va__lemma__unstack__banked__regs1.smt2',\n",
       " 'data/projs/bench_unstable/base.z3/d_komodo--verified-entry.gen.dfyImpl___module.__default.va__lemma__unstack__banked__regs2.smt2',\n",
       " 'data/projs/bench_unstable/base.z3/d_komodo--verified-entry.gen.dfyImpl___module.__default.va__lemma__unstack__banked__regs3.smt2',\n",
       " 'data/projs/bench_unstable/base.z3/d_komodo--verified-entry.i.dfyImpl___module.__default.lemma__partialEnclaveExecution__append.smt2',\n",
       " 'data/projs/bench_unstable/base.z3/d_komodo--verified-exception_handlers.gen.dfyImpl___module.__default.va__lemma__abort__handler.smt2',\n",
       " 'data/projs/bench_unstable/base.z3/d_komodo--verified-finalise.gen.dfyImpl___module.__default.va__lemma__kom__smc__finalise.smt2',\n",
       " 'data/projs/bench_unstable/base.z3/d_komodo--verified-init_dispatcher.gen.dfyImpl___module.__default.va__lemma__init__dispatcher__page__zeros.smt2',\n",
       " 'data/projs/bench_unstable/base.z3/d_komodo--verified-map_common.gen.dfyImpl___module.__default.va__lemma__insecure__phys__to__virt.smt2',\n",
       " 'data/projs/bench_unstable/base.z3/d_komodo--verified-sha-sha256-body-16-xx.gen.dfyImpl___module.__default.va__refined__Body__16__XXUnroller.smt2',\n",
       " 'data/projs/bench_unstable/base.z3/d_komodo--verified-svc_handlers.gen.dfyImpl___module.__default.va__lemma__svc__map__data__success.smt2',\n",
       " 'data/projs/bench_unstable/base.z3/d_komodo--verified-verify.gen.dfyImpl___module.__default.va__lemma__svc__returning__verify__inner.smt2',\n",
       " 'data/projs/bench_unstable/base.z3/d_lvbkv--Impl-FlushPolicyImpl.i.dfy.Impl__FlushPolicyImpl.__default.runFlushPolicy.smt2',\n",
       " 'data/projs/bench_unstable/base.z3/d_lvbkv--Impl-MainHandlers.i.dfy.Impl__MainHandlers.__default.SystemRefinesCrashSafeMapInit.smt2',\n",
       " 'data/projs/bench_unstable/base.z3/d_lvbkv--Impl-MarshallingImpl.i.dfy.Impl__MarshallingImpl.__default.strictlySortedPivotsToVal.smt2',\n",
       " 'data/projs/bench_unstable/base.z3/d_lvbkv--MapSpec-TSJMap_Refines_ThreeStateVersionedMap.i.dfy.Impl__TSJMap__Refines__ThreeStateVersionedMap.__default.RefinesReplay.smt2',\n",
       " 'data/projs/bench_unstable/base.z3/d_lvbkv--PivotBetree-PivotBetreeSpecRefinement.i.dfy.Impl__PivotBetreeSpecRefinement.__default.RefinesValidSplit.smt2',\n",
       " 'data/projs/bench_unstable/base.z3/d_lvbkv--lib-Buckets-PackedKV.i.dfy.Impl__DynamicPkv.__default.MergeToOneChild.smt2',\n",
       " 'data/projs/bench_unstable/base.z3/d_lvbkv--lib-Buckets-PackedStringArray.i.dfy.Impl__PackedStringArray.__default.WFpsaSubSeq.smt2',\n",
       " 'data/projs/bench_unstable/base.z3/d_lvbkv--lib-Buckets-PackedStringArray.i.dfy.Impl__PackedStringArray.__default.psaCanAppendI.smt2',\n",
       " 'data/projs/bench_unstable/base.z3/fs_dice--queries-L0.Impl.Certificate-14.smt2',\n",
       " 'data/projs/bench_unstable/base.z3/fs_dice--queries-L0.X509.DeviceIDCRI-12.smt2',\n",
       " 'data/projs/bench_unstable/base.z3/fs_dice--queries-L0.X509.DeviceIDCRI-18.smt2'}"
      ]
     },
     "execution_count": 11,
     "metadata": {},
     "output_type": "execute_result"
    }
   ],
   "source": [
    "mv.fixable"
   ]
  },
  {
   "cell_type": "code",
   "execution_count": null,
   "metadata": {},
   "outputs": [],
   "source": []
  }
 ],
 "metadata": {
  "kernelspec": {
   "display_name": "Python 3",
   "language": "python",
   "name": "python3"
  },
  "language_info": {
   "codemirror_mode": {
    "name": "ipython",
    "version": 3
   },
   "file_extension": ".py",
   "mimetype": "text/x-python",
   "name": "python",
   "nbconvert_exporter": "python",
   "pygments_lexer": "ipython3",
   "version": "3.8.10"
  }
 },
 "nbformat": 4,
 "nbformat_minor": 2
}
