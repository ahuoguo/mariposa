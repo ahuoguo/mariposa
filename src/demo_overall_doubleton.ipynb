{
 "cells": [
  {
   "cell_type": "code",
   "execution_count": 1,
   "metadata": {},
   "outputs": [],
   "source": [
    "import sys, os\n",
    "\n",
    "MARIPOSA_PATH = \"/home/yizhou7/mariposa/\"\n",
    "\n",
    "sys.path.append(MARIPOSA_PATH + \"src\")\n",
    "os.chdir(MARIPOSA_PATH)\n",
    "\n",
    "from debugger.tree_node import NodeRef\n",
    "from evaluator import BenchViewer, Evaluator\n",
    "from debugger.debugger import Debugger3\n",
    "from eval_carver import CarverStatus\n",
    "from benchmark_consts import *\n",
    "from utils.system_utils import list_smt2_files, get_name_hash\n",
    "from debugger.mutant_info import TraceFailure\n",
    "from evaluator import DbgMode"
   ]
  },
  {
   "cell_type": "code",
   "execution_count": 2,
   "metadata": {},
   "outputs": [],
   "source": [
    "mv = BenchViewer(DOUBLETON_TARGETS, DbgMode.DOUBLETON)"
   ]
  },
  {
   "cell_type": "code",
   "execution_count": 3,
   "metadata": {},
   "outputs": [
    {
     "name": "stdout",
     "output_type": "stream",
     "text": [
      "| category                 |   count | percentage   |\n",
      "|--------------------------|---------|--------------|\n",
      "| CarverStatus.FINISHED    |      76 | 57.58 %      |\n",
      "| CarverStatus.NOT_TESTED  |      36 | 27.27 %      |\n",
      "| CarverStatus.NOT_CREATED |      20 | 15.15 %      |\n",
      "| total                    |     132 | 100.00 %     |\n"
     ]
    }
   ],
   "source": [
    "mv.status.print_status()"
   ]
  },
  {
   "cell_type": "code",
   "execution_count": null,
   "metadata": {},
   "outputs": [],
   "source": [
    "for q in mv.status[CarverStatus.NO_PROOF]:\n",
    "    print(q)"
   ]
  },
  {
   "cell_type": "code",
   "execution_count": 5,
   "metadata": {},
   "outputs": [],
   "source": [
    "for q in mv.status[CarverStatus.ERROR]:\n",
    "    print(\"./src/evaluator.py --mode doubleton --reset -i\", q)"
   ]
  },
  {
   "cell_type": "code",
   "execution_count": 4,
   "metadata": {},
   "outputs": [
    {
     "name": "stdout",
     "output_type": "stream",
     "text": [
      "./src/evaluator.py --mode doubleton --create -i data/projs/bench_unstable/base.z3/d_komodo--verified-verify.gen.dfyImpl___module.__default.va__lemma__svc__returning__verify__inner_k.smt2\n",
      "./src/evaluator.py --mode doubleton --create -i data/projs/bench_unstable/base.z3/d_komodo--verified-allocate_page.gen.dfyImpl___module.__default.va__lemma__allocate__page__success.smt2\n",
      "./src/evaluator.py --mode doubleton --create -i data/projs/bench_unstable/base.z3/d_komodo--verified-map_common.gen.dfyImpl___module.__default.va__lemma__init__secure__page.smt2\n",
      "./src/evaluator.py --mode doubleton --create -i data/projs/bench_unstable/base.z3/d_fvbkv--Impl-HandleWriteResponseImpl.i.dfy.Impl__HandleWriteResponseImpl.__default.writeResponse.smt2\n",
      "./src/evaluator.py --mode doubleton --create -i data/projs/bench_unstable/base.z3/fs_dice--queries-L0.X509.DeviceIDCRI.Subject-12.smt2\n",
      "./src/evaluator.py --mode doubleton --create -i data/projs/bench_unstable/base.z3/d_komodo--verified-svc_handlers.gen.dfyImpl___module.__default.va__lemma__svc__unmap__data__success.smt2\n",
      "./src/evaluator.py --mode doubleton --create -i data/projs/bench_unstable/base.z3/d_komodo--verified-map_common.gen.dfyImpl___module.__default.va__lemma__is__valid__mapping__target.smt2\n",
      "./src/evaluator.py --mode doubleton --create -i data/projs/bench_unstable/base.z3/d_lvbkv--Impl-QueryImpl.i.dfy.Impl__QueryImpl.__default.queryIterate.smt2\n",
      "./src/evaluator.py --mode doubleton --create -i data/projs/bench_unstable/base.z3/d_fvbkv--Impl-DeallocImpl.i.dfy.Impl__DeallocImpl.__default.Dealloc.smt2\n",
      "./src/evaluator.py --mode doubleton --create -i data/projs/bench_unstable/base.z3/d_fvbkv--lib-DataStructures-MutableBtree.i.dfy.Impl__MutableBtree.__default.SplitChildOfIndex.smt2\n",
      "./src/evaluator.py --mode doubleton --create -i data/projs/bench_unstable/base.z3/d_fvbkv--Impl-IndirectionTableImpl.i.dfy.Impl__IndirectionTableImpl.IndirectionTable.ComputeRefCounts.smt2\n",
      "./src/evaluator.py --mode doubleton --create -i data/projs/bench_unstable/base.z3/d_komodo--verified-svc_handlers.gen.dfyImpl___module.__default.va__lemma__existing__va__ok.smt2\n",
      "./src/evaluator.py --mode doubleton --create -i data/projs/bench_unstable/base.z3/d_komodo--verified-exception_handlers.gen.dfyCheckWellformed___module.__default.va__lemma__save__disp__context__helper.smt2\n",
      "./src/evaluator.py --mode doubleton --create -i data/projs/bench_unstable/base.z3/d_komodo--verified-svc_handlers.gen.dfyImpl___module.__default.lemma__svc__returning__verify__step0__helper.smt2\n",
      "./src/evaluator.py --mode doubleton --create -i data/projs/bench_unstable/base.z3/d_lvbkv--lib-DataStructures-BtreeModel.i.dfy.Impl__BtreeModel.__default.InsertLeafIsCorrect.smt2\n",
      "./src/evaluator.py --mode doubleton --create -i data/projs/bench_unstable/base.z3/d_komodo--verified-exception_handlers.gen.dfyImpl___module.__default.va__lemma__save__disp__context.smt2\n",
      "./src/evaluator.py --mode doubleton --create -i data/projs/bench_unstable/base.z3/d_komodo--verified-smc_handler.gen.dfyImpl___module.__default.va__lemma__smc__handler__inner.smt2\n",
      "./src/evaluator.py --mode doubleton --create -i data/projs/bench_unstable/base.z3/d_komodo--verified-map_common.gen.dfyImpl___module.__default.va__lemma__is__valid__mapping__target_k.smt2\n",
      "./src/evaluator.py --mode doubleton --create -i data/projs/bench_unstable/base.z3/d_lvbkv--Impl-SplitModel.i.dfy.Impl__SplitModel.__default.doSplitCorrect.smt2\n",
      "./src/evaluator.py --mode doubleton --create -i data/projs/bench_unstable/base.z3/d_lvbkv--MapSpec-TSJ.i.dfy.Impl__TSJ.__default.Move2to3StepPreservesInv.smt2\n"
     ]
    }
   ],
   "source": [
    "for q in mv.status[CarverStatus.NOT_CREATED]:\n",
    "    print(\"./src/evaluator.py --mode doubleton --create -i\", q)"
   ]
  },
  {
   "cell_type": "code",
   "execution_count": 6,
   "metadata": {},
   "outputs": [
    {
     "name": "stdout",
     "output_type": "stream",
     "text": [
      "python3 src/carve_and_rerun.py data/projs/doubleton_422a6c0817/base.z3\n",
      "python3 src/carve_and_rerun.py data/projs/doubleton_39dea8e27a/base.z3\n",
      "python3 src/carve_and_rerun.py data/projs/doubleton_c8498ec17a/base.z3\n",
      "python3 src/carve_and_rerun.py data/projs/doubleton_ef84a89ec9/base.z3\n",
      "python3 src/carve_and_rerun.py data/projs/doubleton_695f604e3c/base.z3\n",
      "python3 src/carve_and_rerun.py data/projs/doubleton_751af3ffba/base.z3\n",
      "python3 src/carve_and_rerun.py data/projs/doubleton_b837e52d8b/base.z3\n",
      "python3 src/carve_and_rerun.py data/projs/doubleton_298f3245ca/base.z3\n",
      "python3 src/carve_and_rerun.py data/projs/doubleton_12c7d523b1/base.z3\n",
      "python3 src/carve_and_rerun.py data/projs/doubleton_1de7054a37/base.z3\n",
      "python3 src/carve_and_rerun.py data/projs/doubleton_7f97f9269e/base.z3\n",
      "python3 src/carve_and_rerun.py data/projs/doubleton_50e9564b05/base.z3\n",
      "python3 src/carve_and_rerun.py data/projs/doubleton_5af6d28737/base.z3\n",
      "python3 src/carve_and_rerun.py data/projs/doubleton_c83a6af781/base.z3\n",
      "python3 src/carve_and_rerun.py data/projs/doubleton_b231954c65/base.z3\n",
      "python3 src/carve_and_rerun.py data/projs/doubleton_488737f5fe/base.z3\n",
      "python3 src/carve_and_rerun.py data/projs/doubleton_2211f3ba76/base.z3\n",
      "python3 src/carve_and_rerun.py data/projs/doubleton_4040d2a20b/base.z3\n",
      "python3 src/carve_and_rerun.py data/projs/doubleton_81f604e545/base.z3\n",
      "python3 src/carve_and_rerun.py data/projs/doubleton_c3e7d9e76e/base.z3\n",
      "python3 src/carve_and_rerun.py data/projs/doubleton_3e5ee53876/base.z3\n",
      "python3 src/carve_and_rerun.py data/projs/doubleton_1afa5361f7/base.z3\n",
      "python3 src/carve_and_rerun.py data/projs/doubleton_6a7bc24676/base.z3\n",
      "python3 src/carve_and_rerun.py data/projs/doubleton_cb9ff97970/base.z3\n",
      "python3 src/carve_and_rerun.py data/projs/doubleton_f6db5998ec/base.z3\n",
      "python3 src/carve_and_rerun.py data/projs/doubleton_9bfdf36ae8/base.z3\n",
      "python3 src/carve_and_rerun.py data/projs/doubleton_b6a7ecec0e/base.z3\n",
      "python3 src/carve_and_rerun.py data/projs/doubleton_5fbc06f886/base.z3\n",
      "python3 src/carve_and_rerun.py data/projs/doubleton_82f91d0d6f/base.z3\n",
      "python3 src/carve_and_rerun.py data/projs/doubleton_0cce886818/base.z3\n",
      "python3 src/carve_and_rerun.py data/projs/doubleton_cb725a5d7b/base.z3\n",
      "python3 src/carve_and_rerun.py data/projs/doubleton_b6e82319b9/base.z3\n",
      "python3 src/carve_and_rerun.py data/projs/doubleton_b100de24e1/base.z3\n",
      "python3 src/carve_and_rerun.py data/projs/doubleton_5d39862f72/base.z3\n",
      "python3 src/carve_and_rerun.py data/projs/doubleton_d619135268/base.z3\n",
      "python3 src/carve_and_rerun.py data/projs/doubleton_a9ba4f3553/base.z3\n"
     ]
    }
   ],
   "source": [
    "for q in mv.status[CarverStatus.NOT_TESTED]:\n",
    "# for q in mv.status[DebuggerStatus.FILTERED_NOT_RAN]:\n",
    "    if len(list_smt2_files(mv[q].carver.test_dir)) == 0:\n",
    "        print(\"./src/evaluator.py --mode doubleton --reset -i\", q)\n",
    "    print(\"python3 src/carve_and_rerun.py\", mv[q].carver.test_dir)"
   ]
  },
  {
   "cell_type": "code",
   "execution_count": 6,
   "metadata": {},
   "outputs": [
    {
     "name": "stdout",
     "output_type": "stream",
     "text": [
      "25\n"
     ]
    }
   ],
   "source": [
    "print(len(mv.fixable))\n",
    "# print(len(mv.fixable)/len(mv.status[CarverStatus.FINISHED]))"
   ]
  },
  {
   "cell_type": "code",
   "execution_count": 5,
   "metadata": {},
   "outputs": [
    {
     "name": "stdout",
     "output_type": "stream",
     "text": [
      "\"95fa9421b7\",\n",
      "\"8031fd6ec8\",\n",
      "\"afa9016fd6\",\n",
      "\"2362f78e4b\",\n",
      "\n",
      "echo ' 1 / 4 '\n",
      "rsync -avz dbg/95fa9421b7 g2001:/home/yizhou7/mariposa/ --inplace --delete --relative\n",
      "rsync -avz data/projs/singleton_95fa9421b7/base.z3 g2001:/home/yizhou7/mariposa/ --inplace --delete --relative\n",
      "rsync -avz data/dbs/singleton_95fa9421b7/base.z3 g2001:/home/yizhou7/mariposa/ --inplace --delete --relative\n",
      "rsync -avz data/projs/singleton_95fa9421b7.filtered/base.z3 g2001:/home/yizhou7/mariposa/ --inplace --delete --relative\n",
      "rsync -avz data/dbs/singleton_95fa9421b7.filtered/base.z3 g2001:/home/yizhou7/mariposa/ --inplace --delete --relative\n",
      "echo ' 2 / 4 '\n",
      "rsync -avz dbg/8031fd6ec8 g2001:/home/yizhou7/mariposa/ --inplace --delete --relative\n",
      "rsync -avz data/projs/singleton_8031fd6ec8/base.z3 g2001:/home/yizhou7/mariposa/ --inplace --delete --relative\n",
      "rsync -avz data/dbs/singleton_8031fd6ec8/base.z3 g2001:/home/yizhou7/mariposa/ --inplace --delete --relative\n",
      "rsync -avz data/projs/singleton_8031fd6ec8.filtered/base.z3 g2001:/home/yizhou7/mariposa/ --inplace --delete --relative\n",
      "rsync -avz data/dbs/singleton_8031fd6ec8.filtered/base.z3 g2001:/home/yizhou7/mariposa/ --inplace --delete --relative\n",
      "echo ' 3 / 4 '\n",
      "rsync -avz dbg/afa9016fd6 g2001:/home/yizhou7/mariposa/ --inplace --delete --relative\n",
      "rsync -avz data/projs/singleton_afa9016fd6/base.z3 g2001:/home/yizhou7/mariposa/ --inplace --delete --relative\n",
      "rsync -avz data/dbs/singleton_afa9016fd6/base.z3 g2001:/home/yizhou7/mariposa/ --inplace --delete --relative\n",
      "rsync -avz data/projs/singleton_afa9016fd6.filtered/base.z3 g2001:/home/yizhou7/mariposa/ --inplace --delete --relative\n",
      "rsync -avz data/dbs/singleton_afa9016fd6.filtered/base.z3 g2001:/home/yizhou7/mariposa/ --inplace --delete --relative\n",
      "echo ' 4 / 4 '\n",
      "rsync -avz dbg/2362f78e4b g2001:/home/yizhou7/mariposa/ --inplace --delete --relative\n",
      "rsync -avz data/projs/singleton_2362f78e4b/base.z3 g2001:/home/yizhou7/mariposa/ --inplace --delete --relative\n",
      "rsync -avz data/dbs/singleton_2362f78e4b/base.z3 g2001:/home/yizhou7/mariposa/ --inplace --delete --relative\n",
      "rsync -avz data/projs/singleton_2362f78e4b.filtered/base.z3 g2001:/home/yizhou7/mariposa/ --inplace --delete --relative\n",
      "rsync -avz data/dbs/singleton_2362f78e4b.filtered/base.z3 g2001:/home/yizhou7/mariposa/ --inplace --delete --relative\n"
     ]
    }
   ],
   "source": [
    "dirs_to_send = []\n",
    "additional = \"\"\n",
    "\n",
    "for q in mv.fixable:\n",
    "    r = mv[q]\n",
    "    if r.name_hash in LIKELY_FIXED:\n",
    "        continue\n",
    "    r.collect_garbage()\n",
    "    dirs_to_send += r.get_dirs_to_sync()\n",
    "    additional += f\"\\\"{r.name_hash}\\\",\\n\"\n",
    "\n",
    "print(additional)\n",
    "\n",
    "for i, d in enumerate(dirs_to_send):\n",
    "    if i % 5 == 0:\n",
    "        print(\"echo '\", (i //5 +1), \"/\", len(dirs_to_send)//5, \"'\")\n",
    "    print(\"rsync -avz\", d, \"g2001:/home/yizhou7/mariposa/\", \"--inplace\", \"--delete\", \"--relative\")"
   ]
  },
  {
   "cell_type": "code",
   "execution_count": 7,
   "metadata": {},
   "outputs": [],
   "source": [
    "from eval_carver import CarverStatus\n",
    "from utils.analysis_utils import Categorizer\n",
    "\n",
    "f_modes = Categorizer()\n",
    "\n",
    "for query in mv.unfixable | mv.status[CarverStatus.NOT_TESTED].items | mv.status[CarverStatus.NOT_CREATED].items:\n",
    "    rev: Evaluator = mv[query]\n",
    "    mi = rev.get_trace_info()\n",
    "    reason = mi.get_failed_reason()\n",
    "    f_modes.add_item(reason, query)\n",
    "\n",
    "f_modes.finalize()"
   ]
  },
  {
   "cell_type": "code",
   "execution_count": 8,
   "metadata": {},
   "outputs": [
    {
     "name": "stdout",
     "output_type": "stream",
     "text": [
      "| category                  |   count | percentage   |\n",
      "|---------------------------|---------|--------------|\n",
      "| TraceFailure.TIMEOUT      |     132 | 84.62 %      |\n",
      "| TraceFailure.FAST_UNKNOWN |      21 | 13.46 %      |\n",
      "| TraceFailure.SLOW_UNKNOWN |       3 | 1.92 %       |\n",
      "| total                     |     156 | 100.00 %     |\n"
     ]
    }
   ],
   "source": [
    "f_modes.print_status()"
   ]
  },
  {
   "cell_type": "code",
   "execution_count": null,
   "metadata": {},
   "outputs": [],
   "source": [
    "for q in f_modes[TraceFailure.TIMEOUT]:\n",
    "    print(f'\"{mv[q].name_hash}\",')"
   ]
  },
  {
   "cell_type": "code",
   "execution_count": null,
   "metadata": {},
   "outputs": [],
   "source": [
    "for q in f_modes[TraceFailure.FAST_UNKNOWN]:\n",
    "    print(q)\n",
    "for q in f_modes[TraceFailure.SLOW_UNKNOWN]:\n",
    "    print(q)"
   ]
  }
 ],
 "metadata": {
  "kernelspec": {
   "display_name": "Python 3",
   "language": "python",
   "name": "python3"
  },
  "language_info": {
   "codemirror_mode": {
    "name": "ipython",
    "version": 3
   },
   "file_extension": ".py",
   "mimetype": "text/x-python",
   "name": "python",
   "nbconvert_exporter": "python",
   "pygments_lexer": "ipython3",
   "version": "3.8.10"
  }
 },
 "nbformat": 4,
 "nbformat_minor": 2
}
