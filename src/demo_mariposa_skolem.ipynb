{
 "cells": [
  {
   "cell_type": "code",
   "execution_count": 2,
   "metadata": {},
   "outputs": [],
   "source": [
    "import sys, os\n",
    "\n",
    "MARIPOSA_PATH = \"/home/yizhou7/mariposa/\"\n",
    "\n",
    "sys.path.append(MARIPOSA_PATH + \"src\")\n",
    "os.chdir(MARIPOSA_PATH)\n",
    "\n",
    "from debugger.bench_viewer import BenchViewer\n",
    "from debugger.strainer import StrainerStatus\n",
    "from benchmark_consts import *\n",
    "from debugger.mutant_info import TraceFailure\n",
    "from utils.system_utils import list_smt2_files\n",
    "from debugger.debugger import DbgMode, DebugOptions, get_debugger"
   ]
  },
  {
   "cell_type": "code",
   "execution_count": 4,
   "metadata": {},
   "outputs": [
    {
     "name": "stdout",
     "output_type": "stream",
     "text": [
      "./src/debugger3.py -i data/projs/bench_unstable.skolem/base.z3/28672c8a4e.bef864cf.smt2\n",
      "./src/debugger3.py -i data/projs/bench_unstable.skolem/base.z3/40d72d4071.0e7abec7.smt2\n",
      "./src/debugger3.py -i data/projs/bench_unstable.skolem/base.z3/6fe848cd76.9a6efb35.smt2\n",
      "./src/debugger3.py -i data/projs/bench_unstable.skolem/base.z3/d727e16c9e.78443348.smt2\n",
      "./src/debugger3.py -i data/projs/bench_unstable.skolem/base.z3/dd8e6c2233.d4937b92.smt2\n",
      "./src/debugger3.py -i data/projs/bench_unstable.skolem/base.z3/3cead21983.eee8d9f7.smt2\n",
      "./src/debugger3.py -i data/projs/bench_unstable.skolem/base.z3/e466521a27.1bae5e87.smt2\n",
      "./src/debugger3.py -i data/projs/bench_unstable.skolem/base.z3/395e0108e7.5e9a258d.smt2\n",
      "./src/debugger3.py -i data/projs/bench_unstable.skolem/base.z3/b5cc583f2d.881aa85e.smt2\n",
      "./src/debugger3.py -i data/projs/bench_unstable.skolem/base.z3/05b5b92f32.d55e2370.smt2\n",
      "./src/debugger3.py -i data/projs/bench_unstable.skolem/base.z3/462c420128.5e9a258d.smt2\n",
      "./src/debugger3.py -i data/projs/bench_unstable.skolem/base.z3/cc3fad677d.f364ec88.smt2\n",
      "./src/debugger3.py -i data/projs/bench_unstable.skolem/base.z3/3ec7c6a97c.d55e2370.smt2\n",
      "./src/debugger3.py -i data/projs/bench_unstable.skolem/base.z3/2f7324b043.d55e2370.smt2\n",
      "./src/debugger3.py -i data/projs/bench_unstable.skolem/base.z3/2e7c051a4b.c481e2e0.smt2\n",
      "./src/debugger3.py -i data/projs/bench_unstable.skolem/base.z3/d4e5e77cbc.920f13fb.smt2\n",
      "./src/debugger3.py -i data/projs/bench_unstable.skolem/base.z3/e508668090.9b7799ba.smt2\n",
      "./src/debugger3.py -i data/projs/bench_unstable.skolem/base.z3/d3b07a4fd8.f2316cc1.smt2\n",
      "./src/debugger3.py -i data/projs/bench_unstable.skolem/base.z3/2a3b1202bd.203d93a1.smt2\n",
      "./src/debugger3.py -i data/projs/bench_unstable.skolem/base.z3/4bb10dc4e9.5e9a258d.smt2\n",
      "./src/debugger3.py -i data/projs/bench_unstable.skolem/base.z3/72ad929f41.f2316cc1.smt2\n",
      "./src/debugger3.py -i data/projs/bench_unstable.skolem/base.z3/ae3b449b81.17a64bef.smt2\n",
      "./src/debugger3.py -i data/projs/bench_unstable.skolem/base.z3/fdbf242cbe.5e9a258d.smt2\n",
      "./src/debugger3.py -i data/projs/bench_unstable.skolem/base.z3/8805626a67.5e9a258d.smt2\n",
      "./src/debugger3.py -i data/projs/bench_unstable.skolem/base.z3/4aecdc3251.a8011969.smt2\n",
      "./src/debugger3.py -i data/projs/bench_unstable.skolem/base.z3/8852397c03.771e7cfe.smt2\n",
      "./src/debugger3.py -i data/projs/bench_unstable.skolem/base.z3/c8f75a1321.5e9a258d.smt2\n",
      "./src/debugger3.py -i data/projs/bench_unstable.skolem/base.z3/383f10cfb6.9af81dd8.smt2\n",
      "./src/debugger3.py -i data/projs/bench_unstable.skolem/base.z3/1aa46bd795.5e9a258d.smt2\n",
      "./src/debugger3.py -i data/projs/bench_unstable.skolem/base.z3/e998d08b31.b54f1b6b.smt2\n",
      "./src/debugger3.py -i data/projs/bench_unstable.skolem/base.z3/ab307c9008.e10b590f.smt2\n",
      "./src/debugger3.py -i data/projs/bench_unstable.skolem/base.z3/1b5eabf811.d331aabf.smt2\n",
      "./src/debugger3.py -i data/projs/bench_unstable.skolem/base.z3/4680269ef1.5e9a258d.smt2\n",
      "./src/debugger3.py -i data/projs/bench_unstable.skolem/base.z3/2362f78e4b.be878b90.smt2\n",
      "./src/debugger3.py -i data/projs/bench_unstable.skolem/base.z3/b5f812a861.e317798b.smt2\n",
      "./src/debugger3.py -i data/projs/bench_unstable.skolem/base.z3/416446ca74.d55e2370.smt2\n",
      "./src/debugger3.py -i data/projs/bench_unstable.skolem/base.z3/dea7cbc5c5.89c00fa0.smt2\n",
      "./src/debugger3.py -i data/projs/bench_unstable.skolem/base.z3/213eb33b34.0e7abec7.smt2\n",
      "./src/debugger3.py -i data/projs/bench_unstable.skolem/base.z3/a88f57c7ea.c2766655.smt2\n",
      "./src/debugger3.py -i data/projs/bench_unstable.skolem/base.z3/f9f9100cfb.c2766655.smt2\n",
      "./src/debugger3.py -i data/projs/bench_unstable.skolem/base.z3/17b0b45c82.a2c20f14.smt2\n",
      "./src/debugger3.py -i data/projs/bench_unstable.skolem/base.z3/cd6cdb377d.2480514d.smt2\n",
      "./src/debugger3.py -i data/projs/bench_unstable.skolem/base.z3/354809a9f4.5e9a258d.smt2\n",
      "./src/debugger3.py -i data/projs/bench_unstable.skolem/base.z3/48976525b7.42bd45a4.smt2\n"
     ]
    }
   ],
   "source": [
    "SKOLEM_DIR = \"data/projs/bench_unstable.skolem/base.z3\"\n",
    "\n",
    "skolmized = list_smt2_files(SKOLEM_DIR)\n",
    "\n",
    "for q in skolmized:\n",
    "    print(\"./src/debugger3.py -i\", q)\n",
    "\n",
    "# mvs = BenchViewer(skolmized, DbgMode.SINGLETON)"
   ]
  },
  {
   "cell_type": "code",
   "execution_count": null,
   "metadata": {},
   "outputs": [
    {
     "name": "stdout",
     "output_type": "stream",
     "text": [
      "mariposa_qid_118 1\n",
      "mariposa_qid_1490 1\n",
      "mariposa_qid_1500 1\n",
      "mariposa_qid_1492 4\n",
      "mariposa_qid_1494 6\n",
      "mariposa_qid_212 7\n",
      "mariposa_qid_240 7\n",
      "mariposa_qid_964 10\n",
      "mariposa_qid_118 1\n",
      "mariposa_qid_1490 1\n",
      "mariposa_qid_1500 1\n",
      "mariposa_qid_240 4\n",
      "mariposa_qid_1492 4\n",
      "mariposa_qid_212 5\n",
      "mariposa_qid_1494 6\n",
      "mariposa_qid_964 7\n"
     ]
    }
   ],
   "source": [
    "consequences = proof.get_skolem_consequences()\n",
    "\n",
    "creating_insts = dict()\n",
    "impacting_quants = dict()\n",
    "\n",
    "for skv in consequences:\n",
    "    creating_insts[skv] = sum(consequences[skv].values())\n",
    "    impacting_quants[skv] = len(consequences[skv])\n",
    "\n",
    "# from utils.analysis_utils import sort_by_values\n",
    "\n",
    "# for k, v in sort_by_values(creating_insts).items():\n",
    "#     print(k, v)\n",
    "    \n",
    "# for k, v in sort_by_values(impacting_quants).items():\n",
    "#     print(k, v)\n"
   ]
  },
  {
   "cell_type": "code",
   "execution_count": 11,
   "metadata": {},
   "outputs": [],
   "source": [
    "editor = dbg.editor"
   ]
  },
  {
   "cell_type": "code",
   "execution_count": null,
   "metadata": {},
   "outputs": [
    {
     "data": {
      "text/plain": [
       "True"
      ]
     },
     "execution_count": 12,
     "metadata": {},
     "output_type": "execute_result"
    }
   ],
   "source": [
    "from debugger.edit_info import EditAction\n",
    "\n",
    "editor.edit_by_qname(\"mariposa_qid_964\", EditAction.SKOLEMIZE)"
   ]
  },
  {
   "cell_type": "code",
   "execution_count": 13,
   "metadata": {},
   "outputs": [
    {
     "name": "stdout",
     "output_type": "stream",
     "text": [
      "mariposa_qid_965\n",
      "mariposa_qid_963\n",
      "mariposa_qid_919\n",
      "mariposa_qid_922\n",
      "mariposa_qid_921\n",
      "mariposa_qid_1491\n",
      "mariposa_qid_1493\n"
     ]
    }
   ],
   "source": [
    "for cons in consequences[\"mariposa_qid_964\"]:\n",
    "    print(cons)"
   ]
  },
  {
   "cell_type": "code",
   "execution_count": 14,
   "metadata": {},
   "outputs": [
    {
     "name": "stdout",
     "output_type": "stream",
     "text": [
      "qname: mariposa_qid_965\n",
      "depends on other skolem: mariposa_qid_964\n",
      "quant-inst 2\n",
      "\t (or (not (= (type |bigE#0@0|) BoxType)) (not (= (type (|Set#Difference| |s#0@@62| (|Set#UnionOne| (|Set#Empty| BoxType) |e1#0@0|))) (type |s#0@@62|))) (not (or (|Total__Preorder.__default.BiggestInSet#canCall| |bigE#0@0| (|Set#Difference| |s#0@@62| (|Set#UnionOne| (|Set#Empty| BoxType) |e1#0@0|))) (not (or (= $FunctionContextHeight 19) (not ($IsBox |bigE#0@0| |#$Element|)) (not ($Is (|Set#Difference| |s#0@@62| (|Set#UnionOne| (|Set#Empty| BoxType) |e1#0@0|)) (TSet |#$Element|))) (not (INTERNAL_lt_boogie 0 (|Set#Card| (|Set#Difference| |s#0@@62| (|Set#UnionOne| (|Set#Empty| BoxType) |e1#0@0|))))))))) (not (or (not (or (not (U_2_bool (MapType0Select (|Set#Difference| |s#0@@62| (|Set#UnionOne| (|Set#Empty| BoxType) |e1#0@0|)) |bigE#0@0|))) (forall ((|e2#0| T@U)) (! ( let ( ( $x123245 ( |Total__Preorder.__default.lt#canCall| |e2#0| |bigE#0@0| ) ) ) ( let ( ( $x123255 ( = |e2#0| |bigE#0@0| ) ) ) ( let ( ( ?x4347 ( |Set#Empty| BoxType ) ) ) ( let ( ( ?x123093 ( |Set#UnionOne| ?x4347 |e1#0@0| ) ) ) ( let ( ( ?x123481 ( |Set#Difference| |s#0@@62| ?x123093 ) ) ) ( let ( ( $x132207 ( not ( U_2_bool ( MapType0Select ?x123481 |e2#0| ) ) ) ) ) ( let ( ( $x6842 ( $IsBox |e2#0| |#$Element| ) ) ) ( let ( ( $x71612 ( not $x6842 ) ) ) ( let ( ( ?x64 ( type |e2#0| ) ) ) ( let ( ( $x1039 ( = ?x64 BoxType ) ) ) ( let ( ( $x14504 ( not $x1039 ) ) ) ( or $x14504 $x71612 $x132207 $x123255 $x123245 ) ) ) ) ) ) ) ) ) ) ) ) :pattern ( ( Total__Preorder.__default.lt |e2#0| |bigE#0@0| ) ) :pattern ( ( MapType0Select ( |Set#Difference| |s#0@@62| ( |Set#UnionOne| ( |Set#Empty| BoxType ) |e1#0@0| ) ) |e2#0| ) ) :qid mariposa_qid_963)))) (not (or (not (Total__Preorder.__default.BiggestInSet |bigE#0@0| (|Set#Difference| |s#0@@62| (|Set#UnionOne| (|Set#Empty| BoxType) |e1#0@0|)))) (not (or (not (U_2_bool (MapType0Select (|Set#Difference| |s#0@@62| (|Set#UnionOne| (|Set#Empty| BoxType) |e1#0@0|)) |bigE#0@0|))) (not (forall ((|e2#0@@0| T@U)) (! ( let ( ( $x123247 ( Total__Preorder.__default.lt |e2#0@@0| |bigE#0@0| ) ) ) ( let ( ( $x123255 ( = |e2#0@@0| |bigE#0@0| ) ) ) ( let ( ( ?x4347 ( |Set#Empty| BoxType ) ) ) ( let ( ( ?x123093 ( |Set#UnionOne| ?x4347 |e1#0@0| ) ) ) ( let ( ( ?x123481 ( |Set#Difference| |s#0@@62| ?x123093 ) ) ) ( let ( ( $x132207 ( not ( U_2_bool ( MapType0Select ?x123481 |e2#0@@0| ) ) ) ) ) ( let ( ( $x6842 ( $IsBox |e2#0@@0| |#$Element| ) ) ) ( let ( ( $x71612 ( not $x6842 ) ) ) ( let ( ( ?x64 ( type |e2#0@@0| ) ) ) ( let ( ( $x1039 ( = ?x64 BoxType ) ) ) ( let ( ( $x14504 ( not $x1039 ) ) ) ( or $x14504 $x71612 $x132207 $x123255 $x123247 ) ) ) ) ) ) ) ) ) ) ) ) :pattern ( ( Total__Preorder.__default.lt |e2#0@@0| |bigE#0@0| ) ) :pattern ( ( MapType0Select ( |Set#Difference| |s#0@@62| ( |Set#UnionOne| ( |Set#Empty| BoxType ) |e1#0@0| ) ) |e2#0@@0| ) ) :qid mariposa_qid_964))))))) (not (or (Total__Preorder.__default.BiggestInSet |bigE#0@0| (|Set#Difference| |s#0@@62| (|Set#UnionOne| (|Set#Empty| BoxType) |e1#0@0|))) (not (U_2_bool (MapType0Select (|Set#Difference| |s#0@@62| (|Set#UnionOne| (|Set#Empty| BoxType) |e1#0@0|)) |bigE#0@0|))) (not (or (not (= (type (|e2#0@@0!skolem_mariposa_qid_964!182| (|Set#Difference| |s#0@@62| (|Set#UnionOne| (|Set#Empty| BoxType) |e1#0@0|)) |bigE#0@0|)) BoxType)) (not ($IsBox (|e2#0@@0!skolem_mariposa_qid_964!182| (|Set#Difference| |s#0@@62| (|Set#UnionOne| (|Set#Empty| BoxType) |e1#0@0|)) |bigE#0@0|) |#$Element|)) (not (U_2_bool (MapType0Select (|Set#Difference| |s#0@@62| (|Set#UnionOne| (|Set#Empty| BoxType) |e1#0@0|)) (|e2#0@@0!skolem_mariposa_qid_964!182| (|Set#Difference| |s#0@@62| (|Set#UnionOne| (|Set#Empty| BoxType) |e1#0@0|)) |bigE#0@0|)))) (= (|e2#0@@0!skolem_mariposa_qid_964!182| (|Set#Difference| |s#0@@62| (|Set#UnionOne| (|Set#Empty| BoxType) |e1#0@0|)) |bigE#0@0|) |bigE#0@0|) (Total__Preorder.__default.lt (|e2#0@@0!skolem_mariposa_qid_964!182| (|Set#Difference| |s#0@@62| (|Set#UnionOne| (|Set#Empty| BoxType) |e1#0@0|)) |bigE#0@0|) |bigE#0@0|))))))))\n",
      "\t (or (not (= (type |e1#0@0|) BoxType)) (not (= (type |s#0@@62|) (type |s#0@@62|))) (not (or (|Total__Preorder.__default.BiggestInSet#canCall| |e1#0@0| |s#0@@62|) (not (or (= $FunctionContextHeight 19) (not ($IsBox |e1#0@0| |#$Element|)) (not ($Is |s#0@@62| (TSet |#$Element|))) (not (INTERNAL_lt_boogie 0 (|Set#Card| |s#0@@62|))))))) (not (or (not (or (not (U_2_bool (MapType0Select |s#0@@62| |e1#0@0|))) (forall ((|e2#0| T@U)) (! ( let ( ( $x123183 ( = |e2#0| |e1#0@0| ) ) ) ( let ( ( ?x123181 ( MapType0Select |s#0@@62| |e2#0| ) ) ) ( let ( ( $x123182 ( U_2_bool ?x123181 ) ) ) ( let ( ( $x126978 ( not $x123182 ) ) ) ( let ( ( $x6842 ( $IsBox |e2#0| |#$Element| ) ) ) ( let ( ( $x71612 ( not $x6842 ) ) ) ( let ( ( ?x64 ( type |e2#0| ) ) ) ( let ( ( $x1039 ( = ?x64 BoxType ) ) ) ( let ( ( $x14504 ( not $x1039 ) ) ) ( or $x14504 $x71612 $x126978 $x123183 ( |Total__Preorder.__default.lt#canCall| |e2#0| |e1#0@0| ) ) ) ) ) ) ) ) ) ) ) :pattern ( ( Total__Preorder.__default.lt |e2#0| |e1#0@0| ) ) :pattern ( ( MapType0Select |s#0@@62| |e2#0| ) ) :qid mariposa_qid_963)))) (not (or (not (Total__Preorder.__default.BiggestInSet |e1#0@0| |s#0@@62|)) (not (or (not (U_2_bool (MapType0Select |s#0@@62| |e1#0@0|))) (not (forall ((|e2#0@@0| T@U)) (! ( let ( ( $x123187 ( Total__Preorder.__default.lt |e2#0@@0| |e1#0@0| ) ) ) ( let ( ( $x123183 ( = |e2#0@@0| |e1#0@0| ) ) ) ( let ( ( ?x123181 ( MapType0Select |s#0@@62| |e2#0@@0| ) ) ) ( let ( ( $x123182 ( U_2_bool ?x123181 ) ) ) ( let ( ( $x126978 ( not $x123182 ) ) ) ( let ( ( $x6842 ( $IsBox |e2#0@@0| |#$Element| ) ) ) ( let ( ( $x71612 ( not $x6842 ) ) ) ( let ( ( ?x64 ( type |e2#0@@0| ) ) ) ( let ( ( $x1039 ( = ?x64 BoxType ) ) ) ( let ( ( $x14504 ( not $x1039 ) ) ) ( or $x14504 $x71612 $x126978 $x123183 $x123187 ) ) ) ) ) ) ) ) ) ) ) :pattern ( ( Total__Preorder.__default.lt |e2#0@@0| |e1#0@0| ) ) :pattern ( ( MapType0Select |s#0@@62| |e2#0@@0| ) ) :qid mariposa_qid_964))))))) (not (or (Total__Preorder.__default.BiggestInSet |e1#0@0| |s#0@@62|) (not (U_2_bool (MapType0Select |s#0@@62| |e1#0@0|))) (not (or (not (= (type (|e2#0@@0!skolem_mariposa_qid_964!182| |s#0@@62| |e1#0@0|)) BoxType)) (not ($IsBox (|e2#0@@0!skolem_mariposa_qid_964!182| |s#0@@62| |e1#0@0|) |#$Element|)) (not (U_2_bool (MapType0Select |s#0@@62| (|e2#0@@0!skolem_mariposa_qid_964!182| |s#0@@62| |e1#0@0|)))) (= (|e2#0@@0!skolem_mariposa_qid_964!182| |s#0@@62| |e1#0@0|) |e1#0@0|) (Total__Preorder.__default.lt (|e2#0@@0!skolem_mariposa_qid_964!182| |s#0@@62| |e1#0@0|) |e1#0@0|))))))))\n"
     ]
    }
   ],
   "source": [
    "proof.debug_inst_under_qname(\"mariposa_qid_965\")"
   ]
  },
  {
   "cell_type": "code",
   "execution_count": null,
   "metadata": {},
   "outputs": [],
   "source": []
  }
 ],
 "metadata": {
  "kernelspec": {
   "display_name": "Python 3",
   "language": "python",
   "name": "python3"
  },
  "language_info": {
   "codemirror_mode": {
    "name": "ipython",
    "version": 3
   },
   "file_extension": ".py",
   "mimetype": "text/x-python",
   "name": "python",
   "nbconvert_exporter": "python",
   "pygments_lexer": "ipython3",
   "version": "3.8.10"
  }
 },
 "nbformat": 4,
 "nbformat_minor": 2
}
