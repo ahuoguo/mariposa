{
 "cells": [
  {
   "cell_type": "code",
   "execution_count": 1,
   "metadata": {},
   "outputs": [],
   "source": [
    "import sys, os\n",
    "\n",
    "MARIPOSA_PATH = \"/home/yizhou7/mariposa/\"\n",
    "\n",
    "sys.path.append(MARIPOSA_PATH + \"src\")\n",
    "os.chdir(MARIPOSA_PATH)\n",
    "\n",
    "from debugger.debugger import DbgMode\n",
    "from debugger.bench_viewer import BenchViewer\n",
    "from debugger.strainer import StrainerStatus\n",
    "from benchmark_consts import *\n",
    "from utils.cluster_utils import get_sync_commands"
   ]
  },
  {
   "cell_type": "code",
   "execution_count": 2,
   "metadata": {},
   "outputs": [],
   "source": [
    "mv = BenchViewer(FAST_UNKOWN_TARGETS, DbgMode.FAST_FAIL)"
   ]
  },
  {
   "cell_type": "code",
   "execution_count": 3,
   "metadata": {},
   "outputs": [
    {
     "name": "stdout",
     "output_type": "stream",
     "text": [
      "| category                   |   count | percentage   |\n",
      "|----------------------------|---------|--------------|\n",
      "| StrainerStatus.FINISHED    |      91 | 98.91 %      |\n",
      "| StrainerStatus.NOT_CREATED |       1 | 1.09 %       |\n",
      "| total                      |      92 | 100.00 %     |\n"
     ]
    }
   ],
   "source": [
    "mv.status.print_status()"
   ]
  },
  {
   "cell_type": "code",
   "execution_count": 4,
   "metadata": {},
   "outputs": [
    {
     "name": "stdout",
     "output_type": "stream",
     "text": [
      "51\n",
      "0.5604395604395604\n"
     ]
    }
   ],
   "source": [
    "print(len(mv.fixable))\n",
    "print(len(mv.fixable)/len(mv.status[StrainerStatus.FINISHED]))"
   ]
  },
  {
   "cell_type": "code",
   "execution_count": 5,
   "metadata": {},
   "outputs": [
    {
     "name": "stdout",
     "output_type": "stream",
     "text": [
      "./src/debugger3.py -m fast_fail -i ab307c9008 --create-project\n"
     ]
    }
   ],
   "source": [
    "for q in mv.status[StrainerStatus.NOT_CREATED]:\n",
    "    print(\"./src/debugger3.py -m fast_fail -i\", mv[q].name_hash, \"--create-project\")"
   ]
  },
  {
   "cell_type": "code",
   "execution_count": 6,
   "metadata": {},
   "outputs": [],
   "source": [
    "for q in mv.status[StrainerStatus.NOT_TESTED]:\n",
    "    print(\"./src/carve_and_rerun.py\", mv[q].strainer.test_dir)"
   ]
  },
  {
   "cell_type": "code",
   "execution_count": null,
   "metadata": {},
   "outputs": [],
   "source": [
    "mv.collect_garbage()"
   ]
  },
  {
   "cell_type": "code",
   "execution_count": null,
   "metadata": {},
   "outputs": [],
   "source": [
    "print(\"\\n\".join(get_sync_commands(\"g2001\", mv.get_sync_dirs())))"
   ]
  },
  {
   "cell_type": "code",
   "execution_count": 11,
   "metadata": {},
   "outputs": [
    {
     "name": "stdout",
     "output_type": "stream",
     "text": [
      "{'dbg/43588efb1c/orig.smt2': [('mariposa_qid_433', 'inst_keep', 'data/projs/fast_fail_43588efb1c/base.z3/f0c46ea6.smt2')], 'dbg/2b4b7cd571/orig.smt2': [('mariposa_qid_369', 'inst_keep', 'data/projs/fast_fail_2b4b7cd571/base.z3/0974ae27.smt2'), ('mariposa_qid_2', 'inst_keep', 'data/projs/fast_fail_2b4b7cd571/base.z3/32c84b0c.smt2'), ('mariposa_qid_495', 'inst_keep', 'data/projs/fast_fail_2b4b7cd571/base.z3/413a2ca4.smt2'), ('mariposa_qid_367', 'inst_keep', 'data/projs/fast_fail_2b4b7cd571/base.z3/60576403.smt2'), ('mariposa_qid_471', 'inst_replace', 'data/projs/fast_fail_2b4b7cd571/base.z3/62abff75.smt2')], 'dbg/d8c158b8bf/orig.smt2': [('mariposa_qid_366', 'inst_replace', 'data/projs/fast_fail_d8c158b8bf/base.z3/43d594e1.smt2')], 'dbg/d8c62df78c/orig.smt2': [('mariposa_qid_8', 'inst_keep', 'data/projs/fast_fail_d8c62df78c/base.z3/fed1cf88.smt2')], 'dbg/ed978bf127/orig.smt2': [('mariposa_qid_119', 'inst_keep', 'data/projs/fast_fail_ed978bf127/base.z3/0a8ffc64.smt2'), ('mariposa_qid_64', 'inst_keep', 'data/projs/fast_fail_ed978bf127/base.z3/87994bfe.smt2')], 'dbg/a70ef5a023/orig.smt2': [('mariposa_qid_367', 'inst_keep', 'data/projs/fast_fail_a70ef5a023/base.z3/60576403.smt2')], 'dbg/0a4b4299d2/orig.smt2': [('mariposa_qid_369', 'inst_replace', 'data/projs/fast_fail_0a4b4299d2/base.z3/d3575367.smt2'), ('mariposa_qid_367', 'inst_replace', 'data/projs/fast_fail_0a4b4299d2/base.z3/dc75621d.smt2')], 'dbg/e6d6347750/orig.smt2': [('mariposa_qid_383', 'inst_replace', 'data/projs/fast_fail_e6d6347750/base.z3/4c46483f.smt2'), ('mariposa_qid_381', 'inst_replace', 'data/projs/fast_fail_e6d6347750/base.z3/a1a07865.smt2')], 'dbg/167389a8ef/orig.smt2': [('mariposa_qid_746', 'inst_replace', 'data/projs/fast_fail_167389a8ef/base.z3/0419aaad.smt2'), ('mariposa_qid_751', 'inst_replace', 'data/projs/fast_fail_167389a8ef/base.z3/2482a374.smt2'), ('mariposa_qid_466', 'inst_replace', 'data/projs/fast_fail_167389a8ef/base.z3/48220343.smt2')], 'dbg/80d7543acb/orig.smt2': [('mariposa_qid_12303', 'inst_keep', 'data/projs/fast_fail_80d7543acb/base.z3/1cc4a496.smt2'), ('mariposa_qid_1499', 'inst_keep', 'data/projs/fast_fail_80d7543acb/base.z3/56666247.smt2'), ('mariposa_qid_51', 'inst_keep', 'data/projs/fast_fail_80d7543acb/base.z3/6963ab80.smt2'), ('mariposa_qid_1636', 'inst_keep', 'data/projs/fast_fail_80d7543acb/base.z3/70d24ff9.smt2'), ('mariposa_qid_53', 'inst_replace', 'data/projs/fast_fail_80d7543acb/base.z3/c9ab4835.smt2')], 'dbg/2a2073ceb5/orig.smt2': [('mariposa_qid_368', 'inst_replace', 'data/projs/fast_fail_2a2073ceb5/base.z3/9d590b46.smt2')], 'dbg/acf6656f68/orig.smt2': [('mariposa_qid_366', 'inst_replace', 'data/projs/fast_fail_acf6656f68/base.z3/43d594e1.smt2')], 'dbg/9735a6b051/orig.smt2': [('mariposa_qid_369', 'inst_keep', 'data/projs/fast_fail_9735a6b051/base.z3/0974ae27.smt2'), ('mariposa_qid_367', 'inst_keep', 'data/projs/fast_fail_9735a6b051/base.z3/60576403.smt2')], 'dbg/e05c339447/orig.smt2': [('mariposa_qid_139', 'skolemize', 'data/projs/fast_fail_e05c339447/base.z3/f9bb9fdb.smt2')], 'dbg/fb0072addd/orig.smt2': [('mariposa_qid_382', 'inst_replace', 'data/projs/fast_fail_fb0072addd/base.z3/020b4998.smt2'), ('mariposa_qid_380', 'inst_replace', 'data/projs/fast_fail_fb0072addd/base.z3/297754be.smt2'), ('mariposa_qid_402', 'inst_replace', 'data/projs/fast_fail_fb0072addd/base.z3/57020274.smt2'), ('mariposa_qid_369', 'inst_replace', 'data/projs/fast_fail_fb0072addd/base.z3/d3575367.smt2')], 'dbg/712b931174/orig.smt2': [('mariposa_qid_381', 'inst_keep', 'data/projs/fast_fail_712b931174/base.z3/9284ec66.smt2')], 'dbg/b778746723/orig.smt2': [('mariposa_qid_382', 'inst_replace', 'data/projs/fast_fail_b778746723/base.z3/020b4998.smt2')], 'dbg/4ae002e825/orig.smt2': [('mariposa_qid_1492', 'inst_replace', 'data/projs/fast_fail_4ae002e825/base.z3/e5b01beb.smt2'), ('mariposa_qid_358', 'inst_replace', 'data/projs/fast_fail_4ae002e825/base.z3/ef9c93f5.smt2')], 'dbg/e95adeebaf/orig.smt2': [('mariposa_qid_125', 'inst_keep', 'data/projs/fast_fail_e95adeebaf/base.z3/07269b57.smt2'), ('mariposa_qid_369', 'inst_keep', 'data/projs/fast_fail_e95adeebaf/base.z3/0974ae27.smt2'), ('mariposa_qid_495', 'inst_keep', 'data/projs/fast_fail_e95adeebaf/base.z3/413a2ca4.smt2'), ('mariposa_qid_367', 'inst_keep', 'data/projs/fast_fail_e95adeebaf/base.z3/60576403.smt2'), ('mariposa_qid_471', 'inst_replace', 'data/projs/fast_fail_e95adeebaf/base.z3/62abff75.smt2'), ('mariposa_qid_358', 'inst_replace', 'data/projs/fast_fail_e95adeebaf/base.z3/ef9c93f5.smt2')], 'dbg/5954cb98c8/orig.smt2': [('mariposa_qid_1502', 'inst_replace', 'data/projs/fast_fail_5954cb98c8/base.z3/29c4d902.smt2'), ('mariposa_qid_70', 'inst_keep', 'data/projs/fast_fail_5954cb98c8/base.z3/30216e7a.smt2'), ('mariposa_qid_2', 'inst_keep', 'data/projs/fast_fail_5954cb98c8/base.z3/32c84b0c.smt2'), ('mariposa_qid_127', 'skolemize', 'data/projs/fast_fail_5954cb98c8/base.z3/777b9185.smt2'), ('mariposa_qid_468', 'inst_keep', 'data/projs/fast_fail_5954cb98c8/base.z3/ce594486.smt2')], 'dbg/a878753336/orig.smt2': [('mariposa_qid_368', 'inst_replace', 'data/projs/fast_fail_a878753336/base.z3/9d590b46.smt2'), ('mariposa_qid_362', 'skolemize', 'data/projs/fast_fail_a878753336/base.z3/c04abbfc.smt2')], 'dbg/842038cbbb/orig.smt2': [('mariposa_qid_2', 'inst_keep', 'data/projs/fast_fail_842038cbbb/base.z3/32c84b0c.smt2'), ('mariposa_qid_467', 'inst_keep', 'data/projs/fast_fail_842038cbbb/base.z3/db1c0418.smt2')], 'dbg/cbc1128701/orig.smt2': [('mariposa_qid_433', 'inst_replace', 'data/projs/fast_fail_cbc1128701/base.z3/16ad4a80.smt2')], 'dbg/fa1767e6e3/orig.smt2': [('mariposa_qid_368', 'inst_replace', 'data/projs/fast_fail_fa1767e6e3/base.z3/9d590b46.smt2')], 'dbg/3d63ac7eaf/orig.smt2': [('mariposa_qid_489', 'inst_keep', 'data/projs/fast_fail_3d63ac7eaf/base.z3/623ea46b.smt2'), ('mariposa_qid_381', 'inst_keep', 'data/projs/fast_fail_3d63ac7eaf/base.z3/9284ec66.smt2'), ('mariposa_qid_383', 'inst_keep', 'data/projs/fast_fail_3d63ac7eaf/base.z3/9eef6dea.smt2')], 'dbg/0b497bc090/orig.smt2': [('mariposa_qid_1545', 'inst_replace', 'data/projs/fast_fail_0b497bc090/base.z3/0989759d.smt2'), ('mariposa_qid_1716', 'inst_replace', 'data/projs/fast_fail_0b497bc090/base.z3/0e9411c0.smt2'), ('mariposa_qid_324', 'inst_replace', 'data/projs/fast_fail_0b497bc090/base.z3/49687261.smt2'), ('mariposa_qid_56', 'inst_replace', 'data/projs/fast_fail_0b497bc090/base.z3/ae87c918.smt2'), ('mariposa_qid_1509', 'inst_replace', 'data/projs/fast_fail_0b497bc090/base.z3/b278e637.smt2'), ('mariposa_qid_1704', 'inst_replace', 'data/projs/fast_fail_0b497bc090/base.z3/c2e54238.smt2'), ('mariposa_qid_1544', 'inst_replace', 'data/projs/fast_fail_0b497bc090/base.z3/cbfbe614.smt2'), ('mariposa_qid_1522', 'inst_replace', 'data/projs/fast_fail_0b497bc090/base.z3/e779b056.smt2')], 'dbg/14aaa649c7/orig.smt2': [('mariposa_qid_381', 'inst_keep', 'data/projs/fast_fail_14aaa649c7/base.z3/9284ec66.smt2')], 'dbg/873cd88973/orig.smt2': [('mariposa_qid_1502', 'inst_replace', 'data/projs/fast_fail_873cd88973/base.z3/29c4d902.smt2'), ('mariposa_qid_127', 'skolemize', 'data/projs/fast_fail_873cd88973/base.z3/777b9185.smt2')], 'dbg/d87c685738/orig.smt2': [('mariposa_qid_345', 'inst_replace', 'data/projs/fast_fail_d87c685738/base.z3/568a9066.smt2')], 'dbg/e3b4e5b780/orig.smt2': [('mariposa_qid_381', 'inst_replace', 'data/projs/fast_fail_e3b4e5b780/base.z3/a1a07865.smt2')], 'dbg/7d2782e41a/orig.smt2': [('mariposa_qid_2630', 'inst_replace', 'data/projs/fast_fail_7d2782e41a/base.z3/c5bbe5d2.smt2')], 'dbg/5ab30afc32/orig.smt2': [('mariposa_qid_433', 'inst_replace', 'data/projs/fast_fail_5ab30afc32/base.z3/16ad4a80.smt2')], 'dbg/125461812b/orig.smt2': [('mariposa_qid_433', 'inst_keep', 'data/projs/fast_fail_125461812b/base.z3/f0c46ea6.smt2')], 'dbg/519fdc89c1/orig.smt2': [('mariposa_qid_366', 'inst_replace', 'data/projs/fast_fail_519fdc89c1/base.z3/43d594e1.smt2')], 'dbg/1db53f149e/orig.smt2': [('mariposa_qid_382', 'inst_replace', 'data/projs/fast_fail_1db53f149e/base.z3/020b4998.smt2')], 'dbg/de58a38d6c/orig.smt2': [('mariposa_qid_383', 'inst_keep', 'data/projs/fast_fail_de58a38d6c/base.z3/9eef6dea.smt2')], 'dbg/c48bc62edc/orig.smt2': [('mariposa_qid_3147', 'inst_replace', 'data/projs/fast_fail_c48bc62edc/base.z3/190ecd09.smt2')], 'dbg/fcb903eff0/orig.smt2': [('mariposa_qid_64', 'inst_keep', 'data/projs/fast_fail_fcb903eff0/base.z3/87994bfe.smt2'), ('mariposa_qid_380', 'inst_keep', 'data/projs/fast_fail_fcb903eff0/base.z3/c64cf64a.smt2')], 'dbg/16d92ddc7b/orig.smt2': [('mariposa_qid_1106', 'inst_keep', 'data/projs/fast_fail_16d92ddc7b/base.z3/1a1fae84.smt2'), ('mariposa_qid_365', 'inst_replace', 'data/projs/fast_fail_16d92ddc7b/base.z3/37dd4f2c.smt2'), ('mariposa_qid_353', 'inst_replace', 'data/projs/fast_fail_16d92ddc7b/base.z3/3f063bd7.smt2'), ('mariposa_qid_956', 'inst_keep', 'data/projs/fast_fail_16d92ddc7b/base.z3/98ddcc0a.smt2'), ('mariposa_qid_1030', 'inst_keep', 'data/projs/fast_fail_16d92ddc7b/base.z3/f3eea6eb.smt2')], 'dbg/3818823b0a/orig.smt2': [('mariposa_qid_395', 'inst_replace', 'data/projs/fast_fail_3818823b0a/base.z3/0f786ff3.smt2'), ('mariposa_qid_435', 'inst_replace', 'data/projs/fast_fail_3818823b0a/base.z3/3396e5ba.smt2'), ('mariposa_qid_396', 'inst_replace', 'data/projs/fast_fail_3818823b0a/base.z3/3c8e0009.smt2'), ('mariposa_qid_344', 'skolemize', 'data/projs/fast_fail_3818823b0a/base.z3/5cfd7c51.smt2'), ('mariposa_qid_436', 'inst_replace', 'data/projs/fast_fail_3818823b0a/base.z3/5de7a7a7.smt2'), ('mariposa_qid_432', 'inst_keep', 'data/projs/fast_fail_3818823b0a/base.z3/9dc90350.smt2'), ('mariposa_qid_45', 'inst_replace', 'data/projs/fast_fail_3818823b0a/base.z3/ac06dd39.smt2'), ('mariposa_qid_56', 'inst_replace', 'data/projs/fast_fail_3818823b0a/base.z3/ae87c918.smt2'), ('mariposa_qid_44', 'inst_replace', 'data/projs/fast_fail_3818823b0a/base.z3/c5543fd8.smt2')], 'dbg/c8ca6d3f20/orig.smt2': [('mariposa_qid_358', 'inst_keep', 'data/projs/fast_fail_c8ca6d3f20/base.z3/39ab6485.smt2'), ('mariposa_qid_366', 'inst_replace', 'data/projs/fast_fail_c8ca6d3f20/base.z3/43d594e1.smt2'), ('mariposa_qid_1495', 'inst_keep', 'data/projs/fast_fail_c8ca6d3f20/base.z3/78fed1aa.smt2'), ('mariposa_qid_368', 'inst_replace', 'data/projs/fast_fail_c8ca6d3f20/base.z3/9d590b46.smt2'), ('mariposa_qid_363', 'inst_replace', 'data/projs/fast_fail_c8ca6d3f20/base.z3/b92f1ac5.smt2')], 'dbg/6f64b72bc8/orig.smt2': [('mariposa_qid_1498', 'inst_replace', 'data/projs/fast_fail_6f64b72bc8/base.z3/bfd4926a.smt2'), ('mariposa_qid_347', 'inst_keep', 'data/projs/fast_fail_6f64b72bc8/base.z3/dfa28b82.smt2')], 'dbg/83448eecf5/orig.smt2': [('mariposa_qid_367', 'inst_keep', 'data/projs/fast_fail_83448eecf5/base.z3/60576403.smt2')], 'dbg/c2671f2f38/orig.smt2': [('mariposa_qid_367', 'inst_replace', 'data/projs/fast_fail_c2671f2f38/base.z3/dc75621d.smt2')], 'dbg/81df0e63de/orig.smt2': [('mariposa_qid_367', 'inst_keep', 'data/projs/fast_fail_81df0e63de/base.z3/60576403.smt2')], 'dbg/aa849323ae/orig.smt2': [('mariposa_qid_73', 'inst_replace', 'data/projs/fast_fail_aa849323ae/base.z3/5fa5856d.smt2'), ('mariposa_qid_8', 'inst_replace', 'data/projs/fast_fail_aa849323ae/base.z3/85f9c510.smt2'), ('mariposa_qid_1662', 'inst_replace', 'data/projs/fast_fail_aa849323ae/base.z3/a8f03146.smt2'), ('mariposa_qid_65', 'inst_replace', 'data/projs/fast_fail_aa849323ae/base.z3/b68445b2.smt2'), ('mariposa_qid_51', 'inst_replace', 'data/projs/fast_fail_aa849323ae/base.z3/f76635ac.smt2')], 'dbg/5b7d18ab3e/orig.smt2': [('mariposa_qid_338', 'inst_replace', 'data/projs/fast_fail_5b7d18ab3e/base.z3/1b4ec7e3.smt2'), ('mariposa_qid_3', 'inst_replace', 'data/projs/fast_fail_5b7d18ab3e/base.z3/1c6131af.smt2'), ('mariposa_qid_933', 'inst_replace', 'data/projs/fast_fail_5b7d18ab3e/base.z3/3927f017.smt2'), ('mariposa_qid_1183', 'inst_replace', 'data/projs/fast_fail_5b7d18ab3e/base.z3/5968161d.smt2'), ('mariposa_qid_936', 'inst_replace', 'data/projs/fast_fail_5b7d18ab3e/base.z3/8bbdec05.smt2'), ('mariposa_qid_57', 'inst_replace', 'data/projs/fast_fail_5b7d18ab3e/base.z3/b1a9a5f9.smt2'), ('mariposa_qid_1209', 'inst_replace', 'data/projs/fast_fail_5b7d18ab3e/base.z3/dca8a817.smt2'), ('mariposa_qid_1198', 'inst_replace', 'data/projs/fast_fail_5b7d18ab3e/base.z3/df954c1e.smt2'), ('mariposa_qid_934', 'inst_replace', 'data/projs/fast_fail_5b7d18ab3e/base.z3/f079afb4.smt2')], 'dbg/473fa6f229/orig.smt2': [('mariposa_qid_386', 'inst_replace', 'data/projs/fast_fail_473fa6f229/base.z3/22b1244d.smt2'), ('mariposa_qid_727', 'inst_keep', 'data/projs/fast_fail_473fa6f229/base.z3/641313a0.smt2'), ('mariposa_qid_51', 'inst_keep', 'data/projs/fast_fail_473fa6f229/base.z3/6963ab80.smt2'), ('mariposa_qid_64', 'inst_replace', 'data/projs/fast_fail_473fa6f229/base.z3/6979591b.smt2'), ('mariposa_qid_1170', 'skolemize', 'data/projs/fast_fail_473fa6f229/base.z3/b04cc1b2.smt2'), ('mariposa_qid_65', 'inst_keep', 'data/projs/fast_fail_473fa6f229/base.z3/bc4d1795.smt2'), ('mariposa_qid_369', 'inst_replace', 'data/projs/fast_fail_473fa6f229/base.z3/d3575367.smt2'), ('mariposa_qid_1299', 'inst_keep', 'data/projs/fast_fail_473fa6f229/base.z3/d5dfa869.smt2')], 'dbg/f8e63dc317/orig.smt2': [('mariposa_qid_136', 'inst_replace', 'data/projs/fast_fail_f8e63dc317/base.z3/20f26d70.smt2'), ('mariposa_qid_64', 'inst_keep', 'data/projs/fast_fail_f8e63dc317/base.z3/87994bfe.smt2'), ('mariposa_qid_381', 'inst_keep', 'data/projs/fast_fail_f8e63dc317/base.z3/9284ec66.smt2'), ('mariposa_qid_383', 'inst_keep', 'data/projs/fast_fail_f8e63dc317/base.z3/9eef6dea.smt2'), ('mariposa_qid_336', 'skolemize', 'data/projs/fast_fail_f8e63dc317/base.z3/a552f883.smt2'), ('mariposa_qid_139', 'skolemize', 'data/projs/fast_fail_f8e63dc317/base.z3/f9bb9fdb.smt2')], 'dbg/79fffdb8cb/orig.smt2': [('mariposa_qid_3629', 'inst_replace', 'data/projs/fast_fail_79fffdb8cb/base.z3/cdca5137.smt2')], 'dbg/fa548b2af5/orig.smt2': [('mariposa_qid_119', 'inst_keep', 'data/projs/fast_fail_fa548b2af5/base.z3/0a8ffc64.smt2'), ('mariposa_qid_2595', 'inst_keep', 'data/projs/fast_fail_fa548b2af5/base.z3/5c1c3f9f.smt2')]}\n"
     ]
    }
   ],
   "source": [
    "targets = dict()\n",
    "for q in mv.fixable:\n",
    "    dbg = mv[q]\n",
    "    r = dbg.report\n",
    "    fixes = []\n",
    "    for row in r.stabilized.iterrows():\n",
    "        qname = row[1].qname\n",
    "        action = row[1].action\n",
    "        edit_path = row[1].edit_path\n",
    "        fixes.append((qname, action, edit_path))\n",
    "    targets[dbg.tracker.orig_path] = fixes\n",
    "\n",
    "print(targets)"
   ]
  },
  {
   "cell_type": "code",
   "execution_count": null,
   "metadata": {},
   "outputs": [],
   "source": []
  }
 ],
 "metadata": {
  "kernelspec": {
   "display_name": "Python 3",
   "language": "python",
   "name": "python3"
  },
  "language_info": {
   "codemirror_mode": {
    "name": "ipython",
    "version": 3
   },
   "file_extension": ".py",
   "mimetype": "text/x-python",
   "name": "python",
   "nbconvert_exporter": "python",
   "pygments_lexer": "ipython3",
   "version": "3.8.10"
  }
 },
 "nbformat": 4,
 "nbformat_minor": 2
}
