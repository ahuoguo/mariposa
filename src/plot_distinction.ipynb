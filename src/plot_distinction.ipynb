{
 "cells": [
  {
   "cell_type": "code",
   "execution_count": 25,
   "metadata": {},
   "outputs": [],
   "source": [
    "import sys, os\n",
    "\n",
    "MARIPOSA_PATH = \"/home/yizhou7/mariposa/\"\n",
    "\n",
    "sys.path.append(MARIPOSA_PATH + \"src\")\n",
    "os.chdir(MARIPOSA_PATH)\n",
    "\n",
    "from debugger.debugger import DbgMode\n",
    "from debugger.strainer import DebugStatus\n",
    "from benchmark_consts import *"
   ]
  },
  {
   "cell_type": "code",
   "execution_count": 26,
   "metadata": {},
   "outputs": [],
   "source": [
    "from base.factory import FACT\n",
    "\n",
    "mp = FACT.get_project_by_path(\"data/projs/bench_unstable/base.z3\")\n",
    "\n",
    "exp = FACT.load_analysis(\n",
    "        mp,\n",
    "        cfg=FACT.get_config(\"default\"),\n",
    "        solver=FACT.get_solver(\"z3_4_12_5\"),\n",
    "        ana=FACT.get_analyzer(\"60sec\"),\n",
    "        allow_missing_exper=False,\n",
    "    )\n"
   ]
  },
  {
   "cell_type": "code",
   "execution_count": null,
   "metadata": {},
   "outputs": [],
   "source": [
    "import random\n",
    "import numpy as np\n",
    "\n",
    "random.seed(9321743958)\n",
    "\n",
    "mariposa_ets = []\n",
    "\n",
    "for qid in exp.qids:\n",
    "    qr = exp[qid]\n",
    "    passed, failed = exp.get_mutant_details(qr)\n",
    "    adjusted = dict()\n",
    "\n",
    "    for k, woot in passed.items():\n",
    "        if woot[3] >= 60:\n",
    "            failed[k] = woot\n",
    "        else:\n",
    "            adjusted[k] = woot   \n",
    "    passed = adjusted    \n",
    "\n",
    "    fmut = random.choice(list(failed.keys()))\n",
    "    _, _, _, fet = failed[fmut]\n",
    "    pmut = random.choice(list(passed.keys()))\n",
    "    _, _, _, pet = passed[pmut]\n",
    "    mariposa_ets += [(fet, pet)]\n",
    "\n",
    "# fstar_queries = np.array(fstar_queries)\n",
    "# dafny_queries = np.array(dafny_queries)\n",
    "mariposa_ets = np.array(mariposa_ets)"
   ]
  },
  {
   "cell_type": "code",
   "execution_count": null,
   "metadata": {},
   "outputs": [],
   "source": [
    "VERUS_PROJS = [\"verismo.dedup\", \"vsystemsnew\", \"anvil\", \"splinterdb\", \"flowcert\", \"atmosphere\"]\n",
    "\n",
    "verus_ets = []\n",
    "for p in VERUS_PROJS:\n",
    "    proj = FACT.get_project_by_path(\"data/projs/\" + p + \"/base.z3\")\n",
    "    exp = FACT.load_analysis(\n",
    "        proj,\n",
    "        cfg=FACT.get_config(\"default\"),\n",
    "        solver=FACT.get_solver(\"z3_4_13_0\"),\n",
    "        ana=FACT.get_analyzer(\"10sec\"),\n",
    "        allow_missing_exper=False,\n",
    "    )\n",
    "    for qid in exp.qids:\n",
    "        qer = exp[qid]\n",
    "        if qer.query_path not in UNSTABLE_VERUS:\n",
    "            continue\n",
    "        passed, failed = exp.get_mutant_details(qer)\n",
    "        adjusted = dict()\n",
    "        for k, woot in passed.items():\n",
    "            if woot[3] >= 10:\n",
    "                failed[k] = woot\n",
    "            else:\n",
    "                adjusted[k] = woot   \n",
    "        passed = adjusted\n",
    "        fmut = random.choice(list(failed.keys()))\n",
    "        _, _, _, fet = failed[fmut]\n",
    "        pmut = random.choice(list(passed.keys()))\n",
    "        _, _, _, pet = passed[pmut]\n",
    "        verus_ets += [(fet, pet)]\n",
    "    \n",
    "verus_ets = np.array(verus_ets)"
   ]
  },
  {
   "cell_type": "code",
   "execution_count": 33,
   "metadata": {},
   "outputs": [
    {
     "name": "stdout",
     "output_type": "stream",
     "text": [
      "[[ 4.01  2.71]\n",
      " [ 0.33  0.32]\n",
      " [19.72  4.34]\n",
      " ...\n",
      " [ 0.06  0.06]\n",
      " [ 0.09  0.5 ]\n",
      " [60.    1.43]]\n"
     ]
    }
   ],
   "source": [
    "# print(verus_ets)\n",
    "print(mariposa_ets)"
   ]
  },
  {
   "cell_type": "code",
   "execution_count": 29,
   "metadata": {},
   "outputs": [],
   "source": [
    "# from debugger.bench_viewer import BenchViewer\n",
    "# from debugger.debugger_options import DebugOptions\n",
    "\n",
    "# options = DebugOptions()\n",
    "# # remember to set this!\n",
    "# options.is_verus = True\n",
    "# verus_bench = BenchViewer(UNSTABLE_VERUS, options)"
   ]
  },
  {
   "cell_type": "code",
   "execution_count": 30,
   "metadata": {},
   "outputs": [],
   "source": [
    "from utils.analysis_utils import *\n",
    "from utils.plot_utils import *\n",
    "\n",
    "mariposa_ets = mariposa_ets.clip(0, 60)\n",
    "assert mariposa_ets.shape[0] == len(UNSTABLE_MARIPOSA)\n",
    "\n",
    "verus_ets = verus_ets.clip(0, 10)\n",
    "assert verus_ets.shape[0] == len(UNSTABLE_VERUS)"
   ]
  },
  {
   "cell_type": "code",
   "execution_count": 31,
   "metadata": {},
   "outputs": [],
   "source": [
    "mariposa_fail_cdf = PartialCDF(mariposa_ets[:,0])\n",
    "mariposa_pass_cdf = PartialCDF(mariposa_ets[:,1])\n",
    "verus_fail_cdf = PartialCDF(verus_ets[:,0])\n",
    "verus_pass_cdf = PartialCDF(verus_ets[:,1])"
   ]
  },
  {
   "cell_type": "code",
   "execution_count": null,
   "metadata": {},
   "outputs": [
    {
     "data": {
      "text/plain": [
       "<Figure size 640x480 with 0 Axes>"
      ]
     },
     "metadata": {},
     "output_type": "display_data"
    }
   ],
   "source": [
    "plt.scatter(mariposa_ets[:,0], mariposa_ets[:,1], c=BENCH_COLORS[\"mariposa\"])\n",
    "plt.scatter(verus_ets[:,0], verus_ets[:,1], c=BENCH_COLORS[\"verus\"])\n",
    "\n",
    "# Adding labels and title to the scatter plot\n",
    "plt.xlabel(\"Time Until Mutant Failure Log Scale (s)\")\n",
    "plt.ylabel(\"Time Until Mutant Success Log Scale (s)\")\n",
    "# plt.title(\"Scatter Plot of Execution Times\")\n",
    "plt.xlim(0.02, 60.2)\n",
    "plt.xticks([0.02, 0.1, 1, 10, 60], [\"\", \"0.1\", \"1.0\", \"10.0\", \"60.0\"])\n",
    "\n",
    "plt.ylim(0.02, 60.2)\n",
    "plt.yticks([0.02, 0.1, 1, 10, 60], [\"\", \"0.1\", \"1.0\", \"10.0\", \"60.0\"])\n",
    "\n",
    "plt.gca().set_aspect('equal', adjustable='box')\n",
    "plt.tight_layout()\n",
    "plt.legend([\"Mariposa-bench\", \"Verus-bench\"], loc=\"upper left\")\n",
    "plt.grid()\n",
    "plt.xscale(\"log\")\n",
    "plt.yscale(\"log\")\n",
    "plt.savefig(\"fig/debugger/pass_fail.pdf\")\n",
    "plt.clf()"
   ]
  },
  {
   "cell_type": "code",
   "execution_count": 59,
   "metadata": {},
   "outputs": [
    {
     "name": "stdout",
     "output_type": "stream",
     "text": [
      "1.1 13.970588235294118\n"
     ]
    },
    {
     "data": {
      "image/png": "[encoded data removed]",
      "text/plain": [
       "<Figure size 640x480 with 1 Axes>"
      ]
     },
     "metadata": {},
     "output_type": "display_data"
    }
   ],
   "source": [
    "# plt.plot(verus_pass_cdf.xs, verus_pass_cdf.ys, label=\"Verus Pass\")\n",
    "# plt.plot(mariposa_pass_cdf.xs, mariposa_pass_cdf.ys, label=\"Mariposa  Pass\")\n",
    "\n",
    "plt.plot(verus_fail_cdf.xs, verus_fail_cdf.ys, label=\"Verus-bench\", color=COLORS[\"verus\"])\n",
    "\n",
    "x, y = verus_fail_cdf.get_point_by_value(0.8, False)\n",
    "plt.plot(1, y, c=\"black\", marker=\"o\", markersize=3)\n",
    "plt.text(\n",
    "    x, y+2, f\"{round(y, 1)}\\%\", fontsize=8, va=\"bottom\"\n",
    ")\n",
    "\n",
    "x, y = verus_fail_cdf.get_point_by_value(9.9, True)\n",
    "plt.plot(x, y, c=\"black\", marker=\"o\", markersize=3)\n",
    "plt.text(\n",
    "    x * 1.05, y + 3, f\"{round(y, 1)}\\%\", fontsize=8, va=\"top\", ha=\"left\"\n",
    ")\n",
    "\n",
    "plt.plot(mariposa_fail_cdf.xs, mariposa_fail_cdf.ys, label=\"Mariposa-bench\",  color=COLORS[\"mariposa\"])\n",
    "\n",
    "x, y = mariposa_fail_cdf.get_point_by_value(10, True)\n",
    "plt.plot(x, y, c=\"black\", marker=\"o\", markersize=3)\n",
    "plt.text(\n",
    "    x * 1.15, y+3, f\"{round(y, 1)}\\%\", fontsize=8, va=\"top\"\n",
    ")\n",
    "\n",
    "x, y = mariposa_fail_cdf.get_point_by_value(1, True)\n",
    "print(x, y)\n",
    "plt.plot(1, y, c=\"black\", marker=\"o\", markersize=3)\n",
    "plt.text(\n",
    "    x * 1.05, y, f\"{round(y, 1)}\\%\", fontsize=8, va=\"top\"\n",
    ")\n",
    "\n",
    "x, y = mariposa_fail_cdf.get_point_by_value(59.1, True)\n",
    "plt.plot(x, y, c=\"black\", marker=\"o\", markersize=3)\n",
    "plt.text(\n",
    "    x * 1.03, y + 3, f\"{round(y, 1)}\\%\", fontsize=8, va=\"top\", ha=\"right\"\n",
    ")\n",
    "\n",
    "# plt.axvline(x=1, ymin=0, ymax=0.42,color='gray', linestyle='--')\n",
    "# plt.axhline(y=42, xmin=0, xmax=0.5, color='gray', linestyle='--')\n",
    "\n",
    "plt.plot()\n",
    "plt.xscale(\"log\")\n",
    "\n",
    "plt.yticks(np.arange(0, 101, 10))\n",
    "plt.xlim(0.02, 60.2)\n",
    "plt.xticks([0.02, 0.1, 1, 10, 60], [\"\", \"0.1\", \"1.0\", \"10.0\", \"60.0\"])\n",
    "plt.ylim(0, 100)\n",
    "\n",
    "plt.legend()\n",
    "# plt.title(\"Distinct Instability Failure Modes\")\n",
    "plt.xlabel(\"Time Until Failure Log Scale (seconds)\")\n",
    "plt.ylabel(\"Percentage of Queries $\\leq$ Time\")\n",
    "\n",
    "plt.grid()\n",
    "plt.tight_layout()\n",
    "plt.savefig(\"fig/debugger/failure_modes.pdf\", dpi=600, format=\"pdf\")"
   ]
  },
  {
   "cell_type": "code",
   "execution_count": null,
   "metadata": {},
   "outputs": [],
   "source": []
  }
 ],
 "metadata": {
  "kernelspec": {
   "display_name": "Python 3",
   "language": "python",
   "name": "python3"
  },
  "language_info": {
   "codemirror_mode": {
    "name": "ipython",
    "version": 3
   },
   "file_extension": ".py",
   "mimetype": "text/x-python",
   "name": "python",
   "nbconvert_exporter": "python",
   "pygments_lexer": "ipython3",
   "version": "3.8.10"
  }
 },
 "nbformat": 4,
 "nbformat_minor": 2
}
