{
 "cells": [
  {
   "cell_type": "code",
   "execution_count": 1,
   "metadata": {},
   "outputs": [],
   "source": [
    "import sys, os\n",
    "\n",
    "MARIPOSA_PATH = \"/home/yizhou7/mariposa/\"\n",
    "\n",
    "sys.path.append(MARIPOSA_PATH + \"src\")\n",
    "os.chdir(MARIPOSA_PATH)\n",
    "\n",
    "from debugger.bench_viewer import BenchViewer\n",
    "from debugger.strainer import DebugStatus\n",
    "from benchmark_consts import *\n",
    "from debugger.mutant_info import TraceFailure\n",
    "from utils.system_utils import list_smt2_files\n",
    "from debugger.debugger import DbgMode, DebugOptions, get_debugger"
   ]
  },
  {
   "cell_type": "code",
   "execution_count": null,
   "metadata": {},
   "outputs": [],
   "source": [
    "skolmized = list_smt2_files(MARIPOSA_SKOLEM_DIR)\n",
    "\n",
    "# for q in skolmized:\n",
    "#     print(\"./src/debugger3.py -i\", q, \"--mode skolem\")\n",
    "\n",
    "options = DebugOptions()\n",
    "options.mode = DbgMode.SKOLEM\n",
    "\n",
    "mv = BenchViewer(skolmized, options)"
   ]
  },
  {
   "cell_type": "code",
   "execution_count": 3,
   "metadata": {},
   "outputs": [
    {
     "name": "stdout",
     "output_type": "stream",
     "text": [
      "| category                |   count | percentage   |\n",
      "|-------------------------|---------|--------------|\n",
      "| DebugStatus.FINISHED |      33 | 75.0 %       |\n",
      "| DebugStatus.NO_PROOF |      11 | 25.0 %       |\n",
      "| total                   |      44 | 100.00 %     |\n"
     ]
    }
   ],
   "source": [
    "mv.status.print_status()"
   ]
  },
  {
   "cell_type": "code",
   "execution_count": 4,
   "metadata": {},
   "outputs": [],
   "source": [
    "for q in mv.status[DebugStatus.NOT_CREATED]:\n",
    "    print(\"./src/debugger3.py -i\", q, \"-m\", \"skolem\", \"--create\")"
   ]
  },
  {
   "cell_type": "code",
   "execution_count": 5,
   "metadata": {},
   "outputs": [],
   "source": [
    "for q in mv.status[DebugStatus.NOT_TESTED]:\n",
    "    print(\"./src/make_spaghet.py --local --not-verus -i\", mv[q].strainer.test_dir)"
   ]
  },
  {
   "cell_type": "code",
   "execution_count": 6,
   "metadata": {},
   "outputs": [
    {
     "name": "stdout",
     "output_type": "stream",
     "text": [
      "14\n"
     ]
    }
   ],
   "source": [
    "print(len(mv.fixable))"
   ]
  },
  {
   "cell_type": "code",
   "execution_count": 7,
   "metadata": {},
   "outputs": [
    {
     "name": "stdout",
     "output_type": "stream",
     "text": [
      "\u001b[93m[WARN] [dbg] skipped GC on unfinished project DebugStatus.NO_PROOF data/projs/bench_unstable.skolem/base.z3/dd8e6c2233.d4937b92.smt2 \u001b[0m\n",
      "\u001b[93m[WARN] [dbg] skipped GC on unfinished project DebugStatus.NO_PROOF data/projs/bench_unstable.skolem/base.z3/383f10cfb6.9af81dd8.smt2 \u001b[0m\n",
      "\u001b[93m[WARN] [dbg] skipped GC on unfinished project DebugStatus.NO_PROOF data/projs/bench_unstable.skolem/base.z3/3cead21983.eee8d9f7.smt2 \u001b[0m\n",
      "\u001b[93m[WARN] [dbg] skipped GC on unfinished project DebugStatus.NO_PROOF data/projs/bench_unstable.skolem/base.z3/d4e5e77cbc.920f13fb.smt2 \u001b[0m\n",
      "\u001b[93m[WARN] [dbg] skipped GC on unfinished project DebugStatus.NO_PROOF data/projs/bench_unstable.skolem/base.z3/2a3b1202bd.203d93a1.smt2 \u001b[0m\n",
      "\u001b[93m[WARN] [dbg] skipped GC on unfinished project DebugStatus.NO_PROOF data/projs/bench_unstable.skolem/base.z3/1b5eabf811.d331aabf.smt2 \u001b[0m\n",
      "\u001b[93m[WARN] [dbg] skipped GC on unfinished project DebugStatus.NO_PROOF data/projs/bench_unstable.skolem/base.z3/e508668090.9b7799ba.smt2 \u001b[0m\n",
      "\u001b[93m[WARN] [dbg] skipped GC on unfinished project DebugStatus.NO_PROOF data/projs/bench_unstable.skolem/base.z3/2e7c051a4b.c481e2e0.smt2 \u001b[0m\n",
      "\u001b[93m[WARN] [dbg] skipped GC on unfinished project DebugStatus.NO_PROOF data/projs/bench_unstable.skolem/base.z3/4680269ef1.5e9a258d.smt2 \u001b[0m\n",
      "\u001b[93m[WARN] [dbg] skipped GC on unfinished project DebugStatus.NO_PROOF data/projs/bench_unstable.skolem/base.z3/e998d08b31.b54f1b6b.smt2 \u001b[0m\n",
      "\u001b[93m[WARN] [dbg] skipped GC on unfinished project DebugStatus.NO_PROOF data/projs/bench_unstable.skolem/base.z3/28672c8a4e.bef864cf.smt2 \u001b[0m\n"
     ]
    }
   ],
   "source": [
    "for q in mv.status.tally:\n",
    "    mv[q].collect_garbage()"
   ]
  },
  {
   "cell_type": "code",
   "execution_count": 9,
   "metadata": {},
   "outputs": [
    {
     "name": "stdout",
     "output_type": "stream",
     "text": [
      "\u001b[92m[INFO] created misc script: send.sh with 198 commands \u001b[0m\n"
     ]
    }
   ],
   "source": [
    "from utils.cluster_utils import get_sync_commands\n",
    "from utils.system_utils import write_misc_script\n",
    "\n",
    "\n",
    "cmds = get_sync_commands(\"s1904\", mv.get_sync_dirs())\n",
    "write_misc_script(\"send.sh\", cmds)"
   ]
  },
  {
   "cell_type": "code",
   "execution_count": null,
   "metadata": {},
   "outputs": [],
   "source": []
  }
 ],
 "metadata": {
  "kernelspec": {
   "display_name": "Python 3",
   "language": "python",
   "name": "python3"
  },
  "language_info": {
   "codemirror_mode": {
    "name": "ipython",
    "version": 3
   },
   "file_extension": ".py",
   "mimetype": "text/x-python",
   "name": "python",
   "nbconvert_exporter": "python",
   "pygments_lexer": "ipython3",
   "version": "3.8.10"
  }
 },
 "nbformat": 4,
 "nbformat_minor": 2
}
