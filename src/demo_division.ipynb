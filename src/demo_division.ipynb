{
 "cells": [
  {
   "cell_type": "code",
   "execution_count": 6,
   "metadata": {},
   "outputs": [],
   "source": [
    "import sys, os\n",
    "\n",
    "sys.path.append(\"/home/yizhou7/mariposa/src\")\n",
    "os.chdir(\"/home/yizhou7/mariposa/\")\n",
    "\n",
    "from utils.analysis_utils import Categorizer\n",
    "from debugger.edit_tracker import EditTracker\n",
    "from benchmark_consts import UNSTABLE_MARIPOSA"
   ]
  },
  {
   "cell_type": "code",
   "execution_count": 7,
   "metadata": {},
   "outputs": [
    {
     "name": "stdout",
     "output_type": "stream",
     "text": [
      "\u001b[93m[WARN] [init] previous debugging attempt has failed, run with --retry-failed if needed! \u001b[0m\n",
      "\u001b[93m[WARN] [proof] no proof available \u001b[0m\n",
      "\u001b[93m[WARN] [init] previous debugging attempt has failed, run with --retry-failed if needed! \u001b[0m\n",
      "\u001b[93m[WARN] [proof] no proof available \u001b[0m\n",
      "\u001b[93m[WARN] [init] previous debugging attempt has failed, run with --retry-failed if needed! \u001b[0m\n",
      "\u001b[93m[WARN] [proof] no proof available \u001b[0m\n",
      "\u001b[93m[WARN] [init] previous debugging attempt has failed, run with --retry-failed if needed! \u001b[0m\n",
      "\u001b[93m[WARN] [proof] no proof available \u001b[0m\n"
     ]
    }
   ],
   "source": [
    "from debugger.debugger_options import DebugOptions\n",
    "from debugger.mutant_info import TraceFailure\n",
    "\n",
    "f_modes = Categorizer()\n",
    "trackers = dict()\n",
    "\n",
    "for query in UNSTABLE_MARIPOSA:\n",
    "    tracker = EditTracker(query, DebugOptions())\n",
    "    if not tracker.proof_available():\n",
    "        f_modes.add_item(\"NO PROOF\", tracker.name_hash)\n",
    "        continue\n",
    "    trackers[tracker.name_hash] = tracker\n",
    "    mi = tracker.get_trace_info()\n",
    "    reason = mi.get_failed_reason()\n",
    "    f_modes.add_item(reason, tracker.name_hash)\n",
    "\n",
    "f_modes.finalize()"
   ]
  },
  {
   "cell_type": "code",
   "execution_count": 4,
   "metadata": {},
   "outputs": [
    {
     "name": "stdout",
     "output_type": "stream",
     "text": [
      "| category                  |   count | percentage   |\n",
      "|---------------------------|---------|--------------|\n",
      "| TraceFailure.TIMEOUT      |     444 | 81.47 %      |\n",
      "| TraceFailure.FAST_UNKNOWN |      90 | 16.51 %      |\n",
      "| TraceFailure.SLOW_UNKNOWN |       5 | 0.92 %       |\n",
      "| NO PROOF                  |       4 | 0.73 %       |\n",
      "| TraceFailure.NOT_FAIL     |       2 | 0.37 %       |\n",
      "| total                     |     545 | 100.00 %     |\n"
     ]
    }
   ],
   "source": [
    "f_modes.print_status()"
   ]
  },
  {
   "cell_type": "code",
   "execution_count": null,
   "metadata": {},
   "outputs": [],
   "source": [
    "for name_hash in f_modes[TraceFailure.NOT_FAIL]:\n",
    "    tracker = trackers[name_hash]\n"
   ]
  },
  {
   "cell_type": "code",
   "execution_count": 5,
   "metadata": {},
   "outputs": [
    {
     "data": {
      "text/plain": [
       "\"['167389a8ef', '2f7324b043', '383f10cfb6', '3818823b0a', 'e508668090', 'b5f812a861', 'c8f75a1321', 'fb0072addd', 'cc3fad677d', '79fffdb8cb', '873cd88973', '0b497bc090', 'd8c62df78c', '5954cb98c8', 'fcb903eff0', 'dea7cbc5c5', '4680269ef1', '80d7543acb', 'e466521a27', '0a4b4299d2', '3ec7c6a97c', 'e95adeebaf', '395e0108e7', 'dd8e6c2233', '519fdc89c1', '2362f78e4b', 'acf6656f68', '48976525b7', '81df0e63de', '14aaa649c7', '2a2073ceb5', '16d92ddc7b', '8805626a67', '72ad929f41', '354809a9f4', 'a878753336', 'ed978bf127', '9735a6b051', 'de58a38d6c', '2b4b7cd571', 'e05c339447', 'cd6cdb377d', 'd87c685738', '712b931174', '125461812b', '6fe848cd76', '462c420128', '5ab30afc32', 'f9f9100cfb', '05b5b92f32', 'a88f57c7ea', 'a70ef5a023', 'd3b07a4fd8', '1b5eabf811', '83448eecf5', 'fa548b2af5', 'e6d6347750', '28672c8a4e', '1db53f149e', '3d63ac7eaf', 'fdbf242cbe', '17b0b45c82', 'aa849323ae', '842038cbbb', 'ab307c9008', 'fa1767e6e3', '416446ca74', 'd727e16c9e', '2e7c051a4b', '4ae002e825', '7fedd43bf6', 'cbc1128701', 'c2671f2f38', 'd8c158b8bf', '4bb10dc4e9', '43588efb1c', '213eb33b34', 'c8ca6d3f20', '1aa46bd795', '8852397c03', 'f8e63dc317', '473fa6f229', '4aecdc3251', 'b5cc583f2d', 'b778746723', '7d2782e41a', '5b7d18ab3e', '40d72d4071', 'c48bc62edc', 'ae3b449b81', '6f64b72bc8', 'e3b4e5b780']\""
      ]
     },
     "execution_count": 5,
     "metadata": {},
     "output_type": "execute_result"
    }
   ],
   "source": [
    "repr(list(f_modes[TraceFailure.NOT_FAIL].items | f_modes[TraceFailure.FAST_UNKNOWN].items))"
   ]
  },
  {
   "cell_type": "code",
   "execution_count": null,
   "metadata": {},
   "outputs": [],
   "source": []
  }
 ],
 "metadata": {
  "kernelspec": {
   "display_name": "Python 3",
   "language": "python",
   "name": "python3"
  },
  "language_info": {
   "codemirror_mode": {
    "name": "ipython",
    "version": 3
   },
   "file_extension": ".py",
   "mimetype": "text/x-python",
   "name": "python",
   "nbconvert_exporter": "python",
   "pygments_lexer": "ipython3",
   "version": "3.8.10"
  }
 },
 "nbformat": 4,
 "nbformat_minor": 2
}
