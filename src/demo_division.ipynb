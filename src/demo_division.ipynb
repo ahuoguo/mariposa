{
 "cells": [
  {
   "cell_type": "code",
   "execution_count": 2,
   "metadata": {},
   "outputs": [],
   "source": [
    "import sys, os\n",
    "\n",
    "sys.path.append(\"/home/yizhou7/mariposa/src\")\n",
    "os.chdir(\"/home/yizhou7/mariposa/\")\n",
    "\n",
    "from utils.analysis_utils import Categorizer\n",
    "from debugger.edit_tracker import EditTracker\n",
    "from benchmark_consts import UNSTABLE_MARIPOSA"
   ]
  },
  {
   "cell_type": "code",
   "execution_count": 3,
   "metadata": {},
   "outputs": [
    {
     "name": "stdout",
     "output_type": "stream",
     "text": [
      "\u001b[93m[WARN] [init] previous debugging attempt has failed, run with --retry-failed if needed! \u001b[0m\n",
      "\u001b[93m[WARN] [proof] no proof available \u001b[0m\n",
      "\u001b[93m[WARN] [init] previous debugging attempt has failed, run with --retry-failed if needed! \u001b[0m\n",
      "\u001b[93m[WARN] [proof] no proof available \u001b[0m\n",
      "\u001b[93m[WARN] [init] previous debugging attempt has failed, run with --retry-failed if needed! \u001b[0m\n",
      "\u001b[93m[WARN] [proof] no proof available \u001b[0m\n",
      "\u001b[93m[WARN] [init] previous debugging attempt has failed, run with --retry-failed if needed! \u001b[0m\n",
      "\u001b[93m[WARN] [proof] no proof available \u001b[0m\n"
     ]
    }
   ],
   "source": [
    "from debugger.debugger_options import DebugOptions\n",
    "from debugger.mutant_info import TraceFailure\n",
    "\n",
    "f_modes = Categorizer()\n",
    "trackers = dict()\n",
    "\n",
    "for query in UNSTABLE_MARIPOSA:\n",
    "    tracker = EditTracker(query, DebugOptions())\n",
    "    if not tracker.proof_available():\n",
    "        f_modes.add_item(\"NO PROOF\", tracker.name_hash)\n",
    "        continue\n",
    "    trackers[tracker.name_hash] = tracker\n",
    "    mi = tracker.get_trace_info()\n",
    "    reason = mi.get_failed_reason()\n",
    "    f_modes.add_item(reason, tracker.name_hash)\n",
    "\n",
    "f_modes.finalize()"
   ]
  },
  {
   "cell_type": "code",
   "execution_count": 4,
   "metadata": {},
   "outputs": [
    {
     "name": "stdout",
     "output_type": "stream",
     "text": [
      "| category                  |   count | percentage   |\n",
      "|---------------------------|---------|--------------|\n",
      "| TraceFailure.TIMEOUT      |     444 | 81.47 %      |\n",
      "| TraceFailure.FAST_UNKNOWN |      90 | 16.51 %      |\n",
      "| TraceFailure.SLOW_UNKNOWN |       5 | 0.92 %       |\n",
      "| NO PROOF                  |       4 | 0.73 %       |\n",
      "| TraceFailure.NOT_FAIL     |       2 | 0.37 %       |\n",
      "| total                     |     545 | 100.00 %     |\n"
     ]
    }
   ],
   "source": [
    "f_modes.print_status()"
   ]
  },
  {
   "cell_type": "code",
   "execution_count": 5,
   "metadata": {},
   "outputs": [],
   "source": [
    "for name_hash in f_modes[TraceFailure.NOT_FAIL]:\n",
    "    tracker = trackers[name_hash]"
   ]
  },
  {
   "cell_type": "code",
   "execution_count": 9,
   "metadata": {},
   "outputs": [
    {
     "name": "stdout",
     "output_type": "stream",
     "text": [
      "FAST_UNKOWN_TARGETS = ['5ab30afc32', 'fa548b2af5', 'a88f57c7ea', '6f64b72bc8', 'c8ca6d3f20', 'f8e63dc317', '72ad929f41', '462c420128', 'ed978bf127', 'fcb903eff0', 'd727e16c9e', '0b497bc090', '83448eecf5', 'a878753336', 'e466521a27', '1b5eabf811', 'ae3b449b81', '8805626a67', '4aecdc3251', '167389a8ef', 'd3b07a4fd8', 'acf6656f68', '416446ca74', '3ec7c6a97c', '6fe848cd76', '81df0e63de', '0a4b4299d2', '7fedd43bf6', '1aa46bd795', '842038cbbb', 'dd8e6c2233', 'aa849323ae', '519fdc89c1', '2362f78e4b', '125461812b', 'd87c685738', '2a2073ceb5', 'a70ef5a023', 'e508668090', '3d63ac7eaf', 'd8c62df78c', '3818823b0a', '14aaa649c7', '28672c8a4e', 'c2671f2f38', 'c8f75a1321', '383f10cfb6', '16d92ddc7b', '9735a6b051', '5954cb98c8', '395e0108e7', 'e6d6347750', '873cd88973', 'b778746723', 'e05c339447', '1db53f149e', '2f7324b043', '2b4b7cd571', 'b5cc583f2d', 'fdbf242cbe', 'e95adeebaf', 'cc3fad677d', 'cd6cdb377d', '4ae002e825', '4680269ef1', 'd8c158b8bf', 'fa1767e6e3', '40d72d4071', 'fb0072addd', '43588efb1c', 'ab307c9008', '7d2782e41a', '79fffdb8cb', '80d7543acb', '05b5b92f32', '17b0b45c82', 'c48bc62edc', 'f9f9100cfb', 'cbc1128701', '8852397c03', '354809a9f4', 'dea7cbc5c5', '48976525b7', 'e3b4e5b780', '2e7c051a4b', '473fa6f229', 'de58a38d6c', '4bb10dc4e9', 'b5f812a861', '5b7d18ab3e', '213eb33b34', '712b931174']\n"
     ]
    }
   ],
   "source": [
    "# the list of queries to use FAST_FAIL strategy\n",
    "\n",
    "print(\"FAST_UNKOWN_TARGETS = \", end=\"\")\n",
    "print(list(f_modes[TraceFailure.NOT_FAIL].items | f_modes[TraceFailure.FAST_UNKNOWN].items))"
   ]
  },
  {
   "cell_type": "code",
   "execution_count": 8,
   "metadata": {},
   "outputs": [
    {
     "name": "stdout",
     "output_type": "stream",
     "text": [
      "FIXED_POINT_TARGETS = ['1d57b073cc', 'd82f76226c', '443cdbaf14', 'f77473cf84', 'e03d7dc55c', '72139a143b', '2ba7cc6a6a', '9796f7a39f', 'a9ba4f3553', '11e4bbf583', 'a95607b981', 'd9b4a1a745', 'bfa5905941', '6b83ccf507', 'df44b4f111', 'cc5b8bed53', '8f383c7db0', '059d8a76e6', '45d0bd930b', '74193764bc', 'f8271123d9', 'e695dc7eeb', 'bacb951c70', '3b176b0694', 'b8ed14e0c5', '4d7e86f7da', 'd6c59c638c', '9f41cf9dd5', '7373c499e2', '1752022f42', '84faa1a2fa', '2cbf19182c', '0c00bb9db6', '59dd7b549d', '7492404d65', 'c5b6c95d49', 'ab52dadac1', '031b71b1cf', '5fbd6f43b7', '4c2945c620', '81f604e545', '740fdc77a1', '9b9277bc39', '6b4aac4136', '6bbd2c848c', 'd27df8e3bb', '94bc3cfd5f', '7e492ef45f', '203627efb4', '2d9d740dd9', '2606c5a287', 'a40c2ef0b3', '17904af761', '09e4f9c085', '2d98098a21', 'caebe30494', 'b6123843b3', '3b1c756824', '02378bfc2b', '70b04e001b', '4ce9083b0d', '13ee923b22', '243ec915e0', '96f127e037', '1ab6690346', '2211f3ba76', 'fae7756eb4', 'd71eeda4cd', 'b100de24e1', '58d93cd4ed', 'b837e52d8b', '7f39d29669', 'b3ec86d7f1', '1dbfa93b6f', '158af610a6', '52bd8e7cb8', '53b94c898b', '82f91d0d6f', '05641d2609', '93954d4dad', '0ad8073737', '1fc9b21323', '90270fc66a', '613f2c355d', '868d0bf364', 'fdcfb278f8', '01b00606af', 'b6f117b674', 'e2b0591692', '862cb1068a', '5af6d28737', '2ead327dad', '24a1fea1cb', '4dc3312a9a', '6d5603f1e4', 'c066e22df7', '0b346d0f87', '31e9d7c601', 'f6db5998ec', '47c0fbf175', '2298e56311', '7072b00e75', '12c7d523b1', 'd347f45fa2', '50e9564b05', 'c83a6af781', '085a5fa6a3', 'cca6928c4f', 'b546a78766', '3ac32afb30', 'c5633470e3', '411ef2f9db', 'e1c4753770', 'fa733ab6d6', 'fb2ca1a594', '09f0c73516', 'cb725a5d7b', '9bfdf36ae8', '1d23e345a5', '9fe662b14c', '782b28a40e', '68e476ab9f', '422a6c0817', '2d00faf52c', 'd1b83603db', 'c97090bb09', '6737d567f9', 'a972e908eb', '298f3245ca', 'ee8d1ab295', '355b104f3e', '9415956048', '07554b6280', 'a0a67d231a', 'f5d478ae5f', 'ac4102a2e0', '06a10772cf', '5dc26045ea', '1d32c4d524', 'a05a8d0e07', 'e93855aadd', '57ff707219', 'a9102fb49c', '519d87022d', 'd874a82c3a', '47ef270c0c', '61daeac2cb', '6884529c21', 'a027d8f301', '7dccaece2d', 'fac95e1ef6', 'b6e82319b9', 'a213073776', '02ce0894ca', 'c174525f75', '5d39862f72', '7f97f9269e', '4d6ae633c8', '1de7054a37', '488737f5fe', 'b5d367aaf5', '1c02a6059f', '65f41ba519', '0556ae8c88', '557e72f7ae', '068433d26a', '3296ed07d9', 'b52f25923a', '3a37e843fb', '5c1612881d', '6f6c55d971', 'a6e96b148b', '1f96205287', '112938db3c', '3366a80004', '9967bcf803', 'c7b10ef871', '73e0c43c61', 'f7f46a3a04', '4040d2a20b', '18defa0150', '02d1b2ad7e', 'd01bd917c5', '5fbc06f886', '391e1b7ac0', '947dcf5ca9', 'f4aec3e1dd', '93815c9e8c', '1c986e634b', '018a6d3a64', '8909f4c8e6', '0defc27a3b', 'be808dd0c3', 'f335e72a88', '7b0fbd9a55', '74e1d044a1', '266488af24', '061f1d0514', '05c075acd8', '38d93c5774', '0334fcf203', '93c0449639', '34ae13040e', '1a397d663b', '77448147c2', '4eec50bfef', '0cce886818', 'b9896cbaf6', 'adb0c59b26', '5741fd7355', '3c8b9dae45', 'cd6015582a', 'b2c059e298', 'ed36496079', 'a7a2dc0c2d', 'f986501402', 'b1b86518f3', '87abcdd247', '041773ee5b', '2b22e90742', '16e535bb0c', '7bde492655', '6200b46f8f', '62e586cacd', '91f1dee2f1', '36a1859f27', '37eddcb7ab', 'a0c42cc37e', '0cedd72fe1', '1f3cf5998c', 'f5fa3eaaf7', '0b72dcef64', 'cd0ec39156', '90e97b47ee', 'f92fbc3fec', '44ac0b7ce8', '3ed30b3382', '9b55212ceb', 'de06634d5d', 'af3454b9b7', 'e9080f3e47', 'd0c54edf56', '786d3d1ed6', '2d513d1a0e', 'd96ff98f2e', '3d19b7e2c9', 'e743734c96', '66fdaa7389', 'c1a05b62ba', '3c3d86031e', 'e5c19b8ea5', '751af3ffba', '39c8cf4676', '58a0fdb9fc', 'a854e6c8ad', 'ffa588ca99', '44a2764cf8', 'afa9016fd6', '8e8d83f571', '06de62b08b', '1c167aafa9', 'b231954c65', 'f2162eddbb', 'c8a3060122', '3d6f2d9f7a', '1b7f64e95b', '28f9cbda22', '7798796cc9', 'ab13d91431', '1996525606', '2ca7beb862', '0c40f30097', '67d8d6de26', 'c4350a29e0', '95ece4e2c8', '0f400a3f00', 'cb9ff97970', '22bc3230fa', '39dea8e27a', '8a59d4481f', '50b414ceb9', '543c83b4e6', 'a4cb7288c6', '03df204fcd', '926dcc2129', 'eec60fd21e', '3fdafd8cf5', '179f62e2d4', 'ef84a89ec9', '7e4d6827ed', 'dc83338098', '47775b0cf2', '1a4c83bd83', '19e7b4a644', '5add81d45d', '34eda2f999', '7c6738ef40', '1673ca97a5', '1ce0be0d98', '22188d7780', '158bcfb113', '49665b0459', 'caf3ffb720', '30af6a3633', '2f80d5bcaa', '790839853f', '93c526c629', '26cc7a44c8', '915d51eada', '0897ef84da', '9adbe2e346', '1f1391e20c', 'ff4c3e8cab', 'ef1ebd5d7d', '975f2fa60e', '7e3368fab1', '0711a2f033', '2072de2763', '802c68cc26', 'e41d0ee45e', '72a2c42fee', '8be7c5ec27', 'e65b46b51f', '695f604e3c', '1afa5361f7', 'a5dd7919bb', 'd8fb40a98b', 'c4b6442111', '60095b1a59', 'a650f4205b', 'd1535f1776', 'c8498ec17a', 'd75368331e', '65bb77f5f3', '7fd5899ce2', '9825043af6', 'f1fdf3be38', '5e2368e7d9', 'd90c817672', 'a2998ce7e3', '83c57f0bcb', '6a7bc24676', '3ed37733c3', 'd619135268', 'd64b61f919', '897da79a5c', 'fc23d57b68', 'b5b0f8c2f2', '676f102c30', 'b6a7ecec0e', '563f5abfa4', '738511822f', '0effbdcba4', '9af86b2cd6', '6665cb0a02', 'b725c343b6', '2489279611', 'bf6d57d525', '61fbd4977f', 'ff70c76375', 'b96ad66775', 'cc1d9c148f', '4cce058390', '0cfa69df01', '3e5ee53876', 'b182e2a043', '28b317196a', '1ebe5e3244', 'd367d79e56', '31258859ac', '555312085e', '7af5ba0b16', '1bcd3aa5cb', '2f6a6b82e9', 'f5dc6f777b', '1b1f6c70ba', '87c4d05add', 'ce3b53d3eb', 'f81ecefbe1', '68aa54b124', '630625681a', 'b6c73c6fb9', '54f8f5c8a6', '7eea650229', 'adf9eda1ef', '90880e63b7', 'eff0b44ea2', '0e3ac592f3', '667b2b80fe', '1482b405bf', 'a19f4272bf', 'b0d1db8445', '72d4708532', '175a618390', '11435d7e73', '3ab530aac4', 'd8cf640f87', '9c17013417', '75a47c804d', '0ef92feb14', 'cdfc45fd41', '1ecf533970', '297c8f2526', 'ba85c910da', '0a1a6803c7', '82035ba9e7', '0e45874c62', 'fbd113c34b', '4ddbe507f4', '58d0af9026', 'ec816f99a1', '00d9c7f438', 'cd99d4eccb', '20983514ab', '95fa9421b7', 'b8265691e7', 'ea5023bb77', '9b9e796545', '4819fafc3f', '8cd183cebe', '8031fd6ec8', 'd29cd9f10a', '1870d1afa7', 'db5b85130e', '270b8c3ed1', '92bd652a7c', '70d34357b4', '4399a84f2c', '0416307c14', '085408afeb', '44818bcb1f', '81d60427e7', '81f91a69f2', 'f6fde2cf65', 'de19cf9fa2', 'c9d38b4125', '4f68aa20b3', 'c3e7d9e76e', 'ffb00a9e92', '10b27f0984', 'e0ef4bae19', '9e33f70e06', 'c7dd9386ea', 'b920f021f6']\n"
     ]
    }
   ],
   "source": [
    "# the list of queries to use FIXED_POINT strategy\n",
    "\n",
    "print(\"FIXED_POINT_TARGETS = \", end=\"\")\n",
    "print(list(f_modes[TraceFailure.TIMEOUT]))"
   ]
  },
  {
   "cell_type": "code",
   "execution_count": null,
   "metadata": {},
   "outputs": [],
   "source": []
  }
 ],
 "metadata": {
  "kernelspec": {
   "display_name": "Python 3",
   "language": "python",
   "name": "python3"
  },
  "language_info": {
   "codemirror_mode": {
    "name": "ipython",
    "version": 3
   },
   "file_extension": ".py",
   "mimetype": "text/x-python",
   "name": "python",
   "nbconvert_exporter": "python",
   "pygments_lexer": "ipython3",
   "version": "3.8.10"
  }
 },
 "nbformat": 4,
 "nbformat_minor": 2
}
