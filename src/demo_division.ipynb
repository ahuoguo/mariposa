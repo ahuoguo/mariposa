{
 "cells": [
  {
   "cell_type": "code",
   "execution_count": 1,
   "metadata": {},
   "outputs": [],
   "source": [
    "import sys, os\n",
    "\n",
    "sys.path.append(\"/home/yizhou7/mariposa/src\")\n",
    "os.chdir(\"/home/yizhou7/mariposa/\")\n",
    "\n",
    "from utils.analysis_utils import Categorizer\n",
    "from debugger.edit_tracker import EditTracker\n",
    "from benchmark_consts import UNSTABLE_MARIPOSA"
   ]
  },
  {
   "cell_type": "code",
   "execution_count": null,
   "metadata": {},
   "outputs": [
    {
     "name": "stdout",
     "output_type": "stream",
     "text": [
      "\u001b[93m[WARN] [init] previous debugging attempt has failed, run with --retry-failed if needed! \u001b[0m\n",
      "\u001b[93m[WARN] [proof] no proof available \u001b[0m\n",
      "\u001b[93m[WARN] [init] previous debugging attempt has failed, run with --retry-failed if needed! \u001b[0m\n",
      "\u001b[93m[WARN] [proof] no proof available \u001b[0m\n",
      "\u001b[93m[WARN] [init] previous debugging attempt has failed, run with --retry-failed if needed! \u001b[0m\n",
      "\u001b[93m[WARN] [proof] no proof available \u001b[0m\n",
      "\u001b[93m[WARN] [init] previous debugging attempt has failed, run with --retry-failed if needed! \u001b[0m\n",
      "\u001b[93m[WARN] [proof] no proof available \u001b[0m\n"
     ]
    }
   ],
   "source": [
    "from debugger.debugger_options import DebugOptions\n",
    "from debugger.mutant_info import TraceFailure\n",
    "\n",
    "f_modes = Categorizer()\n",
    "trackers = dict()\n",
    "\n",
    "for query in UNSTABLE_MARIPOSA:\n",
    "    tracker = EditTracker(query, DebugOptions())\n",
    "    if not tracker.proof_available():\n",
    "        f_modes.add_item(\"NO PROOF\", tracker.name_hash)\n",
    "        continue\n",
    "    trackers[tracker.name_hash] = tracker\n",
    "    mi = tracker.get_trace_info()\n",
    "    reason = mi.get_failed_reason()\n",
    "    f_modes.add_item(reason, tracker.name_hash)\n",
    "\n",
    "f_modes.finalize()"
   ]
  },
  {
   "cell_type": "code",
   "execution_count": 6,
   "metadata": {},
   "outputs": [
    {
     "name": "stdout",
     "output_type": "stream",
     "text": [
      "| category                  |   count | percentage   |\n",
      "|---------------------------|---------|--------------|\n",
      "| TraceFailure.TIMEOUT      |     440 | 80.73 %      |\n",
      "| TraceFailure.FAST_UNKNOWN |      88 | 16.15 %      |\n",
      "| TraceFailure.NOT_FAIL     |       8 | 1.47 %       |\n",
      "| TraceFailure.SLOW_UNKNOWN |       5 | 0.92 %       |\n",
      "| NO PROOF                  |       4 | 0.73 %       |\n",
      "| total                     |     545 | 100.00 %     |\n"
     ]
    }
   ],
   "source": [
    "f_modes.print_status()"
   ]
  },
  {
   "cell_type": "code",
   "execution_count": null,
   "metadata": {},
   "outputs": [
    {
     "name": "stdout",
     "output_type": "stream",
     "text": [
      "1.262\n",
      "0.236\n",
      "0.303\n",
      "0.574\n",
      "0.598\n",
      "0.592\n",
      "0.429\n",
      "0.11\n"
     ]
    }
   ],
   "source": [
    "for name_hash in f_modes[TraceFailure.NOT_FAIL]:\n",
    "    tracker = trackers[name_hash]\n",
    "    mi = tracker.get_trace_info()\n",
    "    print(mi.trace_time/1000)"
   ]
  },
  {
   "cell_type": "code",
   "execution_count": null,
   "metadata": {},
   "outputs": [],
   "source": []
  }
 ],
 "metadata": {
  "kernelspec": {
   "display_name": "Python 3",
   "language": "python",
   "name": "python3"
  },
  "language_info": {
   "codemirror_mode": {
    "name": "ipython",
    "version": 3
   },
   "file_extension": ".py",
   "mimetype": "text/x-python",
   "name": "python",
   "nbconvert_exporter": "python",
   "pygments_lexer": "ipython3",
   "version": "3.8.10"
  }
 },
 "nbformat": 4,
 "nbformat_minor": 2
}
