{
 "cells": [
  {
   "cell_type": "code",
   "execution_count": 1,
   "metadata": {},
   "outputs": [],
   "source": [
    "import sys, os\n",
    "\n",
    "MARIPOSA_PATH = \"/home/yizhou7/mariposa/\"\n",
    "\n",
    "sys.path.append(MARIPOSA_PATH + \"src\")\n",
    "os.chdir(MARIPOSA_PATH)\n",
    "\n",
    "from debugger.strainer import DebugStatus\n",
    "from debugger.options import DbgMode, DebugOptions\n",
    "from bench.viewer import BenchViewer\n",
    "from bench.factory import get_mariposa_viewer\n",
    "from bench.consts import *"
   ]
  },
  {
   "cell_type": "code",
   "execution_count": 2,
   "metadata": {},
   "outputs": [
    {
     "name": "stdout",
     "output_type": "stream",
     "text": [
      "\u001b[93m[WARN] [proof] no proofs available \u001b[0m\n",
      "\u001b[93m[WARN] [init] 0b497bc090 trace did not fail, fallback to fast_fail \u001b[0m\n",
      "\u001b[93m[WARN] [proof] no proofs available \u001b[0m\n",
      "\u001b[93m[WARN] [init] 2a3b1202bd trace slow unknown, fallback to fast_fail \u001b[0m\n",
      "\u001b[93m[WARN] [proof] no proofs available \u001b[0m\n",
      "\u001b[93m[WARN] [init] e998d08b31 trace slow unknown, fallback to fast_fail \u001b[0m\n",
      "\u001b[93m[WARN] [proof] no proofs available \u001b[0m\n",
      "\u001b[93m[WARN] [init] 3ce5c5e4dc trace slow unknown, fallback to fast_fail \u001b[0m\n",
      "\u001b[93m[WARN] [init] d4e5e77cbc trace slow unknown, fallback to fast_fail \u001b[0m\n",
      "\u001b[93m[WARN] [init] 5b7d18ab3e trace did not fail, fallback to fast_fail \u001b[0m\n",
      "\u001b[93m[WARN] [init] 3cead21983 trace slow unknown, fallback to fast_fail \u001b[0m\n"
     ]
    }
   ],
   "source": [
    "round1: BenchViewer = get_mariposa_viewer()"
   ]
  },
  {
   "cell_type": "code",
   "execution_count": 3,
   "metadata": {},
   "outputs": [
    {
     "name": "stdout",
     "output_type": "stream",
     "text": [
      "Mode: DbgMode.FAST_FAIL\n",
      "| category                  |   count | percentage   |\n",
      "|---------------------------|---------|--------------|\n",
      "| DebugStatus.FIX_FOUND     |      52 | 53.06%       |\n",
      "| DebugStatus.FIX_NOT_FOUND |      45 | 45.92%       |\n",
      "| DebugStatus.NO_PROOF      |       1 | 1.02%        |\n",
      "| total                     |      98 | 100.00 %     |\n",
      "Mode: DbgMode.TIMEOUT\n",
      "| category                  |   count | percentage   |\n",
      "|---------------------------|---------|--------------|\n",
      "| DebugStatus.FIX_FOUND     |     276 | 61.74%       |\n",
      "| DebugStatus.FIX_NOT_FOUND |     168 | 37.58%       |\n",
      "| DebugStatus.NO_PROOF      |       3 | 0.67%        |\n",
      "| total                     |     447 | 100.00 %     |\n"
     ]
    }
   ],
   "source": [
    "modes = round1.break_down_modes()\n",
    "\n",
    "for mode in modes:\n",
    "    print(f\"Mode: {mode}\")\n",
    "    modes[mode].print_status()"
   ]
  },
  {
   "cell_type": "code",
   "execution_count": 4,
   "metadata": {},
   "outputs": [
    {
     "name": "stdout",
     "output_type": "stream",
     "text": [
      "| category                  |   count | percentage   |\n",
      "|---------------------------|---------|--------------|\n",
      "| DebugStatus.FIX_NOT_FOUND |     133 | 79.17%       |\n",
      "| DebugStatus.FIX_FOUND     |      35 | 20.83%       |\n",
      "| total                     |     168 | 100.00 %     |\n"
     ]
    }
   ],
   "source": [
    "options = DebugOptions()\n",
    "options.is_verus = False\n",
    "# it is tested under the name DOUBLETON\n",
    "# overwrite the mode, otherwise AUTO -> TIMEOUT\n",
    "options.mode = DbgMode.DOUBLETON\n",
    "\n",
    "round2_to = BenchViewer(modes[DbgMode.TIMEOUT][DebugStatus.FIX_NOT_FOUND], options)\n",
    "round2_to.status.print_status()"
   ]
  },
  {
   "cell_type": "code",
   "execution_count": 5,
   "metadata": {},
   "outputs": [
    {
     "name": "stdout",
     "output_type": "stream",
     "text": [
      "\u001b[93m[WARN] [proof] no proofs available \u001b[0m\u001b[93m[WARN] [proof] no proofs available \u001b[0m\n",
      "\u001b[93m[WARN] [proof] no proofs available \u001b[0m\n",
      "\n",
      "\u001b[93m[WARN] [proof] no proofs available \u001b[0m\u001b[93m[WARN] [proof] no proofs available \u001b[0m\n",
      "\u001b[93m[WARN] [proof] no proofs available \u001b[0m\n",
      "\u001b[93m[WARN] [proof] no proofs available \u001b[0m\n",
      "\n",
      "\u001b[93m[WARN] [proof] no proofs available \u001b[0m\n",
      "\u001b[93m[WARN] [proof] no proofs available \u001b[0m\n",
      "\u001b[93m[WARN] [proof] no proofs available \u001b[0m\n",
      "\n",
      "\u001b[93m[WARN] [proof] no proofs available \u001b[0m| category                  |   count | percentage   |\n",
      "|---------------------------|---------|--------------|\n",
      "| DebugStatus.FIX_NOT_FOUND |      19 | 43.18%       |\n",
      "| DebugStatus.FIX_FOUND     |      14 | 31.82%       |\n",
      "| DebugStatus.NO_PROOF      |      11 | 25.0%        |\n",
      "| total                     |      44 | 100.00 %     |\n"
     ]
    }
   ],
   "source": [
    "from utils.system_utils import list_smt2_files\n",
    "\n",
    "skolmized = list_smt2_files(MARIPOSA_SKOLEM_DIR)\n",
    "options = DebugOptions()\n",
    "options.is_verus = False\n",
    "options.mode = DbgMode.SKOLEM\n",
    "\n",
    "round2_sk = BenchViewer(skolmized, options)\n",
    "round2_sk.status.print_status()"
   ]
  },
  {
   "cell_type": "code",
   "execution_count": null,
   "metadata": {},
   "outputs": [],
   "source": []
  }
 ],
 "metadata": {
  "kernelspec": {
   "display_name": "Python 3",
   "language": "python",
   "name": "python3"
  },
  "language_info": {
   "codemirror_mode": {
    "name": "ipython",
    "version": 3
   },
   "file_extension": ".py",
   "mimetype": "text/x-python",
   "name": "python",
   "nbconvert_exporter": "python",
   "pygments_lexer": "ipython3",
   "version": "3.8.10"
  }
 },
 "nbformat": 4,
 "nbformat_minor": 2
}
