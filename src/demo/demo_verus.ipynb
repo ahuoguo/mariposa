{
 "cells": [
  {
   "cell_type": "code",
   "execution_count": 1,
   "metadata": {},
   "outputs": [],
   "source": [
    "import sys, os\n",
    "\n",
    "MARIPOSA_PATH = \"/home/yizhou7/mariposa/\"\n",
    "\n",
    "sys.path.append(MARIPOSA_PATH + \"src\")\n",
    "os.chdir(MARIPOSA_PATH)\n",
    "\n",
    "from debugger.strainer import DebugStatus\n",
    "from debugger.options import DbgMode, DebugOptions\n",
    "from bench.viewer import BenchViewer\n",
    "from bench.factory import get_verus_viewer"
   ]
  },
  {
   "cell_type": "code",
   "execution_count": 2,
   "metadata": {},
   "outputs": [
    {
     "name": "stdout",
     "output_type": "stream",
     "text": [
      "\u001b[93m[WARN] [proof] no proofs available \u001b[0m\n",
      "\u001b[93m[WARN] [init] 8d058577cd trace slow unknown, fallback to fast_fail \u001b[0m\n",
      "\u001b[93m[WARN] [proof] no proofs available \u001b[0m\n",
      "\u001b[93m[WARN] [proof] no proofs available \u001b[0m\n"
     ]
    }
   ],
   "source": [
    "round1: BenchViewer = get_verus_viewer()"
   ]
  },
  {
   "cell_type": "code",
   "execution_count": 3,
   "metadata": {},
   "outputs": [],
   "source": [
    "# for Verus, we have bundled and re-tested the fixable cases\n",
    "\n",
    "discount = [\n",
    "    (\"08719204aa\", \"4b9e624e\"),\n",
    "    (\"81b159a977\", \"fbe192f3\"),\n",
    "    (\"2556504d15\", \"7ab783b0\"),\n",
    "    (\"6540edb885\", \"5e546c11\"),\n",
    "    (\"82449bd2e8\", \"4c612f9b\"),\n",
    "    (\"a1b4b3fd4a\", \"4e444e51\"),\n",
    "    (\"55b4af82a4\", \"02d50371\"),\n",
    "    (\"2556504d15\", \"0e424555\"),\n",
    "    (\"4d2d4fbc20\", \"5a3b4208\"),\n",
    "    (\"82449bd2e8\", \"905f3174\"),\n",
    "    (\"2045867a58\", \"7ec12ea5\"),\n",
    "    (\"55b4af82a4\", \"781157b6\"),\n",
    "    (\"68ac429152\", \"75d801e3\"),\n",
    "]\n",
    "\n",
    "def fixes_after_discount(dbg):\n",
    "    report =dbg.report\n",
    "    name_hash = dbg.name_hash\n",
    "    fixes = []\n",
    "    for edit_path in report.stabilized['edit_path']:\n",
    "        edit_hash = os.path.basename(edit_path).split('.')[0]\n",
    "        if (name_hash, edit_hash) in discount:\n",
    "            continue\n",
    "        fixes += [edit_path]\n",
    "    return fixes"
   ]
  },
  {
   "cell_type": "code",
   "execution_count": 4,
   "metadata": {},
   "outputs": [],
   "source": [
    "for q in list(round1.status[DebugStatus.FIX_FOUND]):\n",
    "    if fixes_after_discount(round1[q]) == []:\n",
    "        round1.status.switch_category(q, DebugStatus.FIX_NOT_FOUND)"
   ]
  },
  {
   "cell_type": "code",
   "execution_count": 5,
   "metadata": {},
   "outputs": [
    {
     "name": "stdout",
     "output_type": "stream",
     "text": [
      "Mode: DbgMode.TIMEOUT\n",
      "| category                  |   count | percentage   |\n",
      "|---------------------------|---------|--------------|\n",
      "| DebugStatus.FIX_FOUND     |      25 | 64.1%        |\n",
      "| DebugStatus.FIX_NOT_FOUND |      12 | 30.77%       |\n",
      "| DebugStatus.NO_PROOF      |       2 | 5.13%        |\n",
      "| total                     |      39 | 100.00 %     |\n",
      "Mode: DbgMode.FAST_FAIL\n",
      "| category                  |   count | percentage   |\n",
      "|---------------------------|---------|--------------|\n",
      "| DebugStatus.FIX_FOUND     |      22 | 70.97%       |\n",
      "| DebugStatus.FIX_NOT_FOUND |       8 | 25.81%       |\n",
      "| DebugStatus.NO_PROOF      |       1 | 3.23%        |\n",
      "| total                     |      31 | 100.00 %     |\n"
     ]
    }
   ],
   "source": [
    "modes = round1.break_down_modes()\n",
    "\n",
    "for mode in modes:\n",
    "    print(f\"Mode: {mode}\")\n",
    "    modes[mode].print_status()\n"
   ]
  },
  {
   "cell_type": "code",
   "execution_count": 5,
   "metadata": {},
   "outputs": [
    {
     "name": "stderr",
     "output_type": "stream",
     "text": [
      "\u001b[94m[DEBUG] [edit] proof path: dbg/d057fff3f5/proofs/rename.17608056682826294385.proof \u001b[0m\n",
      "\u001b[94m[DEBUG] [edit] trace path: dbg/d057fff3f5/traces/shuffle.227536422975727424 \u001b[0m\n"
     ]
    },
    {
     "name": "stdout",
     "output_type": "stream",
     "text": [
      "d9a6fd7885eb3eb6c413c53316a91f44.pickle\n"
     ]
    },
    {
     "name": "stderr",
     "output_type": "stream",
     "text": [
      "\u001b[94m[DEBUG] [edit] proof path: dbg/025a074d17/proofs/rename.8846467334752358090.proof \u001b[0m\n",
      "\u001b[94m[DEBUG] [edit] proof path: dbg/2078a24298/proofs/shuffle.5340712248063809690.proof \u001b[0m\u001b[94m[DEBUG] [edit] trace path: dbg/025a074d17/traces/shuffle.7366767861977757192 \u001b[0m\n",
      "\n",
      "\u001b[94m[DEBUG] [edit] trace path: dbg/2078a24298/traces/shuffle.8829542882092737644 \u001b[0m"
     ]
    },
    {
     "name": "stdout",
     "output_type": "stream",
     "text": [
      "b6ae9d191b9dcf1a03f08d5c02972d6b.pickle"
     ]
    },
    {
     "name": "stderr",
     "output_type": "stream",
     "text": [
      "\n"
     ]
    },
    {
     "name": "stdout",
     "output_type": "stream",
     "text": [
      "\n",
      "49a287e28735f9b29bd82386e439cb06.pickle\n",
      "\u001b[93m[WARN] [differ] qid constructor_accessor_axiom not found in dbg/d057fff3f5/orig.smt2 \u001b[0m\n"
     ]
    },
    {
     "name": "stderr",
     "output_type": "stream",
     "text": [
      "\u001b[94m[DEBUG] saving cache at d057fff3f5.qstats \u001b[0m\n",
      "\u001b[94m[DEBUG] [edit] proof path: dbg/9eaad8947e/proofs/reseed.345321281840103149.proof \u001b[0m\n",
      "\u001b[94m[DEBUG] [edit] trace path: dbg/9eaad8947e/traces/rename.6382520140487459991 \u001b[0m\n"
     ]
    },
    {
     "name": "stdout",
     "output_type": "stream",
     "text": [
      "d77284012b937737531251067601c243.pickle\n"
     ]
    },
    {
     "name": "stderr",
     "output_type": "stream",
     "text": [
      "\u001b[94m[DEBUG] [edit] proof path: dbg/c4ec60f8f9/proofs/rename.5376817467618622123.proof \u001b[0m\n",
      "\u001b[94m[DEBUG] [edit] trace path: dbg/c4ec60f8f9/traces/shuffle.8091374896670368150 \u001b[0m\n"
     ]
    },
    {
     "name": "stdout",
     "output_type": "stream",
     "text": [
      "ada6a7de7f0acccd849332d4e658b8cc.pickle\n",
      "\u001b[93m[WARN] [differ] qid constructor_accessor_axiom not found in dbg/025a074d17/orig.smt2 \u001b[0m\n"
     ]
    },
    {
     "name": "stderr",
     "output_type": "stream",
     "text": [
      "\u001b[94m[DEBUG] saving cache at 025a074d17.qstats \u001b[0m\n"
     ]
    },
    {
     "name": "stdout",
     "output_type": "stream",
     "text": [
      "\u001b[93m[WARN] [differ] qid constructor_accessor_axiom not found in dbg/2078a24298/orig.smt2 \u001b[0m\n",
      "\u001b[93m[WARN] [differ] qid <null> not found in dbg/2078a24298/orig.smt2 \u001b[0m\n"
     ]
    },
    {
     "name": "stderr",
     "output_type": "stream",
     "text": [
      "\u001b[94m[DEBUG] saving cache at 2078a24298.qstats \u001b[0m\n",
      "\u001b[94m[DEBUG] [edit] proof path: dbg/cf8c015bcb/proofs/reseed.3116045616228988404.proof \u001b[0m\n",
      "\u001b[94m[DEBUG] [edit] trace path: dbg/cf8c015bcb/traces/reseed.14515881125856259207 \u001b[0m\n"
     ]
    },
    {
     "name": "stdout",
     "output_type": "stream",
     "text": [
      "0ff49e8840ba4b14bda575b85f3eaf24.pickle\n"
     ]
    },
    {
     "name": "stderr",
     "output_type": "stream",
     "text": [
      "\u001b[94m[DEBUG] [edit] proof path: dbg/aad03b9358/proofs/reseed.3470960531457555157.proof \u001b[0m\n",
      "\u001b[94m[DEBUG] [edit] trace path: dbg/aad03b9358/traces/reseed.14685607622128194302 \u001b[0m\n"
     ]
    },
    {
     "name": "stdout",
     "output_type": "stream",
     "text": [
      "bd829a77d9e8379fdb2f1c676c5dbcff.pickle\n",
      "\u001b[93m[WARN] [differ] qid unknown_5973 not found in dbg/c4ec60f8f9/orig.smt2 \u001b[0m\n"
     ]
    },
    {
     "name": "stderr",
     "output_type": "stream",
     "text": [
      "\u001b[94m[DEBUG] [edit] proof path: dbg/106770d98e/proofs/shuffle.9855462634288510796.proof \u001b[0m"
     ]
    },
    {
     "name": "stdout",
     "output_type": "stream",
     "text": [
      "\u001b[93m[WARN] [differ] qid constructor_accessor_axiom not found in dbg/c4ec60f8f9/orig.smt2 \u001b[0m"
     ]
    },
    {
     "name": "stderr",
     "output_type": "stream",
     "text": [
      "\n"
     ]
    },
    {
     "name": "stdout",
     "output_type": "stream",
     "text": [
      "\n",
      "\u001b[93m[WARN] [differ] qid <null> not found in dbg/c4ec60f8f9/orig.smt2 \u001b[0m\n"
     ]
    },
    {
     "name": "stderr",
     "output_type": "stream",
     "text": [
      "\u001b[94m[DEBUG] saving cache at c4ec60f8f9.qstats \u001b[0m\n",
      "\u001b[94m[DEBUG] [edit] trace path: dbg/106770d98e/traces/reseed.3851331470606154282 \u001b[0m\n"
     ]
    },
    {
     "name": "stdout",
     "output_type": "stream",
     "text": [
      "48755c30690ff2b0141ce7195ccff6cd.pickle\n"
     ]
    },
    {
     "name": "stderr",
     "output_type": "stream",
     "text": [
      "\u001b[94m[DEBUG] [edit] proof path: dbg/2556504d15/proofs/reseed.14418273676470417676.proof \u001b[0m\n",
      "\u001b[94m[DEBUG] [edit] trace path: dbg/2556504d15/traces/shuffle.2985516088065258878 \u001b[0m\n"
     ]
    },
    {
     "name": "stdout",
     "output_type": "stream",
     "text": [
      "c3bcde4a2e181c6c17f405b0dee16269.pickle\n"
     ]
    },
    {
     "name": "stderr",
     "output_type": "stream",
     "text": [
      "\u001b[94m[DEBUG] [edit] proof path: dbg/f08610121f/proofs/shuffle.7394039751016159464.proof \u001b[0m\n",
      "\u001b[94m[DEBUG] [edit] trace path: dbg/f08610121f/traces/reseed.17699498497585027666 \u001b[0m\n"
     ]
    },
    {
     "name": "stdout",
     "output_type": "stream",
     "text": [
      "cf589309e88f623ef03e6a307b9d6436.pickle\n"
     ]
    },
    {
     "name": "stderr",
     "output_type": "stream",
     "text": [
      "\u001b[94m[DEBUG] [edit] proof path: dbg/c726bffe99/proofs/shuffle.17977778541949180340.proof \u001b[0m\n",
      "\u001b[94m[DEBUG] [edit] trace path: dbg/c726bffe99/traces/rename.2631641013891346680 \u001b[0m\n"
     ]
    },
    {
     "name": "stdout",
     "output_type": "stream",
     "text": [
      "6c025c3bd0c9e0669a5617ff8457b4fb.pickle\n"
     ]
    },
    {
     "name": "stderr",
     "output_type": "stream",
     "text": [
      "\u001b[94m[DEBUG] [edit] proof path: dbg/4d2d4fbc20/proofs/shuffle.16912401156957085999.proof \u001b[0m\n",
      "\u001b[94m[DEBUG] [edit] trace path: dbg/4d2d4fbc20/traces/rename.12461037147283411353 \u001b[0m\n"
     ]
    },
    {
     "name": "stdout",
     "output_type": "stream",
     "text": [
      "82a72da80fb19909556f01c9dd5212d2.pickle\n",
      "\u001b[93m[WARN] [differ] qid unknown_18801 not found in dbg/aad03b9358/orig.smt2 \u001b[0m\n",
      "\u001b[93m[WARN] [differ] qid unknown_19160 not found in dbg/aad03b9358/orig.smt2 \u001b[0m\n",
      "\u001b[93m[WARN] [differ] qid unknown_19127 not found in dbg/aad03b9358/orig.smt2 \u001b[0m\n",
      "\u001b[93m[WARN] [differ] qid unknown_19146 not found in dbg/aad03b9358/orig.smt2 \u001b[0m\n",
      "\u001b[93m[WARN] [differ] qid unknown_19155 not found in dbg/aad03b9358/orig.smt2 \u001b[0m\n",
      "\u001b[93m[WARN] [differ] qid unknown_8825 not found in dbg/cf8c015bcb/orig.smt2 \u001b[0m\n",
      "\u001b[93m[WARN] [differ] qid unknown_9019 not found in dbg/cf8c015bcb/orig.smt2 \u001b[0m\n",
      "\u001b[93m[WARN] [differ] qid unknown_8990 not found in dbg/cf8c015bcb/orig.smt2 \u001b[0m\n",
      "\u001b[93m[WARN] [differ] qid unknown_8868 not found in dbg/cf8c015bcb/orig.smt2 \u001b[0m\n",
      "\u001b[93m[WARN] [differ] qid unknown_8883 not found in dbg/cf8c015bcb/orig.smt2 \u001b[0m\n",
      "\u001b[93m[WARN] [differ] qid unknown_9145 not found in dbg/cf8c015bcb/orig.smt2 \u001b[0m\n",
      "\u001b[93m[WARN] [differ] qid unknown_9132 not found in dbg/cf8c015bcb/orig.smt2 \u001b[0m\n",
      "\u001b[93m[WARN] [differ] qid unknown_8768 not found in dbg/cf8c015bcb/orig.smt2 \u001b[0m\n",
      "\u001b[93m[WARN] [differ] qid constructor_accessor_axiom not found in dbg/9eaad8947e/orig.smt2 \u001b[0m\n"
     ]
    },
    {
     "name": "stderr",
     "output_type": "stream",
     "text": [
      "\u001b[94m[DEBUG] saving cache at 9eaad8947e.qstats \u001b[0m\n"
     ]
    },
    {
     "name": "stdout",
     "output_type": "stream",
     "text": [
      "\u001b[93m[WARN] [differ] qid unknown_10290 not found in dbg/106770d98e/orig.smt2 \u001b[0m\n",
      "\u001b[93m[WARN] [differ] qid unknown_10248 not found in dbg/106770d98e/orig.smt2 \u001b[0m\n",
      "\u001b[93m[WARN] [differ] qid unknown_9931 not found in dbg/106770d98e/orig.smt2 \u001b[0m\n",
      "\u001b[93m[WARN] [differ] qid unknown_10063 not found in dbg/106770d98e/orig.smt2 \u001b[0m\n",
      "\u001b[93m[WARN] [differ] qid unknown_10201 not found in dbg/106770d98e/orig.smt2 \u001b[0m\n",
      "\u001b[93m[WARN] [differ] qid unknown_9809 not found in dbg/106770d98e/orig.smt2 \u001b[0m\n",
      "\u001b[93m[WARN] [differ] qid unknown_12855 not found in dbg/4d2d4fbc20/orig.smt2 \u001b[0m\n",
      "\u001b[93m[WARN] [differ] qid unknown_12950 not found in dbg/4d2d4fbc20/orig.smt2 \u001b[0m\n",
      "\u001b[93m[WARN] [differ] qid unknown_12564 not found in dbg/4d2d4fbc20/orig.smt2 \u001b[0m"
     ]
    },
    {
     "name": "stderr",
     "output_type": "stream",
     "text": [
      "\u001b[94m[DEBUG] [edit] proof path: dbg/7a3bd28b48/proofs/reseed.14033866900517707504.proof \u001b[0m"
     ]
    },
    {
     "name": "stdout",
     "output_type": "stream",
     "text": [
      "\n"
     ]
    },
    {
     "name": "stderr",
     "output_type": "stream",
     "text": [
      "\n"
     ]
    },
    {
     "name": "stdout",
     "output_type": "stream",
     "text": [
      "\u001b[93m[WARN] [differ] qid unknown_12705 not found in dbg/4d2d4fbc20/orig.smt2 \u001b[0m"
     ]
    },
    {
     "name": "stderr",
     "output_type": "stream",
     "text": [
      "\u001b[94m[DEBUG] [edit] trace path: dbg/7a3bd28b48/traces/reseed.14297332801369262032 \u001b[0m\n"
     ]
    },
    {
     "name": "stdout",
     "output_type": "stream",
     "text": [
      "\n",
      "4abccf2acf7fa4249a3490d371096a65.pickle\n",
      "\u001b[93m[WARN] [differ] qid unknown_12990 not found in dbg/4d2d4fbc20/orig.smt2 \u001b[0m\n",
      "\u001b[93m[WARN] [differ] qid unknown_13088 not found in dbg/4d2d4fbc20/orig.smt2 \u001b[0m\n",
      "\u001b[93m[WARN] [differ] qid unknown_12658 not found in dbg/4d2d4fbc20/orig.smt2 \u001b[0m\n",
      "\u001b[93m[WARN] [differ] qid unknown_13017 not found in dbg/4d2d4fbc20/orig.smt2 \u001b[0m\n",
      "\u001b[93m[WARN] [differ] qid unknown_4441 not found in dbg/7a3bd28b48/orig.smt2 \u001b[0m\n",
      "\u001b[93m[WARN] [differ] qid unknown_4740 not found in dbg/7a3bd28b48/orig.smt2 \u001b[0m\n",
      "\u001b[93m[WARN] [differ] qid unknown_4660 not found in dbg/7a3bd28b48/orig.smt2 \u001b[0m\n",
      "\u001b[93m[WARN] [differ] qid unknown_4618 not found in dbg/7a3bd28b48/orig.smt2 \u001b[0m\n",
      "\u001b[93m[WARN] [differ] qid unknown_4794 not found in dbg/7a3bd28b48/orig.smt2 \u001b[0m\n",
      "\u001b[93m[WARN] [differ] qid unknown_4818 not found in dbg/7a3bd28b48/orig.smt2 \u001b[0m\n",
      "\u001b[93m[WARN] [differ] qid unknown_4805 not found in dbg/7a3bd28b48/orig.smt2 \u001b[0m\n",
      "\u001b[93m[WARN] [differ] qid unknown_4389 not found in dbg/7a3bd28b48/orig.smt2 \u001b[0m\n",
      "\u001b[93m[WARN] [differ] qid constructor_accessor_axiom not found in dbg/aad03b9358/orig.smt2 \u001b[0m\n",
      "\u001b[93m[WARN] [differ] qid <null> not found in dbg/aad03b9358/orig.smt2 \u001b[0m\n"
     ]
    },
    {
     "name": "stderr",
     "output_type": "stream",
     "text": [
      "\u001b[94m[DEBUG] saving cache at aad03b9358.qstats \u001b[0m\n",
      "\u001b[94m[DEBUG] [edit] proof path: dbg/9a3bc13b2d/proofs/reseed.6636266561216061418.proof \u001b[0m\n",
      "\u001b[94m[DEBUG] [edit] trace path: dbg/9a3bc13b2d/traces/rename.6929589352549753340 \u001b[0m\n"
     ]
    },
    {
     "name": "stdout",
     "output_type": "stream",
     "text": [
      "2001f52e2a7533ef9d64199a986244ae.pickle\n",
      "\u001b[93m[WARN] [differ] qid constructor_accessor_axiom not found in dbg/2556504d15/orig.smt2 \u001b[0m\n",
      "\u001b[93m[WARN] [differ] qid <null> not found in dbg/2556504d15/orig.smt2 \u001b[0m\n"
     ]
    },
    {
     "name": "stderr",
     "output_type": "stream",
     "text": [
      "\u001b[94m[DEBUG] saving cache at 2556504d15.qstats \u001b[0m\n",
      "\u001b[94m[DEBUG] [edit] proof path: dbg/89068d3f38/proofs/rename.10834735852581795764.proof \u001b[0m\n",
      "\u001b[94m[DEBUG] [edit] trace path: dbg/89068d3f38/traces/shuffle.14572447043468962421 \u001b[0m\n"
     ]
    },
    {
     "name": "stdout",
     "output_type": "stream",
     "text": [
      "0380df320ecfcfd29f8f226633bef441.pickle\n",
      "\u001b[93m[WARN] [differ] qid constructor_accessor_axiom not found in dbg/9a3bc13b2d/orig.smt2 \u001b[0m\n"
     ]
    },
    {
     "name": "stderr",
     "output_type": "stream",
     "text": [
      "\u001b[94m[DEBUG] saving cache at 9a3bc13b2d.qstats \u001b[0m\n"
     ]
    },
    {
     "name": "stdout",
     "output_type": "stream",
     "text": [
      "\u001b[93m[WARN] [differ] qid constructor_accessor_axiom not found in dbg/c726bffe99/orig.smt2 \u001b[0m\n",
      "\u001b[93m[WARN] [differ] qid <null> not found in dbg/c726bffe99/orig.smt2 \u001b[0m\n",
      "\u001b[93m[WARN] [differ] qid constructor_accessor_axiom not found in dbg/cf8c015bcb/orig.smt2 \u001b[0m\n",
      "\u001b[93m[WARN] [differ] qid <null> not found in dbg/cf8c015bcb/orig.smt2 \u001b[0m\n",
      "\u001b[93m[WARN] [differ] qid constructor_accessor_axiom not found in dbg/89068d3f38/orig.smt2 \u001b[0m\n",
      "\u001b[93m[WARN] [differ] qid <null> not found in dbg/89068d3f38/orig.smt2 \u001b[0m\n"
     ]
    },
    {
     "name": "stderr",
     "output_type": "stream",
     "text": [
      "\u001b[94m[DEBUG] saving cache at c726bffe99.qstats \u001b[0m\u001b[94m[DEBUG] saving cache at 89068d3f38.qstats \u001b[0m\n",
      "\n",
      "\u001b[94m[DEBUG] saving cache at cf8c015bcb.qstats \u001b[0m\n",
      "\u001b[94m[DEBUG] [edit] proof path: dbg/f6f3f962c0/proofs/shuffle.13526046991560484318.proof \u001b[0m\n",
      "\u001b[94m[DEBUG] [edit] trace path: dbg/f6f3f962c0/traces/shuffle.5345052648385214803 \u001b[0m\n"
     ]
    },
    {
     "name": "stdout",
     "output_type": "stream",
     "text": [
      "c4c1f6d166ad5b106554b653f12ed9c4.pickle\n"
     ]
    },
    {
     "name": "stderr",
     "output_type": "stream",
     "text": [
      "\u001b[94m[DEBUG] [edit] proof path: dbg/b689a8d455/proofs/reseed.7960457643126824502.proof \u001b[0m\n",
      "\u001b[94m[DEBUG] [edit] trace path: dbg/b689a8d455/traces/shuffle.9658684377955998061 \u001b[0m\n"
     ]
    },
    {
     "name": "stdout",
     "output_type": "stream",
     "text": [
      "95b0b9726492cef911ef8e41d6a43142.pickle\n",
      "\u001b[93m[WARN] [differ] qid constructor_accessor_axiom not found in dbg/f08610121f/orig.smt2 \u001b[0m\n",
      "\u001b[93m[WARN] [differ] qid <null> not found in dbg/f08610121f/orig.smt2 \u001b[0m\n"
     ]
    },
    {
     "name": "stderr",
     "output_type": "stream",
     "text": [
      "\u001b[94m[DEBUG] saving cache at f08610121f.qstats \u001b[0m\n"
     ]
    },
    {
     "name": "stdout",
     "output_type": "stream",
     "text": [
      "\u001b[93m[WARN] [differ] qid constructor_accessor_axiom not found in dbg/f6f3f962c0/orig.smt2 \u001b[0m\n"
     ]
    },
    {
     "name": "stderr",
     "output_type": "stream",
     "text": [
      "\u001b[94m[DEBUG] saving cache at f6f3f962c0.qstats \u001b[0m\n",
      "\u001b[94m[DEBUG] [edit] proof path: dbg/08719204aa/proofs/shuffle.12559045082206736741.proof \u001b[0m\n",
      "\u001b[94m[DEBUG] [edit] trace path: dbg/08719204aa/traces/reseed.325235324506828228 \u001b[0m\n"
     ]
    },
    {
     "name": "stdout",
     "output_type": "stream",
     "text": [
      "46567d78739508efef162199f7702738.pickle\n"
     ]
    },
    {
     "name": "stderr",
     "output_type": "stream",
     "text": [
      "\u001b[94m[DEBUG] [edit] proof path: dbg/b119384805/proofs/shuffle.16404986598649049499.proof \u001b[0m\n",
      "\u001b[94m[DEBUG] [edit] proof path: dbg/a896b920ca/proofs/rename.13547342595759592148.proof \u001b[0m\n",
      "\u001b[94m[DEBUG] [edit] trace path: dbg/a896b920ca/traces/shuffle.3935504091054792581 \u001b[0m\n"
     ]
    },
    {
     "name": "stdout",
     "output_type": "stream",
     "text": [
      "b031de557bb34b4d198667b141063b1a.pickle\n"
     ]
    },
    {
     "name": "stderr",
     "output_type": "stream",
     "text": [
      "\u001b[94m[DEBUG] [edit] trace path: dbg/b119384805/traces/reseed.2646657787367492671 \u001b[0m\n"
     ]
    },
    {
     "name": "stdout",
     "output_type": "stream",
     "text": [
      "42575617fc2c3d37ca7747c9f14eea58.pickle\n",
      "\u001b[93m[WARN] [differ] qid constructor_accessor_axiom not found in dbg/106770d98e/orig.smt2 \u001b[0m\n",
      "\u001b[93m[WARN] [differ] qid <null> not found in dbg/106770d98e/orig.smt2 \u001b[0m\n"
     ]
    },
    {
     "name": "stderr",
     "output_type": "stream",
     "text": [
      "\u001b[94m[DEBUG] saving cache at 106770d98e.qstats \u001b[0m\n"
     ]
    },
    {
     "name": "stdout",
     "output_type": "stream",
     "text": [
      "\u001b[93m[WARN] [differ] qid constructor_accessor_axiom not found in dbg/4d2d4fbc20/orig.smt2 \u001b[0m\n",
      "\u001b[93m[WARN] [differ] qid <null> not found in dbg/4d2d4fbc20/orig.smt2 \u001b[0m\n"
     ]
    },
    {
     "name": "stderr",
     "output_type": "stream",
     "text": [
      "\u001b[94m[DEBUG] saving cache at 4d2d4fbc20.qstats \u001b[0m\n",
      "\u001b[94m[DEBUG] [edit] proof path: dbg/6937ca47cd/proofs/shuffle.8676475921380800677.proof \u001b[0m\n",
      "\u001b[94m[DEBUG] [edit] trace path: dbg/6937ca47cd/traces/reseed.16593544487877940751 \u001b[0m\n"
     ]
    },
    {
     "name": "stdout",
     "output_type": "stream",
     "text": [
      "7599a1b61ed6e7b9c60df33a629e7539.pickle\n",
      "\u001b[93m[WARN] [differ] qid constructor_accessor_axiom not found in dbg/b689a8d455/orig.smt2 \u001b[0m\n",
      "\u001b[93m[WARN] [differ] qid <null> not found in dbg/b689a8d455/orig.smt2 \u001b[0m\n"
     ]
    },
    {
     "name": "stderr",
     "output_type": "stream",
     "text": [
      "\u001b[94m[DEBUG] saving cache at b689a8d455.qstats \u001b[0m\n"
     ]
    },
    {
     "name": "stdout",
     "output_type": "stream",
     "text": [
      "\u001b[93m[WARN] [dbg] e7aff1006d has no proof, inst count is set to nan \u001b[0m\n"
     ]
    },
    {
     "name": "stderr",
     "output_type": "stream",
     "text": [
      "\u001b[94m[DEBUG] saving cache at e7aff1006d.qstats \u001b[0m\n",
      "\u001b[94m[DEBUG] [edit] proof path: dbg/32eaf80bcc/proofs/reseed.4328406295992163345.proof \u001b[0m\n",
      "\u001b[94m[DEBUG] [edit] trace path: dbg/32eaf80bcc/traces/shuffle.6910780131629932731 \u001b[0m\n"
     ]
    },
    {
     "name": "stdout",
     "output_type": "stream",
     "text": [
      "6c0e31fb6ae09e69fb226f7d33702f19.pickle\n"
     ]
    },
    {
     "name": "stderr",
     "output_type": "stream",
     "text": [
      "\u001b[94m[DEBUG] [edit] proof path: dbg/09d24c83cd/proofs/reseed.16561741523881799952.proof \u001b[0m\n",
      "\u001b[94m[DEBUG] [edit] trace path: dbg/09d24c83cd/traces/shuffle.5558647200263296762 \u001b[0m\n"
     ]
    },
    {
     "name": "stdout",
     "output_type": "stream",
     "text": [
      "b33e13d3c5310419bf354d56a1209703.pickle\n"
     ]
    },
    {
     "name": "stderr",
     "output_type": "stream",
     "text": [
      "\u001b[94m[DEBUG] [edit] proof path: dbg/199ba4594c/proofs/reseed.3199813507728074554.proof \u001b[0m\n",
      "\u001b[94m[DEBUG] [edit] trace path: dbg/199ba4594c/traces/reseed.6506362136541185908 \u001b[0m\n"
     ]
    },
    {
     "name": "stdout",
     "output_type": "stream",
     "text": [
      "5a5a06858d52f257194bd692dc8e8a4b.pickle\n",
      "\u001b[93m[WARN] [differ] qid constructor_accessor_axiom not found in dbg/7a3bd28b48/orig.smt2 \u001b[0m\n",
      "\u001b[93m[WARN] [differ] qid <null> not found in dbg/7a3bd28b48/orig.smt2 \u001b[0m\n"
     ]
    },
    {
     "name": "stderr",
     "output_type": "stream",
     "text": [
      "\u001b[94m[DEBUG] saving cache at 7a3bd28b48.qstats \u001b[0m\n"
     ]
    },
    {
     "name": "stdout",
     "output_type": "stream",
     "text": [
      "\u001b[93m[WARN] [differ] qid constructor_accessor_axiom not found in dbg/32eaf80bcc/orig.smt2 \u001b[0m\n",
      "\u001b[93m[WARN] [differ] qid <null> not found in dbg/32eaf80bcc/orig.smt2 \u001b[0m\n"
     ]
    },
    {
     "name": "stderr",
     "output_type": "stream",
     "text": [
      "\u001b[94m[DEBUG] saving cache at 32eaf80bcc.qstats \u001b[0m\n",
      "\u001b[94m[DEBUG] [edit] proof path: dbg/3c5c22d4a1/proofs/shuffle.6686661779536535792.proof \u001b[0m\n",
      "\u001b[94m[DEBUG] [edit] trace path: dbg/3c5c22d4a1/traces/shuffle.6184657921392492698 \u001b[0m\n"
     ]
    },
    {
     "name": "stdout",
     "output_type": "stream",
     "text": [
      "b714f48ce4ec76bcdab0049f62aae014.pickle\n",
      "\u001b[93m[WARN] [differ] qid constructor_accessor_axiom not found in dbg/a896b920ca/orig.smt2 \u001b[0m\n"
     ]
    },
    {
     "name": "stderr",
     "output_type": "stream",
     "text": [
      "\u001b[94m[DEBUG] saving cache at a896b920ca.qstats \u001b[0m\n",
      "\u001b[94m[DEBUG] [edit] proof path: dbg/c02ff41a27/proofs/reseed.4788160957913371286.proof \u001b[0m\n",
      "\u001b[94m[DEBUG] [edit] trace path: dbg/c02ff41a27/traces/shuffle.4351452066286619603 \u001b[0m\n"
     ]
    },
    {
     "name": "stdout",
     "output_type": "stream",
     "text": [
      "8c33787feb4a79c3a41d5862ba953477.pickle\n",
      "\u001b[93m[WARN] [differ] qid constructor_accessor_axiom not found in dbg/09d24c83cd/orig.smt2 \u001b[0m\n",
      "\u001b[93m[WARN] [differ] qid <null> not found in dbg/09d24c83cd/orig.smt2 \u001b[0m\n"
     ]
    },
    {
     "name": "stderr",
     "output_type": "stream",
     "text": [
      "\u001b[94m[DEBUG] saving cache at 09d24c83cd.qstats \u001b[0m\n"
     ]
    },
    {
     "name": "stdout",
     "output_type": "stream",
     "text": [
      "\u001b[93m[WARN] [differ] qid unknown_14190 not found in dbg/b119384805/orig.smt2 \u001b[0m\n",
      "\u001b[93m[WARN] [differ] qid constructor_accessor_axiom not found in dbg/3c5c22d4a1/orig.smt2 \u001b[0m\n"
     ]
    },
    {
     "name": "stderr",
     "output_type": "stream",
     "text": [
      "\u001b[94m[DEBUG] saving cache at 3c5c22d4a1.qstats \u001b[0m\n",
      "\u001b[94m[DEBUG] [edit] proof path: dbg/82449bd2e8/proofs/shuffle.1824484889151391589.proof \u001b[0m\n",
      "\u001b[94m[DEBUG] [edit] trace path: dbg/82449bd2e8/traces/rename.8223263913722026815 \u001b[0m\n"
     ]
    },
    {
     "name": "stdout",
     "output_type": "stream",
     "text": [
      "2b0baa4fbdbd43ba062946081e30f2e7.pickle\n",
      "\u001b[93m[WARN] [differ] qid constructor_accessor_axiom not found in dbg/c02ff41a27/orig.smt2 \u001b[0m\n",
      "\u001b[93m[WARN] [differ] qid <null> not found in dbg/c02ff41a27/orig.smt2 \u001b[0m\n"
     ]
    },
    {
     "name": "stderr",
     "output_type": "stream",
     "text": [
      "\u001b[94m[DEBUG] saving cache at c02ff41a27.qstats \u001b[0m\n",
      "\u001b[94m[DEBUG] [edit] proof path: dbg/fef99080cd/proofs/shuffle.6237900668407489070.proof \u001b[0m\u001b[94m[DEBUG] [edit] proof path: dbg/a1b4b3fd4a/proofs/rename.13466259782321760747.proof \u001b[0m\n",
      "\n",
      "\u001b[94m[DEBUG] [edit] trace path: dbg/fef99080cd/traces/shuffle.3355901794255631888 \u001b[0m\n",
      "\u001b[94m[DEBUG] [edit] trace path: dbg/a1b4b3fd4a/traces/rename.16754898796465586930 \u001b[0m"
     ]
    },
    {
     "name": "stdout",
     "output_type": "stream",
     "text": [
      "ffd07c924df572029210d1f6a0892c49.pickle"
     ]
    },
    {
     "name": "stderr",
     "output_type": "stream",
     "text": [
      "\n"
     ]
    },
    {
     "name": "stdout",
     "output_type": "stream",
     "text": [
      "\n",
      "f9149ae61a4b36d6396f9b5cf95f9e8b.pickle\n",
      "\u001b[93m[WARN] [differ] qid unknown_14453 not found in dbg/199ba4594c/orig.smt2 \u001b[0m\n",
      "\u001b[93m[WARN] [differ] qid unknown_14532 not found in dbg/199ba4594c/orig.smt2 \u001b[0m\n",
      "\u001b[93m[WARN] [differ] qid unknown_14515 not found in dbg/199ba4594c/orig.smt2 \u001b[0m\n",
      "\u001b[93m[WARN] [differ] qid unknown_14546 not found in dbg/199ba4594c/orig.smt2 \u001b[0m\n",
      "\u001b[93m[WARN] [differ] qid unknown_14488 not found in dbg/199ba4594c/orig.smt2 \u001b[0m\n"
     ]
    },
    {
     "name": "stderr",
     "output_type": "stream",
     "text": [
      "\u001b[94m[DEBUG] [edit] proof path: dbg/621abdd996/proofs/reseed.8414757691389669604.proof \u001b[0m\n",
      "\u001b[94m[DEBUG] [edit] trace path: dbg/621abdd996/traces/reseed.1522886428156592486 \u001b[0m\n"
     ]
    },
    {
     "name": "stdout",
     "output_type": "stream",
     "text": [
      "a54f17326f923e868d7de4370f157df9.pickle\n",
      "\u001b[93m[WARN] [differ] qid constructor_accessor_axiom not found in dbg/fef99080cd/orig.smt2 \u001b[0m\n",
      "\u001b[93m[WARN] [differ] qid unknown_6621 not found in dbg/82449bd2e8/orig.smt2 \u001b[0m\n"
     ]
    },
    {
     "name": "stderr",
     "output_type": "stream",
     "text": [
      "\u001b[94m[DEBUG] saving cache at fef99080cd.qstats \u001b[0m\n"
     ]
    },
    {
     "name": "stdout",
     "output_type": "stream",
     "text": [
      "\u001b[93m[WARN] [differ] qid unknown_2993 not found in dbg/a1b4b3fd4a/orig.smt2 \u001b[0m\n",
      "\u001b[93m[WARN] [differ] qid unknown_3164 not found in dbg/a1b4b3fd4a/orig.smt2 \u001b[0m\n",
      "\u001b[93m[WARN] [differ] qid unknown_3394 not found in dbg/a1b4b3fd4a/orig.smt2 \u001b[0m\n",
      "\u001b[93m[WARN] [differ] qid unknown_3008 not found in dbg/a1b4b3fd4a/orig.smt2 \u001b[0m\n",
      "\u001b[93m[WARN] [differ] qid unknown_3203 not found in dbg/a1b4b3fd4a/orig.smt2 \u001b[0m\n",
      "\u001b[93m[WARN] [differ] qid unknown_3376 not found in dbg/a1b4b3fd4a/orig.smt2 \u001b[0m\n",
      "\u001b[93m[WARN] [differ] qid unknown_2959 not found in dbg/a1b4b3fd4a/orig.smt2 \u001b[0m\n",
      "\u001b[93m[WARN] [differ] qid unknown_3277 not found in dbg/a1b4b3fd4a/orig.smt2 \u001b[0m\n"
     ]
    },
    {
     "name": "stderr",
     "output_type": "stream",
     "text": [
      "\u001b[94m[DEBUG] [edit] proof path: dbg/2faba7bd1f/proofs/rename.7442955955131910745.proof \u001b[0m\n",
      "\u001b[94m[DEBUG] [edit] trace path: dbg/2faba7bd1f/traces/rename.8561135289699441601 \u001b[0m\n"
     ]
    },
    {
     "name": "stdout",
     "output_type": "stream",
     "text": [
      "c67cbc7ea27b69ac82f437bab2fc5f74.pickle\n",
      "\u001b[93m[WARN] [differ] qid constructor_accessor_axiom not found in dbg/b119384805/orig.smt2 \u001b[0m\n",
      "\u001b[93m[WARN] [differ] qid <null> not found in dbg/b119384805/orig.smt2 \u001b[0m\n"
     ]
    },
    {
     "name": "stderr",
     "output_type": "stream",
     "text": [
      "\u001b[94m[DEBUG] saving cache at b119384805.qstats \u001b[0m\n"
     ]
    },
    {
     "name": "stdout",
     "output_type": "stream",
     "text": [
      "\u001b[93m[WARN] [differ] qid constructor_accessor_axiom not found in dbg/6937ca47cd/orig.smt2 \u001b[0m\n",
      "\u001b[93m[WARN] [differ] qid <null> not found in dbg/6937ca47cd/orig.smt2 \u001b[0m\n"
     ]
    },
    {
     "name": "stderr",
     "output_type": "stream",
     "text": [
      "\u001b[94m[DEBUG] saving cache at 6937ca47cd.qstats \u001b[0m\n"
     ]
    },
    {
     "name": "stdout",
     "output_type": "stream",
     "text": [
      "\u001b[93m[WARN] [differ] qid constructor_accessor_axiom not found in dbg/82449bd2e8/orig.smt2 \u001b[0m\n",
      "\u001b[93m[WARN] [differ] qid <null> not found in dbg/82449bd2e8/orig.smt2 \u001b[0m\n"
     ]
    },
    {
     "name": "stderr",
     "output_type": "stream",
     "text": [
      "\u001b[94m[DEBUG] saving cache at 82449bd2e8.qstats \u001b[0m\n"
     ]
    },
    {
     "name": "stdout",
     "output_type": "stream",
     "text": [
      "\u001b[93m[WARN] [differ] qid constructor_accessor_axiom not found in dbg/08719204aa/orig.smt2 \u001b[0m\n"
     ]
    },
    {
     "name": "stderr",
     "output_type": "stream",
     "text": [
      "\u001b[94m[DEBUG] saving cache at 08719204aa.qstats \u001b[0m\n"
     ]
    },
    {
     "name": "stdout",
     "output_type": "stream",
     "text": [
      "\u001b[93m[WARN] [dbg] 8283ecb8b8 has no proof, inst count is set to nan \u001b[0m\n"
     ]
    },
    {
     "name": "stderr",
     "output_type": "stream",
     "text": [
      "\u001b[94m[DEBUG] saving cache at 8283ecb8b8.qstats \u001b[0m\n",
      "\u001b[94m[DEBUG] [edit] proof path: dbg/815f69b161/proofs/rename.2393776269027745053.proof \u001b[0m\n",
      "\u001b[94m[DEBUG] [edit] trace path: dbg/815f69b161/traces/shuffle.17997689439100610842 \u001b[0m\n"
     ]
    },
    {
     "name": "stdout",
     "output_type": "stream",
     "text": [
      "61cdc8c8faf5feccb5532403895d207c.pickle\n"
     ]
    },
    {
     "name": "stderr",
     "output_type": "stream",
     "text": [
      "\u001b[94m[DEBUG] [edit] proof path: dbg/fa9020870d/proofs/rename.10925249071271673183.proof \u001b[0m\n",
      "\u001b[94m[DEBUG] [edit] trace path: dbg/fa9020870d/traces/shuffle.17192080644200663547 \u001b[0m\n"
     ]
    },
    {
     "name": "stdout",
     "output_type": "stream",
     "text": [
      "cd3656d7d4fdc20fb6a96c66631f6118.pickle\n",
      "\u001b[93m[WARN] [differ] qid unknown_8095 not found in dbg/621abdd996/orig.smt2 \u001b[0m\n",
      "\u001b[93m[WARN] [differ] qid unknown_8085 not found in dbg/621abdd996/orig.smt2 \u001b[0m\n",
      "\u001b[93m[WARN] [differ] qid unknown_8072 not found in dbg/621abdd996/orig.smt2 \u001b[0m\n",
      "\u001b[93m[WARN] [differ] qid unknown_7882 not found in dbg/621abdd996/orig.smt2 \u001b[0m\n",
      "\u001b[93m[WARN] [differ] qid unknown_8232 not found in dbg/621abdd996/orig.smt2 \u001b[0m"
     ]
    },
    {
     "name": "stderr",
     "output_type": "stream",
     "text": [
      "\u001b[94m[DEBUG] [edit] proof path: dbg/8d058577cd/proofs/rename.9999379753263398590.proof \u001b[0m"
     ]
    },
    {
     "name": "stdout",
     "output_type": "stream",
     "text": [
      "\n"
     ]
    },
    {
     "name": "stderr",
     "output_type": "stream",
     "text": [
      "\n",
      "\u001b[94m[DEBUG] [edit] trace path: dbg/8d058577cd/traces/shuffle.16031162538414592248 \u001b[0m\n"
     ]
    },
    {
     "name": "stdout",
     "output_type": "stream",
     "text": [
      "e471625220affba6fc9c32b2df8243dd.pickle\n",
      "\u001b[93m[WARN] [differ] qid unknown_8394 not found in dbg/621abdd996/orig.smt2 \u001b[0m\n",
      "\u001b[93m[WARN] [differ] qid constructor_accessor_axiom not found in dbg/815f69b161/orig.smt2 \u001b[0m\n"
     ]
    },
    {
     "name": "stderr",
     "output_type": "stream",
     "text": [
      "\u001b[94m[DEBUG] saving cache at 815f69b161.qstats \u001b[0m\n"
     ]
    },
    {
     "name": "stdout",
     "output_type": "stream",
     "text": [
      "\u001b[93m[WARN] [differ] qid unknown_18235 not found in dbg/2faba7bd1f/orig.smt2 \u001b[0m\n",
      "\u001b[93m[WARN] [differ] qid unknown_18089 not found in dbg/2faba7bd1f/orig.smt2 \u001b[0m\n",
      "\u001b[93m[WARN] [differ] qid unknown_18057 not found in dbg/2faba7bd1f/orig.smt2 \u001b[0m\n",
      "\u001b[93m[WARN] [differ] qid unknown_18193 not found in dbg/2faba7bd1f/orig.smt2 \u001b[0m\n",
      "\u001b[93m[WARN] [differ] qid unknown_18205 not found in dbg/2faba7bd1f/orig.smt2 \u001b[0m\n",
      "\u001b[93m[WARN] [differ] qid unknown_18041 not found in dbg/2faba7bd1f/orig.smt2 \u001b[0m\n",
      "\u001b[93m[WARN] [differ] qid unknown_17928 not found in dbg/2faba7bd1f/orig.smt2 \u001b[0m\n",
      "\u001b[93m[WARN] [differ] qid unknown_18272 not found in dbg/2faba7bd1f/orig.smt2 \u001b[0m\n",
      "\u001b[93m[WARN] [differ] qid constructor_accessor_axiom not found in dbg/fa9020870d/orig.smt2 \u001b[0m\n",
      "\u001b[93m[WARN] [differ] qid <null> not found in dbg/fa9020870d/orig.smt2 \u001b[0m\n"
     ]
    },
    {
     "name": "stderr",
     "output_type": "stream",
     "text": [
      "\u001b[94m[DEBUG] saving cache at fa9020870d.qstats \u001b[0m\n",
      "\u001b[94m[DEBUG] [edit] proof path: dbg/5a940edd1b/proofs/rename.9440889024953437337.proof \u001b[0m\n",
      "\u001b[94m[DEBUG] [edit] trace path: dbg/5a940edd1b/traces/shuffle.2189555834201964502 \u001b[0m\n"
     ]
    },
    {
     "name": "stdout",
     "output_type": "stream",
     "text": [
      "edb237501a4f2607b38b8e9bddba4d27.pickle\n"
     ]
    },
    {
     "name": "stderr",
     "output_type": "stream",
     "text": [
      "\u001b[94m[DEBUG] [edit] proof path: dbg/fdfae1157a/proofs/shuffle.3218465744839795938.proof \u001b[0m\n",
      "\u001b[94m[DEBUG] [edit] trace path: dbg/fdfae1157a/traces/shuffle.4882204877945181955 \u001b[0m\n"
     ]
    },
    {
     "name": "stdout",
     "output_type": "stream",
     "text": [
      "406a65921612482e53d49ae44334622f.pickle\n",
      "\u001b[93m[WARN] [differ] qid unknown_37 not found in dbg/8d058577cd/orig.smt2 \u001b[0m\n",
      "\u001b[93m[WARN] [differ] qid unknown_45 not found in dbg/8d058577cd/orig.smt2 \u001b[0m\n",
      "\u001b[93m[WARN] [differ] qid constructor_accessor_axiom not found in dbg/199ba4594c/orig.smt2 \u001b[0m\n",
      "\u001b[93m[WARN] [differ] qid <null> not found in dbg/199ba4594c/orig.smt2 \u001b[0m\n"
     ]
    },
    {
     "name": "stderr",
     "output_type": "stream",
     "text": [
      "\u001b[94m[DEBUG] saving cache at 199ba4594c.qstats \u001b[0m\n",
      "\u001b[94m[DEBUG] [edit] proof path: dbg/83bd54cd1a/proofs/reseed.5526298263868232628.proof \u001b[0m\n",
      "\u001b[94m[DEBUG] [edit] trace path: dbg/83bd54cd1a/traces/reseed.2707133698505971685 \u001b[0m\n"
     ]
    },
    {
     "name": "stdout",
     "output_type": "stream",
     "text": [
      "ff7db140d64ecbcf7d9747ea8218afd8.pickle\n"
     ]
    },
    {
     "name": "stderr",
     "output_type": "stream",
     "text": [
      "\u001b[94m[DEBUG] [edit] proof path: dbg/ed912ce861/proofs/rename.4681486518489633438.proof \u001b[0m\n",
      "\u001b[94m[DEBUG] [edit] trace path: dbg/ed912ce861/traces/shuffle.6336912347899983229 \u001b[0m\n"
     ]
    },
    {
     "name": "stdout",
     "output_type": "stream",
     "text": [
      "426d45039acc0fc89bf3e138ede2e9a0.pickle\n",
      "\u001b[93m[WARN] [differ] qid constructor_accessor_axiom not found in dbg/5a940edd1b/orig.smt2 \u001b[0m\n",
      "\u001b[93m[WARN] [differ] qid <null> not found in dbg/5a940edd1b/orig.smt2 \u001b[0m\n"
     ]
    },
    {
     "name": "stderr",
     "output_type": "stream",
     "text": [
      "\u001b[94m[DEBUG] saving cache at 5a940edd1b.qstats \u001b[0m\n"
     ]
    },
    {
     "name": "stdout",
     "output_type": "stream",
     "text": [
      "\u001b[93m[WARN] [differ] qid constructor_accessor_axiom not found in dbg/a1b4b3fd4a/orig.smt2 \u001b[0m\n",
      "\u001b[93m[WARN] [differ] qid <null> not found in dbg/a1b4b3fd4a/orig.smt2 \u001b[0m\n",
      "\u001b[93m[WARN] [dbg] 47ae6b0135 has no proof, inst count is set to nan \u001b[0m\n",
      "\u001b[93m[WARN] [differ] qid constructor_accessor_axiom not found in dbg/8d058577cd/orig.smt2 \u001b[0m"
     ]
    },
    {
     "name": "stderr",
     "output_type": "stream",
     "text": [
      "\u001b[94m[DEBUG] saving cache at 47ae6b0135.qstats \u001b[0m"
     ]
    },
    {
     "name": "stdout",
     "output_type": "stream",
     "text": [
      "\n",
      "\u001b[93m[WARN] [differ] qid <null> not found in dbg/8d058577cd/orig.smt2 \u001b[0m"
     ]
    },
    {
     "name": "stderr",
     "output_type": "stream",
     "text": [
      "\u001b[94m[DEBUG] saving cache at a1b4b3fd4a.qstats \u001b[0m"
     ]
    },
    {
     "name": "stdout",
     "output_type": "stream",
     "text": [
      "\n"
     ]
    },
    {
     "name": "stderr",
     "output_type": "stream",
     "text": [
      "\n",
      "\n",
      "\u001b[94m[DEBUG] saving cache at 8d058577cd.qstats \u001b[0m\n"
     ]
    },
    {
     "name": "stdout",
     "output_type": "stream",
     "text": [
      "\u001b[93m[WARN] [differ] qid constructor_accessor_axiom not found in dbg/621abdd996/orig.smt2 \u001b[0m\n",
      "\u001b[93m[WARN] [differ] qid constructor_accessor_axiom not found in dbg/ed912ce861/orig.smt2 \u001b[0m\u001b[93m[WARN] [differ] qid <null> not found in dbg/621abdd996/orig.smt2 \u001b[0m\n",
      "\n",
      "\u001b[93m[WARN] [differ] qid <null> not found in dbg/ed912ce861/orig.smt2 \u001b[0m\n"
     ]
    },
    {
     "name": "stderr",
     "output_type": "stream",
     "text": [
      "\u001b[94m[DEBUG] saving cache at 621abdd996.qstats \u001b[0m\n",
      "\u001b[94m[DEBUG] saving cache at ed912ce861.qstats \u001b[0m\n",
      "\u001b[94m[DEBUG] [edit] proof path: dbg/af029e0bc2/proofs/reseed.14508368194316142897.proof \u001b[0m\n",
      "\u001b[94m[DEBUG] [edit] trace path: dbg/af029e0bc2/traces/shuffle.18377065096165493170 \u001b[0m\n"
     ]
    },
    {
     "name": "stdout",
     "output_type": "stream",
     "text": [
      "59146d8ee8c364cadc6534eb19ef6d2c.pickle\n"
     ]
    },
    {
     "name": "stderr",
     "output_type": "stream",
     "text": [
      "\u001b[94m[DEBUG] [edit] proof path: dbg/be920877ca/proofs/shuffle.9555299481395785809.proof \u001b[0m\n",
      "\u001b[94m[DEBUG] [edit] trace path: dbg/be920877ca/traces/shuffle.14575692651422062579 \u001b[0m\n"
     ]
    },
    {
     "name": "stdout",
     "output_type": "stream",
     "text": [
      "7f3387739f00544be2dda14c996725b3.pickle\n"
     ]
    },
    {
     "name": "stderr",
     "output_type": "stream",
     "text": [
      "\u001b[94m[DEBUG] [edit] proof path: dbg/fa2fdaf6e0/proofs/reseed.9457796464287592495.proof \u001b[0m\n",
      "\u001b[94m[DEBUG] [edit] trace path: dbg/fa2fdaf6e0/traces/reseed.978582254624960590 \u001b[0m\n"
     ]
    },
    {
     "name": "stdout",
     "output_type": "stream",
     "text": [
      "80f24d861e72aa17b634916edccd3549.pickle\n"
     ]
    },
    {
     "name": "stderr",
     "output_type": "stream",
     "text": [
      "\u001b[94m[DEBUG] [edit] proof path: dbg/68ac429152/proofs/reseed.13773627200691514412.proof \u001b[0m\n",
      "\u001b[94m[DEBUG] [edit] trace path: dbg/68ac429152/traces/shuffle.1899044262579460870 \u001b[0m\n"
     ]
    },
    {
     "name": "stdout",
     "output_type": "stream",
     "text": [
      "2c9a4ef192626bd63cbab074fb02527b.pickle\n"
     ]
    },
    {
     "name": "stderr",
     "output_type": "stream",
     "text": [
      "\u001b[94m[DEBUG] [edit] proof path: dbg/a7f5536a00/proofs/reseed.10179614699221370520.proof \u001b[0m\n",
      "\u001b[94m[DEBUG] [edit] trace path: dbg/a7f5536a00/traces/reseed.6943587227848217496 \u001b[0m\n"
     ]
    },
    {
     "name": "stdout",
     "output_type": "stream",
     "text": [
      "1d06f9ec32b7245d85fed03a85261e7f.pickle\n",
      "\u001b[93m[WARN] [differ] qid constructor_accessor_axiom not found in dbg/be920877ca/orig.smt2 \u001b[0m\n"
     ]
    },
    {
     "name": "stderr",
     "output_type": "stream",
     "text": [
      "\u001b[94m[DEBUG] saving cache at be920877ca.qstats \u001b[0m\n"
     ]
    },
    {
     "name": "stdout",
     "output_type": "stream",
     "text": [
      "\u001b[93m[WARN] [differ] qid constructor_accessor_axiom not found in dbg/af029e0bc2/orig.smt2 \u001b[0m\n",
      "\u001b[93m[WARN] [differ] qid <null> not found in dbg/af029e0bc2/orig.smt2 \u001b[0m\n"
     ]
    },
    {
     "name": "stderr",
     "output_type": "stream",
     "text": [
      "\u001b[94m[DEBUG] saving cache at af029e0bc2.qstats \u001b[0m\n"
     ]
    },
    {
     "name": "stdout",
     "output_type": "stream",
     "text": [
      "\u001b[93m[WARN] [differ] qid constructor_accessor_axiom not found in dbg/2faba7bd1f/orig.smt2 \u001b[0m\n"
     ]
    },
    {
     "name": "stderr",
     "output_type": "stream",
     "text": [
      "\u001b[94m[DEBUG] [edit] proof path: dbg/126f0f80f3/proofs/rename.3415372238567156677.proof \u001b[0m\n"
     ]
    },
    {
     "name": "stdout",
     "output_type": "stream",
     "text": [
      "\u001b[93m[WARN] [differ] qid <null> not found in dbg/2faba7bd1f/orig.smt2 \u001b[0m"
     ]
    },
    {
     "name": "stderr",
     "output_type": "stream",
     "text": [
      "\u001b[94m[DEBUG] [edit] trace path: dbg/126f0f80f3/traces/shuffle.7693207495078702026 \u001b[0m"
     ]
    },
    {
     "name": "stdout",
     "output_type": "stream",
     "text": [
      "\n"
     ]
    },
    {
     "name": "stderr",
     "output_type": "stream",
     "text": [
      "\n",
      "\u001b[94m[DEBUG] saving cache at 2faba7bd1f.qstats \u001b[0m"
     ]
    },
    {
     "name": "stdout",
     "output_type": "stream",
     "text": [
      "4bb589b12f6a5be4023d5450d536664b.pickle\n"
     ]
    },
    {
     "name": "stderr",
     "output_type": "stream",
     "text": [
      "\n",
      "\u001b[94m[DEBUG] [edit] proof path: dbg/e16c5e8c0b/proofs/reseed.6878216073608319661.proof \u001b[0m\n",
      "\u001b[94m[DEBUG] [edit] trace path: dbg/e16c5e8c0b/traces/shuffle.15919015838397219284 \u001b[0m\n"
     ]
    },
    {
     "name": "stdout",
     "output_type": "stream",
     "text": [
      "4e0db7b8d8e3c44665f59e8ba103c029.pickle\n"
     ]
    },
    {
     "name": "stderr",
     "output_type": "stream",
     "text": [
      "\u001b[94m[DEBUG] [edit] proof path: dbg/568e167040/proofs/reseed.11405758921310182151.proof \u001b[0m\n",
      "\u001b[94m[DEBUG] [edit] trace path: dbg/568e167040/traces/shuffle.8604970216652981868 \u001b[0m\n"
     ]
    },
    {
     "name": "stdout",
     "output_type": "stream",
     "text": [
      "da1a4264f6e943314a030e55eba7ed75.pickle\n",
      "\u001b[93m[WARN] [differ] qid constructor_accessor_axiom not found in dbg/126f0f80f3/orig.smt2 \u001b[0m\n"
     ]
    },
    {
     "name": "stderr",
     "output_type": "stream",
     "text": [
      "\u001b[94m[DEBUG] saving cache at 126f0f80f3.qstats \u001b[0m\n"
     ]
    },
    {
     "name": "stdout",
     "output_type": "stream",
     "text": [
      "\u001b[93m[WARN] [differ] qid constructor_accessor_axiom not found in dbg/568e167040/orig.smt2 \u001b[0m\n",
      "\u001b[93m[WARN] [differ] qid <null> not found in dbg/568e167040/orig.smt2 \u001b[0m\n"
     ]
    },
    {
     "name": "stderr",
     "output_type": "stream",
     "text": [
      "\u001b[94m[DEBUG] saving cache at 568e167040.qstats \u001b[0m\n"
     ]
    },
    {
     "name": "stdout",
     "output_type": "stream",
     "text": [
      "\u001b[93m[WARN] [differ] qid constructor_accessor_axiom not found in dbg/e16c5e8c0b/orig.smt2 \u001b[0m\n",
      "\u001b[93m[WARN] [differ] qid <null> not found in dbg/e16c5e8c0b/orig.smt2 \u001b[0m\n",
      "\u001b[93m[WARN] [differ] qid constructor_accessor_axiom not found in dbg/fdfae1157a/orig.smt2 \u001b[0m"
     ]
    },
    {
     "name": "stderr",
     "output_type": "stream",
     "text": [
      "\u001b[94m[DEBUG] saving cache at e16c5e8c0b.qstats \u001b[0m"
     ]
    },
    {
     "name": "stdout",
     "output_type": "stream",
     "text": [
      "\n"
     ]
    },
    {
     "name": "stderr",
     "output_type": "stream",
     "text": [
      "\n"
     ]
    },
    {
     "name": "stdout",
     "output_type": "stream",
     "text": [
      "\u001b[93m[WARN] [differ] qid <null> not found in dbg/fdfae1157a/orig.smt2 \u001b[0m\n"
     ]
    },
    {
     "name": "stderr",
     "output_type": "stream",
     "text": [
      "\u001b[94m[DEBUG] saving cache at fdfae1157a.qstats \u001b[0m\n"
     ]
    },
    {
     "name": "stdout",
     "output_type": "stream",
     "text": [
      "\u001b[93m[WARN] [differ] qid unknown_17377 not found in dbg/68ac429152/orig.smt2 \u001b[0m\n",
      "\u001b[93m[WARN] [differ] qid unknown_17387 not found in dbg/68ac429152/orig.smt2 \u001b[0m\n",
      "\u001b[93m[WARN] [differ] qid unknown_17429 not found in dbg/68ac429152/orig.smt2 \u001b[0m\n",
      "\u001b[93m[WARN] [differ] qid unknown_17440 not found in dbg/68ac429152/orig.smt2 \u001b[0m\n",
      "\u001b[93m[WARN] [differ] qid unknown_17138 not found in dbg/68ac429152/orig.smt2 \u001b[0m"
     ]
    },
    {
     "name": "stderr",
     "output_type": "stream",
     "text": [
      "\u001b[94m[DEBUG] [edit] proof path: dbg/d6181053ff/proofs/shuffle.1879102912735967004.proof \u001b[0m\u001b[94m[DEBUG] [edit] proof path: dbg/48dbc6d4fa/proofs/rename.9972412628472097492.proof \u001b[0m\n",
      "\u001b[94m[DEBUG] [edit] trace path: dbg/48dbc6d4fa/traces/reseed.10404193983173560533 \u001b[0m"
     ]
    },
    {
     "name": "stdout",
     "output_type": "stream",
     "text": [
      "\n"
     ]
    },
    {
     "name": "stderr",
     "output_type": "stream",
     "text": [
      "\n",
      "\n"
     ]
    },
    {
     "name": "stdout",
     "output_type": "stream",
     "text": [
      "\u001b[93m[WARN] [differ] qid unknown_17251 not found in dbg/68ac429152/orig.smt2 \u001b[0m\n",
      "419f6ea493bc11b263c7000f0306b065.pickle\n"
     ]
    },
    {
     "name": "stderr",
     "output_type": "stream",
     "text": [
      "\u001b[94m[DEBUG] [edit] trace path: dbg/d6181053ff/traces/shuffle.15181022330680520267 \u001b[0m\n"
     ]
    },
    {
     "name": "stdout",
     "output_type": "stream",
     "text": [
      "bb177960ff0bf14e16b55d9b3b47a355.pickle\n"
     ]
    },
    {
     "name": "stderr",
     "output_type": "stream",
     "text": [
      "\u001b[94m[DEBUG] [edit] proof path: dbg/e1d2573021/proofs/shuffle.17707152865482721884.proof \u001b[0m\n",
      "\u001b[94m[DEBUG] [edit] trace path: dbg/e1d2573021/traces/shuffle.6352221195065630423 \u001b[0m\n"
     ]
    },
    {
     "name": "stdout",
     "output_type": "stream",
     "text": [
      "05028b8c0ccbd709417e1188d158a4ff.pickle\n",
      "\u001b[93m[WARN] [differ] qid constructor_accessor_axiom not found in dbg/d6181053ff/orig.smt2 \u001b[0m\n"
     ]
    },
    {
     "name": "stderr",
     "output_type": "stream",
     "text": [
      "\u001b[94m[DEBUG] saving cache at d6181053ff.qstats \u001b[0m\n"
     ]
    },
    {
     "name": "stdout",
     "output_type": "stream",
     "text": [
      "\u001b[93m[WARN] [differ] qid unknown_3671 not found in dbg/a7f5536a00/orig.smt2 \u001b[0m\n",
      "\u001b[93m[WARN] [differ] qid unknown_3752 not found in dbg/a7f5536a00/orig.smt2 \u001b[0m\n",
      "\u001b[93m[WARN] [differ] qid unknown_3803 not found in dbg/a7f5536a00/orig.smt2 \u001b[0m\n",
      "\u001b[93m[WARN] [differ] qid unknown_3666 not found in dbg/a7f5536a00/orig.smt2 \u001b[0m\n",
      "\u001b[93m[WARN] [differ] qid constructor_accessor_axiom not found in dbg/e1d2573021/orig.smt2 \u001b[0m\n"
     ]
    },
    {
     "name": "stderr",
     "output_type": "stream",
     "text": [
      "\u001b[94m[DEBUG] saving cache at e1d2573021.qstats \u001b[0m\n",
      "\u001b[94m[DEBUG] [edit] proof path: dbg/81b159a977/proofs/shuffle.5160420872713078138.proof \u001b[0m\n",
      "\u001b[94m[DEBUG] [edit] trace path: dbg/81b159a977/traces/shuffle.13806555427178412518 \u001b[0m\n"
     ]
    },
    {
     "name": "stdout",
     "output_type": "stream",
     "text": [
      "042022234555be42bbc008cfa15d82a4.pickle\n"
     ]
    },
    {
     "name": "stderr",
     "output_type": "stream",
     "text": [
      "\u001b[94m[DEBUG] [edit] proof path: dbg/92c260e39d/proofs/reseed.18042481600280132582.proof \u001b[0m\n",
      "\u001b[94m[DEBUG] [edit] trace path: dbg/92c260e39d/traces/shuffle.15241268561291675236 \u001b[0m\n"
     ]
    },
    {
     "name": "stdout",
     "output_type": "stream",
     "text": [
      "796d93655f0e5c4aa06882ea28046c48.pickle\n"
     ]
    },
    {
     "name": "stderr",
     "output_type": "stream",
     "text": [
      "\u001b[94m[DEBUG] [edit] proof path: dbg/eccd7ce2d9/proofs/reseed.5064846399809973974.proof \u001b[0m\n",
      "\u001b[94m[DEBUG] [edit] trace path: dbg/eccd7ce2d9/traces/rename.7278557073235958777 \u001b[0m\n"
     ]
    },
    {
     "name": "stdout",
     "output_type": "stream",
     "text": [
      "c21447d1f0ddc2842e367ad74c137a23.pickle\n",
      "\u001b[93m[WARN] [differ] qid constructor_accessor_axiom not found in dbg/83bd54cd1a/orig.smt2 \u001b[0m\n",
      "\u001b[93m[WARN] [differ] qid <null> not found in dbg/83bd54cd1a/orig.smt2 \u001b[0m\n"
     ]
    },
    {
     "name": "stderr",
     "output_type": "stream",
     "text": [
      "\u001b[94m[DEBUG] saving cache at 83bd54cd1a.qstats \u001b[0m\n",
      "\u001b[94m[DEBUG] [edit] proof path: dbg/93004876e4/proofs/reseed.2280866902240984510.proof \u001b[0m\n",
      "\u001b[94m[DEBUG] [edit] trace path: dbg/93004876e4/traces/reseed.1837398607084254552 \u001b[0m\n"
     ]
    },
    {
     "name": "stdout",
     "output_type": "stream",
     "text": [
      "9b0a3113686344cfc9083ad34e7af076.pickle\n",
      "\u001b[93m[WARN] [differ] qid constructor_accessor_axiom not found in dbg/92c260e39d/orig.smt2 \u001b[0m\n"
     ]
    },
    {
     "name": "stderr",
     "output_type": "stream",
     "text": [
      "\u001b[94m[DEBUG] saving cache at 92c260e39d.qstats \u001b[0m\n",
      "\u001b[94m[DEBUG] [edit] proof path: dbg/2045867a58/proofs/shuffle.1507159208044294623.proof \u001b[0m\n",
      "\u001b[94m[DEBUG] [edit] trace path: dbg/2045867a58/traces/shuffle.1580687978232137444 \u001b[0m\n"
     ]
    },
    {
     "name": "stdout",
     "output_type": "stream",
     "text": [
      "fd2ed6d21e5c6ec00d150ee880f03185.pickle\n",
      "\u001b[93m[WARN] [differ] qid unknown_16062 not found in dbg/48dbc6d4fa/orig.smt2 \u001b[0m\n",
      "\u001b[93m[WARN] [differ] qid unknown_16619 not found in dbg/48dbc6d4fa/orig.smt2 \u001b[0m\n",
      "\u001b[93m[WARN] [differ] qid unknown_16269 not found in dbg/48dbc6d4fa/orig.smt2 \u001b[0m\n",
      "\u001b[93m[WARN] [differ] qid unknown_16444 not found in dbg/48dbc6d4fa/orig.smt2 \u001b[0m\n",
      "\u001b[93m[WARN] [differ] qid unknown_16475 not found in dbg/48dbc6d4fa/orig.smt2 \u001b[0m\n",
      "\u001b[93m[WARN] [differ] qid unknown_15999 not found in dbg/48dbc6d4fa/orig.smt2 \u001b[0m\n",
      "\u001b[93m[WARN] [differ] qid unknown_16635 not found in dbg/48dbc6d4fa/orig.smt2 \u001b[0m\n",
      "\u001b[93m[WARN] [differ] qid constructor_accessor_axiom not found in dbg/2045867a58/orig.smt2 \u001b[0m\n",
      "\u001b[93m[WARN] [differ] qid <null> not found in dbg/2045867a58/orig.smt2 \u001b[0m\n"
     ]
    },
    {
     "name": "stderr",
     "output_type": "stream",
     "text": [
      "\u001b[94m[DEBUG] saving cache at 2045867a58.qstats \u001b[0m\n"
     ]
    },
    {
     "name": "stdout",
     "output_type": "stream",
     "text": [
      "\u001b[93m[WARN] [differ] qid unknown_11707 not found in dbg/81b159a977/orig.smt2 \u001b[0m\n",
      "\u001b[93m[WARN] [differ] qid unknown_11433 not found in dbg/81b159a977/orig.smt2 \u001b[0m\n"
     ]
    },
    {
     "name": "stderr",
     "output_type": "stream",
     "text": [
      "\u001b[94m[DEBUG] [edit] proof path: dbg/65d90190b4/proofs/rename.10906674507986506692.proof \u001b[0m\n",
      "\u001b[94m[DEBUG] [edit] trace path: dbg/65d90190b4/traces/reseed.13107811493817202244 \u001b[0m\n"
     ]
    },
    {
     "name": "stdout",
     "output_type": "stream",
     "text": [
      "af984c1f59de349ab18714216a803c19.pickle\n",
      "\u001b[93m[WARN] [differ] qid unknown_22031 not found in dbg/eccd7ce2d9/orig.smt2 \u001b[0m\n",
      "\u001b[93m[WARN] [differ] qid unknown_22088 not found in dbg/eccd7ce2d9/orig.smt2 \u001b[0m\n",
      "\u001b[93m[WARN] [differ] qid unknown_22078 not found in dbg/eccd7ce2d9/orig.smt2 \u001b[0m\n",
      "\u001b[93m[WARN] [differ] qid unknown_21726 not found in dbg/eccd7ce2d9/orig.smt2 \u001b[0m\n",
      "\u001b[93m[WARN] [differ] qid unknown_22138 not found in dbg/eccd7ce2d9/orig.smt2 \u001b[0m\n",
      "\u001b[93m[WARN] [differ] qid unknown_21840 not found in dbg/eccd7ce2d9/orig.smt2 \u001b[0m\n",
      "\u001b[93m[WARN] [differ] qid unknown_21605 not found in dbg/eccd7ce2d9/orig.smt2 \u001b[0m\n",
      "\u001b[93m[WARN] [differ] qid unknown_21957 not found in dbg/eccd7ce2d9/orig.smt2 \u001b[0m\n",
      "\u001b[93m[WARN] [differ] qid constructor_accessor_axiom not found in dbg/68ac429152/orig.smt2 \u001b[0m\n",
      "\u001b[93m[WARN] [differ] qid <null> not found in dbg/68ac429152/orig.smt2 \u001b[0m\n"
     ]
    },
    {
     "name": "stderr",
     "output_type": "stream",
     "text": [
      "\u001b[94m[DEBUG] saving cache at 68ac429152.qstats \u001b[0m\n",
      "\u001b[94m[DEBUG] [edit] proof path: dbg/7d8c4302ab/proofs/reseed.9908923975124208297.proof \u001b[0m\n",
      "\u001b[94m[DEBUG] [edit] trace path: dbg/7d8c4302ab/traces/shuffle.15513482486857776214 \u001b[0m\n"
     ]
    },
    {
     "name": "stdout",
     "output_type": "stream",
     "text": [
      "cce3dd987c131a5c430a27e224e9fdf1.pickle\n",
      "\u001b[93m[WARN] [differ] qid constructor_accessor_axiom not found in dbg/fa2fdaf6e0/orig.smt2 \u001b[0m\n"
     ]
    },
    {
     "name": "stderr",
     "output_type": "stream",
     "text": [
      "\u001b[94m[DEBUG] saving cache at fa2fdaf6e0.qstats \u001b[0m\n",
      "\u001b[94m[DEBUG] [edit] proof path: dbg/090a2a7d67/proofs/reseed.7014106981689618503.proof \u001b[0m\n",
      "\u001b[94m[DEBUG] [edit] trace path: dbg/090a2a7d67/traces/shuffle.10445631812693282071 \u001b[0m\n"
     ]
    },
    {
     "name": "stdout",
     "output_type": "stream",
     "text": [
      "41884a1c910ece84f3f54ae2e3ed76a2.pickle\n",
      "\u001b[93m[WARN] [differ] qid constructor_accessor_axiom not found in dbg/7d8c4302ab/orig.smt2 \u001b[0m\n"
     ]
    },
    {
     "name": "stderr",
     "output_type": "stream",
     "text": [
      "\u001b[94m[DEBUG] saving cache at 7d8c4302ab.qstats \u001b[0m\n"
     ]
    },
    {
     "name": "stdout",
     "output_type": "stream",
     "text": [
      "\u001b[93m[WARN] [differ] qid constructor_accessor_axiom not found in dbg/090a2a7d67/orig.smt2 \u001b[0m\n",
      "\u001b[93m[WARN] [differ] qid <null> not found in dbg/090a2a7d67/orig.smt2 \u001b[0m\n",
      "\u001b[93m[WARN] [differ] qid constructor_accessor_axiom not found in dbg/93004876e4/orig.smt2 \u001b[0m\n",
      "\u001b[93m[WARN] [differ] qid <null> not found in dbg/93004876e4/orig.smt2 \u001b[0m\n"
     ]
    },
    {
     "name": "stderr",
     "output_type": "stream",
     "text": [
      "\u001b[94m[DEBUG] saving cache at 090a2a7d67.qstats \u001b[0m\n",
      "\u001b[94m[DEBUG] saving cache at 93004876e4.qstats \u001b[0m\n"
     ]
    },
    {
     "name": "stdout",
     "output_type": "stream",
     "text": [
      "\u001b[93m[WARN] [differ] qid constructor_accessor_axiom not found in dbg/a7f5536a00/orig.smt2 \u001b[0m\n",
      "\u001b[93m[WARN] [differ] qid <null> not found in dbg/a7f5536a00/orig.smt2 \u001b[0m\n"
     ]
    },
    {
     "name": "stderr",
     "output_type": "stream",
     "text": [
      "\u001b[94m[DEBUG] saving cache at a7f5536a00.qstats \u001b[0m\n",
      "\u001b[94m[DEBUG] [edit] proof path: dbg/b475a457a9/proofs/reseed.1744378247872484033.proof \u001b[0m\n",
      "\u001b[94m[DEBUG] [edit] trace path: dbg/b475a457a9/traces/reseed.17215664013271804878 \u001b[0m\n"
     ]
    },
    {
     "name": "stdout",
     "output_type": "stream",
     "text": [
      "d1749c79757077f2b2314f07bc0c17aa.pickle\n",
      "\u001b[93m[WARN] [differ] qid unknown_697 not found in dbg/65d90190b4/orig.smt2 \u001b[0m\n",
      "\u001b[93m[WARN] [differ] qid unknown_823 not found in dbg/65d90190b4/orig.smt2 \u001b[0m\n",
      "\u001b[93m[WARN] [differ] qid unknown_833 not found in dbg/65d90190b4/orig.smt2 \u001b[0m\n",
      "\u001b[93m[WARN] [differ] qid unknown_871 not found in dbg/65d90190b4/orig.smt2 \u001b[0m\n",
      "\u001b[93m[WARN] [differ] qid unknown_730 not found in dbg/65d90190b4/orig.smt2 \u001b[0m\n",
      "\u001b[93m[WARN] [differ] qid unknown_194 not found in dbg/65d90190b4/orig.smt2 \u001b[0m\n",
      "\u001b[93m[WARN] [differ] qid unknown_854 not found in dbg/65d90190b4/orig.smt2 \u001b[0m\n",
      "\u001b[93m[WARN] [differ] qid unknown_552 not found in dbg/65d90190b4/orig.smt2 \u001b[0m\n"
     ]
    },
    {
     "name": "stderr",
     "output_type": "stream",
     "text": [
      "\u001b[94m[DEBUG] [edit] proof path: dbg/55b4af82a4/proofs/reseed.3229159264617141076.proof \u001b[0m\n",
      "\u001b[94m[DEBUG] [edit] proof path: dbg/b834736f4d/proofs/reseed.3130966654838922115.proof \u001b[0m\n",
      "\u001b[94m[DEBUG] [edit] trace path: dbg/55b4af82a4/traces/reseed.2446138819067655487 \u001b[0m\u001b[94m[DEBUG] [edit] trace path: dbg/b834736f4d/traces/rename.12362528586306987492 \u001b[0m\n"
     ]
    },
    {
     "name": "stdout",
     "output_type": "stream",
     "text": [
      "6eefa14ea615713852190ba16e3a1f6a.pickle\n"
     ]
    },
    {
     "name": "stderr",
     "output_type": "stream",
     "text": [
      "\n"
     ]
    },
    {
     "name": "stdout",
     "output_type": "stream",
     "text": [
      "4ac350ff694bdca85d8c99863045c160.pickle\n",
      "\u001b[93m[WARN] [differ] qid constructor_accessor_axiom not found in dbg/48dbc6d4fa/orig.smt2 \u001b[0m\n",
      "\u001b[93m[WARN] [differ] qid <null> not found in dbg/48dbc6d4fa/orig.smt2 \u001b[0m\n"
     ]
    },
    {
     "name": "stderr",
     "output_type": "stream",
     "text": [
      "\u001b[94m[DEBUG] saving cache at 48dbc6d4fa.qstats \u001b[0m\n",
      "\u001b[94m[DEBUG] [edit] proof path: dbg/6540edb885/proofs/reseed.16122103410385013002.proof \u001b[0m\n",
      "\u001b[94m[DEBUG] [edit] trace path: dbg/6540edb885/traces/rename.13836234746097889101 \u001b[0m\n"
     ]
    },
    {
     "name": "stdout",
     "output_type": "stream",
     "text": [
      "bb0d4d00b8697a0173df7190d806b945.pickle\n"
     ]
    },
    {
     "name": "stderr",
     "output_type": "stream",
     "text": [
      "\u001b[94m[DEBUG] [edit] proof path: dbg/492704d0da/proofs/reseed.12570179510938305325.proof \u001b[0m\n",
      "\u001b[94m[DEBUG] [edit] trace path: dbg/492704d0da/traces/shuffle.1768421775674796906 \u001b[0m\n"
     ]
    },
    {
     "name": "stdout",
     "output_type": "stream",
     "text": [
      "3e95b0804ef115c3d20a43d4b984a6d7.pickle\n",
      "\u001b[93m[WARN] [differ] qid constructor_accessor_axiom not found in dbg/492704d0da/orig.smt2 \u001b[0m\n"
     ]
    },
    {
     "name": "stderr",
     "output_type": "stream",
     "text": [
      "\u001b[94m[DEBUG] saving cache at 492704d0da.qstats \u001b[0m\n"
     ]
    },
    {
     "name": "stdout",
     "output_type": "stream",
     "text": [
      "\u001b[93m[WARN] [differ] qid constructor_accessor_axiom not found in dbg/eccd7ce2d9/orig.smt2 \u001b[0m\n",
      "\u001b[93m[WARN] [differ] qid <null> not found in dbg/eccd7ce2d9/orig.smt2 \u001b[0m\n"
     ]
    },
    {
     "name": "stderr",
     "output_type": "stream",
     "text": [
      "\u001b[94m[DEBUG] saving cache at eccd7ce2d9.qstats \u001b[0m\n"
     ]
    },
    {
     "name": "stdout",
     "output_type": "stream",
     "text": [
      "\u001b[93m[WARN] [differ] qid constructor_accessor_axiom not found in dbg/81b159a977/orig.smt2 \u001b[0m\n",
      "\u001b[93m[WARN] [differ] qid <null> not found in dbg/81b159a977/orig.smt2 \u001b[0m\n"
     ]
    },
    {
     "name": "stderr",
     "output_type": "stream",
     "text": [
      "\u001b[94m[DEBUG] saving cache at 81b159a977.qstats \u001b[0m\n"
     ]
    },
    {
     "name": "stdout",
     "output_type": "stream",
     "text": [
      "\u001b[93m[WARN] [differ] qid unknown_22789 not found in dbg/b475a457a9/orig.smt2 \u001b[0m\n",
      "\u001b[93m[WARN] [differ] qid unknown_22796 not found in dbg/b475a457a9/orig.smt2 \u001b[0m\n",
      "\u001b[93m[WARN] [differ] qid unknown_22760 not found in dbg/b475a457a9/orig.smt2 \u001b[0m\n",
      "\u001b[93m[WARN] [differ] qid unknown_973 not found in dbg/6540edb885/orig.smt2 \u001b[0m\n"
     ]
    },
    {
     "name": "stderr",
     "output_type": "stream",
     "text": [
      "\u001b[94m[DEBUG] [edit] proof path: dbg/634ab613c3/proofs/reseed.3662638186649401493.proof \u001b[0m\n",
      "\u001b[94m[DEBUG] [edit] trace path: dbg/634ab613c3/traces/shuffle.2969354737312180380 \u001b[0m\n"
     ]
    },
    {
     "name": "stdout",
     "output_type": "stream",
     "text": [
      "96e0f7cfdeec7080ec300906eff64e72.pickle\n",
      "\u001b[93m[WARN] [differ] qid unknown_20836 not found in dbg/b834736f4d/orig.smt2 \u001b[0m\n",
      "\u001b[93m[WARN] [differ] qid unknown_21025 not found in dbg/b834736f4d/orig.smt2 \u001b[0m\n",
      "\u001b[93m[WARN] [differ] qid unknown_20672 not found in dbg/b834736f4d/orig.smt2 \u001b[0m\n",
      "\u001b[93m[WARN] [differ] qid unknown_20784 not found in dbg/b834736f4d/orig.smt2 \u001b[0m\n",
      "\u001b[93m[WARN] [differ] qid unknown_21232 not found in dbg/b834736f4d/orig.smt2 \u001b[0m\n",
      "\u001b[93m[WARN] [differ] qid unknown_20727 not found in dbg/b834736f4d/orig.smt2 \u001b[0m\n",
      "\u001b[93m[WARN] [differ] qid unknown_20746 not found in dbg/b834736f4d/orig.smt2 \u001b[0m\n",
      "\u001b[93m[WARN] [differ] qid unknown_20692 not found in dbg/b834736f4d/orig.smt2 \u001b[0m\n",
      "\u001b[93m[WARN] [differ] qid unknown_20709 not found in dbg/b834736f4d/orig.smt2 \u001b[0m\n",
      "\u001b[93m[WARN] [differ] qid unknown_10728 not found in dbg/55b4af82a4/orig.smt2 \u001b[0m\n",
      "\u001b[93m[WARN] [differ] qid unknown_11095 not found in dbg/55b4af82a4/orig.smt2 \u001b[0m\n",
      "\u001b[93m[WARN] [differ] qid unknown_11119 not found in dbg/55b4af82a4/orig.smt2 \u001b[0m\n",
      "\u001b[93m[WARN] [differ] qid unknown_11131 not found in dbg/55b4af82a4/orig.smt2 \u001b[0m\n",
      "\u001b[93m[WARN] [differ] qid unknown_11174 not found in dbg/55b4af82a4/orig.smt2 \u001b[0m\n",
      "\u001b[93m[WARN] [differ] qid unknown_11160 not found in dbg/55b4af82a4/orig.smt2 \u001b[0m\n",
      "\u001b[93m[WARN] [differ] qid unknown_10941 not found in dbg/55b4af82a4/orig.smt2 \u001b[0m\n",
      "\u001b[93m[WARN] [differ] qid unknown_10855 not found in dbg/55b4af82a4/orig.smt2 \u001b[0m\n",
      "\u001b[93m[WARN] [differ] qid constructor_accessor_axiom not found in dbg/65d90190b4/orig.smt2 \u001b[0m\n",
      "\u001b[93m[WARN] [differ] qid <null> not found in dbg/65d90190b4/orig.smt2 \u001b[0m\n"
     ]
    },
    {
     "name": "stderr",
     "output_type": "stream",
     "text": [
      "\u001b[94m[DEBUG] saving cache at 65d90190b4.qstats \u001b[0m\n",
      "\u001b[94m[DEBUG] [edit] proof path: dbg/8c0bbf67d0/proofs/rename.9021218465525474810.proof \u001b[0m\n",
      "\u001b[94m[DEBUG] [edit] trace path: dbg/8c0bbf67d0/traces/reseed.2926928540658751903 \u001b[0m\n"
     ]
    },
    {
     "name": "stdout",
     "output_type": "stream",
     "text": [
      "6437b1ebdab0b25eef3f848c1cb05aeb.pickle\n",
      "\u001b[93m[WARN] [differ] qid unknown_13529 not found in dbg/634ab613c3/orig.smt2 \u001b[0m\n",
      "\u001b[93m[WARN] [differ] qid unknown_13695 not found in dbg/634ab613c3/orig.smt2 \u001b[0m\n",
      "\u001b[93m[WARN] [differ] qid unknown_13367 not found in dbg/634ab613c3/orig.smt2 \u001b[0m\n",
      "\u001b[93m[WARN] [differ] qid unknown_13439 not found in dbg/634ab613c3/orig.smt2 \u001b[0m\n",
      "\u001b[93m[WARN] [differ] qid unknown_13550 not found in dbg/634ab613c3/orig.smt2 \u001b[0m\n",
      "\u001b[93m[WARN] [differ] qid unknown_13297 not found in dbg/634ab613c3/orig.smt2 \u001b[0m\n",
      "\u001b[93m[WARN] [differ] qid unknown_13305 not found in dbg/634ab613c3/orig.smt2 \u001b[0m\n",
      "\u001b[93m[WARN] [differ] qid unknown_13318 not found in dbg/634ab613c3/orig.smt2 \u001b[0m\n",
      "\u001b[93m[WARN] [differ] qid unknown_13338 not found in dbg/634ab613c3/orig.smt2 \u001b[0m\n",
      "\u001b[93m[WARN] [differ] qid constructor_accessor_axiom not found in dbg/8c0bbf67d0/orig.smt2 \u001b[0m\n"
     ]
    },
    {
     "name": "stderr",
     "output_type": "stream",
     "text": [
      "\u001b[94m[DEBUG] saving cache at 8c0bbf67d0.qstats \u001b[0m\n"
     ]
    },
    {
     "name": "stdout",
     "output_type": "stream",
     "text": [
      "\u001b[93m[WARN] [differ] qid constructor_accessor_axiom not found in dbg/6540edb885/orig.smt2 \u001b[0m\n",
      "\u001b[93m[WARN] [differ] qid <null> not found in dbg/6540edb885/orig.smt2 \u001b[0m\n"
     ]
    },
    {
     "name": "stderr",
     "output_type": "stream",
     "text": [
      "\u001b[94m[DEBUG] saving cache at 6540edb885.qstats \u001b[0m\n"
     ]
    },
    {
     "name": "stdout",
     "output_type": "stream",
     "text": [
      "\u001b[93m[WARN] [differ] qid constructor_accessor_axiom not found in dbg/55b4af82a4/orig.smt2 \u001b[0m\n",
      "\u001b[93m[WARN] [differ] qid <null> not found in dbg/55b4af82a4/orig.smt2 \u001b[0m\n"
     ]
    },
    {
     "name": "stderr",
     "output_type": "stream",
     "text": [
      "\u001b[94m[DEBUG] saving cache at 55b4af82a4.qstats \u001b[0m\n",
      "\u001b[94m[DEBUG] [edit] proof path: dbg/0918f4a55d/proofs/shuffle.930416732880363094.proof \u001b[0m\n",
      "\u001b[94m[DEBUG] [edit] trace path: dbg/0918f4a55d/traces/reseed.18009040895761984794 \u001b[0m\n"
     ]
    },
    {
     "name": "stdout",
     "output_type": "stream",
     "text": [
      "d060e20ecd878f496c29e325aab77c14.pickle\n",
      "\u001b[93m[WARN] [differ] qid constructor_accessor_axiom not found in dbg/b834736f4d/orig.smt2 \u001b[0m\n",
      "\u001b[93m[WARN] [differ] qid <null> not found in dbg/b834736f4d/orig.smt2 \u001b[0m\n"
     ]
    },
    {
     "name": "stderr",
     "output_type": "stream",
     "text": [
      "\u001b[94m[DEBUG] saving cache at b834736f4d.qstats \u001b[0m\n",
      "\u001b[94m[DEBUG] [edit] proof path: dbg/66c9bdf69f/proofs/shuffle.11828432509569748923.proof \u001b[0m\n",
      "\u001b[94m[DEBUG] [edit] trace path: dbg/66c9bdf69f/traces/reseed.13957856434642412621 \u001b[0m\n"
     ]
    },
    {
     "name": "stdout",
     "output_type": "stream",
     "text": [
      "7aeb6275a404201c1598bb900c2f182a.pickle\n",
      "\u001b[93m[WARN] [differ] qid constructor_accessor_axiom not found in dbg/b475a457a9/orig.smt2 \u001b[0m\n",
      "\u001b[93m[WARN] [differ] qid <null> not found in dbg/b475a457a9/orig.smt2 \u001b[0m\n"
     ]
    },
    {
     "name": "stderr",
     "output_type": "stream",
     "text": [
      "\u001b[94m[DEBUG] saving cache at b475a457a9.qstats \u001b[0m\n"
     ]
    },
    {
     "name": "stdout",
     "output_type": "stream",
     "text": [
      "\u001b[93m[WARN] [differ] qid unknown_5212 not found in dbg/0918f4a55d/orig.smt2 \u001b[0m\n",
      "\u001b[93m[WARN] [differ] qid constructor_accessor_axiom not found in dbg/634ab613c3/orig.smt2 \u001b[0m\n",
      "\u001b[93m[WARN] [differ] qid <null> not found in dbg/634ab613c3/orig.smt2 \u001b[0m\n"
     ]
    },
    {
     "name": "stderr",
     "output_type": "stream",
     "text": [
      "\u001b[94m[DEBUG] saving cache at 634ab613c3.qstats \u001b[0m\n"
     ]
    },
    {
     "name": "stdout",
     "output_type": "stream",
     "text": [
      "\u001b[93m[WARN] [differ] qid unknown_19836 not found in dbg/66c9bdf69f/orig.smt2 \u001b[0m\n",
      "\u001b[93m[WARN] [differ] qid unknown_19698 not found in dbg/66c9bdf69f/orig.smt2 \u001b[0m\n",
      "\u001b[93m[WARN] [differ] qid unknown_20104 not found in dbg/66c9bdf69f/orig.smt2 \u001b[0m\n",
      "\u001b[93m[WARN] [differ] qid unknown_19906 not found in dbg/66c9bdf69f/orig.smt2 \u001b[0m\n",
      "\u001b[93m[WARN] [differ] qid unknown_19921 not found in dbg/66c9bdf69f/orig.smt2 \u001b[0m\n",
      "\u001b[93m[WARN] [differ] qid unknown_19948 not found in dbg/66c9bdf69f/orig.smt2 \u001b[0m\n",
      "\u001b[93m[WARN] [differ] qid unknown_19935 not found in dbg/66c9bdf69f/orig.smt2 \u001b[0m\n",
      "\u001b[93m[WARN] [differ] qid unknown_19627 not found in dbg/66c9bdf69f/orig.smt2 \u001b[0m\n"
     ]
    },
    {
     "name": "stderr",
     "output_type": "stream",
     "text": [
      "\u001b[94m[DEBUG] [edit] proof path: dbg/0a3bc89db1/proofs/shuffle.4147418025328775426.proof \u001b[0m\n",
      "\u001b[94m[DEBUG] [edit] trace path: dbg/0a3bc89db1/traces/reseed.2681355025314892744 \u001b[0m\n"
     ]
    },
    {
     "name": "stdout",
     "output_type": "stream",
     "text": [
      "a689f3d1d50b3114aa92ee989fc46c82.pickle\n",
      "\u001b[93m[WARN] [differ] qid constructor_accessor_axiom not found in dbg/0918f4a55d/orig.smt2 \u001b[0m\n",
      "\u001b[93m[WARN] [differ] qid <null> not found in dbg/0918f4a55d/orig.smt2 \u001b[0m\n"
     ]
    },
    {
     "name": "stderr",
     "output_type": "stream",
     "text": [
      "\u001b[94m[DEBUG] saving cache at 0918f4a55d.qstats \u001b[0m\n"
     ]
    },
    {
     "name": "stdout",
     "output_type": "stream",
     "text": [
      "\u001b[93m[WARN] [differ] qid unknown_1666 not found in dbg/0a3bc89db1/orig.smt2 \u001b[0m\n",
      "\u001b[93m[WARN] [differ] qid unknown_1936 not found in dbg/0a3bc89db1/orig.smt2 \u001b[0m\n",
      "\u001b[93m[WARN] [differ] qid unknown_2075 not found in dbg/0a3bc89db1/orig.smt2 \u001b[0m\n",
      "\u001b[93m[WARN] [differ] qid unknown_2089 not found in dbg/0a3bc89db1/orig.smt2 \u001b[0m\n",
      "\u001b[93m[WARN] [differ] qid unknown_1695 not found in dbg/0a3bc89db1/orig.smt2 \u001b[0m\n",
      "\u001b[93m[WARN] [differ] qid unknown_1442 not found in dbg/0a3bc89db1/orig.smt2 \u001b[0m\n",
      "\u001b[93m[WARN] [differ] qid unknown_2064 not found in dbg/0a3bc89db1/orig.smt2 \u001b[0m\n",
      "\u001b[93m[WARN] [differ] qid unknown_1475 not found in dbg/0a3bc89db1/orig.smt2 \u001b[0m\n",
      "\u001b[93m[WARN] [differ] qid constructor_accessor_axiom not found in dbg/66c9bdf69f/orig.smt2 \u001b[0m\n",
      "\u001b[93m[WARN] [differ] qid <null> not found in dbg/66c9bdf69f/orig.smt2 \u001b[0m\n"
     ]
    },
    {
     "name": "stderr",
     "output_type": "stream",
     "text": [
      "\u001b[94m[DEBUG] saving cache at 66c9bdf69f.qstats \u001b[0m\n"
     ]
    },
    {
     "name": "stdout",
     "output_type": "stream",
     "text": [
      "\u001b[93m[WARN] [differ] qid constructor_accessor_axiom not found in dbg/0a3bc89db1/orig.smt2 \u001b[0m\n",
      "\u001b[93m[WARN] [differ] qid <null> not found in dbg/0a3bc89db1/orig.smt2 \u001b[0m\n"
     ]
    },
    {
     "name": "stderr",
     "output_type": "stream",
     "text": [
      "\u001b[94m[DEBUG] saving cache at 0a3bc89db1.qstats \u001b[0m\n"
     ]
    }
   ],
   "source": [
    "round1.build_query_stats(True)"
   ]
  },
  {
   "cell_type": "code",
   "execution_count": 6,
   "metadata": {},
   "outputs": [
    {
     "name": "stderr",
     "output_type": "stream",
     "text": [
      "\u001b[94m[DEBUG] [edit] proof path: dbg/be920877ca/proofs/shuffle.9555299481395785809.proof \u001b[0m\n",
      "\u001b[94m[DEBUG] [edit] trace path: dbg/be920877ca/traces/shuffle.14575692651422062579 \u001b[0m\n",
      "\u001b[94m[DEBUG] [skolem] i$!skolem_user_vstd__seq__axiom_seq_ext_equal_9!0 -> skv_80f242588e1d8aee_1 \u001b[0m\n"
     ]
    },
    {
     "name": "stdout",
     "output_type": "stream",
     "text": [
      "7f3387739f00544be2dda14c996725b3.pickle\n",
      "\u001b[93m[WARN] [differ] qid constructor_accessor_axiom not found in dbg/be920877ca/orig.smt2 \u001b[0m\n",
      "\u001b[92m[INFO] [edit] [skolem] user_vstd__seq__axiom_seq_ext_equal_9 creates 1 skolem funs, 1 asserts \u001b[0m\n",
      "(assert (=> (fuel_bool fuel%vstd!seq.axiom_seq_ext_equal.) (forall ((A&. Dcr) (A& Type) (s1! Poly) (s2! Poly)) (! (=> (and (has_type s1! (TYPE%vstd!seq.Seq. A&. A&)) (has_type s2! (TYPE%vstd!seq.Seq. A&. A&))) (= (ext_eq false (TYPE%vstd!seq.Seq. A&. A&) s1! s2!) (and (= (vstd!seq.Seq.len.? A&. A& s1!) (vstd!seq.Seq.len.? A&. A& s2!)) (forall ((i$ Poly)) (! (=> (has_type i$ INT) (=> (and (<= 0 (%I i$)) (< (%I i$) (vstd!seq.Seq.len.? A&. A& s1!))) (= (vstd!seq.Seq.index.? A&. A& s1! i$) (vstd!seq.Seq.index.? A&. A& s2! i$)))) :pattern ((vstd!seq.Seq.index.? A&. A& s1! i$)) :pattern ((vstd!seq.Seq.index.? A&. A& s2! i$)) :qid user_vstd__seq__axiom_seq_ext_equal_9 :skolemid skolem_user_vstd__seq__axiom_seq_ext_equal_9))))) :pattern ((ext_eq false (TYPE%vstd!seq.Seq. A&. A&) s1! s2!)) :qid user_vstd__seq__axiom_seq_ext_equal_10 :skolemid skolem_user_vstd__seq__axiom_seq_ext_equal_10))))\n",
      "\u001b[92m[INFO] [edit] [banish] user_vstd__seq__axiom_seq_ext_equal_9 \u001b[0m\n",
      "\u001b[93m[WARN] failed to banish user_vstd__seq__axiom_seq_ext_equal_9 \u001b[0m\n",
      "\u001b[92m[INFO] [edit] written to data/projs/verus.skolem/base.z3/be920877ca.3fcad85d.smt2 \u001b[0m\n",
      "b031de557bb34b4d198667b141063b1a.pickle\n"
     ]
    },
    {
     "name": "stderr",
     "output_type": "stream",
     "text": [
      "\u001b[94m[DEBUG] [edit] proof path: dbg/a896b920ca/proofs/rename.13547342595759592148.proof \u001b[0m\n",
      "\u001b[94m[DEBUG] [edit] trace path: dbg/a896b920ca/traces/shuffle.3935504091054792581 \u001b[0m\n"
     ]
    },
    {
     "name": "stdout",
     "output_type": "stream",
     "text": [
      "\u001b[93m[WARN] [differ] qid constructor_accessor_axiom not found in dbg/a896b920ca/orig.smt2 \u001b[0m\n",
      "\u001b[92m[INFO] [edit] [skolem] user_vstd__seq__axiom_seq_ext_equal_14 creates 1 skolem funs, 1 asserts \u001b[0m\n",
      "(assert (=> (fuel_bool fuel%vstd!seq.axiom_seq_ext_equal.) (forall ((A&. Dcr) (A& Type) (s1! Poly) (s2! Poly)) (! (=> (and (has_type s1! (TYPE%vstd!seq.Seq. A&. A&)) (has_type s2! (TYPE%vstd!seq.Seq. A&. A&))) (= (ext_eq false (TYPE%vstd!seq.Seq. A&. A&) s1! s2!) (and (= (vstd!seq.Seq.len.? A&. A& s1!) (vstd!seq.Seq.len.? A&. A& s2!)) (forall ((i$ Poly)) (! (=> (has_type i$ INT) (=> (and (<= 0 (%I i$)) (< (%I i$) (vstd!seq.Seq.len.? A&. A& s1!))) (= (vstd!seq.Seq.index.? A&. A& s1! i$) (vstd!seq.Seq.index.? A&. A& s2! i$)))) :pattern ((vstd!seq.Seq.index.? A&. A& s1! i$)) :pattern ((vstd!seq.Seq.index.? A&. A& s2! i$)) :qid user_vstd__seq__axiom_seq_ext_equal_14 :skolemid skolem_user_vstd__seq__axiom_seq_ext_equal_14))))) :pattern ((ext_eq false (TYPE%vstd!seq.Seq. A&. A&) s1! s2!)) :qid user_vstd__seq__axiom_seq_ext_equal_15 :skolemid skolem_user_vstd__seq__axiom_seq_ext_equal_15))))\n",
      "\u001b[92m[INFO] [edit] [banish] user_vstd__seq__axiom_seq_ext_equal_14 \u001b[0m\n",
      "\u001b[93m[WARN] failed to banish user_vstd__seq__axiom_seq_ext_equal_14 \u001b[0m\n",
      "\u001b[92m[INFO] [edit] written to data/projs/verus.skolem/base.z3/a896b920ca.ca20d03e.smt2 \u001b[0m\n",
      "41884a1c910ece84f3f54ae2e3ed76a2.pickle\n"
     ]
    },
    {
     "name": "stderr",
     "output_type": "stream",
     "text": [
      "\u001b[94m[DEBUG] [skolem] i$!skolem_user_vstd__seq__axiom_seq_ext_equal_14!1 -> skv_071d0fa321c73710_1 \u001b[0m\n",
      "\u001b[94m[DEBUG] [edit] proof path: dbg/090a2a7d67/proofs/reseed.7014106981689618503.proof \u001b[0m\n",
      "\u001b[94m[DEBUG] [edit] trace path: dbg/090a2a7d67/traces/shuffle.10445631812693282071 \u001b[0m\n"
     ]
    },
    {
     "name": "stdout",
     "output_type": "stream",
     "text": [
      "\u001b[93m[WARN] [differ] qid constructor_accessor_axiom not found in dbg/090a2a7d67/orig.smt2 \u001b[0m\n",
      "\u001b[93m[WARN] [differ] qid <null> not found in dbg/090a2a7d67/orig.smt2 \u001b[0m\n",
      "\u001b[92m[INFO] [edit] [skolem] user_lib__multilog__inv_v__each_metadata_consistent_with_info_24 creates 1 skolem funs, 1 asserts \u001b[0m\n",
      "(assert (=> (fuel_bool fuel%lib!multilog.inv_v.each_metadata_consistent_with_info.) (forall ((pm_regions_view! Poly) (multilog_id! Poly) (num_logs! Poly) (cdb! Poly) (infos! Poly)) (! (= (lib!multilog.inv_v.each_metadata_consistent_with_info.? pm_regions_view! multilog_id! num_logs! cdb! infos!) (and (let ((tmp%%$ (vstd!seq.Seq.len.? $ TYPE%lib!multilog.multilogimpl_v.LogInfo. infos!))) (and (and (= (vstd!seq.Seq.len.? $ TYPE%lib!pmem.pmemspec_t.PersistentMemoryRegionView. (Poly%vstd!seq.Seq<lib!pmem.pmemspec_t.PersistentMemoryRegionView.>. (lib!pmem.pmemspec_t.PersistentMemoryRegionsView./PersistentMemoryRegionsView/regions (%Poly%lib!pmem.pmemspec_t.PersistentMemoryRegionsView. pm_regions_view!)))) tmp%%$) (= tmp%%$ (%I num_logs!))) (> (%I num_logs!) 0))) (forall ((which_log$ Poly)) (! (=> (has_type which_log$ (UINT 32)) (=> (and (lib!multilog.inv_v.log_index_trigger.? which_log$) (< (%I which_log$) (%I num_logs!))) (let ((w$ (%I which_log$))) (lib!multilog.inv_v.metadata_consistent_with_info.? (Poly%lib!pmem.pmemspec_t.PersistentMemoryRegionView. (lib!pmem.pmemspec_t.impl&%7.spec_index.? pm_regions_view! (I w$))) multilog_id! num_logs! which_log$ cdb! (vstd!seq.Seq.index.? $ TYPE%lib!multilog.multilogimpl_v.LogInfo. infos! (I w$)))))) :pattern ((lib!multilog.inv_v.log_index_trigger.? which_log$)) :qid user_lib__multilog__inv_v__each_metadata_consistent_with_info_24 :skolemid skolem_user_lib__multilog__inv_v__each_metadata_consistent_with_info_24)))) :pattern ((lib!multilog.inv_v.each_metadata_consistent_with_info.? pm_regions_view! multilog_id! num_logs! cdb! infos!)) :qid internal_lib!multilog.inv_v.each_metadata_consistent_with_info.?_definition :skolemid skolem_internal_lib!multilog.inv_v.each_metadata_consistent_with_info.?_definition))))\n",
      "\u001b[92m[INFO] [edit] [banish] user_lib__multilog__inv_v__each_metadata_consistent_with_info_24 \u001b[0m\n",
      "\u001b[93m[WARN] failed to banish user_lib__multilog__inv_v__each_metadata_consistent_with_info_24 \u001b[0m\n",
      "\u001b[92m[INFO] [edit] written to data/projs/verus.skolem/base.z3/090a2a7d67.3f7fd9aa.smt2 \u001b[0m\n",
      "bb177960ff0bf14e16b55d9b3b47a355.pickle\n",
      "\u001b[93m[WARN] [differ] qid constructor_accessor_axiom not found in dbg/d6181053ff/orig.smt2 \u001b[0m\n",
      "\u001b[92m[INFO] [edit] [skolem] user_lib__spec__cyclicbuffer__log_entry_idx_wrap_around_61 creates 1 skolem funs, 2 asserts \u001b[0m\n",
      "(assert (not (=> %%location_label%%0 (forall ((i$ Poly)) (! (=> (has_type i$ INT) (=> (and (and (<= start! (%I i$)) (< (%I i$) (nClip (Add start! buffer_size!)))) (not (= (%I i$) idx!))) (not (= (lib!spec.cyclicbuffer.log_entry_idx.? i$ (I buffer_size!)) (lib!spec.cyclicbuffer.log_entry_idx.? (I idx!) (I buffer_size!)))))) :pattern ((lib!spec.cyclicbuffer.log_entry_idx.? i$ (I buffer_size!))) :qid user_lib__spec__cyclicbuffer__log_entry_idx_wrap_around_61 :skolemid skolem_user_lib__spec__cyclicbuffer__log_entry_idx_wrap_around_61)))))\n",
      "\u001b[92m[INFO] [edit] [banish] user_lib__spec__cyclicbuffer__log_entry_idx_wrap_around_61 \u001b[0m\n",
      "\u001b[92m[INFO] [edit] goal was modified! \u001b[0m\n",
      "\u001b[92m[INFO] [edit] written to data/projs/verus.skolem/base.z3/d6181053ff.eb582753.smt2 \u001b[0m\n",
      "e471625220affba6fc9c32b2df8243dd.pickle\n"
     ]
    },
    {
     "name": "stderr",
     "output_type": "stream",
     "text": [
      "\u001b[94m[DEBUG] [skolem] which_log$!skolem_user_lib__multilog__inv_v__each_metadata_consistent_with_info_24!2 -> skv_7e8c6a018e93ece3_1 \u001b[0m\n",
      "\u001b[94m[DEBUG] [edit] proof path: dbg/d6181053ff/proofs/shuffle.1879102912735967004.proof \u001b[0m\n",
      "\u001b[94m[DEBUG] [edit] trace path: dbg/d6181053ff/traces/shuffle.15181022330680520267 \u001b[0m\n",
      "\u001b[94m[DEBUG] [skolem] is in the goal! \u001b[0m\n",
      "\u001b[94m[DEBUG] [skolem] i$!skolem_user_lib__spec__cyclicbuffer__log_entry_idx_wrap_around_61!3 -> skv_d095caf1d2318619_1 \u001b[0m\n",
      "\u001b[94m[DEBUG] [edit] proof path: dbg/8d058577cd/proofs/rename.9999379753263398590.proof \u001b[0m\n",
      "\u001b[94m[DEBUG] [edit] trace path: dbg/8d058577cd/traces/shuffle.16031162538414592248 \u001b[0m\n"
     ]
    },
    {
     "name": "stdout",
     "output_type": "stream",
     "text": [
      "\u001b[93m[WARN] [differ] qid unknown_37 not found in dbg/8d058577cd/orig.smt2 \u001b[0m\n",
      "\u001b[93m[WARN] [differ] qid unknown_45 not found in dbg/8d058577cd/orig.smt2 \u001b[0m\n",
      "\u001b[93m[WARN] [differ] qid constructor_accessor_axiom not found in dbg/8d058577cd/orig.smt2 \u001b[0m\n",
      "\u001b[93m[WARN] [differ] qid <null> not found in dbg/8d058577cd/orig.smt2 \u001b[0m\n",
      "\u001b[92m[INFO] [edit] [skolem] user_verismo__pgtable_e__pte__set_pages_enc_dec_245 creates 4 skolem funs, 8 asserts \u001b[0m\n",
      "(assert (not (=> (= i@0 0) (=> (= verus_tmp@1 mem_perms!@0) (=> (= verus_tmp_old_mem_perms@ verus_tmp@1) (=> (= old_mem_perms@1 verus_tmp_old_mem_perms@) (=> (= verus_tmp$1@1 cs!@0) (=> (= verus_tmp_old_cs@ verus_tmp$1@1) (=> (= old_cs@1 verus_tmp_old_cs@) (and (=> %%location_label%%0 (<= i@0 size!)) (and (=> %%location_label%%1 (verismo!snp.trackedcore.snpmulticore.impl&%3.inv.? (Poly%verismo!snp.trackedcore.snpmulticore.SnpCoreSharedMem. cs!@0))) (and (=> %%location_label%%2 (verismo!snp.trackedcore.snpmulticore.impl&%3.only_lock_reg_updated.? (Poly%verismo!snp.trackedcore.snpmulticore.SnpCoreSharedMem. cs!@0) (Poly%verismo!snp.trackedcore.snpmulticore.SnpCoreSharedMem. old_cs@1) (vstd!set.impl&%0.empty.? $ TYPE%verismo!arch.reg.RegName.) (vstd!set.impl&%0.insert.? $ INT (vstd!set.impl&%0.empty.? $ INT) (I (verismo!lock.spin_t.impl&%4.id.? (Poly%verismo!lock.spin_t.SpinLock. (verismo!lock.spincell_e.impl&%1.spec_lock.? $ TYPE%verismo!pgtable_e.def.TrackedPTEPerms. (Poly%verismo!lock.spincell_e.VSpinLock<verismo!pgtable_e.def.TrackedPTEPerms.>. (verismo!global.spec_PT.? (I 0)))))))))) (and (=> %%location_label%%3 (%B (verismo!addr_e.addr_interface.PageTrait.spec_valid_pn_with.? $ (UINT 64) $ (UINT 64) (I start_page!) (I size!)))) (and (=> %%location_label%%4 (ext_eq true (TYPE%vstd!set.Set. $ INT) (vstd!map.impl&%0.dom.? $ INT $ TYPE%verismo!ptr.def_s.SnpPointsToRaw. (Poly%vstd!map.Map<int./verismo!ptr.def_s.SnpPointsToRaw.>. mem_perms!@0)) (vstd!map.impl&%0.dom.? $ INT $ TYPE%verismo!ptr.def_s.SnpPointsToRaw. (Poly%vstd!map.Map<int./verismo!ptr.def_s.SnpPointsToRaw.>. old_mem_perms@1)))) (and (=> %%location_label%%5 (forall ((page$ Poly)) (! (=> (has_type page$ INT) (=> (and (<= start_page! (%I page$)) (< (%I page$) (Add start_page! size!))) (and (vstd!set.impl&%0.contains.? $ INT (vstd!map.impl&%0.dom.? $ INT $ TYPE%verismo!ptr.def_s.SnpPointsToRaw. (Poly%vstd!map.Map<int./verismo!ptr.def_s.SnpPointsToRaw.>. mem_perms!@0)) page$) (verismo!ptr.raw_ptr_s.impl&%5.wf_range.? (Poly%verismo!ptr.raw_ptr_s.SnpPointsToBytes. (verismo!ptr.raw_ptr_s.impl&%4.view.? (vstd!map.impl&%0.index.? $ INT $ TYPE%verismo!ptr.def_s.SnpPointsToRaw. (Poly%vstd!map.Map<int./verismo!ptr.def_s.SnpPointsToRaw.>. mem_perms!@0) page$))) (Poly%tuple%2. (tuple%2./tuple%2 (verismo!addr_e.addr_interface.SpecPageTrait.to_addr.? $ INT page$) (I verismo!arch.addr_s.def_s.PAGE_SIZE.?))))))) :pattern ((vstd!set.impl&%0.contains.? $ INT (vstd!map.impl&%0.dom.? $ INT $ TYPE%verismo!ptr.def_s.SnpPointsToRaw. (Poly%vstd!map.Map<int./verismo!ptr.def_s.SnpPointsToRaw.>. mem_perms!@0)) page$)) :qid user_verismo__pgtable_e__pte__set_pages_enc_dec_246 :skolemid skolem_user_verismo__pgtable_e__pte__set_pages_enc_dec_246))) (and (=> %%location_label%%6 (forall ((page$ Poly)) (! (=> (has_type page$ INT) (=> (and (<= (Add start_page! i@0) (%I page$)) (< (%I page$) (Add start_page! size!))) (= (vstd!map.impl&%0.index.? $ INT $ TYPE%verismo!ptr.def_s.SnpPointsToRaw. (Poly%vstd!map.Map<int./verismo!ptr.def_s.SnpPointsToRaw.>. old_mem_perms@1) page$) (vstd!map.impl&%0.index.? $ INT $ TYPE%verismo!ptr.def_s.SnpPointsToRaw. (Poly%vstd!map.Map<int./verismo!ptr.def_s.SnpPointsToRaw.>. mem_perms!@0) page$)))) :pattern ((vstd!map.impl&%0.index.? $ INT $ TYPE%verismo!ptr.def_s.SnpPointsToRaw. (Poly%vstd!map.Map<int./verismo!ptr.def_s.SnpPointsToRaw.>. mem_perms!@0) page$)) :qid user_verismo__pgtable_e__pte__set_pages_enc_dec_247 :skolemid skolem_user_verismo__pgtable_e__pte__set_pages_enc_dec_247))) (and (=> %%location_label%%7 (forall ((page$ Poly)) (! (=> (has_type page$ INT) (=> (and (<= start_page! (%I page$)) (< (%I page$) (Add start_page! i@0))) (and (vstd!set.impl&%0.contains.? $ INT (vstd!map.impl&%0.dom.? $ INT $ TYPE%verismo!ptr.def_s.SnpPointsToRaw. (Poly%vstd!map.Map<int./verismo!ptr.def_s.SnpPointsToRaw.>. mem_perms!@0)) page$) (verismo!pgtable_e.pte.ensures_mem_enc_dec_memperm.? (B enc!) (vstd!map.impl&%0.index.? $ INT $ TYPE%verismo!ptr.def_s.SnpPointsToRaw. (Poly%vstd!map.Map<int./verismo!ptr.def_s.SnpPointsToRaw.>. old_mem_perms@1) page$) (vstd!map.impl&%0.index.? $ INT $ TYPE%verismo!ptr.def_s.SnpPointsToRaw. (Poly%vstd!map.Map<int./verismo!ptr.def_s.SnpPointsToRaw.>. mem_perms!@0) page$))))) :pattern ((vstd!set.impl&%0.contains.? $ INT (vstd!map.impl&%0.dom.? $ INT $ TYPE%verismo!ptr.def_s.SnpPointsToRaw. (Poly%vstd!map.Map<int./verismo!ptr.def_s.SnpPointsToRaw.>. mem_perms!@0)) page$)) :qid user_verismo__pgtable_e__pte__set_pages_enc_dec_248 :skolemid skolem_user_verismo__pgtable_e__pte__set_pages_enc_dec_248))) (=> (has_type (Poly%verismo!snp.trackedcore.snpmulticore.SnpCoreSharedMem. cs!@1) TYPE%verismo!snp.trackedcore.snpmulticore.SnpCoreSharedMem.) (=> (uInv 64 i@1) (=> (<= i@1 size!) (=> (verismo!snp.trackedcore.snpmulticore.impl&%3.inv.? (Poly%verismo!snp.trackedcore.snpmulticore.SnpCoreSharedMem. cs!@1)) (=> (verismo!snp.trackedcore.snpmulticore.impl&%3.only_lock_reg_updated.? (Poly%verismo!snp.trackedcore.snpmulticore.SnpCoreSharedMem. cs!@1) (Poly%verismo!snp.trackedcore.snpmulticore.SnpCoreSharedMem. old_cs@1) (vstd!set.impl&%0.empty.? $ TYPE%verismo!arch.reg.RegName.) (vstd!set.impl&%0.insert.? $ INT (vstd!set.impl&%0.empty.? $ INT) (I (verismo!lock.spin_t.impl&%4.id.? (Poly%verismo!lock.spin_t.SpinLock. (verismo!lock.spincell_e.impl&%1.spec_lock.? $ TYPE%verismo!pgtable_e.def.TrackedPTEPerms. (Poly%verismo!lock.spincell_e.VSpinLock<verismo!pgtable_e.def.TrackedPTEPerms.>. (verismo!global.spec_PT.? (I 0))))))))) (=> (%B (verismo!addr_e.addr_interface.PageTrait.spec_valid_pn_with.? $ (UINT 64) $ (UINT 64) (I start_page!) (I size!))) (=> (ext_eq true (TYPE%vstd!set.Set. $ INT) (vstd!map.impl&%0.dom.? $ INT $ TYPE%verismo!ptr.def_s.SnpPointsToRaw. (Poly%vstd!map.Map<int./verismo!ptr.def_s.SnpPointsToRaw.>. mem_perms!@1)) (vstd!map.impl&%0.dom.? $ INT $ TYPE%verismo!ptr.def_s.SnpPointsToRaw. (Poly%vstd!map.Map<int./verismo!ptr.def_s.SnpPointsToRaw.>. old_mem_perms@1))) (=> (forall ((page$ Poly)) (! (=> (has_type page$ INT) (=> (and (<= start_page! (%I page$)) (< (%I page$) (Add start_page! size!))) (and (vstd!set.impl&%0.contains.? $ INT (vstd!map.impl&%0.dom.? $ INT $ TYPE%verismo!ptr.def_s.SnpPointsToRaw. (Poly%vstd!map.Map<int./verismo!ptr.def_s.SnpPointsToRaw.>. mem_perms!@1)) page$) (verismo!ptr.raw_ptr_s.impl&%5.wf_range.? (Poly%verismo!ptr.raw_ptr_s.SnpPointsToBytes. (verismo!ptr.raw_ptr_s.impl&%4.view.? (vstd!map.impl&%0.index.? $ INT $ TYPE%verismo!ptr.def_s.SnpPointsToRaw. (Poly%vstd!map.Map<int./verismo!ptr.def_s.SnpPointsToRaw.>. mem_perms!@1) page$))) (Poly%tuple%2. (tuple%2./tuple%2 (verismo!addr_e.addr_interface.SpecPageTrait.to_addr.? $ INT page$) (I verismo!arch.addr_s.def_s.PAGE_SIZE.?))))))) :pattern ((vstd!set.impl&%0.contains.? $ INT (vstd!map.impl&%0.dom.? $ INT $ TYPE%verismo!ptr.def_s.SnpPointsToRaw. (Poly%vstd!map.Map<int./verismo!ptr.def_s.SnpPointsToRaw.>. mem_perms!@1)) page$)) :qid user_verismo__pgtable_e__pte__set_pages_enc_dec_246_1 :skolemid skolem_user_verismo__pgtable_e__pte__set_pages_enc_dec_246_1)) (=> (forall ((page$ Poly)) (! (=> (has_type page$ INT) (=> (and (<= (Add start_page! i@1) (%I page$)) (< (%I page$) (Add start_page! size!))) (= (vstd!map.impl&%0.index.? $ INT $ TYPE%verismo!ptr.def_s.SnpPointsToRaw. (Poly%vstd!map.Map<int./verismo!ptr.def_s.SnpPointsToRaw.>. old_mem_perms@1) page$) (vstd!map.impl&%0.index.? $ INT $ TYPE%verismo!ptr.def_s.SnpPointsToRaw. (Poly%vstd!map.Map<int./verismo!ptr.def_s.SnpPointsToRaw.>. mem_perms!@1) page$)))) :pattern ((vstd!map.impl&%0.index.? $ INT $ TYPE%verismo!ptr.def_s.SnpPointsToRaw. (Poly%vstd!map.Map<int./verismo!ptr.def_s.SnpPointsToRaw.>. mem_perms!@1) page$)) :qid user_verismo__pgtable_e__pte__set_pages_enc_dec_247_1 :skolemid skolem_user_verismo__pgtable_e__pte__set_pages_enc_dec_247_1)) (=> (forall ((page$ Poly)) (! (=> (has_type page$ INT) (=> (and (<= start_page! (%I page$)) (< (%I page$) (Add start_page! i@1))) (and (vstd!set.impl&%0.contains.? $ INT (vstd!map.impl&%0.dom.? $ INT $ TYPE%verismo!ptr.def_s.SnpPointsToRaw. (Poly%vstd!map.Map<int./verismo!ptr.def_s.SnpPointsToRaw.>. mem_perms!@1)) page$) (verismo!pgtable_e.pte.ensures_mem_enc_dec_memperm.? (B enc!) (vstd!map.impl&%0.index.? $ INT $ TYPE%verismo!ptr.def_s.SnpPointsToRaw. (Poly%vstd!map.Map<int./verismo!ptr.def_s.SnpPointsToRaw.>. old_mem_perms@1) page$) (vstd!map.impl&%0.index.? $ INT $ TYPE%verismo!ptr.def_s.SnpPointsToRaw. (Poly%vstd!map.Map<int./verismo!ptr.def_s.SnpPointsToRaw.>. mem_perms!@1) page$))))) :pattern ((vstd!set.impl&%0.contains.? $ INT (vstd!map.impl&%0.dom.? $ INT $ TYPE%verismo!ptr.def_s.SnpPointsToRaw. (Poly%vstd!map.Map<int./verismo!ptr.def_s.SnpPointsToRaw.>. mem_perms!@1)) page$)) :qid user_verismo__pgtable_e__pte__set_pages_enc_dec_248_1 :skolemid skolem_user_verismo__pgtable_e__pte__set_pages_enc_dec_248_1)) (=> (not (< i@1 size!)) (and (=> %%location_label%%8 (verismo!snp.trackedcore.snpmulticore.impl&%3.inv.? (Poly%verismo!snp.trackedcore.snpmulticore.SnpCoreSharedMem. cs!@1))) (and (=> %%location_label%%9 (verismo!snp.trackedcore.snpmulticore.impl&%3.only_lock_reg_updated.? (Poly%verismo!snp.trackedcore.snpmulticore.SnpCoreSharedMem. cs!@1) (Poly%verismo!snp.trackedcore.snpmulticore.SnpCoreSharedMem. cs!@0) (vstd!set.impl&%0.empty.? $ TYPE%verismo!arch.reg.RegName.) (vstd!set.impl&%0.insert.? $ INT (vstd!set.impl&%0.empty.? $ INT) (I (verismo!lock.spin_t.impl&%4.id.? (Poly%verismo!lock.spin_t.SpinLock. (verismo!lock.spincell_e.impl&%1.spec_lock.? $ TYPE%verismo!pgtable_e.def.TrackedPTEPerms. (Poly%verismo!lock.spincell_e.VSpinLock<verismo!pgtable_e.def.TrackedPTEPerms.>. (verismo!global.spec_PT.? (I 0)))))))))) (and (=> %%location_label%%10 (ext_eq true (TYPE%vstd!set.Set. $ INT) (vstd!map.impl&%0.dom.? $ INT $ TYPE%verismo!ptr.def_s.SnpPointsToRaw. (Poly%vstd!map.Map<int./verismo!ptr.def_s.SnpPointsToRaw.>. mem_perms!@1)) (vstd!map.impl&%0.dom.? $ INT $ TYPE%verismo!ptr.def_s.SnpPointsToRaw. (Poly%vstd!map.Map<int./verismo!ptr.def_s.SnpPointsToRaw.>. mem_perms!@0)))) (=> %%location_label%%11 (forall ((page$ Poly)) (! (=> (has_type page$ INT) (=> (and (<= start_page! (%I page$)) (< (%I page$) (Add start_page! size!))) (and (and (vstd!set.impl&%0.contains.? $ INT (vstd!map.impl&%0.dom.? $ INT $ TYPE%verismo!ptr.def_s.SnpPointsToRaw. (Poly%vstd!map.Map<int./verismo!ptr.def_s.SnpPointsToRaw.>. mem_perms!@1)) page$) (verismo!ptr.raw_ptr_s.impl&%5.wf_range.? (Poly%verismo!ptr.raw_ptr_s.SnpPointsToBytes. (verismo!ptr.raw_ptr_s.impl&%4.view.? (vstd!map.impl&%0.index.? $ INT $ TYPE%verismo!ptr.def_s.SnpPointsToRaw. (Poly%vstd!map.Map<int./verismo!ptr.def_s.SnpPointsToRaw.>. mem_perms!@1) page$))) (Poly%tuple%2. (tuple%2./tuple%2 (verismo!addr_e.addr_interface.SpecPageTrait.to_addr.? $ INT page$) (I verismo!arch.addr_s.def_s.PAGE_SIZE.?))))) (verismo!pgtable_e.pte.ensures_mem_enc_dec_memperm.? (B enc!) (vstd!map.impl&%0.index.? $ INT $ TYPE%verismo!ptr.def_s.SnpPointsToRaw. (Poly%vstd!map.Map<int./verismo!ptr.def_s.SnpPointsToRaw.>. mem_perms!@0) page$) (vstd!map.impl&%0.index.? $ INT $ TYPE%verismo!ptr.def_s.SnpPointsToRaw. (Poly%vstd!map.Map<int./verismo!ptr.def_s.SnpPointsToRaw.>. mem_perms!@1) page$))))) :pattern ((vstd!set.impl&%0.contains.? $ INT (vstd!map.impl&%0.dom.? $ INT $ TYPE%verismo!ptr.def_s.SnpPointsToRaw. (Poly%vstd!map.Map<int./verismo!ptr.def_s.SnpPointsToRaw.>. mem_perms!@1)) page$)) :qid user_verismo__pgtable_e__pte__set_pages_enc_dec_245 :skolemid skolem_user_verismo__pgtable_e__pte__set_pages_enc_dec_245))))))))))))))))))))))))))))))))))\n",
      "\u001b[92m[INFO] [edit] [banish] user_verismo__pgtable_e__pte__set_pages_enc_dec_245 \u001b[0m\n",
      "\u001b[92m[INFO] [edit] goal was modified! \u001b[0m\n",
      "\u001b[92m[INFO] [edit] written to data/projs/verus.skolem/base.z3/8d058577cd.5b7bbb21.smt2 \u001b[0m\n",
      "c4c1f6d166ad5b106554b653f12ed9c4.pickle\n"
     ]
    },
    {
     "name": "stderr",
     "output_type": "stream",
     "text": [
      "\u001b[94m[DEBUG] [skolem] is in the goal! \u001b[0m\n",
      "\u001b[94m[DEBUG] [skolem] page$!skolem_user_verismo__pgtable_e__pte__set_pages_enc_dec_245!7 -> skv_9d9f7a5cff36b070_1 \u001b[0m\n",
      "\u001b[94m[DEBUG] [skolem] page$!skolem_user_verismo__pgtable_e__pte__set_pages_enc_dec_248!6 -> skv_9d9f7a5cff36b070_2 \u001b[0m\n",
      "\u001b[94m[DEBUG] [skolem] page$!skolem_user_verismo__pgtable_e__pte__set_pages_enc_dec_247!5 -> skv_9d9f7a5cff36b070_3 \u001b[0m\n",
      "\u001b[94m[DEBUG] [skolem] page$!skolem_user_verismo__pgtable_e__pte__set_pages_enc_dec_246!4 -> skv_9d9f7a5cff36b070_4 \u001b[0m\n",
      "\u001b[94m[DEBUG] [edit] proof path: dbg/f6f3f962c0/proofs/shuffle.13526046991560484318.proof \u001b[0m\n",
      "\u001b[94m[DEBUG] [edit] trace path: dbg/f6f3f962c0/traces/shuffle.5345052648385214803 \u001b[0m\n"
     ]
    },
    {
     "name": "stdout",
     "output_type": "stream",
     "text": [
      "\u001b[93m[WARN] [differ] qid constructor_accessor_axiom not found in dbg/f6f3f962c0/orig.smt2 \u001b[0m\n",
      "d9a6fd7885eb3eb6c413c53316a91f44.pickle\n",
      "\u001b[93m[WARN] [differ] qid constructor_accessor_axiom not found in dbg/d057fff3f5/orig.smt2 \u001b[0m\n",
      "\u001b[92m[INFO] [edit] [skolem] user_lib__spec__cyclicbuffer__log_entry_alive_wrap_around_51 creates 1 skolem funs, 2 asserts \u001b[0m\n",
      "(assert (not (=> %%location_label%%0 (forall ((i$ Poly)) (! (=> (has_type i$ INT) (=> (and (<= low! (%I i$)) (< (%I i$) high!)) (= (lib!spec.cyclicbuffer.log_entry_is_alive.? (Poly%vstd!map.Map<nat./bool.>. alive_bits!) i$ (I buffer_size!)) (not (lib!spec.cyclicbuffer.log_entry_is_alive.? (Poly%vstd!map.Map<nat./bool.>. alive_bits!) (I (lib!spec.cyclicbuffer.add_buffersize.? i$ (I buffer_size!))) (I buffer_size!)))))) :pattern ((lib!spec.cyclicbuffer.log_entry_is_alive.? (Poly%vstd!map.Map<nat./bool.>. alive_bits!) (I (lib!spec.cyclicbuffer.add_buffersize.? i$ (I buffer_size!))) (I buffer_size!))) :qid user_lib__spec__cyclicbuffer__log_entry_alive_wrap_around_51 :skolemid skolem_user_lib__spec__cyclicbuffer__log_entry_alive_wrap_around_51)))))\n",
      "\u001b[92m[INFO] [edit] [banish] user_lib__spec__cyclicbuffer__log_entry_alive_wrap_around_51 \u001b[0m\n",
      "\u001b[92m[INFO] [edit] goal was modified! \u001b[0m\n",
      "\u001b[92m[INFO] [edit] written to data/projs/verus.skolem/base.z3/d057fff3f5.28c9a89c.smt2 \u001b[0m\n",
      "cce3dd987c131a5c430a27e224e9fdf1.pickle\n"
     ]
    },
    {
     "name": "stderr",
     "output_type": "stream",
     "text": [
      "\u001b[94m[DEBUG] [edit] proof path: dbg/d057fff3f5/proofs/rename.17608056682826294385.proof \u001b[0m\n",
      "\u001b[94m[DEBUG] [edit] trace path: dbg/d057fff3f5/traces/shuffle.227536422975727424 \u001b[0m\n",
      "\u001b[94m[DEBUG] [skolem] is in the goal! \u001b[0m\n",
      "\u001b[94m[DEBUG] [skolem] i$!skolem_user_lib__spec__cyclicbuffer__log_entry_alive_wrap_around_51!8 -> skv_9c714c1b26252b3b_1 \u001b[0m\n",
      "\u001b[94m[DEBUG] [edit] proof path: dbg/7d8c4302ab/proofs/reseed.9908923975124208297.proof \u001b[0m\n",
      "\u001b[94m[DEBUG] [edit] trace path: dbg/7d8c4302ab/traces/shuffle.15513482486857776214 \u001b[0m\n"
     ]
    },
    {
     "name": "stdout",
     "output_type": "stream",
     "text": [
      "\u001b[93m[WARN] [differ] qid constructor_accessor_axiom not found in dbg/7d8c4302ab/orig.smt2 \u001b[0m\n",
      "\u001b[92m[INFO] [edit] [skolem] user_vstd__seq__axiom_seq_ext_equal_9 creates 1 skolem funs, 1 asserts \u001b[0m\n",
      "(assert (=> (fuel_bool fuel%vstd!seq.axiom_seq_ext_equal.) (forall ((A&. Dcr) (A& Type) (s1! Poly) (s2! Poly)) (! (=> (and (has_type s1! (TYPE%vstd!seq.Seq. A&. A&)) (has_type s2! (TYPE%vstd!seq.Seq. A&. A&))) (= (ext_eq false (TYPE%vstd!seq.Seq. A&. A&) s1! s2!) (and (= (vstd!seq.Seq.len.? A&. A& s1!) (vstd!seq.Seq.len.? A&. A& s2!)) (forall ((i$ Poly)) (! (=> (has_type i$ INT) (=> (and (<= 0 (%I i$)) (< (%I i$) (vstd!seq.Seq.len.? A&. A& s1!))) (= (vstd!seq.Seq.index.? A&. A& s1! i$) (vstd!seq.Seq.index.? A&. A& s2! i$)))) :pattern ((vstd!seq.Seq.index.? A&. A& s1! i$)) :pattern ((vstd!seq.Seq.index.? A&. A& s2! i$)) :qid user_vstd__seq__axiom_seq_ext_equal_9 :skolemid skolem_user_vstd__seq__axiom_seq_ext_equal_9))))) :pattern ((ext_eq false (TYPE%vstd!seq.Seq. A&. A&) s1! s2!)) :qid user_vstd__seq__axiom_seq_ext_equal_10 :skolemid skolem_user_vstd__seq__axiom_seq_ext_equal_10))))\n",
      "\u001b[92m[INFO] [edit] [banish] user_vstd__seq__axiom_seq_ext_equal_9 \u001b[0m\n",
      "\u001b[93m[WARN] failed to banish user_vstd__seq__axiom_seq_ext_equal_9 \u001b[0m\n",
      "\u001b[92m[INFO] [edit] written to data/projs/verus.skolem/base.z3/7d8c4302ab.3fcad85d.smt2 \u001b[0m\n"
     ]
    },
    {
     "name": "stderr",
     "output_type": "stream",
     "text": [
      "\u001b[94m[DEBUG] [skolem] i$!skolem_user_vstd__seq__axiom_seq_ext_equal_9!9 -> skv_b540ba4d34905679_1 \u001b[0m\n"
     ]
    }
   ],
   "source": [
    "from bench.consts import *\n",
    "\n",
    "skolem_failed = []\n",
    "\n",
    "for q in modes[DbgMode.FAST_FAIL][DebugStatus.FIX_NOT_FOUND]:\n",
    "    if round1[q].create_skolem_query(VERUS_SKOLEM_DIR):\n",
    "        continue\n",
    "    skolem_failed.append(q)"
   ]
  },
  {
   "cell_type": "code",
   "execution_count": 7,
   "metadata": {},
   "outputs": [
    {
     "name": "stdout",
     "output_type": "stream",
     "text": [
      "| category                  |   count | percentage   |\n",
      "|---------------------------|---------|--------------|\n",
      "| DebugStatus.FIX_NOT_FOUND |       8 | 66.67%       |\n",
      "| DebugStatus.FIX_FOUND     |       4 | 33.33%       |\n",
      "| total                     |      12 | 100.00 %     |\n"
     ]
    }
   ],
   "source": [
    "options = DebugOptions()\n",
    "options.is_verus = True\n",
    "# it is tested under the name DOUBLETON\n",
    "# overwrite the mode, otherwise AUTO -> TIMEOUT\n",
    "options.mode = DbgMode.DOUBLETON\n",
    "\n",
    "round2_to = BenchViewer(modes[DbgMode.TIMEOUT][DebugStatus.FIX_NOT_FOUND], options)\n",
    "round2_to.status.print_status()\n"
   ]
  },
  {
   "cell_type": "code",
   "execution_count": 8,
   "metadata": {},
   "outputs": [
    {
     "name": "stdout",
     "output_type": "stream",
     "text": [
      "| category                  |   count | percentage   |\n",
      "|---------------------------|---------|--------------|\n",
      "| DebugStatus.FIX_NOT_FOUND |       4 | 57.14%       |\n",
      "| DebugStatus.FIX_FOUND     |       3 | 42.86%       |\n",
      "| total                     |       7 | 100.00 %     |\n"
     ]
    }
   ],
   "source": [
    "from utils.system_utils import list_smt2_files\n",
    "\n",
    "skolmized = list_smt2_files(VERUS_SKOLEM_DIR)\n",
    "options = DebugOptions()\n",
    "options.is_verus = True\n",
    "options.mode = DbgMode.SKOLEM\n",
    "\n",
    "round2_sk = BenchViewer(skolmized, options)\n",
    "round2_sk.status.print_status()"
   ]
  }
 ],
 "metadata": {
  "kernelspec": {
   "display_name": "Python 3",
   "language": "python",
   "name": "python3"
  },
  "language_info": {
   "codemirror_mode": {
    "name": "ipython",
    "version": 3
   },
   "file_extension": ".py",
   "mimetype": "text/x-python",
   "name": "python",
   "nbconvert_exporter": "python",
   "pygments_lexer": "ipython3",
   "version": "3.8.10"
  }
 },
 "nbformat": 4,
 "nbformat_minor": 2
}
