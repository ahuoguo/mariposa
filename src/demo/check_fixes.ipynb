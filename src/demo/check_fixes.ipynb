{
 "cells": [
  {
   "cell_type": "code",
   "execution_count": null,
   "metadata": {},
   "outputs": [],
   "source": [
    "import sys, os\n",
    "\n",
    "MARIPOSA_PATH = \"/home/yizhou7/mariposa/\"\n",
    "\n",
    "sys.path.append(MARIPOSA_PATH + \"src\")\n",
    "os.chdir(MARIPOSA_PATH)\n",
    "\n",
    "from debugger.strainer import DebugStatus\n",
    "from bench.viewer import BenchViewer\n",
    "from bench.factory import get_mariposa_viewer\n",
    "\n",
    "from z3 import *"
   ]
  },
  {
   "cell_type": "code",
   "execution_count": null,
   "metadata": {},
   "outputs": [],
   "source": [
    "only_inst_fixable = set()\n",
    "for q in round1.status[DebugStatus.FIX_FOUND]:\n",
    "    stabilized = round1[q].report.stabilized\n",
    "    print(stabilized)\n",
    "    print()\n",
    "    # for fix in .iterrows():\n",
    "    # if \"erase\" in stabilized.action.values:\n",
    "    #     continue\n",
    "    # if \"skolemize\" in stabilized.action.values:\n",
    "    #     continue\n",
    "    # only_inst_fixable.add(q)\n",
    "# print(len(only_inst_fixable))\n",
    "# print(only_inst_fixable)\n",
    "# only_inst_fixable = list(only_inst_fixable)"
   ]
  },
  {
   "cell_type": "code",
   "execution_count": null,
   "metadata": {},
   "outputs": [],
   "source": [
    "q = only_inst_fixable[1]\n",
    "\n",
    "def find_quant(qname, query):\n",
    "    with open(query, 'r') as f:\n",
    "        lines = f.readlines()\n",
    "    target_1 = \":qid \" + qname + \" \"\n",
    "    \n",
    "    for i, line in enumerate(lines):\n",
    "        if target_1 in line:\n",
    "            return line\n",
    "    return None\n",
    "\n",
    "def check_fix(q):\n",
    "    dbg = round1[q]\n",
    "    stabilized = dbg.report.stabilized\n",
    "    for fix in stabilized.iterrows():\n",
    "        fix = fix[1]\n",
    "        quant = find_quant(fix.qname, dbg.tracker.orig_path)\n",
    "        if quant.startswith(\"(assert (! (forall \"):\n",
    "            return True\n",
    "        if quant.startswith(\"(assert (! (=> true (forall\"):\n",
    "            return True\n",
    "    return False\n",
    "\n",
    "double_check = []\n",
    "for q in only_inst_fixable:\n",
    "    if not check_fix(q):\n",
    "        double_check.append(q)\n",
    "\n",
    "    # print(fix.action)\n",
    "    # print(fix.qname)\n",
    "    # print(dbg.tracker.orig_path)\n",
    "    # print(diff_files(dbg.tracker.orig_path, fix.edit_path))\n",
    "print(len(double_check))"
   ]
  },
  {
   "cell_type": "code",
   "execution_count": null,
   "metadata": {},
   "outputs": [],
   "source": [
    "for q in double_check:\n",
    "    dbg = round1[q]\n",
    "    stabilized = dbg.report.stabilized\n",
    "    for fix in stabilized.iterrows():\n",
    "        quant = find_quant(fix.qname, dbg.tracker.orig_path)\n",
    "        print(dbg.tracker.orig_path)\n",
    "        print(quant[:100])\n",
    "        print(fix.qname, fix.action)\n",
    "        print(fix.edit_path)\n",
    "        print(\"\")\n",
    "        # diff = diff_files(dbg.tracker.orig_path, fix.edit_path)\n",
    "        # print(diff)\n",
    "        break"
   ]
  },
  {
   "cell_type": "code",
   "execution_count": null,
   "metadata": {},
   "outputs": [],
   "source": [
    "s = Solver()\n",
    "s.from_file(\"dbg/36a1859f27/orig.smt2\")\n",
    "gg = s.assertions()[-1].sexpr()\n",
    "assert \"mariposa_qid_961\" in gg\n",
    "\n",
    "g = z3.Goal()\n",
    "g.add(s.assertions()[-1])\n",
    "res = z3.Tactic(\"snf\")(g)\n",
    "assert \"mariposa_qid_961\" in res.sexpr()\n",
    "print(res.sexpr())"
   ]
  }
 ],
 "metadata": {
  "kernelspec": {
   "display_name": "Python 3",
   "language": "python",
   "name": "python3"
  },
  "language_info": {
   "name": "python",
   "version": "3.8.10"
  }
 },
 "nbformat": 4,
 "nbformat_minor": 2
}
