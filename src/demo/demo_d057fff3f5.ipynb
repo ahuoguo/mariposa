{
 "cells": [
  {
   "cell_type": "code",
   "execution_count": 1,
   "metadata": {},
   "outputs": [],
   "source": [
    "import sys, os\n",
    "\n",
    "MARIPOSA_PATH = \"/home/yizhou7/mariposa/\"\n",
    "\n",
    "sys.path.append(MARIPOSA_PATH + \"src\")\n",
    "os.chdir(MARIPOSA_PATH)\n",
    "\n",
    "from debugger.debugger_options import DebugOptions\n",
    "from debugger.debugger import DbgMode, get_debugger"
   ]
  },
  {
   "cell_type": "code",
   "execution_count": 2,
   "metadata": {},
   "outputs": [
    {
     "name": "stdout",
     "output_type": "stream",
     "text": [
      "\u001b[92m[INFO] [init] resolved to data/projs/vsystemsnew/base.z3/noderep-smt-spec__cyclicbuffer.3.smt2 \u001b[0m\n",
      "\u001b[92m[INFO] [init] dbg root: dbg/d057fff3f5/ \u001b[0m\n"
     ]
    }
   ],
   "source": [
    "options = DebugOptions()\n",
    "options.verbose = True\n",
    "dbg = get_debugger(\"d057fff3f5\", DbgMode.FAST_FAIL, options)"
   ]
  },
  {
   "cell_type": "code",
   "execution_count": 3,
   "metadata": {},
   "outputs": [
    {
     "name": "stdout",
     "output_type": "stream",
     "text": [
      "d9a6fd7885eb3eb6c413c53316a91f44.pickle\n",
      "\u001b[93m[WARN] [differ] qid constructor_accessor_axiom not found in dbg/d057fff3f5/orig.smt2 \u001b[0m\n",
      "\u001b[92m[INFO] [edit] [skolem] user_lib__spec__cyclicbuffer__log_entry_alive_wrap_around_51 creates 1 skolem funs, 2 asserts \u001b[0m\n",
      "(assert (not (=> %%location_label%%0 (forall ((i$ Poly)) (! (=> (has_type i$ INT) (=> (and (<= low! (%I i$)) (< (%I i$) high!)) (= (lib!spec.cyclicbuffer.log_entry_is_alive.? (Poly%vstd!map.Map<nat./bool.>. alive_bits!) i$ (I buffer_size!)) (not (lib!spec.cyclicbuffer.log_entry_is_alive.? (Poly%vstd!map.Map<nat./bool.>. alive_bits!) (I (lib!spec.cyclicbuffer.add_buffersize.? i$ (I buffer_size!))) (I buffer_size!)))))) :pattern ((lib!spec.cyclicbuffer.log_entry_is_alive.? (Poly%vstd!map.Map<nat./bool.>. alive_bits!) (I (lib!spec.cyclicbuffer.add_buffersize.? i$ (I buffer_size!))) (I buffer_size!))) :qid user_lib__spec__cyclicbuffer__log_entry_alive_wrap_around_51 :skolemid skolem_user_lib__spec__cyclicbuffer__log_entry_alive_wrap_around_51)))))\n",
      "\u001b[92m[INFO] [edit] [banish] user_lib__spec__cyclicbuffer__log_entry_alive_wrap_around_51 \u001b[0m\n",
      "\u001b[92m[INFO] [edit] goal was modified! \u001b[0m\n",
      "\u001b[92m[INFO] [edit] written to data/projs/verus.skolem/base.z3/d057fff3f5.user_lib__spec__cyclicbuffer__log_entry_alive_wrap_around_51.smt2 \u001b[0m\n"
     ]
    },
    {
     "name": "stderr",
     "output_type": "stream",
     "text": [
      "\u001b[94m[DEBUG] [edit] proof path: dbg/d057fff3f5/proofs/rename.17608056682826294385.proof \u001b[0m\n",
      "\u001b[94m[DEBUG] [edit] trace path: dbg/d057fff3f5/traces/shuffle.227536422975727424 \u001b[0m\n",
      "\u001b[94m[DEBUG] [skolem] is in the goal! \u001b[0m\n",
      "\u001b[94m[DEBUG] [skolem] i$!skolem_user_lib__spec__cyclicbuffer__log_entry_alive_wrap_around_51!0 -> skv_df34ff95a60a20ac_1 \u001b[0m\n"
     ]
    }
   ],
   "source": [
    "from debugger.edit_info import EditAction\n",
    "\n",
    "qname = \"user_lib__spec__cyclicbuffer__log_entry_alive_wrap_around_51\"\n",
    "\n",
    "dbg.editor.edit_by_qname(\n",
    "    qname,\n",
    "    action=EditAction.SKOLEMIZE,\n",
    ")\n",
    "\n",
    "skolem_path = \"data/projs/verus.skolem/base.z3/\" + \"d057fff3f5.\" + qname + \".smt2\"\n",
    "dbg.editor.save(skolem_path)"
   ]
  },
  {
   "cell_type": "code",
   "execution_count": 4,
   "metadata": {},
   "outputs": [
    {
     "name": "stdout",
     "output_type": "stream",
     "text": [
      "\u001b[92m[INFO] [init] dbg root: dbg/3fa29d2e23/ \u001b[0m\n",
      "d0f41d42564f494621436c3f4710811e.pickle\n",
      "\u001b[93m[WARN] [differ] qid constructor_accessor_axiom not found in dbg/3fa29d2e23/orig.smt2 \u001b[0m\n"
     ]
    },
    {
     "name": "stderr",
     "output_type": "stream",
     "text": [
      "\u001b[94m[DEBUG] [edit] proof path: dbg/3fa29d2e23/proofs/reseed.7788777837559375523.proof \u001b[0m\n",
      "\u001b[94m[DEBUG] [edit] trace path: dbg/3fa29d2e23/traces/shuffle.2038207828246583870 \u001b[0m\n",
      "\u001b[94m[DEBUG] saving cache at 3fa29d2e23.report \u001b[0m\n"
     ]
    }
   ],
   "source": [
    "options.skip_core = True\n",
    "options.is_verus = True\n",
    "\n",
    "dbg = get_debugger(skolem_path, DbgMode.SINGLETON, options)\n",
    "# dbg.create_project()"
   ]
  },
  {
   "cell_type": "code",
   "execution_count": 6,
   "metadata": {},
   "outputs": [
    {
     "name": "stdout",
     "output_type": "stream",
     "text": [
      "DebugStatus.FINISHED\n"
     ]
    }
   ],
   "source": [
    "print(dbg.status)\n",
    "report = dbg.build_report()"
   ]
  },
  {
   "cell_type": "code",
   "execution_count": 7,
   "metadata": {},
   "outputs": [
    {
     "name": "stdout",
     "output_type": "stream",
     "text": [
      "tested 39, stabilized (4):\n",
      "+----+----------------+--------------+-------------------------------------------------------+\n",
      "|    | qname          | action       | edit_path                                             |\n",
      "|----+----------------+--------------+-------------------------------------------------------|\n",
      "|  0 | prelude_eucdiv | inst_replace | data/projs/singleton_3fa29d2e23/base.z3/30b90337.smt2 |\n",
      "|  1 | prelude_eucdiv | inst_keep    | data/projs/singleton_3fa29d2e23/base.z3/352b26bb.smt2 |\n",
      "|  2 | prelude_eucmod | inst_keep    | data/projs/singleton_3fa29d2e23/base.z3/57536093.smt2 |\n",
      "|  3 | prelude_eucmod | inst_replace | data/projs/singleton_3fa29d2e23/base.z3/c5a7e09b.smt2 |\n",
      "+----+----------------+--------------+-------------------------------------------------------+\n"
     ]
    }
   ],
   "source": [
    "report.print_stabilized()"
   ]
  },
  {
   "cell_type": "code",
   "execution_count": 10,
   "metadata": {},
   "outputs": [],
   "source": [
    "from debugger.proof_analyzer import ProofAnalyzer, QuantInstInfo\n",
    "\n",
    "pa: ProofAnalyzer = dbg.editor.proof"
   ]
  },
  {
   "cell_type": "code",
   "execution_count": 19,
   "metadata": {},
   "outputs": [
    {
     "name": "stdout",
     "output_type": "stream",
     "text": [
      "prelude_eucdiv instantiation 1/2\n",
      "(= (+ (EucDiv (%I (I (lib!spec.cyclicbuffer.add_buffersize.? skv_1b81d32a8f19528b_1 (I buffer_size!)))) 524288) (* (- 1) (div (%I (I (lib!spec.cyclicbuffer.add_buffersize.? skv_1b81d32a8f19528b_1 (I buffer_size!)))) 524288))) 0)\n",
      "prelude_eucdiv instantiation 2/2\n",
      "(= (+ (EucDiv (%I skv_1b81d32a8f19528b_1) 524288) (* (- 1) (div (%I skv_1b81d32a8f19528b_1) 524288))) 0)\n",
      "\n",
      "prelude_eucmod instantiation 1/4\n",
      "(= (+ (EucMod (EucDiv (%I (I (lib!spec.cyclicbuffer.add_buffersize.? skv_1b81d32a8f19528b_1 (I buffer_size!)))) (%I (I buffer_size!))) 2) (* (- 1) (mod (EucDiv (%I (I (lib!spec.cyclicbuffer.add_buffersize.? skv_1b81d32a8f19528b_1 (I buffer_size!)))) (%I (I buffer_size!))) 2))) 0)\n",
      "prelude_eucmod instantiation 2/4\n",
      "(= (+ (EucMod (EucDiv (%I (I (%I skv_1b81d32a8f19528b_1))) (%I (I buffer_size!))) 2) (* (- 1) (mod (EucDiv (%I (I (%I skv_1b81d32a8f19528b_1))) (%I (I buffer_size!))) 2))) 0)\n",
      "prelude_eucmod instantiation 3/4\n",
      "(= (+ (EucMod (%I skv_1b81d32a8f19528b_1) 524288) (* (- 1) (mod (%I skv_1b81d32a8f19528b_1) 524288))) 0)\n",
      "prelude_eucmod instantiation 4/4\n",
      "(= (+ (EucMod (%I (I (lib!spec.cyclicbuffer.add_buffersize.? skv_1b81d32a8f19528b_1 (I buffer_size!)))) 524288) (* (- 1) (mod (%I (I (lib!spec.cyclicbuffer.add_buffersize.? skv_1b81d32a8f19528b_1 (I buffer_size!)))) 524288))) 0)\n",
      "\n"
     ]
    }
   ],
   "source": [
    "for qname in [\"prelude_eucdiv\", \"prelude_eucmod\"]:\n",
    "    qii: QuantInstInfo = pa.get_inst_info_under_qname(qname)\n",
    "    insts = qii.get_feasible_insts()\n",
    "    for i, inst_ref in enumerate(insts):\n",
    "        print(qname, f\"instantiation {i+1}/{len(insts)}\")\n",
    "        print(pa.dump_node(inst_ref))\n",
    "    print(\"\")"
   ]
  },
  {
   "cell_type": "code",
   "execution_count": null,
   "metadata": {},
   "outputs": [],
   "source": []
  }
 ],
 "metadata": {
  "kernelspec": {
   "display_name": "Python 3",
   "language": "python",
   "name": "python3"
  },
  "language_info": {
   "codemirror_mode": {
    "name": "ipython",
    "version": 3
   },
   "file_extension": ".py",
   "mimetype": "text/x-python",
   "name": "python",
   "nbconvert_exporter": "python",
   "pygments_lexer": "ipython3",
   "version": "3.8.10"
  }
 },
 "nbformat": 4,
 "nbformat_minor": 2
}
