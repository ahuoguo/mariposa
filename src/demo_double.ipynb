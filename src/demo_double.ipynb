{
 "cells": [
  {
   "cell_type": "code",
   "execution_count": 1,
   "metadata": {},
   "outputs": [],
   "source": [
    "import sys, os\n",
    "\n",
    "MARIPOSA_PATH = \"/home/yizhou7/mariposa/\"\n",
    "\n",
    "sys.path.append(MARIPOSA_PATH + \"src\")\n",
    "os.chdir(MARIPOSA_PATH)\n",
    "\n",
    "from tabulate import tabulate\n",
    "from tqdm import tqdm\n",
    "import numpy as np\n",
    "import networkx as nx\n",
    "\n",
    "from debugger.edit_info import EditAction\n",
    "from debugger.debugger import Debugger3\n",
    "from debugger.tree_node import NodeRef\n",
    "from evaluator import Evaluator"
   ]
  },
  {
   "cell_type": "code",
   "execution_count": 2,
   "metadata": {},
   "outputs": [
    {
     "name": "stderr",
     "output_type": "stream",
     "text": [
      "\u001b[94m[DEBUG] [edit] proof path: dbg/84faa1a2fa/proofs/rename.2567182715268410107.proof \u001b[0m\n",
      "\u001b[94m[DEBUG] [edit] trace path: dbg/84faa1a2fa/traces/rename.3991909809416166522 \u001b[0m\n"
     ]
    },
    {
     "name": "stdout",
     "output_type": "stream",
     "text": [
      "f43f5a217ee7576ffee8847579c72a79.pickle\n",
      "\u001b[93m[WARN] [differ] qid constructor_accessor_axiom not found in dbg/84faa1a2fa/orig.smt2 \u001b[0m\n",
      "\u001b[92m[INFO] [graph] found dbg/84faa1a2fa/graphs/rename.3991909809416166522.txt \u001b[0m\n",
      "\u001b[92m[INFO] [stats] found dbg/84faa1a2fa/stats/rename.3991909809416166522.txt \u001b[0m\n"
     ]
    }
   ],
   "source": [
    "rev = Evaluator(\"84faa1a2fa\")\n",
    "editor = rev.editor\n",
    "ratios = rev.get_trace_graph_ratios()\n",
    "report = rev.build_report()\n",
    "mi = rev.get_trace_info()\n",
    "trace_graph = mi.get_trace_graph()"
   ]
  },
  {
   "cell_type": "code",
   "execution_count": null,
   "metadata": {},
   "outputs": [],
   "source": [
    "report.print_insted()"
   ]
  },
  {
   "cell_type": "code",
   "execution_count": null,
   "metadata": {},
   "outputs": [],
   "source": [
    "report.print_tested()"
   ]
  },
  {
   "cell_type": "code",
   "execution_count": 4,
   "metadata": {},
   "outputs": [],
   "source": [
    "roots = dict()\n",
    "singleton_scores = dict()\n",
    "\n",
    "for root in list(editor.list_qnames(root_only=True)):\n",
    "    if root not in ratios:\n",
    "        continue\n",
    "\n",
    "    actions = editor.get_quant_actions(root)\n",
    "\n",
    "    if (\n",
    "        actions == {EditAction.SKOLEMIZE}\n",
    "        or actions == {EditAction.NONE}\n",
    "        or actions == {EditAction.ERROR}\n",
    "    ):\n",
    "        continue\n",
    "\n",
    "    roots[root] = set(editor.trace_stats.get_group_stat(root).keys())\n",
    "    singleton_scores[root] = trace_graph.aggregate_scores(ratios[root])\n",
    "\n",
    "singleton_ranked = [\n",
    "    (k, v)\n",
    "    for k, v in sorted(singleton_scores.items(), key=lambda item: item[1], reverse=True)\n",
    "]"
   ]
  },
  {
   "cell_type": "code",
   "execution_count": 14,
   "metadata": {},
   "outputs": [],
   "source": [
    "ranked = [x[0] for x in singleton_ranked]\n",
    "TOP_N = 50\n",
    "# print(len(singleton_ranked))"
   ]
  },
  {
   "cell_type": "code",
   "execution_count": 15,
   "metadata": {},
   "outputs": [
    {
     "name": "stderr",
     "output_type": "stream",
     "text": [
      "100%|██████████| 50/50 [00:10<00:00,  4.76it/s]\n"
     ]
    }
   ],
   "source": [
    "from debugger.informed_editor import choose_action\n",
    "\n",
    "scores = dict()\n",
    "\n",
    "for i, root1 in enumerate(tqdm(ranked[:TOP_N])):\n",
    "    ratio1 = ratios[root1]\n",
    "    group1 = roots[root1]\n",
    "    cur_best, selected = 0, None\n",
    "\n",
    "    for root2 in ranked[TOP_N+1:2*TOP_N+1]:\n",
    "        ratio2 = ratios[root2]  \n",
    "        group2 = roots[root2]\n",
    "        merged = {}\n",
    "\n",
    "        for k in ratio1.keys():\n",
    "            merged[k] = max(ratio1[k], ratio2.get(k, 0))\n",
    "        for k in ratio2.keys():\n",
    "            merged[k] = max(ratio2[k], ratio1.get(k, 0))\n",
    "        for k in list(merged.keys()):\n",
    "            if merged[k] == 0:\n",
    "                merged.pop(k)\n",
    "        starts = group1 | group2\n",
    "\n",
    "        res = trace_graph.compute_sub_ratios(starts=starts, bootstrap=merged)\n",
    "        score = trace_graph.aggregate_scores(res)\n",
    "        if score > cur_best:\n",
    "            cur_best = score\n",
    "            selected = root2\n",
    "\n",
    "    scores[(root1, selected)] = cur_best\n",
    "\n",
    "scores = [(k, v) for k, v in scores.items() if v > 0]\n",
    "sorted_scores = sorted(scores, key=lambda x: x[1], reverse=True)\n",
    "sorted_scores = sorted_scores[:TOP_N]\n",
    "\n"
   ]
  },
  {
   "cell_type": "code",
   "execution_count": 16,
   "metadata": {},
   "outputs": [
    {
     "name": "stdout",
     "output_type": "stream",
     "text": [
      "mariposa_qid_390 mariposa_qid_405 erase erase 17123.05183218475\n",
      "mariposa_qid_1716 mariposa_qid_405 inst_replace erase 14591.903250302435\n",
      "mariposa_qid_1698 mariposa_qid_405 erase erase 10800.705481629047\n",
      "mariposa_qid_363 mariposa_qid_405 inst_replace erase 10037.868985775885\n",
      "mariposa_qid_1704 mariposa_qid_1570 inst_replace erase 9521.501002282705\n",
      "mariposa_qid_388 mariposa_qid_405 inst_replace erase 9362.098538772922\n",
      "mariposa_qid_2814 mariposa_qid_405 erase erase 7465.443827593559\n",
      "mariposa_qid_1683 mariposa_qid_405 erase erase 3142.7324074074077\n",
      "mariposa_qid_1695 mariposa_qid_405 erase erase 3107.445879342258\n",
      "mariposa_qid_56 mariposa_qid_405 inst_replace erase 2548.5360064084007\n",
      "mariposa_qid_1709 mariposa_qid_405 inst_replace erase 2342.6159376970136\n",
      "mariposa_qid_127 mariposa_qid_405 erase erase 1930.6599998697857\n",
      "mariposa_qid_332 mariposa_qid_405 inst_replace erase 1571.8144911851757\n",
      "mariposa_qid_89 mariposa_qid_405 inst_replace erase 1354.5794956067905\n",
      "mariposa_qid_1706 mariposa_qid_405 inst_replace erase 682.7077107356737\n",
      "mariposa_qid_371 mariposa_qid_405 inst_replace erase 647.3843567360875\n",
      "mariposa_qid_345 mariposa_qid_405 inst_keep erase 633.7320008079731\n",
      "mariposa_qid_1542 mariposa_qid_1570 erase erase 606.7442453232915\n",
      "mariposa_qid_2812 mariposa_qid_405 erase erase 555.993415381944\n",
      "mariposa_qid_1710 mariposa_qid_405 inst_replace erase 510.259730348516\n",
      "mariposa_qid_325 mariposa_qid_405 erase erase 321.7629215035932\n",
      "mariposa_qid_145 mariposa_qid_1498 erase erase 313.5365804463771\n",
      "mariposa_qid_2428 mariposa_qid_405 erase erase 274.68393421089183\n",
      "mariposa_qid_2806 mariposa_qid_405 erase erase 260.705850686269\n",
      "mariposa_qid_2436 mariposa_qid_405 erase erase 253.29896674945607\n",
      "mariposa_qid_1633 mariposa_qid_1498 erase erase 246.74712938817612\n",
      "mariposa_qid_330 mariposa_qid_405 erase erase 211.64351851851853\n",
      "mariposa_qid_1497 mariposa_qid_1498 erase erase 209.61623150569372\n",
      "mariposa_qid_368 mariposa_qid_405 erase erase 208.64351851851853\n",
      "mariposa_qid_2293 mariposa_qid_1498 erase erase 201.76108441463114\n",
      "mariposa_qid_400 mariposa_qid_405 erase erase 201.24074074074073\n",
      "mariposa_qid_385 mariposa_qid_405 erase erase 199.64351851851853\n",
      "mariposa_qid_387 mariposa_qid_405 erase erase 198.64351851851853\n",
      "mariposa_qid_1536 mariposa_qid_405 inst_keep erase 197.15999933766517\n",
      "mariposa_qid_318 mariposa_qid_405 erase erase 183.6435185185185\n",
      "mariposa_qid_2808 mariposa_qid_405 erase erase 173.6435185185185\n",
      "mariposa_qid_1766 mariposa_qid_405 erase erase 166.54808605578137\n",
      "mariposa_qid_119 mariposa_qid_1498 erase erase 153.0412100760068\n",
      "mariposa_qid_467 mariposa_qid_405 erase erase 146.6435185185185\n",
      "mariposa_qid_397 mariposa_qid_408 erase erase 143.74074074074073\n",
      "mariposa_qid_70 mariposa_qid_1498 erase erase 134.62110143254694\n",
      "mariposa_qid_139 mariposa_qid_1498 erase erase 134.59669949399623\n",
      "mariposa_qid_2438 mariposa_qid_405 erase erase 128.0635185185185\n",
      "mariposa_qid_463 mariposa_qid_405 inst_replace erase 126.64351851851852\n",
      "mariposa_qid_317 mariposa_qid_405 erase erase 124.64351851851852\n",
      "mariposa_qid_1545 mariposa_qid_1570 inst_replace erase 118.76400472256964\n",
      "mariposa_qid_323 mariposa_qid_405 erase erase 116.89740373162822\n",
      "mariposa_qid_280 mariposa_qid_405 erase erase 116.64351851851852\n",
      "mariposa_qid_2426 mariposa_qid_405 erase erase 115.64351851851852\n",
      "mariposa_qid_72 mariposa_qid_1498 erase erase 114.53175546299006\n"
     ]
    }
   ],
   "source": [
    "for (qname1, qname2), score in sorted_scores:\n",
    "    action1 = choose_action(editor.get_quant_actions(qname1))\n",
    "    action2 = choose_action(editor.get_quant_actions(qname2))\n",
    "    # edit = {qname1: action1, qname2: action2}\n",
    "    print(f\"{qname1} {qname2} {action1.value} {action2.value} {score}\")"
   ]
  },
  {
   "cell_type": "code",
   "execution_count": 17,
   "metadata": {},
   "outputs": [
    {
     "name": "stdout",
     "output_type": "stream",
     "text": [
      "\u001b[92m[INFO] [edit] [erase] mariposa_qid_390 \u001b[0m\n",
      "\u001b[92m[INFO] [edit] [erase] mariposa_qid_405 \u001b[0m\n",
      "\u001b[92m[INFO] [edit] written to test.smt2 \u001b[0m\n"
     ]
    }
   ],
   "source": [
    "editor.edit_by_qname(\"mariposa_qid_390\")\n",
    "editor.edit_by_qname(\"mariposa_qid_405\")\n",
    "editor.save(\"test.smt2\")"
   ]
  },
  {
   "cell_type": "code",
   "execution_count": null,
   "metadata": {},
   "outputs": [],
   "source": []
  }
 ],
 "metadata": {
  "kernelspec": {
   "display_name": "Python 3",
   "language": "python",
   "name": "python3"
  },
  "language_info": {
   "codemirror_mode": {
    "name": "ipython",
    "version": 3
   },
   "file_extension": ".py",
   "mimetype": "text/x-python",
   "name": "python",
   "nbconvert_exporter": "python",
   "pygments_lexer": "ipython3",
   "version": "3.8.10"
  }
 },
 "nbformat": 4,
 "nbformat_minor": 2
}
