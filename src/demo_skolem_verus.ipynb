{
 "cells": [
  {
   "cell_type": "code",
   "execution_count": 8,
   "metadata": {},
   "outputs": [],
   "source": [
    "import sys, os\n",
    "\n",
    "MARIPOSA_PATH = \"/home/yizhou7/mariposa/\"\n",
    "\n",
    "sys.path.append(MARIPOSA_PATH + \"src\")\n",
    "os.chdir(MARIPOSA_PATH)\n",
    "\n",
    "from debugger.bench_viewer import BenchViewer\n",
    "from debugger.strainer import StrainerStatus\n",
    "from benchmark_consts import *\n",
    "from debugger.mutant_info import TraceFailure\n",
    "from utils.system_utils import list_smt2_files\n",
    "from debugger.debugger import DbgMode, DebugOptions, get_debugger"
   ]
  },
  {
   "cell_type": "code",
   "execution_count": 9,
   "metadata": {},
   "outputs": [
    {
     "name": "stderr",
     "output_type": "stream",
     "text": [
      "\u001b[94m[DEBUG] [edit] proof path: dbg/1d17b82ddf/proofs/shuffle.5150113058852510444.proof \u001b[0m\n",
      "\u001b[94m[DEBUG] [edit] trace path: dbg/1d17b82ddf/traces/shuffle.16873895845105816263 \u001b[0m\n"
     ]
    },
    {
     "name": "stdout",
     "output_type": "stream",
     "text": [
      "1cb52769a9871af2443afc6c83260870.pickle\n",
      "\u001b[93m[WARN] [differ] qid constructor_accessor_axiom not found in dbg/1d17b82ddf/orig.smt2 \u001b[0m\n",
      "\u001b[93m[WARN] [differ] qid <null> not found in dbg/1d17b82ddf/orig.smt2 \u001b[0m\n"
     ]
    },
    {
     "name": "stderr",
     "output_type": "stream",
     "text": [
      "\u001b[94m[DEBUG] saving cache at 1d17b82ddf.sk.report \u001b[0m\n"
     ]
    }
   ],
   "source": [
    "SKOLEM_DIR = \"data/projs/verus.skolem/base.z3\"\n",
    "\n",
    "skolmized = list_smt2_files(SKOLEM_DIR)\n",
    "\n",
    "options = DebugOptions()\n",
    "options.mode = DbgMode.SKOLEM\n",
    "options.try_build = False\n",
    "options.is_verus = True\n",
    "\n",
    "# for q in skolmized:\n",
    "#     print(\"./src/debugger3.py --is-verus -i\", q)\n",
    "\n",
    "mv = BenchViewer(skolmized, options)"
   ]
  },
  {
   "cell_type": "code",
   "execution_count": 10,
   "metadata": {},
   "outputs": [
    {
     "name": "stdout",
     "output_type": "stream",
     "text": [
      "| category                |   count | percentage   |\n",
      "|-------------------------|---------|--------------|\n",
      "| StrainerStatus.FINISHED |       6 | 100.0 %      |\n",
      "| total                   |       6 | 100.00 %     |\n"
     ]
    }
   ],
   "source": [
    "mv.status.print_status()"
   ]
  },
  {
   "cell_type": "code",
   "execution_count": 11,
   "metadata": {},
   "outputs": [],
   "source": [
    "for q in mv.status[StrainerStatus.NOT_CREATED]:\n",
    "    print(\"./src/debugger3.py --is-verus -i\", q, \"-m\", \"skolem\", \"--create\")"
   ]
  },
  {
   "cell_type": "code",
   "execution_count": 12,
   "metadata": {},
   "outputs": [],
   "source": [
    "for q in mv.status[StrainerStatus.UNFILTERED]:\n",
    "    print(\"./src/make_spaghet.py --local --verus -i\", mv[q].strainer.test_dir)"
   ]
  },
  {
   "cell_type": "code",
   "execution_count": 13,
   "metadata": {},
   "outputs": [
    {
     "name": "stdout",
     "output_type": "stream",
     "text": [
      "2\n"
     ]
    }
   ],
   "source": [
    "print(len(mv.fixable))"
   ]
  },
  {
   "cell_type": "code",
   "execution_count": null,
   "metadata": {},
   "outputs": [],
   "source": [
    "for q in mv.status.tally:\n",
    "    mv[q].collect_garbage()"
   ]
  },
  {
   "cell_type": "code",
   "execution_count": null,
   "metadata": {},
   "outputs": [],
   "source": []
  }
 ],
 "metadata": {
  "kernelspec": {
   "display_name": "Python 3",
   "language": "python",
   "name": "python3"
  },
  "language_info": {
   "codemirror_mode": {
    "name": "ipython",
    "version": 3
   },
   "file_extension": ".py",
   "mimetype": "text/x-python",
   "name": "python",
   "nbconvert_exporter": "python",
   "pygments_lexer": "ipython3",
   "version": "3.8.10"
  }
 },
 "nbformat": 4,
 "nbformat_minor": 2
}
