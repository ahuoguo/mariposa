{
 "cells": [
  {
   "cell_type": "code",
   "execution_count": 1,
   "metadata": {},
   "outputs": [],
   "source": [
    "import sys, os\n",
    "\n",
    "MARIPOSA_PATH = \"/home/yizhou7/mariposa/\"\n",
    "\n",
    "sys.path.append(MARIPOSA_PATH + \"src\")\n",
    "os.chdir(MARIPOSA_PATH)\n",
    "\n",
    "from debugger.debugger import DbgMode\n",
    "from debugger.bench_viewer import BenchViewer\n",
    "from debugger.debugger_options import DebugOptions\n",
    "from debugger.strainer import DebugStatus\n",
    "from benchmark_consts import *"
   ]
  },
  {
   "cell_type": "code",
   "execution_count": 6,
   "metadata": {},
   "outputs": [
    {
     "name": "stdout",
     "output_type": "stream",
     "text": [
      "\u001b[93m[WARN] [proof] no proofs available \u001b[0m\n",
      "\u001b[93m[WARN] [proof] no proofs available \u001b[0m\n",
      "\u001b[93m[WARN] [init] 8d058577cd trace slow unknown, fallback to fast_fail \u001b[0m\n",
      "\u001b[93m[WARN] [proof] no proofs available \u001b[0m\n"
     ]
    }
   ],
   "source": [
    "options = DebugOptions()\n",
    "# remember to set this!\n",
    "options.is_verus = True\n",
    "\n",
    "round1 = BenchViewer(UNSTABLE_VERUS, options)"
   ]
  },
  {
   "cell_type": "code",
   "execution_count": 7,
   "metadata": {},
   "outputs": [
    {
     "name": "stdout",
     "output_type": "stream",
     "text": [
      "| category                  |   count | percentage   |\n",
      "|---------------------------|---------|--------------|\n",
      "| DebugStatus.FIX_FOUND     |      50 | 71.43 %      |\n",
      "| DebugStatus.FIX_NOT_FOUND |      17 | 24.29 %      |\n",
      "| DebugStatus.NO_PROOF      |       3 | 4.29 %       |\n",
      "| total                     |      70 | 100.00 %     |\n"
     ]
    }
   ],
   "source": [
    "round1.status.print_status()"
   ]
  },
  {
   "cell_type": "code",
   "execution_count": 8,
   "metadata": {},
   "outputs": [],
   "source": [
    "discount = [\n",
    "    (\"08719204aa\", \"4b9e624e\"),\n",
    "    (\"81b159a977\", \"fbe192f3\"),\n",
    "    (\"2556504d15\", \"7ab783b0\"),\n",
    "    (\"6540edb885\", \"5e546c11\"),\n",
    "    (\"82449bd2e8\", \"4c612f9b\"),\n",
    "    (\"a1b4b3fd4a\", \"4e444e51\"),\n",
    "    (\"55b4af82a4\", \"02d50371\"),\n",
    "    (\"2556504d15\", \"0e424555\"),\n",
    "    (\"4d2d4fbc20\", \"5a3b4208\"),\n",
    "    (\"82449bd2e8\", \"905f3174\"),\n",
    "    (\"2045867a58\", \"7ec12ea5\"),\n",
    "    (\"55b4af82a4\", \"781157b6\"),\n",
    "    (\"68ac429152\", \"75d801e3\"),\n",
    "]"
   ]
  },
  {
   "cell_type": "code",
   "execution_count": 9,
   "metadata": {},
   "outputs": [],
   "source": [
    "def fixable_after_discount(dbg):\n",
    "    report =dbg.report\n",
    "    name_hash = dbg.name_hash\n",
    "    fixable = False\n",
    "    for edit_path in report.stabilized['edit_path']:\n",
    "        edit_hash = os.path.basename(edit_path).split('.')[0]\n",
    "        if (name_hash, edit_hash) in discount:\n",
    "            continue\n",
    "        fixable = True\n",
    "    return fixable"
   ]
  },
  {
   "cell_type": "code",
   "execution_count": null,
   "metadata": {},
   "outputs": [],
   "source": []
  },
  {
   "cell_type": "code",
   "execution_count": null,
   "metadata": {},
   "outputs": [
    {
     "name": "stdout",
     "output_type": "stream",
     "text": [
      "TOs: 39/70 (55.7%)\n",
      "\t- 1-no-proof: 2/39 (5.1%)\n",
      "\t- 1-fixable: 25/39 (64.1%)\n",
      "\t- 1-unfixable: 9/39 (23.1%)\n",
      "FFs: 31/70 (44.3%)\n",
      "\t- 1-no-proof: 1/31 (3.2%)\n",
      "\t- 1-fixable: 22/31 (71.0%)\n",
      "\t- 1-unfixable: 8/31 (25.8%)\n",
      "\n",
      "1-fixable: 47/70 (67.1%)\n"
     ]
    }
   ],
   "source": [
    "from utils.analysis_utils import fmt_percent\n",
    "\n",
    "bench_total = len(round1.status.tally)\n",
    "\n",
    "to_cases = set()\n",
    "rd1_to_fixable = set()\n",
    "ff_cases = set()\n",
    "rd1_ff_fixable = set()\n",
    "\n",
    "def print_break_down(p, q):\n",
    "    return f\"{p}/{q} ({fmt_percent(p, q, 1)})\"\n",
    "\n",
    "for q in round1.status.tally:\n",
    "    dbg = round1[q]\n",
    "    if dbg.mode == DbgMode.TIMEOUT:\n",
    "        to_cases.add(q)\n",
    "        if q in round1.status[DebugStatus.FIX_FOUND] and fixable_after_discount(dbg):\n",
    "            rd1_to_fixable.add(q)\n",
    "    elif dbg.mode == DbgMode.FAST_FAIL:\n",
    "        ff_cases.add(q)\n",
    "        if q in round1.status[DebugStatus.FIX_FOUND] and fixable_after_discount(dbg):\n",
    "            rd1_ff_fixable.add(q)\n",
    "    else:\n",
    "        print(\"unexpected mode\", dbg.mode)\n",
    "        assert False\n",
    "\n",
    "print(\"TOs:\", print_break_down(len(to_cases), bench_total))\n",
    "rd1_to_no_proof = to_cases & round1.status[DebugStatus.NO_PROOF].items\n",
    "rd1_to_no_fix = to_cases & round1.status[DebugStatus.FIX_NOT_FOUND].items\n",
    "print(\"\\t- 1-no-proof:\", print_break_down(len(rd1_to_no_proof), len(to_cases)))\n",
    "print(\"\\t- 1-fixable:\", print_break_down(len(rd1_to_fixable), len(to_cases)))\n",
    "print(\"\\t- 1-unfixable:\", print_break_down(len(rd1_to_no_fix), len(to_cases)))\n",
    "\n",
    "print(\"FFs:\", print_break_down(len(ff_cases), bench_total))\n",
    "rd1_ff_no_proof = ff_cases & round1.status[DebugStatus.NO_PROOF].items\n",
    "rd1_ff_no_fix = ff_cases & round1.status[DebugStatus.FIX_NOT_FOUND].items\n",
    "print(\"\\t- 1-no-proof:\", print_break_down(len(rd1_ff_no_proof), len(ff_cases)))\n",
    "print(\"\\t- 1-fixable:\", print_break_down(len(rd1_ff_fixable), len(ff_cases)))\n",
    "print(\"\\t- 1-unfixable:\", print_break_down(len(rd1_ff_no_fix), len(ff_cases)))\n",
    "\n",
    "print(\"\")\n",
    "print(\"1-fixable:\", print_break_down(len(rd1_to_fixable | rd1_ff_fixable), bench_total))"
   ]
  },
  {
   "cell_type": "code",
   "execution_count": null,
   "metadata": {},
   "outputs": [],
   "source": [
    "# for Verus, we bundle and re-test the fixable cases\n",
    "\n",
    "for query in rd1_to_fixable | rd1_ff_fixable:\n",
    "    report = round1[query].report\n",
    "    name_hash = round1[query].name_hash\n",
    "\n",
    "    for edit_path in report.stabilized['edit_path']:\n",
    "        edit_query = os.path.basename(edit_path)\n",
    "        bundle_path = f\"data/projs/verus_singleton_bundle/base.z3/{name_hash}.{edit_query}\""
   ]
  },
  {
   "cell_type": "code",
   "execution_count": null,
   "metadata": {},
   "outputs": [],
   "source": [
    "for q in round1.status[DebugStatus.NO_PROOF]:\n",
    "    print(q)"
   ]
  },
  {
   "cell_type": "code",
   "execution_count": 12,
   "metadata": {},
   "outputs": [],
   "source": [
    "for q in round1.status[DebugStatus.NOT_CREATED]:\n",
    "    print(\"./src/debugger3.py -m auto -i\", round1[q].name_hash, \"--create-project\")"
   ]
  },
  {
   "cell_type": "code",
   "execution_count": 11,
   "metadata": {},
   "outputs": [],
   "source": [
    "from utils.system_utils import list_smt2_files\n",
    "\n",
    "for q in round1.status[DebugStatus.UNFILTERED]:\n",
    "    assert len(list_smt2_files(round1[q].strainer.filter_dir)) != 0\n",
    "    print(\"./src/make_spaghet.py --verus --local -i\", round1[q].strainer.filter_dir)\n",
    "\n",
    "for q in round1.status[DebugStatus.NOT_TESTED]:\n",
    "    assert len(list_smt2_files(round1[q].strainer.test_dir)) != 0\n",
    "    print(\"./src/make_spaghet.py --verus --local -i\", round1[q].strainer.test_dir)"
   ]
  },
  {
   "cell_type": "code",
   "execution_count": 20,
   "metadata": {},
   "outputs": [],
   "source": [
    "from debugger.edit_info import EditAction, EditInfo\n",
    "\n",
    "skolem_failed = []\n",
    "\n",
    "for q in rd1_ff_no_fix:\n",
    "    dbg = round1[q]\n",
    "    qname = dbg.editor.choose_qanme_to_skolemize()\n",
    "\n",
    "    if qname is None:\n",
    "        skolem_failed.append(q)\n",
    "        continue\n",
    "\n",
    "    ei = EditInfo(VERUS_SKOLEM_DIR, {qname: EditAction.SKOLEMIZE})\n",
    "    edit_hash = ei.get_id()\n",
    "    name_hash = dbg.name_hash\n",
    "\n",
    "    query_path = f\"{VERUS_SKOLEM_DIR}/{name_hash}.{edit_hash}.smt2\"\n",
    "\n",
    "    if os.path.exists(query_path):\n",
    "        continue\n",
    "\n",
    "    if not dbg.editor.edit_by_qname(qname, EditAction.SKOLEMIZE):\n",
    "        skolem_failed.append(q)\n",
    "        continue\n",
    "\n",
    "    if not dbg.editor.save(query_path):\n",
    "        skolem_failed.append(q)\n",
    "        continue"
   ]
  },
  {
   "cell_type": "code",
   "execution_count": 22,
   "metadata": {},
   "outputs": [
    {
     "data": {
      "text/plain": [
       "['621abdd996',\n",
       " 'aad03b9358',\n",
       " '199ba4594c',\n",
       " '93004876e4',\n",
       " '65d90190b4',\n",
       " 'fa2fdaf6e0',\n",
       " '6937ca47cd',\n",
       " '8c0bbf67d0',\n",
       " '66c9bdf69f']"
      ]
     },
     "execution_count": 22,
     "metadata": {},
     "output_type": "execute_result"
    }
   ],
   "source": [
    "[round1[q].name_hash for q in rd1_to_no_fix]"
   ]
  },
  {
   "cell_type": "code",
   "execution_count": null,
   "metadata": {},
   "outputs": [],
   "source": []
  }
 ],
 "metadata": {
  "kernelspec": {
   "display_name": "Python 3",
   "language": "python",
   "name": "python3"
  },
  "language_info": {
   "codemirror_mode": {
    "name": "ipython",
    "version": 3
   },
   "file_extension": ".py",
   "mimetype": "text/x-python",
   "name": "python",
   "nbconvert_exporter": "python",
   "pygments_lexer": "ipython3",
   "version": "3.8.10"
  }
 },
 "nbformat": 4,
 "nbformat_minor": 2
}
