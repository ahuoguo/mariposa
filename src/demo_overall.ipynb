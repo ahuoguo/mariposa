{
 "cells": [
  {
   "cell_type": "code",
   "execution_count": 2,
   "metadata": {},
   "outputs": [],
   "source": [
    "import os\n",
    "from pandas import DataFrame \n",
    "import networkx as nx\n",
    "\n",
    "os.chdir(\"/home/yizhou7/mariposa/\")\n",
    "\n",
    "from debugger.debugger import Debugger3\n",
    "from debugger.tree_node import NodeRef\n",
    "from evaluator import BenchViewer\n",
    "from evaluator import DebuggerStatus\n",
    "from benchmark_consts import *\n",
    "from utils.system_utils import list_smt2_files, get_name_hash"
   ]
  },
  {
   "cell_type": "code",
   "execution_count": null,
   "metadata": {},
   "outputs": [],
   "source": [
    "qs = UNSTABLE_MARIPOSA\n",
    "# qs = [q for q in qs if get_name_hash(q) not in LIKELY_FIXED]\n",
    "# print(len(qs))\n",
    "mv = BenchViewer(qs)\n",
    "# vv = BenchViewer(UNSTABLE_VERUS)"
   ]
  },
  {
   "cell_type": "code",
   "execution_count": 4,
   "metadata": {},
   "outputs": [
    {
     "name": "stdout",
     "output_type": "stream",
     "text": [
      "| category                                      |   count | percentage   |\n",
      "|-----------------------------------------------|---------|--------------|\n",
      "| DebuggerStatus.FINISHED                       |     474 | 86.97 %      |\n",
      "| DebuggerStatus.NO_PROOF                       |      26 | 4.77 %       |\n",
      "| DebuggerStatus.SINGLETON_CREATION_FAILED      |      21 | 3.85 %       |\n",
      "| DebuggerStatus.SINGLETON_CREATION_UNATTEMPTED |      13 | 2.39 %       |\n",
      "| DebuggerStatus.SINGLETON_NOT_RAN              |      10 | 1.83 %       |\n",
      "| DebuggerStatus.FILTERED_NOT_RAN               |       1 | 0.18 %       |\n",
      "| total                                         |     545 | 100.00 %     |\n"
     ]
    }
   ],
   "source": [
    "mv.status.print_status()"
   ]
  },
  {
   "cell_type": "code",
   "execution_count": null,
   "metadata": {},
   "outputs": [],
   "source": [
    "for q in mv.status[DebuggerStatus.SINGLETON_CREATION_UNATTEMPTED]:\n",
    "# for q in mv.status[DebuggerStatus.SINGLETON_CREATION_FAILED]:\n",
    "    print(\"./src/debugger3.py --create-singleton -i\", q, \"--reset-proof-cache\")"
   ]
  },
  {
   "cell_type": "code",
   "execution_count": null,
   "metadata": {},
   "outputs": [
    {
     "name": "stdout",
     "output_type": "stream",
     "text": [
      "./src/exper_wizard.py manager -e verify --total-parts 12 -i  data/projs/singleton_cb725a5d7b/base.z3 --clear\n",
      "./src/analysis_wizard.py singleton -e verify -s z3_4_13_0 -i  data/projs/singleton_cb725a5d7b/base.z3\n",
      "python3 src/carve_and_rerun.py data/projs/singleton_cb725a5d7b.filtered/base.z3\n",
      "./src/exper_wizard.py manager -e verify --total-parts 12 -i  data/projs/singleton_1bcd3aa5cb/base.z3 --clear\n",
      "./src/analysis_wizard.py singleton -e verify -s z3_4_13_0 -i  data/projs/singleton_1bcd3aa5cb/base.z3\n",
      "python3 src/carve_and_rerun.py data/projs/singleton_1bcd3aa5cb.filtered/base.z3\n",
      "./src/exper_wizard.py manager -e verify --total-parts 12 -i  data/projs/singleton_d75368331e/base.z3 --clear\n",
      "./src/analysis_wizard.py singleton -e verify -s z3_4_13_0 -i  data/projs/singleton_d75368331e/base.z3\n",
      "python3 src/carve_and_rerun.py data/projs/singleton_d75368331e.filtered/base.z3\n",
      "./src/exper_wizard.py manager -e verify --total-parts 12 -i  data/projs/singleton_b182e2a043/base.z3 --clear\n",
      "./src/analysis_wizard.py singleton -e verify -s z3_4_13_0 -i  data/projs/singleton_b182e2a043/base.z3\n",
      "python3 src/carve_and_rerun.py data/projs/singleton_b182e2a043.filtered/base.z3\n",
      "./src/exper_wizard.py manager -e verify --total-parts 12 -i  data/projs/singleton_085a5fa6a3/base.z3 --clear\n",
      "./src/analysis_wizard.py singleton -e verify -s z3_4_13_0 -i  data/projs/singleton_085a5fa6a3/base.z3\n",
      "python3 src/carve_and_rerun.py data/projs/singleton_085a5fa6a3.filtered/base.z3\n",
      "./src/exper_wizard.py manager -e verify --total-parts 12 -i  data/projs/singleton_f81ecefbe1/base.z3 --clear\n",
      "./src/analysis_wizard.py singleton -e verify -s z3_4_13_0 -i  data/projs/singleton_f81ecefbe1/base.z3\n",
      "python3 src/carve_and_rerun.py data/projs/singleton_f81ecefbe1.filtered/base.z3\n",
      "./src/exper_wizard.py manager -e verify --total-parts 12 -i  data/projs/singleton_7c6738ef40/base.z3 --clear\n",
      "./src/analysis_wizard.py singleton -e verify -s z3_4_13_0 -i  data/projs/singleton_7c6738ef40/base.z3\n",
      "python3 src/carve_and_rerun.py data/projs/singleton_7c6738ef40.filtered/base.z3\n",
      "./src/exper_wizard.py manager -e verify --total-parts 12 -i  data/projs/singleton_738511822f/base.z3 --clear\n",
      "./src/analysis_wizard.py singleton -e verify -s z3_4_13_0 -i  data/projs/singleton_738511822f/base.z3\n",
      "python3 src/carve_and_rerun.py data/projs/singleton_738511822f.filtered/base.z3\n"
     ]
    }
   ],
   "source": [
    "for q in mv.status[DebuggerStatus.SINGLETON_NOT_RAN]:\n",
    "# for q in mv.status[DebuggerStatus.SINGLETON_TESTED_EMPTY]:\n",
    "    assert len(list_smt2_files(mv[q].singleton_dir)) != 0\n",
    "    print(\"./src/exper_wizard.py manager -e verify --total-parts 12 -i \", mv[q].singleton_dir, \"--clear\")\n",
    "    print(\"./src/analysis_wizard.py singleton -e verify -s z3_4_13_0 -i \", mv[q].singleton_dir)\n",
    "    print(\"python3 src/carve_and_rerun.py\", mv[q].filtered_dir)"
   ]
  },
  {
   "cell_type": "code",
   "execution_count": 9,
   "metadata": {},
   "outputs": [
    {
     "name": "stdout",
     "output_type": "stream",
     "text": [
      "0.7441860465116279\n"
     ]
    }
   ],
   "source": [
    "print(len(mv.fixable)/len(mv.status[DebuggerStatus.FINISHED]))\n",
    "\n",
    "# bad_min_ranks = dict()\n",
    "\n",
    "# for q in mv.fixable:\n",
    "#     r = mv.reviewers[q]\n",
    "#     report = r.build_report()\n",
    "#     indices = report.freq.loc[report.freq[\"qname\"].isin(report.stabilized[\"qname\"])].index\n",
    "#     report.freq[\"rank\"] = report.freq[\"trace_count\"].rank(method='min', ascending=False)\n",
    "#     min_rank = report.freq.loc[indices][\"rank\"].min()\n",
    "#     max_rank = report.freq.loc[indices][\"rank\"].max()\n",
    "#     if min_rank <= 10:\n",
    "#         continue\n",
    "#     bad_min_ranks[q] = (min_rank, len(indices))\n",
    "\n",
    "# for q, (rank, feasible)  in bad_min_ranks.items():\n",
    "#     print(int(rank), feasible, q)"
   ]
  },
  {
   "cell_type": "code",
   "execution_count": null,
   "metadata": {},
   "outputs": [],
   "source": [
    "for q in mv.status[DebuggerStatus.NO_PROOF]:\n",
    "    print('\"' + mv[q].name_hash + '\"', end=\", \")"
   ]
  },
  {
   "cell_type": "code",
   "execution_count": null,
   "metadata": {},
   "outputs": [],
   "source": [
    "dirs_to_send = []\n",
    "additional = []\n",
    "\n",
    "for q in mv.fixable:\n",
    "    r = mv.reviewers[q]\n",
    "    if r.name_hash in LIKELY_FIXED:\n",
    "        continue\n",
    "    r.collect_garbage()\n",
    "    dirs_to_send += r.get_dirs_to_sync()\n",
    "    additional += f\"'{r.name_hash}'\"\n",
    "\n",
    "print(\"#\" + \", \".join(additional))\n",
    "\n",
    "for i, d in enumerate(dirs_to_send):\n",
    "    if i % 5 == 0:\n",
    "        print(\"echo '\", (i //5 +1), \"/\", len(dirs_to_send)//5, \"'\")\n",
    "    print(\"rsync -avz\", d, \"g2001:/home/yizhou7/mariposa/\", \"--inplace\", \"--delete\", \"--relative\")"
   ]
  },
  {
   "cell_type": "code",
   "execution_count": null,
   "metadata": {},
   "outputs": [],
   "source": []
  }
 ],
 "metadata": {
  "kernelspec": {
   "display_name": "Python 3",
   "language": "python",
   "name": "python3"
  },
  "language_info": {
   "codemirror_mode": {
    "name": "ipython",
    "version": 3
   },
   "file_extension": ".py",
   "mimetype": "text/x-python",
   "name": "python",
   "nbconvert_exporter": "python",
   "pygments_lexer": "ipython3",
   "version": "3.8.10"
  }
 },
 "nbformat": 4,
 "nbformat_minor": 2
}
