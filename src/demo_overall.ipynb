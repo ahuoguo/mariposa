{
 "cells": [
  {
   "cell_type": "code",
   "execution_count": 1,
   "metadata": {},
   "outputs": [],
   "source": [
    "import sys, os\n",
    "\n",
    "MARIPOSA_PATH = \"/home/yizhou7/mariposa/\"\n",
    "\n",
    "sys.path.append(MARIPOSA_PATH + \"src\")\n",
    "os.chdir(MARIPOSA_PATH)\n",
    "\n",
    "from debugger.tree_node import NodeRef\n",
    "from evaluator import BenchViewer, Evaluator\n",
    "from debugger.debugger import Debugger3\n",
    "from evaluator import DebuggerStatus\n",
    "from benchmark_consts import *\n",
    "from utils.system_utils import list_smt2_files, get_name_hash"
   ]
  },
  {
   "cell_type": "code",
   "execution_count": null,
   "metadata": {},
   "outputs": [],
   "source": [
    "qs = UNSTABLE_MARIPOSA\n",
    "# qs = UNSTABLE_VERUS\n",
    "mv = BenchViewer(qs)\n",
    "# for q in qs:\n",
    "#     print(q)\n",
    "#     rev = Evaluator(q)"
   ]
  },
  {
   "cell_type": "code",
   "execution_count": 3,
   "metadata": {},
   "outputs": [
    {
     "name": "stdout",
     "output_type": "stream",
     "text": [
      "| category                                      |   count | percentage   |\n",
      "|-----------------------------------------------|---------|--------------|\n",
      "| DebuggerStatus.FINISHED                       |     487 | 89.36 %      |\n",
      "| DebuggerStatus.SINGLETON_NOT_RAN              |      36 | 6.61 %       |\n",
      "| DebuggerStatus.SINGLETON_CREATION_UNATTEMPTED |       9 | 1.65 %       |\n",
      "| DebuggerStatus.SINGLETON_CREATION_FAILED      |       9 | 1.65 %       |\n",
      "| DebuggerStatus.NO_PROOF                       |       4 | 0.73 %       |\n",
      "| total                                         |     545 | 100.00 %     |\n"
     ]
    }
   ],
   "source": [
    "mv.status.print_status()"
   ]
  },
  {
   "cell_type": "code",
   "execution_count": null,
   "metadata": {},
   "outputs": [],
   "source": [
    "for q in mv.status[DebuggerStatus.NO_PROOF]:\n",
    "    print(q)"
   ]
  },
  {
   "cell_type": "code",
   "execution_count": null,
   "metadata": {},
   "outputs": [],
   "source": [
    "for q in mv.status[DebuggerStatus.SINGLETON_CREATION_UNATTEMPTED]:\n",
    "    print(\"./src/debugger3.py --create-singleton -i\", q)\n",
    "\n",
    "for q in mv.status[DebuggerStatus.SINGLETON_CREATION_FAILED]:\n",
    "    print(\"./src/debugger3.py --create-singleton -i\", q)"
   ]
  },
  {
   "cell_type": "code",
   "execution_count": null,
   "metadata": {},
   "outputs": [],
   "source": [
    "for q in mv.status[DebuggerStatus.SINGLETON_NOT_RAN]:\n",
    "# for q in mv.status[DebuggerStatus.SINGLETON_TESTED_EMPTY]:\n",
    "# for q in mv.status[DebuggerStatus.FILTERED_NOT_RAN]:\n",
    "    assert len(list_smt2_files(mv[q].singleton_dir)) != 0\n",
    "    print(\"./src/exper_wizard.py manager -e verify --total-parts 12 -i \", mv[q].singleton_dir, \"--clear\")\n",
    "    print(\"./src/analysis_wizard.py singleton -e verify -s z3_4_13_0 -i \", mv[q].singleton_dir)\n",
    "    print(\"python3 src/carve_and_rerun.py\", mv[q].filtered_dir)"
   ]
  },
  {
   "cell_type": "code",
   "execution_count": null,
   "metadata": {},
   "outputs": [],
   "source": [
    "print(len(mv.fixable)/len(mv.status[DebuggerStatus.SINGLETON_FINISHED]))\n",
    "\n",
    "# import numpy as np\n",
    "# bad_min_ranks = dict()\n",
    "# min_ranks = []\n",
    "\n",
    "# for q in mv.fixable:\n",
    "#     r = mv.reviewers[q]\n",
    "#     report = r.build_report()\n",
    "#     indices = report.freq.loc[report.freq[\"qname\"].isin(report.stabilized[\"qname\"])].index\n",
    "#     report.freq[\"rank\"] = report.freq[\"trace_count\"].rank(method='min', ascending=False)\n",
    "#     min_rank = report.freq.loc[indices][\"rank\"].min()\n",
    "#     max_rank = report.freq.loc[indices][\"rank\"].max()\n",
    "#     min_ranks.append(min_rank)\n",
    "#     if min_rank <= 10:\n",
    "#         continue\n",
    "#     bad_min_ranks[q] = (min_rank, len(indices))\n",
    "\n",
    "# min_ranks = np.array(min_ranks)\n",
    "\n",
    "# for q, (rank, feasible) in bad_min_ranks.items():\n",
    "#     print(int(rank), feasible, q)"
   ]
  },
  {
   "cell_type": "code",
   "execution_count": null,
   "metadata": {},
   "outputs": [],
   "source": [
    "def fmt_ratio(x, y):\n",
    "    return f\"({round(x / y * 100, 1)}%)\"\n",
    "\n",
    "def fmt_ratio_2(x, y):\n",
    "    return f\"{x}/{y} ({round(x / y * 100, 1)}%)\"\n",
    "\n",
    "def count_leq(r, n):\n",
    "    return np.where(r <= n)[0].shape[0]\n",
    "\n",
    "fixable_count = len(mv.fixable)\n",
    "finished_count = len(mv.status[DebuggerStatus.SINGLETON_FINISHED])\n",
    "bench_total = mv.status.total\n",
    "print(\"finished\", fmt_ratio_2(finished_count, bench_total))\n",
    "print(\"\\tfixable\", fmt_ratio_2(fixable_count, finished_count))\n",
    "rcount = count_leq(min_ranks, 1)\n",
    "print(\"\\t\\t\", \"top-1 \", fmt_ratio_2(rcount, fixable_count))\n",
    "rcount = count_leq(min_ranks, 3)\n",
    "print(\"\\t\\t\", \"top-3 \", fmt_ratio_2(rcount, fixable_count))\n",
    "rcount = count_leq(min_ranks, 10)\n",
    "print(\"\\t\\t\", \"top-10\", fmt_ratio_2(rcount, fixable_count))\n",
    "print(\"\\tno-fixes\", fmt_ratio_2(finished_count - fixable_count, finished_count))\n",
    "no_proof = len(mv.status[DebuggerStatus.NO_PROOF])\n",
    "print(\"no-proof\", fmt_ratio_2(no_proof, bench_total))\n",
    "parse_fail = len(mv.status[DebuggerStatus.SINGLETON_CREATION_UNATTEMPTED]) + len(mv.status[DebuggerStatus.SINGLETON_CREATION_FAILED])\n",
    "print(\"parse-fail\", fmt_ratio_2(parse_fail, bench_total))\n",
    "in_progress = bench_total - finished_count - parse_fail - no_proof\n",
    "print(\"in-progress\", fmt_ratio_2(in_progress, bench_total))"
   ]
  },
  {
   "cell_type": "code",
   "execution_count": null,
   "metadata": {},
   "outputs": [],
   "source": [
    "for q in mv.status[DebuggerStatus.NO_PROOF]:\n",
    "    print('\"' + mv[q].name_hash + '\"', end=\", \")"
   ]
  },
  {
   "cell_type": "code",
   "execution_count": null,
   "metadata": {},
   "outputs": [],
   "source": [
    "dirs_to_send = []\n",
    "additional = \"\"\n",
    "\n",
    "for q in mv.fixable:\n",
    "    r = mv[q]\n",
    "    if r.name_hash in LIKELY_FIXED:\n",
    "        continue\n",
    "    r.collect_garbage()\n",
    "    dirs_to_send += r.get_dirs_to_sync()\n",
    "    additional += f\"\\\"{r.name_hash}\\\",\\n\"\n",
    "\n",
    "print(additional)\n",
    "\n",
    "for i, d in enumerate(dirs_to_send):\n",
    "    if i % 5 == 0:\n",
    "        print(\"echo '\", (i //5 +1), \"/\", len(dirs_to_send)//5, \"'\")\n",
    "    print(\"rsync -avz\", d, \"g2001:/home/yizhou7/mariposa/\", \"--inplace\", \"--delete\", \"--relative\")"
   ]
  },
  {
   "cell_type": "code",
   "execution_count": 7,
   "metadata": {},
   "outputs": [],
   "source": [
    "from utils.analysis_utils import Categorizer\n",
    "\n",
    "f_modes = Categorizer()\n",
    "\n",
    "for query in mv.unfixable | mv.status[DebuggerStatus.SINGLETON_NOT_RAN].items:\n",
    "    rev: Evaluator = mv[query]\n",
    "    mi = rev.get_trace_info()\n",
    "    reason = mi.get_failed_reason()\n",
    "    f_modes.add_item(reason, query)\n",
    "\n",
    "f_modes.finalize()"
   ]
  },
  {
   "cell_type": "code",
   "execution_count": 8,
   "metadata": {},
   "outputs": [
    {
     "name": "stdout",
     "output_type": "stream",
     "text": [
      "| category                  |   count | percentage   |\n",
      "|---------------------------|---------|--------------|\n",
      "| TraceFailure.TIMEOUT      |     114 | 82.61 %      |\n",
      "| TraceFailure.FAST_UNKNOWN |      21 | 15.22 %      |\n",
      "| TraceFailure.SLOW_UNKNOWN |       3 | 2.17 %       |\n",
      "| total                     |     138 | 100.00 %     |\n"
     ]
    }
   ],
   "source": [
    "f_modes.print_status()"
   ]
  },
  {
   "cell_type": "code",
   "execution_count": 10,
   "metadata": {},
   "outputs": [
    {
     "name": "stdout",
     "output_type": "stream",
     "text": [
      "data/projs/bench_unstable/base.z3/d_komodo--verified-map_common.gen.dfyImpl___module.__default.va__lemma__init__secure__page.smt2\n",
      "data/projs/bench_unstable/base.z3/d_lvbkv--lib-Buckets-PackedKV.i.dfy.Impl__DynamicPkv.__default.MergeToChildrenIter.smt2\n",
      "data/projs/bench_unstable/base.z3/d_lvbkv--MapSpec-TSJ.i.dfy.Impl__TSJ.__default.Move2to3StepPreservesInv.smt2\n",
      "data/projs/bench_unstable/base.z3/d_komodo--verified-init_dispatcher.gen.dfyImpl___module.__default.va__lemma__init__dispatcher__page__zero.smt2\n",
      "data/projs/bench_unstable/base.z3/d_komodo--verified-allocate_page.gen.dfyImpl___module.__default.va__lemma__allocate__page__success.smt2\n",
      "data/projs/bench_unstable/base.z3/d_komodo--verified-ptebits.i.dfyImpl___module.__default.lemma__ARM__L2PTE__helper_split1.smt2\n",
      "data/projs/bench_unstable/base.z3/d_lvbkv--lib-DataStructures-BtreeModel.i.dfy.Impl__BtreeModel.__default.InsertLeafIsCorrect.smt2\n",
      "data/projs/bench_unstable/base.z3/d_lvbkv--Impl-NodeImpl.i.dfy.Impl__NodeImpl.Node.CutoffNodeAndKeepRight.smt2\n",
      "data/projs/bench_unstable/base.z3/d_fvbkv--lib-DataStructures-LruImpl.i.dfy.Impl__LruImpl.LruImplQueue.Use.smt2\n",
      "data/projs/bench_unstable/base.z3/d_fvbkv--Impl-CoordinationImpl.i.dfy.Impl__CoordinationImpl.__default.insert.smt2\n",
      "data/projs/bench_unstable/base.z3/d_lvbkv--PivotBetree-PivotBetreeSpecRefinement.i.dfy.Impl__PivotBetreeSpecRefinement.__default.RefinesValidSplit.smt2\n",
      "data/projs/bench_unstable/base.z3/d_komodo--verified-stop.gen.dfyImpl___module.__default.va__lemma__kom__smc__stop.smt2\n",
      "data/projs/bench_unstable/base.z3/fs_vwasm--semantics-temp-queries-Views-18.smt2\n",
      "data/projs/bench_unstable/base.z3/d_komodo--verified-memset.gen.dfyImpl___module.__default.va__lemma__memcpy__bare.smt2\n",
      "data/projs/bench_unstable/base.z3/d_fvbkv--lib-DataStructures-KMBtree.i.dfy.Impl__KMBtree.__default.SplitChildOfIndex.smt2\n",
      "data/projs/bench_unstable/base.z3/d_komodo--verified-sha-sha256.i.dfyImpl___module.__default.SHA__padding__words2bytes.smt2\n",
      "data/projs/bench_unstable/base.z3/d_komodo--verified-attest.gen.dfyImpl___module.__default.va__lemma__svc__returning__attest__inner.smt2\n",
      "data/projs/bench_unstable/base.z3/d_komodo--verified-init_l2ptable.gen.dfyImpl___module.__default.va__lemma__init__l2ptable__success.smt2\n",
      "data/projs/bench_unstable/base.z3/d_komodo--verified-init_l2ptable.gen.dfyImpl___module.__default.va__lemma__zero__l2__page.smt2\n",
      "data/projs/bench_unstable/base.z3/d_komodo--verified-entry.gen.dfyImpl___module.__default.va__lemma__unstack__banked__regs1.smt2\n",
      "data/projs/bench_unstable/base.z3/d_komodo--verified-map_insecure.gen.dfyImpl___module.__default.va__lemma__kom__smc__map__insecure.smt2\n",
      "data/projs/bench_unstable/base.z3/d_komodo--verified-secprop-conf_ni_entry.i.dfyImpl___module.__default.lemma__validEnclaveStepPrime__conf__not__atkr__retnondet.smt2\n",
      "data/projs/bench_unstable/base.z3/d_fvbkv--BlockCacheSystem-BlockJournalCache.i.dfy.Impl__BlockJournalCache.__default.NextPreservesInv.smt2\n",
      "data/projs/bench_unstable/base.z3/d_komodo--verified-smcapi.i.dfyImpl___module.__default.kom__smc__map__measure__helper1.smt2\n",
      "data/projs/bench_unstable/base.z3/d_fvbkv--Impl-MarshallingImpl.i.dfy.Impl__MarshallingImpl.__default.strictlySortedKeySeqToVal.smt2\n",
      "data/projs/bench_unstable/base.z3/d_komodo--verified-finalise.gen.dfyImpl___module.__default.lemma__kom__smc__finalise__success__helper1.smt2\n",
      "data/projs/bench_unstable/base.z3/d_lvbkv--lib-Buckets-PackedKV.i.dfy.Impl__DynamicPkv.__default.MergeToOneChild.smt2\n",
      "data/projs/bench_unstable/base.z3/d_komodo--verified-exception_handlers.gen.dfyCheckWellformed___module.__default.va__lemma__save__disp__context__helper.smt2\n",
      "data/projs/bench_unstable/base.z3/d_fvbkv--Impl-FlushPolicyImpl.i.dfy.Impl__FlushPolicyImpl.__default.getActionToFlush.smt2\n",
      "data/projs/bench_unstable/base.z3/d_komodo--verified-svc_handlers.gen.dfyImpl___module.__default.va__lemma__svc__map__data__success.smt2\n",
      "data/projs/bench_unstable/base.z3/d_lvbkv--BlockCacheSystem-BetreeJournalSystem.i.dfy.Impl__BetreeJournalSystem.__default.OkaySendPersistentLocStep.smt2\n",
      "data/projs/bench_unstable/base.z3/d_komodo--verified-secprop-integ_ni_entry.i.dfyImpl___module.__default.lemma__enter__enc__obs__enter.smt2\n",
      "data/projs/bench_unstable/base.z3/d_lvbkv--Impl-SyncImpl.i.dfy.Impl__SyncImpl.__default.sync.smt2\n",
      "data/projs/bench_unstable/base.z3/d_komodo--verified-svc_handlers.gen.dfyImpl___module.__default.va__lemma__svc__unmap__data__success.smt2\n",
      "data/projs/bench_unstable/base.z3/d_komodo--verified-svc_handlers.gen.dfyImpl___module.__default.va__lemma__get__cur__addrspace.smt2\n",
      "data/projs/bench_unstable/base.z3/d_komodo--verified-entrybits.i.dfyImpl___module.__default.lemma__sp__bit__helper.smt2\n",
      "data/projs/bench_unstable/base.z3/d_komodo--verified-svc_handlers.gen.dfyImpl___module.__default.lemma__svc__returning__verify__step1__helper.smt2\n",
      "data/projs/bench_unstable/base.z3/d_komodo--verified-entry.gen.dfyImpl___module.__default.va__lemma__unstack__banked__regs2.smt2\n",
      "data/projs/bench_unstable/base.z3/d_komodo--verified-entry.gen.dfyImpl___module.__default.va__lemma__kom__smc__enterresume.smt2\n",
      "data/projs/bench_unstable/base.z3/d_komodo--verified-secprop-conf_ni_entry.i.dfyImpl___module.__default.lemma__updateUserPages__conf__not__atkr.smt2\n",
      "data/projs/bench_unstable/base.z3/d_komodo--verified-exception_handlers.gen.dfyImpl___module.__default.va__lemma__save__disp__context.smt2\n",
      "data/projs/bench_unstable/base.z3/d_fvbkv--lib-Base-BitsetLemmas.i.dfy.Impl__BitsetLemmas.__default.set__bit__to__1__self__uint64.smt2\n",
      "data/projs/bench_unstable/base.z3/d_komodo--verified-map_common.gen.dfyImpl___module.__default.va__lemma__is__valid__mapping__target.smt2\n",
      "data/projs/bench_unstable/base.z3/d_fvbkv--lib-Base-BitsetLemmas.i.dfy.Impl__BitsetLemmas.__default.set__bit__to__0__other__uint64.smt2\n",
      "data/projs/bench_unstable/base.z3/d_komodo--verified-entry.gen.dfyImpl___module.__default.va__lemma__switch__addrspace.smt2\n",
      "data/projs/bench_unstable/base.z3/d_komodo--verified-entry.gen.dfyImpl___module.__default.va__lemma__unstack__banked__regs3.smt2\n",
      "data/projs/bench_unstable/base.z3/d_komodo--verified-entry.gen.dfyImpl___module.__default.va__lemma__pre__entry__resume.smt2\n",
      "data/projs/bench_unstable/base.z3/d_lvbkv--Impl-FlushPolicyImpl.i.dfy.Impl__FlushPolicyImpl.__default.runFlushPolicy.smt2\n",
      "data/projs/bench_unstable/base.z3/d_komodo--verified-attest.gen.dfyImpl___module.__default.va__lemma__compute__hmac_split0.smt2\n",
      "data/projs/bench_unstable/base.z3/d_lvbkv--Impl-FlushPolicyImpl.i.dfy.Impl__FlushPolicyImpl.__default.getActionToFlush.smt2\n",
      "data/projs/bench_unstable/base.z3/d_komodo--verified-secprop-conf_ni_entry.i.dfyImpl___module.__default.lemma__enter__conf__atkr__enter.smt2\n",
      "data/projs/bench_unstable/base.z3/d_komodo--verified-init_dispatcher.gen.dfyImpl___module.__default.va__lemma__init__dispatcher__page__zeros.smt2\n",
      "data/projs/bench_unstable/base.z3/d_komodo--verified-secprop-integ_ni_entry.i.dfyImpl___module.__default.lemma__enter__loweq__pdb__not__obs.smt2\n",
      "data/projs/bench_unstable/base.z3/d_komodo--verified-sha-sha256-api.gen.dfyImpl___module.__default.va__abstract__sha256__one__shot.smt2\n",
      "data/projs/bench_unstable/base.z3/d_komodo--verified-svc_handlers.gen.dfyImpl___module.__default.va__lemma__existing__va__ok.smt2\n",
      "data/projs/bench_unstable/base.z3/d_komodo--verified-entry.gen.dfyImpl___module.__default.va__lemma__smc__enter__err.smt2\n",
      "data/projs/bench_unstable/base.z3/d_lvbkv--Impl-MarshallingImpl.i.dfy.Impl__MarshallingImpl.__default.strictlySortedPivotsToVal.smt2\n",
      "data/projs/bench_unstable/base.z3/d_komodo--verified-alloc_spare.gen.dfyImpl___module.__default.va__lemma__kom__smc__alloc__spare.smt2\n",
      "data/projs/bench_unstable/base.z3/d_komodo--verified-exception_handlers.gen.dfyImpl___module.__default.va__lemma__abort__handler.smt2\n",
      "data/projs/bench_unstable/base.z3/d_fvbkv--lib-DataStructures-MutableBtree.i.dfy.Impl__MutableBtree.__default.SplitChildOfIndex.smt2\n",
      "data/projs/bench_unstable/base.z3/d_fvbkv--lib-Base-SetBijectivity.i.dfy.Impl__SetBijectivity.__default.CrossProductCardinality.smt2\n",
      "data/projs/bench_unstable/base.z3/d_komodo--verified-entry.gen.dfyImpl___module.__default.va__lemma__stack__banked__regs1.smt2\n",
      "data/projs/bench_unstable/base.z3/d_komodo--verified-finalise.gen.dfyImpl___module.__default.va__lemma__kom__smc__finalise.smt2\n",
      "data/projs/bench_unstable/base.z3/d_komodo--verified-verify.gen.dfyImpl___module.__default.va__lemma__svc__returning__verify__inner_k.smt2\n",
      "data/projs/bench_unstable/base.z3/d_komodo--verified-entry.gen.dfyImpl___module.__default.va__lemma__unstack__banked__regs.smt2\n",
      "data/projs/bench_unstable/base.z3/d_fvbkv--lib-Base-BitsetLemmas.i.dfy.Impl__BitsetLemmas.__default.set__bit__to__0__self__uint64.smt2\n",
      "data/projs/bench_unstable/base.z3/d_komodo--verified-secprop-conf_ni_entry.i.dfyImpl___module.__default.lemma__userspaceExec__atkr.smt2\n",
      "data/projs/bench_unstable/base.z3/d_lvbkv--Impl-SplitModel.i.dfy.Impl__SplitModel.__default.doSplitCorrect.smt2\n",
      "data/projs/bench_unstable/base.z3/d_komodo--verified-map_common.gen.dfyImpl___module.__default.va__lemma__update__l2pte.smt2\n",
      "data/projs/bench_unstable/base.z3/d_fvbkv--lib-Buckets-PackedKV.i.dfy.Impl__PackedKV.__default.BinarySearchQuery.smt2\n",
      "data/projs/bench_unstable/base.z3/d_komodo--verified-entry.gen.dfyImpl___module.__default.va__lemma__stack__banked__regs3.smt2\n",
      "data/projs/bench_unstable/base.z3/d_fvbkv--lib-Buckets-PackedKV.i.dfy.Impl__DynamicPkv.__default.MergeToChildrenIter.smt2\n",
      "data/projs/bench_unstable/base.z3/d_komodo--verified-init_addrspace.gen.dfyImpl___module.__default.va__lemma__kom__smc__init__addrspace.smt2\n",
      "data/projs/bench_unstable/base.z3/d_lvbkv--ByteBlockCacheSystem-InterpretationDisk.i.dfy.Impl__InterpretationDisk.__default.RefinesProcessRead__Journal__1.smt2\n",
      "data/projs/bench_unstable/base.z3/d_fvbkv--Impl-GrowImpl.i.dfy.Impl__GrowImpl.__default.grow.smt2\n",
      "data/projs/bench_unstable/base.z3/d_fvbkv--lib-Buckets-PackedKV.i.dfy.Impl__DynamicPkv.DynamicPkv.AppendPkv.smt2\n",
      "data/projs/bench_unstable/base.z3/d_fvbkv--Betree-BetreeInv.i.dfy.Impl__BetreeInv.__default.RedirectPreservesLookups.smt2\n",
      "data/projs/bench_unstable/base.z3/d_fvbkv--lib-Buckets-KMBPKVOps.i.dfy.Impl__KMBPKVOps.__default.FromPkv.smt2\n",
      "data/projs/bench_unstable/base.z3/d_komodo--verified-entry.gen.dfyImpl___module.__default.va__lemma__stack__banked__regs2.smt2\n",
      "data/projs/bench_unstable/base.z3/d_komodo--verified-allocate_page.gen.dfyImpl___module.__default.va__lemma__addrspace__incref.smt2\n",
      "data/projs/bench_unstable/base.z3/d_komodo--verified-svc_handlers.gen.dfyImpl___module.__default.va__lemma__svc__map__data__zeropage.smt2\n",
      "data/projs/bench_unstable/base.z3/d_fvbkv--Betree-BetreeInv.i.dfy.Impl__BetreeInv.__default.FlushPreservesLookups.smt2\n",
      "data/projs/bench_unstable/base.z3/d_fvbkv--lib-Base-sequences.i.dfy.Impl__Sequences.__default.lemma__concatSeqLen__le__mul.smt2\n",
      "data/projs/bench_unstable/base.z3/d_fvbkv--lib-Buckets-KMBPKVOps.i.dfy.Impl__KMBPKVOps.__default.IndexFillDpkv.smt2\n",
      "data/projs/bench_unstable/base.z3/d_fvbkv--lib-DataStructures-MutableMapModel.i.dfy.Impl__MutableMapModel.__default.LemmaReallocIterateResult.smt2\n",
      "data/projs/bench_unstable/base.z3/d_fvbkv--BlockCacheSystem-JournalRange.i.dfy.Impl__JournalRanges.__default.parseJournalRangeAdditive.smt2\n",
      "data/projs/bench_unstable/base.z3/d_komodo--verified-map_secure.gen.dfyImpl___module.__default.va__lemma__kom__smc__map__secure.smt2\n",
      "data/projs/bench_unstable/base.z3/d_fvbkv--lib-DataStructures-MutableBtreeBulkOperations.i.dfy.Impl__MutableBtreeBulkOperations.__default.ToSeqSubtree.smt2\n",
      "data/projs/bench_unstable/base.z3/d_komodo--verified-smc_handler.gen.dfyImpl___module.__default.va__lemma__smc__handler__inner.smt2\n",
      "data/projs/bench_unstable/base.z3/d_fvbkv--Impl-DeallocImpl.i.dfy.Impl__DeallocImpl.__default.Dealloc.smt2\n",
      "data/projs/bench_unstable/base.z3/d_komodo--verified-map_secure.gen.dfyImpl___module.__default.va__lemma__map__secure__update.smt2\n",
      "data/projs/bench_unstable/base.z3/d_lvbkv--Betree-BetreeInv.i.dfy.Impl__BetreeInv.__default.RedirectPreservesLookups.smt2\n",
      "data/projs/bench_unstable/base.z3/d_fvbkv--BlockCacheSystem-JournalInterval.i.dfy.Impl__JournalIntervals.__default.Disk__Journal__append.smt2\n",
      "data/projs/bench_unstable/base.z3/d_komodo--verified-map_common.gen.dfyImpl___module.__default.va__lemma__insecure__phys__to__virt.smt2\n",
      "data/projs/bench_unstable/base.z3/d_lvbkv--Impl-MainHandlers.i.dfy.Impl__MainHandlers.__default.SystemRefinesCrashSafeMapInit.smt2\n",
      "data/projs/bench_unstable/base.z3/d_lvbkv--lib-Checksums-CRC32C_Lemmas.i.dfy.Impl__CRC32C__Lemmas.__default.four__slices.smt2\n",
      "data/projs/bench_unstable/base.z3/d_komodo--verified-sha-sha256-body-16-xx.gen.dfyImpl___module.__default.va__refined__Body__16__XXUnroller.smt2\n",
      "data/projs/bench_unstable/base.z3/d_lvbkv--lib-Buckets-PackedStringArray.i.dfy.Impl__PackedStringArray.__default.WFpsaSubSeq.smt2\n",
      "data/projs/bench_unstable/base.z3/d_komodo--verified-entry.i.dfyImpl___module.__default.lemma__evalMOVSPCLRUC__inner.smt2\n",
      "data/projs/bench_unstable/base.z3/d_lvbkv--lib-Buckets-PackedStringArray.i.dfy.Impl__PackedStringArray.__default.psaCanAppendI.smt2\n",
      "data/projs/bench_unstable/base.z3/d_komodo--verified-verify.gen.dfyImpl___module.__default.va__lemma__svc__returning__verify__inner.smt2\n",
      "data/projs/bench_unstable/base.z3/d_fvbkv--lib-DataStructures-BtreeModel.i.dfy.Impl__BtreeModel.__default.SplitIndexAllKeys.smt2\n",
      "data/projs/bench_unstable/base.z3/d_komodo--verified-smc_handler.gen.dfyImpl___module.__default.va__lemma__maybe__inject__interrupt.smt2\n",
      "data/projs/bench_unstable/base.z3/d_fvbkv--Impl-JournalistMarshallingModel.i.dfy.Impl__JournalistMarshallingModel.__default.parseEntriesFromHasEntriesI.smt2\n",
      "data/projs/bench_unstable/base.z3/d_komodo--verified-map_common.gen.dfyImpl___module.__default.va__lemma__is__valid__mapping__target_k.smt2\n",
      "data/projs/bench_unstable/base.z3/d_lvbkv--MapSpec-TSJMap_Refines_ThreeStateVersionedMap.i.dfy.Impl__TSJMap__Refines__ThreeStateVersionedMap.__default.RefinesReplay.smt2\n",
      "data/projs/bench_unstable/base.z3/d_fvbkv--Impl-IndirectionTableImpl.i.dfy.Impl__IndirectionTableImpl.IndirectionTable.ComputeRefCounts.smt2\n",
      "data/projs/bench_unstable/base.z3/d_fvbkv--lib-Base-BitsetLemmas.i.dfy.Impl__BitsetLemmas.__default.set__bit__to__1__other__uint64.smt2\n",
      "data/projs/bench_unstable/base.z3/d_komodo--verified-svc_handlers.gen.dfyImpl___module.__default.lemma__svc__returning__verify__step0__helper.smt2\n",
      "data/projs/bench_unstable/base.z3/d_lvbkv--lib-DataStructures-LinearContentMutableMap.i.dfy.Impl__LinearContentMutableMap.__default.Realloc.smt2\n",
      "data/projs/bench_unstable/base.z3/d_lvbkv--Betree-BetreeInv.i.dfy.Impl__BetreeInv.__default.FlushPreservesLookups.smt2\n",
      "data/projs/bench_unstable/base.z3/d_komodo--verified-entry.i.dfyImpl___module.__default.lemma__partialEnclaveExecution__append.smt2\n",
      "data/projs/bench_unstable/base.z3/d_lvbkv--lib-Buckets-PackedKV.i.dfy.Impl__PackedKV.__default.BinarySearchQuery.smt2\n",
      "data/projs/bench_unstable/base.z3/d_komodo--verified-init_l2ptable.gen.dfyImpl___module.__default.va__lemma__install__l1ptes.smt2\n"
     ]
    }
   ],
   "source": [
    "from debugger.mutant_info import TraceFailure\n",
    "\n",
    "for q in f_modes[TraceFailure.TIMEOUT]:\n",
    "    print(q)"
   ]
  },
  {
   "cell_type": "code",
   "execution_count": 14,
   "metadata": {},
   "outputs": [
    {
     "name": "stdout",
     "output_type": "stream",
     "text": [
      "data/projs/bench_unstable/base.z3/fs_dice--queries-L0.Impl.Certificate-16.smt2\n",
      "data/projs/bench_unstable/base.z3/d_fvbkv--ByteBlockCacheSystem-ByteSystem.i.dfy.Impl__ByteSystem.__default.ReqWrite2StepPreservesInv.smt2\n",
      "data/projs/bench_unstable/base.z3/fs_dice--queries-L0.Impl.Certificate-14.smt2\n",
      "data/projs/bench_unstable/base.z3/fs_dice--queries-L0.X509.DeviceIDCRI-18.smt2\n",
      "data/projs/bench_unstable/base.z3/d_fvbkv--ByteBlockCacheSystem-ByteSystem.i.dfy.Impl__ByteSystem.__default.RespReadStepPreservesInv.smt2\n",
      "data/projs/bench_unstable/base.z3/d_lvbkv--Impl-QueryImpl.i.dfy.Impl__QueryImpl.__default.queryIterate.smt2\n",
      "data/projs/bench_unstable/base.z3/d_fvbkv--ByteBlockCacheSystem-ByteSystem.i.dfy.Impl__ByteSystem.__default.ReqWriteStepPreservesInv.smt2\n",
      "data/projs/bench_unstable/base.z3/fs_dice--queries-L0.Impl.Certificate-12.smt2\n",
      "data/projs/bench_unstable/base.z3/d_fvbkv--ByteBlockCacheSystem-ByteSystem.i.dfy.Impl__ByteSystem.__default.RespWriteStepPreservesInv.smt2\n",
      "data/projs/bench_unstable/base.z3/d_fvbkv--Impl-HandleWriteResponseImpl.i.dfy.Impl__HandleWriteResponseImpl.__default.writeResponse.smt2\n",
      "data/projs/bench_unstable/base.z3/fs_dice--queries-L0.X509.AliasKeyTBS-6.smt2\n",
      "data/projs/bench_unstable/base.z3/fs_dice--queries-L0.Impl.Certificate-8.smt2\n",
      "data/projs/bench_unstable/base.z3/d_fvbkv--ByteBlockCacheSystem-ByteSystem.i.dfy.Impl__ByteSystem.__default.ReqReadStepPreservesInv.smt2\n",
      "data/projs/bench_unstable/base.z3/d_fvbkv--Impl-QueryImpl.i.dfy.Impl__QueryImpl.__default.queryIterate.smt2\n",
      "data/projs/bench_unstable/base.z3/d_lvbkv--Impl-IOImpl.i.dfy.Impl__IOImpl.__default.PageInNodeResp.smt2\n",
      "data/projs/bench_unstable/base.z3/d_fvbkv--Impl-CoordinationImpl.i.dfy.Impl__CoordinationImpl.__default.initialization.smt2\n",
      "data/projs/bench_unstable/base.z3/fs_dice--queries-L0.X509.DeviceIDCRI-12.smt2\n",
      "data/projs/bench_unstable/base.z3/fs_dice--queries-L0.X509.DeviceIDCRI.Subject-12.smt2\n"
     ]
    }
   ],
   "source": [
    "for q in mv.status[DebuggerStatus.SINGLETON_CREATION_UNATTEMPTED].items | mv.status[DebuggerStatus.SINGLETON_CREATION_FAILED].items:\n",
    "    print(q)"
   ]
  },
  {
   "cell_type": "code",
   "execution_count": null,
   "metadata": {},
   "outputs": [],
   "source": [
    "from debugger.mutant_info import TraceFailure\n",
    "\n",
    "def double_check_tested(ev: Evaluator):\n",
    "    # mi = ev.get_trace_info()\n",
    "    # trace_size = mi.get_trace_size()\n",
    "    # if trace_size > 300 * 1024 * 1024:\n",
    "    #     return (trace_size, ev.name_hash, mi.trace_path)\n",
    "    actions = ev.editor.get_singleton_actions()\n",
    "    expected = len(actions)\n",
    "    tested = len(ev.build_report().tested)\n",
    "    if tested != expected:\n",
    "        return (expected, tested, ev.name_hash)\n",
    "    return None\n",
    "\n",
    "# for q in f_modes[TraceFailure.TIMEOUT]:\n",
    "#     ev = mv[q]\n",
    "\n",
    "from multiprocessing import Pool\n",
    "pool = Pool(6)\n",
    "\n",
    "res = pool.map(double_check_tested, [mv[q] for q in mv.unfixable])\n",
    "res = [r for r in res if r is not None]"
   ]
  },
  {
   "cell_type": "code",
   "execution_count": null,
   "metadata": {},
   "outputs": [],
   "source": [
    "# count = 0\n",
    "# for (actions, tested, hash) in res:\n",
    "#     if len(actions) <= tested:\n",
    "#         continue\n",
    "#     print(f\"echo {count}/61\")\n",
    "#     print(\"rm -r data/projs/singleton_\" + hash)\n",
    "#     print(\"rm -r data/dbs/singleton_\" + hash)\n",
    "#     print(\"rm -r data/projs/singleton_\" + hash + \".filtered\")\n",
    "#     print(\"rm -r data/dbs/singleton_\" + hash + \".filtered\")\n",
    "#     print(\"rm ./cache/\" + hash + \".report\")\n",
    "#     print(\"rm dbg/\" + hash + \"/edits.json\")\n",
    "#     print(\"./src/debugger3.py --create-singleton -i\", hash)\n",
    "#     count += 1\n"
   ]
  },
  {
   "cell_type": "code",
   "execution_count": null,
   "metadata": {},
   "outputs": [],
   "source": []
  }
 ],
 "metadata": {
  "kernelspec": {
   "display_name": "Python 3",
   "language": "python",
   "name": "python3"
  },
  "language_info": {
   "codemirror_mode": {
    "name": "ipython",
    "version": 3
   },
   "file_extension": ".py",
   "mimetype": "text/x-python",
   "name": "python",
   "nbconvert_exporter": "python",
   "pygments_lexer": "ipython3",
   "version": "3.8.10"
  }
 },
 "nbformat": 4,
 "nbformat_minor": 2
}
